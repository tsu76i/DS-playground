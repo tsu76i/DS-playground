{
 "cells": [
  {
   "cell_type": "markdown",
   "id": "7b94b1ec",
   "metadata": {},
   "source": [
    "# Regressions From Scratch\n",
    "***\n",
    "## Table of Contents\n",
    "1. [Loading Data (Linear)](#content1)\n",
    "2. [Linear Regression](#content2)\n",
    "3. [Loss Function (MSE)](#content3)\n",
    "4. [Gradient Descent (Linear)](#content4)\n",
    "5. [Compare with Scikit-Learn](#content5)\n",
    "6. [Loading Data (Logistic)](#content6)\n",
    "7. [Logistic Regression](#content7)\n",
    "8. [Loss Function (BCE)](#content8)\n",
    "9. [Gradient Descent (Logistic)](#content9)\n",
    "***"
   ]
  },
  {
   "cell_type": "code",
   "execution_count": 103,
   "id": "fb836c16",
   "metadata": {},
   "outputs": [],
   "source": [
    "import numpy as np\n",
    "import matplotlib.pyplot as plt\n",
    "import pandas as pd\n",
    "from tqdm import tqdm"
   ]
  },
  {
   "cell_type": "markdown",
   "id": "c9b3c128",
   "metadata": {},
   "source": [
    "<a class=\"anchor\" id=\"content1\"></a>\n",
    "## 1. Loading Data (Linear)"
   ]
  },
  {
   "cell_type": "code",
   "execution_count": 104,
   "id": "0574274e",
   "metadata": {},
   "outputs": [],
   "source": [
    "linear_data = pd.read_csv(\"linear_data.txt\", header=None)\n",
    "x_lin = np.array(linear_data.iloc[:, 0])\n",
    "y_lin = np.array(linear_data.iloc[:, 1])"
   ]
  },
  {
   "cell_type": "code",
   "execution_count": 105,
   "id": "fafc3209",
   "metadata": {},
   "outputs": [
    {
     "data": {
      "image/png": "[encoded data removed]",
      "text/plain": [
       "<Figure size 640x480 with 1 Axes>"
      ]
     },
     "metadata": {},
     "output_type": "display_data"
    }
   ],
   "source": [
    "plt.scatter(x_lin, y_lin)\n",
    "plt.xlabel('x')\n",
    "plt.ylabel('y')\n",
    "plt.show()"
   ]
  },
  {
   "cell_type": "markdown",
   "id": "81fd26fb",
   "metadata": {},
   "source": [
    "## 2. Linear Regression <a class=\"anchor\" id=\"content2\"></a>\n",
    "\n",
    "Let's say there is a simple linear regression:\n",
    "\n",
    "\\begin{align*}\n",
    "y = h = wx + b\n",
    "\\end{align*}\n",
    "\n",
    "Where:\n",
    "\n",
    "- $x$ is the independent variable,\n",
    "- $w$ is the slope (weight, coefficient of $x$), and\n",
    "- $b$ is the intercept (bias, constant term).\n",
    "\n",
    "A linear regression model provides numerical predictions as a straight line on a dataset, assuming a linear reiatonship between two numerical variables."
   ]
  },
  {
   "cell_type": "code",
   "execution_count": 106,
   "id": "1e371ae5",
   "metadata": {},
   "outputs": [],
   "source": [
    "# ! Linear function h\n",
    "def h(w: float, b: float, x: float) -> float:\n",
    "    return w * x + b"
   ]
  },
  {
   "cell_type": "markdown",
   "id": "c1480a46",
   "metadata": {},
   "source": [
    "## 3. Loss Function (MSE) <a class=\"anchor\" id=\"content3\"></a>\n",
    "The loss function (or the cost function) quantifies the error between the predicted values produced by a model and the actual target values from the data. Common loss functions are Mean Squared Error (MSE) for regression problems, and Cross-Entropy Loss for classification tasks.\n",
    "Here's the equation of MSE:\n",
    "\n",
    "\\begin{align*}\n",
    "L = \\dfrac{1}{n} \\sum_{i=1}^{n} (y_i - \\hat{y_i})^2\n",
    "\\end{align*}\n",
    "Where:\n",
    "- $y$ is the actual value.\n",
    "- $\\hat{y}$ is the predicted value.\n",
    "- $n$ is the number of data points\n",
    "\n",
    "MSE is simply the average squared difference between the actual and the predicted values in the dataset."
   ]
  },
  {
   "cell_type": "code",
   "execution_count": 107,
   "id": "8ef83d1a",
   "metadata": {},
   "outputs": [],
   "source": [
    "# ! Loss function L - Mean Squared Error (MSE)\n",
    "def calculate_loss_MSE(w: float, b: float, x: np.array, y: np.array) -> float:\n",
    "    total_err: float = 0.0\n",
    "    for i in range(len(x)):\n",
    "        y_hat = h(w, b, x[i])\n",
    "        total_err += (y[i]-y_hat) ** 2\n",
    "    return total_err/len(x)"
   ]
  },
  {
   "cell_type": "markdown",
   "id": "2512ddf5",
   "metadata": {},
   "source": [
    "## 4. Gradient Descent (Linear) <a class=\"anchor\" id=\"content4\"></a>\n",
    "\n",
    "\n",
    "Gradient Descent is an algorithm that tries to find optimised hyperparameters by iteratively searching for a local minima of the loss function. It is one of the most important concepts in machine learning and is used to reduce errors when training models. There are four types of Gradient Descent: **Batch Gradient Descent**, **Stochastic Gradient Descent**, **Mini-Batch Gradient Descent** and **Momentum-Based Gradient Descent**. For practice purposes, the most basic type, **Batch Gradient Descent**, will be used in this notebook.\n",
    "\n",
    "We compute the derivative (or gradient) of the loss function to determine the slope of the function at a given point. By iteratively adjusting the parameters of the model in the direction opposite to the gradient (gradient descent), the algorithm moves closer to the point where the cost function reaches its minimum value. This occurs when the slope of the function becomes zero, indicating that the gradient has flattened and the cost is minimised. When the slope is steep, we take a big step for each iteration. As we get closer to the optimised value, the step becomes smaller.\n",
    "\n",
    "\\begin{align*}\n",
    "L &= \\dfrac{1}{n} \\sum_{i=1}^{n} (y_i - \\hat{y_i})^2 \\\\\n",
    "&= \\dfrac{1}{n} \\sum_{i=1}^{n} (y_i - (w x_i + b))^2\n",
    "\\end{align*}\n",
    "\n",
    "\n",
    "By applying the power rule $(f(x)^n)' = n \\cdot f(x)^{n-1} \\cdot f'(x)$, the derivatives of the loss function $L$ with respect to two different hyperparameters, $w$ and $b$, are described as follows:\n",
    "\n",
    "\\begin{align*}\n",
    "\\dfrac{dL}{dw} &= \\dfrac{1}{n} \\sum_{n=1}^{n} 2 \\cdot (y_i - w x_i -b) \\cdot \\dfrac{\\partial }{\\partial w} (y_i - w x_i -b) \\\\\n",
    "&= \\dfrac{2}{n} \\sum_{n=1}^{n} (y_i - w x_i -b) \\cdot (-x_i) \\\\\n",
    "&= - \\dfrac{2}{n} \\sum_{n=1}^{n} x_i (y_i - \\hat{y_i})^2\n",
    "\\end{align*}\n",
    "\n",
    "\n",
    "\n",
    "\\begin{align*}\n",
    "\\dfrac{dL}{db} &= \\dfrac{1}{n} \\sum_{n=1}^{n} 2 \\cdot (y_i - w x_i -b) \\cdot \\dfrac{\\partial }{\\partial b} (y_i - w x_i -b) \\\\\n",
    "&= - \\dfrac{2}{n} \\sum_{n=1}^{n} (y_i - \\hat{y_i})^2\n",
    "\\end{align*}"
   ]
  },
  {
   "cell_type": "code",
   "execution_count": 108,
   "id": "92c207b0",
   "metadata": {},
   "outputs": [],
   "source": [
    "# ! Derivative of cost function L\n",
    "def derivative_MSE(x: np.array, y: np.array, y_pred: np.array, n: int) -> tuple[float, float]:\n",
    "    dL_dw: float = -2*np.sum((y - y_pred) * x) / n\n",
    "    dL_db: float = -2*np.sum(y - y_pred) / n\n",
    "    return dL_dw, dL_db"
   ]
  },
  {
   "cell_type": "markdown",
   "id": "8e02ab04",
   "metadata": {},
   "source": [
    "In each iteration of the gradient descent (epoch), the derivatives aboves are calculated and the hyperparameters $w$ and $b$ are be updated as:\n",
    "\n",
    "\\begin{align*}\n",
    "w_{new} = w_{old} - \\alpha \\cdot \\dfrac{\\partial L}{\\partial w}\n",
    "\\end{align*}\n",
    "\n",
    "\\begin{align*}\n",
    "b_{new} = b_{old} - \\alpha \\cdot \\dfrac{\\partial L}{\\partial b}\n",
    "\\end{align*}\n",
    "where $\\alpha$ is called the learning rate, a scaler value that controls the step size of updates during gradient descent."
   ]
  },
  {
   "cell_type": "code",
   "execution_count": 109,
   "id": "3f5285de",
   "metadata": {},
   "outputs": [],
   "source": [
    "# ! Batch Gradient Descent\n",
    "def gradient_descent_linear(w: float, b: float, x: np.array, y: np.array,\n",
    "                            alpha: float, epochs: int, n: int) -> tuple[float, float, np.array]:\n",
    "    loss_list: list[float] = []\n",
    "    for _ in tqdm(range(epochs)):\n",
    "        y_pred: float = h(w, b, x)\n",
    "        loss_list.append(calculate_loss_MSE(w, b, x, y))\n",
    "        dL_dw, dL_db = derivative_MSE(x, y, y_pred, n)\n",
    "        w -= alpha * dL_dw\n",
    "        b -= alpha * dL_db\n",
    "    return w, b, np.array(loss_list)"
   ]
  },
  {
   "cell_type": "code",
   "execution_count": 110,
   "id": "6684a362",
   "metadata": {},
   "outputs": [
    {
     "data": {
      "image/png": "[encoded data removed]",
      "text/plain": [
       "<Figure size 800x500 with 1 Axes>"
      ]
     },
     "metadata": {},
     "output_type": "display_data"
    }
   ],
   "source": [
    "random_w_vals = np.linspace(-5, 5, 100)\n",
    "random_b_vals = np.linspace(-5, 5, 100)\n",
    "trace_lf_list = []\n",
    "\n",
    "for w_val, b_val in zip(random_w_vals, random_b_vals):\n",
    "    trace_lf_list.append(calculate_loss_MSE(w_val, b_val, x_lin, y_lin))\n",
    "trace_lf_w = np.array(trace_lf_list)\n",
    "plt.figure(figsize=(8, 5))\n",
    "plt.plot(trace_lf_w, color='b')\n",
    "\n",
    "min_loss_idx = np.argmin(trace_lf_w)\n",
    "min_loss_value = trace_lf_w[min_loss_idx]\n",
    "# Add a marker at the minimum value\n",
    "plt.scatter(min_loss_idx, min_loss_value,\n",
    "            color=\"red\", marker=\"o\", s=20, zorder=5)\n",
    "plt.annotate(\n",
    "    \"Min. Loss to find\",\n",
    "    xy=(min_loss_idx, min_loss_value),\n",
    "    xytext=(min_loss_idx + 10, min_loss_value + 10),  # Adjust arrow placement\n",
    "    arrowprops=dict(facecolor=\"black\", arrowstyle=\"->\", lw=2),\n",
    "    fontsize=15,\n",
    "    color=\"black\",\n",
    ")\n",
    "plt.title('Loss Function Against Intercept & Bias')\n",
    "plt.xlabel('Intercept & Bias')\n",
    "plt.ylabel('Loss')\n",
    "plt.grid(True)\n",
    "plt.show()"
   ]
  },
  {
   "cell_type": "markdown",
   "id": "8087c1a6",
   "metadata": {},
   "source": [
    "By tracing the curve of the loss function using arbitrary values for $w$ and $b$ (100 data points each evenly spaced between -5 and +5), we obtain a quadratic curve due to the squared term in the MSE formula. The red point at the bottom of the curve represents the point where the regression produces the least amount of error. Gradient descent attempts to find a value as close as possible to this point by optimising the hyperparameters.\n",
    "\n",
    "Let's execute the gradient descent function assuming that $\\alpha = 0.01$, $w=5$, and $b=3$."
   ]
  },
  {
   "cell_type": "code",
   "execution_count": 111,
   "id": "72f340da",
   "metadata": {},
   "outputs": [
    {
     "name": "stderr",
     "output_type": "stream",
     "text": [
      "100%|██████████| 5000/5000 [00:00<00:00, 36516.60it/s]"
     ]
    },
    {
     "name": "stdout",
     "output_type": "stream",
     "text": [
      "Coefficient (GD): 1.19303, Intercept (GD): -3.89578\n"
     ]
    },
    {
     "name": "stderr",
     "output_type": "stream",
     "text": [
      "\n"
     ]
    }
   ],
   "source": [
    "# * alpha: Learning rate\n",
    "alpha = 0.01\n",
    "n = len(y_lin)\n",
    "epochs = 5000\n",
    "# * Assume that w = 5 and b = 3\n",
    "coeff_GD, intercept_GD, loss_array = gradient_descent_linear(\n",
    "    5, 3, x_lin, y_lin, alpha, epochs, n)\n",
    "print(f'Coefficient (GD): {coeff_GD:.5f}, Intercept (GD): {intercept_GD:.5f}')"
   ]
  },
  {
   "cell_type": "markdown",
   "id": "e239ff19",
   "metadata": {},
   "source": [
    "According to the obtained results, the optimised coefficient ($w$) and intercept ($b$) for this dataset are 1.19303 and -3.89578 respectively.\n",
    "\n",
    "Notice that the total loss decreases over epochs as GD iteratively updates the hyperparameters."
   ]
  },
  {
   "cell_type": "code",
   "execution_count": 112,
   "id": "2da2054d",
   "metadata": {},
   "outputs": [
    {
     "data": {
      "image/png": "[encoded data removed]",
      "text/plain": [
       "<Figure size 800x500 with 1 Axes>"
      ]
     },
     "metadata": {},
     "output_type": "display_data"
    }
   ],
   "source": [
    "plt.figure(figsize=(8, 5))\n",
    "plt.plot(loss_array[:20], marker='o', color='b')\n",
    "plt.xlabel('Epochs')\n",
    "plt.ylabel('Loss')\n",
    "plt.title('Loss Over Epochs (Up to 20)')\n",
    "plt.grid(True)\n",
    "plt.show()"
   ]
  },
  {
   "cell_type": "markdown",
   "id": "a1a62288",
   "metadata": {},
   "source": [
    "Here's the visualisation of the linear model above with optimised weight and bias."
   ]
  },
  {
   "cell_type": "code",
   "execution_count": 113,
   "id": "27c8762c",
   "metadata": {},
   "outputs": [
    {
     "data": {
      "image/png": "[encoded data removed]",
      "text/plain": [
       "<Figure size 800x500 with 1 Axes>"
      ]
     },
     "metadata": {},
     "output_type": "display_data"
    }
   ],
   "source": [
    "plt.figure(figsize=(8, 5))\n",
    "plt.scatter(x_lin, y_lin)\n",
    "plt.plot(x_lin, h(coeff_GD, intercept_GD, x_lin), color=\"red\")\n",
    "plt.title('Linear Prediction')\n",
    "plt.xlabel(\"x\")\n",
    "plt.ylabel(\"y\")\n",
    "plt.show()"
   ]
  },
  {
   "cell_type": "markdown",
   "id": "d6a0bc6c",
   "metadata": {},
   "source": [
    "## 5. Compare with Scikit-Learn <a class=\"anchor\" id=\"content5\"></a>\n",
    "Scikit-learn is an open source library for machine learning in Python. It provides a plenty of tools that allow us to quickly build machine learning models."
   ]
  },
  {
   "cell_type": "code",
   "execution_count": 114,
   "id": "b8348c40",
   "metadata": {},
   "outputs": [],
   "source": [
    "# * For LinearRegression() from scikit-learn library, 2D arrays are expected.\n",
    "x_sk = x_lin.reshape(-1, 1)\n",
    "y_sk = y_lin.reshape(-1, 1)"
   ]
  },
  {
   "cell_type": "code",
   "execution_count": 115,
   "id": "addc3bcd",
   "metadata": {},
   "outputs": [
    {
     "data": {
      "text/html": [
       "<style>#sk-container-id-3 {\n",
       "  /* Definition of color scheme common for light and dark mode */\n",
       "  --sklearn-color-text: #000;\n",
       "  --sklearn-color-text-muted: #666;\n",
       "  --sklearn-color-line: gray;\n",
       "  /* Definition of color scheme for unfitted estimators */\n",
       "  --sklearn-color-unfitted-level-0: #fff5e6;\n",
       "  --sklearn-color-unfitted-level-1: #f6e4d2;\n",
       "  --sklearn-color-unfitted-level-2: #ffe0b3;\n",
       "  --sklearn-color-unfitted-level-3: chocolate;\n",
       "  /* Definition of color scheme for fitted estimators */\n",
       "  --sklearn-color-fitted-level-0: #f0f8ff;\n",
       "  --sklearn-color-fitted-level-1: #d4ebff;\n",
       "  --sklearn-color-fitted-level-2: #b3dbfd;\n",
       "  --sklearn-color-fitted-level-3: cornflowerblue;\n",
       "\n",
       "  /* Specific color for light theme */\n",
       "  --sklearn-color-text-on-default-background: var(--sg-text-color, var(--theme-code-foreground, var(--jp-content-font-color1, black)));\n",
       "  --sklearn-color-background: var(--sg-background-color, var(--theme-background, var(--jp-layout-color0, white)));\n",
       "  --sklearn-color-border-box: var(--sg-text-color, var(--theme-code-foreground, var(--jp-content-font-color1, black)));\n",
       "  --sklearn-color-icon: #696969;\n",
       "\n",
       "  @media (prefers-color-scheme: dark) {\n",
       "    /* Redefinition of color scheme for dark theme */\n",
       "    --sklearn-color-text-on-default-background: var(--sg-text-color, var(--theme-code-foreground, var(--jp-content-font-color1, white)));\n",
       "    --sklearn-color-background: var(--sg-background-color, var(--theme-background, var(--jp-layout-color0, #111)));\n",
       "    --sklearn-color-border-box: var(--sg-text-color, var(--theme-code-foreground, var(--jp-content-font-color1, white)));\n",
       "    --sklearn-color-icon: #878787;\n",
       "  }\n",
       "}\n",
       "\n",
       "#sk-container-id-3 {\n",
       "  color: var(--sklearn-color-text);\n",
       "}\n",
       "\n",
       "#sk-container-id-3 pre {\n",
       "  padding: 0;\n",
       "}\n",
       "\n",
       "#sk-container-id-3 input.sk-hidden--visually {\n",
       "  border: 0;\n",
       "  clip: rect(1px 1px 1px 1px);\n",
       "  clip: rect(1px, 1px, 1px, 1px);\n",
       "  height: 1px;\n",
       "  margin: -1px;\n",
       "  overflow: hidden;\n",
       "  padding: 0;\n",
       "  position: absolute;\n",
       "  width: 1px;\n",
       "}\n",
       "\n",
       "#sk-container-id-3 div.sk-dashed-wrapped {\n",
       "  border: 1px dashed var(--sklearn-color-line);\n",
       "  margin: 0 0.4em 0.5em 0.4em;\n",
       "  box-sizing: border-box;\n",
       "  padding-bottom: 0.4em;\n",
       "  background-color: var(--sklearn-color-background);\n",
       "}\n",
       "\n",
       "#sk-container-id-3 div.sk-container {\n",
       "  /* jupyter's `normalize.less` sets `[hidden] { display: none; }`\n",
       "     but bootstrap.min.css set `[hidden] { display: none !important; }`\n",
       "     so we also need the `!important` here to be able to override the\n",
       "     default hidden behavior on the sphinx rendered scikit-learn.org.\n",
       "     See: https://github.com/scikit-learn/scikit-learn/issues/21755 */\n",
       "  display: inline-block !important;\n",
       "  position: relative;\n",
       "}\n",
       "\n",
       "#sk-container-id-3 div.sk-text-repr-fallback {\n",
       "  display: none;\n",
       "}\n",
       "\n",
       "div.sk-parallel-item,\n",
       "div.sk-serial,\n",
       "div.sk-item {\n",
       "  /* draw centered vertical line to link estimators */\n",
       "  background-image: linear-gradient(var(--sklearn-color-text-on-default-background), var(--sklearn-color-text-on-default-background));\n",
       "  background-size: 2px 100%;\n",
       "  background-repeat: no-repeat;\n",
       "  background-position: center center;\n",
       "}\n",
       "\n",
       "/* Parallel-specific style estimator block */\n",
       "\n",
       "#sk-container-id-3 div.sk-parallel-item::after {\n",
       "  content: \"\";\n",
       "  width: 100%;\n",
       "  border-bottom: 2px solid var(--sklearn-color-text-on-default-background);\n",
       "  flex-grow: 1;\n",
       "}\n",
       "\n",
       "#sk-container-id-3 div.sk-parallel {\n",
       "  display: flex;\n",
       "  align-items: stretch;\n",
       "  justify-content: center;\n",
       "  background-color: var(--sklearn-color-background);\n",
       "  position: relative;\n",
       "}\n",
       "\n",
       "#sk-container-id-3 div.sk-parallel-item {\n",
       "  display: flex;\n",
       "  flex-direction: column;\n",
       "}\n",
       "\n",
       "#sk-container-id-3 div.sk-parallel-item:first-child::after {\n",
       "  align-self: flex-end;\n",
       "  width: 50%;\n",
       "}\n",
       "\n",
       "#sk-container-id-3 div.sk-parallel-item:last-child::after {\n",
       "  align-self: flex-start;\n",
       "  width: 50%;\n",
       "}\n",
       "\n",
       "#sk-container-id-3 div.sk-parallel-item:only-child::after {\n",
       "  width: 0;\n",
       "}\n",
       "\n",
       "/* Serial-specific style estimator block */\n",
       "\n",
       "#sk-container-id-3 div.sk-serial {\n",
       "  display: flex;\n",
       "  flex-direction: column;\n",
       "  align-items: center;\n",
       "  background-color: var(--sklearn-color-background);\n",
       "  padding-right: 1em;\n",
       "  padding-left: 1em;\n",
       "}\n",
       "\n",
       "\n",
       "/* Toggleable style: style used for estimator/Pipeline/ColumnTransformer box that is\n",
       "clickable and can be expanded/collapsed.\n",
       "- Pipeline and ColumnTransformer use this feature and define the default style\n",
       "- Estimators will overwrite some part of the style using the `sk-estimator` class\n",
       "*/\n",
       "\n",
       "/* Pipeline and ColumnTransformer style (default) */\n",
       "\n",
       "#sk-container-id-3 div.sk-toggleable {\n",
       "  /* Default theme specific background. It is overwritten whether we have a\n",
       "  specific estimator or a Pipeline/ColumnTransformer */\n",
       "  background-color: var(--sklearn-color-background);\n",
       "}\n",
       "\n",
       "/* Toggleable label */\n",
       "#sk-container-id-3 label.sk-toggleable__label {\n",
       "  cursor: pointer;\n",
       "  display: flex;\n",
       "  width: 100%;\n",
       "  margin-bottom: 0;\n",
       "  padding: 0.5em;\n",
       "  box-sizing: border-box;\n",
       "  text-align: center;\n",
       "  align-items: start;\n",
       "  justify-content: space-between;\n",
       "  gap: 0.5em;\n",
       "}\n",
       "\n",
       "#sk-container-id-3 label.sk-toggleable__label .caption {\n",
       "  font-size: 0.6rem;\n",
       "  font-weight: lighter;\n",
       "  color: var(--sklearn-color-text-muted);\n",
       "}\n",
       "\n",
       "#sk-container-id-3 label.sk-toggleable__label-arrow:before {\n",
       "  /* Arrow on the left of the label */\n",
       "  content: \"▸\";\n",
       "  float: left;\n",
       "  margin-right: 0.25em;\n",
       "  color: var(--sklearn-color-icon);\n",
       "}\n",
       "\n",
       "#sk-container-id-3 label.sk-toggleable__label-arrow:hover:before {\n",
       "  color: var(--sklearn-color-text);\n",
       "}\n",
       "\n",
       "/* Toggleable content - dropdown */\n",
       "\n",
       "#sk-container-id-3 div.sk-toggleable__content {\n",
       "  max-height: 0;\n",
       "  max-width: 0;\n",
       "  overflow: hidden;\n",
       "  text-align: left;\n",
       "  /* unfitted */\n",
       "  background-color: var(--sklearn-color-unfitted-level-0);\n",
       "}\n",
       "\n",
       "#sk-container-id-3 div.sk-toggleable__content.fitted {\n",
       "  /* fitted */\n",
       "  background-color: var(--sklearn-color-fitted-level-0);\n",
       "}\n",
       "\n",
       "#sk-container-id-3 div.sk-toggleable__content pre {\n",
       "  margin: 0.2em;\n",
       "  border-radius: 0.25em;\n",
       "  color: var(--sklearn-color-text);\n",
       "  /* unfitted */\n",
       "  background-color: var(--sklearn-color-unfitted-level-0);\n",
       "}\n",
       "\n",
       "#sk-container-id-3 div.sk-toggleable__content.fitted pre {\n",
       "  /* unfitted */\n",
       "  background-color: var(--sklearn-color-fitted-level-0);\n",
       "}\n",
       "\n",
       "#sk-container-id-3 input.sk-toggleable__control:checked~div.sk-toggleable__content {\n",
       "  /* Expand drop-down */\n",
       "  max-height: 200px;\n",
       "  max-width: 100%;\n",
       "  overflow: auto;\n",
       "}\n",
       "\n",
       "#sk-container-id-3 input.sk-toggleable__control:checked~label.sk-toggleable__label-arrow:before {\n",
       "  content: \"▾\";\n",
       "}\n",
       "\n",
       "/* Pipeline/ColumnTransformer-specific style */\n",
       "\n",
       "#sk-container-id-3 div.sk-label input.sk-toggleable__control:checked~label.sk-toggleable__label {\n",
       "  color: var(--sklearn-color-text);\n",
       "  background-color: var(--sklearn-color-unfitted-level-2);\n",
       "}\n",
       "\n",
       "#sk-container-id-3 div.sk-label.fitted input.sk-toggleable__control:checked~label.sk-toggleable__label {\n",
       "  background-color: var(--sklearn-color-fitted-level-2);\n",
       "}\n",
       "\n",
       "/* Estimator-specific style */\n",
       "\n",
       "/* Colorize estimator box */\n",
       "#sk-container-id-3 div.sk-estimator input.sk-toggleable__control:checked~label.sk-toggleable__label {\n",
       "  /* unfitted */\n",
       "  background-color: var(--sklearn-color-unfitted-level-2);\n",
       "}\n",
       "\n",
       "#sk-container-id-3 div.sk-estimator.fitted input.sk-toggleable__control:checked~label.sk-toggleable__label {\n",
       "  /* fitted */\n",
       "  background-color: var(--sklearn-color-fitted-level-2);\n",
       "}\n",
       "\n",
       "#sk-container-id-3 div.sk-label label.sk-toggleable__label,\n",
       "#sk-container-id-3 div.sk-label label {\n",
       "  /* The background is the default theme color */\n",
       "  color: var(--sklearn-color-text-on-default-background);\n",
       "}\n",
       "\n",
       "/* On hover, darken the color of the background */\n",
       "#sk-container-id-3 div.sk-label:hover label.sk-toggleable__label {\n",
       "  color: var(--sklearn-color-text);\n",
       "  background-color: var(--sklearn-color-unfitted-level-2);\n",
       "}\n",
       "\n",
       "/* Label box, darken color on hover, fitted */\n",
       "#sk-container-id-3 div.sk-label.fitted:hover label.sk-toggleable__label.fitted {\n",
       "  color: var(--sklearn-color-text);\n",
       "  background-color: var(--sklearn-color-fitted-level-2);\n",
       "}\n",
       "\n",
       "/* Estimator label */\n",
       "\n",
       "#sk-container-id-3 div.sk-label label {\n",
       "  font-family: monospace;\n",
       "  font-weight: bold;\n",
       "  display: inline-block;\n",
       "  line-height: 1.2em;\n",
       "}\n",
       "\n",
       "#sk-container-id-3 div.sk-label-container {\n",
       "  text-align: center;\n",
       "}\n",
       "\n",
       "/* Estimator-specific */\n",
       "#sk-container-id-3 div.sk-estimator {\n",
       "  font-family: monospace;\n",
       "  border: 1px dotted var(--sklearn-color-border-box);\n",
       "  border-radius: 0.25em;\n",
       "  box-sizing: border-box;\n",
       "  margin-bottom: 0.5em;\n",
       "  /* unfitted */\n",
       "  background-color: var(--sklearn-color-unfitted-level-0);\n",
       "}\n",
       "\n",
       "#sk-container-id-3 div.sk-estimator.fitted {\n",
       "  /* fitted */\n",
       "  background-color: var(--sklearn-color-fitted-level-0);\n",
       "}\n",
       "\n",
       "/* on hover */\n",
       "#sk-container-id-3 div.sk-estimator:hover {\n",
       "  /* unfitted */\n",
       "  background-color: var(--sklearn-color-unfitted-level-2);\n",
       "}\n",
       "\n",
       "#sk-container-id-3 div.sk-estimator.fitted:hover {\n",
       "  /* fitted */\n",
       "  background-color: var(--sklearn-color-fitted-level-2);\n",
       "}\n",
       "\n",
       "/* Specification for estimator info (e.g. \"i\" and \"?\") */\n",
       "\n",
       "/* Common style for \"i\" and \"?\" */\n",
       "\n",
       ".sk-estimator-doc-link,\n",
       "a:link.sk-estimator-doc-link,\n",
       "a:visited.sk-estimator-doc-link {\n",
       "  float: right;\n",
       "  font-size: smaller;\n",
       "  line-height: 1em;\n",
       "  font-family: monospace;\n",
       "  background-color: var(--sklearn-color-background);\n",
       "  border-radius: 1em;\n",
       "  height: 1em;\n",
       "  width: 1em;\n",
       "  text-decoration: none !important;\n",
       "  margin-left: 0.5em;\n",
       "  text-align: center;\n",
       "  /* unfitted */\n",
       "  border: var(--sklearn-color-unfitted-level-1) 1pt solid;\n",
       "  color: var(--sklearn-color-unfitted-level-1);\n",
       "}\n",
       "\n",
       ".sk-estimator-doc-link.fitted,\n",
       "a:link.sk-estimator-doc-link.fitted,\n",
       "a:visited.sk-estimator-doc-link.fitted {\n",
       "  /* fitted */\n",
       "  border: var(--sklearn-color-fitted-level-1) 1pt solid;\n",
       "  color: var(--sklearn-color-fitted-level-1);\n",
       "}\n",
       "\n",
       "/* On hover */\n",
       "div.sk-estimator:hover .sk-estimator-doc-link:hover,\n",
       ".sk-estimator-doc-link:hover,\n",
       "div.sk-label-container:hover .sk-estimator-doc-link:hover,\n",
       ".sk-estimator-doc-link:hover {\n",
       "  /* unfitted */\n",
       "  background-color: var(--sklearn-color-unfitted-level-3);\n",
       "  color: var(--sklearn-color-background);\n",
       "  text-decoration: none;\n",
       "}\n",
       "\n",
       "div.sk-estimator.fitted:hover .sk-estimator-doc-link.fitted:hover,\n",
       ".sk-estimator-doc-link.fitted:hover,\n",
       "div.sk-label-container:hover .sk-estimator-doc-link.fitted:hover,\n",
       ".sk-estimator-doc-link.fitted:hover {\n",
       "  /* fitted */\n",
       "  background-color: var(--sklearn-color-fitted-level-3);\n",
       "  color: var(--sklearn-color-background);\n",
       "  text-decoration: none;\n",
       "}\n",
       "\n",
       "/* Span, style for the box shown on hovering the info icon */\n",
       ".sk-estimator-doc-link span {\n",
       "  display: none;\n",
       "  z-index: 9999;\n",
       "  position: relative;\n",
       "  font-weight: normal;\n",
       "  right: .2ex;\n",
       "  padding: .5ex;\n",
       "  margin: .5ex;\n",
       "  width: min-content;\n",
       "  min-width: 20ex;\n",
       "  max-width: 50ex;\n",
       "  color: var(--sklearn-color-text);\n",
       "  box-shadow: 2pt 2pt 4pt #999;\n",
       "  /* unfitted */\n",
       "  background: var(--sklearn-color-unfitted-level-0);\n",
       "  border: .5pt solid var(--sklearn-color-unfitted-level-3);\n",
       "}\n",
       "\n",
       ".sk-estimator-doc-link.fitted span {\n",
       "  /* fitted */\n",
       "  background: var(--sklearn-color-fitted-level-0);\n",
       "  border: var(--sklearn-color-fitted-level-3);\n",
       "}\n",
       "\n",
       ".sk-estimator-doc-link:hover span {\n",
       "  display: block;\n",
       "}\n",
       "\n",
       "/* \"?\"-specific style due to the `<a>` HTML tag */\n",
       "\n",
       "#sk-container-id-3 a.estimator_doc_link {\n",
       "  float: right;\n",
       "  font-size: 1rem;\n",
       "  line-height: 1em;\n",
       "  font-family: monospace;\n",
       "  background-color: var(--sklearn-color-background);\n",
       "  border-radius: 1rem;\n",
       "  height: 1rem;\n",
       "  width: 1rem;\n",
       "  text-decoration: none;\n",
       "  /* unfitted */\n",
       "  color: var(--sklearn-color-unfitted-level-1);\n",
       "  border: var(--sklearn-color-unfitted-level-1) 1pt solid;\n",
       "}\n",
       "\n",
       "#sk-container-id-3 a.estimator_doc_link.fitted {\n",
       "  /* fitted */\n",
       "  border: var(--sklearn-color-fitted-level-1) 1pt solid;\n",
       "  color: var(--sklearn-color-fitted-level-1);\n",
       "}\n",
       "\n",
       "/* On hover */\n",
       "#sk-container-id-3 a.estimator_doc_link:hover {\n",
       "  /* unfitted */\n",
       "  background-color: var(--sklearn-color-unfitted-level-3);\n",
       "  color: var(--sklearn-color-background);\n",
       "  text-decoration: none;\n",
       "}\n",
       "\n",
       "#sk-container-id-3 a.estimator_doc_link.fitted:hover {\n",
       "  /* fitted */\n",
       "  background-color: var(--sklearn-color-fitted-level-3);\n",
       "}\n",
       "</style><div id=\"sk-container-id-3\" class=\"sk-top-container\"><div class=\"sk-text-repr-fallback\"><pre>LinearRegression()</pre><b>In a Jupyter environment, please rerun this cell to show the HTML representation or trust the notebook. <br />On GitHub, the HTML representation is unable to render, please try loading this page with nbviewer.org.</b></div><div class=\"sk-container\" hidden><div class=\"sk-item\"><div class=\"sk-estimator fitted sk-toggleable\"><input class=\"sk-toggleable__control sk-hidden--visually\" id=\"sk-estimator-id-3\" type=\"checkbox\" checked><label for=\"sk-estimator-id-3\" class=\"sk-toggleable__label fitted sk-toggleable__label-arrow\"><div><div>LinearRegression</div></div><div><a class=\"sk-estimator-doc-link fitted\" rel=\"noreferrer\" target=\"_blank\" href=\"https://scikit-learn.org/1.6/modules/generated/sklearn.linear_model.LinearRegression.html\">?<span>Documentation for LinearRegression</span></a><span class=\"sk-estimator-doc-link fitted\">i<span>Fitted</span></span></div></label><div class=\"sk-toggleable__content fitted\"><pre>LinearRegression()</pre></div> </div></div></div></div>"
      ],
      "text/plain": [
       "LinearRegression()"
      ]
     },
     "execution_count": 115,
     "metadata": {},
     "output_type": "execute_result"
    }
   ],
   "source": [
    "from sklearn.linear_model import LinearRegression\n",
    "lr = LinearRegression()\n",
    "lr.fit(x_sk, y_sk)"
   ]
  },
  {
   "cell_type": "code",
   "execution_count": 116,
   "id": "97592eed",
   "metadata": {},
   "outputs": [
    {
     "name": "stdout",
     "output_type": "stream",
     "text": [
      "Intercept (sklearn): -3.89578\n",
      "Intercept (GD): -3.89578\n",
      "Coef. of regression (sklearn): 1.19303\n",
      "Coef. of regression (GD): 1.19303\n"
     ]
    }
   ],
   "source": [
    "# * .items() extracts the scalar value from the array, eliminating the outer brackets.\n",
    "print(f'Intercept (sklearn): {lr.intercept_.item():.5f}')\n",
    "print(f'Intercept (GD): {intercept_GD:.5f}')\n",
    "print(f'Coef. of regression (sklearn): {lr.coef_.item():.5f}')\n",
    "print(f'Coef. of regression (GD): {coeff_GD:.5f}')"
   ]
  },
  {
   "cell_type": "markdown",
   "id": "ff9f9ab8",
   "metadata": {},
   "source": [
    "## 6. Loading Data (Logistic) <a class=\"anchor\" id=\"content6\"></a>"
   ]
  },
  {
   "cell_type": "code",
   "execution_count": 117,
   "id": "929aacc7",
   "metadata": {},
   "outputs": [
    {
     "data": {
      "text/html": [
       "<div>\n",
       "<style scoped>\n",
       "    .dataframe tbody tr th:only-of-type {\n",
       "        vertical-align: middle;\n",
       "    }\n",
       "\n",
       "    .dataframe tbody tr th {\n",
       "        vertical-align: top;\n",
       "    }\n",
       "\n",
       "    .dataframe thead th {\n",
       "        text-align: right;\n",
       "    }\n",
       "</style>\n",
       "<table border=\"1\" class=\"dataframe\">\n",
       "  <thead>\n",
       "    <tr style=\"text-align: right;\">\n",
       "      <th></th>\n",
       "      <th>0</th>\n",
       "      <th>1</th>\n",
       "      <th>2</th>\n",
       "    </tr>\n",
       "  </thead>\n",
       "  <tbody>\n",
       "    <tr>\n",
       "      <th>0</th>\n",
       "      <td>34.623660</td>\n",
       "      <td>78.024693</td>\n",
       "      <td>0</td>\n",
       "    </tr>\n",
       "    <tr>\n",
       "      <th>1</th>\n",
       "      <td>30.286711</td>\n",
       "      <td>43.894998</td>\n",
       "      <td>0</td>\n",
       "    </tr>\n",
       "    <tr>\n",
       "      <th>2</th>\n",
       "      <td>35.847409</td>\n",
       "      <td>72.902198</td>\n",
       "      <td>0</td>\n",
       "    </tr>\n",
       "    <tr>\n",
       "      <th>3</th>\n",
       "      <td>60.182599</td>\n",
       "      <td>86.308552</td>\n",
       "      <td>1</td>\n",
       "    </tr>\n",
       "    <tr>\n",
       "      <th>4</th>\n",
       "      <td>79.032736</td>\n",
       "      <td>75.344376</td>\n",
       "      <td>1</td>\n",
       "    </tr>\n",
       "  </tbody>\n",
       "</table>\n",
       "</div>"
      ],
      "text/plain": [
       "           0          1  2\n",
       "0  34.623660  78.024693  0\n",
       "1  30.286711  43.894998  0\n",
       "2  35.847409  72.902198  0\n",
       "3  60.182599  86.308552  1\n",
       "4  79.032736  75.344376  1"
      ]
     },
     "execution_count": 117,
     "metadata": {},
     "output_type": "execute_result"
    }
   ],
   "source": [
    "data_logistic = pd.read_csv(\"logistic_data.txt\", header=None)\n",
    "data_logistic.head()"
   ]
  },
  {
   "cell_type": "code",
   "execution_count": 118,
   "id": "43e9af3e",
   "metadata": {},
   "outputs": [
    {
     "data": {
      "text/plain": [
       "((100, 3), (100, 1))"
      ]
     },
     "execution_count": 118,
     "metadata": {},
     "output_type": "execute_result"
    }
   ],
   "source": [
    "x_1_lgs = np.array(data_logistic.iloc[:, 0])\n",
    "x_2_lgs = np.array(data_logistic.iloc[:, 1])\n",
    "y_lgs = np.array(data_logistic.iloc[:, 2])\n",
    "\n",
    "# Combine features into X with an added bias column (first column)\n",
    "# X_lgs = np.c_[np.ones(x_1_lgs.shape[0]), x_1_lgs, x_2_lgs]\n",
    "X_lgs = np.concatenate(\n",
    "    (np.ones((x_1_lgs.shape[0], 1)),\n",
    "     x_1_lgs[:, np.newaxis], x_2_lgs[:, np.newaxis]),\n",
    "    axis=1\n",
    ")\n",
    "y_lgs = y_lgs[:, np.newaxis]  # Reshape y for matrix operations\n",
    "X_lgs.shape, y_lgs.shape"
   ]
  },
  {
   "cell_type": "markdown",
   "id": "55fa914d",
   "metadata": {},
   "source": [
    "## 7. Logistic Regression <a class=\"anchor\" id=\"content7\"></a>"
   ]
  },
  {
   "cell_type": "markdown",
   "id": "e7793e7b",
   "metadata": {},
   "source": [
    "Logistic Regression is a machine learning algorithm commonly used for binary classification tasks or predicting the probability of a dicrete or categorical outcome. For binary classification, predictions are obtained by applying the sigmoid function, which takes a numerical independent variable as input and returns a value between 0 and 1. The sigmoid function is represented as:\n",
    "\n",
    "\\begin{align*}\n",
    "S(z) = \\dfrac{1}{1+e^{-z}}\n",
    "\\end{align*}"
   ]
  },
  {
   "cell_type": "code",
   "execution_count": 119,
   "id": "f44fb482",
   "metadata": {},
   "outputs": [],
   "source": [
    "# ! Implement a sigmoid function\n",
    "def sigmoid(z: np.array) -> np.array:\n",
    "    return 1 / (1 + np.exp(-z))"
   ]
  },
  {
   "cell_type": "code",
   "execution_count": 120,
   "id": "882ad5ee",
   "metadata": {},
   "outputs": [
    {
     "data": {
      "image/png": "[encoded data removed]",
      "text/plain": [
       "<Figure size 800x500 with 1 Axes>"
      ]
     },
     "metadata": {},
     "output_type": "display_data"
    }
   ],
   "source": [
    "plt.figure(figsize=(8, 5))\n",
    "x = np.linspace(-10, 10, 100)\n",
    "plt.xlabel('x')\n",
    "plt.ylabel('Probability')\n",
    "plt.title('Sigmoid Function')\n",
    "plt.grid(True)\n",
    "plt.plot(x, sigmoid(x), color='b')\n",
    "plt.show()"
   ]
  },
  {
   "cell_type": "markdown",
   "id": "4d510b7e",
   "metadata": {},
   "source": [
    "The hypothesis function in logistic regression computers the linear combination of the feature matrix $X$ and the weight vector $W$, and then applies the sigmoid function to squash the output into a range between 0 and 1. Given a feature matrix $X$ and weight vector $W$, we can compute the predicted probabilities as follows:\n",
    "\n",
    "\\begin{align*}\n",
    "z = X \\cdot W = w_0 + w_1 x_1 + w_2 x_2 + \\cdots + w_n x_n\n",
    "\\end{align*}\n",
    "\n",
    "where $w_0$ is the bias and $w_1$, $w_2$, ..., $w_1$ are the weights for the features.\n",
    "\n",
    "For example, suppose we have the following matrices:\n",
    "\n",
    "\\begin{align*}\n",
    "&X = \\begin{bmatrix} 1 & 2 \\\\ 1 & 3 \\\\ 1 & 4 \\end{bmatrix} \\\\\n",
    "&W = \\begin{bmatrix} -1 \\\\ 0.5 \\end{bmatrix}\n",
    "\\end{align*}\n",
    "\n",
    "The linear combination $z$ for each sample in %X% is calculated as:\n",
    "\\begin{align*}\n",
    "z = X \\cdot W = \\begin{bmatrix} 1 & 2 \\\\ 1 & 3 \\\\ 1 & 4 \\end{bmatrix} \\cdot \\begin{bmatrix} -1 \\\\ 0.5 \\end{bmatrix} = \\begin{bmatrix} 0 \\\\ 0.5 \\\\ 1 \\end{bmatrix}\n",
    "\\end{align*}\n",
    "\n",
    "\n",
    "Applying the sigmoid function to $z$ yields the predicted probabilities:\n",
    "\n",
    "\\begin{align*}\n",
    "h(X) = \\sigma (z) = \\begin{bmatrix} \\dfrac{1}{1+e^{0}} \\\\ \\dfrac{1}{1+e^{-0.5}} \\\\ \\dfrac{1}{1+e^{-1}} \\end{bmatrix} \\thickapprox \\begin{bmatrix} 0.5 \\\\ 0.622 \\\\ 0.731 \\end{bmatrix}\n",
    "\\end{align*}"
   ]
  },
  {
   "cell_type": "code",
   "execution_count": 121,
   "id": "327ca6ee",
   "metadata": {},
   "outputs": [],
   "source": [
    "# Hypothesis function with sigmoid activation\n",
    "def hypothesis(X: np.array, W: np.array) -> np.array:\n",
    "    return sigmoid(np.dot(X, W))"
   ]
  },
  {
   "cell_type": "code",
   "execution_count": 122,
   "id": "44f80ccb",
   "metadata": {},
   "outputs": [
    {
     "name": "stdout",
     "output_type": "stream",
     "text": [
      "Probabilities for each sample: [0.5        0.62245933 0.73105858]\n"
     ]
    }
   ],
   "source": [
    "X_example = np.array([[1, 2],\n",
    "                   [1, 3],\n",
    "                   [1, 4]])\n",
    "W_example = np.array([-1,\n",
    "                   0.5])\n",
    "print(f\"Probabilities for each sample: {hypothesis(X_example, W_example)}\")"
   ]
  },
  {
   "cell_type": "markdown",
   "id": "079bd324",
   "metadata": {},
   "source": [
    "## 8. Loss Function (BCE) <a class=\"anchor\" id=\"content8\"></a>\n"
   ]
  },
  {
   "cell_type": "markdown",
   "id": "3adb9f52",
   "metadata": {},
   "source": [
    "In logistic regression, the Binary Cross-Entropy loss function is used to measure the error between the true labels $y$ and the predicted probabilities $\\hat y$. The loss function is defined as:\n",
    "\n",
    "\\begin{align*}\n",
    "L = - \\dfrac{1}{n} \\sum_{i=1}^{n} y_{i} \\log(\\hat y_{i}) + (1-y_{i}) \\log(1- \\hat y_{i})\n",
    "\\end{align*}"
   ]
  },
  {
   "cell_type": "code",
   "execution_count": 123,
   "id": "52196662",
   "metadata": {},
   "outputs": [],
   "source": [
    "# Binary cross-entropy loss function\n",
    "def calculate_loss_BCE(y: np.array, y_pred: np.array, n: int) -> float:\n",
    "    return - (1 / n) * np.sum(y * np.log(y_pred) + (1 - y) * np.log(1 - y_pred))"
   ]
  },
  {
   "cell_type": "markdown",
   "id": "f32dfe9c",
   "metadata": {},
   "source": [
    "## 9. Gradient Descent (Logistic) <a class=\"anchor\" id=\"content9\"></a>"
   ]
  },
  {
   "cell_type": "markdown",
   "id": "d9a0e876",
   "metadata": {},
   "source": [
    "Before computing the optimised weights using gradient descent, we need to calculate the partial derivatives of the binary cross entrophy with respect to the weights $W$. The gradient of the loss function is given by:\n",
    "\n",
    "\\begin{align*}\n",
    "\\dfrac{\\partial L}{\\partial W} = \\dfrac{1}{n} (\\hat y - y) \\cdot X^{T}\n",
    "\\end{align*}\n",
    "\n",
    "* $n$ is the number of samples in the dataset.\n",
    "* $y$ is the actual value.\n",
    "* $\\hat y$ is the predicted value.\n",
    "* $X^{T}$ is the transpose of the feature matrix $X$."
   ]
  },
  {
   "cell_type": "code",
   "execution_count": 124,
   "id": "439efb4a",
   "metadata": {},
   "outputs": [],
   "source": [
    "# ! Derivative of cost function L\n",
    "def derivative_BCE(X: np.array, y: np.array, y_pred: np.array, n: int) -> float:\n",
    "    dL_dW: float = (1/n) * np.dot(X.T, (y_pred - y))\n",
    "    return dL_dW"
   ]
  },
  {
   "cell_type": "markdown",
   "id": "13f48cef",
   "metadata": {},
   "source": [
    "We update the weights in each epoch of gradient descent to optimise the weights $W$ with the learning rate $\\alpha$ as follows:\n",
    "\n",
    "\\begin{align*}\n",
    "W = W - \\alpha \\cdot \\dfrac{\\partial L}{\\partial W}\n",
    "\\end{align*}\n",
    "\n",
    "By iteratively applying this update rule, the model minimise the binary cross-entropy loss and improves its predictions over epoch.\n"
   ]
  },
  {
   "cell_type": "code",
   "execution_count": 125,
   "id": "03d9b406",
   "metadata": {},
   "outputs": [],
   "source": [
    "# Gradient descent for logistic regression\n",
    "def gradient_descent_logistic(X: np.array, y: np.array, W: np.array,\n",
    "                              alpha: float, epochs: int, n: int) -> tuple[np.array, np.array]:\n",
    "    loss:list[float] = []\n",
    "    for epoch in range(epochs):\n",
    "        y_pred: np.array = hypothesis(X, W)\n",
    "        dL_dW: float = derivative_BCE(X, y, y_pred, n)\n",
    "        W -= alpha * dL_dW\n",
    "        loss.append(calculate_loss_BCE(y, y_pred, n))\n",
    "    return W, np.array(loss)"
   ]
  },
  {
   "cell_type": "markdown",
   "id": "c32edf2c",
   "metadata": {},
   "source": [
    "Let's initialise the weight vector $W$ with arbitrary values and execute `gradient_descent_logistic()` using a learning rate $\\alpha$ of 0.001 for 5000 epochs."
   ]
  },
  {
   "cell_type": "code",
   "execution_count": 126,
   "id": "dbea8985",
   "metadata": {},
   "outputs": [
    {
     "name": "stdout",
     "output_type": "stream",
     "text": [
      "Optimised weights after 5000 epochs:\n",
      " [[-10.07002079]\n",
      " [  0.08601621]\n",
      " [  0.07977089]]\n"
     ]
    }
   ],
   "source": [
    "# Initialise weights and hyperparameteres\n",
    "W = np.array([-10, 0.2, 0.2])[:, np.newaxis]\n",
    "alpha = 0.001\n",
    "epochs = 5000\n",
    "n = len(y_lgs)\n",
    "\n",
    "W_optimised, loss_BCE = gradient_descent_logistic(\n",
    "    X_lgs, y_lgs, W, alpha, epochs, n)\n",
    "print(f\"Optimised weights after {epochs} epochs:\\n {W}\")"
   ]
  },
  {
   "cell_type": "markdown",
   "id": "50c33d60",
   "metadata": {},
   "source": [
    "As the training progresses, we can observe a consistent decrease in the loss value over the epochs. This indicates that the model is learning by minimising the error, the difference between the predicted and actual values. "
   ]
  },
  {
   "cell_type": "code",
   "execution_count": 127,
   "id": "aa6867c3",
   "metadata": {},
   "outputs": [
    {
     "data": {
      "image/png": "[encoded data removed]",
      "text/plain": [
       "<Figure size 800x500 with 1 Axes>"
      ]
     },
     "metadata": {},
     "output_type": "display_data"
    }
   ],
   "source": [
    "plt.figure(figsize=(8, 5))\n",
    "plt.plot(loss_BCE[:20], marker='o', color='b')\n",
    "plt.xlabel('Epochs')\n",
    "plt.ylabel('Loss')\n",
    "plt.title('Loss Over Epochs (Up to 20)')\n",
    "plt.grid(True)\n",
    "plt.show()"
   ]
  },
  {
   "cell_type": "markdown",
   "id": "9f0e3c60",
   "metadata": {},
   "source": [
    "Now, we visualise the data to illustrate how the logistic regression model classifies the data and separates the classes using a decision boundary. The decision boundary is a linear function derived from the model's hypothesis that separates the input space into two distinct regions. Typically, it represents the set of points where the model predicts a probability of 50%. \n",
    "\n",
    "We compute the model's predictions using the optimised weight vector `W_optimised`. If the predicted probability is greater than or equal to 0.5, the data point is classified as 1; otherwise it is classify as 0. For instance, given $y_{pred} = [0.85,0.15,0.65,0.30]$, the result would be $[1, 0, 1, 0]$. By calculating these predictions, we can also compute the accuracy to evaluate the model's performance."
   ]
  },
  {
   "cell_type": "code",
   "execution_count": 128,
   "id": "aa567e42",
   "metadata": {},
   "outputs": [
    {
     "name": "stdout",
     "output_type": "stream",
     "text": [
      "Accuracy: 91.00%\n"
     ]
    }
   ],
   "source": [
    "# Make predictions\n",
    "threshold = 0.5\n",
    "y_pred = hypothesis(X_lgs, W_optimised)\n",
    "y_pred_labels = (y_pred >= threshold).astype(int)\n",
    "print(f\"Accuracy: {np.mean(y_pred_labels == y_lgs) * 100:.2f}%\")"
   ]
  },
  {
   "cell_type": "code",
   "execution_count": 129,
   "id": "80909fb4",
   "metadata": {},
   "outputs": [],
   "source": [
    "def draw_decision_boundary(W:np.array, x_1:np.array) -> np.array:\n",
    "    return -(W[0] + W[1] * x_1) / (W[2])"
   ]
  },
  {
   "cell_type": "code",
   "execution_count": 130,
   "id": "a6ad7539",
   "metadata": {},
   "outputs": [
    {
     "data": {
      "image/png": "[encoded data removed]",
      "text/plain": [
       "<Figure size 640x480 with 1 Axes>"
      ]
     },
     "metadata": {},
     "output_type": "display_data"
    }
   ],
   "source": [
    "def draw_decision_boundary(W:np.array, x_1:np.array) -> np.array:\n",
    "    return -(W[0] + W[1] * x_1) / (W[2])\n",
    "\n",
    "plt.scatter(x=x_1_lgs[y_lgs.flatten() == 0], y=x_2_lgs[y_lgs.flatten() == 0], label='0', color='orange')\n",
    "plt.scatter(x=x_1_lgs[y_lgs.flatten() == 1], y=x_2_lgs[y_lgs.flatten() == 1], label='1', color='green')\n",
    "plt.plot(x_1_lgs, draw_decision_boundary(W, x_1_lgs), color=\"red\")\n",
    "plt.xlabel('Feature 1 (x1)')\n",
    "plt.ylabel('Feature 2 (x2)')\n",
    "plt.title('Logistic Regression')\n",
    "plt.legend()\n",
    "plt.show()"
   ]
  }
 ],
 "metadata": {
  "kernelspec": {
   "display_name": "venv",
   "language": "python",
   "name": "python3"
  },
  "language_info": {
   "codemirror_mode": {
    "name": "ipython",
    "version": 3
   },
   "file_extension": ".py",
   "mimetype": "text/x-python",
   "name": "python",
   "nbconvert_exporter": "python",
   "pygments_lexer": "ipython3",
   "version": "3.11.0"
  }
 },
 "nbformat": 4,
 "nbformat_minor": 5
}
