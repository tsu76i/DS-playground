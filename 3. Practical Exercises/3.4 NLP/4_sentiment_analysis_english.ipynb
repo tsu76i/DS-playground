{
 "cells": [
  {
   "cell_type": "markdown",
   "id": "067c7fba",
   "metadata": {},
   "source": [
    "# Sentiment Analysis in English\n",
    "***\n",
    "## Table of Contents\n",
    "1. [Introduction](#1-introduction)\n",
    "1. [Device Agnostic Code](#2-device-agnostic-code)\n",
    "1. [Loading Data](#3-loading-data)\n",
    "1. [Data Preprocessing](#4-data-preprocessing)\n",
    "    - [Text Cleaning](#text-cleaning)\n",
    "    - [Tokenisation](#tokenisation)\n",
    "    - [Building Vocabulary and Mapping Tokens to Indices](#building-vocabulary-and-mapping-tokens-to-indices)\n",
    "    - [Convert Labels to Integer](#convert-labels-to-integer)\n",
    "1. [Preparing DataLoaders](#5-preparing-dataloaders)\n",
    "    - [Train Test Splitting](#train-test-splitting)\n",
    "    - [Create IMDB Datasets in Tensor](#creating-imdb-datasets-in-tensor)\n",
    "1. [Neural Network Model Architectures](#6-neural-network-model-architectures)\n",
    "    - [Long Short-Term Memory (LSTM)](#long-short-term-memory-lstm)\n",
    "    - [Transformer](#transformer)\n",
    "1. [Evaluation Metrics](#7-evaluation-metrics)\n",
    "    - [Accuracy](#accuracy)\n",
    "1. [Loss Function](#8-loss-function)\n",
    "    - [Binary Cross-Entropy](#binary-cross-entropy)\n",
    "1. [Optimiser](#9-optimiser)\n",
    "1. [Training and Evaluation](#10-training-and-evaluation)\n",
    "    - [Training Steps](#training-steps)\n",
    "    - [Testing Steps](#testing-steps)\n",
    "    - [Model Training and Evaluation Pipeline](#model-training-and-evaluation-pipeline)\n",
    "    - [Performance Evaluation (LSTM)](#performance-evaluation-lstm)\n",
    "    - [Performance Evaluation (Transformer)](#performance-evaluation-transformer)\n",
    "1. [Results](#11-results)\n",
    "    - [Overall Performance](#overall-performance)\n",
    "    - [Predictions on Test DataLoader](#predictions-on-test-dataloader)\n",
    "    - [Confusion Matrix](#confusion-matrix)\n",
    "    - [Sample Predictions](#sample-predictions)\n",
    "    - [Observations](#observations)\n",
    "1. [Pre-Trained Transformer Model (From Hugging Face)](#12-pre-trained-transformer-model-from-hugging-face)\n",
    "    - [Tokenisation with Hugging Face](#tokenisation-with-hugging-face)\n",
    "    - [Reformatting for PyTorch](#reformatting-for-pytorch)\n",
    "    - [Training Arguments](#training-arguments)\n",
    "    - [Metrics](#metrics)\n",
    "    - [Loading Pre-Trained Model](#loading-pre-trained-model)\n",
    "    - [Training Transformer Model](#training-transformer-model)\n",
    "    - [Predictions with Fine-Tuned Model](#predictions-with-fine-tuned-model)\n",
    "1. [References](#13-references)\n",
    "***"
   ]
  },
  {
   "cell_type": "code",
   "execution_count": null,
   "id": "f5732b61",
   "metadata": {},
   "outputs": [],
   "source": [
    "import torch\n",
    "import torch.nn as nn\n",
    "import torch.optim as optim\n",
    "import pandas as pd\n",
    "import numpy as np\n",
    "import string\n",
    "import time\n",
    "import re\n",
    "import matplotlib.pyplot as plt\n",
    "\n",
    "from collections import Counter\n",
    "from sklearn.model_selection import train_test_split\n",
    "from torch.utils.data import Dataset, DataLoader\n",
    "from torchmetrics import Accuracy\n",
    "from numpy.typing import NDArray"
   ]
  },
  {
   "cell_type": "markdown",
   "id": "b82468ec",
   "metadata": {},
   "source": [
    "## 1. Introduction\n",
    "Text classification is a common natural language processing (NLP) task that assigns labels or classes to given texts. One important application of text classification is sentiment analysis, a challenging task that captures the context and nuances of sentences to identify sentiments such as positive, neutral, or negative.\n",
    "\n",
    "The goal of this project is to implement two different sequence models for the sentiment analysis task: an LSTM and a Transformer, to evaluate how well these models can identify emotions expressed in text. Subsequently, a state-of-the-art pretrained transformer model from Hugging Face will be fine-tuned and its performance will be compared against the two custom models."
   ]
  },
  {
   "cell_type": "markdown",
   "id": "7a0cabef",
   "metadata": {},
   "source": [
    "## 2. Device Agnostic Code\n",
    "Mac GPU acceleration (`mps` backend) delivers significant speed-up over CPU for deep learning tasks, especially for large models and batch sizes. On Windows, `cuda` is used instead of `mps`.\n",
    "\n",
    "As of current PyTorch version (`2.7.1`), certain Transformer operations (especially those involving masks in nn.TransformerEncoder) are not supported natively on Apple Silicon (MPS). During training, I encountered the following error:\n",
    "\n",
    "`NotImplementedError: The operator 'aten::_nested_tensor_from_mask_left_aligned' is not currently implemented for the MPS device.`\n",
    "\n",
    "Therefore, only the CPU will be used in the first part of this project."
   ]
  },
  {
   "cell_type": "code",
   "execution_count": 2,
   "id": "767b9e7d",
   "metadata": {},
   "outputs": [],
   "source": [
    "# device = torch.device(\n",
    "#     \"mps\"  # MacOS\n",
    "#     if torch.backends.mps.is_available()\n",
    "#     else \"cuda\"  # Windows\n",
    "#     if torch.cuda.is_available()\n",
    "#     else \"cpu\"  # No GPU Available\n",
    "# )\n",
    "device = torch.device(\"cpu\")"
   ]
  },
  {
   "cell_type": "markdown",
   "id": "dcf6b956",
   "metadata": {},
   "source": [
    "## 3. Loading Data\n",
    "\n",
    "The dataset used in this project (retrieved from [Kaggle - IMDB Dataset of 50K Movie Reviews](https://www.kaggle.com/datasets/lakshmi25npathi/imdb-dataset-of-50k-movie-reviews)) includes:\n",
    "\n",
    "- **review**: Review comments in text.\n",
    "- **sentiment**: Whether the review is positive or negative."
   ]
  },
  {
   "cell_type": "code",
   "execution_count": 3,
   "id": "6641ebc2",
   "metadata": {},
   "outputs": [],
   "source": [
    "df = pd.read_csv(\"_datasets/IMDB_Dataset.csv\")"
   ]
  },
  {
   "cell_type": "code",
   "execution_count": 4,
   "id": "5cc3fa99",
   "metadata": {},
   "outputs": [
    {
     "data": {
      "application/vnd.microsoft.datawrangler.viewer.v0+json": {
       "columns": [
        {
         "name": "index",
         "rawType": "int64",
         "type": "integer"
        },
        {
         "name": "review",
         "rawType": "object",
         "type": "string"
        },
        {
         "name": "sentiment",
         "rawType": "object",
         "type": "string"
        }
       ],
       "ref": "24d4bdf9-d09a-4321-9103-8d001b073a47",
       "rows": [
        [
         "0",
         "One of the other reviewers has mentioned that after watching just 1 Oz episode you'll be hooked. They are right, as this is exactly what happened with me.<br /><br />The first thing that struck me about Oz was its brutality and unflinching scenes of violence, which set in right from the word GO. Trust me, this is not a show for the faint hearted or timid. This show pulls no punches with regards to drugs, sex or violence. Its is hardcore, in the classic use of the word.<br /><br />It is called OZ as that is the nickname given to the Oswald Maximum Security State Penitentary. It focuses mainly on Emerald City, an experimental section of the prison where all the cells have glass fronts and face inwards, so privacy is not high on the agenda. Em City is home to many..Aryans, Muslims, gangstas, Latinos, Christians, Italians, Irish and more....so scuffles, death stares, dodgy dealings and shady agreements are never far away.<br /><br />I would say the main appeal of the show is due to the fact that it goes where other shows wouldn't dare. Forget pretty pictures painted for mainstream audiences, forget charm, forget romance...OZ doesn't mess around. The first episode I ever saw struck me as so nasty it was surreal, I couldn't say I was ready for it, but as I watched more, I developed a taste for Oz, and got accustomed to the high levels of graphic violence. Not just violence, but injustice (crooked guards who'll be sold out for a nickel, inmates who'll kill on order and get away with it, well mannered, middle class inmates being turned into prison bitches due to their lack of street skills or prison experience) Watching Oz, you may become comfortable with what is uncomfortable viewing....thats if you can get in touch with your darker side.",
         "positive"
        ],
        [
         "1",
         "A wonderful little production. <br /><br />The filming technique is very unassuming- very old-time-BBC fashion and gives a comforting, and sometimes discomforting, sense of realism to the entire piece. <br /><br />The actors are extremely well chosen- Michael Sheen not only \"has got all the polari\" but he has all the voices down pat too! You can truly see the seamless editing guided by the references to Williams' diary entries, not only is it well worth the watching but it is a terrificly written and performed piece. A masterful production about one of the great master's of comedy and his life. <br /><br />The realism really comes home with the little things: the fantasy of the guard which, rather than use the traditional 'dream' techniques remains solid then disappears. It plays on our knowledge and our senses, particularly with the scenes concerning Orton and Halliwell and the sets (particularly of their flat with Halliwell's murals decorating every surface) are terribly well done.",
         "positive"
        ],
        [
         "2",
         "I thought this was a wonderful way to spend time on a too hot summer weekend, sitting in the air conditioned theater and watching a light-hearted comedy. The plot is simplistic, but the dialogue is witty and the characters are likable (even the well bread suspected serial killer). While some may be disappointed when they realize this is not Match Point 2: Risk Addiction, I thought it was proof that Woody Allen is still fully in control of the style many of us have grown to love.<br /><br />This was the most I'd laughed at one of Woody's comedies in years (dare I say a decade?). While I've never been impressed with Scarlet Johanson, in this she managed to tone down her \"sexy\" image and jumped right into a average, but spirited young woman.<br /><br />This may not be the crown jewel of his career, but it was wittier than \"Devil Wears Prada\" and more interesting than \"Superman\" a great comedy to go see with friends.",
         "positive"
        ],
        [
         "3",
         "Basically there's a family where a little boy (Jake) thinks there's a zombie in his closet & his parents are fighting all the time.<br /><br />This movie is slower than a soap opera... and suddenly, Jake decides to become Rambo and kill the zombie.<br /><br />OK, first of all when you're going to make a film you must Decide if its a thriller or a drama! As a drama the movie is watchable. Parents are divorcing & arguing like in real life. And then we have Jake with his closet which totally ruins all the film! I expected to see a BOOGEYMAN similar movie, and instead i watched a drama with some meaningless thriller spots.<br /><br />3 out of 10 just for the well playing parents & descent dialogs. As for the shots with Jake: just ignore them.",
         "negative"
        ],
        [
         "4",
         "Petter Mattei's \"Love in the Time of Money\" is a visually stunning film to watch. Mr. Mattei offers us a vivid portrait about human relations. This is a movie that seems to be telling us what money, power and success do to people in the different situations we encounter. <br /><br />This being a variation on the Arthur Schnitzler's play about the same theme, the director transfers the action to the present time New York where all these different characters meet and connect. Each one is connected in one way, or another to the next person, but no one seems to know the previous point of contact. Stylishly, the film has a sophisticated luxurious look. We are taken to see how these people live and the world they live in their own habitat.<br /><br />The only thing one gets out of all these souls in the picture is the different stages of loneliness each one inhabits. A big city is not exactly the best place in which human relations find sincere fulfillment, as one discerns is the case with most of the people we encounter.<br /><br />The acting is good under Mr. Mattei's direction. Steve Buscemi, Rosario Dawson, Carol Kane, Michael Imperioli, Adrian Grenier, and the rest of the talented cast, make these characters come alive.<br /><br />We wish Mr. Mattei good luck and await anxiously for his next work.",
         "positive"
        ]
       ],
       "shape": {
        "columns": 2,
        "rows": 5
       }
      },
      "text/html": [
       "<div>\n",
       "<style scoped>\n",
       "    .dataframe tbody tr th:only-of-type {\n",
       "        vertical-align: middle;\n",
       "    }\n",
       "\n",
       "    .dataframe tbody tr th {\n",
       "        vertical-align: top;\n",
       "    }\n",
       "\n",
       "    .dataframe thead th {\n",
       "        text-align: right;\n",
       "    }\n",
       "</style>\n",
       "<table border=\"1\" class=\"dataframe\">\n",
       "  <thead>\n",
       "    <tr style=\"text-align: right;\">\n",
       "      <th></th>\n",
       "      <th>review</th>\n",
       "      <th>sentiment</th>\n",
       "    </tr>\n",
       "  </thead>\n",
       "  <tbody>\n",
       "    <tr>\n",
       "      <th>0</th>\n",
       "      <td>One of the other reviewers has mentioned that ...</td>\n",
       "      <td>positive</td>\n",
       "    </tr>\n",
       "    <tr>\n",
       "      <th>1</th>\n",
       "      <td>A wonderful little production. &lt;br /&gt;&lt;br /&gt;The...</td>\n",
       "      <td>positive</td>\n",
       "    </tr>\n",
       "    <tr>\n",
       "      <th>2</th>\n",
       "      <td>I thought this was a wonderful way to spend ti...</td>\n",
       "      <td>positive</td>\n",
       "    </tr>\n",
       "    <tr>\n",
       "      <th>3</th>\n",
       "      <td>Basically there's a family where a little boy ...</td>\n",
       "      <td>negative</td>\n",
       "    </tr>\n",
       "    <tr>\n",
       "      <th>4</th>\n",
       "      <td>Petter Mattei's \"Love in the Time of Money\" is...</td>\n",
       "      <td>positive</td>\n",
       "    </tr>\n",
       "  </tbody>\n",
       "</table>\n",
       "</div>"
      ],
      "text/plain": [
       "                                              review sentiment\n",
       "0  One of the other reviewers has mentioned that ...  positive\n",
       "1  A wonderful little production. <br /><br />The...  positive\n",
       "2  I thought this was a wonderful way to spend ti...  positive\n",
       "3  Basically there's a family where a little boy ...  negative\n",
       "4  Petter Mattei's \"Love in the Time of Money\" is...  positive"
      ]
     },
     "execution_count": 4,
     "metadata": {},
     "output_type": "execute_result"
    }
   ],
   "source": [
    "df.head()"
   ]
  },
  {
   "cell_type": "code",
   "execution_count": 5,
   "id": "0acf36d6",
   "metadata": {},
   "outputs": [
    {
     "name": "stdout",
     "output_type": "stream",
     "text": [
      "==================================================\n",
      "Shape of the dataset: (50000, 2)\n",
      "==================================================\n",
      "Count of null values: 0\n"
     ]
    }
   ],
   "source": [
    "print(\"=\" * 50)\n",
    "print(f\"Shape of the dataset: {df.shape}\")\n",
    "print(\"=\" * 50)\n",
    "print(f\"Count of null values: {df.isnull().sum().sum()}\")"
   ]
  },
  {
   "cell_type": "code",
   "execution_count": 6,
   "id": "49f01925",
   "metadata": {},
   "outputs": [
    {
     "name": "stdout",
     "output_type": "stream",
     "text": [
      "<class 'pandas.core.frame.DataFrame'>\n",
      "RangeIndex: 50000 entries, 0 to 49999\n",
      "Data columns (total 2 columns):\n",
      " #   Column     Non-Null Count  Dtype \n",
      "---  ------     --------------  ----- \n",
      " 0   review     50000 non-null  object\n",
      " 1   sentiment  50000 non-null  object\n",
      "dtypes: object(2)\n",
      "memory usage: 781.4+ KB\n"
     ]
    }
   ],
   "source": [
    "df.info()"
   ]
  },
  {
   "cell_type": "markdown",
   "id": "093be12e",
   "metadata": {},
   "source": [
    "## 4. Data Preprocessing\n",
    "1. Text Cleaning\n",
    "    - Lower all letters\n",
    "    - Removing HTML Tags\n",
    "    - Removing URLs\n",
    "    - Removing Emojis and Non-ASCII Characters\n",
    "    - Remove Punctuations\n",
    "    - Remove extra whitespace\n",
    "2. Tokenisation\n",
    "3. Building Vocabulary and Mapping Tokens to Indices"
   ]
  },
  {
   "cell_type": "markdown",
   "id": "7afb803d",
   "metadata": {},
   "source": [
    "### Text Cleaning"
   ]
  },
  {
   "cell_type": "code",
   "execution_count": 7,
   "id": "bbb1f5d9",
   "metadata": {},
   "outputs": [
    {
     "data": {
      "text/plain": [
       "'!\"#$%&\\'()*+,-./:;<=>?@[\\\\]^_`{|}~'"
      ]
     },
     "execution_count": 7,
     "metadata": {},
     "output_type": "execute_result"
    }
   ],
   "source": [
    "string.punctuation"
   ]
  },
  {
   "cell_type": "code",
   "execution_count": 8,
   "id": "ef77b405",
   "metadata": {},
   "outputs": [],
   "source": [
    "def clean_text(text: str) -> str:\n",
    "    text = text.lower()\n",
    "    text = re.sub(r\"<.*?>\", \"\", text)\n",
    "    text = re.sub(r\"http\\S+|www\\.\\S+\", \"\", text)\n",
    "    text = re.sub(r\"[^\\x00-\\x7F]+\", \"\", text)\n",
    "    text = re.sub(\"[{}]\".format(re.escape(string.punctuation)), \"\", text)\n",
    "    text = re.sub(r\"\\s+\", \" \", text).strip()  # Leave a space between words\n",
    "    return text"
   ]
  },
  {
   "cell_type": "code",
   "execution_count": 9,
   "id": "4ad9c905",
   "metadata": {},
   "outputs": [
    {
     "data": {
      "application/vnd.microsoft.datawrangler.viewer.v0+json": {
       "columns": [
        {
         "name": "index",
         "rawType": "int64",
         "type": "integer"
        },
        {
         "name": "review",
         "rawType": "object",
         "type": "string"
        },
        {
         "name": "sentiment",
         "rawType": "object",
         "type": "string"
        },
        {
         "name": "clean_text",
         "rawType": "object",
         "type": "string"
        }
       ],
       "ref": "64b96b9e-09c2-4cbb-b8c8-211c29f43ee4",
       "rows": [
        [
         "0",
         "One of the other reviewers has mentioned that after watching just 1 Oz episode you'll be hooked. They are right, as this is exactly what happened with me.<br /><br />The first thing that struck me about Oz was its brutality and unflinching scenes of violence, which set in right from the word GO. Trust me, this is not a show for the faint hearted or timid. This show pulls no punches with regards to drugs, sex or violence. Its is hardcore, in the classic use of the word.<br /><br />It is called OZ as that is the nickname given to the Oswald Maximum Security State Penitentary. It focuses mainly on Emerald City, an experimental section of the prison where all the cells have glass fronts and face inwards, so privacy is not high on the agenda. Em City is home to many..Aryans, Muslims, gangstas, Latinos, Christians, Italians, Irish and more....so scuffles, death stares, dodgy dealings and shady agreements are never far away.<br /><br />I would say the main appeal of the show is due to the fact that it goes where other shows wouldn't dare. Forget pretty pictures painted for mainstream audiences, forget charm, forget romance...OZ doesn't mess around. The first episode I ever saw struck me as so nasty it was surreal, I couldn't say I was ready for it, but as I watched more, I developed a taste for Oz, and got accustomed to the high levels of graphic violence. Not just violence, but injustice (crooked guards who'll be sold out for a nickel, inmates who'll kill on order and get away with it, well mannered, middle class inmates being turned into prison bitches due to their lack of street skills or prison experience) Watching Oz, you may become comfortable with what is uncomfortable viewing....thats if you can get in touch with your darker side.",
         "positive",
         "one of the other reviewers has mentioned that after watching just 1 oz episode youll be hooked they are right as this is exactly what happened with methe first thing that struck me about oz was its brutality and unflinching scenes of violence which set in right from the word go trust me this is not a show for the faint hearted or timid this show pulls no punches with regards to drugs sex or violence its is hardcore in the classic use of the wordit is called oz as that is the nickname given to the oswald maximum security state penitentary it focuses mainly on emerald city an experimental section of the prison where all the cells have glass fronts and face inwards so privacy is not high on the agenda em city is home to manyaryans muslims gangstas latinos christians italians irish and moreso scuffles death stares dodgy dealings and shady agreements are never far awayi would say the main appeal of the show is due to the fact that it goes where other shows wouldnt dare forget pretty pictures painted for mainstream audiences forget charm forget romanceoz doesnt mess around the first episode i ever saw struck me as so nasty it was surreal i couldnt say i was ready for it but as i watched more i developed a taste for oz and got accustomed to the high levels of graphic violence not just violence but injustice crooked guards wholl be sold out for a nickel inmates wholl kill on order and get away with it well mannered middle class inmates being turned into prison bitches due to their lack of street skills or prison experience watching oz you may become comfortable with what is uncomfortable viewingthats if you can get in touch with your darker side"
        ],
        [
         "1",
         "A wonderful little production. <br /><br />The filming technique is very unassuming- very old-time-BBC fashion and gives a comforting, and sometimes discomforting, sense of realism to the entire piece. <br /><br />The actors are extremely well chosen- Michael Sheen not only \"has got all the polari\" but he has all the voices down pat too! You can truly see the seamless editing guided by the references to Williams' diary entries, not only is it well worth the watching but it is a terrificly written and performed piece. A masterful production about one of the great master's of comedy and his life. <br /><br />The realism really comes home with the little things: the fantasy of the guard which, rather than use the traditional 'dream' techniques remains solid then disappears. It plays on our knowledge and our senses, particularly with the scenes concerning Orton and Halliwell and the sets (particularly of their flat with Halliwell's murals decorating every surface) are terribly well done.",
         "positive",
         "a wonderful little production the filming technique is very unassuming very oldtimebbc fashion and gives a comforting and sometimes discomforting sense of realism to the entire piece the actors are extremely well chosen michael sheen not only has got all the polari but he has all the voices down pat too you can truly see the seamless editing guided by the references to williams diary entries not only is it well worth the watching but it is a terrificly written and performed piece a masterful production about one of the great masters of comedy and his life the realism really comes home with the little things the fantasy of the guard which rather than use the traditional dream techniques remains solid then disappears it plays on our knowledge and our senses particularly with the scenes concerning orton and halliwell and the sets particularly of their flat with halliwells murals decorating every surface are terribly well done"
        ],
        [
         "2",
         "I thought this was a wonderful way to spend time on a too hot summer weekend, sitting in the air conditioned theater and watching a light-hearted comedy. The plot is simplistic, but the dialogue is witty and the characters are likable (even the well bread suspected serial killer). While some may be disappointed when they realize this is not Match Point 2: Risk Addiction, I thought it was proof that Woody Allen is still fully in control of the style many of us have grown to love.<br /><br />This was the most I'd laughed at one of Woody's comedies in years (dare I say a decade?). While I've never been impressed with Scarlet Johanson, in this she managed to tone down her \"sexy\" image and jumped right into a average, but spirited young woman.<br /><br />This may not be the crown jewel of his career, but it was wittier than \"Devil Wears Prada\" and more interesting than \"Superman\" a great comedy to go see with friends.",
         "positive",
         "i thought this was a wonderful way to spend time on a too hot summer weekend sitting in the air conditioned theater and watching a lighthearted comedy the plot is simplistic but the dialogue is witty and the characters are likable even the well bread suspected serial killer while some may be disappointed when they realize this is not match point 2 risk addiction i thought it was proof that woody allen is still fully in control of the style many of us have grown to lovethis was the most id laughed at one of woodys comedies in years dare i say a decade while ive never been impressed with scarlet johanson in this she managed to tone down her sexy image and jumped right into a average but spirited young womanthis may not be the crown jewel of his career but it was wittier than devil wears prada and more interesting than superman a great comedy to go see with friends"
        ],
        [
         "3",
         "Basically there's a family where a little boy (Jake) thinks there's a zombie in his closet & his parents are fighting all the time.<br /><br />This movie is slower than a soap opera... and suddenly, Jake decides to become Rambo and kill the zombie.<br /><br />OK, first of all when you're going to make a film you must Decide if its a thriller or a drama! As a drama the movie is watchable. Parents are divorcing & arguing like in real life. And then we have Jake with his closet which totally ruins all the film! I expected to see a BOOGEYMAN similar movie, and instead i watched a drama with some meaningless thriller spots.<br /><br />3 out of 10 just for the well playing parents & descent dialogs. As for the shots with Jake: just ignore them.",
         "negative",
         "basically theres a family where a little boy jake thinks theres a zombie in his closet his parents are fighting all the timethis movie is slower than a soap opera and suddenly jake decides to become rambo and kill the zombieok first of all when youre going to make a film you must decide if its a thriller or a drama as a drama the movie is watchable parents are divorcing arguing like in real life and then we have jake with his closet which totally ruins all the film i expected to see a boogeyman similar movie and instead i watched a drama with some meaningless thriller spots3 out of 10 just for the well playing parents descent dialogs as for the shots with jake just ignore them"
        ],
        [
         "4",
         "Petter Mattei's \"Love in the Time of Money\" is a visually stunning film to watch. Mr. Mattei offers us a vivid portrait about human relations. This is a movie that seems to be telling us what money, power and success do to people in the different situations we encounter. <br /><br />This being a variation on the Arthur Schnitzler's play about the same theme, the director transfers the action to the present time New York where all these different characters meet and connect. Each one is connected in one way, or another to the next person, but no one seems to know the previous point of contact. Stylishly, the film has a sophisticated luxurious look. We are taken to see how these people live and the world they live in their own habitat.<br /><br />The only thing one gets out of all these souls in the picture is the different stages of loneliness each one inhabits. A big city is not exactly the best place in which human relations find sincere fulfillment, as one discerns is the case with most of the people we encounter.<br /><br />The acting is good under Mr. Mattei's direction. Steve Buscemi, Rosario Dawson, Carol Kane, Michael Imperioli, Adrian Grenier, and the rest of the talented cast, make these characters come alive.<br /><br />We wish Mr. Mattei good luck and await anxiously for his next work.",
         "positive",
         "petter matteis love in the time of money is a visually stunning film to watch mr mattei offers us a vivid portrait about human relations this is a movie that seems to be telling us what money power and success do to people in the different situations we encounter this being a variation on the arthur schnitzlers play about the same theme the director transfers the action to the present time new york where all these different characters meet and connect each one is connected in one way or another to the next person but no one seems to know the previous point of contact stylishly the film has a sophisticated luxurious look we are taken to see how these people live and the world they live in their own habitatthe only thing one gets out of all these souls in the picture is the different stages of loneliness each one inhabits a big city is not exactly the best place in which human relations find sincere fulfillment as one discerns is the case with most of the people we encounterthe acting is good under mr matteis direction steve buscemi rosario dawson carol kane michael imperioli adrian grenier and the rest of the talented cast make these characters come alivewe wish mr mattei good luck and await anxiously for his next work"
        ]
       ],
       "shape": {
        "columns": 3,
        "rows": 5
       }
      },
      "text/html": [
       "<div>\n",
       "<style scoped>\n",
       "    .dataframe tbody tr th:only-of-type {\n",
       "        vertical-align: middle;\n",
       "    }\n",
       "\n",
       "    .dataframe tbody tr th {\n",
       "        vertical-align: top;\n",
       "    }\n",
       "\n",
       "    .dataframe thead th {\n",
       "        text-align: right;\n",
       "    }\n",
       "</style>\n",
       "<table border=\"1\" class=\"dataframe\">\n",
       "  <thead>\n",
       "    <tr style=\"text-align: right;\">\n",
       "      <th></th>\n",
       "      <th>review</th>\n",
       "      <th>sentiment</th>\n",
       "      <th>clean_text</th>\n",
       "    </tr>\n",
       "  </thead>\n",
       "  <tbody>\n",
       "    <tr>\n",
       "      <th>0</th>\n",
       "      <td>One of the other reviewers has mentioned that ...</td>\n",
       "      <td>positive</td>\n",
       "      <td>one of the other reviewers has mentioned that ...</td>\n",
       "    </tr>\n",
       "    <tr>\n",
       "      <th>1</th>\n",
       "      <td>A wonderful little production. &lt;br /&gt;&lt;br /&gt;The...</td>\n",
       "      <td>positive</td>\n",
       "      <td>a wonderful little production the filming tech...</td>\n",
       "    </tr>\n",
       "    <tr>\n",
       "      <th>2</th>\n",
       "      <td>I thought this was a wonderful way to spend ti...</td>\n",
       "      <td>positive</td>\n",
       "      <td>i thought this was a wonderful way to spend ti...</td>\n",
       "    </tr>\n",
       "    <tr>\n",
       "      <th>3</th>\n",
       "      <td>Basically there's a family where a little boy ...</td>\n",
       "      <td>negative</td>\n",
       "      <td>basically theres a family where a little boy j...</td>\n",
       "    </tr>\n",
       "    <tr>\n",
       "      <th>4</th>\n",
       "      <td>Petter Mattei's \"Love in the Time of Money\" is...</td>\n",
       "      <td>positive</td>\n",
       "      <td>petter matteis love in the time of money is a ...</td>\n",
       "    </tr>\n",
       "  </tbody>\n",
       "</table>\n",
       "</div>"
      ],
      "text/plain": [
       "                                              review sentiment  \\\n",
       "0  One of the other reviewers has mentioned that ...  positive   \n",
       "1  A wonderful little production. <br /><br />The...  positive   \n",
       "2  I thought this was a wonderful way to spend ti...  positive   \n",
       "3  Basically there's a family where a little boy ...  negative   \n",
       "4  Petter Mattei's \"Love in the Time of Money\" is...  positive   \n",
       "\n",
       "                                          clean_text  \n",
       "0  one of the other reviewers has mentioned that ...  \n",
       "1  a wonderful little production the filming tech...  \n",
       "2  i thought this was a wonderful way to spend ti...  \n",
       "3  basically theres a family where a little boy j...  \n",
       "4  petter matteis love in the time of money is a ...  "
      ]
     },
     "execution_count": 9,
     "metadata": {},
     "output_type": "execute_result"
    }
   ],
   "source": [
    "df[\"clean_text\"] = df[\"review\"].apply(clean_text)\n",
    "df.head()"
   ]
  },
  {
   "cell_type": "code",
   "execution_count": 10,
   "id": "a0f75d15",
   "metadata": {},
   "outputs": [],
   "source": [
    "df[\"n_tokens\"] = df[\"clean_text\"].apply(lambda text: len(text.split()))"
   ]
  },
  {
   "cell_type": "code",
   "execution_count": 11,
   "id": "a7b34550",
   "metadata": {},
   "outputs": [
    {
     "data": {
      "application/vnd.microsoft.datawrangler.viewer.v0+json": {
       "columns": [
        {
         "name": "index",
         "rawType": "int64",
         "type": "integer"
        },
        {
         "name": "review",
         "rawType": "object",
         "type": "string"
        },
        {
         "name": "sentiment",
         "rawType": "object",
         "type": "string"
        },
        {
         "name": "clean_text",
         "rawType": "object",
         "type": "string"
        },
        {
         "name": "n_tokens",
         "rawType": "int64",
         "type": "integer"
        }
       ],
       "ref": "ade40838-b9ba-40c9-8bd0-d6338b4d2fdd",
       "rows": [
        [
         "0",
         "One of the other reviewers has mentioned that after watching just 1 Oz episode you'll be hooked. They are right, as this is exactly what happened with me.<br /><br />The first thing that struck me about Oz was its brutality and unflinching scenes of violence, which set in right from the word GO. Trust me, this is not a show for the faint hearted or timid. This show pulls no punches with regards to drugs, sex or violence. Its is hardcore, in the classic use of the word.<br /><br />It is called OZ as that is the nickname given to the Oswald Maximum Security State Penitentary. It focuses mainly on Emerald City, an experimental section of the prison where all the cells have glass fronts and face inwards, so privacy is not high on the agenda. Em City is home to many..Aryans, Muslims, gangstas, Latinos, Christians, Italians, Irish and more....so scuffles, death stares, dodgy dealings and shady agreements are never far away.<br /><br />I would say the main appeal of the show is due to the fact that it goes where other shows wouldn't dare. Forget pretty pictures painted for mainstream audiences, forget charm, forget romance...OZ doesn't mess around. The first episode I ever saw struck me as so nasty it was surreal, I couldn't say I was ready for it, but as I watched more, I developed a taste for Oz, and got accustomed to the high levels of graphic violence. Not just violence, but injustice (crooked guards who'll be sold out for a nickel, inmates who'll kill on order and get away with it, well mannered, middle class inmates being turned into prison bitches due to their lack of street skills or prison experience) Watching Oz, you may become comfortable with what is uncomfortable viewing....thats if you can get in touch with your darker side.",
         "positive",
         "one of the other reviewers has mentioned that after watching just 1 oz episode youll be hooked they are right as this is exactly what happened with methe first thing that struck me about oz was its brutality and unflinching scenes of violence which set in right from the word go trust me this is not a show for the faint hearted or timid this show pulls no punches with regards to drugs sex or violence its is hardcore in the classic use of the wordit is called oz as that is the nickname given to the oswald maximum security state penitentary it focuses mainly on emerald city an experimental section of the prison where all the cells have glass fronts and face inwards so privacy is not high on the agenda em city is home to manyaryans muslims gangstas latinos christians italians irish and moreso scuffles death stares dodgy dealings and shady agreements are never far awayi would say the main appeal of the show is due to the fact that it goes where other shows wouldnt dare forget pretty pictures painted for mainstream audiences forget charm forget romanceoz doesnt mess around the first episode i ever saw struck me as so nasty it was surreal i couldnt say i was ready for it but as i watched more i developed a taste for oz and got accustomed to the high levels of graphic violence not just violence but injustice crooked guards wholl be sold out for a nickel inmates wholl kill on order and get away with it well mannered middle class inmates being turned into prison bitches due to their lack of street skills or prison experience watching oz you may become comfortable with what is uncomfortable viewingthats if you can get in touch with your darker side",
         "301"
        ],
        [
         "1",
         "A wonderful little production. <br /><br />The filming technique is very unassuming- very old-time-BBC fashion and gives a comforting, and sometimes discomforting, sense of realism to the entire piece. <br /><br />The actors are extremely well chosen- Michael Sheen not only \"has got all the polari\" but he has all the voices down pat too! You can truly see the seamless editing guided by the references to Williams' diary entries, not only is it well worth the watching but it is a terrificly written and performed piece. A masterful production about one of the great master's of comedy and his life. <br /><br />The realism really comes home with the little things: the fantasy of the guard which, rather than use the traditional 'dream' techniques remains solid then disappears. It plays on our knowledge and our senses, particularly with the scenes concerning Orton and Halliwell and the sets (particularly of their flat with Halliwell's murals decorating every surface) are terribly well done.",
         "positive",
         "a wonderful little production the filming technique is very unassuming very oldtimebbc fashion and gives a comforting and sometimes discomforting sense of realism to the entire piece the actors are extremely well chosen michael sheen not only has got all the polari but he has all the voices down pat too you can truly see the seamless editing guided by the references to williams diary entries not only is it well worth the watching but it is a terrificly written and performed piece a masterful production about one of the great masters of comedy and his life the realism really comes home with the little things the fantasy of the guard which rather than use the traditional dream techniques remains solid then disappears it plays on our knowledge and our senses particularly with the scenes concerning orton and halliwell and the sets particularly of their flat with halliwells murals decorating every surface are terribly well done",
         "156"
        ],
        [
         "2",
         "I thought this was a wonderful way to spend time on a too hot summer weekend, sitting in the air conditioned theater and watching a light-hearted comedy. The plot is simplistic, but the dialogue is witty and the characters are likable (even the well bread suspected serial killer). While some may be disappointed when they realize this is not Match Point 2: Risk Addiction, I thought it was proof that Woody Allen is still fully in control of the style many of us have grown to love.<br /><br />This was the most I'd laughed at one of Woody's comedies in years (dare I say a decade?). While I've never been impressed with Scarlet Johanson, in this she managed to tone down her \"sexy\" image and jumped right into a average, but spirited young woman.<br /><br />This may not be the crown jewel of his career, but it was wittier than \"Devil Wears Prada\" and more interesting than \"Superman\" a great comedy to go see with friends.",
         "positive",
         "i thought this was a wonderful way to spend time on a too hot summer weekend sitting in the air conditioned theater and watching a lighthearted comedy the plot is simplistic but the dialogue is witty and the characters are likable even the well bread suspected serial killer while some may be disappointed when they realize this is not match point 2 risk addiction i thought it was proof that woody allen is still fully in control of the style many of us have grown to lovethis was the most id laughed at one of woodys comedies in years dare i say a decade while ive never been impressed with scarlet johanson in this she managed to tone down her sexy image and jumped right into a average but spirited young womanthis may not be the crown jewel of his career but it was wittier than devil wears prada and more interesting than superman a great comedy to go see with friends",
         "162"
        ],
        [
         "3",
         "Basically there's a family where a little boy (Jake) thinks there's a zombie in his closet & his parents are fighting all the time.<br /><br />This movie is slower than a soap opera... and suddenly, Jake decides to become Rambo and kill the zombie.<br /><br />OK, first of all when you're going to make a film you must Decide if its a thriller or a drama! As a drama the movie is watchable. Parents are divorcing & arguing like in real life. And then we have Jake with his closet which totally ruins all the film! I expected to see a BOOGEYMAN similar movie, and instead i watched a drama with some meaningless thriller spots.<br /><br />3 out of 10 just for the well playing parents & descent dialogs. As for the shots with Jake: just ignore them.",
         "negative",
         "basically theres a family where a little boy jake thinks theres a zombie in his closet his parents are fighting all the timethis movie is slower than a soap opera and suddenly jake decides to become rambo and kill the zombieok first of all when youre going to make a film you must decide if its a thriller or a drama as a drama the movie is watchable parents are divorcing arguing like in real life and then we have jake with his closet which totally ruins all the film i expected to see a boogeyman similar movie and instead i watched a drama with some meaningless thriller spots3 out of 10 just for the well playing parents descent dialogs as for the shots with jake just ignore them",
         "129"
        ],
        [
         "4",
         "Petter Mattei's \"Love in the Time of Money\" is a visually stunning film to watch. Mr. Mattei offers us a vivid portrait about human relations. This is a movie that seems to be telling us what money, power and success do to people in the different situations we encounter. <br /><br />This being a variation on the Arthur Schnitzler's play about the same theme, the director transfers the action to the present time New York where all these different characters meet and connect. Each one is connected in one way, or another to the next person, but no one seems to know the previous point of contact. Stylishly, the film has a sophisticated luxurious look. We are taken to see how these people live and the world they live in their own habitat.<br /><br />The only thing one gets out of all these souls in the picture is the different stages of loneliness each one inhabits. A big city is not exactly the best place in which human relations find sincere fulfillment, as one discerns is the case with most of the people we encounter.<br /><br />The acting is good under Mr. Mattei's direction. Steve Buscemi, Rosario Dawson, Carol Kane, Michael Imperioli, Adrian Grenier, and the rest of the talented cast, make these characters come alive.<br /><br />We wish Mr. Mattei good luck and await anxiously for his next work.",
         "positive",
         "petter matteis love in the time of money is a visually stunning film to watch mr mattei offers us a vivid portrait about human relations this is a movie that seems to be telling us what money power and success do to people in the different situations we encounter this being a variation on the arthur schnitzlers play about the same theme the director transfers the action to the present time new york where all these different characters meet and connect each one is connected in one way or another to the next person but no one seems to know the previous point of contact stylishly the film has a sophisticated luxurious look we are taken to see how these people live and the world they live in their own habitatthe only thing one gets out of all these souls in the picture is the different stages of loneliness each one inhabits a big city is not exactly the best place in which human relations find sincere fulfillment as one discerns is the case with most of the people we encounterthe acting is good under mr matteis direction steve buscemi rosario dawson carol kane michael imperioli adrian grenier and the rest of the talented cast make these characters come alivewe wish mr mattei good luck and await anxiously for his next work",
         "222"
        ]
       ],
       "shape": {
        "columns": 4,
        "rows": 5
       }
      },
      "text/html": [
       "<div>\n",
       "<style scoped>\n",
       "    .dataframe tbody tr th:only-of-type {\n",
       "        vertical-align: middle;\n",
       "    }\n",
       "\n",
       "    .dataframe tbody tr th {\n",
       "        vertical-align: top;\n",
       "    }\n",
       "\n",
       "    .dataframe thead th {\n",
       "        text-align: right;\n",
       "    }\n",
       "</style>\n",
       "<table border=\"1\" class=\"dataframe\">\n",
       "  <thead>\n",
       "    <tr style=\"text-align: right;\">\n",
       "      <th></th>\n",
       "      <th>review</th>\n",
       "      <th>sentiment</th>\n",
       "      <th>clean_text</th>\n",
       "      <th>n_tokens</th>\n",
       "    </tr>\n",
       "  </thead>\n",
       "  <tbody>\n",
       "    <tr>\n",
       "      <th>0</th>\n",
       "      <td>One of the other reviewers has mentioned that ...</td>\n",
       "      <td>positive</td>\n",
       "      <td>one of the other reviewers has mentioned that ...</td>\n",
       "      <td>301</td>\n",
       "    </tr>\n",
       "    <tr>\n",
       "      <th>1</th>\n",
       "      <td>A wonderful little production. &lt;br /&gt;&lt;br /&gt;The...</td>\n",
       "      <td>positive</td>\n",
       "      <td>a wonderful little production the filming tech...</td>\n",
       "      <td>156</td>\n",
       "    </tr>\n",
       "    <tr>\n",
       "      <th>2</th>\n",
       "      <td>I thought this was a wonderful way to spend ti...</td>\n",
       "      <td>positive</td>\n",
       "      <td>i thought this was a wonderful way to spend ti...</td>\n",
       "      <td>162</td>\n",
       "    </tr>\n",
       "    <tr>\n",
       "      <th>3</th>\n",
       "      <td>Basically there's a family where a little boy ...</td>\n",
       "      <td>negative</td>\n",
       "      <td>basically theres a family where a little boy j...</td>\n",
       "      <td>129</td>\n",
       "    </tr>\n",
       "    <tr>\n",
       "      <th>4</th>\n",
       "      <td>Petter Mattei's \"Love in the Time of Money\" is...</td>\n",
       "      <td>positive</td>\n",
       "      <td>petter matteis love in the time of money is a ...</td>\n",
       "      <td>222</td>\n",
       "    </tr>\n",
       "  </tbody>\n",
       "</table>\n",
       "</div>"
      ],
      "text/plain": [
       "                                              review sentiment  \\\n",
       "0  One of the other reviewers has mentioned that ...  positive   \n",
       "1  A wonderful little production. <br /><br />The...  positive   \n",
       "2  I thought this was a wonderful way to spend ti...  positive   \n",
       "3  Basically there's a family where a little boy ...  negative   \n",
       "4  Petter Mattei's \"Love in the Time of Money\" is...  positive   \n",
       "\n",
       "                                          clean_text  n_tokens  \n",
       "0  one of the other reviewers has mentioned that ...       301  \n",
       "1  a wonderful little production the filming tech...       156  \n",
       "2  i thought this was a wonderful way to spend ti...       162  \n",
       "3  basically theres a family where a little boy j...       129  \n",
       "4  petter matteis love in the time of money is a ...       222  "
      ]
     },
     "execution_count": 11,
     "metadata": {},
     "output_type": "execute_result"
    }
   ],
   "source": [
    "df.head()"
   ]
  },
  {
   "cell_type": "markdown",
   "id": "6a5e2902",
   "metadata": {},
   "source": [
    "### Tokenisation\n",
    "Split all reviews into tokens (words). "
   ]
  },
  {
   "cell_type": "code",
   "execution_count": 12,
   "id": "8ff1b367",
   "metadata": {},
   "outputs": [],
   "source": [
    "all_words = [token for text in df[\"clean_text\"] for token in text.split()]"
   ]
  },
  {
   "cell_type": "code",
   "execution_count": 13,
   "id": "3f5cfbe6",
   "metadata": {},
   "outputs": [
    {
     "name": "stdout",
     "output_type": "stream",
     "text": [
      "['one', 'of', 'the', 'other', 'reviewers', 'has', 'mentioned', 'that', 'after', 'watching']\n"
     ]
    }
   ],
   "source": [
    "print(all_words[:10])"
   ]
  },
  {
   "cell_type": "markdown",
   "id": "a8df7248",
   "metadata": {},
   "source": [
    "### Building Vocabulary and Mapping Tokens to Indices\n",
    "Using `Counter()` allows us to get the frequency of each word, sort in descending order (we can specify `n` parameter to extract the top N most frequent words).\n",
    "Then we assign a unique index to each word, create mapping (word2index), and reserve indices for padding (`<PAD>`) and unknown (`<UNK>`) tokens.\n",
    "\n",
    "**Padding**:\n",
    "- Padding is the process of adding special tokens (usually represented as `<PAD>`) to sequences so that all sequences in a batch have the same length.\n",
    "- This is necessary because neural networks, especially in libraries like PyTorch, require inputs to be in tensors of consistent shape.\n",
    "\n",
    "*Example*:\n",
    "- Original:\n",
    "    - [\"i\", \"loved\", \"this\", \"movie\"]\n",
    "- After padding to length 6:\n",
    "    - [\"i\", \"loved\", \"this\", \"movie\", \"`<PAD>`\", \"`<PAD>`\"]\n",
    "\n",
    "**Unknown**:\n",
    "- `<UNK>` stands for '*unknown token*', serving as a placeholder for any token (word) in the input text that does not exist in the vocabulary.\n",
    "\n",
    "*Example*:\n",
    "- Vocabulary:\n",
    "    - { \"the\":2, \"movie\":3, \"`<PAD>`\":0, \"`<UNK>`\":1 }\n",
    "- Input:\n",
    "    - \"the plot was amazing\" -> [\"the\", \"`<UNK>`\", \"`<UNK>`\", \"`<UNK>`\"]"
   ]
  },
  {
   "cell_type": "code",
   "execution_count": 14,
   "id": "d509f721",
   "metadata": {},
   "outputs": [],
   "source": [
    "word_counts = Counter(all_words)"
   ]
  },
  {
   "cell_type": "code",
   "execution_count": 15,
   "id": "14644740",
   "metadata": {},
   "outputs": [],
   "source": [
    "all_words_sorted = word_counts.most_common()"
   ]
  },
  {
   "cell_type": "code",
   "execution_count": 16,
   "id": "f0b9801d",
   "metadata": {},
   "outputs": [],
   "source": [
    "word2index = {word: i for i, (word, counts) in enumerate(all_words_sorted, start=2)}\n",
    "word2index[\"<PAD>\"] = 0\n",
    "word2index[\"<UNK>\"] = 1"
   ]
  },
  {
   "cell_type": "code",
   "execution_count": 17,
   "id": "827d71f3",
   "metadata": {},
   "outputs": [
    {
     "name": "stdout",
     "output_type": "stream",
     "text": [
      "Number of unique words: 221659\n"
     ]
    }
   ],
   "source": [
    "print(f\"Number of unique words: {len(word2index) - 2}\")"
   ]
  },
  {
   "cell_type": "code",
   "execution_count": null,
   "id": "0b9b5108",
   "metadata": {},
   "outputs": [],
   "source": [
    "# Convert text to int sequences\n",
    "def text_to_int(text: str, word2index: dict[str, int]) -> list[int]:\n",
    "    \"\"\"\n",
    "    Convert a text string into a list of integer indices based on the word2index mapping.\n",
    "\n",
    "    Args:\n",
    "        text: The input text string.\n",
    "        word2index: Dictionary mapping words to integer indices.\n",
    "\n",
    "    Returns:\n",
    "        List of integer indices corresponding to words in the input text.\n",
    "        Unknown words are mapped to the index of the \"<UNK>\" token.\n",
    "    \"\"\"\n",
    "    return [word2index.get(word, word2index[\"<UNK>\"]) for word in text.split()]\n",
    "\n",
    "\n",
    "def pad_or_truncate(text: list[int], max_len: int, pad_value: int = 0) -> list[int]:\n",
    "    \"\"\"\n",
    "    Pad or truncate a list of integer indices to a specified maximum length.\n",
    "\n",
    "    Args:\n",
    "        text: List of word indices representing the text.\n",
    "        max_len: The desired length of the output list.\n",
    "        pad_value: The value to use for padding. Defaults to 0.\n",
    "\n",
    "    Returns:\n",
    "        The input list truncated or padded to max_len.\n",
    "    \"\"\"\n",
    "    if len(text) >= max_len:  # Text length ok\n",
    "        return text[:max_len]\n",
    "    else:  # Text too short -> Add padding\n",
    "        return text + [pad_value] * (max_len - len(text))"
   ]
  },
  {
   "cell_type": "code",
   "execution_count": 19,
   "id": "81f99eda",
   "metadata": {},
   "outputs": [],
   "source": [
    "SEQUENCE_LENGTH = 128\n",
    "\n",
    "all_review_seq = [\n",
    "    pad_or_truncate(text_to_int(text, word2index), SEQUENCE_LENGTH, word2index[\"<PAD>\"])\n",
    "    for text in df[\"clean_text\"]\n",
    "]"
   ]
  },
  {
   "cell_type": "code",
   "execution_count": 20,
   "id": "6aaf8ba6",
   "metadata": {},
   "outputs": [
    {
     "name": "stdout",
     "output_type": "stream",
     "text": [
      "[45, 22, 37, 207, 7378, 8971, 2183, 22, 76, 37, 11, 17, 45, 22, 23, 183, 39, 168, 92, 22, 76, 110, 11, 17, 540, 53, 56, 1546, 411, 44430, 1206, 0, 0, 0, 0, 0, 0, 0, 0, 0, 0, 0, 0, 0, 0, 0, 0, 0, 0, 0, 0, 0, 0, 0, 0, 0, 0, 0, 0, 0, 0, 0, 0, 0, 0, 0, 0, 0, 0, 0, 0, 0, 0, 0, 0, 0, 0, 0, 0, 0, 0, 0, 0, 0, 0, 0, 0, 0, 0, 0, 0, 0, 0, 0, 0, 0, 0, 0, 0, 0, 0, 0, 0, 0, 0, 0, 0, 0, 0, 0, 0, 0, 0, 0, 0, 0, 0, 0, 0, 0, 0, 0, 0, 0, 0, 0, 0, 0]\n"
     ]
    }
   ],
   "source": [
    "print(all_review_seq[9])"
   ]
  },
  {
   "cell_type": "markdown",
   "id": "ba6bf991",
   "metadata": {},
   "source": [
    "### Convert Labels to Integer"
   ]
  },
  {
   "cell_type": "code",
   "execution_count": 21,
   "id": "659c95d2",
   "metadata": {},
   "outputs": [
    {
     "data": {
      "application/vnd.microsoft.datawrangler.viewer.v0+json": {
       "columns": [
        {
         "name": "sentiment",
         "rawType": "int64",
         "type": "integer"
        },
        {
         "name": "count",
         "rawType": "int64",
         "type": "integer"
        }
       ],
       "ref": "2cec53f5-192b-4bad-b417-2808a06c44d7",
       "rows": [
        [
         "1",
         "25000"
        ],
        [
         "0",
         "25000"
        ]
       ],
       "shape": {
        "columns": 1,
        "rows": 2
       }
      },
      "text/plain": [
       "sentiment\n",
       "1    25000\n",
       "0    25000\n",
       "Name: count, dtype: int64"
      ]
     },
     "execution_count": 21,
     "metadata": {},
     "output_type": "execute_result"
    }
   ],
   "source": [
    "labels = df[\"sentiment\"].map({\"positive\": 1, \"negative\": 0})\n",
    "labels.value_counts()"
   ]
  },
  {
   "cell_type": "markdown",
   "id": "01d4b6b9",
   "metadata": {},
   "source": [
    "## 5. Preparing DataLoaders\n",
    "### Train Test Splitting\n",
    "80% train, 10% validation and 10% testing"
   ]
  },
  {
   "cell_type": "code",
   "execution_count": 22,
   "id": "16ef49b3",
   "metadata": {},
   "outputs": [],
   "source": [
    "RANDOM_SEED = 42\n",
    "\n",
    "seq_train, seq_sub, y_train, y_sub = train_test_split(\n",
    "    all_review_seq, labels, test_size=0.2, random_state=RANDOM_SEED, stratify=labels\n",
    ")\n",
    "\n",
    "seq_val, seq_test, y_val, y_test = train_test_split(\n",
    "    seq_sub, y_sub, test_size=0.5, random_state=RANDOM_SEED, stratify=y_sub\n",
    ")"
   ]
  },
  {
   "cell_type": "markdown",
   "id": "3c22c418",
   "metadata": {},
   "source": [
    "### Creating IMDB Datasets in Tensor"
   ]
  },
  {
   "cell_type": "code",
   "execution_count": null,
   "id": "586dced9",
   "metadata": {},
   "outputs": [],
   "source": [
    "class IMDBDataset(Dataset):\n",
    "    \"\"\"\n",
    "    PyTorch Dataset class for IMDB movie reviews.\n",
    "\n",
    "    Args:\n",
    "        sequences: List of tokenized and padded text sequences.\n",
    "        labels: Corresponding list of labels (floats).\n",
    "    \"\"\"\n",
    "\n",
    "    def __init__(self, sequences: list[list[int]], labels: list[float]) -> None:\n",
    "        self.sequences = torch.tensor(sequences, dtype=torch.long)\n",
    "        self.labels = torch.tensor(labels, dtype=torch.float)\n",
    "\n",
    "    def __len__(self) -> int:\n",
    "        return len(self.sequences)\n",
    "\n",
    "    def __getitem__(self, index: int) -> tuple[torch.Tensor, torch.Tensor]:\n",
    "        return self.sequences[index], self.labels[index]"
   ]
  },
  {
   "cell_type": "markdown",
   "id": "59b0a915",
   "metadata": {},
   "source": [
    "PyTorch's `torch.tensor()` constructor works with lists, tuples, or NumPy arrays, not pandas Series."
   ]
  },
  {
   "cell_type": "code",
   "execution_count": 24,
   "id": "b073a3b2",
   "metadata": {},
   "outputs": [],
   "source": [
    "BATCH_SIZE = 64\n",
    "train_ds = IMDBDataset(seq_train, y_train.values)\n",
    "val_ds = IMDBDataset(seq_val, y_val.values)\n",
    "test_ds = IMDBDataset(seq_test, y_test.values)\n",
    "\n",
    "train_loader = DataLoader(train_ds, batch_size=BATCH_SIZE, shuffle=True)\n",
    "val_loader = DataLoader(val_ds, batch_size=BATCH_SIZE, shuffle=False)\n",
    "test_loader = DataLoader(test_ds, batch_size=BATCH_SIZE, shuffle=False)"
   ]
  },
  {
   "cell_type": "markdown",
   "id": "447eade9",
   "metadata": {},
   "source": [
    "## 6. Neural Network Model Architectures\n",
    "### Long Short-Term Memory (LSTM)\n",
    "An LSTM architecture for sentiment analysis typically includes following structures:\n",
    "- **Embedding Layer**:\n",
    "    - Converts input token indices to dense vector embeddings.\n",
    "    - Inputs shape: `(batch_size, sequence_length)`\n",
    "    - Outputs shape: `(batch_size, sequence_length, embedding_size)`\n",
    "- **LSTM Layer**:\n",
    "    - Processes the embedded sequence to capture temporal depenencies.\n",
    "    - Can be either single or multi-layer LSTM.\n",
    "- **Classification Head**:\n",
    "    - Usually a fully-connected (linear) layer projecting the hidden state(s) from LSTM to the output classes.\n",
    "    - Often preceded by dropout for regularisation.\n",
    "- **Activation and Loss**:\n",
    "    - For binary sentiment, output logits go through sigmoid activation function with binary cross entropy loss.\n",
    "    - For multi-class, softmax activation with cross entropy loss."
   ]
  },
  {
   "cell_type": "code",
   "execution_count": 25,
   "id": "1c3ba3f1",
   "metadata": {},
   "outputs": [],
   "source": [
    "class LSTMClassifier(nn.Module):\n",
    "    \"\"\"\n",
    "    LSTM-based classifier for sequence classification tasks.\n",
    "\n",
    "    Args:\n",
    "        vocab_size: Size of the vocabulary.\n",
    "        embedding_size: Dimension of word embeddings.\n",
    "        hidden_size: Number of features in the hidden state of the LSTM.\n",
    "        output_size: Number of output classes.\n",
    "        n_layers: Number of LSTM layers. Defaults to 1.\n",
    "        is_bidirectional: Whether to use bidirectional LSTM. Defaults to False.\n",
    "        dropout_rate: Dropout rate for regularization. Defaults to 0.5.\n",
    "    \"\"\"\n",
    "\n",
    "    def __init__(\n",
    "        self,\n",
    "        vocab_size: int,\n",
    "        embedding_size: int,\n",
    "        hidden_size: int,\n",
    "        output_size: int,\n",
    "        n_layers: int = 1,\n",
    "        is_bidirectional: bool = False,\n",
    "        dropout_rate: float = 0.5,\n",
    "    ) -> None:\n",
    "        super().__init__()\n",
    "        self.n_layers = n_layers\n",
    "        self.hidden_size = hidden_size\n",
    "        self.is_bidirectional = is_bidirectional\n",
    "\n",
    "        self.embedding = nn.Embedding(\n",
    "            num_embeddings=vocab_size, embedding_dim=embedding_size\n",
    "        )\n",
    "        self.lstm = nn.LSTM(\n",
    "            input_size=embedding_size,\n",
    "            hidden_size=hidden_size,\n",
    "            num_layers=n_layers,\n",
    "            bidirectional=is_bidirectional,\n",
    "            dropout=dropout_rate if n_layers > 1 else 0,\n",
    "            batch_first=True,\n",
    "        )\n",
    "        self.dropout = nn.Dropout(dropout_rate)\n",
    "        directional_factor = 2 if is_bidirectional else 1\n",
    "        self.fc = nn.Linear(\n",
    "            in_features=hidden_size * directional_factor,\n",
    "            out_features=output_size,\n",
    "        )\n",
    "\n",
    "    def forward(\n",
    "        self, text: torch.Tensor\n",
    "    ) -> torch.Tensor:  # text shape: (batch_size, seq_len)\n",
    "        \"\"\"\n",
    "        Forward propagation of the model.\n",
    "\n",
    "        Args:\n",
    "            text: Input tensor of shape (batch_size, seq_len) containing token indices.\n",
    "\n",
    "        Returns:\n",
    "            Output logits of shape (batch_size, output_size).\n",
    "        \"\"\"\n",
    "        embedded = self.embedding(text)  # (batch_size, seq_len, embedding_size)\n",
    "        lstm_out, (hidden, cell) = self.lstm(embedded)\n",
    "\n",
    "        # If bidirectional, concatenate last forward and backward hidden states\n",
    "        if self.lstm.bidirectional:\n",
    "            hidden = torch.cat(\n",
    "                (hidden[-2, :, :], hidden[-1, :, :]), dim=1\n",
    "            )  # (batch_size, hidden_dim*2)\n",
    "        else:\n",
    "            hidden = hidden[-1, :, :]  # (batch_size, hidden_dim)\n",
    "\n",
    "        dropped = self.dropout(hidden)\n",
    "        out = self.fc(dropped)\n",
    "        return out"
   ]
  },
  {
   "cell_type": "markdown",
   "id": "43ca65a5",
   "metadata": {},
   "source": [
    "### Transformer\n",
    "A Transformer is a neural network architecture designed primarily for handling sequential data. Unlike traditional recurrent networks (RNNs/LSTMs), transformers use a self-attention mechanism to process the entire sequence at once. This allows the model to capture long-range dependencies efficiently and in parallel, which has made transformers the foundation for many state-of-art models in NLP, such as BERT and GPT.\n",
    "\n",
    "**Features**:\n",
    "- Instead of processing tokens sequentially, a transformer applies self-attention mechanism to let each token attend to every other token in the input sequence simultaneously.\n",
    "- This is combined with positional encoding to inject information about token order, since the model doesn't inherently process inputs sequentially.\n",
    "- The original Transformer architecture consists of an encoder and a decoder; for classification tasks like sentiment analysis, usually only the encoder part is used.\n",
    "- Key components include multi-head attention layers, feed-forward neural networks, layer normalisation, and residual connections."
   ]
  },
  {
   "cell_type": "code",
   "execution_count": 26,
   "id": "0f1c6660",
   "metadata": {},
   "outputs": [],
   "source": [
    "class TransformerClassifier(nn.Module):\n",
    "    \"\"\"\n",
    "    Transformer encoder-based classifier for sequence classification.\n",
    "\n",
    "    Args:\n",
    "        vocab_size: Size of the vocabulary.\n",
    "        embed_dim: Dimension of the embedding vectors.\n",
    "        nhead: Number of attention heads.\n",
    "        num_layers: Number of transformer encoder layers.\n",
    "        hidden_dim: Dimension of intermediate feed-forward layers.\n",
    "        max_len: Maximum input sequence length.\n",
    "        num_classes: Number of output classes. Defaults to 1.\n",
    "        dropout_rate: Dropout rate. Defaults to 0.2.\n",
    "    \"\"\"\n",
    "\n",
    "    def __init__(\n",
    "        self,\n",
    "        vocab_size: int,\n",
    "        embed_dim: int,\n",
    "        nhead: int,\n",
    "        num_layers: int,\n",
    "        hidden_dim: int,\n",
    "        max_len: int,\n",
    "        num_classes: int = 1,\n",
    "        dropout_rate: float = 0.2,\n",
    "    ) -> None:\n",
    "        super().__init__()\n",
    "        # Embedding Layer: Maps input tokens (0 to vocab_size-1) to dense vectors\n",
    "        self.embedding = nn.Embedding(vocab_size, embed_dim, padding_idx=0)\n",
    "\n",
    "        # Positional Encoding: Adds sine and cosine functions of different frequencies to embeddings (for token position in the sequence)\n",
    "        self.pos_encoding = nn.Parameter(\n",
    "            self._get_positional_encoding(max_len, embed_dim), requires_grad=False\n",
    "        )\n",
    "        # Transformer Encoder Layer: One layer of the transformer encoder\n",
    "        encoder_layer = nn.TransformerEncoderLayer(\n",
    "            d_model=embed_dim,\n",
    "            nhead=nhead,  # Number of attention heads\n",
    "            dim_feedforward=hidden_dim,\n",
    "            dropout=dropout_rate,\n",
    "            batch_first=True,\n",
    "        )\n",
    "        # Stacks multiple encoder layers to form the full transformer encoder\n",
    "        self.transformer_encoder = nn.TransformerEncoder(\n",
    "            encoder_layer, num_layers=num_layers\n",
    "        )\n",
    "\n",
    "        self.dropout = nn.Dropout(dropout_rate)\n",
    "        self.fc = nn.Linear(embed_dim, num_classes)\n",
    "\n",
    "    def _get_positional_encoding(self, seq_len: int, d_model: int) -> torch.Tensor:\n",
    "        \"\"\"\n",
    "        Create fixed sinusoidal positional encodings.\n",
    "\n",
    "        Args:\n",
    "            seq_len: Sequence length.\n",
    "            d_model: Embedding dimension.\n",
    "\n",
    "        Returns:\n",
    "            Positional encoding tensor of shape (1, seq_len, d_model).\n",
    "        \"\"\"\n",
    "        pos = torch.arange(seq_len, dtype=torch.float32).unsqueeze(1)\n",
    "        i = torch.arange(d_model, dtype=torch.float32).unsqueeze(0)\n",
    "        angle_rates = 1 / torch.pow(10000, (2 * (i // 2)) / d_model)\n",
    "        angle_rads = pos * angle_rates\n",
    "        encoding = torch.zeros(seq_len, d_model)\n",
    "        encoding[:, 0::2] = torch.sin(angle_rads[:, 0::2])\n",
    "        encoding[:, 1::2] = torch.cos(angle_rads[:, 1::2])\n",
    "        return encoding.unsqueeze(0)  # (1, seq_len, d_model)\n",
    "\n",
    "    def forward(self, x: torch.Tensor) -> torch.Tensor:\n",
    "        \"\"\"\n",
    "        Forward pass for the transformer classifier.\n",
    "\n",
    "        Args:\n",
    "            x: Input tensor of shape (batch_size, seq_len).\n",
    "\n",
    "        Returns:\n",
    "            Output logits of shape (batch_size, num_classes).\n",
    "        \"\"\"\n",
    "        # x: (batch_size, seq_len)\n",
    "        embedded = self.embedding(x) + self.pos_encoding[:, : x.size(1), :]\n",
    "        mask = x == 0  # Assuming 0 is the <PAD> index\n",
    "        out = self.transformer_encoder(embedded, src_key_padding_mask=mask)\n",
    "        pooled = out.mean(dim=1)  # mean pooling over sequence\n",
    "        return self.fc(self.dropout(pooled))\n"
   ]
  },
  {
   "cell_type": "code",
   "execution_count": 27,
   "id": "b5d0464d",
   "metadata": {},
   "outputs": [],
   "source": [
    "# Hyperparameters\n",
    "VOCAB_SIZE = len(word2index)\n",
    "EMBEDDING_SIZE = 100\n",
    "HIDDEN_SIZE = 128\n",
    "OUTPUT_SIZE = 1  # For binary sentiment analysis (1 or 0)\n",
    "N_LAYERS = 2\n",
    "IS_BIDIRECTIONAL = True\n",
    "DROPOUT_RATE = 0.5\n",
    "N_EPOCHS = 3\n",
    "LEARNING_RATE = 1e-3\n",
    "N_HEAD = 4"
   ]
  },
  {
   "cell_type": "code",
   "execution_count": 28,
   "id": "68ceeb0f",
   "metadata": {},
   "outputs": [],
   "source": [
    "lstm = LSTMClassifier(\n",
    "    vocab_size=VOCAB_SIZE,\n",
    "    embedding_size=EMBEDDING_SIZE,\n",
    "    hidden_size=HIDDEN_SIZE,\n",
    "    output_size=OUTPUT_SIZE,\n",
    "    n_layers=N_LAYERS,\n",
    "    is_bidirectional=IS_BIDIRECTIONAL,\n",
    "    dropout_rate=DROPOUT_RATE,\n",
    ")\n",
    "\n",
    "transformer = TransformerClassifier(\n",
    "    vocab_size=VOCAB_SIZE,\n",
    "    embed_dim=EMBEDDING_SIZE,\n",
    "    nhead=N_HEAD,\n",
    "    num_layers=N_LAYERS,\n",
    "    hidden_dim=HIDDEN_SIZE,\n",
    "    max_len=SEQUENCE_LENGTH,\n",
    "    dropout_rate=DROPOUT_RATE,\n",
    ")"
   ]
  },
  {
   "cell_type": "markdown",
   "id": "5f9951ce",
   "metadata": {},
   "source": [
    "## 7. Evaluation Metrics\n",
    "### Accuracy\n",
    "Accuracy is the most common evaluation metric for classification problems, representing the percentage of correct predictions out of total predictions. It provides a simple measure of how often the classifier makes correct predictions across all classes.\n",
    "\n",
    "\\begin{align*}\n",
    "\\text{Accuracy} = \\dfrac{\\text{True Positives (TP)} + \\text{True Negatives (TN)}}{\\text{Total Samples}}\n",
    "\\end{align*}"
   ]
  },
  {
   "cell_type": "code",
   "execution_count": 29,
   "id": "ee9f3efe",
   "metadata": {},
   "outputs": [],
   "source": [
    "accuracy = Accuracy(\n",
    "    task=\"binary\",\n",
    "    num_classes=2,\n",
    ").to(device)"
   ]
  },
  {
   "cell_type": "markdown",
   "id": "ea9b8b28",
   "metadata": {},
   "source": [
    "## 8. Loss Function\n",
    "### Binary Cross-Entropy\n",
    "Binary Cross-Entropy loss function is used to measure the error between the true labels $y$ and the predicted probabilities $\\hat y$. The loss function is defined as:\n",
    "\n",
    "\\begin{align*}\n",
    "L = - \\dfrac{1}{n} \\sum_{i=1}^{n} y_{i} \\log(\\hat y_{i}) + (1-y_{i}) \\log(1- \\hat y_{i})\n",
    "\\end{align*}"
   ]
  },
  {
   "cell_type": "code",
   "execution_count": 30,
   "id": "cdc81680",
   "metadata": {},
   "outputs": [],
   "source": [
    "criterion = nn.BCEWithLogitsLoss()"
   ]
  },
  {
   "cell_type": "markdown",
   "id": "102744d7",
   "metadata": {},
   "source": [
    "## 9. Optimiser\n",
    "An optimiser in neural networks is used to adjust the parameters (weights and biases) of a model during training to minimise the loss. Optimisers are essential for enabling neural networks to learn from data: without them, the model would not improve over time."
   ]
  },
  {
   "cell_type": "code",
   "execution_count": 31,
   "id": "d71096bb",
   "metadata": {},
   "outputs": [],
   "source": [
    "lstm_optim = optim.Adam(lstm.parameters(), lr=LEARNING_RATE)\n",
    "transformer_optim = optim.Adam(\n",
    "    transformer.parameters(), lr=LEARNING_RATE, weight_decay=1e-5\n",
    ")"
   ]
  },
  {
   "cell_type": "markdown",
   "id": "70476cd8",
   "metadata": {},
   "source": [
    "## 10. Training and Evaluation\n",
    "1. Iterate through epochs\n",
    "1. For each epoch, iterate through training batches, perform training steps, calculate the train loss and evaluation metrics per batch.\n",
    "1. For each epoch, iterate through testing batches, perform testing steps, calculate the test loss and evaluation metrics per batch.\n",
    "1. Store the results.\n",
    "\n",
    "### Training Steps\n",
    "1. Zero the gradients\n",
    "    - Clear the gradients from the previous iteration to prevent accumulation across batches.\n",
    "1. Forward pass\n",
    "    - Pass inputs through the model to obtain predictions.\n",
    "1. Calculate loss and evaluation metrics per batch\n",
    "    - Measure how far the predictions deviate from the true labels using a loss function.\n",
    "    - Compute evaluation metrics (e.g., accuracy, F1 Score, etc.) for the current batch.\n",
    "1. Backward pass\n",
    "    - Compute gradients of the loss with respect to the model's parameters via backpropagation.\n",
    "    - Update the parameter $\\theta$ using the computed gradients, typically following:\n",
    "    $$\n",
    "        \\theta \\leftarrow \\theta - \\eta \\dfrac{\\partial \\mathcal{L}}{\\partial \\theta}\n",
    "    $$\n",
    "    where $\\eta$ is the learning rate.\n",
    "1. Average training loss and evaluation metrics\n",
    "    - Calculate the mean loss and metric values across all batches in the epoch."
   ]
  },
  {
   "cell_type": "code",
   "execution_count": null,
   "id": "8dfcc883",
   "metadata": {},
   "outputs": [],
   "source": [
    "def train_step(\n",
    "    model: nn.Module,\n",
    "    data_loader: DataLoader,\n",
    "    criterion: nn.Module,\n",
    "    optimiser: optim.Optimizer,\n",
    "    accuracy: Accuracy,\n",
    "    device: torch.device,\n",
    ") -> tuple[float, float]:\n",
    "    \"\"\"\n",
    "    Perform one training epoch step.\n",
    "\n",
    "    Args:\n",
    "        model: The model to train.\n",
    "        data_loader: DataLoader for training data.\n",
    "        criterion: Loss function.\n",
    "        optimiser: Optimiser.\n",
    "        accuracy: Torchmetrics accuracy metric.\n",
    "        device: Device to run the computations on.\n",
    "\n",
    "    Returns:\n",
    "        Average training loss and training accuracy (percentage).\n",
    "    \"\"\"\n",
    "    model.train()\n",
    "    accuracy.reset()\n",
    "    train_loss = 0.0\n",
    "    total_samples = 0\n",
    "\n",
    "    for texts, labels in data_loader:\n",
    "        texts, labels = texts.to(device), labels.to(device).unsqueeze(1)\n",
    "\n",
    "        # Optimiser zero grad without intervening forward pass\n",
    "        optimiser.zero_grad()\n",
    "\n",
    "        # Forward pass\n",
    "        y_logits = model(texts)  # Shape (batch_size, 1)\n",
    "\n",
    "        # Calculate loss\n",
    "        loss = criterion(y_logits, labels)\n",
    "        train_loss += loss.item() * texts.size(0)\n",
    "        total_samples += texts.size(0)\n",
    "\n",
    "        # Calculate accuracy\n",
    "        y_probs = torch.sigmoid(y_logits)\n",
    "        y_preds = (y_probs >= 0.5).int()\n",
    "        accuracy.update(y_preds, labels.int())\n",
    "\n",
    "        # Loss backward for backpropagation (computing gradients)\n",
    "        loss.backward()\n",
    "\n",
    "        # Optimiser step to apply gradients and update parameters\n",
    "        optimiser.step()\n",
    "    avg_train_loss = train_loss / total_samples\n",
    "    train_acc = accuracy.compute().item() * 100\n",
    "    return avg_train_loss, train_acc"
   ]
  },
  {
   "cell_type": "markdown",
   "id": "45a0cd53",
   "metadata": {},
   "source": [
    "### Testing Steps\n",
    "1. Forward pass\n",
    "    - Set the model to evaluation mode (which disables dropout and batch normalisation and deactivates gradient tracking for safety).\n",
    "    - Pass inputs through the model to obtain predictions.\n",
    "\n",
    "1. Calculate loss and evaluation metrics per batch\n",
    "    - Measure how far the predictions deviate from the true labels using a loss function.\n",
    "    - Compute evaluation metrics (e.g., accuracy, F1-Score, etc.) for the current batch.\n",
    "\n",
    "1. Average test loss and evaluation metrics\n",
    "    - Calculate the mean loss and metric values across all batches in the epoch."
   ]
  },
  {
   "cell_type": "code",
   "execution_count": null,
   "id": "1ca721e2",
   "metadata": {},
   "outputs": [],
   "source": [
    "def validation_step(\n",
    "    model: nn.Module,\n",
    "    data_loader: DataLoader,\n",
    "    criterion: nn.Module,\n",
    "    accuracy: Accuracy,\n",
    "    device: torch.device,\n",
    ") -> tuple[float, float]:\n",
    "    \"\"\"\n",
    "    Perform one validation epoch step.\n",
    "\n",
    "    Args:\n",
    "        model: The model to validate.\n",
    "        data_loader: DataLoader for validation data.\n",
    "        criterion: Loss function.\n",
    "        accuracy: Torchmetrics accuracy metric.\n",
    "        device: Device to run the computations on.\n",
    "\n",
    "    Returns:\n",
    "        Average validation loss and validation accuracy (percentage).\n",
    "    \"\"\"\n",
    "    model.eval()\n",
    "    accuracy.reset()\n",
    "    val_loss = 0.0\n",
    "    total_samples = 0\n",
    "    with torch.inference_mode():\n",
    "        for texts, labels in data_loader:\n",
    "            texts, labels = texts.to(device), labels.to(device).unsqueeze(-1)\n",
    "\n",
    "            # 1. Forward pass\n",
    "            y_logits = model(texts)\n",
    "\n",
    "            # 2. Calculate loss\n",
    "            loss = criterion(y_logits, labels)\n",
    "            val_loss += loss.item() * texts.size(0)\n",
    "            total_samples += texts.size(0)\n",
    "\n",
    "            # 3. Calculate accuracy\n",
    "            y_probs = torch.sigmoid(y_logits)\n",
    "            y_preds = (y_probs >= 0.5).int()\n",
    "            accuracy.update(y_preds, labels.int())\n",
    "\n",
    "    avg_val_loss = val_loss / total_samples\n",
    "    val_acc = accuracy.compute().item() * 100\n",
    "    return avg_val_loss, val_acc\n"
   ]
  },
  {
   "cell_type": "markdown",
   "id": "82de7a59",
   "metadata": {},
   "source": [
    "### Model Training and Evaluation Pipeline"
   ]
  },
  {
   "cell_type": "code",
   "execution_count": null,
   "id": "e3a57154",
   "metadata": {},
   "outputs": [],
   "source": [
    "def train_and_validate(\n",
    "    model: nn.Module,\n",
    "    train_loader: DataLoader,\n",
    "    val_loader: DataLoader,\n",
    "    criterion: nn.Module,\n",
    "    optimiser: optim.Optimizer,\n",
    "    device: torch.device,\n",
    "    total_epochs: int,\n",
    ") -> tuple[dict[str, list[float]], dict[str, list[float]]]:\n",
    "    \"\"\"\n",
    "    Train and validate the model over a specified number of epochs.\n",
    "\n",
    "    Args:\n",
    "        model: The model to train.\n",
    "        train_loader: DataLoader for training data.\n",
    "        val_loader: DataLoader for validation data.\n",
    "        criterion: Loss function.\n",
    "        optimiser: Optimiser.\n",
    "        device: Device to run computations on.\n",
    "        total_epochs: Number of training epochs.\n",
    "\n",
    "    Returns:\n",
    "        Dictionaries containing lists of training and validation losses and accuracies for each epoch.\n",
    "    \"\"\"\n",
    "    model.to(device)\n",
    "    epochs_range = range(1, total_epochs + 1)\n",
    "    train_results = {\"Loss\": [], \"Accuracy\": []}\n",
    "    val_results = {\"Loss\": [], \"Accuracy\": []}\n",
    "\n",
    "    start_time = time.time()\n",
    "\n",
    "    for epoch in epochs_range:\n",
    "        train_loss, train_acc = train_step(\n",
    "            data_loader=train_loader,\n",
    "            model=model,\n",
    "            criterion=criterion,\n",
    "            optimiser=optimiser,\n",
    "            accuracy=accuracy,\n",
    "            device=device,\n",
    "        )\n",
    "        train_results[\"Loss\"].append(train_loss)\n",
    "        train_results[\"Accuracy\"].append(train_acc)\n",
    "\n",
    "        val_loss, val_acc = validation_step(\n",
    "            data_loader=val_loader,\n",
    "            model=model,\n",
    "            criterion=criterion,\n",
    "            accuracy=accuracy,\n",
    "            device=device,\n",
    "        )\n",
    "        val_results[\"Loss\"].append(val_loss)\n",
    "        val_results[\"Accuracy\"].append(val_acc)\n",
    "\n",
    "        print(\n",
    "            f\"Epoch: {epoch}/{total_epochs} - \"\n",
    "            f\"Train Loss: {train_loss:.4f}  Train Accuracy: {train_acc:.2f}% | \"\n",
    "            f\"Val Loss: {val_loss:.4f}  Val Accuracy: {val_acc:.2f}%\"\n",
    "        )\n",
    "    end_time = time.time()\n",
    "    elapsed_time = end_time - start_time\n",
    "    print(f\"Training and validation completed in {elapsed_time:.2f} seconds.\")\n",
    "    return train_results, val_results"
   ]
  },
  {
   "cell_type": "markdown",
   "id": "7190e493",
   "metadata": {},
   "source": [
    "### Performance Evaluation (LSTM)"
   ]
  },
  {
   "cell_type": "code",
   "execution_count": 35,
   "id": "833fef64",
   "metadata": {},
   "outputs": [
    {
     "name": "stdout",
     "output_type": "stream",
     "text": [
      "Training LSTM...\n",
      "Epoch: 1/3 - Train Loss: 0.6745  Train Accuracy: 56.88% | Val Loss: 0.6835  Val Accuracy: 55.60%\n",
      "Epoch: 2/3 - Train Loss: 0.6208  Train Accuracy: 64.53% | Val Loss: 0.5609  Val Accuracy: 72.10%\n",
      "Epoch: 3/3 - Train Loss: 0.4278  Train Accuracy: 80.79% | Val Loss: 0.4123  Val Accuracy: 81.46%\n",
      "Training and validation completed in 476.98 seconds.\n"
     ]
    }
   ],
   "source": [
    "print(\"Training LSTM...\")\n",
    "lstm_train_results, lstm_val_results = train_and_validate(\n",
    "    lstm,\n",
    "    train_loader,\n",
    "    val_loader,\n",
    "    criterion,\n",
    "    lstm_optim,\n",
    "    device,\n",
    "    N_EPOCHS,\n",
    ")"
   ]
  },
  {
   "cell_type": "markdown",
   "id": "3d7eb597",
   "metadata": {},
   "source": [
    "### Performance Evaluation (Transformer)"
   ]
  },
  {
   "cell_type": "code",
   "execution_count": 36,
   "id": "d52c8a5a",
   "metadata": {},
   "outputs": [
    {
     "name": "stdout",
     "output_type": "stream",
     "text": [
      "Training Transformer...\n"
     ]
    },
    {
     "name": "stderr",
     "output_type": "stream",
     "text": [
      "/Users/tsu76i/Documents/Programming/Personal Projects/DS_Projects/.venv/lib/python3.13/site-packages/torch/nn/modules/transformer.py:505: UserWarning: The PyTorch API of nested tensors is in prototype stage and will change in the near future. We recommend specifying layout=torch.jagged when constructing a nested tensor, as this layout receives active development, has better operator coverage, and works with torch.compile. (Triggered internally at /Users/runner/work/pytorch/pytorch/pytorch/aten/src/ATen/NestedTensorImpl.cpp:182.)\n",
      "  output = torch._nested_tensor_from_mask(\n"
     ]
    },
    {
     "name": "stdout",
     "output_type": "stream",
     "text": [
      "Epoch: 1/3 - Train Loss: 0.5399  Train Accuracy: 71.52% | Val Loss: 0.4369  Val Accuracy: 80.70%\n",
      "Epoch: 2/3 - Train Loss: 0.3928  Train Accuracy: 82.67% | Val Loss: 0.4033  Val Accuracy: 83.22%\n",
      "Epoch: 3/3 - Train Loss: 0.3348  Train Accuracy: 85.58% | Val Loss: 0.4120  Val Accuracy: 83.26%\n",
      "Training and validation completed in 327.87 seconds.\n"
     ]
    }
   ],
   "source": [
    "print(\"Training Transformer...\")\n",
    "transformer_train_results, transformer_val_results = train_and_validate(\n",
    "    transformer,\n",
    "    train_loader,\n",
    "    val_loader,\n",
    "    criterion,\n",
    "    transformer_optim,\n",
    "    device,\n",
    "    N_EPOCHS,\n",
    ")"
   ]
  },
  {
   "cell_type": "markdown",
   "id": "60e36ce2",
   "metadata": {},
   "source": [
    "## 11. Results\n",
    "### Overall Performance"
   ]
  },
  {
   "cell_type": "code",
   "execution_count": null,
   "id": "efae362c",
   "metadata": {},
   "outputs": [],
   "source": [
    "def plot_performance(\n",
    "    model_name: str,\n",
    "    total_epochs: int,\n",
    "    train_metrics: dict[str, list[float]],\n",
    "    test_metrics: dict[str, list[float]],\n",
    ") -> None:\n",
    "    \"\"\"\n",
    "    Plot training and testing metrics over epochs.\n",
    "\n",
    "    Args:\n",
    "        model_name: Name of the model for plot titles.\n",
    "        total_epochs: Number of training epochs.\n",
    "        train_metrics: Dictionary of training metrics.\n",
    "        test_metrics: Dictionary of testing metrics.\n",
    "    \"\"\"\n",
    "    epochs_range = range(1, total_epochs + 1)\n",
    "    metric_names = list(train_metrics.keys())\n",
    "    n_metrics = len(metric_names)\n",
    "    fig, axes = plt.subplots(nrows=1, ncols=2, figsize=(16, 6))\n",
    "    axes = axes.flatten()\n",
    "\n",
    "    for i, metric_name in enumerate(metric_names):\n",
    "        ax = axes[i]\n",
    "        ax.plot(\n",
    "            epochs_range, train_metrics[metric_name], label=f\"Train {metric_name}\"\n",
    "        )  # Train metric\n",
    "        ax.plot(\n",
    "            epochs_range, test_metrics[metric_name], label=f\"Test {metric_name}\"\n",
    "        )  # Test metric\n",
    "        ax.set_title(f\"{metric_name} Over Epochs ({model_name})\", fontsize=15)\n",
    "        ax.legend()\n",
    "        ax.set_xlabel(\"Epoch\")\n",
    "        ax.set_ylabel(metric_name)\n",
    "\n",
    "    if n_metrics < len(axes):\n",
    "        for j in range(n_metrics, len(axes)):\n",
    "            plt.delaxes(axes[j])\n",
    "    plt.tight_layout()\n",
    "    plt.show()"
   ]
  },
  {
   "cell_type": "code",
   "execution_count": 74,
   "id": "0db4ee86",
   "metadata": {},
   "outputs": [
    {
     "data": {
      "image/png": "[encoded data removed]",
      "text/plain": [
       "<Figure size 1600x600 with 2 Axes>"
      ]
     },
     "metadata": {},
     "output_type": "display_data"
    },
    {
     "data": {
      "image/png": "[encoded data removed]",
      "text/plain": [
       "<Figure size 1600x600 with 2 Axes>"
      ]
     },
     "metadata": {},
     "output_type": "display_data"
    }
   ],
   "source": [
    "plot_performance(\"LSTM\", N_EPOCHS, lstm_train_results, lstm_val_results)\n",
    "plot_performance(\n",
    "    \"Transformer\", N_EPOCHS, transformer_train_results, transformer_val_results\n",
    ")"
   ]
  },
  {
   "cell_type": "markdown",
   "id": "0db2b275",
   "metadata": {},
   "source": [
    "### Predictions on Test DataLoader"
   ]
  },
  {
   "cell_type": "code",
   "execution_count": 39,
   "id": "c1a13cc8",
   "metadata": {},
   "outputs": [],
   "source": [
    "def make_predictions(\n",
    "    model: nn.Module,\n",
    "    data_loader: DataLoader,\n",
    "    criterion: nn.Module,\n",
    "    accuracy: Accuracy,\n",
    "    device: torch.device,\n",
    "):\n",
    "    all_predictions = []\n",
    "    all_labels = []\n",
    "    test_loss = 0.0\n",
    "    total_samples = 0\n",
    "    accuracy.reset()\n",
    "    model.eval()\n",
    "    with torch.inference_mode():\n",
    "        for texts, labels in data_loader:\n",
    "            texts, labels = texts.to(device), labels.to(device).unsqueeze(-1)\n",
    "\n",
    "            # Forward pass\n",
    "            y_logits = model(texts)\n",
    "            y_probs = torch.sigmoid(y_logits)\n",
    "            y_preds = (y_probs >= 0.5).int()\n",
    "\n",
    "            # Calculate accuracy\n",
    "            accuracy.update(y_preds, labels.int())\n",
    "\n",
    "            # Update lists\n",
    "            all_predictions.append(y_preds.cpu())\n",
    "            all_labels.append(labels.cpu())\n",
    "\n",
    "            # Calculate loss\n",
    "            loss = criterion(y_logits.view_as(labels), labels)\n",
    "            test_loss += loss.item() * texts.size(0)\n",
    "            total_samples += texts.size(0)\n",
    "    avg_test_loss = test_loss / total_samples\n",
    "    test_acc = accuracy.compute().item() * 100\n",
    "    print(f\"Test loss: {avg_test_loss:.4f} | Test acc: {test_acc:.2f}%\")\n",
    "    all_preds_tensor = torch.cat(all_predictions)\n",
    "    all_labels_tensor = torch.cat(all_labels)\n",
    "    return all_preds_tensor, all_labels_tensor\n"
   ]
  },
  {
   "cell_type": "code",
   "execution_count": 40,
   "id": "c8013dba",
   "metadata": {},
   "outputs": [
    {
     "name": "stdout",
     "output_type": "stream",
     "text": [
      "Testing LSTM...\n",
      "Test loss: 0.4000 | Test acc: 81.92%\n",
      "Number of failed predictions: 904/5000 (18.08%)\n"
     ]
    }
   ],
   "source": [
    "print(\"Testing LSTM...\")\n",
    "all_preds_lstm, all_labels_lstm = make_predictions(\n",
    "    model=lstm,\n",
    "    data_loader=test_loader,\n",
    "    criterion=criterion,\n",
    "    accuracy=accuracy,\n",
    "    device=device,\n",
    ")\n",
    "\n",
    "wrong_indices_lstm = (all_preds_lstm != all_labels_lstm).nonzero(as_tuple=True)[0]\n",
    "print(\n",
    "    f\"Number of failed predictions: {len(wrong_indices_lstm)}/{len(all_labels_lstm)} ({100.0 * len(wrong_indices_lstm) / len(all_labels_lstm):.2f}%)\"\n",
    ")"
   ]
  },
  {
   "cell_type": "code",
   "execution_count": 41,
   "id": "0b529734",
   "metadata": {},
   "outputs": [
    {
     "name": "stdout",
     "output_type": "stream",
     "text": [
      "Testing Transformer...\n",
      "Test loss: 0.4216 | Test acc: 82.58%\n",
      "Number of failed predictions: 871/5000 (17.42%)\n"
     ]
    }
   ],
   "source": [
    "print(\"Testing Transformer...\")\n",
    "all_preds_transformer, all_labels_transformer = make_predictions(\n",
    "    model=transformer,\n",
    "    data_loader=test_loader,\n",
    "    criterion=criterion,\n",
    "    accuracy=accuracy,\n",
    "    device=device,\n",
    ")\n",
    "\n",
    "wrong_indices_transformer = (all_preds_transformer != all_labels_transformer).nonzero(\n",
    "    as_tuple=True\n",
    ")[0]\n",
    "print(\n",
    "    f\"Number of failed predictions: {len(wrong_indices_transformer)}/{len(all_labels_transformer)} ({100.0 * len(wrong_indices_transformer) / len(all_labels_transformer):.2f}%)\"\n",
    ")"
   ]
  },
  {
   "cell_type": "markdown",
   "id": "b9b6625c",
   "metadata": {},
   "source": [
    "### Confusion Matrix"
   ]
  },
  {
   "cell_type": "code",
   "execution_count": 42,
   "id": "acfb562d",
   "metadata": {},
   "outputs": [
    {
     "data": {
      "image/png": "[encoded data removed]",
      "text/plain": [
       "<Figure size 1600x1000 with 2 Axes>"
      ]
     },
     "metadata": {},
     "output_type": "display_data"
    }
   ],
   "source": [
    "from torchmetrics import ConfusionMatrix\n",
    "from mlxtend.plotting import plot_confusion_matrix\n",
    "\n",
    "# Convert to tensors if not already\n",
    "true_labels = all_labels_lstm\n",
    "preds_tensor_lstm = all_preds_lstm.detach().clone()\n",
    "preds_tensor_transformer = all_preds_transformer.detach().clone()\n",
    "class_names = [\"Negative\", \"Positive\"]\n",
    "model_names = [\"LSTM\", \"Transformer\"]\n",
    "\n",
    "# Compute confusion matrix\n",
    "conf_matrix = ConfusionMatrix(num_classes=2, task=\"binary\")\n",
    "conf_matrix_tensor_lstm = conf_matrix(preds_tensor_lstm, true_labels)\n",
    "conf_matrix_tensor_transformer = conf_matrix(preds_tensor_transformer, true_labels)\n",
    "\n",
    "fig, axes = plt.subplots(ncols=2, nrows=1, figsize=(16, 10))\n",
    "axes = axes.flatten()\n",
    "\n",
    "plot_confusion_matrix(\n",
    "    conf_mat=conf_matrix_tensor_lstm.numpy(),\n",
    "    cmap=\"Blues\",\n",
    "    axis=axes[0],\n",
    ")\n",
    "plot_confusion_matrix(\n",
    "    conf_mat=conf_matrix_tensor_transformer.numpy(),\n",
    "    cmap=\"Blues\",\n",
    "    axis=axes[1],\n",
    ")\n",
    "\n",
    "for i, ax in enumerate(axes):\n",
    "    ax.set_xticks(range(len(class_names)))\n",
    "    ax.set_xticklabels(class_names, rotation=45, ha=\"right\")\n",
    "    ax.set_yticks(range(len(class_names)))\n",
    "    ax.set_yticklabels(class_names)\n",
    "    ax.set_xlabel(\"Predicted label\")\n",
    "    ax.set_ylabel(\"True label\")\n",
    "    ax.set_title(f\"Confusion Matrix ({model_names[i]})\", fontdict={\"fontsize\": 16})\n",
    "\n",
    "plt.tight_layout()\n",
    "plt.show()"
   ]
  },
  {
   "cell_type": "markdown",
   "id": "1933e087",
   "metadata": {},
   "source": [
    "### Sample Predictions"
   ]
  },
  {
   "cell_type": "code",
   "execution_count": null,
   "id": "7fe13f94",
   "metadata": {},
   "outputs": [],
   "source": [
    "def predict_single_text(\n",
    "    model: torch.nn.Module,\n",
    "    raw_text: str,\n",
    "    word2index: dict[str, int],\n",
    "    max_seq_len: int,\n",
    "    device: torch.device,\n",
    ") -> tuple[int, float]:\n",
    "    \"\"\"\n",
    "    Predict the label and confidence score for a single raw text input using the given model.\n",
    "\n",
    "    Args:\n",
    "        model: The trained PyTorch model for classification.\n",
    "        raw_text: The raw input string to classify.\n",
    "        word2index: Mapping from token strings to their integer indices.\n",
    "        max_seq_len: The fixed input sequence length for the model.\n",
    "        device: The device on which to perform computation (CPU or GPU).\n",
    "\n",
    "    Returns:\n",
    "        Tuple:\n",
    "            pred: Predicted class label (0 or 1).\n",
    "            confidence: Confidence score between 0 and 1 indicating certainty about prediction.\n",
    "    \"\"\"\n",
    "    model.eval()\n",
    "    cleaned = clean_text(raw_text)\n",
    "    tokens = cleaned.split()\n",
    "    indices = [word2index.get(word, word2index[\"<UNK>\"]) for word in tokens]\n",
    "    if len(indices) < max_seq_len:\n",
    "        indices += [word2index[\"<PAD>\"]] * (max_seq_len - len(indices))\n",
    "    else:\n",
    "        indices = indices[:max_seq_len]\n",
    "    input_tensor = torch.tensor([indices], dtype=torch.long).to(device)\n",
    "    with torch.no_grad():\n",
    "        logits = model(input_tensor)\n",
    "        prob = torch.sigmoid(logits).item()\n",
    "        pred = int(prob >= 0.5)\n",
    "        confidence = abs(prob - 0.5) * 2\n",
    "    return pred, confidence"
   ]
  },
  {
   "cell_type": "code",
   "execution_count": 44,
   "id": "67145f6e",
   "metadata": {},
   "outputs": [
    {
     "name": "stdout",
     "output_type": "stream",
     "text": [
      "Text: I really enjoyed this movie! The storyline was engaging and the characters were well-developed. The visuals were stunning, and the soundtrack perfectly matched the mood. Definitely worth watching!\n",
      "\n",
      "LSTM:\t\t Predicted class: 1(Positive), Confidence: 0.951\n",
      "Transformer:\t Predicted class: 1(Positive), Confidence: 0.575\n"
     ]
    }
   ],
   "source": [
    "text_1 = \"I really enjoyed this movie! The storyline was engaging and the characters were well-developed. The visuals were stunning, and the soundtrack perfectly matched the mood. Definitely worth watching!\"\n",
    "\n",
    "pred_lstm, confidence_lstm = predict_single_text(\n",
    "    lstm, text_1, word2index, SEQUENCE_LENGTH, device\n",
    ")\n",
    "pred_transformer, confidence_transformer = predict_single_text(\n",
    "    transformer, text_1, word2index, SEQUENCE_LENGTH, device\n",
    ")\n",
    "class_map = {0: \"Negative\", 1: \"Positive\"}\n",
    "\n",
    "print(f\"Text: {text_1}\\n\")\n",
    "print(\n",
    "    f\"LSTM:\\t\\t Predicted class: {pred_lstm}({class_map[pred_lstm]}), Confidence: {confidence_lstm:.3f}\"\n",
    ")\n",
    "print(\n",
    "    f\"Transformer:\\t Predicted class: {pred_transformer}({class_map[pred_transformer]}), Confidence: {confidence_transformer:.3f}\"\n",
    ")"
   ]
  },
  {
   "cell_type": "code",
   "execution_count": 45,
   "id": "a0c5ce32",
   "metadata": {},
   "outputs": [
    {
     "name": "stdout",
     "output_type": "stream",
     "text": [
      "Text: I was quite disappointed by this movie. The story felt predictable and dull, the characters were underdeveloped, and the pacing was painfully slow. I struggled to stay interested and wouldn't recommend it.\n",
      "\n",
      "LSTM:\t\t Predicted class: 0(Negative), Confidence: 0.941\n",
      "Transformer:\t Predicted class: 0(Negative), Confidence: 0.516\n"
     ]
    }
   ],
   "source": [
    "text_2 = \"I was quite disappointed by this movie. The story felt predictable and dull, the characters were underdeveloped, and the pacing was painfully slow. I struggled to stay interested and wouldn't recommend it.\"\n",
    "\n",
    "pred_lstm, confidence_lstm = predict_single_text(\n",
    "    lstm, text_2, word2index, SEQUENCE_LENGTH, device\n",
    ")\n",
    "pred_transformer, confidence_transformer = predict_single_text(\n",
    "    transformer, text_2, word2index, SEQUENCE_LENGTH, device\n",
    ")\n",
    "class_map = {0: \"Negative\", 1: \"Positive\"}\n",
    "\n",
    "print(f\"Text: {text_2}\\n\")\n",
    "print(\n",
    "    f\"LSTM:\\t\\t Predicted class: {pred_lstm}({class_map[pred_lstm]}), Confidence: {confidence_lstm:.3f}\"\n",
    ")\n",
    "print(\n",
    "    f\"Transformer:\\t Predicted class: {pred_transformer}({class_map[pred_transformer]}), Confidence: {confidence_transformer:.3f}\"\n",
    ")"
   ]
  },
  {
   "cell_type": "markdown",
   "id": "665d2b2c",
   "metadata": {},
   "source": [
    "### Observations\n",
    "After training for 3 epochs, the custom transformer model achieved a test accuracy of 82.58%, slightly outperforming the custom LSTM model, which reached 81.92% on the same test dataset. The test losses were 0.4216 for the transformer and 0.4000 for the LSTM, showing comparable performance.\n",
    "\n",
    "However, when evaluating individual sample texts, the LSTM model predicted the sentiment with significantly higher confidence than the transformer model. For example:\n",
    "\n",
    "- For a positive review, the LSTM returned a confidence of 0.951, compared to the transformer’s 0.575.\n",
    "\n",
    "- For a negative review, the LSTM’s confidence was 0.941, compared to the transformer’s 0.516.\n",
    "\n",
    "Although the transformer has a slightly better overall accuracy, the LSTM provides more decisive predictions (confidence scores closer to 1) on these specific examples.\n",
    "\n",
    "The difference in confidence could be influenced by model architecture, training dynamics, or the calibration of output logits. Further fine-tuning, hyperparameter tuning, or a larger training dataset may be required to improve the transformer's confidence calibration."
   ]
  },
  {
   "cell_type": "markdown",
   "id": "61ffb35f",
   "metadata": {},
   "source": [
    "## 12. Pre-Trained Transformer Model (From Hugging Face)\n",
    "Hugging Face Transformers is an open-source library that simplifies the use of transformer architectures for diverse language tasks such as text classification, translation, summarization, question answering, and more. It offers pre-trained models that can be easily fine-tuned on specific datasets or used directly for inference, accelerating the development of NLP applications.\n",
    "\n",
    "To use pre-trained transformer models from Hugging Face, the data preparation pipelines—from loading data to fine-tuning models—are commonly implemented using the datasets library, which provides efficient tools for loading, processing, and managing datasets."
   ]
  },
  {
   "cell_type": "code",
   "execution_count": 46,
   "id": "d1eb92c7",
   "metadata": {},
   "outputs": [],
   "source": [
    "from datasets import load_dataset\n",
    "\n",
    "dataset = load_dataset(\n",
    "    path=\"csv\",\n",
    "    data_files={\"all_data\": \"_datasets/IMDB_Dataset.csv\"},\n",
    ")\n",
    "\n",
    "dataset = dataset.rename_column(\"sentiment\", \"labels\")"
   ]
  },
  {
   "cell_type": "markdown",
   "id": "2ecaf494",
   "metadata": {},
   "source": [
    "In the original dataset, sentiment labels are stored as strings ('positive' or 'negative'). To process the data for Hugging Face transformers, these labels should be converted to integer values."
   ]
  },
  {
   "cell_type": "code",
   "execution_count": null,
   "id": "4cfc56ff",
   "metadata": {},
   "outputs": [],
   "source": [
    "def label_to_int(sample: dict) -> dict:\n",
    "    \"\"\"\n",
    "    Convert string sentiment labels ('positive'/'negative') to integer labels (1/0).\n",
    "\n",
    "    Args:\n",
    "        sample: A dictionary representing a data example with a 'labels' key.\n",
    "\n",
    "    Returns:\n",
    "        Dict: The same dictionary with 'labels' converted to integer values.\n",
    "    \"\"\"\n",
    "\n",
    "    if sample[\"labels\"] == \"positive\":\n",
    "        sample[\"labels\"] = 1\n",
    "    else:\n",
    "        sample[\"labels\"] = 0\n",
    "    return sample\n",
    "\n",
    "\n",
    "# Apply it on the full dataset\n",
    "dataset = dataset.map(label_to_int)"
   ]
  },
  {
   "cell_type": "markdown",
   "id": "d48a809e",
   "metadata": {},
   "source": [
    "The dataset is split into training, validation, and test subsets. To accelerate the training process, 10000 samples are randomly selected from the full dataset of 50000 samples."
   ]
  },
  {
   "cell_type": "code",
   "execution_count": 58,
   "id": "e415741e",
   "metadata": {},
   "outputs": [],
   "source": [
    "# 80% train, 10% validation and 10% test\n",
    "split = (\n",
    "    dataset[\"all_data\"]\n",
    "    .shuffle(seed=RANDOM_SEED)\n",
    "    .select(range(10000))\n",
    "    .train_test_split(test_size=0.2, seed=RANDOM_SEED)\n",
    ")\n",
    "train_dataset = split[\"train\"]\n",
    "subset = split[\"test\"]\n",
    "\n",
    "subset_split = subset.train_test_split(test_size=0.5, seed=RANDOM_SEED)\n",
    "val_dataset = subset_split[\"train\"]\n",
    "test_dataset = subset_split[\"test\"]"
   ]
  },
  {
   "cell_type": "markdown",
   "id": "edc01054",
   "metadata": {},
   "source": [
    "### Tokenisation with Hugging Face\n",
    "Tokenise the text using the pre-trained tokeniser with padding and truncation."
   ]
  },
  {
   "cell_type": "code",
   "execution_count": null,
   "id": "2b472714",
   "metadata": {},
   "outputs": [],
   "source": [
    "from transformers import AutoTokenizer\n",
    "\n",
    "model_name = \"distilbert-base-uncased\"\n",
    "tokeniser = AutoTokenizer.from_pretrained(model_name)\n",
    "\n",
    "\n",
    "def tokenise(batch: dict) -> dict:\n",
    "    \"\"\"\n",
    "    Tokenise a batch of text data using a tokeniser.\n",
    "\n",
    "    Args:\n",
    "        batch: A batch dictionary with key 'review' containing text string(s).\n",
    "\n",
    "    Returns:\n",
    "        Tokenised output including token ids, attention mask, etc.\n",
    "    \"\"\"\n",
    "    return tokeniser(\n",
    "        batch[\"review\"],\n",
    "        padding=\"max_length\",\n",
    "        truncation=True,\n",
    "    )"
   ]
  },
  {
   "cell_type": "code",
   "execution_count": 60,
   "id": "fac4afdf",
   "metadata": {},
   "outputs": [
    {
     "data": {
      "application/vnd.jupyter.widget-view+json": {
       "model_id": "e303bfdced3446a787f90a2316389d54",
       "version_major": 2,
       "version_minor": 0
      },
      "text/plain": [
       "Map:   0%|          | 0/8000 [00:00<?, ? examples/s]"
      ]
     },
     "metadata": {},
     "output_type": "display_data"
    },
    {
     "data": {
      "application/vnd.jupyter.widget-view+json": {
       "model_id": "e2b633de0bde44038a75f8a026b7d3f7",
       "version_major": 2,
       "version_minor": 0
      },
      "text/plain": [
       "Map:   0%|          | 0/1000 [00:00<?, ? examples/s]"
      ]
     },
     "metadata": {},
     "output_type": "display_data"
    },
    {
     "data": {
      "application/vnd.jupyter.widget-view+json": {
       "model_id": "db41324093ac45e7b88fd1e4552db6c3",
       "version_major": 2,
       "version_minor": 0
      },
      "text/plain": [
       "Map:   0%|          | 0/1000 [00:00<?, ? examples/s]"
      ]
     },
     "metadata": {},
     "output_type": "display_data"
    }
   ],
   "source": [
    "tokenised_train_dataset = train_dataset.map(tokenise, batched=True)\n",
    "tokenised_val_dataset = val_dataset.map(tokenise, batched=True)\n",
    "tokenised_test_dataset = test_dataset.map(tokenise, batched=True)"
   ]
  },
  {
   "cell_type": "code",
   "execution_count": 61,
   "id": "cea94bba",
   "metadata": {},
   "outputs": [],
   "source": [
    "from transformers import DataCollatorWithPadding\n",
    "\n",
    "data_collator = DataCollatorWithPadding(tokenizer=tokeniser)"
   ]
  },
  {
   "cell_type": "markdown",
   "id": "b369ad0d",
   "metadata": {},
   "source": [
    "### Reformatting for PyTorch\n",
    "Format the dataset for PyTorch, including the labels column as integer tensor."
   ]
  },
  {
   "cell_type": "code",
   "execution_count": 62,
   "id": "5fb39d04",
   "metadata": {},
   "outputs": [],
   "source": [
    "tokenised_train_dataset.set_format(\n",
    "    \"torch\", columns=[\"input_ids\", \"attention_mask\", \"labels\"]\n",
    ")\n",
    "tokenised_val_dataset.set_format(\n",
    "    \"torch\", columns=[\"input_ids\", \"attention_mask\", \"labels\"]\n",
    ")\n",
    "tokenised_test_dataset.set_format(\n",
    "    \"torch\", columns=[\"input_ids\", \"attention_mask\", \"labels\"]\n",
    ")"
   ]
  },
  {
   "cell_type": "markdown",
   "id": "9465ae14",
   "metadata": {},
   "source": [
    "### Training Arguments"
   ]
  },
  {
   "cell_type": "code",
   "execution_count": 63,
   "id": "a1cd0165",
   "metadata": {},
   "outputs": [],
   "source": [
    "from transformers import TrainingArguments\n",
    "\n",
    "training_args = TrainingArguments(\n",
    "    output_dir=\"./results\",\n",
    "    eval_strategy=\"epoch\",  # Evaluate after each epoch\n",
    "    learning_rate=2e-5,\n",
    "    per_device_train_batch_size=16,\n",
    "    per_device_eval_batch_size=16,\n",
    "    num_train_epochs=3,\n",
    "    weight_decay=0.01,\n",
    "    save_strategy=\"epoch\",\n",
    "    load_best_model_at_end=True,\n",
    "    logging_dir=\"./logs\",\n",
    ")"
   ]
  },
  {
   "cell_type": "markdown",
   "id": "8e1c244e",
   "metadata": {},
   "source": [
    "### Metrics"
   ]
  },
  {
   "cell_type": "code",
   "execution_count": null,
   "id": "24c042ca",
   "metadata": {},
   "outputs": [],
   "source": [
    "import evaluate\n",
    "\n",
    "metric = evaluate.load(\"accuracy\")\n",
    "\n",
    "\n",
    "def compute_metrics(\n",
    "    eval_pred: tuple[NDArray[np.float64], NDArray[np.int64]],\n",
    ") -> dict[str, float]:\n",
    "    \"\"\"\n",
    "    Compute evaluation metrics for model outputs and true labels.\n",
    "\n",
    "    Args:\n",
    "        eval_pred: Tuple containing raw model logits and target labels.\n",
    "            - logits: Array of shape (batch_size, num_classes)\n",
    "            - labels: Array of shape (batch_size,)\n",
    "\n",
    "    Returns:\n",
    "        Dictionary of computed metric scores, e.g., {'accuracy': 0.95}.\n",
    "    \"\"\"\n",
    "    logits, labels = eval_pred\n",
    "    predictions = np.argmax(logits, axis=-1)\n",
    "    return metric.compute(predictions=predictions, references=labels)"
   ]
  },
  {
   "cell_type": "markdown",
   "id": "255853ff",
   "metadata": {},
   "source": [
    "### Loading Pre-Trained Model"
   ]
  },
  {
   "cell_type": "code",
   "execution_count": 65,
   "id": "e804ee43",
   "metadata": {},
   "outputs": [],
   "source": [
    "id2label = {0: \"NEGATIVE\", 1: \"POSITIVE\"}\n",
    "label2id = {\"NEGATIVE\": 0, \"POSITIVE\": 1}"
   ]
  },
  {
   "cell_type": "code",
   "execution_count": 66,
   "id": "76d53453",
   "metadata": {},
   "outputs": [
    {
     "name": "stderr",
     "output_type": "stream",
     "text": [
      "Some weights of DistilBertForSequenceClassification were not initialized from the model checkpoint at distilbert-base-uncased and are newly initialized: ['classifier.bias', 'classifier.weight', 'pre_classifier.bias', 'pre_classifier.weight']\n",
      "You should probably TRAIN this model on a down-stream task to be able to use it for predictions and inference.\n"
     ]
    }
   ],
   "source": [
    "from transformers import AutoModelForSequenceClassification\n",
    "\n",
    "num_labels = 2  # Binary Classification\n",
    "hf_model = AutoModelForSequenceClassification.from_pretrained(\n",
    "    model_name,\n",
    "    num_labels=num_labels,\n",
    "    id2label=id2label,\n",
    "    label2id=label2id,\n",
    ")"
   ]
  },
  {
   "cell_type": "markdown",
   "id": "d2657b07",
   "metadata": {},
   "source": [
    "### Training Transformer Model"
   ]
  },
  {
   "cell_type": "code",
   "execution_count": 67,
   "id": "7a19fc21",
   "metadata": {},
   "outputs": [
    {
     "data": {
      "text/html": [
       "\n",
       "    <div>\n",
       "      \n",
       "      <progress value='1500' max='1500' style='width:300px; height:20px; vertical-align: middle;'></progress>\n",
       "      [1500/1500 55:00, Epoch 3/3]\n",
       "    </div>\n",
       "    <table border=\"1\" class=\"dataframe\">\n",
       "  <thead>\n",
       " <tr style=\"text-align: left;\">\n",
       "      <th>Epoch</th>\n",
       "      <th>Training Loss</th>\n",
       "      <th>Validation Loss</th>\n",
       "      <th>Accuracy</th>\n",
       "    </tr>\n",
       "  </thead>\n",
       "  <tbody>\n",
       "    <tr>\n",
       "      <td>1</td>\n",
       "      <td>0.304100</td>\n",
       "      <td>0.214928</td>\n",
       "      <td>0.918000</td>\n",
       "    </tr>\n",
       "    <tr>\n",
       "      <td>2</td>\n",
       "      <td>0.163500</td>\n",
       "      <td>0.287378</td>\n",
       "      <td>0.923000</td>\n",
       "    </tr>\n",
       "    <tr>\n",
       "      <td>3</td>\n",
       "      <td>0.089000</td>\n",
       "      <td>0.325328</td>\n",
       "      <td>0.921000</td>\n",
       "    </tr>\n",
       "  </tbody>\n",
       "</table><p>"
      ],
      "text/plain": [
       "<IPython.core.display.HTML object>"
      ]
     },
     "metadata": {},
     "output_type": "display_data"
    },
    {
     "name": "stderr",
     "output_type": "stream",
     "text": [
      "/Users/tsu76i/Documents/Programming/Personal Projects/DS_Projects/.venv/lib/python3.13/site-packages/torch/utils/data/dataloader.py:683: UserWarning: 'pin_memory' argument is set as true but not supported on MPS now, then device pinned memory won't be used.\n",
      "  warnings.warn(warn_msg)\n",
      "/Users/tsu76i/Documents/Programming/Personal Projects/DS_Projects/.venv/lib/python3.13/site-packages/torch/utils/data/dataloader.py:683: UserWarning: 'pin_memory' argument is set as true but not supported on MPS now, then device pinned memory won't be used.\n",
      "  warnings.warn(warn_msg)\n"
     ]
    },
    {
     "data": {
      "text/plain": [
       "TrainOutput(global_step=1500, training_loss=0.18554996744791666, metrics={'train_runtime': 3306.53, 'train_samples_per_second': 7.258, 'train_steps_per_second': 0.454, 'total_flos': 3179217567744000.0, 'train_loss': 0.18554996744791666, 'epoch': 3.0})"
      ]
     },
     "execution_count": 67,
     "metadata": {},
     "output_type": "execute_result"
    }
   ],
   "source": [
    "from transformers import Trainer\n",
    "\n",
    "trainer = Trainer(\n",
    "    model=hf_model,\n",
    "    args=training_args,\n",
    "    train_dataset=tokenised_train_dataset,\n",
    "    eval_dataset=tokenised_val_dataset,\n",
    "    processing_class=tokeniser,\n",
    "    data_collator=data_collator,\n",
    "    compute_metrics=compute_metrics,\n",
    ")\n",
    "\n",
    "trainer.train()"
   ]
  },
  {
   "cell_type": "code",
   "execution_count": 68,
   "id": "4fe022bb",
   "metadata": {},
   "outputs": [
    {
     "data": {
      "text/plain": [
       "('./my_finetuned_model/tokenizer_config.json',\n",
       " './my_finetuned_model/special_tokens_map.json',\n",
       " './my_finetuned_model/vocab.txt',\n",
       " './my_finetuned_model/added_tokens.json',\n",
       " './my_finetuned_model/tokenizer.json')"
      ]
     },
     "execution_count": 68,
     "metadata": {},
     "output_type": "execute_result"
    }
   ],
   "source": [
    "trainer.save_model(\"./my_finetuned_model\")\n",
    "tokeniser.save_pretrained(\"./my_finetuned_model\")"
   ]
  },
  {
   "cell_type": "code",
   "execution_count": 69,
   "id": "781d57d7",
   "metadata": {},
   "outputs": [
    {
     "name": "stderr",
     "output_type": "stream",
     "text": [
      "/Users/tsu76i/Documents/Programming/Personal Projects/DS_Projects/.venv/lib/python3.13/site-packages/torch/utils/data/dataloader.py:683: UserWarning: 'pin_memory' argument is set as true but not supported on MPS now, then device pinned memory won't be used.\n",
      "  warnings.warn(warn_msg)\n"
     ]
    },
    {
     "data": {
      "text/html": [
       "\n",
       "    <div>\n",
       "      \n",
       "      <progress value='63' max='63' style='width:300px; height:20px; vertical-align: middle;'></progress>\n",
       "      [63/63 00:37]\n",
       "    </div>\n",
       "    "
      ],
      "text/plain": [
       "<IPython.core.display.HTML object>"
      ]
     },
     "metadata": {},
     "output_type": "display_data"
    },
    {
     "name": "stdout",
     "output_type": "stream",
     "text": [
      "{'eval_loss': 0.23493066430091858, 'eval_accuracy': 0.912, 'eval_runtime': 38.6308, 'eval_samples_per_second': 25.886, 'eval_steps_per_second': 1.631, 'epoch': 3.0}\n"
     ]
    }
   ],
   "source": [
    "# Evaluate on test set\n",
    "metrics = trainer.evaluate(tokenised_test_dataset)\n",
    "print(metrics)"
   ]
  },
  {
   "cell_type": "markdown",
   "id": "52b0c121",
   "metadata": {},
   "source": [
    "Despite being trained on only 20% of the full dataset, the fine-tuned transformer achieved a test accuracy of 91.2%."
   ]
  },
  {
   "cell_type": "markdown",
   "id": "a33c4b48",
   "metadata": {},
   "source": [
    "### Predictions with Fine-Tuned Model\n",
    "After training, the fine-tuned model and tokeniser can be used to predict the label and confidence score of a single text sample."
   ]
  },
  {
   "cell_type": "code",
   "execution_count": 70,
   "id": "90c2d1d4",
   "metadata": {},
   "outputs": [
    {
     "name": "stdout",
     "output_type": "stream",
     "text": [
      "Text: I really enjoyed this movie! The storyline was engaging and the characters were well-developed. The visuals were stunning, and the soundtrack perfectly matched the mood. Definitely worth watching!\n",
      "Predicted: 1 (POSITIVE), Confidence: 0.9891\n",
      "\n"
     ]
    }
   ],
   "source": [
    "import torch.nn.functional as F\n",
    "\n",
    "MY_MODEL_PATH = \"./my_finetuned_model\"\n",
    "my_tokeniser = AutoTokenizer.from_pretrained(MY_MODEL_PATH)\n",
    "my_model = AutoModelForSequenceClassification.from_pretrained(MY_MODEL_PATH)\n",
    "\n",
    "inputs = my_tokeniser(text_1, return_tensors=\"pt\")\n",
    "with torch.no_grad():\n",
    "    logits = my_model(**inputs).logits\n",
    "    # Apply softmax to get probabilities for each class\n",
    "    probabilities = F.softmax(logits, dim=-1)\n",
    "    confidence = probabilities.max().item()  # Probability of the predicted class\n",
    "    predicted_class_id = probabilities.argmax().item()\n",
    "\n",
    "print(f\"Text: {text_1}\")\n",
    "print(\n",
    "    f\"Predicted: {predicted_class_id} ({my_model.config.id2label[predicted_class_id]}), Confidence: {confidence:.4f}\\n\"\n",
    ")"
   ]
  },
  {
   "cell_type": "code",
   "execution_count": 71,
   "id": "4dc4d21b",
   "metadata": {},
   "outputs": [
    {
     "name": "stderr",
     "output_type": "stream",
     "text": [
      "Device set to use mps:0\n"
     ]
    },
    {
     "name": "stdout",
     "output_type": "stream",
     "text": [
      "Text: I really enjoyed this movie! The storyline was engaging and the characters were well-developed. The visuals were stunning, and the soundtrack perfectly matched the mood. Definitely worth watching!\n",
      "[{'label': 'POSITIVE', 'score': 0.9891244173049927}]\n",
      "\n",
      "Text: I was quite disappointed by this movie. The story felt predictable and dull, the characters were underdeveloped, and the pacing was painfully slow. I struggled to stay interested and wouldn't recommend it.\n",
      "[{'label': 'NEGATIVE', 'score': 0.9897481203079224}]\n"
     ]
    }
   ],
   "source": [
    "from transformers import pipeline\n",
    "\n",
    "classifier = pipeline(\"sentiment-analysis\", model=MY_MODEL_PATH)\n",
    "print(f\"Text: {text_1}\")\n",
    "print(classifier(text_1))\n",
    "print(f\"\\nText: {text_2}\")\n",
    "print(classifier(text_2))"
   ]
  },
  {
   "cell_type": "markdown",
   "id": "c6163251",
   "metadata": {},
   "source": [
    "If the `model` parameter is not specified, the pipeline will automatically download and load the default pre-trained model for sentiment analysis, which is currently `\"distilbert-base-uncased-finetuned-sst-2-english\"`.\n",
    "\n",
    "This default model is a smaller, distilled version of BERT fine-tuned on the SST-2 sentiment dataset, providing quick and effective sentiment classification out-of-the-box."
   ]
  },
  {
   "cell_type": "code",
   "execution_count": 76,
   "id": "35024ade",
   "metadata": {},
   "outputs": [
    {
     "name": "stderr",
     "output_type": "stream",
     "text": [
      "No model was supplied, defaulted to distilbert/distilbert-base-uncased-finetuned-sst-2-english and revision 714eb0f (https://huggingface.co/distilbert/distilbert-base-uncased-finetuned-sst-2-english).\n",
      "Using a pipeline without specifying a model name and revision in production is not recommended.\n"
     ]
    },
    {
     "name": "stderr",
     "output_type": "stream",
     "text": [
      "Device set to use mps:0\n"
     ]
    },
    {
     "name": "stdout",
     "output_type": "stream",
     "text": [
      "\n",
      "Text: I really enjoyed this movie! The storyline was engaging and the characters were well-developed. The visuals were stunning, and the soundtrack perfectly matched the mood. Definitely worth watching!\n",
      "[{'label': 'POSITIVE', 'score': 0.999881386756897}]\n",
      "\n",
      "Text: I was quite disappointed by this movie. The story felt predictable and dull, the characters were underdeveloped, and the pacing was painfully slow. I struggled to stay interested and wouldn't recommend it.\n",
      "[{'label': 'NEGATIVE', 'score': 0.9998039603233337}]\n"
     ]
    }
   ],
   "source": [
    "from transformers import pipeline\n",
    "\n",
    "classifier = pipeline(\"sentiment-analysis\")\n",
    "print(f\"\\nText: {text_1}\")\n",
    "print(classifier(text_1))\n",
    "print(f\"\\nText: {text_2}\")\n",
    "print(classifier(text_2))"
   ]
  },
  {
   "cell_type": "markdown",
   "id": "533cac69",
   "metadata": {},
   "source": [
    "## 13. References"
   ]
  },
  {
   "cell_type": "markdown",
   "id": "6c5ed116",
   "metadata": {},
   "source": [
    "1. Vaswani, A., Shazeer, N., Parmar, N., Uszkoreit, J., Jones, L., Gomez, A.N., Kaiser, L., Polosukhin, I. (2017). *Attention Is All You Need.* arXiv preprint arXiv:1706.03762.<br>\n",
    "https://arxiv.org/abs/1706.03762\n",
    "\n",
    "1. Cole Stryker, Dave Bergmann. (2025). What is a transformer model?<br>\n",
    "https://www.ibm.com/think/topics/transformer-model\n",
    "\n",
    "1. Daniel Melchor. (2021). *A detailed guide to Pytorch’s nn.Transformer() module.*<br>\n",
    "https://towardsdatascience.com/a-detailed-guide-to-pytorchs-nn-transformer-module-c80afbc9ffb1/\n",
    "\n",
    "1. Evren Ozkip. (2023). *Text Classification with Transformers using IMDB*.<br>\n",
    "https://www.kaggle.com/code/tirendazacademy/text-classification-with-transformers-using-imdb\n",
    "\n",
    "1. Gruhesh Sri Sai Karthik Kurra. (2025). *Building a Sentiment Analysis Model with LSTMs in PyTorch*.\n",
    "https://dev.to/gruhesh_kurra_6eb933146da/building-a-sentiment-analysis-model-with-lstms-in-pytorch-468p\n",
    "\n",
    "1. Hugging Face. (n.d.). *Fine-tuning*.<br>\n",
    "https://huggingface.co/docs/transformers/training\n",
    "\n",
    "1. Hugging Face. (n.d.). *Text classification*.<br>\n",
    "https://huggingface.co/docs/transformers/tasks/sequence_classification\n",
    "\n",
    "1. Hugging Face. (n.d.). *Trainer*.<br>\n",
    "https://huggingface.co/docs/transformers/trainer\n",
    "\n",
    "1. Mikayla Gawarecki. (2024). *Accelerating PyTorch Transformers by replacing nn.Transformer with Nested Tensors and torch.compile()*.<br>\n",
    "https://docs.pytorch.org/tutorials/intermediate/transformer_building_blocks.html\n",
    "\n",
    "1. Pawan Sharma. (2021). *IMBD sentiment Analysis using Pytorch-LSTM*.<br>\n",
    "https://www.kaggle.com/code/pawan2905/imbd-sentiment-analysis-using-pytorch-lstm/notebook\n",
    "\n",
    "1. PyTorch Docs. (n.d.). *Transformers*.<br>\n",
    "https://docs.pytorch.org/docs/stable/generated/torch.nn.Transformer.html"
   ]
  }
 ],
 "metadata": {
  "kernelspec": {
   "display_name": "DS_Projects",
   "language": "python",
   "name": "python3"
  },
  "language_info": {
   "codemirror_mode": {
    "name": "ipython",
    "version": 3
   },
   "file_extension": ".py",
   "mimetype": "text/x-python",
   "name": "python",
   "nbconvert_exporter": "python",
   "pygments_lexer": "ipython3",
   "version": "3.13.3"
  }
 },
 "nbformat": 4,
 "nbformat_minor": 5
}
