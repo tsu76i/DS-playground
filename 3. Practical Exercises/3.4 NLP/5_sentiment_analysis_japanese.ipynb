{
 "cells": [
  {
   "cell_type": "markdown",
   "id": "10185455",
   "metadata": {},
   "source": [
    "# Sentiment Analysis in Japanese\n",
    "***\n",
    "## Table of Contents\n",
    "***"
   ]
  },
  {
   "cell_type": "markdown",
   "id": "504f5988",
   "metadata": {},
   "source": []
  }
 ],
 "metadata": {
  "language_info": {
   "name": "python"
  }
 },
 "nbformat": 4,
 "nbformat_minor": 5
}
