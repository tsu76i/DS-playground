{
 "cells": [
  {
   "cell_type": "markdown",
   "id": "067c7fba",
   "metadata": {},
   "source": [
    "# Sentiment Analysis\n",
    "***\n",
    "## Table of Contents\n",
    "\n",
    "***"
   ]
  },
  {
   "cell_type": "code",
   "execution_count": 1,
   "id": "f5732b61",
   "metadata": {},
   "outputs": [],
   "source": [
    "import pandas as pd\n",
    "import numpy as np\n",
    "import string\n",
    "import time\n",
    "import matplotlib.pyplot as plt\n",
    "from torchinfo import summary\n",
    "import re\n",
    "from collections import Counter\n",
    "from sklearn.model_selection import train_test_split\n",
    "import torch\n",
    "from torch.utils.data import Dataset, DataLoader\n",
    "import torch.nn as nn\n",
    "import torch.optim as optim\n",
    "from tqdm import tqdm\n",
    "from torchmetrics import Accuracy"
   ]
  },
  {
   "cell_type": "markdown",
   "id": "b82468ec",
   "metadata": {},
   "source": [
    "## 1. Introduction"
   ]
  },
  {
   "cell_type": "markdown",
   "id": "7a0cabef",
   "metadata": {},
   "source": [
    "## 2. Device Agnostic Code\n",
    "Mac GPU acceleration (`mps` backend) delivers significant speed-up over CPU for deep learning tasks, especially for large models and batch sizes. On Windows, `cuda` is used instead of `mps`."
   ]
  },
  {
   "cell_type": "code",
   "execution_count": 2,
   "id": "767b9e7d",
   "metadata": {},
   "outputs": [],
   "source": [
    "device = torch.device(\n",
    "    \"mps\"  # MacOS\n",
    "    if torch.backends.mps.is_available()\n",
    "    else \"cuda\"  # Windows\n",
    "    if torch.cuda.is_available()\n",
    "    else \"cpu\"  # No GPU Available\n",
    ")"
   ]
  },
  {
   "cell_type": "markdown",
   "id": "dcf6b956",
   "metadata": {},
   "source": [
    "## 3. Loading Data\n",
    "\n",
    "The dataset used in this project (retrieved from [Kaggle - IMDB Dataset of 50K Movie Reviews](https://www.kaggle.com/datasets/lakshmi25npathi/imdb-dataset-of-50k-movie-reviews)) includes:\n",
    "\n",
    "- **review**: Review comments in text.\n",
    "- **sentiment**: Whether the review is positive or negative."
   ]
  },
  {
   "cell_type": "code",
   "execution_count": 3,
   "id": "6641ebc2",
   "metadata": {},
   "outputs": [],
   "source": [
    "df = pd.read_csv(\"_datasets/IMDB_Dataset.csv\")"
   ]
  },
  {
   "cell_type": "code",
   "execution_count": 4,
   "id": "5cc3fa99",
   "metadata": {},
   "outputs": [
    {
     "data": {
      "application/vnd.microsoft.datawrangler.viewer.v0+json": {
       "columns": [
        {
         "name": "index",
         "rawType": "int64",
         "type": "integer"
        },
        {
         "name": "review",
         "rawType": "object",
         "type": "string"
        },
        {
         "name": "sentiment",
         "rawType": "object",
         "type": "string"
        }
       ],
       "ref": "90612b57-eecc-48b9-9cb2-1aa27a66c075",
       "rows": [
        [
         "0",
         "One of the other reviewers has mentioned that after watching just 1 Oz episode you'll be hooked. They are right, as this is exactly what happened with me.<br /><br />The first thing that struck me about Oz was its brutality and unflinching scenes of violence, which set in right from the word GO. Trust me, this is not a show for the faint hearted or timid. This show pulls no punches with regards to drugs, sex or violence. Its is hardcore, in the classic use of the word.<br /><br />It is called OZ as that is the nickname given to the Oswald Maximum Security State Penitentary. It focuses mainly on Emerald City, an experimental section of the prison where all the cells have glass fronts and face inwards, so privacy is not high on the agenda. Em City is home to many..Aryans, Muslims, gangstas, Latinos, Christians, Italians, Irish and more....so scuffles, death stares, dodgy dealings and shady agreements are never far away.<br /><br />I would say the main appeal of the show is due to the fact that it goes where other shows wouldn't dare. Forget pretty pictures painted for mainstream audiences, forget charm, forget romance...OZ doesn't mess around. The first episode I ever saw struck me as so nasty it was surreal, I couldn't say I was ready for it, but as I watched more, I developed a taste for Oz, and got accustomed to the high levels of graphic violence. Not just violence, but injustice (crooked guards who'll be sold out for a nickel, inmates who'll kill on order and get away with it, well mannered, middle class inmates being turned into prison bitches due to their lack of street skills or prison experience) Watching Oz, you may become comfortable with what is uncomfortable viewing....thats if you can get in touch with your darker side.",
         "positive"
        ],
        [
         "1",
         "A wonderful little production. <br /><br />The filming technique is very unassuming- very old-time-BBC fashion and gives a comforting, and sometimes discomforting, sense of realism to the entire piece. <br /><br />The actors are extremely well chosen- Michael Sheen not only \"has got all the polari\" but he has all the voices down pat too! You can truly see the seamless editing guided by the references to Williams' diary entries, not only is it well worth the watching but it is a terrificly written and performed piece. A masterful production about one of the great master's of comedy and his life. <br /><br />The realism really comes home with the little things: the fantasy of the guard which, rather than use the traditional 'dream' techniques remains solid then disappears. It plays on our knowledge and our senses, particularly with the scenes concerning Orton and Halliwell and the sets (particularly of their flat with Halliwell's murals decorating every surface) are terribly well done.",
         "positive"
        ],
        [
         "2",
         "I thought this was a wonderful way to spend time on a too hot summer weekend, sitting in the air conditioned theater and watching a light-hearted comedy. The plot is simplistic, but the dialogue is witty and the characters are likable (even the well bread suspected serial killer). While some may be disappointed when they realize this is not Match Point 2: Risk Addiction, I thought it was proof that Woody Allen is still fully in control of the style many of us have grown to love.<br /><br />This was the most I'd laughed at one of Woody's comedies in years (dare I say a decade?). While I've never been impressed with Scarlet Johanson, in this she managed to tone down her \"sexy\" image and jumped right into a average, but spirited young woman.<br /><br />This may not be the crown jewel of his career, but it was wittier than \"Devil Wears Prada\" and more interesting than \"Superman\" a great comedy to go see with friends.",
         "positive"
        ],
        [
         "3",
         "Basically there's a family where a little boy (Jake) thinks there's a zombie in his closet & his parents are fighting all the time.<br /><br />This movie is slower than a soap opera... and suddenly, Jake decides to become Rambo and kill the zombie.<br /><br />OK, first of all when you're going to make a film you must Decide if its a thriller or a drama! As a drama the movie is watchable. Parents are divorcing & arguing like in real life. And then we have Jake with his closet which totally ruins all the film! I expected to see a BOOGEYMAN similar movie, and instead i watched a drama with some meaningless thriller spots.<br /><br />3 out of 10 just for the well playing parents & descent dialogs. As for the shots with Jake: just ignore them.",
         "negative"
        ],
        [
         "4",
         "Petter Mattei's \"Love in the Time of Money\" is a visually stunning film to watch. Mr. Mattei offers us a vivid portrait about human relations. This is a movie that seems to be telling us what money, power and success do to people in the different situations we encounter. <br /><br />This being a variation on the Arthur Schnitzler's play about the same theme, the director transfers the action to the present time New York where all these different characters meet and connect. Each one is connected in one way, or another to the next person, but no one seems to know the previous point of contact. Stylishly, the film has a sophisticated luxurious look. We are taken to see how these people live and the world they live in their own habitat.<br /><br />The only thing one gets out of all these souls in the picture is the different stages of loneliness each one inhabits. A big city is not exactly the best place in which human relations find sincere fulfillment, as one discerns is the case with most of the people we encounter.<br /><br />The acting is good under Mr. Mattei's direction. Steve Buscemi, Rosario Dawson, Carol Kane, Michael Imperioli, Adrian Grenier, and the rest of the talented cast, make these characters come alive.<br /><br />We wish Mr. Mattei good luck and await anxiously for his next work.",
         "positive"
        ]
       ],
       "shape": {
        "columns": 2,
        "rows": 5
       }
      },
      "text/html": [
       "<div>\n",
       "<style scoped>\n",
       "    .dataframe tbody tr th:only-of-type {\n",
       "        vertical-align: middle;\n",
       "    }\n",
       "\n",
       "    .dataframe tbody tr th {\n",
       "        vertical-align: top;\n",
       "    }\n",
       "\n",
       "    .dataframe thead th {\n",
       "        text-align: right;\n",
       "    }\n",
       "</style>\n",
       "<table border=\"1\" class=\"dataframe\">\n",
       "  <thead>\n",
       "    <tr style=\"text-align: right;\">\n",
       "      <th></th>\n",
       "      <th>review</th>\n",
       "      <th>sentiment</th>\n",
       "    </tr>\n",
       "  </thead>\n",
       "  <tbody>\n",
       "    <tr>\n",
       "      <th>0</th>\n",
       "      <td>One of the other reviewers has mentioned that ...</td>\n",
       "      <td>positive</td>\n",
       "    </tr>\n",
       "    <tr>\n",
       "      <th>1</th>\n",
       "      <td>A wonderful little production. &lt;br /&gt;&lt;br /&gt;The...</td>\n",
       "      <td>positive</td>\n",
       "    </tr>\n",
       "    <tr>\n",
       "      <th>2</th>\n",
       "      <td>I thought this was a wonderful way to spend ti...</td>\n",
       "      <td>positive</td>\n",
       "    </tr>\n",
       "    <tr>\n",
       "      <th>3</th>\n",
       "      <td>Basically there's a family where a little boy ...</td>\n",
       "      <td>negative</td>\n",
       "    </tr>\n",
       "    <tr>\n",
       "      <th>4</th>\n",
       "      <td>Petter Mattei's \"Love in the Time of Money\" is...</td>\n",
       "      <td>positive</td>\n",
       "    </tr>\n",
       "  </tbody>\n",
       "</table>\n",
       "</div>"
      ],
      "text/plain": [
       "                                              review sentiment\n",
       "0  One of the other reviewers has mentioned that ...  positive\n",
       "1  A wonderful little production. <br /><br />The...  positive\n",
       "2  I thought this was a wonderful way to spend ti...  positive\n",
       "3  Basically there's a family where a little boy ...  negative\n",
       "4  Petter Mattei's \"Love in the Time of Money\" is...  positive"
      ]
     },
     "execution_count": 4,
     "metadata": {},
     "output_type": "execute_result"
    }
   ],
   "source": [
    "df.head()"
   ]
  },
  {
   "cell_type": "code",
   "execution_count": 5,
   "id": "0acf36d6",
   "metadata": {},
   "outputs": [
    {
     "name": "stdout",
     "output_type": "stream",
     "text": [
      "==================================================\n",
      "Shape of the dataset: (50000, 2)\n",
      "==================================================\n",
      "Count of null values: 0\n"
     ]
    }
   ],
   "source": [
    "print(\"=\" * 50)\n",
    "print(f\"Shape of the dataset: {df.shape}\")\n",
    "print(\"=\" * 50)\n",
    "print(f\"Count of null values: {df.isnull().sum().sum()}\")"
   ]
  },
  {
   "cell_type": "code",
   "execution_count": 6,
   "id": "49f01925",
   "metadata": {},
   "outputs": [
    {
     "name": "stdout",
     "output_type": "stream",
     "text": [
      "<class 'pandas.core.frame.DataFrame'>\n",
      "RangeIndex: 50000 entries, 0 to 49999\n",
      "Data columns (total 2 columns):\n",
      " #   Column     Non-Null Count  Dtype \n",
      "---  ------     --------------  ----- \n",
      " 0   review     50000 non-null  object\n",
      " 1   sentiment  50000 non-null  object\n",
      "dtypes: object(2)\n",
      "memory usage: 781.4+ KB\n"
     ]
    }
   ],
   "source": [
    "df.info()"
   ]
  },
  {
   "cell_type": "markdown",
   "id": "093be12e",
   "metadata": {},
   "source": [
    "## 3. Data Preprocessing\n",
    "1. Text Cleaning\n",
    "    - Lower all letters\n",
    "    - Removing HTML Tags\n",
    "    - Removing URLs\n",
    "    - Removing Emojis and Non-ASCII Characters\n",
    "    - Remove Punctuations\n",
    "    - Remove extra whitespace\n",
    "2. Tokenisation\n",
    "3. Building Vocabulary and Mapping Tokens to Indices"
   ]
  },
  {
   "cell_type": "markdown",
   "id": "7afb803d",
   "metadata": {},
   "source": [
    "### Text Cleaning"
   ]
  },
  {
   "cell_type": "code",
   "execution_count": 7,
   "id": "bbb1f5d9",
   "metadata": {},
   "outputs": [
    {
     "data": {
      "text/plain": [
       "'!\"#$%&\\'()*+,-./:;<=>?@[\\\\]^_`{|}~'"
      ]
     },
     "execution_count": 7,
     "metadata": {},
     "output_type": "execute_result"
    }
   ],
   "source": [
    "string.punctuation"
   ]
  },
  {
   "cell_type": "code",
   "execution_count": 8,
   "id": "ef77b405",
   "metadata": {},
   "outputs": [],
   "source": [
    "def clean_text(col: pd.Series) -> pd.Series:\n",
    "    col = col.str.lower()\n",
    "    col = col.str.replace(r\"<.*?>\", \"\", regex=True)\n",
    "    col = col.str.replace(r\"http\\S+|www\\.\\S+\", \"\", regex=True)\n",
    "    col = col.str.replace(r\"[^\\x00-\\x7F]+\", \"\", regex=True)\n",
    "    col = col.str.replace(\"[{}]\".format(re.escape(string.punctuation)), \"\", regex=True)\n",
    "    col = col.str.replace(\n",
    "        r\"\\s+\", \" \", regex=True\n",
    "    ).str.strip()  # Leave a space between words\n",
    "    return col"
   ]
  },
  {
   "cell_type": "code",
   "execution_count": 9,
   "id": "4ad9c905",
   "metadata": {},
   "outputs": [
    {
     "data": {
      "application/vnd.microsoft.datawrangler.viewer.v0+json": {
       "columns": [
        {
         "name": "index",
         "rawType": "int64",
         "type": "integer"
        },
        {
         "name": "review",
         "rawType": "object",
         "type": "string"
        },
        {
         "name": "sentiment",
         "rawType": "object",
         "type": "string"
        },
        {
         "name": "clean_text",
         "rawType": "object",
         "type": "string"
        }
       ],
       "ref": "fb9738eb-16ef-4031-aeec-269de63ff3e5",
       "rows": [
        [
         "0",
         "One of the other reviewers has mentioned that after watching just 1 Oz episode you'll be hooked. They are right, as this is exactly what happened with me.<br /><br />The first thing that struck me about Oz was its brutality and unflinching scenes of violence, which set in right from the word GO. Trust me, this is not a show for the faint hearted or timid. This show pulls no punches with regards to drugs, sex or violence. Its is hardcore, in the classic use of the word.<br /><br />It is called OZ as that is the nickname given to the Oswald Maximum Security State Penitentary. It focuses mainly on Emerald City, an experimental section of the prison where all the cells have glass fronts and face inwards, so privacy is not high on the agenda. Em City is home to many..Aryans, Muslims, gangstas, Latinos, Christians, Italians, Irish and more....so scuffles, death stares, dodgy dealings and shady agreements are never far away.<br /><br />I would say the main appeal of the show is due to the fact that it goes where other shows wouldn't dare. Forget pretty pictures painted for mainstream audiences, forget charm, forget romance...OZ doesn't mess around. The first episode I ever saw struck me as so nasty it was surreal, I couldn't say I was ready for it, but as I watched more, I developed a taste for Oz, and got accustomed to the high levels of graphic violence. Not just violence, but injustice (crooked guards who'll be sold out for a nickel, inmates who'll kill on order and get away with it, well mannered, middle class inmates being turned into prison bitches due to their lack of street skills or prison experience) Watching Oz, you may become comfortable with what is uncomfortable viewing....thats if you can get in touch with your darker side.",
         "positive",
         "one of the other reviewers has mentioned that after watching just 1 oz episode youll be hooked they are right as this is exactly what happened with methe first thing that struck me about oz was its brutality and unflinching scenes of violence which set in right from the word go trust me this is not a show for the faint hearted or timid this show pulls no punches with regards to drugs sex or violence its is hardcore in the classic use of the wordit is called oz as that is the nickname given to the oswald maximum security state penitentary it focuses mainly on emerald city an experimental section of the prison where all the cells have glass fronts and face inwards so privacy is not high on the agenda em city is home to manyaryans muslims gangstas latinos christians italians irish and moreso scuffles death stares dodgy dealings and shady agreements are never far awayi would say the main appeal of the show is due to the fact that it goes where other shows wouldnt dare forget pretty pictures painted for mainstream audiences forget charm forget romanceoz doesnt mess around the first episode i ever saw struck me as so nasty it was surreal i couldnt say i was ready for it but as i watched more i developed a taste for oz and got accustomed to the high levels of graphic violence not just violence but injustice crooked guards wholl be sold out for a nickel inmates wholl kill on order and get away with it well mannered middle class inmates being turned into prison bitches due to their lack of street skills or prison experience watching oz you may become comfortable with what is uncomfortable viewingthats if you can get in touch with your darker side"
        ],
        [
         "1",
         "A wonderful little production. <br /><br />The filming technique is very unassuming- very old-time-BBC fashion and gives a comforting, and sometimes discomforting, sense of realism to the entire piece. <br /><br />The actors are extremely well chosen- Michael Sheen not only \"has got all the polari\" but he has all the voices down pat too! You can truly see the seamless editing guided by the references to Williams' diary entries, not only is it well worth the watching but it is a terrificly written and performed piece. A masterful production about one of the great master's of comedy and his life. <br /><br />The realism really comes home with the little things: the fantasy of the guard which, rather than use the traditional 'dream' techniques remains solid then disappears. It plays on our knowledge and our senses, particularly with the scenes concerning Orton and Halliwell and the sets (particularly of their flat with Halliwell's murals decorating every surface) are terribly well done.",
         "positive",
         "a wonderful little production the filming technique is very unassuming very oldtimebbc fashion and gives a comforting and sometimes discomforting sense of realism to the entire piece the actors are extremely well chosen michael sheen not only has got all the polari but he has all the voices down pat too you can truly see the seamless editing guided by the references to williams diary entries not only is it well worth the watching but it is a terrificly written and performed piece a masterful production about one of the great masters of comedy and his life the realism really comes home with the little things the fantasy of the guard which rather than use the traditional dream techniques remains solid then disappears it plays on our knowledge and our senses particularly with the scenes concerning orton and halliwell and the sets particularly of their flat with halliwells murals decorating every surface are terribly well done"
        ],
        [
         "2",
         "I thought this was a wonderful way to spend time on a too hot summer weekend, sitting in the air conditioned theater and watching a light-hearted comedy. The plot is simplistic, but the dialogue is witty and the characters are likable (even the well bread suspected serial killer). While some may be disappointed when they realize this is not Match Point 2: Risk Addiction, I thought it was proof that Woody Allen is still fully in control of the style many of us have grown to love.<br /><br />This was the most I'd laughed at one of Woody's comedies in years (dare I say a decade?). While I've never been impressed with Scarlet Johanson, in this she managed to tone down her \"sexy\" image and jumped right into a average, but spirited young woman.<br /><br />This may not be the crown jewel of his career, but it was wittier than \"Devil Wears Prada\" and more interesting than \"Superman\" a great comedy to go see with friends.",
         "positive",
         "i thought this was a wonderful way to spend time on a too hot summer weekend sitting in the air conditioned theater and watching a lighthearted comedy the plot is simplistic but the dialogue is witty and the characters are likable even the well bread suspected serial killer while some may be disappointed when they realize this is not match point 2 risk addiction i thought it was proof that woody allen is still fully in control of the style many of us have grown to lovethis was the most id laughed at one of woodys comedies in years dare i say a decade while ive never been impressed with scarlet johanson in this she managed to tone down her sexy image and jumped right into a average but spirited young womanthis may not be the crown jewel of his career but it was wittier than devil wears prada and more interesting than superman a great comedy to go see with friends"
        ],
        [
         "3",
         "Basically there's a family where a little boy (Jake) thinks there's a zombie in his closet & his parents are fighting all the time.<br /><br />This movie is slower than a soap opera... and suddenly, Jake decides to become Rambo and kill the zombie.<br /><br />OK, first of all when you're going to make a film you must Decide if its a thriller or a drama! As a drama the movie is watchable. Parents are divorcing & arguing like in real life. And then we have Jake with his closet which totally ruins all the film! I expected to see a BOOGEYMAN similar movie, and instead i watched a drama with some meaningless thriller spots.<br /><br />3 out of 10 just for the well playing parents & descent dialogs. As for the shots with Jake: just ignore them.",
         "negative",
         "basically theres a family where a little boy jake thinks theres a zombie in his closet his parents are fighting all the timethis movie is slower than a soap opera and suddenly jake decides to become rambo and kill the zombieok first of all when youre going to make a film you must decide if its a thriller or a drama as a drama the movie is watchable parents are divorcing arguing like in real life and then we have jake with his closet which totally ruins all the film i expected to see a boogeyman similar movie and instead i watched a drama with some meaningless thriller spots3 out of 10 just for the well playing parents descent dialogs as for the shots with jake just ignore them"
        ],
        [
         "4",
         "Petter Mattei's \"Love in the Time of Money\" is a visually stunning film to watch. Mr. Mattei offers us a vivid portrait about human relations. This is a movie that seems to be telling us what money, power and success do to people in the different situations we encounter. <br /><br />This being a variation on the Arthur Schnitzler's play about the same theme, the director transfers the action to the present time New York where all these different characters meet and connect. Each one is connected in one way, or another to the next person, but no one seems to know the previous point of contact. Stylishly, the film has a sophisticated luxurious look. We are taken to see how these people live and the world they live in their own habitat.<br /><br />The only thing one gets out of all these souls in the picture is the different stages of loneliness each one inhabits. A big city is not exactly the best place in which human relations find sincere fulfillment, as one discerns is the case with most of the people we encounter.<br /><br />The acting is good under Mr. Mattei's direction. Steve Buscemi, Rosario Dawson, Carol Kane, Michael Imperioli, Adrian Grenier, and the rest of the talented cast, make these characters come alive.<br /><br />We wish Mr. Mattei good luck and await anxiously for his next work.",
         "positive",
         "petter matteis love in the time of money is a visually stunning film to watch mr mattei offers us a vivid portrait about human relations this is a movie that seems to be telling us what money power and success do to people in the different situations we encounter this being a variation on the arthur schnitzlers play about the same theme the director transfers the action to the present time new york where all these different characters meet and connect each one is connected in one way or another to the next person but no one seems to know the previous point of contact stylishly the film has a sophisticated luxurious look we are taken to see how these people live and the world they live in their own habitatthe only thing one gets out of all these souls in the picture is the different stages of loneliness each one inhabits a big city is not exactly the best place in which human relations find sincere fulfillment as one discerns is the case with most of the people we encounterthe acting is good under mr matteis direction steve buscemi rosario dawson carol kane michael imperioli adrian grenier and the rest of the talented cast make these characters come alivewe wish mr mattei good luck and await anxiously for his next work"
        ]
       ],
       "shape": {
        "columns": 3,
        "rows": 5
       }
      },
      "text/html": [
       "<div>\n",
       "<style scoped>\n",
       "    .dataframe tbody tr th:only-of-type {\n",
       "        vertical-align: middle;\n",
       "    }\n",
       "\n",
       "    .dataframe tbody tr th {\n",
       "        vertical-align: top;\n",
       "    }\n",
       "\n",
       "    .dataframe thead th {\n",
       "        text-align: right;\n",
       "    }\n",
       "</style>\n",
       "<table border=\"1\" class=\"dataframe\">\n",
       "  <thead>\n",
       "    <tr style=\"text-align: right;\">\n",
       "      <th></th>\n",
       "      <th>review</th>\n",
       "      <th>sentiment</th>\n",
       "      <th>clean_text</th>\n",
       "    </tr>\n",
       "  </thead>\n",
       "  <tbody>\n",
       "    <tr>\n",
       "      <th>0</th>\n",
       "      <td>One of the other reviewers has mentioned that ...</td>\n",
       "      <td>positive</td>\n",
       "      <td>one of the other reviewers has mentioned that ...</td>\n",
       "    </tr>\n",
       "    <tr>\n",
       "      <th>1</th>\n",
       "      <td>A wonderful little production. &lt;br /&gt;&lt;br /&gt;The...</td>\n",
       "      <td>positive</td>\n",
       "      <td>a wonderful little production the filming tech...</td>\n",
       "    </tr>\n",
       "    <tr>\n",
       "      <th>2</th>\n",
       "      <td>I thought this was a wonderful way to spend ti...</td>\n",
       "      <td>positive</td>\n",
       "      <td>i thought this was a wonderful way to spend ti...</td>\n",
       "    </tr>\n",
       "    <tr>\n",
       "      <th>3</th>\n",
       "      <td>Basically there's a family where a little boy ...</td>\n",
       "      <td>negative</td>\n",
       "      <td>basically theres a family where a little boy j...</td>\n",
       "    </tr>\n",
       "    <tr>\n",
       "      <th>4</th>\n",
       "      <td>Petter Mattei's \"Love in the Time of Money\" is...</td>\n",
       "      <td>positive</td>\n",
       "      <td>petter matteis love in the time of money is a ...</td>\n",
       "    </tr>\n",
       "  </tbody>\n",
       "</table>\n",
       "</div>"
      ],
      "text/plain": [
       "                                              review sentiment  \\\n",
       "0  One of the other reviewers has mentioned that ...  positive   \n",
       "1  A wonderful little production. <br /><br />The...  positive   \n",
       "2  I thought this was a wonderful way to spend ti...  positive   \n",
       "3  Basically there's a family where a little boy ...  negative   \n",
       "4  Petter Mattei's \"Love in the Time of Money\" is...  positive   \n",
       "\n",
       "                                          clean_text  \n",
       "0  one of the other reviewers has mentioned that ...  \n",
       "1  a wonderful little production the filming tech...  \n",
       "2  i thought this was a wonderful way to spend ti...  \n",
       "3  basically theres a family where a little boy j...  \n",
       "4  petter matteis love in the time of money is a ...  "
      ]
     },
     "execution_count": 9,
     "metadata": {},
     "output_type": "execute_result"
    }
   ],
   "source": [
    "df[\"clean_text\"] = clean_text(df[\"review\"])\n",
    "df.head()"
   ]
  },
  {
   "cell_type": "code",
   "execution_count": 10,
   "id": "a0f75d15",
   "metadata": {},
   "outputs": [],
   "source": [
    "df[\"n_tokens\"] = df[\"clean_text\"].apply(lambda text: len(text.split()))"
   ]
  },
  {
   "cell_type": "code",
   "execution_count": 11,
   "id": "a7b34550",
   "metadata": {},
   "outputs": [
    {
     "data": {
      "application/vnd.microsoft.datawrangler.viewer.v0+json": {
       "columns": [
        {
         "name": "index",
         "rawType": "int64",
         "type": "integer"
        },
        {
         "name": "review",
         "rawType": "object",
         "type": "string"
        },
        {
         "name": "sentiment",
         "rawType": "object",
         "type": "string"
        },
        {
         "name": "clean_text",
         "rawType": "object",
         "type": "string"
        },
        {
         "name": "n_tokens",
         "rawType": "int64",
         "type": "integer"
        }
       ],
       "ref": "44b42051-f34b-4937-9b16-90bdf72fb891",
       "rows": [
        [
         "0",
         "One of the other reviewers has mentioned that after watching just 1 Oz episode you'll be hooked. They are right, as this is exactly what happened with me.<br /><br />The first thing that struck me about Oz was its brutality and unflinching scenes of violence, which set in right from the word GO. Trust me, this is not a show for the faint hearted or timid. This show pulls no punches with regards to drugs, sex or violence. Its is hardcore, in the classic use of the word.<br /><br />It is called OZ as that is the nickname given to the Oswald Maximum Security State Penitentary. It focuses mainly on Emerald City, an experimental section of the prison where all the cells have glass fronts and face inwards, so privacy is not high on the agenda. Em City is home to many..Aryans, Muslims, gangstas, Latinos, Christians, Italians, Irish and more....so scuffles, death stares, dodgy dealings and shady agreements are never far away.<br /><br />I would say the main appeal of the show is due to the fact that it goes where other shows wouldn't dare. Forget pretty pictures painted for mainstream audiences, forget charm, forget romance...OZ doesn't mess around. The first episode I ever saw struck me as so nasty it was surreal, I couldn't say I was ready for it, but as I watched more, I developed a taste for Oz, and got accustomed to the high levels of graphic violence. Not just violence, but injustice (crooked guards who'll be sold out for a nickel, inmates who'll kill on order and get away with it, well mannered, middle class inmates being turned into prison bitches due to their lack of street skills or prison experience) Watching Oz, you may become comfortable with what is uncomfortable viewing....thats if you can get in touch with your darker side.",
         "positive",
         "one of the other reviewers has mentioned that after watching just 1 oz episode youll be hooked they are right as this is exactly what happened with methe first thing that struck me about oz was its brutality and unflinching scenes of violence which set in right from the word go trust me this is not a show for the faint hearted or timid this show pulls no punches with regards to drugs sex or violence its is hardcore in the classic use of the wordit is called oz as that is the nickname given to the oswald maximum security state penitentary it focuses mainly on emerald city an experimental section of the prison where all the cells have glass fronts and face inwards so privacy is not high on the agenda em city is home to manyaryans muslims gangstas latinos christians italians irish and moreso scuffles death stares dodgy dealings and shady agreements are never far awayi would say the main appeal of the show is due to the fact that it goes where other shows wouldnt dare forget pretty pictures painted for mainstream audiences forget charm forget romanceoz doesnt mess around the first episode i ever saw struck me as so nasty it was surreal i couldnt say i was ready for it but as i watched more i developed a taste for oz and got accustomed to the high levels of graphic violence not just violence but injustice crooked guards wholl be sold out for a nickel inmates wholl kill on order and get away with it well mannered middle class inmates being turned into prison bitches due to their lack of street skills or prison experience watching oz you may become comfortable with what is uncomfortable viewingthats if you can get in touch with your darker side",
         "301"
        ],
        [
         "1",
         "A wonderful little production. <br /><br />The filming technique is very unassuming- very old-time-BBC fashion and gives a comforting, and sometimes discomforting, sense of realism to the entire piece. <br /><br />The actors are extremely well chosen- Michael Sheen not only \"has got all the polari\" but he has all the voices down pat too! You can truly see the seamless editing guided by the references to Williams' diary entries, not only is it well worth the watching but it is a terrificly written and performed piece. A masterful production about one of the great master's of comedy and his life. <br /><br />The realism really comes home with the little things: the fantasy of the guard which, rather than use the traditional 'dream' techniques remains solid then disappears. It plays on our knowledge and our senses, particularly with the scenes concerning Orton and Halliwell and the sets (particularly of their flat with Halliwell's murals decorating every surface) are terribly well done.",
         "positive",
         "a wonderful little production the filming technique is very unassuming very oldtimebbc fashion and gives a comforting and sometimes discomforting sense of realism to the entire piece the actors are extremely well chosen michael sheen not only has got all the polari but he has all the voices down pat too you can truly see the seamless editing guided by the references to williams diary entries not only is it well worth the watching but it is a terrificly written and performed piece a masterful production about one of the great masters of comedy and his life the realism really comes home with the little things the fantasy of the guard which rather than use the traditional dream techniques remains solid then disappears it plays on our knowledge and our senses particularly with the scenes concerning orton and halliwell and the sets particularly of their flat with halliwells murals decorating every surface are terribly well done",
         "156"
        ],
        [
         "2",
         "I thought this was a wonderful way to spend time on a too hot summer weekend, sitting in the air conditioned theater and watching a light-hearted comedy. The plot is simplistic, but the dialogue is witty and the characters are likable (even the well bread suspected serial killer). While some may be disappointed when they realize this is not Match Point 2: Risk Addiction, I thought it was proof that Woody Allen is still fully in control of the style many of us have grown to love.<br /><br />This was the most I'd laughed at one of Woody's comedies in years (dare I say a decade?). While I've never been impressed with Scarlet Johanson, in this she managed to tone down her \"sexy\" image and jumped right into a average, but spirited young woman.<br /><br />This may not be the crown jewel of his career, but it was wittier than \"Devil Wears Prada\" and more interesting than \"Superman\" a great comedy to go see with friends.",
         "positive",
         "i thought this was a wonderful way to spend time on a too hot summer weekend sitting in the air conditioned theater and watching a lighthearted comedy the plot is simplistic but the dialogue is witty and the characters are likable even the well bread suspected serial killer while some may be disappointed when they realize this is not match point 2 risk addiction i thought it was proof that woody allen is still fully in control of the style many of us have grown to lovethis was the most id laughed at one of woodys comedies in years dare i say a decade while ive never been impressed with scarlet johanson in this she managed to tone down her sexy image and jumped right into a average but spirited young womanthis may not be the crown jewel of his career but it was wittier than devil wears prada and more interesting than superman a great comedy to go see with friends",
         "162"
        ],
        [
         "3",
         "Basically there's a family where a little boy (Jake) thinks there's a zombie in his closet & his parents are fighting all the time.<br /><br />This movie is slower than a soap opera... and suddenly, Jake decides to become Rambo and kill the zombie.<br /><br />OK, first of all when you're going to make a film you must Decide if its a thriller or a drama! As a drama the movie is watchable. Parents are divorcing & arguing like in real life. And then we have Jake with his closet which totally ruins all the film! I expected to see a BOOGEYMAN similar movie, and instead i watched a drama with some meaningless thriller spots.<br /><br />3 out of 10 just for the well playing parents & descent dialogs. As for the shots with Jake: just ignore them.",
         "negative",
         "basically theres a family where a little boy jake thinks theres a zombie in his closet his parents are fighting all the timethis movie is slower than a soap opera and suddenly jake decides to become rambo and kill the zombieok first of all when youre going to make a film you must decide if its a thriller or a drama as a drama the movie is watchable parents are divorcing arguing like in real life and then we have jake with his closet which totally ruins all the film i expected to see a boogeyman similar movie and instead i watched a drama with some meaningless thriller spots3 out of 10 just for the well playing parents descent dialogs as for the shots with jake just ignore them",
         "129"
        ],
        [
         "4",
         "Petter Mattei's \"Love in the Time of Money\" is a visually stunning film to watch. Mr. Mattei offers us a vivid portrait about human relations. This is a movie that seems to be telling us what money, power and success do to people in the different situations we encounter. <br /><br />This being a variation on the Arthur Schnitzler's play about the same theme, the director transfers the action to the present time New York where all these different characters meet and connect. Each one is connected in one way, or another to the next person, but no one seems to know the previous point of contact. Stylishly, the film has a sophisticated luxurious look. We are taken to see how these people live and the world they live in their own habitat.<br /><br />The only thing one gets out of all these souls in the picture is the different stages of loneliness each one inhabits. A big city is not exactly the best place in which human relations find sincere fulfillment, as one discerns is the case with most of the people we encounter.<br /><br />The acting is good under Mr. Mattei's direction. Steve Buscemi, Rosario Dawson, Carol Kane, Michael Imperioli, Adrian Grenier, and the rest of the talented cast, make these characters come alive.<br /><br />We wish Mr. Mattei good luck and await anxiously for his next work.",
         "positive",
         "petter matteis love in the time of money is a visually stunning film to watch mr mattei offers us a vivid portrait about human relations this is a movie that seems to be telling us what money power and success do to people in the different situations we encounter this being a variation on the arthur schnitzlers play about the same theme the director transfers the action to the present time new york where all these different characters meet and connect each one is connected in one way or another to the next person but no one seems to know the previous point of contact stylishly the film has a sophisticated luxurious look we are taken to see how these people live and the world they live in their own habitatthe only thing one gets out of all these souls in the picture is the different stages of loneliness each one inhabits a big city is not exactly the best place in which human relations find sincere fulfillment as one discerns is the case with most of the people we encounterthe acting is good under mr matteis direction steve buscemi rosario dawson carol kane michael imperioli adrian grenier and the rest of the talented cast make these characters come alivewe wish mr mattei good luck and await anxiously for his next work",
         "222"
        ]
       ],
       "shape": {
        "columns": 4,
        "rows": 5
       }
      },
      "text/html": [
       "<div>\n",
       "<style scoped>\n",
       "    .dataframe tbody tr th:only-of-type {\n",
       "        vertical-align: middle;\n",
       "    }\n",
       "\n",
       "    .dataframe tbody tr th {\n",
       "        vertical-align: top;\n",
       "    }\n",
       "\n",
       "    .dataframe thead th {\n",
       "        text-align: right;\n",
       "    }\n",
       "</style>\n",
       "<table border=\"1\" class=\"dataframe\">\n",
       "  <thead>\n",
       "    <tr style=\"text-align: right;\">\n",
       "      <th></th>\n",
       "      <th>review</th>\n",
       "      <th>sentiment</th>\n",
       "      <th>clean_text</th>\n",
       "      <th>n_tokens</th>\n",
       "    </tr>\n",
       "  </thead>\n",
       "  <tbody>\n",
       "    <tr>\n",
       "      <th>0</th>\n",
       "      <td>One of the other reviewers has mentioned that ...</td>\n",
       "      <td>positive</td>\n",
       "      <td>one of the other reviewers has mentioned that ...</td>\n",
       "      <td>301</td>\n",
       "    </tr>\n",
       "    <tr>\n",
       "      <th>1</th>\n",
       "      <td>A wonderful little production. &lt;br /&gt;&lt;br /&gt;The...</td>\n",
       "      <td>positive</td>\n",
       "      <td>a wonderful little production the filming tech...</td>\n",
       "      <td>156</td>\n",
       "    </tr>\n",
       "    <tr>\n",
       "      <th>2</th>\n",
       "      <td>I thought this was a wonderful way to spend ti...</td>\n",
       "      <td>positive</td>\n",
       "      <td>i thought this was a wonderful way to spend ti...</td>\n",
       "      <td>162</td>\n",
       "    </tr>\n",
       "    <tr>\n",
       "      <th>3</th>\n",
       "      <td>Basically there's a family where a little boy ...</td>\n",
       "      <td>negative</td>\n",
       "      <td>basically theres a family where a little boy j...</td>\n",
       "      <td>129</td>\n",
       "    </tr>\n",
       "    <tr>\n",
       "      <th>4</th>\n",
       "      <td>Petter Mattei's \"Love in the Time of Money\" is...</td>\n",
       "      <td>positive</td>\n",
       "      <td>petter matteis love in the time of money is a ...</td>\n",
       "      <td>222</td>\n",
       "    </tr>\n",
       "  </tbody>\n",
       "</table>\n",
       "</div>"
      ],
      "text/plain": [
       "                                              review sentiment  \\\n",
       "0  One of the other reviewers has mentioned that ...  positive   \n",
       "1  A wonderful little production. <br /><br />The...  positive   \n",
       "2  I thought this was a wonderful way to spend ti...  positive   \n",
       "3  Basically there's a family where a little boy ...  negative   \n",
       "4  Petter Mattei's \"Love in the Time of Money\" is...  positive   \n",
       "\n",
       "                                          clean_text  n_tokens  \n",
       "0  one of the other reviewers has mentioned that ...       301  \n",
       "1  a wonderful little production the filming tech...       156  \n",
       "2  i thought this was a wonderful way to spend ti...       162  \n",
       "3  basically theres a family where a little boy j...       129  \n",
       "4  petter matteis love in the time of money is a ...       222  "
      ]
     },
     "execution_count": 11,
     "metadata": {},
     "output_type": "execute_result"
    }
   ],
   "source": [
    "df.head()"
   ]
  },
  {
   "cell_type": "markdown",
   "id": "6a5e2902",
   "metadata": {},
   "source": [
    "### Tokenisation\n",
    "Split all reviews into tokens (words). "
   ]
  },
  {
   "cell_type": "code",
   "execution_count": 12,
   "id": "8ff1b367",
   "metadata": {},
   "outputs": [],
   "source": [
    "all_words = [token for text in df[\"clean_text\"] for token in text.split()]"
   ]
  },
  {
   "cell_type": "code",
   "execution_count": 13,
   "id": "3f5cfbe6",
   "metadata": {},
   "outputs": [
    {
     "name": "stdout",
     "output_type": "stream",
     "text": [
      "['one', 'of', 'the', 'other', 'reviewers', 'has', 'mentioned', 'that', 'after', 'watching']\n"
     ]
    }
   ],
   "source": [
    "print(all_words[:10])"
   ]
  },
  {
   "cell_type": "markdown",
   "id": "a8df7248",
   "metadata": {},
   "source": [
    "### Building Vocabulary and Mapping Tokens to Indices\n",
    "Using `Counter()` allows us to get the frequency of each word, sort in descending order (we can specify `n` parameter to extract the top N most frequent words).\n",
    "Then we assign a unique index to each word, create mapping (word2index), and reserve indices for padding (`<PAD>`) and unknown (`<UNK>`) tokens.\n",
    "\n",
    "**Padding**:\n",
    "- Padding is the process of adding special tokens (usually represented as `<PAD>`) to sequences so that all sequences in a batch have the same length.\n",
    "- This is necessary because neural networks, especially in libraries like PyTorch, require inputs to be in tensors of consistent shape.\n",
    "\n",
    "*Example*:\n",
    "- Original:\n",
    "    - [\"i\", \"loved\", \"this\", \"movie\"]\n",
    "- After padding to length 6:\n",
    "    - [\"i\", \"loved\", \"this\", \"movie\", \"`<PAD>`\", \"`<PAD>`\"]\n",
    "\n",
    "**Unknown**:\n",
    "- `<UNK>` stands for '*unknown token*', serving as a placeholder for any token (word) in the input text that does not exist in the vocabulary.\n",
    "\n",
    "*Example*:\n",
    "- Vocabulary:\n",
    "    - { \"the\":2, \"movie\":3, \"`<PAD>`\":0, \"`<UNK>`\":1 }\n",
    "- Input:\n",
    "    - \"the plot was amazing\" -> [\"the\", \"`<UNK>`\", \"`<UNK>`\", \"`<UNK>`\"]"
   ]
  },
  {
   "cell_type": "code",
   "execution_count": 14,
   "id": "d509f721",
   "metadata": {},
   "outputs": [],
   "source": [
    "word_counts = Counter(all_words)"
   ]
  },
  {
   "cell_type": "code",
   "execution_count": 15,
   "id": "14644740",
   "metadata": {},
   "outputs": [],
   "source": [
    "all_words_sorted = word_counts.most_common()"
   ]
  },
  {
   "cell_type": "code",
   "execution_count": 16,
   "id": "f0b9801d",
   "metadata": {},
   "outputs": [],
   "source": [
    "word2index = {word: i for i, (word, counts) in enumerate(all_words_sorted, start=2)}\n",
    "word2index[\"<PAD>\"] = 0\n",
    "word2index[\"<UNK>\"] = 1"
   ]
  },
  {
   "cell_type": "code",
   "execution_count": 17,
   "id": "827d71f3",
   "metadata": {},
   "outputs": [
    {
     "name": "stdout",
     "output_type": "stream",
     "text": [
      "Number of unique words: 221659\n"
     ]
    }
   ],
   "source": [
    "print(f\"Number of unique words: {len(word2index) - 2}\")"
   ]
  },
  {
   "cell_type": "code",
   "execution_count": 18,
   "id": "0b9b5108",
   "metadata": {},
   "outputs": [],
   "source": [
    "# Convert text to int sequences\n",
    "def text_to_int(text, word2index):\n",
    "    return [word2index.get(word, word2index[\"<UNK>\"]) for word in text.split()]\n",
    "\n",
    "\n",
    "def pad_or_truncate(text, max_len, pad_value=0):\n",
    "    if len(text) >= max_len:  # Text length ok\n",
    "        return text[:max_len]\n",
    "    else:  # Text too short -> Add padding\n",
    "        return text + [pad_value] * (max_len - len(text))"
   ]
  },
  {
   "cell_type": "code",
   "execution_count": 19,
   "id": "81f99eda",
   "metadata": {},
   "outputs": [],
   "source": [
    "SEQUENCE_LENGTH = 200\n",
    "\n",
    "all_review_seq = [\n",
    "    pad_or_truncate(text_to_int(text, word2index), SEQUENCE_LENGTH, word2index[\"<PAD>\"])\n",
    "    for text in df[\"clean_text\"]\n",
    "]"
   ]
  },
  {
   "cell_type": "code",
   "execution_count": 20,
   "id": "6aaf8ba6",
   "metadata": {},
   "outputs": [
    {
     "name": "stdout",
     "output_type": "stream",
     "text": [
      "[45, 22, 37, 207, 7378, 8971, 2183, 22, 76, 37, 11, 17, 45, 22, 23, 183, 39, 168, 92, 22, 76, 110, 11, 17, 540, 53, 56, 1546, 411, 44430, 1206, 0, 0, 0, 0, 0, 0, 0, 0, 0, 0, 0, 0, 0, 0, 0, 0, 0, 0, 0, 0, 0, 0, 0, 0, 0, 0, 0, 0, 0, 0, 0, 0, 0, 0, 0, 0, 0, 0, 0, 0, 0, 0, 0, 0, 0, 0, 0, 0, 0, 0, 0, 0, 0, 0, 0, 0, 0, 0, 0, 0, 0, 0, 0, 0, 0, 0, 0, 0, 0, 0, 0, 0, 0, 0, 0, 0, 0, 0, 0, 0, 0, 0, 0, 0, 0, 0, 0, 0, 0, 0, 0, 0, 0, 0, 0, 0, 0, 0, 0, 0, 0, 0, 0, 0, 0, 0, 0, 0, 0, 0, 0, 0, 0, 0, 0, 0, 0, 0, 0, 0, 0, 0, 0, 0, 0, 0, 0, 0, 0, 0, 0, 0, 0, 0, 0, 0, 0, 0, 0, 0, 0, 0, 0, 0, 0, 0, 0, 0, 0, 0, 0, 0, 0, 0, 0, 0, 0, 0, 0, 0, 0, 0, 0, 0, 0, 0, 0, 0, 0]\n"
     ]
    }
   ],
   "source": [
    "print(all_review_seq[9])"
   ]
  },
  {
   "cell_type": "markdown",
   "id": "ba6bf991",
   "metadata": {},
   "source": [
    "### Convert Labels to Integer"
   ]
  },
  {
   "cell_type": "code",
   "execution_count": 21,
   "id": "659c95d2",
   "metadata": {},
   "outputs": [
    {
     "data": {
      "application/vnd.microsoft.datawrangler.viewer.v0+json": {
       "columns": [
        {
         "name": "sentiment",
         "rawType": "int64",
         "type": "integer"
        },
        {
         "name": "count",
         "rawType": "int64",
         "type": "integer"
        }
       ],
       "ref": "550ea4d6-66f0-4b8d-b6b9-fff7956ba232",
       "rows": [
        [
         "1",
         "25000"
        ],
        [
         "0",
         "25000"
        ]
       ],
       "shape": {
        "columns": 1,
        "rows": 2
       }
      },
      "text/plain": [
       "sentiment\n",
       "1    25000\n",
       "0    25000\n",
       "Name: count, dtype: int64"
      ]
     },
     "execution_count": 21,
     "metadata": {},
     "output_type": "execute_result"
    }
   ],
   "source": [
    "labels = df[\"sentiment\"].map({\"positive\": 1, \"negative\": 0})\n",
    "labels.value_counts()"
   ]
  },
  {
   "cell_type": "markdown",
   "id": "01d4b6b9",
   "metadata": {},
   "source": [
    "## 4. Preparing DataLoaders\n",
    "### Train Test Splitting\n",
    "80% train, 10% validation and 10% testing"
   ]
  },
  {
   "cell_type": "code",
   "execution_count": 22,
   "id": "16ef49b3",
   "metadata": {},
   "outputs": [],
   "source": [
    "RANDOM_SEED = 42\n",
    "\n",
    "seq_train, seq_sub, y_train, y_sub = train_test_split(\n",
    "    all_review_seq, labels, test_size=0.2, random_state=RANDOM_SEED, stratify=labels\n",
    ")\n",
    "\n",
    "seq_val, seq_test, y_val, y_test = train_test_split(\n",
    "    seq_sub, y_sub, test_size=0.5, random_state=RANDOM_SEED, stratify=y_sub\n",
    ")"
   ]
  },
  {
   "cell_type": "markdown",
   "id": "3c22c418",
   "metadata": {},
   "source": [
    "### Creating IMDB Datasets in Tensor"
   ]
  },
  {
   "cell_type": "code",
   "execution_count": 23,
   "id": "586dced9",
   "metadata": {},
   "outputs": [],
   "source": [
    "class IMDBDataset(Dataset):\n",
    "    def __init__(self, sequences, labels):\n",
    "        self.sequences = torch.tensor(sequences, dtype=torch.long)\n",
    "        self.labels = torch.tensor(labels, dtype=torch.float)\n",
    "\n",
    "    def __len__(self):\n",
    "        return len(self.sequences)\n",
    "\n",
    "    def __getitem__(self, index):\n",
    "        return self.sequences[index], self.labels[index]"
   ]
  },
  {
   "cell_type": "markdown",
   "id": "59b0a915",
   "metadata": {},
   "source": [
    "PyTorch's `torch.tensor()` constructor works with lists, tuples, or NumPy arrays, not pandas Series."
   ]
  },
  {
   "cell_type": "code",
   "execution_count": 24,
   "id": "b073a3b2",
   "metadata": {},
   "outputs": [],
   "source": [
    "BATCH_SIZE = 64\n",
    "train_ds = IMDBDataset(seq_train, y_train.values)\n",
    "val_ds = IMDBDataset(seq_val, y_val.values)\n",
    "test_ds = IMDBDataset(seq_test, y_test.values)\n",
    "\n",
    "train_loader = DataLoader(train_ds, batch_size=BATCH_SIZE, shuffle=True)\n",
    "val_loader = DataLoader(val_ds, batch_size=BATCH_SIZE, shuffle=False)\n",
    "test_loader = DataLoader(test_ds, batch_size=BATCH_SIZE, shuffle=False)"
   ]
  },
  {
   "cell_type": "markdown",
   "id": "447eade9",
   "metadata": {},
   "source": [
    "## 5. Neural Network Model Architectures\n",
    "### Long Short-Term Memory (LSTM)\n",
    "An LSTM architecture for sentiment analysis typically includes following structures:\n",
    "- **Embedding Layer**:\n",
    "    - Converts input token indices to dense vector embeddings.\n",
    "    - Inputs shape: `(batch_size, sequence_length)`\n",
    "    - Outputs shape: `(batch_size, sequence_length, embedding_size)`\n",
    "- **LSTM Layer**:\n",
    "    - Processes the embedded sequence to capture temporal depenencies.\n",
    "    - Can be either single or multi-layer LSTM.\n",
    "- **Classification Head**:\n",
    "    - Usually a fully-connected (linear) layer projecting the hidden state(s) from LSTM to the output classes.\n",
    "    - Often preceded by dropout for regularisation.\n",
    "- **Activation and Loss**:\n",
    "    - For binary sentiment, output logits go through sigmoid activation function with binary cross entropy loss.\n",
    "    - For multi-class, softmax activation with cross entropy loss."
   ]
  },
  {
   "cell_type": "code",
   "execution_count": 25,
   "id": "1c3ba3f1",
   "metadata": {},
   "outputs": [],
   "source": [
    "class LSTMClassifier(nn.Module):\n",
    "    def __init__(\n",
    "        self,\n",
    "        vocab_size,\n",
    "        embedding_size,\n",
    "        hidden_size,\n",
    "        output_size,\n",
    "        n_layers=1,\n",
    "        is_bidirectional=False,\n",
    "        dropout_rate=0.5,\n",
    "    ) -> None:\n",
    "        super().__init__()\n",
    "        self.n_layers = n_layers\n",
    "        self.hidden_size = hidden_size\n",
    "        self.is_bidirectional = is_bidirectional\n",
    "\n",
    "        self.embedding = nn.Embedding(\n",
    "            num_embeddings=vocab_size, embedding_dim=embedding_size\n",
    "        )\n",
    "        self.lstm = nn.LSTM(\n",
    "            input_size=embedding_size,\n",
    "            hidden_size=hidden_size,\n",
    "            num_layers=n_layers,\n",
    "            bidirectional=is_bidirectional,\n",
    "            dropout=dropout_rate if n_layers > 1 else 0,\n",
    "            batch_first=True,\n",
    "        )\n",
    "        self.dropout = nn.Dropout(dropout_rate)\n",
    "        directional_factor = 2 if is_bidirectional else 1\n",
    "        self.fc = nn.Linear(\n",
    "            in_features=hidden_size * directional_factor,\n",
    "            out_features=output_size,\n",
    "        )\n",
    "\n",
    "    def forward(self, text):  # text shape: (batch_size, seq_len)\n",
    "        embedded = self.embedding(text)  # (batch_size, seq_len, embedding_size)\n",
    "        lstm_out, (hidden, cell) = self.lstm(embedded)\n",
    "\n",
    "        # If bidirectional, concatenate last forward and backward hidden states\n",
    "        if self.lstm.bidirectional:\n",
    "            hidden = torch.cat(\n",
    "                (hidden[-2, :, :], hidden[-1, :, :]), dim=1\n",
    "            )  # (batch_size, hidden_dim*2)\n",
    "        else:\n",
    "            hidden = hidden[-1, :, :]  # (batch_size, hidden_dim)\n",
    "\n",
    "        dropped = self.dropout(hidden)\n",
    "        out = self.fc(dropped)\n",
    "        return out"
   ]
  },
  {
   "cell_type": "markdown",
   "id": "43ca65a5",
   "metadata": {},
   "source": [
    "### Transformer"
   ]
  },
  {
   "cell_type": "code",
   "execution_count": 26,
   "id": "0f1c6660",
   "metadata": {},
   "outputs": [],
   "source": [
    "class TransformerClassifier(nn.Module):\n",
    "    def __init__(\n",
    "        self,\n",
    "        vocab_size,\n",
    "        embed_dim,\n",
    "        nhead,\n",
    "        num_layers,\n",
    "        hidden_dim,\n",
    "        max_len,\n",
    "        num_classes=1,\n",
    "        dropout_rate=0.2,\n",
    "    ):\n",
    "        super().__init__()\n",
    "        self.embedding = nn.Embedding(vocab_size, embed_dim, padding_idx=0)\n",
    "\n",
    "        # Positional Encoding module\n",
    "        self.pos_encoding = nn.Parameter(\n",
    "            self._get_positional_encoding(max_len, embed_dim), requires_grad=False\n",
    "        )\n",
    "\n",
    "        encoder_layer = nn.TransformerEncoderLayer(\n",
    "            d_model=embed_dim,\n",
    "            nhead=nhead,\n",
    "            dim_feedforward=hidden_dim,\n",
    "            dropout=dropout_rate,\n",
    "            batch_first=True,\n",
    "        )\n",
    "        self.transformer_encoder = nn.TransformerEncoder(\n",
    "            encoder_layer, num_layers=num_layers\n",
    "        )\n",
    "\n",
    "        self.dropout = nn.Dropout(dropout_rate)\n",
    "        self.fc = nn.Linear(embed_dim, num_classes)\n",
    "\n",
    "    def _get_positional_encoding(self, seq_len, d_model):\n",
    "        pos = torch.arange(seq_len, dtype=torch.float32).unsqueeze(1)\n",
    "        i = torch.arange(d_model, dtype=torch.float32).unsqueeze(0)\n",
    "        angle_rates = 1 / torch.pow(10000, (2 * (i // 2)) / d_model)\n",
    "        angle_rads = pos * angle_rates\n",
    "        encoding = torch.zeros(seq_len, d_model)\n",
    "        encoding[:, 0::2] = torch.sin(angle_rads[:, 0::2])\n",
    "        encoding[:, 1::2] = torch.cos(angle_rads[:, 1::2])\n",
    "        return encoding.unsqueeze(0)  # (1, seq_len, d_model)\n",
    "\n",
    "    def forward(self, x):\n",
    "        # x: (batch_size, seq_len)\n",
    "        embedded = self.embedding(x) + self.pos_encoding[:, : x.size(1), :]\n",
    "        mask = x == 0  # Assuming 0 is the PAD index\n",
    "        out = self.transformer_encoder(embedded, src_key_padding_mask=mask)\n",
    "        pooled = out.mean(dim=1)  # mean pooling over sequence\n",
    "        return self.fc(self.dropout(pooled))\n"
   ]
  },
  {
   "cell_type": "code",
   "execution_count": 27,
   "id": "b5d0464d",
   "metadata": {},
   "outputs": [],
   "source": [
    "# Hyperparameters\n",
    "VOCAB_SIZE = len(word2index)\n",
    "EMBEDDING_SIZE = 100\n",
    "HIDDEN_SIZE = 128\n",
    "OUTPUT_SIZE = 1  # For binary sentiment analysis (1 or 0)\n",
    "N_LAYERS = 2\n",
    "IS_BIDIRECTIONAL = True\n",
    "DROPOUT_RATE = 0.5\n",
    "N_EPOCHS = 5\n",
    "LEARNING_RATE = 1e-3\n",
    "N_HEAD = 4"
   ]
  },
  {
   "cell_type": "code",
   "execution_count": 28,
   "id": "68ceeb0f",
   "metadata": {},
   "outputs": [],
   "source": [
    "lstm = LSTMClassifier(\n",
    "    vocab_size=VOCAB_SIZE,\n",
    "    embedding_size=EMBEDDING_SIZE,\n",
    "    hidden_size=HIDDEN_SIZE,\n",
    "    output_size=OUTPUT_SIZE,\n",
    "    n_layers=N_LAYERS,\n",
    "    is_bidirectional=IS_BIDIRECTIONAL,\n",
    "    dropout_rate=DROPOUT_RATE,\n",
    ")\n",
    "\n",
    "transformer = TransformerClassifier(\n",
    "    vocab_size=VOCAB_SIZE,\n",
    "    embed_dim=EMBEDDING_SIZE,\n",
    "    nhead=N_HEAD,\n",
    "    num_layers=N_LAYERS,\n",
    "    hidden_dim=HIDDEN_SIZE,\n",
    "    max_len=SEQUENCE_LENGTH,\n",
    "    dropout_rate=DROPOUT_RATE,\n",
    ")"
   ]
  },
  {
   "cell_type": "code",
   "execution_count": 29,
   "id": "649d2f06",
   "metadata": {},
   "outputs": [
    {
     "name": "stdout",
     "output_type": "stream",
     "text": [
      "========================================================================================================================\n",
      "Layer (type (var_name))                  Input Shape          Output Shape         Param #              Trainable\n",
      "========================================================================================================================\n",
      "LSTMClassifier (LSTMClassifier)          [64, 200]            [64, 1]              --                   True\n",
      "├─Embedding (embedding)                  [64, 200]            [64, 200, 100]       22,166,100           True\n",
      "├─LSTM (lstm)                            [64, 200, 100]       [64, 200, 256]       630,784              True\n",
      "├─Dropout (dropout)                      [64, 256]            [64, 256]            --                   --\n",
      "├─Linear (fc)                            [64, 256]            [64, 1]              257                  True\n",
      "========================================================================================================================\n",
      "Total params: 22,797,141\n",
      "Trainable params: 22,797,141\n",
      "Non-trainable params: 0\n",
      "Total mult-adds (Units.GIGABYTES): 9.49\n",
      "========================================================================================================================\n",
      "Input size (MB): 0.10\n",
      "Forward/backward pass size (MB): 36.45\n",
      "Params size (MB): 91.19\n",
      "Estimated Total Size (MB): 127.75\n",
      "========================================================================================================================\n"
     ]
    }
   ],
   "source": [
    "print(\n",
    "    summary(\n",
    "        lstm,\n",
    "        input_size=(\n",
    "            BATCH_SIZE,\n",
    "            SEQUENCE_LENGTH,\n",
    "        ),  # (batch_size, sequence_length)\n",
    "        dtypes=[torch.long],\n",
    "        verbose=0,\n",
    "        col_names=[\"input_size\", \"output_size\", \"num_params\", \"trainable\"],\n",
    "        col_width=20,\n",
    "        row_settings=[\"var_names\"],\n",
    "        device=device,\n",
    "    )\n",
    ")"
   ]
  },
  {
   "cell_type": "markdown",
   "id": "5f9951ce",
   "metadata": {},
   "source": [
    "## Evaluation Metrics"
   ]
  },
  {
   "cell_type": "code",
   "execution_count": 30,
   "id": "ee9f3efe",
   "metadata": {},
   "outputs": [],
   "source": [
    "accuracy = Accuracy(\n",
    "    task=\"binary\",\n",
    "    num_classes=2,\n",
    ").to(device)"
   ]
  },
  {
   "cell_type": "markdown",
   "id": "ea9b8b28",
   "metadata": {},
   "source": [
    "## Loss Function\n",
    "### Binary Cross-Entropy"
   ]
  },
  {
   "cell_type": "code",
   "execution_count": 31,
   "id": "cdc81680",
   "metadata": {},
   "outputs": [],
   "source": [
    "criterion = nn.BCEWithLogitsLoss()"
   ]
  },
  {
   "cell_type": "markdown",
   "id": "102744d7",
   "metadata": {},
   "source": [
    "## Optimiser\n",
    "An optimiser in neural networks is used to adjust the parameters (weights and biases) of a model during training to minimise the loss. Optimisers are essential for enabling neural networks to learn from data: without them, the model would not improve over time."
   ]
  },
  {
   "cell_type": "code",
   "execution_count": 32,
   "id": "d71096bb",
   "metadata": {},
   "outputs": [],
   "source": [
    "lstm_optim = optim.Adam(lstm.parameters(), lr=LEARNING_RATE)\n",
    "transformer_optim = optim.Adam(transformer.parameters(), lr=LEARNING_RATE)"
   ]
  },
  {
   "cell_type": "markdown",
   "id": "70476cd8",
   "metadata": {},
   "source": [
    "## Training and Evaluation\n",
    "1. Iterate through epochs\n",
    "1. For each epoch, iterate through training batches, perform training steps, calculate the train loss and evaluation metrics per batch.\n",
    "1. For each epoch, iterate through testing batches, perform testing steps, calculate the test loss and evaluation metrics per batch.\n",
    "1. Store the results.\n",
    "\n",
    "### Training Steps\n",
    "1. Forward pass\n",
    "    - Pass inputs through the model to obtain predictions.\n",
    "1. Calculate loss and evaluation metrics per batch\n",
    "    - Measure how far the predictions deviate from the true labels using a loss function.\n",
    "    - Compute evaluation metrics (e.g., accuracy, F1 Score, etc.) for the current batch.\n",
    "1. Zero the gradients\n",
    "    - Clear the gradients from the previous iteration to prevent accumulation across batches.\n",
    "\n",
    "1. Backward pass\n",
    "    - Compute gradients of the loss with respect to the model's parameters via backpropagation.\n",
    "    - Update the parameter $\\theta$ using the computed gradients, typically following:\n",
    "    $$\n",
    "        \\theta \\leftarrow \\theta - \\eta \\dfrac{\\partial \\mathcal{L}}{\\partial \\theta}\n",
    "    $$\n",
    "    where $\\eta$ is the learning rate.\n",
    "1. Average training loss and evaluation metrics\n",
    "    - Calculate the mean loss and metric values across all batches in the epoch."
   ]
  },
  {
   "cell_type": "code",
   "execution_count": 33,
   "id": "8dfcc883",
   "metadata": {},
   "outputs": [],
   "source": [
    "def train_step(\n",
    "    model: nn.Module,\n",
    "    data_loader: DataLoader,\n",
    "    criterion: nn.Module,\n",
    "    optimiser: optim.Optimizer,\n",
    "    accuracy: Accuracy,\n",
    "    device: torch.device,\n",
    "):\n",
    "    model.train()\n",
    "    accuracy.reset()\n",
    "    train_loss = 0.0\n",
    "    total_samples = 0\n",
    "\n",
    "    for texts, labels in data_loader:\n",
    "        texts, labels = texts.to(device), labels.to(device).unsqueeze(1)\n",
    "\n",
    "        # Optimiser zero grad without intervening forward pass\n",
    "        optimiser.zero_grad()\n",
    "\n",
    "        # Forward pass\n",
    "        y_logits = model(texts)  # Shape (batch_size, 1)\n",
    "\n",
    "        # Calculate loss\n",
    "        loss = criterion(y_logits, labels)\n",
    "        train_loss += loss.item() * texts.size(0)\n",
    "        total_samples += texts.size(0)\n",
    "\n",
    "        # Calculate accuracy\n",
    "        y_preds = (torch.sigmoid(y_logits) >= 0.5).int()\n",
    "        accuracy.update(y_preds, labels.int())\n",
    "\n",
    "        # Loss backward for backpropagation (computing gradients)\n",
    "        loss.backward()\n",
    "\n",
    "        # Optimiser step to apply gradients and update parameters\n",
    "        optimiser.step()\n",
    "    avg_train_loss = train_loss / total_samples\n",
    "    train_acc = accuracy.compute().item() * 100\n",
    "    return avg_train_loss, train_acc"
   ]
  },
  {
   "cell_type": "code",
   "execution_count": 34,
   "id": "1ca721e2",
   "metadata": {},
   "outputs": [],
   "source": [
    "def validation_step(\n",
    "    model: nn.Module,\n",
    "    data_loader: DataLoader,\n",
    "    criterion: nn.Module,\n",
    "    accuracy: Accuracy,\n",
    "    device: torch.device,\n",
    "):\n",
    "    model.eval()\n",
    "    accuracy.reset()\n",
    "    val_loss = 0.0\n",
    "    total_samples = 0\n",
    "    with torch.inference_mode():\n",
    "        for texts, labels in data_loader:\n",
    "            texts, labels = texts.to(device), labels.to(device).unsqueeze(-1)\n",
    "\n",
    "            # 1. Forward Pass\n",
    "            y_logits = model(texts)\n",
    "\n",
    "            # 2. Calculate loss\n",
    "            loss = criterion(y_logits, labels)\n",
    "            val_loss += loss.item() * texts.size(0)\n",
    "            total_samples += texts.size(0)\n",
    "\n",
    "            # 3. Calculate accuracy\n",
    "            y_preds = torch.sigmoid(y_logits) >= 0.5\n",
    "            accuracy.update(y_preds, labels.int())\n",
    "\n",
    "    avg_val_loss = val_loss / total_samples\n",
    "    val_acc = accuracy.compute().item() * 100\n",
    "    return avg_val_loss, val_acc\n"
   ]
  },
  {
   "cell_type": "markdown",
   "id": "82de7a59",
   "metadata": {},
   "source": [
    "### Model Training and Evaluation Pipeline"
   ]
  },
  {
   "cell_type": "code",
   "execution_count": null,
   "id": "e3a57154",
   "metadata": {},
   "outputs": [],
   "source": [
    "def train_and_validate(\n",
    "    model: nn.Module,\n",
    "    train_loader: DataLoader,\n",
    "    val_loader: DataLoader,\n",
    "    criterion: nn.Module,\n",
    "    optimiser: optim.Optimizer,\n",
    "    device: torch.device,\n",
    "    total_epochs: int,\n",
    "):\n",
    "    model.to(device)\n",
    "    epochs_range = range(1, total_epochs + 1)\n",
    "    train_results = {\"Loss\": [], \"Accuracy\": []}\n",
    "    val_results = {\"Loss\": [], \"Accuracy\": []}\n",
    "\n",
    "    start_time = time.time()\n",
    "\n",
    "    for epoch in epochs_range:\n",
    "        train_loss, train_acc = train_step(\n",
    "            data_loader=train_loader,\n",
    "            model=model,\n",
    "            criterion=criterion,\n",
    "            optimiser=optimiser,\n",
    "            accuracy=accuracy,\n",
    "            device=device,\n",
    "        )\n",
    "        train_results[\"Loss\"] = train_loss\n",
    "        train_results[\"Accuracy\"] = train_acc\n",
    "\n",
    "        val_loss, val_acc = validation_step(\n",
    "            data_loader=val_loader,\n",
    "            model=model,\n",
    "            criterion=criterion,\n",
    "            accuracy=accuracy,\n",
    "            device=device,\n",
    "        )\n",
    "        val_results[\"Loss\"] = val_loss\n",
    "        val_results[\"Accuracy\"] = val_acc\n",
    "\n",
    "        print(\n",
    "            f\"Epoch: {epoch}/{total_epochs} - \"\n",
    "            f\"Train Loss: {train_loss:.4f}  Train Accuracy: {train_acc:.2f}% | \"\n",
    "            f\"Val Loss: {val_loss:.4f}  Val Accuracy: {val_acc:.2f}%\"\n",
    "        )\n",
    "    end_time = time.time()\n",
    "    elapsed_time = end_time - start_time\n",
    "    print(f\"Training and validation completed in {elapsed_time:.2f} seconds.\")\n",
    "    return train_results, val_results"
   ]
  },
  {
   "cell_type": "code",
   "execution_count": 36,
   "id": "1baa8051",
   "metadata": {},
   "outputs": [],
   "source": [
    "# # Save the model if needed\n",
    "# torch.save(model.state_dict(), \"sentiment_lstm.pt\")"
   ]
  },
  {
   "cell_type": "code",
   "execution_count": 37,
   "id": "833fef64",
   "metadata": {},
   "outputs": [
    {
     "name": "stdout",
     "output_type": "stream",
     "text": [
      "Training LSTM...\n",
      "Epoch: 1/5 - Train Loss: 0.6422  Train Accuracy: 62.94% | Val Loss: 0.5566  Val Accuracy: 71.12%\n",
      "\n",
      "Epoch: 2/5 - Train Loss: 0.4633  Train Accuracy: 78.73% | Val Loss: 0.4101  Val Accuracy: 81.86%\n",
      "\n",
      "Epoch: 3/5 - Train Loss: 0.3332  Train Accuracy: 85.98% | Val Loss: 0.3667  Val Accuracy: 84.74%\n",
      "\n",
      "Epoch: 4/5 - Train Loss: 0.2553  Train Accuracy: 89.91% | Val Loss: 0.3505  Val Accuracy: 85.00%\n",
      "\n",
      "Epoch: 5/5 - Train Loss: 0.1924  Train Accuracy: 92.88% | Val Loss: 0.3403  Val Accuracy: 86.14%\n",
      "\n",
      "Training and validation completed in 345.68 seconds.\n"
     ]
    }
   ],
   "source": [
    "print(\"Training LSTM...\")\n",
    "lstm_train_results, lstm_test_results = train_and_validate(\n",
    "    lstm,\n",
    "    train_loader,\n",
    "    val_loader,\n",
    "    criterion,\n",
    "    lstm_optim,\n",
    "    device,\n",
    "    N_EPOCHS,\n",
    ")"
   ]
  },
  {
   "cell_type": "code",
   "execution_count": 38,
   "id": "d52c8a5a",
   "metadata": {},
   "outputs": [
    {
     "name": "stdout",
     "output_type": "stream",
     "text": [
      "Training Transformer...\n"
     ]
    },
    {
     "name": "stderr",
     "output_type": "stream",
     "text": [
      "/Users/tsu76i/Documents/Programming/Personal Projects/DS_Projects/.venv/lib/python3.13/site-packages/torch/nn/modules/transformer.py:505: UserWarning: The PyTorch API of nested tensors is in prototype stage and will change in the near future. We recommend specifying layout=torch.jagged when constructing a nested tensor, as this layout receives active development, has better operator coverage, and works with torch.compile. (Triggered internally at /Users/runner/work/pytorch/pytorch/pytorch/aten/src/ATen/NestedTensorImpl.cpp:182.)\n",
      "  output = torch._nested_tensor_from_mask(\n"
     ]
    },
    {
     "name": "stdout",
     "output_type": "stream",
     "text": [
      "Epoch: 1/5 - Train Loss: 0.4950  Train Accuracy: 74.44% | Val Loss: 0.4165  Val Accuracy: 82.08%\n",
      "\n",
      "Epoch: 2/5 - Train Loss: 0.3266  Train Accuracy: 86.30% | Val Loss: 0.3569  Val Accuracy: 85.34%\n",
      "\n",
      "Epoch: 3/5 - Train Loss: 0.2406  Train Accuracy: 90.49% | Val Loss: 0.3596  Val Accuracy: 85.96%\n",
      "\n",
      "Epoch: 4/5 - Train Loss: 0.1730  Train Accuracy: 93.62% | Val Loss: 0.4298  Val Accuracy: 85.88%\n",
      "\n",
      "Epoch: 5/5 - Train Loss: 0.1175  Train Accuracy: 95.99% | Val Loss: 0.4669  Val Accuracy: 85.66%\n",
      "\n",
      "Training and validation completed in 1080.34 seconds.\n"
     ]
    }
   ],
   "source": [
    "print(\"Training Transformer...\")\n",
    "transformer_train_results, transformer_test_results = train_and_validate(\n",
    "    transformer,\n",
    "    train_loader,\n",
    "    val_loader,\n",
    "    criterion,\n",
    "    transformer_optim,\n",
    "    \"cpu\",\n",
    "    N_EPOCHS,\n",
    ")"
   ]
  }
 ],
 "metadata": {
  "kernelspec": {
   "display_name": "DS_Projects",
   "language": "python",
   "name": "python3"
  },
  "language_info": {
   "codemirror_mode": {
    "name": "ipython",
    "version": 3
   },
   "file_extension": ".py",
   "mimetype": "text/x-python",
   "name": "python",
   "nbconvert_exporter": "python",
   "pygments_lexer": "ipython3",
   "version": "3.13.3"
  }
 },
 "nbformat": 4,
 "nbformat_minor": 5
}
