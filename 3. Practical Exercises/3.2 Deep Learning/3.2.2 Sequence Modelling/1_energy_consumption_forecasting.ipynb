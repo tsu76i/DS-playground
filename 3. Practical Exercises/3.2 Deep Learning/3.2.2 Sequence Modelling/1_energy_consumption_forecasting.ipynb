{
 "cells": [
  {
   "cell_type": "markdown",
   "id": "90e8cca5",
   "metadata": {},
   "source": [
    "# Energy Consumption Forecasting\n",
    "***\n",
    "## Table of Contents\n",
    "***"
   ]
  },
  {
   "cell_type": "code",
   "execution_count": 31,
   "id": "35fa361c",
   "metadata": {},
   "outputs": [],
   "source": [
    "import torch\n",
    "import os\n",
    "import random\n",
    "from torch import nn\n",
    "from torchvision import transforms\n",
    "from torch.utils.data.sampler import SubsetRandomSampler\n",
    "from torch.optim.lr_scheduler import ReduceLROnPlateau\n",
    "from tqdm import tqdm\n",
    "import numpy as np\n",
    "from typing import List\n",
    "import pandas as pd\n",
    "import seaborn as sns\n",
    "from pathlib import Path\n",
    "from torch.utils.data import Dataset, DataLoader, Subset\n",
    "import matplotlib.pyplot as plt"
   ]
  },
  {
   "cell_type": "markdown",
   "id": "882302c9",
   "metadata": {},
   "source": [
    "## 1. Introduction"
   ]
  },
  {
   "cell_type": "markdown",
   "id": "286ce9e9",
   "metadata": {},
   "source": [
    "## 2. Device Agnostic-Code\n",
    "Mac GPU acceleration (`mps` backend) delivers significant speed-up over CPU for deep learning tasks, especially for large models and batch sizes. On Windows, `cuda` is used instead of `mps`."
   ]
  },
  {
   "cell_type": "code",
   "execution_count": 32,
   "id": "88eee9bd",
   "metadata": {},
   "outputs": [
    {
     "data": {
      "text/plain": [
       "device(type='mps')"
      ]
     },
     "execution_count": 32,
     "metadata": {},
     "output_type": "execute_result"
    }
   ],
   "source": [
    "# Set device\n",
    "# device = \"cuda\" if torch.cuda.is_available() else \"cpu\"  # For Windows\n",
    "device = torch.device(\"mps\" if torch.backends.mps.is_available() else \"cpu\")  # For Mac\n",
    "device"
   ]
  },
  {
   "cell_type": "markdown",
   "id": "237c844d",
   "metadata": {},
   "source": [
    "## 3. Loading Dataset\n",
    "Retrieved from [Kaggle - Hourly Energy Consumption](https://www.kaggle.com/datasets/robikscube/hourly-energy-consumption)"
   ]
  },
  {
   "cell_type": "code",
   "execution_count": 33,
   "id": "fc065f9e",
   "metadata": {},
   "outputs": [
    {
     "name": "stdout",
     "output_type": "stream",
     "text": [
      "==================================================\n",
      "              Datetime   AEP_MW\n",
      "0  2004-12-31 01:00:00  13478.0\n",
      "1  2004-12-31 02:00:00  12865.0\n",
      "2  2004-12-31 03:00:00  12577.0\n",
      "3  2004-12-31 04:00:00  12517.0\n",
      "4  2004-12-31 05:00:00  12670.0\n",
      "==================================================\n",
      "Shape of the dataset: (121273, 2)\n",
      "==================================================\n",
      "<class 'pandas.core.frame.DataFrame'>\n",
      "RangeIndex: 121273 entries, 0 to 121272\n",
      "Data columns (total 2 columns):\n",
      " #   Column    Non-Null Count   Dtype  \n",
      "---  ------    --------------   -----  \n",
      " 0   Datetime  121273 non-null  object \n",
      " 1   AEP_MW    121273 non-null  float64\n",
      "dtypes: float64(1), object(1)\n",
      "memory usage: 1.9+ MB\n",
      "None\n",
      "==================================================\n",
      "Count of null values: 0\n",
      "==================================================\n",
      "              AEP_MW\n",
      "count  121273.000000\n",
      "mean    15499.513717\n",
      "std      2591.399065\n",
      "min      9581.000000\n",
      "25%     13630.000000\n",
      "50%     15310.000000\n",
      "75%     17200.000000\n",
      "max     25695.000000\n"
     ]
    }
   ],
   "source": [
    "df = pd.read_csv(\"_datasets/energy_consumption_pjm/AEP_hourly.csv\")\n",
    "print(\"=\" * 50)\n",
    "print(df.head())\n",
    "print(\"=\" * 50)\n",
    "print(f\"Shape of the dataset: {df.shape}\")\n",
    "print(\"=\" * 50)\n",
    "print(df.info())\n",
    "print(\"=\" * 50)\n",
    "print(f\"Count of null values: {df.isnull().sum().sum()}\")\n",
    "print(\"=\" * 50)\n",
    "print(df.describe())"
   ]
  },
  {
   "cell_type": "code",
   "execution_count": null,
   "id": "27eda5f8",
   "metadata": {},
   "outputs": [],
   "source": []
  }
 ],
 "metadata": {
  "kernelspec": {
   "display_name": "DS_Projects",
   "language": "python",
   "name": "python3"
  },
  "language_info": {
   "codemirror_mode": {
    "name": "ipython",
    "version": 3
   },
   "file_extension": ".py",
   "mimetype": "text/x-python",
   "name": "python",
   "nbconvert_exporter": "python",
   "pygments_lexer": "ipython3",
   "version": "3.13.3"
  }
 },
 "nbformat": 4,
 "nbformat_minor": 5
}
