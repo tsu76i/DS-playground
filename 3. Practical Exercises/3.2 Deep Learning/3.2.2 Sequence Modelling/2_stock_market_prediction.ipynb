{
 "cells": [
  {
   "cell_type": "markdown",
   "id": "172cd1ad",
   "metadata": {},
   "source": [
    "# Stock Market Prediction\n",
    "***\n",
    "## Table of Contents\n",
    "\n",
    "***"
   ]
  },
  {
   "cell_type": "code",
   "execution_count": null,
   "id": "fb8a19fb",
   "metadata": {},
   "outputs": [],
   "source": [
    "import torch\n",
    "import torch.nn as nn\n",
    "import numpy as np\n",
    "import pandas as pd\n",
    "import matplotlib.pyplot as plt\n",
    "import yfinance as yf\n",
    "from datetime import date"
   ]
  },
  {
   "cell_type": "markdown",
   "id": "70136cd0",
   "metadata": {},
   "source": [
    "## 1. Introduction\n"
   ]
  },
  {
   "cell_type": "markdown",
   "id": "bd18be89",
   "metadata": {},
   "source": [
    "## 2. Device Agnostic Code\n",
    "Mac GPU acceleration (`mps` backend) delivers significant speed-up over CPU for deep learning tasks, especially for large models and batch sizes. On Windows, `cuda` is used instead of `mps`.\n",
    "\n",
    "However, during the training process, I encountered several issues with LSTM networks on the MPS backend (e.g., error metrics became substantially higher compared to the CPU, etc.). Therefore, the CPU will be used throughout this project for '*safety*'.\n",
    "\n",
    "**Reference**:\n",
    "- [Training results from using MPS backend are poor compared to CPU and CUDA](https://github.com/pytorch/pytorch/issues/109457)\n",
    "- [MPS backend produces bad training results in comparison to other backends](https://github.com/pytorch/pytorch/issues/92615)\n",
    "- [Memory Leak in MPS Backend During LSTM Iterations (Out of Memory Error)](https://github.com/pytorch/pytorch/issues/145374)"
   ]
  },
  {
   "cell_type": "code",
   "execution_count": 115,
   "id": "8ca7f162",
   "metadata": {},
   "outputs": [
    {
     "data": {
      "text/plain": [
       "device(type='cpu')"
      ]
     },
     "execution_count": 115,
     "metadata": {},
     "output_type": "execute_result"
    }
   ],
   "source": [
    "# Set device\n",
    "# device = \"cuda\" if torch.cuda.is_available() else \"cpu\"  # For Windows\n",
    "# device = torch.device(\"mps\" if torch.backends.mps.is_available() else \"cpu\")  # For Mac\n",
    "device = torch.device(\"cpu\")  # For Mac, safer device use\n",
    "device"
   ]
  },
  {
   "cell_type": "markdown",
   "id": "75be96f1",
   "metadata": {},
   "source": [
    "## 3. Loading Dataset\n",
    "\n",
    "The default DataFrame has a two-level column index: `(column name, ticker)`, so the second level will be removed."
   ]
  },
  {
   "cell_type": "code",
   "execution_count": 122,
   "id": "428b023b",
   "metadata": {},
   "outputs": [
    {
     "name": "stderr",
     "output_type": "stream",
     "text": [
      "[*********************100%***********************]  1 of 1 completed\n"
     ]
    }
   ],
   "source": [
    "TICKERS = [\"AAPL\"]  # Apple Inc. stock data\n",
    "START_DATE = \"2015-01-01\"\n",
    "END_DATE = \"2025-12-31\"\n",
    "df = yf.download(TICKERS, start=START_DATE, end=END_DATE, auto_adjust=True)\n",
    "df.columns = df.columns.droplevel(1)  # Drop the second level"
   ]
  },
  {
   "cell_type": "code",
   "execution_count": 124,
   "id": "f9416807",
   "metadata": {},
   "outputs": [
    {
     "name": "stdout",
     "output_type": "stream",
     "text": [
      "==================================================\n",
      "Price           Close       High        Low       Open     Volume\n",
      "Date                                                             \n",
      "2015-01-02  24.288574  24.757328  23.848700  24.746220  212818400\n",
      "2015-01-05  23.604328  24.137509  23.417716  24.057531  257142000\n",
      "2015-01-06  23.606554  23.866479  23.244435  23.668758  263188400\n",
      "2015-01-07  23.937571  24.037541  23.704304  23.815383  160423600\n",
      "2015-01-08  24.857309  24.915071  24.148623  24.266369  237458000\n",
      "==================================================\n",
      "Shape of the dataset: (2661, 5)\n",
      "==================================================\n",
      "<class 'pandas.core.frame.DataFrame'>\n",
      "DatetimeIndex: 2661 entries, 2015-01-02 to 2025-08-01\n",
      "Data columns (total 5 columns):\n",
      " #   Column  Non-Null Count  Dtype  \n",
      "---  ------  --------------  -----  \n",
      " 0   Close   2661 non-null   float64\n",
      " 1   High    2661 non-null   float64\n",
      " 2   Low     2661 non-null   float64\n",
      " 3   Open    2661 non-null   float64\n",
      " 4   Volume  2661 non-null   int64  \n",
      "dtypes: float64(4), int64(1)\n",
      "memory usage: 124.7 KB\n",
      "None\n",
      "==================================================\n",
      "Count of null values: 0\n",
      "==================================================\n",
      "Price        Close         High          Low         Open        Volume\n",
      "count  2661.000000  2661.000000  2661.000000  2661.000000  2.661000e+03\n",
      "mean    100.671910   101.682060    99.562644   100.582952  1.137860e+08\n",
      "std      69.569613    70.255233    68.804389    69.496752  6.812872e+07\n",
      "min      20.647459    20.951437    20.448619    20.569754  2.323470e+07\n",
      "25%      36.236862    36.432943    35.904443    36.148337  6.782300e+07\n",
      "50%      76.221062    77.048606    75.459433    76.145036  9.667000e+07\n",
      "75%     162.529877   163.929681   160.751070   162.176042  1.391620e+08\n",
      "max     258.396667   259.474086   257.010028   257.568678  6.488252e+08\n"
     ]
    }
   ],
   "source": [
    "print(\"=\"*50)\n",
    "print(df.head())\n",
    "print(\"=\"*50)\n",
    "print(f'Shape of the dataset: {df.shape}')\n",
    "print(\"=\"*50)\n",
    "print(df.info())\n",
    "print(\"=\"*50)\n",
    "print(f\"Count of null values: {df.isnull().sum().sum()}\")\n",
    "print(\"=\"*50)\n",
    "print(df.describe())"
   ]
  }
 ],
 "metadata": {
  "kernelspec": {
   "display_name": "DS_Projects",
   "language": "python",
   "name": "python3"
  },
  "language_info": {
   "codemirror_mode": {
    "name": "ipython",
    "version": 3
   },
   "file_extension": ".py",
   "mimetype": "text/x-python",
   "name": "python",
   "nbconvert_exporter": "python",
   "pygments_lexer": "ipython3",
   "version": "3.13.3"
  }
 },
 "nbformat": 4,
 "nbformat_minor": 5
}
