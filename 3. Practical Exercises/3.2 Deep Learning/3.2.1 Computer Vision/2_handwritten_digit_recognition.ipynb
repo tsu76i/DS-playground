{
 "cells": [
  {
   "cell_type": "markdown",
   "id": "c9d6f7da",
   "metadata": {},
   "source": [
    "# Handwritten Digit Recognition\n",
    "***\n",
    "## Table of Contents\n",
    "***"
   ]
  },
  {
   "cell_type": "code",
   "execution_count": 7,
   "id": "da0daf82",
   "metadata": {},
   "outputs": [],
   "source": [
    "import torch\n",
    "from torch import nn\n",
    "from torchvision import datasets, transforms\n",
    "import numpy as np\n",
    "import pandas as pd\n",
    "import seaborn as sns\n",
    "import matplotlib.pyplot as plt"
   ]
  },
  {
   "cell_type": "markdown",
   "id": "ee164f47",
   "metadata": {},
   "source": [
    "## 1. Introduction\n",
    "\n",
    "Image recognition is a fundamental and powerful technique in the field of deep learning, renowned for its versatility across a wide range of applications in computer vision.\n",
    "\n",
    "This project aims to apply convolutional neural networks (CNNs) architectures and implement foundational deep learning models capable of identifying and classifying images of handwritten digits contained in the MNIST dataset. Through this work, key aspects of model architecture, training dynamics, and evaluation metrics are explored, serving as an introduction to practical image recognition with neural networks."
   ]
  },
  {
   "cell_type": "markdown",
   "id": "e5a308fc",
   "metadata": {},
   "source": [
    "## 2. Loading Data"
   ]
  },
  {
   "cell_type": "code",
   "execution_count": 8,
   "id": "257c5c4b",
   "metadata": {},
   "outputs": [],
   "source": [
    "train_transform = transforms.Compose(\n",
    "    [\n",
    "        transforms.Resize(size=(28, 28)),\n",
    "        transforms.ToTensor(),\n",
    "    ]\n",
    ")\n",
    "\n",
    "test_transform = transforms.Compose(\n",
    "    [\n",
    "        transforms.Resize(size=(28, 28)),\n",
    "        transforms.ToTensor(),\n",
    "    ]\n",
    ")\n",
    "\n",
    "train_data = datasets.MNIST(\n",
    "    root=\"_datasets\",\n",
    "    train=True,\n",
    "    download=True,\n",
    "    transform=train_transform,\n",
    "    target_transform=None,\n",
    ")\n",
    "\n",
    "test_data = datasets.MNIST(\n",
    "    root=\"_datasets\",\n",
    "    train=False,\n",
    "    download=True,\n",
    "    transform=test_transform,\n",
    ")"
   ]
  },
  {
   "cell_type": "markdown",
   "id": "af72a4c8",
   "metadata": {},
   "source": [
    "## 3. Device Agnostic-Code\n",
    "Mac GPU acceleration (`mps` backend) delivers significant speed-up over CPU for deep learning tasks, especially for large models and batch sizes. On Windows, it is `cuda` instead of `mps`."
   ]
  },
  {
   "cell_type": "code",
   "execution_count": 11,
   "id": "e888231b",
   "metadata": {},
   "outputs": [
    {
     "data": {
      "text/plain": [
       "device(type='mps')"
      ]
     },
     "execution_count": 11,
     "metadata": {},
     "output_type": "execute_result"
    }
   ],
   "source": [
    "# Set device\n",
    "# device = \"cuda\" if torch.cuda.is_available() else \"cpu\"  # For Windows\n",
    "device = torch.device(\"mps\" if torch.backends.mps.is_available() else \"cpu\")  # For Mac\n",
    "device"
   ]
  }
 ],
 "metadata": {
  "kernelspec": {
   "display_name": "DS_Projects",
   "language": "python",
   "name": "python3"
  },
  "language_info": {
   "codemirror_mode": {
    "name": "ipython",
    "version": 3
   },
   "file_extension": ".py",
   "mimetype": "text/x-python",
   "name": "python",
   "nbconvert_exporter": "python",
   "pygments_lexer": "ipython3",
   "version": "3.13.3"
  }
 },
 "nbformat": 4,
 "nbformat_minor": 5
}
