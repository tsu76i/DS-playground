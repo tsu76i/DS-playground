{
 "cells": [
  {
   "cell_type": "markdown",
   "id": "c9d6f7da",
   "metadata": {},
   "source": [
    "# Handwritten Digit Recognition\n",
    "***\n",
    "## Table of Contents\n",
    "***"
   ]
  },
  {
   "cell_type": "code",
   "execution_count": 178,
   "id": "da0daf82",
   "metadata": {},
   "outputs": [],
   "source": [
    "import torch\n",
    "from torch import nn\n",
    "from torchvision import datasets, transforms\n",
    "import numpy as np\n",
    "import pandas as pd\n",
    "import seaborn as sns\n",
    "import matplotlib.pyplot as plt"
   ]
  },
  {
   "cell_type": "markdown",
   "id": "ee164f47",
   "metadata": {},
   "source": [
    "## 1. Introduction\n",
    "\n",
    "Image recognition is a fundamental and powerful technique in the field of deep learning, renowned for its versatility across a wide range of applications in computer vision.\n",
    "\n",
    "This project aims to apply convolutional neural networks (CNNs) architectures and implement foundational deep learning models capable of identifying and classifying images of handwritten digits contained in the MNIST dataset. Through this work, key aspects of model architecture, training dynamics, and evaluation metrics are explored, serving as an introduction to practical image recognition with neural networks."
   ]
  },
  {
   "cell_type": "markdown",
   "id": "e5a308fc",
   "metadata": {},
   "source": [
    "## 2. Loading Data"
   ]
  },
  {
   "cell_type": "code",
   "execution_count": 179,
   "id": "257c5c4b",
   "metadata": {},
   "outputs": [],
   "source": [
    "train_transform = transforms.Compose(\n",
    "    [\n",
    "        transforms.Resize(size=(28, 28)),\n",
    "        transforms.ToTensor(),\n",
    "    ]\n",
    ")\n",
    "\n",
    "test_transform = transforms.Compose(\n",
    "    [\n",
    "        transforms.Resize(size=(28, 28)),\n",
    "        transforms.ToTensor(),\n",
    "    ]\n",
    ")\n",
    "\n",
    "train_data = datasets.MNIST(\n",
    "    root=\"_datasets\",\n",
    "    train=True,\n",
    "    download=True,\n",
    "    transform=train_transform,\n",
    "    target_transform=None,\n",
    ")\n",
    "\n",
    "test_data = datasets.MNIST(\n",
    "    root=\"_datasets\",\n",
    "    train=False,\n",
    "    download=True,\n",
    "    transform=test_transform,\n",
    ")"
   ]
  },
  {
   "cell_type": "markdown",
   "id": "af72a4c8",
   "metadata": {},
   "source": [
    "## 3. Device Agnostic-Code\n",
    "Mac GPU acceleration (`mps` backend) delivers significant speed-up over CPU for deep learning tasks, especially for large models and batch sizes. On Windows, it is `cuda` instead of `mps`."
   ]
  },
  {
   "cell_type": "code",
   "execution_count": 180,
   "id": "e888231b",
   "metadata": {},
   "outputs": [
    {
     "data": {
      "text/plain": [
       "device(type='mps')"
      ]
     },
     "execution_count": 180,
     "metadata": {},
     "output_type": "execute_result"
    }
   ],
   "source": [
    "# Set device\n",
    "# device = \"cuda\" if torch.cuda.is_available() else \"cpu\"  # For Windows\n",
    "device = torch.device(\"mps\" if torch.backends.mps.is_available() else \"cpu\")  # For Mac\n",
    "device"
   ]
  },
  {
   "cell_type": "markdown",
   "id": "b4d53afb",
   "metadata": {},
   "source": [
    "## 4. Understanding Data"
   ]
  },
  {
   "cell_type": "code",
   "execution_count": 181,
   "id": "db95abb2",
   "metadata": {},
   "outputs": [
    {
     "name": "stdout",
     "output_type": "stream",
     "text": [
      "Data size\n",
      " X_train: 60000, X_test: 10000\n",
      " y_train: 60000, y_test: 10000\n"
     ]
    }
   ],
   "source": [
    "print(\n",
    "    f\"Data size\\n X_train: {len(train_data.data)}, X_test: {len(test_data.data)}\\n y_train: {len(train_data.targets)}, y_test: {len(test_data.targets)}\"\n",
    ")"
   ]
  },
  {
   "cell_type": "code",
   "execution_count": 182,
   "id": "ba7b0347",
   "metadata": {},
   "outputs": [],
   "source": [
    "image, label = train_data[0]"
   ]
  },
  {
   "cell_type": "code",
   "execution_count": 183,
   "id": "be809a0b",
   "metadata": {},
   "outputs": [
    {
     "data": {
      "text/plain": [
       "torch.Size([1, 28, 28])"
      ]
     },
     "execution_count": 183,
     "metadata": {},
     "output_type": "execute_result"
    }
   ],
   "source": [
    "image.shape"
   ]
  },
  {
   "cell_type": "markdown",
   "id": "50d17b49",
   "metadata": {},
   "source": [
    "The shape of the image tensor `[1, 28, 28]`  refers to `[colour channel, height, width]`. Having only one colour channel indicates that the image is grayscale, whereas having three colour scales implies a colourful image based on the red, green and blue (RGB model)."
   ]
  },
  {
   "cell_type": "code",
   "execution_count": 184,
   "id": "e9c695b4",
   "metadata": {},
   "outputs": [
    {
     "data": {
      "text/plain": [
       "5"
      ]
     },
     "execution_count": 184,
     "metadata": {},
     "output_type": "execute_result"
    }
   ],
   "source": [
    "label"
   ]
  },
  {
   "cell_type": "code",
   "execution_count": 185,
   "id": "b83e53c1",
   "metadata": {},
   "outputs": [
    {
     "data": {
      "text/plain": [
       "['0 - zero',\n",
       " '1 - one',\n",
       " '2 - two',\n",
       " '3 - three',\n",
       " '4 - four',\n",
       " '5 - five',\n",
       " '6 - six',\n",
       " '7 - seven',\n",
       " '8 - eight',\n",
       " '9 - nine']"
      ]
     },
     "execution_count": 185,
     "metadata": {},
     "output_type": "execute_result"
    }
   ],
   "source": [
    "class_names = train_data.classes\n",
    "class_names"
   ]
  },
  {
   "cell_type": "markdown",
   "id": "c292b3f5",
   "metadata": {},
   "source": [
    "The MNIST dataset contains 10 different digits (from 0 to 10) with more or less balanced number of samples in each class."
   ]
  },
  {
   "cell_type": "code",
   "execution_count": 186,
   "id": "c255450d",
   "metadata": {},
   "outputs": [
    {
     "data": {
      "image/png": "[encoded data removed]",
      "text/plain": [
       "<Figure size 800x600 with 1 Axes>"
      ]
     },
     "metadata": {},
     "output_type": "display_data"
    }
   ],
   "source": [
    "targets = train_data.targets.numpy()\n",
    "unique_vals, counts = np.unique(targets, return_counts=True)\n",
    "df_dist = pd.DataFrame({\"Class Label\": unique_vals, \"Count\": counts})\n",
    "\n",
    "plt.figure(figsize=(8, 6))\n",
    "sns.barplot(data=df_dist, x=\"Class Label\", y=\"Count\", hue=\"Class Label\", palette=\"Set2\")\n",
    "plt.xlabel(\"Class Label\")\n",
    "plt.ylabel(\"Count\")\n",
    "plt.title(\"Distribution of Class Labels\")\n",
    "plt.show()"
   ]
  },
  {
   "cell_type": "code",
   "execution_count": 187,
   "id": "14d3fcd7",
   "metadata": {},
   "outputs": [
    {
     "name": "stdout",
     "output_type": "stream",
     "text": [
      "Image Shape: torch.Size([1, 28, 28])\n"
     ]
    },
    {
     "data": {
      "image/png": "[encoded data removed]",
      "text/plain": [
       "<Figure size 600x900 with 2 Axes>"
      ]
     },
     "metadata": {},
     "output_type": "display_data"
    }
   ],
   "source": [
    "fig, axes = plt.subplots(ncols=2, nrows=1, figsize=(6, 9))\n",
    "axes[0].imshow(image.squeeze())\n",
    "axes[0].set_title(label)\n",
    "axes[1].imshow(image.squeeze(), cmap=\"gray\")\n",
    "axes[1].set_title(class_names[label])\n",
    "\n",
    "print(f\"Image Shape: {image.shape}\")\n",
    "axes[0].axis(False)\n",
    "axes[1].axis(False)\n",
    "plt.tight_layout()\n",
    "plt.show()"
   ]
  },
  {
   "cell_type": "code",
   "execution_count": 188,
   "id": "40605ce0",
   "metadata": {},
   "outputs": [
    {
     "data": {
      "image/png": "[encoded data removed]",
      "text/plain": [
       "<Figure size 900x900 with 16 Axes>"
      ]
     },
     "metadata": {},
     "output_type": "display_data"
    }
   ],
   "source": [
    "torch.manual_seed(42)\n",
    "fig = plt.figure(figsize=(9, 9))\n",
    "rows, cols = 4, 4\n",
    "\n",
    "for i in range(1, rows * cols + 1):\n",
    "    random_idx = torch.randint(low=0, high=len(train_data), size=[1]).item()\n",
    "    img, label = train_data[random_idx]\n",
    "    fig.add_subplot(rows, cols, i)\n",
    "    plt.imshow(img.squeeze(), cmap=\"gray\")\n",
    "    plt.title(class_names[label])\n",
    "    plt.axis(False)\n",
    "    plt.tight_layout()\n",
    "plt.show()"
   ]
  },
  {
   "cell_type": "markdown",
   "id": "6d7685ac",
   "metadata": {},
   "source": [
    "## 5. Preparing DataLoader\n",
    "`torch.utils.data.DataLoader()` increases the computational efficiency by dividing a large dataset into smaller chunks (called **batches** or **mini-batches**). The size of these batches is controlled by the hyperparameter `batch_size`. Processing data in batches allows gradient descent to be performed once per batch rather than once per epoch, facilitating faster and more stable training process. \n",
    "\n",
    "By setting `shuffle=True`, the order of the samples is randomised to promote effective learning and reduce bias of the model. Shuffling should be enabled only for training data, not for test data to ensure reproducible and unbiased evaluation.\n",
    "\n",
    "Typically, the value of the hyperparameter `batch_size` is set as a power of 2 (32, 64, 128, etc.). For example, with `batch_size = 32`, the `train_data` (60000 samples) will be converted to a `train_dataloader` (60000 // 32 = 1875 samples per batch), and the `test_data` (10000 samples) will be converted to a `test_dataloader` (10000 // 32 = 313 samples per batch)."
   ]
  },
  {
   "cell_type": "code",
   "execution_count": 189,
   "id": "9ffc18c4",
   "metadata": {},
   "outputs": [
    {
     "name": "stdout",
     "output_type": "stream",
     "text": [
      "Length of train_dataloader: 1875\n",
      "Length of test_dataloader: 313\n"
     ]
    }
   ],
   "source": [
    "from torch.utils.data import DataLoader\n",
    "\n",
    "BATCH_SIZE = 32\n",
    "\n",
    "train_dataloader = DataLoader(\n",
    "    train_data,\n",
    "    batch_size=BATCH_SIZE,\n",
    "    shuffle=True,\n",
    ")\n",
    "\n",
    "test_dataloader = DataLoader(\n",
    "    test_data,\n",
    "    batch_size=BATCH_SIZE,\n",
    "    shuffle=True,\n",
    ")\n",
    "print(f\"Length of train_dataloader: {len(train_dataloader)}\")\n",
    "print(f\"Length of test_dataloader: {len(test_dataloader)}\")\n"
   ]
  },
  {
   "cell_type": "code",
   "execution_count": 190,
   "id": "ab716f33",
   "metadata": {},
   "outputs": [
    {
     "data": {
      "text/plain": [
       "(torch.Size([32, 1, 28, 28]), torch.Size([32]))"
      ]
     },
     "execution_count": 190,
     "metadata": {},
     "output_type": "execute_result"
    }
   ],
   "source": [
    "train_features_batch, train_labels_batch = next(iter(train_dataloader))\n",
    "train_features_batch.shape, train_labels_batch.shape"
   ]
  },
  {
   "cell_type": "markdown",
   "id": "a5d8a4a8",
   "metadata": {},
   "source": [
    "## 6. Convolutional Neural Network (CNN) Architectures\n",
    "The following `CNN` class defines a convolutional neural network architecture appropriate for tasks such as image classifiacation. It is consists of three blocks:\n",
    "\n",
    "1. **Block 1**: Initial Feature Extraction\n",
    "    - First Conv2d Layer\n",
    "        - Takes the image tensor with `input_shape` channels and extracts `hidden_units` feature maps.\n",
    "    - First ReLU Activation\n",
    "        - Adds non-linearity, enabling the network to approximate complex functions.\n",
    "    - Second Conv2d Layer\n",
    "        - Further refining feature extraction.\n",
    "    - Second ReLU Activation\n",
    "        - Continued non-linear transformation after each convolution.\n",
    "    - MaxPool2d\n",
    "        - Reduces spatial dimensions by taking the maximum value in each $2 \\times 2$ patch. This adds translational invariance and reduces computational requirements.\n",
    "2. **Block 2**: High-Level Feature Extraction\n",
    "    - Same structure as block 1 for further feature refinement, capturing larger scale patterns, and spatial dimensions are halved again.\n",
    "3. **Classifier Block**:\n",
    "    - Flatten\n",
    "        - Converts the output feature maps to a single vector per sample, suitable for input to a linear (fully connected) layer.\n",
    "    - Linear (Fully connected layer)\n",
    "        - Final classifier layer. After two `nn.MaxPool2d(kernel_size=2)` operations (each halving width and height), dimensions change as $28 \\times 28 \\rightarrow 14 \\times 14 \\rightarrow 7 \\times 7$. Thus `hidden_units * 7 * 7` matches the expected input size for the linear classifier. \n",
    "\n",
    "To improve the performance of CNN model, some actions can be taken on model architecture improvements, such as:\n",
    "- Add Batch Normalisation Layers\n",
    "    - Adding batch normalisation layers after each convolutional layer can etablise and accelerate training by normalising the input to each activation function.\n",
    "- Use Dropout\n",
    "    - Randomly drop out units during training, making the network less sensitive to the specific weights of individual neurons.\n",
    "    - Adding `nn.Dropout()` layers, typically after pooling layers or optionally after activation functions to help prevent overfitting.\n",
    "    - `nn.Dropout2d()` after activations / poolings, and `nn.Dropout()` before fully-connected layer.\n",
    "- Enhance the Classifier Head\n",
    "    - Use more than one linear layer in the classifier."
   ]
  },
  {
   "cell_type": "code",
   "execution_count": 191,
   "id": "cbb1f3f8",
   "metadata": {},
   "outputs": [],
   "source": [
    "class CNN(nn.Module):\n",
    "    def __init__(\n",
    "        self,\n",
    "        input_shape: int,\n",
    "        hidden_units: int,\n",
    "        output_shape: int,\n",
    "    ):\n",
    "        super(CNN, self).__init__()\n",
    "        self.block_1 = nn.Sequential(\n",
    "            nn.Conv2d(\n",
    "                in_channels=input_shape,\n",
    "                out_channels=hidden_units,\n",
    "                kernel_size=3,\n",
    "            ),\n",
    "            nn.ReLU(),\n",
    "            nn.Dropout2d(p=0.25),\n",
    "            nn.Conv2d(\n",
    "                in_channels=hidden_units, out_channels=hidden_units, kernel_size=3\n",
    "            ),\n",
    "            nn.ReLU(),\n",
    "            nn.MaxPool2d(kernel_size=2, stride=2),\n",
    "            nn.Dropout2d(p=0.25),\n",
    "        )\n",
    "        self.block_2 = nn.Sequential(\n",
    "            nn.Conv2d(\n",
    "                in_channels=hidden_units, out_channels=hidden_units, kernel_size=3\n",
    "            ),\n",
    "            nn.ReLU(),\n",
    "            nn.Dropout2d(p=0.25),\n",
    "            nn.Conv2d(\n",
    "                in_channels=hidden_units, out_channels=hidden_units, kernel_size=3\n",
    "            ),\n",
    "            nn.ReLU(),\n",
    "            nn.MaxPool2d(kernel_size=2, stride=1),\n",
    "            nn.Dropout2d(p=0.25),\n",
    "        )\n",
    "        self.classifier = nn.Sequential(\n",
    "            nn.Flatten(),\n",
    "            nn.Dropout(p=0.5),\n",
    "            nn.Linear(in_features=hidden_units * 7 * 7, out_features=output_shape),\n",
    "        )\n",
    "\n",
    "    def forward(self, x):\n",
    "        x = self.block_1(x)\n",
    "        x = self.block_2(x)\n",
    "        x = self.classifier(x)\n",
    "        return x"
   ]
  },
  {
   "cell_type": "code",
   "execution_count": 192,
   "id": "24829665",
   "metadata": {},
   "outputs": [],
   "source": [
    "torch.manual_seed(42)\n",
    "\n",
    "model_cnn = CNN(\n",
    "    input_shape=1,\n",
    "    hidden_units=10,\n",
    "    output_shape=(len(class_names)),\n",
    ").to(device)"
   ]
  },
  {
   "cell_type": "markdown",
   "id": "cee197bf",
   "metadata": {},
   "source": [
    "## 7. Evaluation Metrics\n",
    "We will use the following evaluation metrics:\n",
    "- `torchmetrics.Accuracy`\n",
    "- `torchmetrics.Precision`\n",
    "- `torchmetrics.Recall`\n",
    "- `torchmetrics.F1Score`"
   ]
  },
  {
   "cell_type": "code",
   "execution_count": 193,
   "id": "18109723",
   "metadata": {},
   "outputs": [],
   "source": [
    "from torchmetrics import Accuracy, Precision, Recall, F1Score\n",
    "\n",
    "calculate_accuracy = Accuracy(task=\"multiclass\", num_classes=len(class_names)).to(\n",
    "    device\n",
    ")\n",
    "calculate_precision = Precision(\n",
    "    task=\"multiclass\", num_classes=len(class_names), average=\"macro\"\n",
    ").to(device)\n",
    "\n",
    "calculate_recall = Recall(\n",
    "    task=\"multiclass\", num_classes=len(class_names), average=\"macro\"\n",
    ").to(device)\n",
    "\n",
    "calculate_f1 = F1Score(\n",
    "    task=\"multiclass\", num_classes=len(class_names), average=\"macro\"\n",
    ").to(device)\n",
    "\n",
    "metrics = [calculate_accuracy, calculate_precision, calculate_recall, calculate_f1]"
   ]
  },
  {
   "cell_type": "markdown",
   "id": "2b3aaa99",
   "metadata": {},
   "source": [
    "## 8. Loss Function\n",
    "### Cross-Entropy Loss\n",
    "Cross-Entropy Loss is a loss function used for classification problems, particularly when the model outputs probabilities using a softmax activation in the final layer. It measures the difference between the true labels and the predicted probability distribution.\n",
    "\n",
    "For a single data point, the cross-entropy loss is defined as:\n",
    "\n",
    "\\begin{align*}\n",
    "    L = - \\sum^{k}_{i=1}y_{i}\\log{(\\hat y_{i})}\n",
    "\\end{align*}\n",
    "\n",
    "where:\n",
    "- $y_i$: True label for the $i$-th class. If one-hot encoded, $y_{i} = 1$ for the corrected class, $y_{i} = 0$ otherwise.\n",
    "- $\\hat y_i$: Predicted probability for the $i$-th class.\n",
    "- $k$: Number of classes.\n",
    "\n",
    "For a batch of $m$ data point:\n",
    "\n",
    "\\begin{align*}\n",
    "    C = \\dfrac{1}{m} \\sum^{m}_{j=1} \\left (- \\sum^{k}_{i=1}y_{j, i}\\log{(\\hat y_{j, i})} \\right)\n",
    "\\end{align*}\n",
    "\n",
    "where:\n",
    "- $C$: Average cross-entropy loss over the batch.\n",
    "- $m$: Number of training examples (batch size).\n",
    "- $k$: Number of classes.\n",
    "- $y_{j, i} \\in { 0, 1}$: Indicator that true class for sample $j$ corresponds to class $i$.\n",
    "- $\\hat y_{j, i} \\in { 0, 1}$: Predicted probability for sample $j$ belonging to class $i$.\n",
    "\n",
    "In PyTorch:\n",
    "- Use `nn.CrossEntropyLoss()` directly with raw logits.\n",
    "- Do not apply `Softmax()` or `LogSoftmax()` manually before the loss.\n",
    "- Internally, `nn.CrossEntropyLoss() = LogSoftmax() + NegativeLogLikelihoodLoss()`. "
   ]
  },
  {
   "cell_type": "code",
   "execution_count": 194,
   "id": "a9e7c80b",
   "metadata": {},
   "outputs": [],
   "source": [
    "loss_function = nn.CrossEntropyLoss()"
   ]
  },
  {
   "cell_type": "markdown",
   "id": "f9e8b8a6",
   "metadata": {},
   "source": [
    "## 9. Optimiser\n",
    "An optimiser in neural networks is used to adjust the parameters (weights and biases) of a model during training to minimise the loss. Optimisers are essential for enabling neural networks to learn from data: without them, the model would not improve over time."
   ]
  },
  {
   "cell_type": "code",
   "execution_count": 195,
   "id": "9f64bd14",
   "metadata": {},
   "outputs": [],
   "source": [
    "optimiser = torch.optim.Adam(params=model_cnn.parameters(), lr=0.001)"
   ]
  },
  {
   "cell_type": "markdown",
   "id": "51bca5a0",
   "metadata": {},
   "source": [
    "## 10. Training and Evaluation\n",
    "1. Iterate through epochs\n",
    "1. For each epoch, iterate through training batches, perform training steps, calculate the train loss and evaluation metrics per batch.\n",
    "1. For each epoch, iterate through testing batches, perform testing steps, calculate the test loss and evaluation metrics per batch.\n",
    "1. Store the results.\n",
    "\n",
    "### **Training Steps**\n",
    "1. Forward Pass\n",
    "    - Pass inputs through the model to obtain predictions.\n",
    "1. Calculate Loss Per Batch\n",
    "    - Measure how far the predictions deviate from the true labels, using a loss function.\n",
    "1. Zero the Gradients\n",
    "    - Clear the previously stored gradients to prevent accumulation from multiple backward passes.\n",
    "1. Backward Pass\n",
    "    - Computes gradients of the loss with respect to the model's parameters via backpropagation.\n",
    "1. Optimiser Step\n",
    "    - Update the parameter $\\theta$ using the gradients just computed, typically following an equation such as:\n",
    "    $$\n",
    "        \\theta \\leftarrow \\theta - \\eta \\dfrac{\\partial \\mathcal{L}}{\\partial \\theta}\n",
    "    $$\n",
    "    where $\\eta$ is the learning rate.\n",
    "1. Average Training Loss\n",
    "    - Computes the mean training loss across all batches for the epoch."
   ]
  },
  {
   "cell_type": "code",
   "execution_count": 196,
   "id": "5bb6ae46",
   "metadata": {},
   "outputs": [],
   "source": [
    "def train_step(\n",
    "    model: nn.Module,\n",
    "    data_loader: DataLoader,\n",
    "    loss_function: nn.Module,\n",
    "    optimiser: torch.optim.Optimizer,\n",
    "    calculate_accuracy: torch.optim.Adam,\n",
    "    device: torch.device = device,\n",
    "):\n",
    "    model.to(device)\n",
    "    model.train()\n",
    "    train_loss = 0\n",
    "    for metric in metrics:\n",
    "        metric.reset()\n",
    "    for batch, (X, y) in enumerate(data_loader):\n",
    "        X, y = X.to(device), y.to(device)\n",
    "\n",
    "        # 1. Forward pass\n",
    "        y_pred = model(X)\n",
    "\n",
    "        # 2. Calculate loss per batch\n",
    "        loss = loss_function(y_pred, y)\n",
    "        train_loss += loss\n",
    "\n",
    "        for metric in metrics:\n",
    "            metric.update(y_pred, y)\n",
    "\n",
    "        # 3. Optimiser zero grad\n",
    "        optimiser.zero_grad()\n",
    "\n",
    "        # 4. Loss backward\n",
    "        loss.backward()\n",
    "\n",
    "        # 5. Optimiser step\n",
    "        optimiser.step()\n",
    "\n",
    "        if batch % 500 == 0:\n",
    "            print(f\"{batch * len(X)} / {len(data_loader.dataset)} samples\")\n",
    "\n",
    "    # Divide total train loss by length of train dataloader (average loss per batch per epoch)\n",
    "    train_loss /= len(data_loader)\n",
    "    train_acc = calculate_accuracy.compute().item() * 100\n",
    "    train_prec = calculate_precision.compute().item() * 100\n",
    "    train_rec = calculate_recall.compute().item() * 100\n",
    "    train_f1 = calculate_f1.compute().item() * 100\n",
    "    print(f\"Train loss: {train_loss:.5f} | Train accuracy: {train_acc:.2f}%\")\n",
    "    train_metrics = [train_acc, train_prec, train_rec, train_f1]\n",
    "    return train_loss, train_metrics\n"
   ]
  },
  {
   "cell_type": "markdown",
   "id": "b3fe54a5",
   "metadata": {},
   "source": [
    "### **Testing Steps**\n",
    "1. Forward pass\n",
    "    - Set the model to evaluation mode (which disables dropout and batch normalisation and desactivates gradient tracking for safety).\n",
    "    - Pass inputs through the model to obtain predictions.\n",
    "1. Calculate Loss Per Batch\n",
    "    - Measure how far the predictions deviate from the true labels, using a loss function.\n",
    "1. Update and Compute Accuracy\n",
    "    - Updates accuracy state with each batch, and compute the overall accuracy after all test batches.\n",
    "1. Average Test Loss\n",
    "    - Computes the mean Test loss across all batches for the epoch."
   ]
  },
  {
   "cell_type": "code",
   "execution_count": 197,
   "id": "96783a5b",
   "metadata": {},
   "outputs": [],
   "source": [
    "def test_step(\n",
    "    model: torch.nn.Module,\n",
    "    data_loader: torch.utils.data.DataLoader,\n",
    "    loss_function: torch.nn.Module,\n",
    "    calculate_accuracy,\n",
    "    device: torch.device = device,\n",
    "):\n",
    "    model.to(device)\n",
    "    model.eval()\n",
    "    test_loss = 0\n",
    "    for metric in metrics:\n",
    "        metric.reset()\n",
    "    with torch.inference_mode():\n",
    "        for X, y in data_loader:\n",
    "            X, y = X.to(device), y.to(device)\n",
    "\n",
    "            # 1. Forward pass\n",
    "            test_pred = model(X)\n",
    "\n",
    "            # 2. Calculate loss\n",
    "            test_loss += loss_function(test_pred, y)\n",
    "\n",
    "            # 3. Calculate metrics\n",
    "            for metric in metrics:\n",
    "                metric.update(test_pred, y)\n",
    "\n",
    "        # 4. Take the averages of test loss and compute metrics\n",
    "        test_loss /= len(data_loader)\n",
    "    test_acc = calculate_accuracy.compute().item() * 100\n",
    "    test_prec = calculate_precision.compute().item() * 100\n",
    "    test_rec = calculate_recall.compute().item() * 100\n",
    "    test_f1 = calculate_f1.compute().item() * 100\n",
    "    print(f\"Test loss: {test_loss:.5f} | Test accuracy: {test_acc:.5f}\\n\")\n",
    "    test_metrics = [test_acc, test_prec, test_rec, test_f1]\n",
    "    return test_loss, test_metrics"
   ]
  },
  {
   "cell_type": "code",
   "execution_count": 198,
   "id": "b547a3d5",
   "metadata": {},
   "outputs": [
    {
     "name": "stdout",
     "output_type": "stream",
     "text": [
      "Epoch: 1\n",
      "==========\n",
      "0 / 60000 samples\n",
      "16000 / 60000 samples\n",
      "32000 / 60000 samples\n",
      "48000 / 60000 samples\n",
      "Train loss: 0.51112 | Train accuracy: 84.60%\n",
      "Test loss: 0.11517 | Test accuracy: 96.53000\n",
      "\n",
      "Epoch: 2\n",
      "==========\n",
      "0 / 60000 samples\n",
      "16000 / 60000 samples\n",
      "32000 / 60000 samples\n",
      "48000 / 60000 samples\n",
      "Train loss: 0.27321 | Train accuracy: 92.23%\n",
      "Test loss: 0.08880 | Test accuracy: 97.24000\n",
      "\n",
      "Epoch: 3\n",
      "==========\n",
      "0 / 60000 samples\n",
      "16000 / 60000 samples\n",
      "32000 / 60000 samples\n",
      "48000 / 60000 samples\n",
      "Train loss: 0.23562 | Train accuracy: 93.24%\n",
      "Test loss: 0.08343 | Test accuracy: 97.54000\n",
      "\n",
      "Epoch: 4\n",
      "==========\n",
      "0 / 60000 samples\n",
      "16000 / 60000 samples\n",
      "32000 / 60000 samples\n",
      "48000 / 60000 samples\n",
      "Train loss: 0.22241 | Train accuracy: 93.55%\n",
      "Test loss: 0.07683 | Test accuracy: 97.58000\n",
      "\n",
      "Epoch: 5\n",
      "==========\n",
      "0 / 60000 samples\n",
      "16000 / 60000 samples\n",
      "32000 / 60000 samples\n",
      "48000 / 60000 samples\n",
      "Train loss: 0.20870 | Train accuracy: 93.83%\n",
      "Test loss: 0.07066 | Test accuracy: 97.78000\n",
      "\n",
      "Epoch: 6\n",
      "==========\n",
      "0 / 60000 samples\n",
      "16000 / 60000 samples\n",
      "32000 / 60000 samples\n",
      "48000 / 60000 samples\n",
      "Train loss: 0.20186 | Train accuracy: 94.02%\n",
      "Test loss: 0.07021 | Test accuracy: 97.66000\n",
      "\n",
      "Epoch: 7\n",
      "==========\n",
      "0 / 60000 samples\n",
      "16000 / 60000 samples\n",
      "32000 / 60000 samples\n",
      "48000 / 60000 samples\n",
      "Train loss: 0.19700 | Train accuracy: 94.19%\n",
      "Test loss: 0.06984 | Test accuracy: 97.80000\n",
      "\n",
      "Epoch: 8\n",
      "==========\n",
      "0 / 60000 samples\n",
      "16000 / 60000 samples\n",
      "32000 / 60000 samples\n",
      "48000 / 60000 samples\n",
      "Train loss: 0.19419 | Train accuracy: 94.41%\n",
      "Test loss: 0.06607 | Test accuracy: 97.97000\n",
      "\n",
      "Epoch: 9\n",
      "==========\n",
      "0 / 60000 samples\n",
      "16000 / 60000 samples\n",
      "32000 / 60000 samples\n",
      "48000 / 60000 samples\n",
      "Train loss: 0.19285 | Train accuracy: 94.38%\n",
      "Test loss: 0.06728 | Test accuracy: 97.83000\n",
      "\n",
      "Epoch: 10\n",
      "==========\n",
      "0 / 60000 samples\n",
      "16000 / 60000 samples\n",
      "32000 / 60000 samples\n",
      "48000 / 60000 samples\n",
      "Train loss: 0.18653 | Train accuracy: 94.54%\n",
      "Test loss: 0.06144 | Test accuracy: 98.07000\n",
      "\n"
     ]
    }
   ],
   "source": [
    "EPOCHS = 10\n",
    "epochs_range = range(1, EPOCHS + 1)\n",
    "train_losses, train_accuracies, train_precisions, train_recalls, train_f1s = (\n",
    "    [],\n",
    "    [],\n",
    "    [],\n",
    "    [],\n",
    "    [],\n",
    ")\n",
    "test_losses, test_accuracies, test_precisions, test_recalls, test_f1s = (\n",
    "    [],\n",
    "    [],\n",
    "    [],\n",
    "    [],\n",
    "    [],\n",
    ")\n",
    "\n",
    "for epoch in epochs_range:\n",
    "    print(f\"Epoch: {epoch}\\n==========\")\n",
    "    train_loss, train_metrics = train_step(\n",
    "        data_loader=train_dataloader,\n",
    "        model=model_cnn,\n",
    "        loss_function=loss_function,\n",
    "        optimiser=optimiser,\n",
    "        calculate_accuracy=calculate_accuracy,\n",
    "        device=device,\n",
    "    )\n",
    "    train_losses.append(train_loss)\n",
    "    train_accuracies.append(train_metrics[0])\n",
    "    train_precisions.append(train_metrics[1])\n",
    "    train_recalls.append(train_metrics[2])\n",
    "    train_f1s.append(train_metrics[3])\n",
    "\n",
    "    test_loss, test_metrics = test_step(\n",
    "        data_loader=test_dataloader,\n",
    "        model=model_cnn,\n",
    "        loss_function=loss_function,\n",
    "        calculate_accuracy=calculate_accuracy,\n",
    "        device=device,\n",
    "    )\n",
    "    test_losses.append(test_loss)\n",
    "    test_accuracies.append(test_metrics[0])\n",
    "    test_precisions.append(test_metrics[1])\n",
    "    test_recalls.append(test_metrics[2])\n",
    "    test_f1s.append(test_metrics[3])"
   ]
  },
  {
   "cell_type": "code",
   "execution_count": 200,
   "id": "795a2013",
   "metadata": {},
   "outputs": [
    {
     "name": "stdout",
     "output_type": "stream",
     "text": [
      "Final Loss: 0.0614 | Final Test accuracy: 98.07%\n"
     ]
    }
   ],
   "source": [
    "print(f\"Final Loss: {test_loss:.4f} | Final Test accuracy: {test_metrics[0]:.2f}%\")"
   ]
  },
  {
   "cell_type": "code",
   "execution_count": null,
   "id": "8a43e80d",
   "metadata": {},
   "outputs": [],
   "source": []
  }
 ],
 "metadata": {
  "kernelspec": {
   "display_name": "DS_Projects",
   "language": "python",
   "name": "python3"
  },
  "language_info": {
   "codemirror_mode": {
    "name": "ipython",
    "version": 3
   },
   "file_extension": ".py",
   "mimetype": "text/x-python",
   "name": "python",
   "nbconvert_exporter": "python",
   "pygments_lexer": "ipython3",
   "version": "3.13.3"
  }
 },
 "nbformat": 4,
 "nbformat_minor": 5
}
