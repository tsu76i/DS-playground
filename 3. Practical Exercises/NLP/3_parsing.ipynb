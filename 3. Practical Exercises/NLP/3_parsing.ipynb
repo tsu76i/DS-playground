{
 "cells": [
  {
   "cell_type": "markdown",
   "id": "a49bf40e",
   "metadata": {},
   "source": [
    "# Parsing\n",
    "***\n",
    "## Table of Contents\n",
    "1. [Introduction](#1-introduction)\n",
    "    - [Types of Parsing](#types-of-parsing)\n",
    "2. [Constituency Parsing](#2-constituency-parsing)\n",
    "3. [Dependency Parsing](#3-dependency-parsing)\n",
    "***"
   ]
  },
  {
   "cell_type": "code",
   "execution_count": 20,
   "id": "6dd9f9c9",
   "metadata": {},
   "outputs": [],
   "source": [
    "import nltk\n",
    "import spacy\n",
    "from spacy import displacy\n",
    "from IPython.display import display, HTML"
   ]
  },
  {
   "cell_type": "markdown",
   "id": "7fd51dfd",
   "metadata": {},
   "source": [
    "## 1. Introduction\n",
    "Parsing in Natural Language Processing (NLP) refers to the process of analysing the grammatical structure of a sentence to determine the relationships between words and phrases. The main purpose of parsing is to build a structured representation (often a tree form) that represents how words group together and relate to each other in the sentence.\n",
    "\n",
    "Without parsing, NLP models would lack the structural understanding needed to accurately interpret and process human language. Parsing acts as a bridge between raw text and higher-level language understanding, making it essential for building reliable NLP applications.\n",
    "\n",
    "### Types of Parsing\n",
    "- **Constituency Parsing**: Breaks a sentence into sub-phrases (constituents), such as noun phrases (NP) and verb phrases (VP), then creates a tree-like structure that represents the grammatical relationships between words and phrases. It demonstrates how words are combined to form larger syntactic units.\n",
    "\n",
    "- **Dependency Parsing**: Focuses on binary relationships between words, identifying which words are the 'head' (main word) and which are 'dependent' (modifiers). This forms a dependency tree using a probababilistic context-free grammar (PCFG)."
   ]
  },
  {
   "cell_type": "markdown",
   "id": "534ab8e6",
   "metadata": {},
   "source": [
    "## 2. Constituency Parsing\n",
    "Constituency parsing divides a sentence into nested sub-phrases. Let's consider a sentence:\n",
    "> John saw the car in the parking lot.\n",
    "\n",
    "`nltk.CFG()` allows us to define a simple context-free grammar:\n",
    "- A sentence (`S`) consists of a noun phrase (`NP`) and a verb phrase (`VP`).\n",
    "- A noun phrase can be 'John', 'the car', or 'the parking lot'.\n",
    "- A verb phrase can be 'saw', 'saw' followed by an `NP`, or 'saw' followed by an `NP` and a prepositional phrase `PP`.\n",
    "- A prepositional phrase is 'in' followed by an `NP`."
   ]
  },
  {
   "cell_type": "code",
   "execution_count": 21,
   "id": "5ac75c13",
   "metadata": {},
   "outputs": [
    {
     "name": "stdout",
     "output_type": "stream",
     "text": [
      "(S (NP John) (VP saw (NP the car) (PP in (NP the parking lot))))\n",
      "                  S                         \n",
      "  ________________|___                       \n",
      " |                    VP                    \n",
      " |     _______________|_______               \n",
      " |    |       |               PP            \n",
      " |    |       |        _______|_____         \n",
      " NP   |       NP      |             NP      \n",
      " |    |    ___|___    |    _________|_____   \n",
      "John saw the     car  in the     parking lot\n",
      "\n"
     ]
    }
   ],
   "source": [
    "sentence = \"John saw the car in the parking lot\"\n",
    "tokens = nltk.word_tokenize(sentence)\n",
    "\n",
    "# Define a simple grammar using CFG\n",
    "grammar = nltk.CFG.fromstring(\"\"\"\n",
    "  S -> NP VP\n",
    "  NP -> 'John' | 'the' 'car' | 'the' 'parking' 'lot'\n",
    "  VP -> 'saw' | 'saw' NP | 'saw' NP PP\n",
    "  PP -> 'in' NP\n",
    "\"\"\")\n",
    "\n",
    "parser = nltk.ChartParser(grammar)\n",
    "\n",
    "for tree in parser.parse(tokens):\n",
    "    print(tree)\n",
    "    tree.pretty_print()  # ASCII visualisation"
   ]
  },
  {
   "cell_type": "markdown",
   "id": "952e8d86",
   "metadata": {},
   "source": [
    "## 3. Dependency Parsing\n",
    "Dependency parsing identifies relationships between individual words. Considering a sentence:\n",
    "> 'The quick brown fox jumps over the lazy dog'"
   ]
  },
  {
   "cell_type": "code",
   "execution_count": 28,
   "id": "505ae80d",
   "metadata": {},
   "outputs": [],
   "source": [
    "nlp = spacy.load('en_core_web_sm')\n",
    "text = 'The quick brown fox jumps over the lazy dog'\n",
    "doc = nlp(text)"
   ]
  },
  {
   "cell_type": "code",
   "execution_count": 32,
   "id": "ebb2bfce",
   "metadata": {},
   "outputs": [
    {
     "name": "stdout",
     "output_type": "stream",
     "text": [
      "The        det        fox       \n",
      "quick      amod       fox       \n",
      "brown      amod       fox       \n",
      "fox        nsubj      jumps     \n",
      "jumps      ROOT       jumps     \n",
      "over       prep       jumps     \n",
      "the        det        dog       \n",
      "lazy       amod       dog       \n",
      "dog        pobj       over      \n"
     ]
    }
   ],
   "source": [
    "# Print each token and its dependency information\n",
    "for token in doc:\n",
    "    print(f\"{token.text:10} {token.dep_:10} {token.head.text:10}\")"
   ]
  },
  {
   "cell_type": "code",
   "execution_count": 29,
   "id": "e0071ba8",
   "metadata": {},
   "outputs": [
    {
     "data": {
      "text/html": [
       "<svg xmlns=\"http://www.w3.org/2000/svg\" xmlns:xlink=\"http://www.w3.org/1999/xlink\" xml:lang=\"en\" id=\"2fea5b774a2a4219be56514f96c9c96b-0\" class=\"displacy\" width=\"1625\" height=\"399.5\" direction=\"ltr\" style=\"max-width: none; height: 399.5px; color: #000000; background: #ffffff; font-family: Arial; direction: ltr\">\n",
       "<text class=\"displacy-token\" fill=\"currentColor\" text-anchor=\"middle\" y=\"309.5\">\n",
       "    <tspan class=\"displacy-word\" fill=\"currentColor\" x=\"50\">The</tspan>\n",
       "    <tspan class=\"displacy-tag\" dy=\"2em\" fill=\"currentColor\" x=\"50\">DET</tspan>\n",
       "</text>\n",
       "\n",
       "<text class=\"displacy-token\" fill=\"currentColor\" text-anchor=\"middle\" y=\"309.5\">\n",
       "    <tspan class=\"displacy-word\" fill=\"currentColor\" x=\"225\">quick</tspan>\n",
       "    <tspan class=\"displacy-tag\" dy=\"2em\" fill=\"currentColor\" x=\"225\">ADJ</tspan>\n",
       "</text>\n",
       "\n",
       "<text class=\"displacy-token\" fill=\"currentColor\" text-anchor=\"middle\" y=\"309.5\">\n",
       "    <tspan class=\"displacy-word\" fill=\"currentColor\" x=\"400\">brown</tspan>\n",
       "    <tspan class=\"displacy-tag\" dy=\"2em\" fill=\"currentColor\" x=\"400\">ADJ</tspan>\n",
       "</text>\n",
       "\n",
       "<text class=\"displacy-token\" fill=\"currentColor\" text-anchor=\"middle\" y=\"309.5\">\n",
       "    <tspan class=\"displacy-word\" fill=\"currentColor\" x=\"575\">fox</tspan>\n",
       "    <tspan class=\"displacy-tag\" dy=\"2em\" fill=\"currentColor\" x=\"575\">NOUN</tspan>\n",
       "</text>\n",
       "\n",
       "<text class=\"displacy-token\" fill=\"currentColor\" text-anchor=\"middle\" y=\"309.5\">\n",
       "    <tspan class=\"displacy-word\" fill=\"currentColor\" x=\"750\">jumps</tspan>\n",
       "    <tspan class=\"displacy-tag\" dy=\"2em\" fill=\"currentColor\" x=\"750\">VERB</tspan>\n",
       "</text>\n",
       "\n",
       "<text class=\"displacy-token\" fill=\"currentColor\" text-anchor=\"middle\" y=\"309.5\">\n",
       "    <tspan class=\"displacy-word\" fill=\"currentColor\" x=\"925\">over</tspan>\n",
       "    <tspan class=\"displacy-tag\" dy=\"2em\" fill=\"currentColor\" x=\"925\">ADP</tspan>\n",
       "</text>\n",
       "\n",
       "<text class=\"displacy-token\" fill=\"currentColor\" text-anchor=\"middle\" y=\"309.5\">\n",
       "    <tspan class=\"displacy-word\" fill=\"currentColor\" x=\"1100\">the</tspan>\n",
       "    <tspan class=\"displacy-tag\" dy=\"2em\" fill=\"currentColor\" x=\"1100\">DET</tspan>\n",
       "</text>\n",
       "\n",
       "<text class=\"displacy-token\" fill=\"currentColor\" text-anchor=\"middle\" y=\"309.5\">\n",
       "    <tspan class=\"displacy-word\" fill=\"currentColor\" x=\"1275\">lazy</tspan>\n",
       "    <tspan class=\"displacy-tag\" dy=\"2em\" fill=\"currentColor\" x=\"1275\">ADJ</tspan>\n",
       "</text>\n",
       "\n",
       "<text class=\"displacy-token\" fill=\"currentColor\" text-anchor=\"middle\" y=\"309.5\">\n",
       "    <tspan class=\"displacy-word\" fill=\"currentColor\" x=\"1450\">dog</tspan>\n",
       "    <tspan class=\"displacy-tag\" dy=\"2em\" fill=\"currentColor\" x=\"1450\">NOUN</tspan>\n",
       "</text>\n",
       "\n",
       "<g class=\"displacy-arrow\">\n",
       "    <path class=\"displacy-arc\" id=\"arrow-2fea5b774a2a4219be56514f96c9c96b-0-0\" stroke-width=\"2px\" d=\"M70,264.5 C70,2.0 575.0,2.0 575.0,264.5\" fill=\"none\" stroke=\"currentColor\"/>\n",
       "    <text dy=\"1.25em\" style=\"font-size: 0.8em; letter-spacing: 1px\">\n",
       "        <textPath xlink:href=\"#arrow-2fea5b774a2a4219be56514f96c9c96b-0-0\" class=\"displacy-label\" startOffset=\"50%\" side=\"left\" fill=\"currentColor\" text-anchor=\"middle\">det</textPath>\n",
       "    </text>\n",
       "    <path class=\"displacy-arrowhead\" d=\"M70,266.5 L62,254.5 78,254.5\" fill=\"currentColor\"/>\n",
       "</g>\n",
       "\n",
       "<g class=\"displacy-arrow\">\n",
       "    <path class=\"displacy-arc\" id=\"arrow-2fea5b774a2a4219be56514f96c9c96b-0-1\" stroke-width=\"2px\" d=\"M245,264.5 C245,89.5 570.0,89.5 570.0,264.5\" fill=\"none\" stroke=\"currentColor\"/>\n",
       "    <text dy=\"1.25em\" style=\"font-size: 0.8em; letter-spacing: 1px\">\n",
       "        <textPath xlink:href=\"#arrow-2fea5b774a2a4219be56514f96c9c96b-0-1\" class=\"displacy-label\" startOffset=\"50%\" side=\"left\" fill=\"currentColor\" text-anchor=\"middle\">amod</textPath>\n",
       "    </text>\n",
       "    <path class=\"displacy-arrowhead\" d=\"M245,266.5 L237,254.5 253,254.5\" fill=\"currentColor\"/>\n",
       "</g>\n",
       "\n",
       "<g class=\"displacy-arrow\">\n",
       "    <path class=\"displacy-arc\" id=\"arrow-2fea5b774a2a4219be56514f96c9c96b-0-2\" stroke-width=\"2px\" d=\"M420,264.5 C420,177.0 565.0,177.0 565.0,264.5\" fill=\"none\" stroke=\"currentColor\"/>\n",
       "    <text dy=\"1.25em\" style=\"font-size: 0.8em; letter-spacing: 1px\">\n",
       "        <textPath xlink:href=\"#arrow-2fea5b774a2a4219be56514f96c9c96b-0-2\" class=\"displacy-label\" startOffset=\"50%\" side=\"left\" fill=\"currentColor\" text-anchor=\"middle\">amod</textPath>\n",
       "    </text>\n",
       "    <path class=\"displacy-arrowhead\" d=\"M420,266.5 L412,254.5 428,254.5\" fill=\"currentColor\"/>\n",
       "</g>\n",
       "\n",
       "<g class=\"displacy-arrow\">\n",
       "    <path class=\"displacy-arc\" id=\"arrow-2fea5b774a2a4219be56514f96c9c96b-0-3\" stroke-width=\"2px\" d=\"M595,264.5 C595,177.0 740.0,177.0 740.0,264.5\" fill=\"none\" stroke=\"currentColor\"/>\n",
       "    <text dy=\"1.25em\" style=\"font-size: 0.8em; letter-spacing: 1px\">\n",
       "        <textPath xlink:href=\"#arrow-2fea5b774a2a4219be56514f96c9c96b-0-3\" class=\"displacy-label\" startOffset=\"50%\" side=\"left\" fill=\"currentColor\" text-anchor=\"middle\">nsubj</textPath>\n",
       "    </text>\n",
       "    <path class=\"displacy-arrowhead\" d=\"M595,266.5 L587,254.5 603,254.5\" fill=\"currentColor\"/>\n",
       "</g>\n",
       "\n",
       "<g class=\"displacy-arrow\">\n",
       "    <path class=\"displacy-arc\" id=\"arrow-2fea5b774a2a4219be56514f96c9c96b-0-4\" stroke-width=\"2px\" d=\"M770,264.5 C770,177.0 915.0,177.0 915.0,264.5\" fill=\"none\" stroke=\"currentColor\"/>\n",
       "    <text dy=\"1.25em\" style=\"font-size: 0.8em; letter-spacing: 1px\">\n",
       "        <textPath xlink:href=\"#arrow-2fea5b774a2a4219be56514f96c9c96b-0-4\" class=\"displacy-label\" startOffset=\"50%\" side=\"left\" fill=\"currentColor\" text-anchor=\"middle\">prep</textPath>\n",
       "    </text>\n",
       "    <path class=\"displacy-arrowhead\" d=\"M915.0,266.5 L923.0,254.5 907.0,254.5\" fill=\"currentColor\"/>\n",
       "</g>\n",
       "\n",
       "<g class=\"displacy-arrow\">\n",
       "    <path class=\"displacy-arc\" id=\"arrow-2fea5b774a2a4219be56514f96c9c96b-0-5\" stroke-width=\"2px\" d=\"M1120,264.5 C1120,89.5 1445.0,89.5 1445.0,264.5\" fill=\"none\" stroke=\"currentColor\"/>\n",
       "    <text dy=\"1.25em\" style=\"font-size: 0.8em; letter-spacing: 1px\">\n",
       "        <textPath xlink:href=\"#arrow-2fea5b774a2a4219be56514f96c9c96b-0-5\" class=\"displacy-label\" startOffset=\"50%\" side=\"left\" fill=\"currentColor\" text-anchor=\"middle\">det</textPath>\n",
       "    </text>\n",
       "    <path class=\"displacy-arrowhead\" d=\"M1120,266.5 L1112,254.5 1128,254.5\" fill=\"currentColor\"/>\n",
       "</g>\n",
       "\n",
       "<g class=\"displacy-arrow\">\n",
       "    <path class=\"displacy-arc\" id=\"arrow-2fea5b774a2a4219be56514f96c9c96b-0-6\" stroke-width=\"2px\" d=\"M1295,264.5 C1295,177.0 1440.0,177.0 1440.0,264.5\" fill=\"none\" stroke=\"currentColor\"/>\n",
       "    <text dy=\"1.25em\" style=\"font-size: 0.8em; letter-spacing: 1px\">\n",
       "        <textPath xlink:href=\"#arrow-2fea5b774a2a4219be56514f96c9c96b-0-6\" class=\"displacy-label\" startOffset=\"50%\" side=\"left\" fill=\"currentColor\" text-anchor=\"middle\">amod</textPath>\n",
       "    </text>\n",
       "    <path class=\"displacy-arrowhead\" d=\"M1295,266.5 L1287,254.5 1303,254.5\" fill=\"currentColor\"/>\n",
       "</g>\n",
       "\n",
       "<g class=\"displacy-arrow\">\n",
       "    <path class=\"displacy-arc\" id=\"arrow-2fea5b774a2a4219be56514f96c9c96b-0-7\" stroke-width=\"2px\" d=\"M945,264.5 C945,2.0 1450.0,2.0 1450.0,264.5\" fill=\"none\" stroke=\"currentColor\"/>\n",
       "    <text dy=\"1.25em\" style=\"font-size: 0.8em; letter-spacing: 1px\">\n",
       "        <textPath xlink:href=\"#arrow-2fea5b774a2a4219be56514f96c9c96b-0-7\" class=\"displacy-label\" startOffset=\"50%\" side=\"left\" fill=\"currentColor\" text-anchor=\"middle\">pobj</textPath>\n",
       "    </text>\n",
       "    <path class=\"displacy-arrowhead\" d=\"M1450.0,266.5 L1458.0,254.5 1442.0,254.5\" fill=\"currentColor\"/>\n",
       "</g>\n",
       "</svg>"
      ],
      "text/plain": [
       "<IPython.core.display.HTML object>"
      ]
     },
     "metadata": {},
     "output_type": "display_data"
    }
   ],
   "source": [
    "html = displacy.render(doc, style='dep', jupyter=False)\n",
    "display(HTML(html))"
   ]
  },
  {
   "cell_type": "markdown",
   "id": "8f04897c",
   "metadata": {},
   "source": [
    "Here's the explanation for each token:\n",
    "\n",
    "1. **The** (`det`)\n",
    "- Dependency: Determiner\n",
    "- Head: 'fox'\n",
    "- Role: Specifies which fox ('the' fox)\n",
    "\n",
    "2. **quick** (`amod`)\n",
    "- Dependency: Adjectival modifier\n",
    "- Head: 'fox'\n",
    "- Role: Describes the fox's quality\n",
    "\n",
    "3. **brown** (`amod`)\n",
    "- Dependency: Adjectival modifier\n",
    "- Head: 'fox'\n",
    "- Role: Adds another quality to the fox\n",
    "\n",
    "4. **fox** (`nsubj`)\n",
    "- Dependency: Nominal subject\n",
    "- Head: 'jumps'\n",
    "- Role: Performer of the jumping action\n",
    "\n",
    "5. **jumps** (`ROOT`)\n",
    "- Dependency: Root verb\n",
    "- Head: Self-referential (root)\n",
    "- Role: Main action of the sentence\n",
    "\n",
    "6. **over** (`prep`)\n",
    "- Dependency: Prepositional modifier\n",
    "- Head: `jumps'\n",
    "- Role: Indicates direction/position of the jump\n",
    "\n",
    "7. **the** (`det`)\n",
    "- Dependency: Determiner\n",
    "- Head: 'dog'\n",
    "- Role: Specifies which dog ('the' dog)\n",
    "\n",
    "8. **lazy** (`amod`)\n",
    "- Dependency: Adjectival modifier\n",
    "- Head: 'dog'\n",
    "- Role: Describes the dog's characteristic\n",
    "\n",
    "9. **dog** (`pobj`)\n",
    "- Dependency: Prepositional object\n",
    "- Head: 'over'\n",
    "- Role: Target of the preposition 'over'\n",
    "\n",
    "Key relationships for these tokens are:\n",
    "- **Core Action**: fox (`nsubj`) -> jumps (`ROOT`)\n",
    "- **Prepositional Phrase**: jumps -> over -> dog\n",
    "- **Noun Phrase Modifiers**:\n",
    "    - fox <- The (`det`)\n",
    "    - fox <- quick (`amod`)\n",
    "    - fox <- brown (`amod`)\n",
    "    - dog <- the (`det`)\n",
    "    - dog <- lazy (`amod`)"
   ]
  }
 ],
 "metadata": {
  "kernelspec": {
   "display_name": ".venv",
   "language": "python",
   "name": "python3"
  },
  "language_info": {
   "codemirror_mode": {
    "name": "ipython",
    "version": 3
   },
   "file_extension": ".py",
   "mimetype": "text/x-python",
   "name": "python",
   "nbconvert_exporter": "python",
   "pygments_lexer": "ipython3",
   "version": "3.13.3"
  }
 },
 "nbformat": 4,
 "nbformat_minor": 5
}
