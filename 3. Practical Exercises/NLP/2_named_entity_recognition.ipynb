{
 "cells": [
  {
   "cell_type": "markdown",
   "id": "856e33a4",
   "metadata": {},
   "source": [
    "# Named Entity Recognition (NER)\n",
    "***\n",
    "## Table of Contents\n",
    "1. [Introduction](#1-introduction)\n",
    "    - [Types of NER](#types-of-ner)\n",
    "    - [Common Steps](#common-steps)\n",
    "2. [NER with NLTK](#2-ner-with-nltk)\n",
    "3. [NER with spaCy](#3-ner-with-spacy)\n",
    "4. [NER with Hugging Face Transformers](#4-ner-with-hugging-face-transformers)\n",
    "***"
   ]
  },
  {
   "cell_type": "markdown",
   "id": "9fcd597c",
   "metadata": {},
   "source": [
    "## 1. Introduction\n",
    "Named Entity Recognition (NER) is a key task in Natural Language Processing (NLP) that involves identifying and classifying entities within unstructured text into predefined categories such as names, organisations, location, dates, monetary values, and more. For example, in the sentence:\n",
    "\n",
    "> Apple Inc. is planning to open a new office in San Francisco in March 2025.\n",
    "\n",
    "NER should recognise 'Apple Inc.' as an organisation, 'San Francisco' as a location, and 'March 2025' as a date.\n",
    "\n",
    "NER is foundational for applications such as information extraction, search engines, document classification, chatbots, etc. It converts raw, unstructured text into structured data, making it easier for machines to understand, search, and analyse data in a natural language.\n",
    "\n",
    "### Types of NER\n",
    "NER Models can be:\n",
    "- **Rule-based**: Use hand-crafted patterns and dictionaries.\n",
    "- **Machine Learning-based**: Use algorithms like Conditional Random Fields (CRFs).\n",
    "- **Deep Learning-based**: Use neural network based models (BiLSTM-CRF, BERT, etc.).\n",
    "\n",
    "### Common Steps\n",
    "1. Text Input\n",
    "    - Raw text is provided as input.\n",
    "2. Text Preprocessing\n",
    "    - Tokenisation\n",
    "    - POS Tagging\n",
    "3. Feature Extraction\n",
    "    - Extracting features such as capitalisation, context, and known entity lists.\n",
    "4. Model Application\n",
    "    - Applying a trained model to classify tokens.\n",
    "5. Entity Classification\n",
    "    - Assigning labels to detected entities.\n",
    "6. Post-Prorcessing\n",
    "    - Refining results, handling ambiguities or nested entities.\n",
    "7. Output Generation\n",
    "    - Producing annotated or structured output."
   ]
  },
  {
   "cell_type": "markdown",
   "id": "7d911be2",
   "metadata": {},
   "source": [
    "## 2. NER with NLTK\n",
    "Natural Language Toolkit (NLTK) library provides a rule-based and statistical model for NER.\n",
    "\n",
    "`nltk.sent_tokenize` -> Splits text into individual sentence.\n",
    "\n",
    "`nltk.word_tokenize` -> Splits text into individual word.\n",
    "\n",
    "`nltk.pos_tag` -> Assigns a part-of-speech (POS) tag to each token.\n",
    "\n",
    "`nltk.ne_chunk` -> Performs named entitiy recognition (NER) by grouping tokens into 'chunks' that represent entities.\n",
    "\n",
    "| POS Tag | Meaning                                   |\n",
    "|---------|-------------------------------------------|\n",
    "| CC      | Coordinating conjunction                  |\n",
    "| CD      | Cardinal number                           |\n",
    "| DT      | Determiner                                |\n",
    "| EX      | Existential there                         |\n",
    "| FW      | Foreign word                              |\n",
    "| IN      | Preposition or subordinating conjunction  |\n",
    "| JJ      | Adjective                                 |\n",
    "| JJR     | Adjective, comparative                    |\n",
    "| JJS     | Adjective, superlative                    |\n",
    "| LS      | List item marker                          |\n",
    "| MD      | Modal                                     |\n",
    "| NN      | Noun, singular or mass                    |\n",
    "| NNS     | Noun, plural                              |\n",
    "| NNP     | Proper noun, singular                     |\n",
    "| NNPS    | Proper noun, plural                       |\n",
    "| PDT     | Predeterminer                             |\n",
    "| POS     | Possessive ending                         |\n",
    "| PRP     | Personal pronoun                          |\n",
    "| PRP$    | Possessive pronoun                        |\n",
    "| RB      | Adverb                                    |\n",
    "| RBR     | Adverb, comparative                       |\n",
    "| RBS     | Adverb, superlative                       |\n",
    "| RP      | Particle                                  |\n",
    "| SYM     | Symbol                                    |\n",
    "| TO      | to                                        |\n",
    "| UH      | Interjection                              |\n",
    "| VB      | Verb, base form                           |\n",
    "| VBD     | Verb, past tense                          |\n",
    "| VBG     | Verb, gerund or present participle        |\n",
    "| VBN     | Verb, past participle                     |\n",
    "| VBP     | Verb, non-3rd person singular present     |\n",
    "| VBZ     | Verb, 3rd person singular present         |\n",
    "| WDT     | Wh-determiner                             |\n",
    "| WP      | Wh-pronoun                                |\n",
    "| WP$     | Possessive wh-pronoun                     |\n",
    "| WRB     | Wh-adverb                                 |\n",
    "\n",
    "\n"
   ]
  },
  {
   "cell_type": "code",
   "execution_count": null,
   "id": "d7ff1bd5",
   "metadata": {},
   "outputs": [
    {
     "name": "stderr",
     "output_type": "stream",
     "text": [
      "[nltk_data] Downloading package punkt to /Users/tsu76i/nltk_data...\n",
      "[nltk_data]   Package punkt is already up-to-date!\n",
      "[nltk_data] Downloading package averaged_perceptron_tagger to\n",
      "[nltk_data]     /Users/tsu76i/nltk_data...\n",
      "[nltk_data]   Package averaged_perceptron_tagger is already up-to-\n",
      "[nltk_data]       date!\n",
      "[nltk_data] Downloading package maxent_ne_chunker_tab to\n",
      "[nltk_data]     /Users/tsu76i/nltk_data...\n",
      "[nltk_data]   Package maxent_ne_chunker_tab is already up-to-date!\n",
      "[nltk_data] Downloading package words to /Users/tsu76i/nltk_data...\n",
      "[nltk_data]   Package words is already up-to-date!\n"
     ]
    },
    {
     "data": {
      "text/plain": [
       "True"
      ]
     },
     "execution_count": 2,
     "metadata": {},
     "output_type": "execute_result"
    }
   ],
   "source": [
    "import nltk\n",
    "nltk.download('punkt')\n",
    "nltk.download('averaged_perceptron_tagger')\n",
    "nltk.download('maxent_ne_chunker_tab')\n",
    "nltk.download('words')"
   ]
  },
  {
   "cell_type": "code",
   "execution_count": null,
   "id": "6da690b4",
   "metadata": {},
   "outputs": [],
   "source": [
    "sentence = \"WASHINGTON -- In the wake of a string of abuses by New York police officers in the 1990s, \\\n",
    "    Loretta E. Lynch, the top federal prosecutor in Brooklyn, spoke forcefully about the pain of a broken trust that African-Americans \\\n",
    "        felt and said the responsibility for repairing generations of miscommunication and mistrust fell to law enforcement.\""
   ]
  },
  {
   "cell_type": "code",
   "execution_count": null,
   "id": "7bfd3f9e",
   "metadata": {},
   "outputs": [
    {
     "name": "stdout",
     "output_type": "stream",
     "text": [
      "GPE: WASHINGTON\n",
      "GPE: New York\n",
      "PERSON: Loretta E. Lynch\n",
      "GPE: Brooklyn\n"
     ]
    }
   ],
   "source": [
    "# 1. Tokenise in sentence.\n",
    "# 2. Tokenise in word.\n",
    "# 3. Assign POS tags.\n",
    "# 4. Group tokens into 'chunks'.\n",
    "# 5. Perform NER if the chunk has the attribute 'label' (PERSON, GPE, etc.).\n",
    "\n",
    "for sent in nltk.sent_tokenize(sentence):\n",
    "    for chunk in nltk.ne_chunk(nltk.pos_tag(nltk.word_tokenize(sent))):\n",
    "        if hasattr(chunk, 'label'):\n",
    "            print(f\"{chunk.label()}: {' '.join(c[0] for c in chunk)}\")"
   ]
  },
  {
   "cell_type": "markdown",
   "id": "7943d09f",
   "metadata": {},
   "source": [
    "## 3. NER with spaCy\n",
    "`spaCy` library has a pre-trained deep leaning based model for NER.\n",
    "\n",
    "> `sm`/`md`/`lg` refer to the sizes of the models (small, medium, large respectively).\n",
    "[Reference](https://stackoverflow.com/questions/50487495/what-is-difference-between-en-core-web-sm-en-core-web-mdand-en-core-web-lg-mod)"
   ]
  },
  {
   "cell_type": "code",
   "execution_count": null,
   "id": "6096e165",
   "metadata": {},
   "outputs": [],
   "source": [
    "import spacy\n",
    "from spacy import displacy\n",
    "from IPython.display import display, HTML"
   ]
  },
  {
   "cell_type": "code",
   "execution_count": null,
   "id": "6d6f316d",
   "metadata": {},
   "outputs": [
    {
     "name": "stdout",
     "output_type": "stream",
     "text": [
      "DATE: September 14, 2023\n",
      "PERSON: Elon Musk\n",
      "GPE: Berlin\n",
      "ORG: Tesla\n",
      "MONEY: over $5 billion\n",
      "GPE: Paris\n",
      "GPE: France\n",
      "NORP: French\n",
      "PERSON: Emmanuel Macron\n",
      "ORG: the European Union\n",
      "ORG: Volkswagen\n",
      "ORG: BMW\n"
     ]
    }
   ],
   "source": [
    "# Load spaCy's pre-trained English NER model.\n",
    "# 1. uv install pip\n",
    "# 2. uv run spacy download en_core_web_sm\n",
    "nlp = spacy.load('en_core_web_sm')\n",
    "\n",
    "text = \"On September 14, 2023, Elon Musk announced at a press conference in Berlin that Tesla would be investing over $5 billion to build a new Gigafactory in the outskirts of Paris, France. The event was attended by French President Emmanuel Macron, \\\n",
    "    representatives from the European Union, and executives from several major automotive companies, including Volkswagen and BMW.\"\n",
    "\n",
    "doc = nlp(text)\n",
    "\n",
    "for ent in doc.ents:\n",
    "    print(f'{ent.label_}: {ent.text}')"
   ]
  },
  {
   "cell_type": "code",
   "execution_count": null,
   "id": "b0b8b167",
   "metadata": {},
   "outputs": [
    {
     "data": {
      "text/html": [
       "<div class=\"entities\" style=\"line-height: 2.5; direction: ltr\">On \n",
       "<mark class=\"entity\" style=\"background: #bfe1d9; padding: 0.45em 0.6em; margin: 0 0.25em; line-height: 1; border-radius: 0.35em;\">\n",
       "    September 14, 2023\n",
       "    <span style=\"font-size: 0.8em; font-weight: bold; line-height: 1; border-radius: 0.35em; vertical-align: middle; margin-left: 0.5rem\">DATE</span>\n",
       "</mark>\n",
       ", \n",
       "<mark class=\"entity\" style=\"background: #aa9cfc; padding: 0.45em 0.6em; margin: 0 0.25em; line-height: 1; border-radius: 0.35em;\">\n",
       "    Elon Musk\n",
       "    <span style=\"font-size: 0.8em; font-weight: bold; line-height: 1; border-radius: 0.35em; vertical-align: middle; margin-left: 0.5rem\">PERSON</span>\n",
       "</mark>\n",
       " announced at a press conference in \n",
       "<mark class=\"entity\" style=\"background: #feca74; padding: 0.45em 0.6em; margin: 0 0.25em; line-height: 1; border-radius: 0.35em;\">\n",
       "    Berlin\n",
       "    <span style=\"font-size: 0.8em; font-weight: bold; line-height: 1; border-radius: 0.35em; vertical-align: middle; margin-left: 0.5rem\">GPE</span>\n",
       "</mark>\n",
       " that \n",
       "<mark class=\"entity\" style=\"background: #7aecec; padding: 0.45em 0.6em; margin: 0 0.25em; line-height: 1; border-radius: 0.35em;\">\n",
       "    Tesla\n",
       "    <span style=\"font-size: 0.8em; font-weight: bold; line-height: 1; border-radius: 0.35em; vertical-align: middle; margin-left: 0.5rem\">ORG</span>\n",
       "</mark>\n",
       " would be investing \n",
       "<mark class=\"entity\" style=\"background: #e4e7d2; padding: 0.45em 0.6em; margin: 0 0.25em; line-height: 1; border-radius: 0.35em;\">\n",
       "    over $5 billion\n",
       "    <span style=\"font-size: 0.8em; font-weight: bold; line-height: 1; border-radius: 0.35em; vertical-align: middle; margin-left: 0.5rem\">MONEY</span>\n",
       "</mark>\n",
       " to build a new Gigafactory in the outskirts of \n",
       "<mark class=\"entity\" style=\"background: #feca74; padding: 0.45em 0.6em; margin: 0 0.25em; line-height: 1; border-radius: 0.35em;\">\n",
       "    Paris\n",
       "    <span style=\"font-size: 0.8em; font-weight: bold; line-height: 1; border-radius: 0.35em; vertical-align: middle; margin-left: 0.5rem\">GPE</span>\n",
       "</mark>\n",
       ", \n",
       "<mark class=\"entity\" style=\"background: #feca74; padding: 0.45em 0.6em; margin: 0 0.25em; line-height: 1; border-radius: 0.35em;\">\n",
       "    France\n",
       "    <span style=\"font-size: 0.8em; font-weight: bold; line-height: 1; border-radius: 0.35em; vertical-align: middle; margin-left: 0.5rem\">GPE</span>\n",
       "</mark>\n",
       ". The event was attended by \n",
       "<mark class=\"entity\" style=\"background: #c887fb; padding: 0.45em 0.6em; margin: 0 0.25em; line-height: 1; border-radius: 0.35em;\">\n",
       "    French\n",
       "    <span style=\"font-size: 0.8em; font-weight: bold; line-height: 1; border-radius: 0.35em; vertical-align: middle; margin-left: 0.5rem\">NORP</span>\n",
       "</mark>\n",
       " President \n",
       "<mark class=\"entity\" style=\"background: #aa9cfc; padding: 0.45em 0.6em; margin: 0 0.25em; line-height: 1; border-radius: 0.35em;\">\n",
       "    Emmanuel Macron\n",
       "    <span style=\"font-size: 0.8em; font-weight: bold; line-height: 1; border-radius: 0.35em; vertical-align: middle; margin-left: 0.5rem\">PERSON</span>\n",
       "</mark>\n",
       ",     representatives from \n",
       "<mark class=\"entity\" style=\"background: #7aecec; padding: 0.45em 0.6em; margin: 0 0.25em; line-height: 1; border-radius: 0.35em;\">\n",
       "    the European Union\n",
       "    <span style=\"font-size: 0.8em; font-weight: bold; line-height: 1; border-radius: 0.35em; vertical-align: middle; margin-left: 0.5rem\">ORG</span>\n",
       "</mark>\n",
       ", and executives from several major automotive companies, including \n",
       "<mark class=\"entity\" style=\"background: #7aecec; padding: 0.45em 0.6em; margin: 0 0.25em; line-height: 1; border-radius: 0.35em;\">\n",
       "    Volkswagen\n",
       "    <span style=\"font-size: 0.8em; font-weight: bold; line-height: 1; border-radius: 0.35em; vertical-align: middle; margin-left: 0.5rem\">ORG</span>\n",
       "</mark>\n",
       " and \n",
       "<mark class=\"entity\" style=\"background: #7aecec; padding: 0.45em 0.6em; margin: 0 0.25em; line-height: 1; border-radius: 0.35em;\">\n",
       "    BMW\n",
       "    <span style=\"font-size: 0.8em; font-weight: bold; line-height: 1; border-radius: 0.35em; vertical-align: middle; margin-left: 0.5rem\">ORG</span>\n",
       "</mark>\n",
       ".</div>"
      ],
      "text/plain": [
       "<IPython.core.display.HTML object>"
      ]
     },
     "metadata": {},
     "output_type": "display_data"
    }
   ],
   "source": [
    "# Render displaCy visualisation as HTML\n",
    "html = displacy.render(doc, style='ent', jupyter=False)\n",
    "# Display the HTML in Jupyter\n",
    "display(HTML(html))"
   ]
  },
  {
   "cell_type": "markdown",
   "id": "a7d24635",
   "metadata": {},
   "source": [
    "## 4. NER with Hugging Face Transformers\n",
    "Hugging Face Transformers provides advanced NER capabilities using transformer-based models such as BERT, which achieves state-of-the-art accuracy through deep contextual understanding."
   ]
  },
  {
   "cell_type": "code",
   "execution_count": null,
   "id": "a8132dd6",
   "metadata": {},
   "outputs": [],
   "source": [
    "from transformers import pipeline"
   ]
  },
  {
   "cell_type": "code",
   "execution_count": null,
   "id": "9be32cc2",
   "metadata": {},
   "outputs": [
    {
     "name": "stderr",
     "output_type": "stream",
     "text": [
      "Some weights of the model checkpoint at dbmdz/bert-large-cased-finetuned-conll03-english were not used when initializing BertForTokenClassification: ['bert.pooler.dense.bias', 'bert.pooler.dense.weight']\n",
      "- This IS expected if you are initializing BertForTokenClassification from the checkpoint of a model trained on another task or with another architecture (e.g. initializing a BertForSequenceClassification model from a BertForPreTraining model).\n",
      "- This IS NOT expected if you are initializing BertForTokenClassification from the checkpoint of a model that you expect to be exactly identical (initializing a BertForSequenceClassification model from a BertForSequenceClassification model).\n",
      "Device set to use mps:0\n"
     ]
    }
   ],
   "source": [
    "# Load pre-trained NER model with entity aggregation\n",
    "ner = pipeline(\n",
    "    task='ner',\n",
    "    model='dbmdz/bert-large-cased-finetuned-conll03-english',\n",
    "    aggregation_strategy = 'simple'\n",
    ")"
   ]
  },
  {
   "cell_type": "code",
   "execution_count": null,
   "id": "d1745b4d",
   "metadata": {},
   "outputs": [
    {
     "name": "stdout",
     "output_type": "stream",
     "text": [
      "Entity                         Type            Confidence\n",
      "------------------------------------------------------------\n",
      "CES                            MISC            0.9805\n",
      "Las Vegas                      LOC             0.9983\n",
      "NVIDIA                         ORG             0.9974\n",
      "Jensen Huang                   PER             0.9996\n",
      "Siemens AG                     ORG             0.9994\n",
      "AI                             MISC            0.9774\n",
      "Europe                         LOC             0.9998\n",
      "Munich                         LOC             0.9993\n",
      "Germany                        LOC             0.9998\n",
      "Zurich                         LOC             0.9995\n",
      "Switzerland                    LOC             0.9999\n",
      "Barcelona                      LOC             0.9995\n",
      "Spain                          LOC             0.9999\n",
      "Huang                          PER             0.9994\n",
      "Siemens                        ORG             0.9991\n",
      "Roland Busch                   PER             0.9997\n",
      "European Commission            ORG             0.9971\n",
      "Ursula von der Leyen           PER             0.9672\n",
      "5. 0                           MISC            0.8064\n",
      "Paris Climate Accord           MISC            0.9972\n",
      "Maria Schmidt                  PER             0.9997\n",
      "NVIDIA                         ORG             0.9960\n",
      "Berlin                         LOC             0.8054\n",
      "R & D Center                   ORG             0.9593\n",
      "Luca Bianchi                   PER             0.9910\n",
      "Politecnico di Milano          ORG             0.9393\n"
     ]
    }
   ],
   "source": [
    "text = \"\"\"In a landmark announcement at CES 2026 in Las Vegas, NVIDIA CEO Jensen Huang revealed a $500 million partnership with Siemens AG to build AI-powered smart factories across Europe. \n",
    "The collaboration will establish three flagship facilities in Munich (Germany), Zurich (Switzerland), and Barcelona (Spain), with construction beginning Q2 2027. \n",
    "Accompanying Huang were Siemens CEO Roland Busch and European Commission President Ursula von der Leyen, who called it \"a pivotal moment for Industry 5.0\".\n",
    "The initiative aims to create 15,000 jobs while reducing industrial carbon emissions by 45% by 2030, aligning with the Paris Climate Accord. \n",
    "Technical development will be led by Dr. Maria Schmidt from NVIDIA's Berlin R&D Center and Prof. Luca Bianchi of Politecnico di Milano.\"\"\"\n",
    "\n",
    "# Process text with detailed output\n",
    "results = ner(text)\n",
    "\n",
    "# Display results\n",
    "print('{:<30} {:<15} {:10}'.format('Entity', 'Type', 'Confidence'))\n",
    "print('-' * 60)\n",
    "for entity in results:\n",
    "    print(f'{entity['word']:<30} {entity['entity_group']:<15} {entity['score']:.4f}')"
   ]
  },
  {
   "cell_type": "code",
   "execution_count": null,
   "id": "3de38f0b",
   "metadata": {},
   "outputs": [
    {
     "data": {
      "text/html": [
       "<div class=\"entities\" style=\"line-height: 2.5; direction: ltr\">In a landmark announcement at \n",
       "<mark class=\"entity\" style=\"background: #ddd; padding: 0.45em 0.6em; margin: 0 0.25em; line-height: 1; border-radius: 0.35em;\">\n",
       "    CES\n",
       "    <span style=\"font-size: 0.8em; font-weight: bold; line-height: 1; border-radius: 0.35em; vertical-align: middle; margin-left: 0.5rem\">MISC</span>\n",
       "</mark>\n",
       " 2026 in \n",
       "<mark class=\"entity\" style=\"background: #ff9561; padding: 0.45em 0.6em; margin: 0 0.25em; line-height: 1; border-radius: 0.35em;\">\n",
       "    Las Vegas\n",
       "    <span style=\"font-size: 0.8em; font-weight: bold; line-height: 1; border-radius: 0.35em; vertical-align: middle; margin-left: 0.5rem\">LOC</span>\n",
       "</mark>\n",
       ", \n",
       "<mark class=\"entity\" style=\"background: #7aecec; padding: 0.45em 0.6em; margin: 0 0.25em; line-height: 1; border-radius: 0.35em;\">\n",
       "    NVIDIA\n",
       "    <span style=\"font-size: 0.8em; font-weight: bold; line-height: 1; border-radius: 0.35em; vertical-align: middle; margin-left: 0.5rem\">ORG</span>\n",
       "</mark>\n",
       " CEO \n",
       "<mark class=\"entity\" style=\"background: #ddd; padding: 0.45em 0.6em; margin: 0 0.25em; line-height: 1; border-radius: 0.35em;\">\n",
       "    Jensen Huang\n",
       "    <span style=\"font-size: 0.8em; font-weight: bold; line-height: 1; border-radius: 0.35em; vertical-align: middle; margin-left: 0.5rem\">PER</span>\n",
       "</mark>\n",
       " revealed a $500 million partnership with \n",
       "<mark class=\"entity\" style=\"background: #7aecec; padding: 0.45em 0.6em; margin: 0 0.25em; line-height: 1; border-radius: 0.35em;\">\n",
       "    Siemens AG\n",
       "    <span style=\"font-size: 0.8em; font-weight: bold; line-height: 1; border-radius: 0.35em; vertical-align: middle; margin-left: 0.5rem\">ORG</span>\n",
       "</mark>\n",
       " to build \n",
       "<mark class=\"entity\" style=\"background: #ddd; padding: 0.45em 0.6em; margin: 0 0.25em; line-height: 1; border-radius: 0.35em;\">\n",
       "    AI\n",
       "    <span style=\"font-size: 0.8em; font-weight: bold; line-height: 1; border-radius: 0.35em; vertical-align: middle; margin-left: 0.5rem\">MISC</span>\n",
       "</mark>\n",
       "-powered smart factories across \n",
       "<mark class=\"entity\" style=\"background: #ff9561; padding: 0.45em 0.6em; margin: 0 0.25em; line-height: 1; border-radius: 0.35em;\">\n",
       "    Europe\n",
       "    <span style=\"font-size: 0.8em; font-weight: bold; line-height: 1; border-radius: 0.35em; vertical-align: middle; margin-left: 0.5rem\">LOC</span>\n",
       "</mark>\n",
       ". <br>The collaboration will establish three flagship facilities in \n",
       "<mark class=\"entity\" style=\"background: #ff9561; padding: 0.45em 0.6em; margin: 0 0.25em; line-height: 1; border-radius: 0.35em;\">\n",
       "    Munich\n",
       "    <span style=\"font-size: 0.8em; font-weight: bold; line-height: 1; border-radius: 0.35em; vertical-align: middle; margin-left: 0.5rem\">LOC</span>\n",
       "</mark>\n",
       " (\n",
       "<mark class=\"entity\" style=\"background: #ff9561; padding: 0.45em 0.6em; margin: 0 0.25em; line-height: 1; border-radius: 0.35em;\">\n",
       "    Germany\n",
       "    <span style=\"font-size: 0.8em; font-weight: bold; line-height: 1; border-radius: 0.35em; vertical-align: middle; margin-left: 0.5rem\">LOC</span>\n",
       "</mark>\n",
       "), \n",
       "<mark class=\"entity\" style=\"background: #ff9561; padding: 0.45em 0.6em; margin: 0 0.25em; line-height: 1; border-radius: 0.35em;\">\n",
       "    Zurich\n",
       "    <span style=\"font-size: 0.8em; font-weight: bold; line-height: 1; border-radius: 0.35em; vertical-align: middle; margin-left: 0.5rem\">LOC</span>\n",
       "</mark>\n",
       " (\n",
       "<mark class=\"entity\" style=\"background: #ff9561; padding: 0.45em 0.6em; margin: 0 0.25em; line-height: 1; border-radius: 0.35em;\">\n",
       "    Switzerland\n",
       "    <span style=\"font-size: 0.8em; font-weight: bold; line-height: 1; border-radius: 0.35em; vertical-align: middle; margin-left: 0.5rem\">LOC</span>\n",
       "</mark>\n",
       "), and \n",
       "<mark class=\"entity\" style=\"background: #ff9561; padding: 0.45em 0.6em; margin: 0 0.25em; line-height: 1; border-radius: 0.35em;\">\n",
       "    Barcelona\n",
       "    <span style=\"font-size: 0.8em; font-weight: bold; line-height: 1; border-radius: 0.35em; vertical-align: middle; margin-left: 0.5rem\">LOC</span>\n",
       "</mark>\n",
       " (\n",
       "<mark class=\"entity\" style=\"background: #ff9561; padding: 0.45em 0.6em; margin: 0 0.25em; line-height: 1; border-radius: 0.35em;\">\n",
       "    Spain\n",
       "    <span style=\"font-size: 0.8em; font-weight: bold; line-height: 1; border-radius: 0.35em; vertical-align: middle; margin-left: 0.5rem\">LOC</span>\n",
       "</mark>\n",
       "), with construction beginning Q2 2027. <br>Accompanying \n",
       "<mark class=\"entity\" style=\"background: #ddd; padding: 0.45em 0.6em; margin: 0 0.25em; line-height: 1; border-radius: 0.35em;\">\n",
       "    Huang\n",
       "    <span style=\"font-size: 0.8em; font-weight: bold; line-height: 1; border-radius: 0.35em; vertical-align: middle; margin-left: 0.5rem\">PER</span>\n",
       "</mark>\n",
       " were \n",
       "<mark class=\"entity\" style=\"background: #7aecec; padding: 0.45em 0.6em; margin: 0 0.25em; line-height: 1; border-radius: 0.35em;\">\n",
       "    Siemens\n",
       "    <span style=\"font-size: 0.8em; font-weight: bold; line-height: 1; border-radius: 0.35em; vertical-align: middle; margin-left: 0.5rem\">ORG</span>\n",
       "</mark>\n",
       " CEO \n",
       "<mark class=\"entity\" style=\"background: #ddd; padding: 0.45em 0.6em; margin: 0 0.25em; line-height: 1; border-radius: 0.35em;\">\n",
       "    Roland Busch\n",
       "    <span style=\"font-size: 0.8em; font-weight: bold; line-height: 1; border-radius: 0.35em; vertical-align: middle; margin-left: 0.5rem\">PER</span>\n",
       "</mark>\n",
       " and \n",
       "<mark class=\"entity\" style=\"background: #7aecec; padding: 0.45em 0.6em; margin: 0 0.25em; line-height: 1; border-radius: 0.35em;\">\n",
       "    European Commission\n",
       "    <span style=\"font-size: 0.8em; font-weight: bold; line-height: 1; border-radius: 0.35em; vertical-align: middle; margin-left: 0.5rem\">ORG</span>\n",
       "</mark>\n",
       " President \n",
       "<mark class=\"entity\" style=\"background: #ddd; padding: 0.45em 0.6em; margin: 0 0.25em; line-height: 1; border-radius: 0.35em;\">\n",
       "    Ursula von der Leyen\n",
       "    <span style=\"font-size: 0.8em; font-weight: bold; line-height: 1; border-radius: 0.35em; vertical-align: middle; margin-left: 0.5rem\">PER</span>\n",
       "</mark>\n",
       ", who called it &quot;a pivotal moment for Industry \n",
       "<mark class=\"entity\" style=\"background: #ddd; padding: 0.45em 0.6em; margin: 0 0.25em; line-height: 1; border-radius: 0.35em;\">\n",
       "    5.0\n",
       "    <span style=\"font-size: 0.8em; font-weight: bold; line-height: 1; border-radius: 0.35em; vertical-align: middle; margin-left: 0.5rem\">MISC</span>\n",
       "</mark>\n",
       "&quot;.<br>The initiative aims to create 15,000 jobs while reducing industrial carbon emissions by 45% by 2030, aligning with the \n",
       "<mark class=\"entity\" style=\"background: #ddd; padding: 0.45em 0.6em; margin: 0 0.25em; line-height: 1; border-radius: 0.35em;\">\n",
       "    Paris Climate Accord\n",
       "    <span style=\"font-size: 0.8em; font-weight: bold; line-height: 1; border-radius: 0.35em; vertical-align: middle; margin-left: 0.5rem\">MISC</span>\n",
       "</mark>\n",
       ". <br>Technical development will be led by Dr. \n",
       "<mark class=\"entity\" style=\"background: #ddd; padding: 0.45em 0.6em; margin: 0 0.25em; line-height: 1; border-radius: 0.35em;\">\n",
       "    Maria Schmidt\n",
       "    <span style=\"font-size: 0.8em; font-weight: bold; line-height: 1; border-radius: 0.35em; vertical-align: middle; margin-left: 0.5rem\">PER</span>\n",
       "</mark>\n",
       " from \n",
       "<mark class=\"entity\" style=\"background: #7aecec; padding: 0.45em 0.6em; margin: 0 0.25em; line-height: 1; border-radius: 0.35em;\">\n",
       "    NVIDIA\n",
       "    <span style=\"font-size: 0.8em; font-weight: bold; line-height: 1; border-radius: 0.35em; vertical-align: middle; margin-left: 0.5rem\">ORG</span>\n",
       "</mark>\n",
       "'s \n",
       "<mark class=\"entity\" style=\"background: #ff9561; padding: 0.45em 0.6em; margin: 0 0.25em; line-height: 1; border-radius: 0.35em;\">\n",
       "    Berlin\n",
       "    <span style=\"font-size: 0.8em; font-weight: bold; line-height: 1; border-radius: 0.35em; vertical-align: middle; margin-left: 0.5rem\">LOC</span>\n",
       "</mark>\n",
       " \n",
       "<mark class=\"entity\" style=\"background: #7aecec; padding: 0.45em 0.6em; margin: 0 0.25em; line-height: 1; border-radius: 0.35em;\">\n",
       "    R&amp;D Center\n",
       "    <span style=\"font-size: 0.8em; font-weight: bold; line-height: 1; border-radius: 0.35em; vertical-align: middle; margin-left: 0.5rem\">ORG</span>\n",
       "</mark>\n",
       " and Prof. \n",
       "<mark class=\"entity\" style=\"background: #ddd; padding: 0.45em 0.6em; margin: 0 0.25em; line-height: 1; border-radius: 0.35em;\">\n",
       "    Luca Bianchi\n",
       "    <span style=\"font-size: 0.8em; font-weight: bold; line-height: 1; border-radius: 0.35em; vertical-align: middle; margin-left: 0.5rem\">PER</span>\n",
       "</mark>\n",
       " of \n",
       "<mark class=\"entity\" style=\"background: #7aecec; padding: 0.45em 0.6em; margin: 0 0.25em; line-height: 1; border-radius: 0.35em;\">\n",
       "    Politecnico di Milano\n",
       "    <span style=\"font-size: 0.8em; font-weight: bold; line-height: 1; border-radius: 0.35em; vertical-align: middle; margin-left: 0.5rem\">ORG</span>\n",
       "</mark>\n",
       ".</div>"
      ],
      "text/plain": [
       "<IPython.core.display.HTML object>"
      ]
     },
     "metadata": {},
     "output_type": "display_data"
    }
   ],
   "source": [
    "def transformers_to_displacy(results, text):\n",
    "    ents = []\n",
    "    for ent in results:\n",
    "        ents.append({\n",
    "            \"start\": ent[\"start\"],\n",
    "            \"end\": ent[\"end\"],\n",
    "            \"label\": ent[\"entity_group\"]\n",
    "        })\n",
    "    return {\"text\": text, \"ents\": ents, \"title\": None}\n",
    "\n",
    "html = displacy.render(transformers_to_displacy(results, text), style=\"ent\", manual=True, jupyter=False)\n",
    "display(HTML(html))"
   ]
  }
 ],
 "metadata": {
  "kernelspec": {
   "display_name": "DS_Projects",
   "language": "python",
   "name": "python3"
  },
  "language_info": {
   "codemirror_mode": {
    "name": "ipython",
    "version": 3
   },
   "file_extension": ".py",
   "mimetype": "text/x-python",
   "name": "python",
   "nbconvert_exporter": "python",
   "pygments_lexer": "ipython3",
   "version": "3.13.3"
  }
 },
 "nbformat": 4,
 "nbformat_minor": 5
}
