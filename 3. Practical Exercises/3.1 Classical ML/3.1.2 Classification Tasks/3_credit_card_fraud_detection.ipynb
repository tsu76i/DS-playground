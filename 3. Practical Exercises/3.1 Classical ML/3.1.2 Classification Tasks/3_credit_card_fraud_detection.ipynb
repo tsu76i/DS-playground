{
 "cells": [
  {
   "cell_type": "markdown",
   "id": "82346dfb",
   "metadata": {},
   "source": [
    "# Credit Card Fraud Detection\n",
    "***\n",
    "## Table of Contents\n",
    "1. [Introduction](#1-introduction)\n",
    "1. [Loading Data](#2-loading-data)\n",
    "1. [Data Preprocessing](#3-data-preprocessing)\n",
    "    - [Dealing with Datetime](#dealing-with-datetime)\n",
    "    - [Dealing with Geospatial Data](#dealing-with-geospatial-data)\n",
    "    - [Dropping Unnecessary Features](#dropping-unnecessary-features)\n",
    "    - [Standardisation](#standardisation)\n",
    "1. [Exploratory Data Analysis](#4-exploratory-data-analysis)\n",
    "1. [Predictive Modelling](#5-predictive-modelling)\n",
    "    - [Using Pipeline for Preprocessing](#using-pipeline-for-preprocessing)\n",
    "    - [Hyperparameter Tuning](#hyperparameter-tuning)\n",
    "    - [Evaluation on Test Data](#evaluation-on-test-data)\n",
    "1. [Conclusion](#6-conclusion)\n",
    "1. [References](#7-references)\n",
    "***"
   ]
  },
  {
   "cell_type": "code",
   "execution_count": 1,
   "id": "5eba941a",
   "metadata": {},
   "outputs": [],
   "source": [
    "import matplotlib.pyplot as plt\n",
    "import seaborn as sns\n",
    "import pandas as pd\n",
    "import numpy as np\n",
    "from typing import Dict, Any"
   ]
  },
  {
   "cell_type": "markdown",
   "id": "3866179f",
   "metadata": {},
   "source": [
    "## 1. Introduction\n",
    "Credit card fraud has been an evolving threat in modern society. The proliferation of digital transactions and the tactics of fraudsters have made the detection of fraudulent activities more challenging than ever.\n",
    "\n",
    "Machine learning algorithms provide a powerful framework for identifying anomalous patterns within vast quantities of data. The objective of this project is to develop and compare multiple predictive models capable of detecting fraudulent credit card transactions with a high degree of accuracy based on a large dataset.\n",
    "\n",
    "## 2. Loading Data\n",
    "The dataset used in this project (retrieved from [Kaggle - Credit Card Transactions Fraud Detection Dataset](https://www.kaggle.com/datasets/kartik2112/fraud-detection)) contains credit card transactions between 01/01/2019 and 31/12/2020.\n",
    "\n",
    "- **index**: Unique Identifier for each row\n",
    "- **trans_date_trans_time**: Transaction DateTime\n",
    "- **cc_num**: Credit Card Number of Customer\n",
    "- **merchant**: Merchant Name\n",
    "- **category**: Category of Merchant\n",
    "- **amt**: Amount of Transaction\n",
    "- **first**: First Name of Credit Card Holder\n",
    "- **last**: Last Name of Credit Card Holder\n",
    "- **gender**: Gender of Credit Card Holder\n",
    "- **street**: Street Address of Credit Card Holder\n",
    "- **city**: City of Credit Card Holder\n",
    "- **state**: State of Credit Card Holder\n",
    "- **zip**: Zip of Credit Card Holder\n",
    "- **lat**: Latitude Location of Credit Card Holder\n",
    "- **long**: Longitude Location of Credit Card Holder\n",
    "- **city_pop**: Credit Card Holder's City Population\n",
    "- **job**: Job of Credit Card Holder\n",
    "- **dob**: Date of Birth of Credit Card Holder\n",
    "- **trans_num**: Transaction Number\n",
    "- **unix_time**: UNIX Time of transaction\n",
    "- **merch_lat**: Latitude Location of Merchant\n",
    "- **merch_long**: Longitude Location of Merchant\n",
    "- **is_fraud**: Fraud Flag ($0$ = Not fraud, $1$ = Fraud). Target Variable"
   ]
  },
  {
   "cell_type": "code",
   "execution_count": 2,
   "id": "845eb72f",
   "metadata": {},
   "outputs": [
    {
     "data": {
      "application/vnd.microsoft.datawrangler.viewer.v0+json": {
       "columns": [
        {
         "name": "index",
         "rawType": "int64",
         "type": "integer"
        },
        {
         "name": "Unnamed: 0",
         "rawType": "int64",
         "type": "integer"
        },
        {
         "name": "trans_date_trans_time",
         "rawType": "object",
         "type": "string"
        },
        {
         "name": "cc_num",
         "rawType": "int64",
         "type": "integer"
        },
        {
         "name": "merchant",
         "rawType": "object",
         "type": "string"
        },
        {
         "name": "category",
         "rawType": "object",
         "type": "string"
        },
        {
         "name": "amt",
         "rawType": "float64",
         "type": "float"
        },
        {
         "name": "first",
         "rawType": "object",
         "type": "string"
        },
        {
         "name": "last",
         "rawType": "object",
         "type": "string"
        },
        {
         "name": "gender",
         "rawType": "object",
         "type": "string"
        },
        {
         "name": "street",
         "rawType": "object",
         "type": "string"
        },
        {
         "name": "city",
         "rawType": "object",
         "type": "string"
        },
        {
         "name": "state",
         "rawType": "object",
         "type": "string"
        },
        {
         "name": "zip",
         "rawType": "int64",
         "type": "integer"
        },
        {
         "name": "lat",
         "rawType": "float64",
         "type": "float"
        },
        {
         "name": "long",
         "rawType": "float64",
         "type": "float"
        },
        {
         "name": "city_pop",
         "rawType": "int64",
         "type": "integer"
        },
        {
         "name": "job",
         "rawType": "object",
         "type": "string"
        },
        {
         "name": "dob",
         "rawType": "object",
         "type": "string"
        },
        {
         "name": "trans_num",
         "rawType": "object",
         "type": "string"
        },
        {
         "name": "unix_time",
         "rawType": "int64",
         "type": "integer"
        },
        {
         "name": "merch_lat",
         "rawType": "float64",
         "type": "float"
        },
        {
         "name": "merch_long",
         "rawType": "float64",
         "type": "float"
        },
        {
         "name": "is_fraud",
         "rawType": "int64",
         "type": "integer"
        }
       ],
       "ref": "3733b87e-3d8d-4067-914e-35b09b20c08b",
       "rows": [
        [
         "0",
         "0",
         "2019-01-01 00:00:18",
         "2703186189652095",
         "fraud_Rippin, Kub and Mann",
         "misc_net",
         "4.97",
         "Jennifer",
         "Banks",
         "F",
         "561 Perry Cove",
         "Moravian Falls",
         "NC",
         "28654",
         "36.0788",
         "-81.1781",
         "3495",
         "Psychologist, counselling",
         "1988-03-09",
         "0b242abb623afc578575680df30655b9",
         "1325376018",
         "36.011293",
         "-82.048315",
         "0"
        ],
        [
         "1",
         "1",
         "2019-01-01 00:00:44",
         "630423337322",
         "fraud_Heller, Gutmann and Zieme",
         "grocery_pos",
         "107.23",
         "Stephanie",
         "Gill",
         "F",
         "43039 Riley Greens Suite 393",
         "Orient",
         "WA",
         "99160",
         "48.8878",
         "-118.2105",
         "149",
         "Special educational needs teacher",
         "1978-06-21",
         "1f76529f8574734946361c461b024d99",
         "1325376044",
         "49.159046999999994",
         "-118.186462",
         "0"
        ],
        [
         "2",
         "2",
         "2019-01-01 00:00:51",
         "38859492057661",
         "fraud_Lind-Buckridge",
         "entertainment",
         "220.11",
         "Edward",
         "Sanchez",
         "M",
         "594 White Dale Suite 530",
         "Malad City",
         "ID",
         "83252",
         "42.1808",
         "-112.262",
         "4154",
         "Nature conservation officer",
         "1962-01-19",
         "a1a22d70485983eac12b5b88dad1cf95",
         "1325376051",
         "43.150704",
         "-112.154481",
         "0"
        ],
        [
         "3",
         "3",
         "2019-01-01 00:01:16",
         "3534093764340240",
         "fraud_Kutch, Hermiston and Farrell",
         "gas_transport",
         "45.0",
         "Jeremy",
         "White",
         "M",
         "9443 Cynthia Court Apt. 038",
         "Boulder",
         "MT",
         "59632",
         "46.2306",
         "-112.1138",
         "1939",
         "Patent attorney",
         "1967-01-12",
         "6b849c168bdad6f867558c3793159a81",
         "1325376076",
         "47.034331",
         "-112.561071",
         "0"
        ],
        [
         "4",
         "4",
         "2019-01-01 00:03:06",
         "375534208663984",
         "fraud_Keeling-Crist",
         "misc_pos",
         "41.96",
         "Tyler",
         "Garcia",
         "M",
         "408 Bradley Rest",
         "Doe Hill",
         "VA",
         "24433",
         "38.4207",
         "-79.4629",
         "99",
         "Dance movement psychotherapist",
         "1986-03-28",
         "a41d7549acf90789359a9aa5346dcb46",
         "1325376186",
         "38.674999",
         "-78.632459",
         "0"
        ]
       ],
       "shape": {
        "columns": 23,
        "rows": 5
       }
      },
      "text/html": [
       "<div>\n",
       "<style scoped>\n",
       "    .dataframe tbody tr th:only-of-type {\n",
       "        vertical-align: middle;\n",
       "    }\n",
       "\n",
       "    .dataframe tbody tr th {\n",
       "        vertical-align: top;\n",
       "    }\n",
       "\n",
       "    .dataframe thead th {\n",
       "        text-align: right;\n",
       "    }\n",
       "</style>\n",
       "<table border=\"1\" class=\"dataframe\">\n",
       "  <thead>\n",
       "    <tr style=\"text-align: right;\">\n",
       "      <th></th>\n",
       "      <th>Unnamed: 0</th>\n",
       "      <th>trans_date_trans_time</th>\n",
       "      <th>cc_num</th>\n",
       "      <th>merchant</th>\n",
       "      <th>category</th>\n",
       "      <th>amt</th>\n",
       "      <th>first</th>\n",
       "      <th>last</th>\n",
       "      <th>gender</th>\n",
       "      <th>street</th>\n",
       "      <th>...</th>\n",
       "      <th>lat</th>\n",
       "      <th>long</th>\n",
       "      <th>city_pop</th>\n",
       "      <th>job</th>\n",
       "      <th>dob</th>\n",
       "      <th>trans_num</th>\n",
       "      <th>unix_time</th>\n",
       "      <th>merch_lat</th>\n",
       "      <th>merch_long</th>\n",
       "      <th>is_fraud</th>\n",
       "    </tr>\n",
       "  </thead>\n",
       "  <tbody>\n",
       "    <tr>\n",
       "      <th>0</th>\n",
       "      <td>0</td>\n",
       "      <td>2019-01-01 00:00:18</td>\n",
       "      <td>2703186189652095</td>\n",
       "      <td>fraud_Rippin, Kub and Mann</td>\n",
       "      <td>misc_net</td>\n",
       "      <td>4.97</td>\n",
       "      <td>Jennifer</td>\n",
       "      <td>Banks</td>\n",
       "      <td>F</td>\n",
       "      <td>561 Perry Cove</td>\n",
       "      <td>...</td>\n",
       "      <td>36.0788</td>\n",
       "      <td>-81.1781</td>\n",
       "      <td>3495</td>\n",
       "      <td>Psychologist, counselling</td>\n",
       "      <td>1988-03-09</td>\n",
       "      <td>0b242abb623afc578575680df30655b9</td>\n",
       "      <td>1325376018</td>\n",
       "      <td>36.011293</td>\n",
       "      <td>-82.048315</td>\n",
       "      <td>0</td>\n",
       "    </tr>\n",
       "    <tr>\n",
       "      <th>1</th>\n",
       "      <td>1</td>\n",
       "      <td>2019-01-01 00:00:44</td>\n",
       "      <td>630423337322</td>\n",
       "      <td>fraud_Heller, Gutmann and Zieme</td>\n",
       "      <td>grocery_pos</td>\n",
       "      <td>107.23</td>\n",
       "      <td>Stephanie</td>\n",
       "      <td>Gill</td>\n",
       "      <td>F</td>\n",
       "      <td>43039 Riley Greens Suite 393</td>\n",
       "      <td>...</td>\n",
       "      <td>48.8878</td>\n",
       "      <td>-118.2105</td>\n",
       "      <td>149</td>\n",
       "      <td>Special educational needs teacher</td>\n",
       "      <td>1978-06-21</td>\n",
       "      <td>1f76529f8574734946361c461b024d99</td>\n",
       "      <td>1325376044</td>\n",
       "      <td>49.159047</td>\n",
       "      <td>-118.186462</td>\n",
       "      <td>0</td>\n",
       "    </tr>\n",
       "    <tr>\n",
       "      <th>2</th>\n",
       "      <td>2</td>\n",
       "      <td>2019-01-01 00:00:51</td>\n",
       "      <td>38859492057661</td>\n",
       "      <td>fraud_Lind-Buckridge</td>\n",
       "      <td>entertainment</td>\n",
       "      <td>220.11</td>\n",
       "      <td>Edward</td>\n",
       "      <td>Sanchez</td>\n",
       "      <td>M</td>\n",
       "      <td>594 White Dale Suite 530</td>\n",
       "      <td>...</td>\n",
       "      <td>42.1808</td>\n",
       "      <td>-112.2620</td>\n",
       "      <td>4154</td>\n",
       "      <td>Nature conservation officer</td>\n",
       "      <td>1962-01-19</td>\n",
       "      <td>a1a22d70485983eac12b5b88dad1cf95</td>\n",
       "      <td>1325376051</td>\n",
       "      <td>43.150704</td>\n",
       "      <td>-112.154481</td>\n",
       "      <td>0</td>\n",
       "    </tr>\n",
       "    <tr>\n",
       "      <th>3</th>\n",
       "      <td>3</td>\n",
       "      <td>2019-01-01 00:01:16</td>\n",
       "      <td>3534093764340240</td>\n",
       "      <td>fraud_Kutch, Hermiston and Farrell</td>\n",
       "      <td>gas_transport</td>\n",
       "      <td>45.00</td>\n",
       "      <td>Jeremy</td>\n",
       "      <td>White</td>\n",
       "      <td>M</td>\n",
       "      <td>9443 Cynthia Court Apt. 038</td>\n",
       "      <td>...</td>\n",
       "      <td>46.2306</td>\n",
       "      <td>-112.1138</td>\n",
       "      <td>1939</td>\n",
       "      <td>Patent attorney</td>\n",
       "      <td>1967-01-12</td>\n",
       "      <td>6b849c168bdad6f867558c3793159a81</td>\n",
       "      <td>1325376076</td>\n",
       "      <td>47.034331</td>\n",
       "      <td>-112.561071</td>\n",
       "      <td>0</td>\n",
       "    </tr>\n",
       "    <tr>\n",
       "      <th>4</th>\n",
       "      <td>4</td>\n",
       "      <td>2019-01-01 00:03:06</td>\n",
       "      <td>375534208663984</td>\n",
       "      <td>fraud_Keeling-Crist</td>\n",
       "      <td>misc_pos</td>\n",
       "      <td>41.96</td>\n",
       "      <td>Tyler</td>\n",
       "      <td>Garcia</td>\n",
       "      <td>M</td>\n",
       "      <td>408 Bradley Rest</td>\n",
       "      <td>...</td>\n",
       "      <td>38.4207</td>\n",
       "      <td>-79.4629</td>\n",
       "      <td>99</td>\n",
       "      <td>Dance movement psychotherapist</td>\n",
       "      <td>1986-03-28</td>\n",
       "      <td>a41d7549acf90789359a9aa5346dcb46</td>\n",
       "      <td>1325376186</td>\n",
       "      <td>38.674999</td>\n",
       "      <td>-78.632459</td>\n",
       "      <td>0</td>\n",
       "    </tr>\n",
       "  </tbody>\n",
       "</table>\n",
       "<p>5 rows × 23 columns</p>\n",
       "</div>"
      ],
      "text/plain": [
       "   Unnamed: 0 trans_date_trans_time            cc_num  \\\n",
       "0           0   2019-01-01 00:00:18  2703186189652095   \n",
       "1           1   2019-01-01 00:00:44      630423337322   \n",
       "2           2   2019-01-01 00:00:51    38859492057661   \n",
       "3           3   2019-01-01 00:01:16  3534093764340240   \n",
       "4           4   2019-01-01 00:03:06   375534208663984   \n",
       "\n",
       "                             merchant       category     amt      first  \\\n",
       "0          fraud_Rippin, Kub and Mann       misc_net    4.97   Jennifer   \n",
       "1     fraud_Heller, Gutmann and Zieme    grocery_pos  107.23  Stephanie   \n",
       "2                fraud_Lind-Buckridge  entertainment  220.11     Edward   \n",
       "3  fraud_Kutch, Hermiston and Farrell  gas_transport   45.00     Jeremy   \n",
       "4                 fraud_Keeling-Crist       misc_pos   41.96      Tyler   \n",
       "\n",
       "      last gender                        street  ...      lat      long  \\\n",
       "0    Banks      F                561 Perry Cove  ...  36.0788  -81.1781   \n",
       "1     Gill      F  43039 Riley Greens Suite 393  ...  48.8878 -118.2105   \n",
       "2  Sanchez      M      594 White Dale Suite 530  ...  42.1808 -112.2620   \n",
       "3    White      M   9443 Cynthia Court Apt. 038  ...  46.2306 -112.1138   \n",
       "4   Garcia      M              408 Bradley Rest  ...  38.4207  -79.4629   \n",
       "\n",
       "   city_pop                                job         dob  \\\n",
       "0      3495          Psychologist, counselling  1988-03-09   \n",
       "1       149  Special educational needs teacher  1978-06-21   \n",
       "2      4154        Nature conservation officer  1962-01-19   \n",
       "3      1939                    Patent attorney  1967-01-12   \n",
       "4        99     Dance movement psychotherapist  1986-03-28   \n",
       "\n",
       "                          trans_num   unix_time  merch_lat  merch_long  \\\n",
       "0  0b242abb623afc578575680df30655b9  1325376018  36.011293  -82.048315   \n",
       "1  1f76529f8574734946361c461b024d99  1325376044  49.159047 -118.186462   \n",
       "2  a1a22d70485983eac12b5b88dad1cf95  1325376051  43.150704 -112.154481   \n",
       "3  6b849c168bdad6f867558c3793159a81  1325376076  47.034331 -112.561071   \n",
       "4  a41d7549acf90789359a9aa5346dcb46  1325376186  38.674999  -78.632459   \n",
       "\n",
       "   is_fraud  \n",
       "0         0  \n",
       "1         0  \n",
       "2         0  \n",
       "3         0  \n",
       "4         0  \n",
       "\n",
       "[5 rows x 23 columns]"
      ]
     },
     "execution_count": 2,
     "metadata": {},
     "output_type": "execute_result"
    }
   ],
   "source": [
    "df_train = pd.read_csv(\"_datasets/fraudTrain.csv\")\n",
    "df_train.head()"
   ]
  },
  {
   "cell_type": "code",
   "execution_count": 3,
   "id": "e1e8c14e",
   "metadata": {},
   "outputs": [
    {
     "data": {
      "application/vnd.microsoft.datawrangler.viewer.v0+json": {
       "columns": [
        {
         "name": "index",
         "rawType": "int64",
         "type": "integer"
        },
        {
         "name": "Unnamed: 0",
         "rawType": "int64",
         "type": "integer"
        },
        {
         "name": "trans_date_trans_time",
         "rawType": "object",
         "type": "string"
        },
        {
         "name": "cc_num",
         "rawType": "int64",
         "type": "integer"
        },
        {
         "name": "merchant",
         "rawType": "object",
         "type": "string"
        },
        {
         "name": "category",
         "rawType": "object",
         "type": "string"
        },
        {
         "name": "amt",
         "rawType": "float64",
         "type": "float"
        },
        {
         "name": "first",
         "rawType": "object",
         "type": "string"
        },
        {
         "name": "last",
         "rawType": "object",
         "type": "string"
        },
        {
         "name": "gender",
         "rawType": "object",
         "type": "string"
        },
        {
         "name": "street",
         "rawType": "object",
         "type": "string"
        },
        {
         "name": "city",
         "rawType": "object",
         "type": "string"
        },
        {
         "name": "state",
         "rawType": "object",
         "type": "string"
        },
        {
         "name": "zip",
         "rawType": "int64",
         "type": "integer"
        },
        {
         "name": "lat",
         "rawType": "float64",
         "type": "float"
        },
        {
         "name": "long",
         "rawType": "float64",
         "type": "float"
        },
        {
         "name": "city_pop",
         "rawType": "int64",
         "type": "integer"
        },
        {
         "name": "job",
         "rawType": "object",
         "type": "string"
        },
        {
         "name": "dob",
         "rawType": "object",
         "type": "string"
        },
        {
         "name": "trans_num",
         "rawType": "object",
         "type": "string"
        },
        {
         "name": "unix_time",
         "rawType": "int64",
         "type": "integer"
        },
        {
         "name": "merch_lat",
         "rawType": "float64",
         "type": "float"
        },
        {
         "name": "merch_long",
         "rawType": "float64",
         "type": "float"
        },
        {
         "name": "is_fraud",
         "rawType": "int64",
         "type": "integer"
        }
       ],
       "ref": "4a9e58db-ea8e-46ad-a8b8-cb456eb757ac",
       "rows": [
        [
         "0",
         "0",
         "2020-06-21 12:14:25",
         "2291163933867244",
         "fraud_Kirlin and Sons",
         "personal_care",
         "2.86",
         "Jeff",
         "Elliott",
         "M",
         "351 Darlene Green",
         "Columbia",
         "SC",
         "29209",
         "33.9659",
         "-80.9355",
         "333497",
         "Mechanical engineer",
         "1968-03-19",
         "2da90c7d74bd46a0caf3777415b3ebd3",
         "1371816865",
         "33.986391",
         "-81.200714",
         "0"
        ],
        [
         "1",
         "1",
         "2020-06-21 12:14:33",
         "3573030041201292",
         "fraud_Sporer-Keebler",
         "personal_care",
         "29.84",
         "Joanne",
         "Williams",
         "F",
         "3638 Marsh Union",
         "Altonah",
         "UT",
         "84002",
         "40.3207",
         "-110.436",
         "302",
         "Sales professional, IT",
         "1990-01-17",
         "324cc204407e99f51b0d6ca0055005e7",
         "1371816873",
         "39.450498",
         "-109.960431",
         "0"
        ],
        [
         "2",
         "2",
         "2020-06-21 12:14:53",
         "3598215285024754",
         "fraud_Swaniawski, Nitzsche and Welch",
         "health_fitness",
         "41.28",
         "Ashley",
         "Lopez",
         "F",
         "9333 Valentine Point",
         "Bellmore",
         "NY",
         "11710",
         "40.6729",
         "-73.5365",
         "34496",
         "Librarian, public",
         "1970-10-21",
         "c81755dbbbea9d5c77f094348a7579be",
         "1371816893",
         "40.49581",
         "-74.196111",
         "0"
        ],
        [
         "3",
         "3",
         "2020-06-21 12:15:15",
         "3591919803438423",
         "fraud_Haley Group",
         "misc_pos",
         "60.05",
         "Brian",
         "Williams",
         "M",
         "32941 Krystal Mill Apt. 552",
         "Titusville",
         "FL",
         "32780",
         "28.5697",
         "-80.8191",
         "54767",
         "Set designer",
         "1987-07-25",
         "2159175b9efe66dc301f149d3d5abf8c",
         "1371816915",
         "28.812398",
         "-80.883061",
         "0"
        ],
        [
         "4",
         "4",
         "2020-06-21 12:15:17",
         "3526826139003047",
         "fraud_Johnston-Casper",
         "travel",
         "3.19",
         "Nathan",
         "Massey",
         "M",
         "5783 Evan Roads Apt. 465",
         "Falmouth",
         "MI",
         "49632",
         "44.2529",
         "-85.01700000000001",
         "1126",
         "Furniture designer",
         "1955-07-06",
         "57ff021bd3f328f8738bb535c302a31b",
         "1371816917",
         "44.959148",
         "-85.884734",
         "0"
        ]
       ],
       "shape": {
        "columns": 23,
        "rows": 5
       }
      },
      "text/html": [
       "<div>\n",
       "<style scoped>\n",
       "    .dataframe tbody tr th:only-of-type {\n",
       "        vertical-align: middle;\n",
       "    }\n",
       "\n",
       "    .dataframe tbody tr th {\n",
       "        vertical-align: top;\n",
       "    }\n",
       "\n",
       "    .dataframe thead th {\n",
       "        text-align: right;\n",
       "    }\n",
       "</style>\n",
       "<table border=\"1\" class=\"dataframe\">\n",
       "  <thead>\n",
       "    <tr style=\"text-align: right;\">\n",
       "      <th></th>\n",
       "      <th>Unnamed: 0</th>\n",
       "      <th>trans_date_trans_time</th>\n",
       "      <th>cc_num</th>\n",
       "      <th>merchant</th>\n",
       "      <th>category</th>\n",
       "      <th>amt</th>\n",
       "      <th>first</th>\n",
       "      <th>last</th>\n",
       "      <th>gender</th>\n",
       "      <th>street</th>\n",
       "      <th>...</th>\n",
       "      <th>lat</th>\n",
       "      <th>long</th>\n",
       "      <th>city_pop</th>\n",
       "      <th>job</th>\n",
       "      <th>dob</th>\n",
       "      <th>trans_num</th>\n",
       "      <th>unix_time</th>\n",
       "      <th>merch_lat</th>\n",
       "      <th>merch_long</th>\n",
       "      <th>is_fraud</th>\n",
       "    </tr>\n",
       "  </thead>\n",
       "  <tbody>\n",
       "    <tr>\n",
       "      <th>0</th>\n",
       "      <td>0</td>\n",
       "      <td>2020-06-21 12:14:25</td>\n",
       "      <td>2291163933867244</td>\n",
       "      <td>fraud_Kirlin and Sons</td>\n",
       "      <td>personal_care</td>\n",
       "      <td>2.86</td>\n",
       "      <td>Jeff</td>\n",
       "      <td>Elliott</td>\n",
       "      <td>M</td>\n",
       "      <td>351 Darlene Green</td>\n",
       "      <td>...</td>\n",
       "      <td>33.9659</td>\n",
       "      <td>-80.9355</td>\n",
       "      <td>333497</td>\n",
       "      <td>Mechanical engineer</td>\n",
       "      <td>1968-03-19</td>\n",
       "      <td>2da90c7d74bd46a0caf3777415b3ebd3</td>\n",
       "      <td>1371816865</td>\n",
       "      <td>33.986391</td>\n",
       "      <td>-81.200714</td>\n",
       "      <td>0</td>\n",
       "    </tr>\n",
       "    <tr>\n",
       "      <th>1</th>\n",
       "      <td>1</td>\n",
       "      <td>2020-06-21 12:14:33</td>\n",
       "      <td>3573030041201292</td>\n",
       "      <td>fraud_Sporer-Keebler</td>\n",
       "      <td>personal_care</td>\n",
       "      <td>29.84</td>\n",
       "      <td>Joanne</td>\n",
       "      <td>Williams</td>\n",
       "      <td>F</td>\n",
       "      <td>3638 Marsh Union</td>\n",
       "      <td>...</td>\n",
       "      <td>40.3207</td>\n",
       "      <td>-110.4360</td>\n",
       "      <td>302</td>\n",
       "      <td>Sales professional, IT</td>\n",
       "      <td>1990-01-17</td>\n",
       "      <td>324cc204407e99f51b0d6ca0055005e7</td>\n",
       "      <td>1371816873</td>\n",
       "      <td>39.450498</td>\n",
       "      <td>-109.960431</td>\n",
       "      <td>0</td>\n",
       "    </tr>\n",
       "    <tr>\n",
       "      <th>2</th>\n",
       "      <td>2</td>\n",
       "      <td>2020-06-21 12:14:53</td>\n",
       "      <td>3598215285024754</td>\n",
       "      <td>fraud_Swaniawski, Nitzsche and Welch</td>\n",
       "      <td>health_fitness</td>\n",
       "      <td>41.28</td>\n",
       "      <td>Ashley</td>\n",
       "      <td>Lopez</td>\n",
       "      <td>F</td>\n",
       "      <td>9333 Valentine Point</td>\n",
       "      <td>...</td>\n",
       "      <td>40.6729</td>\n",
       "      <td>-73.5365</td>\n",
       "      <td>34496</td>\n",
       "      <td>Librarian, public</td>\n",
       "      <td>1970-10-21</td>\n",
       "      <td>c81755dbbbea9d5c77f094348a7579be</td>\n",
       "      <td>1371816893</td>\n",
       "      <td>40.495810</td>\n",
       "      <td>-74.196111</td>\n",
       "      <td>0</td>\n",
       "    </tr>\n",
       "    <tr>\n",
       "      <th>3</th>\n",
       "      <td>3</td>\n",
       "      <td>2020-06-21 12:15:15</td>\n",
       "      <td>3591919803438423</td>\n",
       "      <td>fraud_Haley Group</td>\n",
       "      <td>misc_pos</td>\n",
       "      <td>60.05</td>\n",
       "      <td>Brian</td>\n",
       "      <td>Williams</td>\n",
       "      <td>M</td>\n",
       "      <td>32941 Krystal Mill Apt. 552</td>\n",
       "      <td>...</td>\n",
       "      <td>28.5697</td>\n",
       "      <td>-80.8191</td>\n",
       "      <td>54767</td>\n",
       "      <td>Set designer</td>\n",
       "      <td>1987-07-25</td>\n",
       "      <td>2159175b9efe66dc301f149d3d5abf8c</td>\n",
       "      <td>1371816915</td>\n",
       "      <td>28.812398</td>\n",
       "      <td>-80.883061</td>\n",
       "      <td>0</td>\n",
       "    </tr>\n",
       "    <tr>\n",
       "      <th>4</th>\n",
       "      <td>4</td>\n",
       "      <td>2020-06-21 12:15:17</td>\n",
       "      <td>3526826139003047</td>\n",
       "      <td>fraud_Johnston-Casper</td>\n",
       "      <td>travel</td>\n",
       "      <td>3.19</td>\n",
       "      <td>Nathan</td>\n",
       "      <td>Massey</td>\n",
       "      <td>M</td>\n",
       "      <td>5783 Evan Roads Apt. 465</td>\n",
       "      <td>...</td>\n",
       "      <td>44.2529</td>\n",
       "      <td>-85.0170</td>\n",
       "      <td>1126</td>\n",
       "      <td>Furniture designer</td>\n",
       "      <td>1955-07-06</td>\n",
       "      <td>57ff021bd3f328f8738bb535c302a31b</td>\n",
       "      <td>1371816917</td>\n",
       "      <td>44.959148</td>\n",
       "      <td>-85.884734</td>\n",
       "      <td>0</td>\n",
       "    </tr>\n",
       "  </tbody>\n",
       "</table>\n",
       "<p>5 rows × 23 columns</p>\n",
       "</div>"
      ],
      "text/plain": [
       "   Unnamed: 0 trans_date_trans_time            cc_num  \\\n",
       "0           0   2020-06-21 12:14:25  2291163933867244   \n",
       "1           1   2020-06-21 12:14:33  3573030041201292   \n",
       "2           2   2020-06-21 12:14:53  3598215285024754   \n",
       "3           3   2020-06-21 12:15:15  3591919803438423   \n",
       "4           4   2020-06-21 12:15:17  3526826139003047   \n",
       "\n",
       "                               merchant        category    amt   first  \\\n",
       "0                 fraud_Kirlin and Sons   personal_care   2.86    Jeff   \n",
       "1                  fraud_Sporer-Keebler   personal_care  29.84  Joanne   \n",
       "2  fraud_Swaniawski, Nitzsche and Welch  health_fitness  41.28  Ashley   \n",
       "3                     fraud_Haley Group        misc_pos  60.05   Brian   \n",
       "4                 fraud_Johnston-Casper          travel   3.19  Nathan   \n",
       "\n",
       "       last gender                       street  ...      lat      long  \\\n",
       "0   Elliott      M            351 Darlene Green  ...  33.9659  -80.9355   \n",
       "1  Williams      F             3638 Marsh Union  ...  40.3207 -110.4360   \n",
       "2     Lopez      F         9333 Valentine Point  ...  40.6729  -73.5365   \n",
       "3  Williams      M  32941 Krystal Mill Apt. 552  ...  28.5697  -80.8191   \n",
       "4    Massey      M     5783 Evan Roads Apt. 465  ...  44.2529  -85.0170   \n",
       "\n",
       "   city_pop                     job         dob  \\\n",
       "0    333497     Mechanical engineer  1968-03-19   \n",
       "1       302  Sales professional, IT  1990-01-17   \n",
       "2     34496       Librarian, public  1970-10-21   \n",
       "3     54767            Set designer  1987-07-25   \n",
       "4      1126      Furniture designer  1955-07-06   \n",
       "\n",
       "                          trans_num   unix_time  merch_lat  merch_long  \\\n",
       "0  2da90c7d74bd46a0caf3777415b3ebd3  1371816865  33.986391  -81.200714   \n",
       "1  324cc204407e99f51b0d6ca0055005e7  1371816873  39.450498 -109.960431   \n",
       "2  c81755dbbbea9d5c77f094348a7579be  1371816893  40.495810  -74.196111   \n",
       "3  2159175b9efe66dc301f149d3d5abf8c  1371816915  28.812398  -80.883061   \n",
       "4  57ff021bd3f328f8738bb535c302a31b  1371816917  44.959148  -85.884734   \n",
       "\n",
       "   is_fraud  \n",
       "0         0  \n",
       "1         0  \n",
       "2         0  \n",
       "3         0  \n",
       "4         0  \n",
       "\n",
       "[5 rows x 23 columns]"
      ]
     },
     "execution_count": 3,
     "metadata": {},
     "output_type": "execute_result"
    }
   ],
   "source": [
    "df_test = pd.read_csv(\"_datasets/fraudTest.csv\")\n",
    "df_test.head()"
   ]
  },
  {
   "cell_type": "code",
   "execution_count": 4,
   "id": "cbd5cc84",
   "metadata": {},
   "outputs": [
    {
     "name": "stdout",
     "output_type": "stream",
     "text": [
      "<class 'pandas.core.frame.DataFrame'>\n",
      "RangeIndex: 1296675 entries, 0 to 1296674\n",
      "Data columns (total 23 columns):\n",
      " #   Column                 Non-Null Count    Dtype  \n",
      "---  ------                 --------------    -----  \n",
      " 0   Unnamed: 0             1296675 non-null  int64  \n",
      " 1   trans_date_trans_time  1296675 non-null  object \n",
      " 2   cc_num                 1296675 non-null  int64  \n",
      " 3   merchant               1296675 non-null  object \n",
      " 4   category               1296675 non-null  object \n",
      " 5   amt                    1296675 non-null  float64\n",
      " 6   first                  1296675 non-null  object \n",
      " 7   last                   1296675 non-null  object \n",
      " 8   gender                 1296675 non-null  object \n",
      " 9   street                 1296675 non-null  object \n",
      " 10  city                   1296675 non-null  object \n",
      " 11  state                  1296675 non-null  object \n",
      " 12  zip                    1296675 non-null  int64  \n",
      " 13  lat                    1296675 non-null  float64\n",
      " 14  long                   1296675 non-null  float64\n",
      " 15  city_pop               1296675 non-null  int64  \n",
      " 16  job                    1296675 non-null  object \n",
      " 17  dob                    1296675 non-null  object \n",
      " 18  trans_num              1296675 non-null  object \n",
      " 19  unix_time              1296675 non-null  int64  \n",
      " 20  merch_lat              1296675 non-null  float64\n",
      " 21  merch_long             1296675 non-null  float64\n",
      " 22  is_fraud               1296675 non-null  int64  \n",
      "dtypes: float64(5), int64(6), object(12)\n",
      "memory usage: 227.5+ MB\n"
     ]
    }
   ],
   "source": [
    "df_train.info()"
   ]
  },
  {
   "cell_type": "code",
   "execution_count": 5,
   "id": "c055b755",
   "metadata": {},
   "outputs": [
    {
     "name": "stdout",
     "output_type": "stream",
     "text": [
      "Train data shape: (1296675, 23) | Test data shape: (555719, 23)\n"
     ]
    }
   ],
   "source": [
    "print(f\"Train data shape: {df_train.shape} | Test data shape: {df_test.shape}\")"
   ]
  },
  {
   "cell_type": "markdown",
   "id": "1ca0dacd",
   "metadata": {},
   "source": [
    "## 3. Data Preprocessing\n",
    "- Dealing with Datetime\n",
    "- Dealing with Geospatial Data\n",
    "- Dropping Unnecessary Features\n",
    "- Standardisation"
   ]
  },
  {
   "cell_type": "markdown",
   "id": "94d9118d",
   "metadata": {},
   "source": [
    "### Dealing with Datetime "
   ]
  },
  {
   "cell_type": "code",
   "execution_count": 6,
   "id": "edadec72",
   "metadata": {},
   "outputs": [],
   "source": [
    "# For train data\n",
    "df_train[\"trans_date_trans_time\"] = pd.to_datetime(df_train[\"trans_date_trans_time\"])\n",
    "\n",
    "# Calculate 'age' based on the transaction date and the day of birth ('dob')\n",
    "df_train[\"dob\"] = pd.to_datetime(df_train[\"dob\"])\n",
    "df_train[\"age\"] = (df_train[\"trans_date_trans_time\"] - df_train[\"dob\"]).dt.days // 365\n",
    "\n",
    "# Divide 'trans_date_trans_time' into hour, day of week, month.\n",
    "df_train[\"trans_hour\"] = df_train[\"trans_date_trans_time\"].dt.hour\n",
    "df_train[\"trans_day_of_week\"] = df_train[\"trans_date_trans_time\"].dt.day_of_week\n",
    "df_train[\"trans_month\"] = df_train[\"trans_date_trans_time\"].dt.month\n",
    "\n",
    "# For test data\n",
    "df_test[\"trans_date_trans_time\"] = pd.to_datetime(df_test[\"trans_date_trans_time\"])\n",
    "\n",
    "# Calculate 'age' based on the transaction date and the day of birth ('dob')\n",
    "df_test[\"dob\"] = pd.to_datetime(df_test[\"dob\"])\n",
    "df_test[\"age\"] = (df_test[\"trans_date_trans_time\"] - df_test[\"dob\"]).dt.days // 365\n",
    "\n",
    "# Divide 'trans_date_trans_time' into hour, day of week, month.\n",
    "df_test[\"trans_hour\"] = df_test[\"trans_date_trans_time\"].dt.hour\n",
    "df_test[\"trans_day_of_week\"] = df_test[\"trans_date_trans_time\"].dt.day_of_week\n",
    "df_test[\"trans_month\"] = df_test[\"trans_date_trans_time\"].dt.month"
   ]
  },
  {
   "cell_type": "markdown",
   "id": "e408be22",
   "metadata": {},
   "source": [
    "### Dealing with Geospatial Data\n",
    "To calculate the distance between two points given their latitude and longitude, the most common method is to use the Haversine formula. It accounts for the Earth's curvature and provides the great-circle distance between two points on a sphere:\n",
    "\n",
    "$$\n",
    "    a = \\sin^2{\\left(\\dfrac{\\Delta \\phi}{2}\\right)} + \\cos{(\\phi_1)} \\cdot \\cos{(\\phi_2)} \\cdot \\sin^2{\\left(\\dfrac{\\lambda \\phi}{2}\\right)} \\\\\n",
    "$$\n",
    "$$\n",
    "    c = 2 \\cdot \\arctan{2(\\sqrt{a}, \\sqrt{1-a})} \\\\\n",
    "$$ \n",
    "$$\n",
    "d = R \\cdot c\n",
    "$$\n"
   ]
  },
  {
   "cell_type": "code",
   "execution_count": null,
   "id": "4c2700c8",
   "metadata": {},
   "outputs": [],
   "source": [
    "def haversine_distance(\n",
    "    lat1: pd.Series, lon1: pd.Series, lat2: pd.Series, lon2: pd.Series\n",
    ") -> pd.Series:\n",
    "    \"\"\"\n",
    "    Vectorised calculation of the great-circle distance between two points\n",
    "    on the Earth's surface given their latitude and longitude.\n",
    "\n",
    "    Args:\n",
    "    lat1, lon1: Latitude and longitude of point 1 (in decimal degrees, pandas Series)\n",
    "    lat2, lon2: Latitude and longitude of point 2 (in decimal degrees, pandas Series)\n",
    "\n",
    "    Returns:\n",
    "        Distance in kilometres (pandas Series)\n",
    "    \"\"\"\n",
    "    R = 6371.0  # Earth's mean radius in kilometres\n",
    "\n",
    "    phi1 = np.radians(lat1)\n",
    "    phi2 = np.radians(lat2)\n",
    "    delta_phi = np.radians(lat2 - lat1)\n",
    "    delta_lambda = np.radians(lon2 - lon1)\n",
    "\n",
    "    a = (\n",
    "        np.sin(delta_phi / 2) ** 2\n",
    "        + np.cos(phi1) * np.cos(phi2) * np.sin(delta_lambda / 2) ** 2\n",
    "    )\n",
    "    c = 2 * np.arctan2(np.sqrt(a), np.sqrt(1 - a))\n",
    "\n",
    "    return R * c\n"
   ]
  },
  {
   "cell_type": "code",
   "execution_count": 8,
   "id": "b2d09711",
   "metadata": {},
   "outputs": [],
   "source": [
    "# Train dataset\n",
    "df_train[\"distance\"] = haversine_distance(\n",
    "    df_train[\"lat\"], df_train[\"long\"], df_train[\"merch_lat\"], df_train[\"merch_long\"]\n",
    ")\n",
    "\n",
    "# Test dataset\n",
    "df_test[\"distance\"] = haversine_distance(\n",
    "    df_test[\"lat\"], df_test[\"long\"], df_test[\"merch_lat\"], df_test[\"merch_long\"]\n",
    ")"
   ]
  },
  {
   "cell_type": "markdown",
   "id": "7547d5aa",
   "metadata": {},
   "source": [
    "### Dropping Unnecessary Features"
   ]
  },
  {
   "cell_type": "code",
   "execution_count": 9,
   "id": "afad63ad",
   "metadata": {},
   "outputs": [
    {
     "data": {
      "application/vnd.microsoft.datawrangler.viewer.v0+json": {
       "columns": [
        {
         "name": "index",
         "rawType": "int64",
         "type": "integer"
        },
        {
         "name": "Unnamed: 0",
         "rawType": "int64",
         "type": "integer"
        },
        {
         "name": "trans_date_trans_time",
         "rawType": "datetime64[ns]",
         "type": "datetime"
        },
        {
         "name": "cc_num",
         "rawType": "int64",
         "type": "integer"
        },
        {
         "name": "merchant",
         "rawType": "object",
         "type": "string"
        },
        {
         "name": "category",
         "rawType": "object",
         "type": "string"
        },
        {
         "name": "amt",
         "rawType": "float64",
         "type": "float"
        },
        {
         "name": "first",
         "rawType": "object",
         "type": "string"
        },
        {
         "name": "last",
         "rawType": "object",
         "type": "string"
        },
        {
         "name": "gender",
         "rawType": "object",
         "type": "string"
        },
        {
         "name": "street",
         "rawType": "object",
         "type": "string"
        },
        {
         "name": "city",
         "rawType": "object",
         "type": "string"
        },
        {
         "name": "state",
         "rawType": "object",
         "type": "string"
        },
        {
         "name": "zip",
         "rawType": "int64",
         "type": "integer"
        },
        {
         "name": "lat",
         "rawType": "float64",
         "type": "float"
        },
        {
         "name": "long",
         "rawType": "float64",
         "type": "float"
        },
        {
         "name": "city_pop",
         "rawType": "int64",
         "type": "integer"
        },
        {
         "name": "job",
         "rawType": "object",
         "type": "string"
        },
        {
         "name": "dob",
         "rawType": "datetime64[ns]",
         "type": "datetime"
        },
        {
         "name": "trans_num",
         "rawType": "object",
         "type": "string"
        },
        {
         "name": "unix_time",
         "rawType": "int64",
         "type": "integer"
        },
        {
         "name": "merch_lat",
         "rawType": "float64",
         "type": "float"
        },
        {
         "name": "merch_long",
         "rawType": "float64",
         "type": "float"
        },
        {
         "name": "is_fraud",
         "rawType": "int64",
         "type": "integer"
        },
        {
         "name": "age",
         "rawType": "int64",
         "type": "integer"
        },
        {
         "name": "trans_hour",
         "rawType": "int32",
         "type": "integer"
        },
        {
         "name": "trans_day_of_week",
         "rawType": "int32",
         "type": "integer"
        },
        {
         "name": "trans_month",
         "rawType": "int32",
         "type": "integer"
        },
        {
         "name": "distance",
         "rawType": "float64",
         "type": "float"
        }
       ],
       "ref": "d9242724-7a2e-454c-af2d-5ec57a491229",
       "rows": [
        [
         "0",
         "0",
         "2019-01-01 00:00:18",
         "2703186189652095",
         "fraud_Rippin, Kub and Mann",
         "misc_net",
         "4.97",
         "Jennifer",
         "Banks",
         "F",
         "561 Perry Cove",
         "Moravian Falls",
         "NC",
         "28654",
         "36.0788",
         "-81.1781",
         "3495",
         "Psychologist, counselling",
         "1988-03-09 00:00:00",
         "0b242abb623afc578575680df30655b9",
         "1325376018",
         "36.011293",
         "-82.048315",
         "0",
         "30",
         "0",
         "1",
         "1",
         "78.59756848823127"
        ],
        [
         "1",
         "1",
         "2019-01-01 00:00:44",
         "630423337322",
         "fraud_Heller, Gutmann and Zieme",
         "grocery_pos",
         "107.23",
         "Stephanie",
         "Gill",
         "F",
         "43039 Riley Greens Suite 393",
         "Orient",
         "WA",
         "99160",
         "48.8878",
         "-118.2105",
         "149",
         "Special educational needs teacher",
         "1978-06-21 00:00:00",
         "1f76529f8574734946361c461b024d99",
         "1325376044",
         "49.159046999999994",
         "-118.186462",
         "0",
         "40",
         "0",
         "1",
         "1",
         "30.21217571921031"
        ],
        [
         "2",
         "2",
         "2019-01-01 00:00:51",
         "38859492057661",
         "fraud_Lind-Buckridge",
         "entertainment",
         "220.11",
         "Edward",
         "Sanchez",
         "M",
         "594 White Dale Suite 530",
         "Malad City",
         "ID",
         "83252",
         "42.1808",
         "-112.262",
         "4154",
         "Nature conservation officer",
         "1962-01-19 00:00:00",
         "a1a22d70485983eac12b5b88dad1cf95",
         "1325376051",
         "43.150704",
         "-112.154481",
         "0",
         "56",
         "0",
         "1",
         "1",
         "108.20608258720075"
        ],
        [
         "3",
         "3",
         "2019-01-01 00:01:16",
         "3534093764340240",
         "fraud_Kutch, Hermiston and Farrell",
         "gas_transport",
         "45.0",
         "Jeremy",
         "White",
         "M",
         "9443 Cynthia Court Apt. 038",
         "Boulder",
         "MT",
         "59632",
         "46.2306",
         "-112.1138",
         "1939",
         "Patent attorney",
         "1967-01-12 00:00:00",
         "6b849c168bdad6f867558c3793159a81",
         "1325376076",
         "47.034331",
         "-112.561071",
         "0",
         "52",
         "0",
         "1",
         "1",
         "95.67323113819798"
        ],
        [
         "4",
         "4",
         "2019-01-01 00:03:06",
         "375534208663984",
         "fraud_Keeling-Crist",
         "misc_pos",
         "41.96",
         "Tyler",
         "Garcia",
         "M",
         "408 Bradley Rest",
         "Doe Hill",
         "VA",
         "24433",
         "38.4207",
         "-79.4629",
         "99",
         "Dance movement psychotherapist",
         "1986-03-28 00:00:00",
         "a41d7549acf90789359a9aa5346dcb46",
         "1325376186",
         "38.674999",
         "-78.632459",
         "0",
         "32",
         "0",
         "1",
         "1",
         "77.55674362581732"
        ]
       ],
       "shape": {
        "columns": 28,
        "rows": 5
       }
      },
      "text/html": [
       "<div>\n",
       "<style scoped>\n",
       "    .dataframe tbody tr th:only-of-type {\n",
       "        vertical-align: middle;\n",
       "    }\n",
       "\n",
       "    .dataframe tbody tr th {\n",
       "        vertical-align: top;\n",
       "    }\n",
       "\n",
       "    .dataframe thead th {\n",
       "        text-align: right;\n",
       "    }\n",
       "</style>\n",
       "<table border=\"1\" class=\"dataframe\">\n",
       "  <thead>\n",
       "    <tr style=\"text-align: right;\">\n",
       "      <th></th>\n",
       "      <th>Unnamed: 0</th>\n",
       "      <th>trans_date_trans_time</th>\n",
       "      <th>cc_num</th>\n",
       "      <th>merchant</th>\n",
       "      <th>category</th>\n",
       "      <th>amt</th>\n",
       "      <th>first</th>\n",
       "      <th>last</th>\n",
       "      <th>gender</th>\n",
       "      <th>street</th>\n",
       "      <th>...</th>\n",
       "      <th>trans_num</th>\n",
       "      <th>unix_time</th>\n",
       "      <th>merch_lat</th>\n",
       "      <th>merch_long</th>\n",
       "      <th>is_fraud</th>\n",
       "      <th>age</th>\n",
       "      <th>trans_hour</th>\n",
       "      <th>trans_day_of_week</th>\n",
       "      <th>trans_month</th>\n",
       "      <th>distance</th>\n",
       "    </tr>\n",
       "  </thead>\n",
       "  <tbody>\n",
       "    <tr>\n",
       "      <th>0</th>\n",
       "      <td>0</td>\n",
       "      <td>2019-01-01 00:00:18</td>\n",
       "      <td>2703186189652095</td>\n",
       "      <td>fraud_Rippin, Kub and Mann</td>\n",
       "      <td>misc_net</td>\n",
       "      <td>4.97</td>\n",
       "      <td>Jennifer</td>\n",
       "      <td>Banks</td>\n",
       "      <td>F</td>\n",
       "      <td>561 Perry Cove</td>\n",
       "      <td>...</td>\n",
       "      <td>0b242abb623afc578575680df30655b9</td>\n",
       "      <td>1325376018</td>\n",
       "      <td>36.011293</td>\n",
       "      <td>-82.048315</td>\n",
       "      <td>0</td>\n",
       "      <td>30</td>\n",
       "      <td>0</td>\n",
       "      <td>1</td>\n",
       "      <td>1</td>\n",
       "      <td>78.597568</td>\n",
       "    </tr>\n",
       "    <tr>\n",
       "      <th>1</th>\n",
       "      <td>1</td>\n",
       "      <td>2019-01-01 00:00:44</td>\n",
       "      <td>630423337322</td>\n",
       "      <td>fraud_Heller, Gutmann and Zieme</td>\n",
       "      <td>grocery_pos</td>\n",
       "      <td>107.23</td>\n",
       "      <td>Stephanie</td>\n",
       "      <td>Gill</td>\n",
       "      <td>F</td>\n",
       "      <td>43039 Riley Greens Suite 393</td>\n",
       "      <td>...</td>\n",
       "      <td>1f76529f8574734946361c461b024d99</td>\n",
       "      <td>1325376044</td>\n",
       "      <td>49.159047</td>\n",
       "      <td>-118.186462</td>\n",
       "      <td>0</td>\n",
       "      <td>40</td>\n",
       "      <td>0</td>\n",
       "      <td>1</td>\n",
       "      <td>1</td>\n",
       "      <td>30.212176</td>\n",
       "    </tr>\n",
       "    <tr>\n",
       "      <th>2</th>\n",
       "      <td>2</td>\n",
       "      <td>2019-01-01 00:00:51</td>\n",
       "      <td>38859492057661</td>\n",
       "      <td>fraud_Lind-Buckridge</td>\n",
       "      <td>entertainment</td>\n",
       "      <td>220.11</td>\n",
       "      <td>Edward</td>\n",
       "      <td>Sanchez</td>\n",
       "      <td>M</td>\n",
       "      <td>594 White Dale Suite 530</td>\n",
       "      <td>...</td>\n",
       "      <td>a1a22d70485983eac12b5b88dad1cf95</td>\n",
       "      <td>1325376051</td>\n",
       "      <td>43.150704</td>\n",
       "      <td>-112.154481</td>\n",
       "      <td>0</td>\n",
       "      <td>56</td>\n",
       "      <td>0</td>\n",
       "      <td>1</td>\n",
       "      <td>1</td>\n",
       "      <td>108.206083</td>\n",
       "    </tr>\n",
       "    <tr>\n",
       "      <th>3</th>\n",
       "      <td>3</td>\n",
       "      <td>2019-01-01 00:01:16</td>\n",
       "      <td>3534093764340240</td>\n",
       "      <td>fraud_Kutch, Hermiston and Farrell</td>\n",
       "      <td>gas_transport</td>\n",
       "      <td>45.00</td>\n",
       "      <td>Jeremy</td>\n",
       "      <td>White</td>\n",
       "      <td>M</td>\n",
       "      <td>9443 Cynthia Court Apt. 038</td>\n",
       "      <td>...</td>\n",
       "      <td>6b849c168bdad6f867558c3793159a81</td>\n",
       "      <td>1325376076</td>\n",
       "      <td>47.034331</td>\n",
       "      <td>-112.561071</td>\n",
       "      <td>0</td>\n",
       "      <td>52</td>\n",
       "      <td>0</td>\n",
       "      <td>1</td>\n",
       "      <td>1</td>\n",
       "      <td>95.673231</td>\n",
       "    </tr>\n",
       "    <tr>\n",
       "      <th>4</th>\n",
       "      <td>4</td>\n",
       "      <td>2019-01-01 00:03:06</td>\n",
       "      <td>375534208663984</td>\n",
       "      <td>fraud_Keeling-Crist</td>\n",
       "      <td>misc_pos</td>\n",
       "      <td>41.96</td>\n",
       "      <td>Tyler</td>\n",
       "      <td>Garcia</td>\n",
       "      <td>M</td>\n",
       "      <td>408 Bradley Rest</td>\n",
       "      <td>...</td>\n",
       "      <td>a41d7549acf90789359a9aa5346dcb46</td>\n",
       "      <td>1325376186</td>\n",
       "      <td>38.674999</td>\n",
       "      <td>-78.632459</td>\n",
       "      <td>0</td>\n",
       "      <td>32</td>\n",
       "      <td>0</td>\n",
       "      <td>1</td>\n",
       "      <td>1</td>\n",
       "      <td>77.556744</td>\n",
       "    </tr>\n",
       "  </tbody>\n",
       "</table>\n",
       "<p>5 rows × 28 columns</p>\n",
       "</div>"
      ],
      "text/plain": [
       "   Unnamed: 0 trans_date_trans_time            cc_num  \\\n",
       "0           0   2019-01-01 00:00:18  2703186189652095   \n",
       "1           1   2019-01-01 00:00:44      630423337322   \n",
       "2           2   2019-01-01 00:00:51    38859492057661   \n",
       "3           3   2019-01-01 00:01:16  3534093764340240   \n",
       "4           4   2019-01-01 00:03:06   375534208663984   \n",
       "\n",
       "                             merchant       category     amt      first  \\\n",
       "0          fraud_Rippin, Kub and Mann       misc_net    4.97   Jennifer   \n",
       "1     fraud_Heller, Gutmann and Zieme    grocery_pos  107.23  Stephanie   \n",
       "2                fraud_Lind-Buckridge  entertainment  220.11     Edward   \n",
       "3  fraud_Kutch, Hermiston and Farrell  gas_transport   45.00     Jeremy   \n",
       "4                 fraud_Keeling-Crist       misc_pos   41.96      Tyler   \n",
       "\n",
       "      last gender                        street  ...  \\\n",
       "0    Banks      F                561 Perry Cove  ...   \n",
       "1     Gill      F  43039 Riley Greens Suite 393  ...   \n",
       "2  Sanchez      M      594 White Dale Suite 530  ...   \n",
       "3    White      M   9443 Cynthia Court Apt. 038  ...   \n",
       "4   Garcia      M              408 Bradley Rest  ...   \n",
       "\n",
       "                          trans_num   unix_time  merch_lat  merch_long  \\\n",
       "0  0b242abb623afc578575680df30655b9  1325376018  36.011293  -82.048315   \n",
       "1  1f76529f8574734946361c461b024d99  1325376044  49.159047 -118.186462   \n",
       "2  a1a22d70485983eac12b5b88dad1cf95  1325376051  43.150704 -112.154481   \n",
       "3  6b849c168bdad6f867558c3793159a81  1325376076  47.034331 -112.561071   \n",
       "4  a41d7549acf90789359a9aa5346dcb46  1325376186  38.674999  -78.632459   \n",
       "\n",
       "   is_fraud  age trans_hour trans_day_of_week trans_month    distance  \n",
       "0         0   30          0                 1           1   78.597568  \n",
       "1         0   40          0                 1           1   30.212176  \n",
       "2         0   56          0                 1           1  108.206083  \n",
       "3         0   52          0                 1           1   95.673231  \n",
       "4         0   32          0                 1           1   77.556744  \n",
       "\n",
       "[5 rows x 28 columns]"
      ]
     },
     "execution_count": 9,
     "metadata": {},
     "output_type": "execute_result"
    }
   ],
   "source": [
    "df_train.head()"
   ]
  },
  {
   "cell_type": "markdown",
   "id": "ce1b53a3",
   "metadata": {},
   "source": [
    "The following features are not needed:\n",
    "- \"Unnamed: 0\"\n",
    "- \"trans_date_trans_time\"\n",
    "- \"cc_num\"\n",
    "- \"first\"\n",
    "- \"last\"\n",
    "- \"lat\"\n",
    "- \"long\"\n",
    "- \"dob\"\n",
    "- \"trans_num\"\n",
    "- \"unix_time\"\n",
    "- \"merch_lat\"\n",
    "- \"merch_long\""
   ]
  },
  {
   "cell_type": "code",
   "execution_count": 10,
   "id": "d620cc72",
   "metadata": {},
   "outputs": [],
   "source": [
    "df_train = df_train.drop(\n",
    "    columns=[\n",
    "        \"Unnamed: 0\",\n",
    "        \"trans_date_trans_time\",\n",
    "        \"cc_num\",\n",
    "        \"first\",\n",
    "        \"last\",\n",
    "        \"lat\",\n",
    "        \"long\",\n",
    "        \"dob\",\n",
    "        \"trans_num\",\n",
    "        \"unix_time\",\n",
    "        \"merch_lat\",\n",
    "        \"merch_long\",\n",
    "    ]\n",
    ")\n",
    "df_test = df_test.drop(\n",
    "    columns=[\n",
    "        \"Unnamed: 0\",\n",
    "        \"trans_date_trans_time\",\n",
    "        \"cc_num\",\n",
    "        \"first\",\n",
    "        \"last\",\n",
    "        \"lat\",\n",
    "        \"long\",\n",
    "        \"dob\",\n",
    "        \"trans_num\",\n",
    "        \"unix_time\",\n",
    "        \"merch_lat\",\n",
    "        \"merch_long\",\n",
    "    ]\n",
    ")"
   ]
  },
  {
   "cell_type": "code",
   "execution_count": 11,
   "id": "72c4642e",
   "metadata": {},
   "outputs": [
    {
     "name": "stdout",
     "output_type": "stream",
     "text": [
      "Train data shape: (1296675, 16) | Test data shape: (555719, 16)\n"
     ]
    }
   ],
   "source": [
    "print(f\"Train data shape: {df_train.shape} | Test data shape: {df_test.shape}\")"
   ]
  },
  {
   "cell_type": "markdown",
   "id": "9e99ce29",
   "metadata": {},
   "source": [
    "### Standardisation\n",
    "Some machine learning models, such as Linear Regression (especially with regularisation), K-Nearest Neighbours (KNN), and Support Vector Machines (SVM), are sensitive to the scale of input features because they compute distances or rely on dot products. Therefore, feature scaling is essential to ensure fair contribution of each feature and to avoid biased results. Tree-based models (e.g., Random Forests, XGBoost) are generally robust to feature scaling, but scaling can still help with convergence speed and interpretability.\n",
    "\n",
    "Standardisation is generally preferred for most algorithms when features are normally distributed or when using regularised models. Normalisation would be useful if the data are not Gaussian or when we want all features strictly in the same range (e.g., for neural networks)\n",
    "\n",
    "- Scale all numerical features (including boolean features).\n",
    "- Always fit the scaler **only on training features** (X_train) and use it to transform test features (X_test).\n",
    "- `.fit_transform(X_train)` and `.transform(X_test)`\n",
    "- Do not scale the target variable unless there is a specific reason.\n",
    "    - If the target variable needs to be scaled, invert the transformation before interpreting results.\n",
    "- If features are transformed with `LabelEncoder()`, they should not be scaled as it can mislead algorithms into interpreting them as ordinal or continuous.\n",
    "\n",
    "\n",
    "This process will be included in Pipeline."
   ]
  },
  {
   "cell_type": "markdown",
   "id": "33adc172",
   "metadata": {},
   "source": [
    "## 4. Exploratory Data Analysis"
   ]
  },
  {
   "cell_type": "code",
   "execution_count": 12,
   "id": "51e4b3f2",
   "metadata": {},
   "outputs": [],
   "source": [
    "def plot_correlation_matrix(\n",
    "    df: pd.DataFrame, method: str = \"pearson\", annot: bool = True\n",
    ") -> None:\n",
    "    \"\"\"\n",
    "    Plot a correlation matrix heatmap for all numerical columns in a DataFrame.\n",
    "\n",
    "    Args:\n",
    "        df: The input DataFrame containing the dataset.\n",
    "        method: The correlation method to use. Supported values are\n",
    "            'pearson', 'kendall', and 'spearman'. Defaults to 'pearson'.\n",
    "        annot: Whether to display the correlation coefficients as annotations\n",
    "            on the heatmap. Defaults to True.\n",
    "    \"\"\"\n",
    "    num_columns = df.select_dtypes(include=\"number\")\n",
    "    plt.figure(figsize=(12, 8))\n",
    "    corr = num_columns.corr(method=method)\n",
    "    sns.heatmap(corr, annot=annot, fmt=\".2f\", cmap=\"coolwarm\", square=True)\n",
    "    plt.title(f\"{method.title()} Correlation Matrix\", fontsize=12)\n",
    "    plt.xticks(rotation=45, ha=\"right\")\n",
    "    plt.yticks()\n",
    "    plt.tight_layout()\n",
    "    plt.show()"
   ]
  },
  {
   "cell_type": "code",
   "execution_count": 13,
   "id": "c954fad8",
   "metadata": {},
   "outputs": [
    {
     "data": {
      "image/png": "[encoded data removed]",
      "text/plain": [
       "<Figure size 1200x800 with 2 Axes>"
      ]
     },
     "metadata": {},
     "output_type": "display_data"
    }
   ],
   "source": [
    "plot_correlation_matrix(df_train)"
   ]
  },
  {
   "cell_type": "markdown",
   "id": "ccfecbc8",
   "metadata": {},
   "source": [
    "Upon investigating the training dataset, the Pearson correlation matrix reveals a slightly positive correlation between the target variable (`is_fraud`) and the transaction amount (`amt`)."
   ]
  },
  {
   "cell_type": "code",
   "execution_count": 14,
   "id": "033978dc",
   "metadata": {},
   "outputs": [
    {
     "data": {
      "image/png": "[encoded data removed]",
      "text/plain": [
       "<Figure size 640x480 with 1 Axes>"
      ]
     },
     "metadata": {},
     "output_type": "display_data"
    }
   ],
   "source": [
    "ax = sns.countplot(df_train, x=\"is_fraud\", hue=\"is_fraud\", palette=\"Set2\")\n",
    "for container in ax.containers:\n",
    "    ax.bar_label(container, fontsize=12)\n",
    "plt.show()"
   ]
  },
  {
   "cell_type": "markdown",
   "id": "0ab399fe",
   "metadata": {},
   "source": [
    "The severe imbalance of the target value may result in poor predictive performance, especially for minority class. To address this issue, we can either **oversample the minority class** or **undersamble the majority class** during training process. "
   ]
  },
  {
   "cell_type": "code",
   "execution_count": 15,
   "id": "7b4a7272",
   "metadata": {},
   "outputs": [
    {
     "data": {
      "image/png": "[encoded data removed]",
      "text/plain": [
       "<Figure size 640x480 with 1 Axes>"
      ]
     },
     "metadata": {},
     "output_type": "display_data"
    }
   ],
   "source": [
    "# Create a df only with fraudulent transactions\n",
    "fraud_df = df_train[df_train[\"is_fraud\"] == 1]\n",
    "\n",
    "# Get the top 10 categories by frequency among fraudulent transactions\n",
    "top_categories = fraud_df[\"category\"].value_counts().index[:10]\n",
    "ax = sns.countplot(\n",
    "    data=fraud_df,\n",
    "    y=\"category\",\n",
    "    order=top_categories,\n",
    "    hue=\"category\",\n",
    "    palette=\"Set2\",\n",
    ")\n",
    "for container in ax.containers:\n",
    "    ax.bar_label(container, fontsize=12)\n",
    "\n",
    "plt.title(\"Top 10 Popular Categories for Fraudulent Transaction\")\n",
    "plt.xlabel(\"Transaction Count\")\n",
    "plt.ylabel(\"Category\")\n",
    "plt.tight_layout()\n",
    "plt.show()"
   ]
  },
  {
   "cell_type": "markdown",
   "id": "1e1f9957",
   "metadata": {},
   "source": [
    "`grocery_pos` and `shopping_net` are by far the most prevalent categories for fraudulent transactions, suggesting that fraudsters may target everyday spending or online shopping platforms. Both online (e.g., `shopping_net`, `misc_net`) and physical point-of-sale (e.g., `grocery_pos`, `shopping_pos`) categories feature prominently, indicating that fraud is not limited to a single transaction channel."
   ]
  },
  {
   "cell_type": "code",
   "execution_count": 16,
   "id": "830490d1",
   "metadata": {},
   "outputs": [
    {
     "data": {
      "image/png": "[encoded data removed]",
      "text/plain": [
       "<Figure size 640x480 with 1 Axes>"
      ]
     },
     "metadata": {},
     "output_type": "display_data"
    }
   ],
   "source": [
    "# Group by 'is_fraud' and calculate the mean transaction amount\n",
    "average_amt_fraud = df_train.groupby(\"is_fraud\")[\"amt\"].mean().reset_index()\n",
    "\n",
    "# Rename columns for clarity\n",
    "average_amt_fraud.columns = [\"is_fraud\", \"average_amt\"]\n",
    "\n",
    "# Plotting the average transaction amount by fraud status\n",
    "ax = sns.barplot(\n",
    "    data=average_amt_fraud,\n",
    "    x=\"is_fraud\",\n",
    "    y=\"average_amt\",\n",
    "    hue=\"is_fraud\",\n",
    "    palette=\"Set2\",\n",
    ")\n",
    "\n",
    "# Add value labels on each bar\n",
    "for container in ax.containers:\n",
    "    ax.bar_label(container, fmt=\"%.2f\", fontsize=12)\n",
    "\n",
    "plt.title(\"Average Transaction Amount by Fraud Status\")\n",
    "plt.xlabel(\"Fraud Status (0 = Non-Fraudulent, 1 = Fraudulent)\")\n",
    "plt.ylabel(\"Average Transaction Amount\")\n",
    "plt.tight_layout()\n",
    "plt.show()\n"
   ]
  },
  {
   "cell_type": "markdown",
   "id": "06b185e0",
   "metadata": {},
   "source": [
    "The average amount for fraudulent transactions is approximately eight times greater than that for non-fraudulent transactions. This substantial difference suggests that fraudsters are more likely to attempt larget transactions, possibly to maximise their gain from each fraudulent activity."
   ]
  },
  {
   "cell_type": "code",
   "execution_count": 17,
   "id": "835f58d7",
   "metadata": {},
   "outputs": [
    {
     "data": {
      "image/png": "[encoded data removed]",
      "text/plain": [
       "<Figure size 640x480 with 1 Axes>"
      ]
     },
     "metadata": {},
     "output_type": "display_data"
    }
   ],
   "source": [
    "# Group by 'is_fraud' and calculate the mean age\n",
    "average_amt_fraud = df_train.groupby(\"is_fraud\")[\"age\"].mean().reset_index()\n",
    "\n",
    "# Rename columns for clarity\n",
    "average_amt_fraud.columns = [\"is_fraud\", \"average_age\"]\n",
    "\n",
    "# Plotting the average transaction amount by fraud status\n",
    "ax = sns.barplot(\n",
    "    data=average_amt_fraud,\n",
    "    x=\"is_fraud\",\n",
    "    y=\"average_age\",\n",
    "    hue=\"is_fraud\",\n",
    "    palette=\"Set2\",\n",
    ")\n",
    "\n",
    "# Add value labels on each bar\n",
    "for container in ax.containers:\n",
    "    ax.bar_label(container, fmt=\"%.2f\", fontsize=12)\n",
    "\n",
    "plt.title(\"Average Age by Fraud Status\")\n",
    "plt.xlabel(\"Fraud Status (0 = Non-Fraudulent, 1 = Fraudulent)\")\n",
    "plt.ylabel(\"Average Transaction Amount\")\n",
    "plt.tight_layout()\n",
    "plt.show()"
   ]
  },
  {
   "cell_type": "markdown",
   "id": "56f96e5e",
   "metadata": {},
   "source": [
    "Although the difference in average age is not dramatic, it may indicate that slightly older individuals are either more likely to be targeted by, or involved in fraudulent activities."
   ]
  },
  {
   "cell_type": "code",
   "execution_count": 18,
   "id": "737fee75",
   "metadata": {},
   "outputs": [],
   "source": [
    "# Encode categorical variables using LabelEncoder\n",
    "from sklearn.preprocessing import LabelEncoder\n",
    "\n",
    "X_train = df_train.drop(columns=[\"is_fraud\"])\n",
    "y_train = df_train[\"is_fraud\"]\n",
    "\n",
    "X_test = df_test.drop(columns=[\"is_fraud\"])\n",
    "y_test = df_test[\"is_fraud\"]\n",
    "\n",
    "categorical_cols = X_train.select_dtypes(include=[\"object\"]).columns.tolist()\n",
    "\n",
    "label_encoder = LabelEncoder()\n",
    "for col in categorical_cols:\n",
    "    # Fit LabelEncoder on the union of train and test data to avoid unseen labels\n",
    "    combined = pd.concat([X_train[col], X_test[col]])\n",
    "    label_encoder.fit(combined)\n",
    "\n",
    "    # Transform both train and test data\n",
    "    X_train[col] = label_encoder.transform(X_train[col])\n",
    "    X_test[col] = label_encoder.transform(X_test[col])"
   ]
  },
  {
   "cell_type": "code",
   "execution_count": 19,
   "id": "87f7de7e",
   "metadata": {},
   "outputs": [
    {
     "data": {
      "application/vnd.microsoft.datawrangler.viewer.v0+json": {
       "columns": [
        {
         "name": "index",
         "rawType": "int64",
         "type": "integer"
        },
        {
         "name": "merchant",
         "rawType": "int64",
         "type": "integer"
        },
        {
         "name": "category",
         "rawType": "int64",
         "type": "integer"
        },
        {
         "name": "amt",
         "rawType": "float64",
         "type": "float"
        },
        {
         "name": "gender",
         "rawType": "int64",
         "type": "integer"
        },
        {
         "name": "street",
         "rawType": "int64",
         "type": "integer"
        },
        {
         "name": "city",
         "rawType": "int64",
         "type": "integer"
        },
        {
         "name": "state",
         "rawType": "int64",
         "type": "integer"
        },
        {
         "name": "zip",
         "rawType": "int64",
         "type": "integer"
        },
        {
         "name": "city_pop",
         "rawType": "int64",
         "type": "integer"
        },
        {
         "name": "job",
         "rawType": "int64",
         "type": "integer"
        },
        {
         "name": "age",
         "rawType": "int64",
         "type": "integer"
        },
        {
         "name": "trans_hour",
         "rawType": "int32",
         "type": "integer"
        },
        {
         "name": "trans_day_of_week",
         "rawType": "int32",
         "type": "integer"
        },
        {
         "name": "trans_month",
         "rawType": "int32",
         "type": "integer"
        },
        {
         "name": "distance",
         "rawType": "float64",
         "type": "float"
        }
       ],
       "ref": "4497a6b7-a467-4e67-a6f1-c3e33e07b6f6",
       "rows": [
        [
         "0",
         "514",
         "8",
         "4.97",
         "0",
         "576",
         "532",
         "27",
         "28654",
         "3495",
         "372",
         "30",
         "0",
         "1",
         "1",
         "78.59756848823127"
        ],
        [
         "1",
         "241",
         "4",
         "107.23",
         "0",
         "439",
         "619",
         "47",
         "99160",
         "149",
         "431",
         "40",
         "0",
         "1",
         "1",
         "30.21217571921031"
        ],
        [
         "2",
         "390",
         "0",
         "220.11",
         "1",
         "610",
         "474",
         "13",
         "83252",
         "4154",
         "308",
         "56",
         "0",
         "1",
         "1",
         "108.20608258720075"
        ],
        [
         "3",
         "360",
         "2",
         "45.0",
         "1",
         "945",
         "84",
         "26",
         "59632",
         "1939",
         "330",
         "52",
         "0",
         "1",
         "1",
         "95.67323113819798"
        ],
        [
         "4",
         "297",
         "9",
         "41.96",
         "1",
         "422",
         "217",
         "45",
         "24433",
         "99",
         "116",
         "32",
         "0",
         "1",
         "1",
         "77.55674362581732"
        ]
       ],
       "shape": {
        "columns": 15,
        "rows": 5
       }
      },
      "text/html": [
       "<div>\n",
       "<style scoped>\n",
       "    .dataframe tbody tr th:only-of-type {\n",
       "        vertical-align: middle;\n",
       "    }\n",
       "\n",
       "    .dataframe tbody tr th {\n",
       "        vertical-align: top;\n",
       "    }\n",
       "\n",
       "    .dataframe thead th {\n",
       "        text-align: right;\n",
       "    }\n",
       "</style>\n",
       "<table border=\"1\" class=\"dataframe\">\n",
       "  <thead>\n",
       "    <tr style=\"text-align: right;\">\n",
       "      <th></th>\n",
       "      <th>merchant</th>\n",
       "      <th>category</th>\n",
       "      <th>amt</th>\n",
       "      <th>gender</th>\n",
       "      <th>street</th>\n",
       "      <th>city</th>\n",
       "      <th>state</th>\n",
       "      <th>zip</th>\n",
       "      <th>city_pop</th>\n",
       "      <th>job</th>\n",
       "      <th>age</th>\n",
       "      <th>trans_hour</th>\n",
       "      <th>trans_day_of_week</th>\n",
       "      <th>trans_month</th>\n",
       "      <th>distance</th>\n",
       "    </tr>\n",
       "  </thead>\n",
       "  <tbody>\n",
       "    <tr>\n",
       "      <th>0</th>\n",
       "      <td>514</td>\n",
       "      <td>8</td>\n",
       "      <td>4.97</td>\n",
       "      <td>0</td>\n",
       "      <td>576</td>\n",
       "      <td>532</td>\n",
       "      <td>27</td>\n",
       "      <td>28654</td>\n",
       "      <td>3495</td>\n",
       "      <td>372</td>\n",
       "      <td>30</td>\n",
       "      <td>0</td>\n",
       "      <td>1</td>\n",
       "      <td>1</td>\n",
       "      <td>78.597568</td>\n",
       "    </tr>\n",
       "    <tr>\n",
       "      <th>1</th>\n",
       "      <td>241</td>\n",
       "      <td>4</td>\n",
       "      <td>107.23</td>\n",
       "      <td>0</td>\n",
       "      <td>439</td>\n",
       "      <td>619</td>\n",
       "      <td>47</td>\n",
       "      <td>99160</td>\n",
       "      <td>149</td>\n",
       "      <td>431</td>\n",
       "      <td>40</td>\n",
       "      <td>0</td>\n",
       "      <td>1</td>\n",
       "      <td>1</td>\n",
       "      <td>30.212176</td>\n",
       "    </tr>\n",
       "    <tr>\n",
       "      <th>2</th>\n",
       "      <td>390</td>\n",
       "      <td>0</td>\n",
       "      <td>220.11</td>\n",
       "      <td>1</td>\n",
       "      <td>610</td>\n",
       "      <td>474</td>\n",
       "      <td>13</td>\n",
       "      <td>83252</td>\n",
       "      <td>4154</td>\n",
       "      <td>308</td>\n",
       "      <td>56</td>\n",
       "      <td>0</td>\n",
       "      <td>1</td>\n",
       "      <td>1</td>\n",
       "      <td>108.206083</td>\n",
       "    </tr>\n",
       "    <tr>\n",
       "      <th>3</th>\n",
       "      <td>360</td>\n",
       "      <td>2</td>\n",
       "      <td>45.00</td>\n",
       "      <td>1</td>\n",
       "      <td>945</td>\n",
       "      <td>84</td>\n",
       "      <td>26</td>\n",
       "      <td>59632</td>\n",
       "      <td>1939</td>\n",
       "      <td>330</td>\n",
       "      <td>52</td>\n",
       "      <td>0</td>\n",
       "      <td>1</td>\n",
       "      <td>1</td>\n",
       "      <td>95.673231</td>\n",
       "    </tr>\n",
       "    <tr>\n",
       "      <th>4</th>\n",
       "      <td>297</td>\n",
       "      <td>9</td>\n",
       "      <td>41.96</td>\n",
       "      <td>1</td>\n",
       "      <td>422</td>\n",
       "      <td>217</td>\n",
       "      <td>45</td>\n",
       "      <td>24433</td>\n",
       "      <td>99</td>\n",
       "      <td>116</td>\n",
       "      <td>32</td>\n",
       "      <td>0</td>\n",
       "      <td>1</td>\n",
       "      <td>1</td>\n",
       "      <td>77.556744</td>\n",
       "    </tr>\n",
       "  </tbody>\n",
       "</table>\n",
       "</div>"
      ],
      "text/plain": [
       "   merchant  category     amt  gender  street  city  state    zip  city_pop  \\\n",
       "0       514         8    4.97       0     576   532     27  28654      3495   \n",
       "1       241         4  107.23       0     439   619     47  99160       149   \n",
       "2       390         0  220.11       1     610   474     13  83252      4154   \n",
       "3       360         2   45.00       1     945    84     26  59632      1939   \n",
       "4       297         9   41.96       1     422   217     45  24433        99   \n",
       "\n",
       "   job  age  trans_hour  trans_day_of_week  trans_month    distance  \n",
       "0  372   30           0                  1            1   78.597568  \n",
       "1  431   40           0                  1            1   30.212176  \n",
       "2  308   56           0                  1            1  108.206083  \n",
       "3  330   52           0                  1            1   95.673231  \n",
       "4  116   32           0                  1            1   77.556744  "
      ]
     },
     "execution_count": 19,
     "metadata": {},
     "output_type": "execute_result"
    }
   ],
   "source": [
    "X_train.head()"
   ]
  },
  {
   "cell_type": "code",
   "execution_count": 20,
   "id": "2c2e9d16",
   "metadata": {},
   "outputs": [
    {
     "data": {
      "application/vnd.microsoft.datawrangler.viewer.v0+json": {
       "columns": [
        {
         "name": "index",
         "rawType": "int64",
         "type": "integer"
        },
        {
         "name": "merchant",
         "rawType": "int64",
         "type": "integer"
        },
        {
         "name": "category",
         "rawType": "int64",
         "type": "integer"
        },
        {
         "name": "amt",
         "rawType": "float64",
         "type": "float"
        },
        {
         "name": "gender",
         "rawType": "int64",
         "type": "integer"
        },
        {
         "name": "street",
         "rawType": "int64",
         "type": "integer"
        },
        {
         "name": "city",
         "rawType": "int64",
         "type": "integer"
        },
        {
         "name": "state",
         "rawType": "int64",
         "type": "integer"
        },
        {
         "name": "zip",
         "rawType": "int64",
         "type": "integer"
        },
        {
         "name": "city_pop",
         "rawType": "int64",
         "type": "integer"
        },
        {
         "name": "job",
         "rawType": "int64",
         "type": "integer"
        },
        {
         "name": "age",
         "rawType": "int64",
         "type": "integer"
        },
        {
         "name": "trans_hour",
         "rawType": "int32",
         "type": "integer"
        },
        {
         "name": "trans_day_of_week",
         "rawType": "int32",
         "type": "integer"
        },
        {
         "name": "trans_month",
         "rawType": "int32",
         "type": "integer"
        },
        {
         "name": "distance",
         "rawType": "float64",
         "type": "float"
        }
       ],
       "ref": "dbeff850-e6c0-4d4c-8b18-7f5f2b2777c0",
       "rows": [
        [
         "0",
         "319",
         "10",
         "2.86",
         "1",
         "364",
         "168",
         "40",
         "29209",
         "333497",
         "288",
         "52",
         "12",
         "6",
         "6",
         "24.56146172635611"
        ],
        [
         "1",
         "591",
         "10",
         "29.84",
         "0",
         "378",
         "16",
         "44",
         "84002",
         "302",
         "406",
         "30",
         "12",
         "6",
         "6",
         "104.92509224476265"
        ],
        [
         "2",
         "611",
         "5",
         "41.28",
         "0",
         "935",
         "64",
         "34",
         "11710",
         "34496",
         "272",
         "49",
         "12",
         "6",
         "6",
         "59.080077729215276"
        ],
        [
         "3",
         "222",
         "9",
         "60.05",
         "1",
         "339",
         "814",
         "9",
         "32780",
         "54767",
         "422",
         "32",
         "12",
         "6",
         "6",
         "27.698567290865316"
        ],
        [
         "4",
         "292",
         "13",
         "3.19",
         "1",
         "591",
         "262",
         "22",
         "49632",
         "1126",
         "205",
         "65",
         "12",
         "6",
         "6",
         "104.33510630013811"
        ]
       ],
       "shape": {
        "columns": 15,
        "rows": 5
       }
      },
      "text/html": [
       "<div>\n",
       "<style scoped>\n",
       "    .dataframe tbody tr th:only-of-type {\n",
       "        vertical-align: middle;\n",
       "    }\n",
       "\n",
       "    .dataframe tbody tr th {\n",
       "        vertical-align: top;\n",
       "    }\n",
       "\n",
       "    .dataframe thead th {\n",
       "        text-align: right;\n",
       "    }\n",
       "</style>\n",
       "<table border=\"1\" class=\"dataframe\">\n",
       "  <thead>\n",
       "    <tr style=\"text-align: right;\">\n",
       "      <th></th>\n",
       "      <th>merchant</th>\n",
       "      <th>category</th>\n",
       "      <th>amt</th>\n",
       "      <th>gender</th>\n",
       "      <th>street</th>\n",
       "      <th>city</th>\n",
       "      <th>state</th>\n",
       "      <th>zip</th>\n",
       "      <th>city_pop</th>\n",
       "      <th>job</th>\n",
       "      <th>age</th>\n",
       "      <th>trans_hour</th>\n",
       "      <th>trans_day_of_week</th>\n",
       "      <th>trans_month</th>\n",
       "      <th>distance</th>\n",
       "    </tr>\n",
       "  </thead>\n",
       "  <tbody>\n",
       "    <tr>\n",
       "      <th>0</th>\n",
       "      <td>319</td>\n",
       "      <td>10</td>\n",
       "      <td>2.86</td>\n",
       "      <td>1</td>\n",
       "      <td>364</td>\n",
       "      <td>168</td>\n",
       "      <td>40</td>\n",
       "      <td>29209</td>\n",
       "      <td>333497</td>\n",
       "      <td>288</td>\n",
       "      <td>52</td>\n",
       "      <td>12</td>\n",
       "      <td>6</td>\n",
       "      <td>6</td>\n",
       "      <td>24.561462</td>\n",
       "    </tr>\n",
       "    <tr>\n",
       "      <th>1</th>\n",
       "      <td>591</td>\n",
       "      <td>10</td>\n",
       "      <td>29.84</td>\n",
       "      <td>0</td>\n",
       "      <td>378</td>\n",
       "      <td>16</td>\n",
       "      <td>44</td>\n",
       "      <td>84002</td>\n",
       "      <td>302</td>\n",
       "      <td>406</td>\n",
       "      <td>30</td>\n",
       "      <td>12</td>\n",
       "      <td>6</td>\n",
       "      <td>6</td>\n",
       "      <td>104.925092</td>\n",
       "    </tr>\n",
       "    <tr>\n",
       "      <th>2</th>\n",
       "      <td>611</td>\n",
       "      <td>5</td>\n",
       "      <td>41.28</td>\n",
       "      <td>0</td>\n",
       "      <td>935</td>\n",
       "      <td>64</td>\n",
       "      <td>34</td>\n",
       "      <td>11710</td>\n",
       "      <td>34496</td>\n",
       "      <td>272</td>\n",
       "      <td>49</td>\n",
       "      <td>12</td>\n",
       "      <td>6</td>\n",
       "      <td>6</td>\n",
       "      <td>59.080078</td>\n",
       "    </tr>\n",
       "    <tr>\n",
       "      <th>3</th>\n",
       "      <td>222</td>\n",
       "      <td>9</td>\n",
       "      <td>60.05</td>\n",
       "      <td>1</td>\n",
       "      <td>339</td>\n",
       "      <td>814</td>\n",
       "      <td>9</td>\n",
       "      <td>32780</td>\n",
       "      <td>54767</td>\n",
       "      <td>422</td>\n",
       "      <td>32</td>\n",
       "      <td>12</td>\n",
       "      <td>6</td>\n",
       "      <td>6</td>\n",
       "      <td>27.698567</td>\n",
       "    </tr>\n",
       "    <tr>\n",
       "      <th>4</th>\n",
       "      <td>292</td>\n",
       "      <td>13</td>\n",
       "      <td>3.19</td>\n",
       "      <td>1</td>\n",
       "      <td>591</td>\n",
       "      <td>262</td>\n",
       "      <td>22</td>\n",
       "      <td>49632</td>\n",
       "      <td>1126</td>\n",
       "      <td>205</td>\n",
       "      <td>65</td>\n",
       "      <td>12</td>\n",
       "      <td>6</td>\n",
       "      <td>6</td>\n",
       "      <td>104.335106</td>\n",
       "    </tr>\n",
       "  </tbody>\n",
       "</table>\n",
       "</div>"
      ],
      "text/plain": [
       "   merchant  category    amt  gender  street  city  state    zip  city_pop  \\\n",
       "0       319        10   2.86       1     364   168     40  29209    333497   \n",
       "1       591        10  29.84       0     378    16     44  84002       302   \n",
       "2       611         5  41.28       0     935    64     34  11710     34496   \n",
       "3       222         9  60.05       1     339   814      9  32780     54767   \n",
       "4       292        13   3.19       1     591   262     22  49632      1126   \n",
       "\n",
       "   job  age  trans_hour  trans_day_of_week  trans_month    distance  \n",
       "0  288   52          12                  6            6   24.561462  \n",
       "1  406   30          12                  6            6  104.925092  \n",
       "2  272   49          12                  6            6   59.080078  \n",
       "3  422   32          12                  6            6   27.698567  \n",
       "4  205   65          12                  6            6  104.335106  "
      ]
     },
     "execution_count": 20,
     "metadata": {},
     "output_type": "execute_result"
    }
   ],
   "source": [
    "X_test.head()"
   ]
  },
  {
   "cell_type": "markdown",
   "id": "4b7af69d",
   "metadata": {},
   "source": [
    "## 5. Predictive Modelling\n",
    "For this regression tasks, the following three regressors will be compared and evaluted:\n",
    "- Random Forest Classifier\n",
    "- LightGBM Classifier\n",
    "- XGBoost Classifier\n",
    "\n",
    "### Using Pipeline for Preprocessing\n",
    "Pipelines ensure that all transformations are applied consistently and reproducibly, reduce the risk of data leakage and make the code cleaner. With `.ColumnTransformer()`, we can scale only the specified columns while leaving the other columns unchanged. This approach is ideal for this prediction task, as we need to apply standard scaler to some numerical features, excluding those transformed by `LabelEncoder()` to avoid misinterpreting categorical labels as continuous or ordinal labels."
   ]
  },
  {
   "cell_type": "code",
   "execution_count": 21,
   "id": "26f798c6",
   "metadata": {},
   "outputs": [],
   "source": [
    "from sklearn.preprocessing import StandardScaler\n",
    "from sklearn.compose import ColumnTransformer\n",
    "\n",
    "columns_to_standardise = [\n",
    "    \"amt\",\n",
    "    \"age\",\n",
    "    \"distance\",\n",
    "    \"trans_hour\",\n",
    "    \"trans_day_of_week\",\n",
    "    \"trans_month\",\n",
    "]\n",
    "\n",
    "# Create a ColumnTransformer for scaling only the specified columns\n",
    "preprocessor = ColumnTransformer(\n",
    "    transformers=[(\"num\", StandardScaler(), columns_to_standardise)],\n",
    "    remainder=\"passthrough\",  # Leave other columns unchanged\n",
    ")"
   ]
  },
  {
   "cell_type": "markdown",
   "id": "63a4eecd",
   "metadata": {},
   "source": [
    "### Hyperparameter Tuning\n",
    "Optimisation of hyperparameters is essential to obtain the best performance from machine learning models. **Grid Search** or **Random Search** is typically used to find the best hyperparameters with cross-validation.\n",
    "\n",
    "We use the stratified K-Fold cross-validator `StratifiedKFold()`. With this approach, each fold maintains approximately the same percentage of samples for each class as found in the original dataset. This technique is especially suitable for classification problems with imbalanced classes, preventing bias caused by random splitting and ensuring fair evaluation of all classes.\n",
    "\n",
    "Instead of manually repeating the hyperparameter tuning process for each model under evaluation, we can employ a `Pipeline` to automate the entire workflow. A pipeline establishes a structured sequence for data preprocessing, model building, and evaluation. This approach enables us to modularise the machine learning process, making it significantly more efficient and scalable."
   ]
  },
  {
   "cell_type": "code",
   "execution_count": 22,
   "id": "5f378d66",
   "metadata": {},
   "outputs": [],
   "source": [
    "from sklearn.ensemble import RandomForestClassifier\n",
    "from lightgbm import LGBMClassifier\n",
    "from xgboost import XGBClassifier"
   ]
  },
  {
   "cell_type": "code",
   "execution_count": 23,
   "id": "aa4ce4e9",
   "metadata": {},
   "outputs": [],
   "source": [
    "classifiers = {\n",
    "    \"Random Forest\": RandomForestClassifier(random_state=42, n_jobs=-1),\n",
    "    \"LightGBM\": LGBMClassifier(random_state=42, verbose=-1, n_jobs=-1),\n",
    "    \"XGBoost\": XGBClassifier(eval_metric=\"logloss\", random_state=42, n_jobs=-1),\n",
    "}\n",
    "\n",
    "\n",
    "param_grids = {\n",
    "    \"Random Forest\": {\n",
    "        \"clf__n_estimators\": [25, 50],\n",
    "    },\n",
    "    \"LightGBM\": {\n",
    "        \"clf__n_estimators\": [200, 300],\n",
    "        \"clf__learning_rate\": [0.1, 0.2],\n",
    "    },\n",
    "    \"XGBoost\": {\n",
    "        \"clf__n_estimators\": [200, 300],\n",
    "        \"clf__learning_rate\": [0.1, 0.2],\n",
    "    },\n",
    "}\n"
   ]
  },
  {
   "cell_type": "markdown",
   "id": "6a34c1c7",
   "metadata": {},
   "source": [
    "As mentioned in [4. Exploratory Data Analysis](#4-exploratory-data-analysis), the target variable shows class imbalance, which may result in misleading performance metrics. To address this, we employ the **Synthetic Minority Oversampling Technique** (SMOTE), which generates synthetic samples for the minority class by interpolating between existing minority instances. This approach reduces overfitting compared to simple duplication.\n",
    "\n",
    "SMOTE is an oversampler from the imbalanced-learn library, and while it does implement the necessary methods, it is not compatible with `sklearn.pipeline.Pipeline`. Instead, `imblearn.pipeline.Pipeline` must be used to work with samplers in `imblearn`."
   ]
  },
  {
   "cell_type": "code",
   "execution_count": 24,
   "id": "84e22788",
   "metadata": {},
   "outputs": [],
   "source": [
    "from imblearn.pipeline import Pipeline\n",
    "from sklearn.model_selection import GridSearchCV, StratifiedKFold\n",
    "from imblearn.over_sampling import SMOTE\n",
    "\n",
    "\n",
    "def find_best_estimators(\n",
    "    classifiers: Dict[str, Any],\n",
    "    X_train: pd.DataFrame,\n",
    "    y_train: pd.Series,\n",
    "    n_splits: int = 5,\n",
    ") -> Dict[str, Any]:\n",
    "    \"\"\"\n",
    "    Perform hyperparameter tuning using GridSearchCV with SMOTE oversampling for multiple classifiers.\n",
    "\n",
    "    Args:\n",
    "        classifiers: A dictionary where keys are classifier names (str) and values are\n",
    "            classifier instances (e.g., scikit-learn estimators).\n",
    "        X_train: Training features.\n",
    "        y_train: Training target labels.\n",
    "        n_splits: Number of splits for StratifiedKFold cross-validation. Defaults to 3.\n",
    "\n",
    "    Returns:\n",
    "        A dictionary mapping classifier names to their best fitted pipeline (including preprocessing,\n",
    "            SMOTE, and the classifier with optimal hyperparameters).\n",
    "\n",
    "    \"\"\"\n",
    "    best_estimators = {}\n",
    "    skf = StratifiedKFold(n_splits=n_splits, shuffle=True, random_state=42)\n",
    "\n",
    "    for name, clf in classifiers.items():\n",
    "        print(f\"\\n===== {name} =====\")\n",
    "        pipeline = Pipeline(\n",
    "            [\n",
    "                (\"preprocessing\", preprocessor),\n",
    "                (\"smote\", SMOTE(random_state=42)),\n",
    "                (\"clf\", clf),\n",
    "            ]\n",
    "        )\n",
    "        param_grid = param_grids[name]\n",
    "        grid = GridSearchCV(\n",
    "            estimator=pipeline,\n",
    "            param_grid=param_grid,\n",
    "            scoring=\"f1\",\n",
    "            cv=skf,\n",
    "            n_jobs=-1,\n",
    "            verbose=0,\n",
    "        )\n",
    "        grid.fit(X_train, y_train)\n",
    "        print(f\"Best hyperparameters for {name}: {grid.best_params_}\")\n",
    "        print(f\"Best mean cross-validated F1-score: {grid.best_score_:.4f}\")\n",
    "        best_estimators[name] = grid.best_estimator_\n",
    "    return best_estimators"
   ]
  },
  {
   "cell_type": "code",
   "execution_count": 25,
   "id": "3569b9d6",
   "metadata": {},
   "outputs": [
    {
     "name": "stdout",
     "output_type": "stream",
     "text": [
      "\n",
      "===== Random Forest =====\n",
      "Best hyperparameters for Random Forest: {'clf__n_estimators': 50}\n",
      "Best mean cross-validated F1-score: 0.8033\n",
      "\n",
      "===== LightGBM =====\n"
     ]
    },
    {
     "name": "stderr",
     "output_type": "stream",
     "text": [
      "/Users/tsu76i/Documents/Programming/Personal Projects/DS_Projects/.venv/lib/python3.13/site-packages/sklearn/utils/validation.py:2739: UserWarning: X does not have valid feature names, but LGBMClassifier was fitted with feature names\n",
      "  warnings.warn(\n",
      "/Users/tsu76i/Documents/Programming/Personal Projects/DS_Projects/.venv/lib/python3.13/site-packages/sklearn/utils/validation.py:2739: UserWarning: X does not have valid feature names, but LGBMClassifier was fitted with feature names\n",
      "  warnings.warn(\n",
      "/Users/tsu76i/Documents/Programming/Personal Projects/DS_Projects/.venv/lib/python3.13/site-packages/sklearn/utils/validation.py:2739: UserWarning: X does not have valid feature names, but LGBMClassifier was fitted with feature names\n",
      "  warnings.warn(\n",
      "/Users/tsu76i/Documents/Programming/Personal Projects/DS_Projects/.venv/lib/python3.13/site-packages/sklearn/utils/validation.py:2739: UserWarning: X does not have valid feature names, but LGBMClassifier was fitted with feature names\n",
      "  warnings.warn(\n",
      "/Users/tsu76i/Documents/Programming/Personal Projects/DS_Projects/.venv/lib/python3.13/site-packages/sklearn/utils/validation.py:2739: UserWarning: X does not have valid feature names, but LGBMClassifier was fitted with feature names\n",
      "  warnings.warn(\n",
      "/Users/tsu76i/Documents/Programming/Personal Projects/DS_Projects/.venv/lib/python3.13/site-packages/sklearn/utils/validation.py:2739: UserWarning: X does not have valid feature names, but LGBMClassifier was fitted with feature names\n",
      "  warnings.warn(\n",
      "/Users/tsu76i/Documents/Programming/Personal Projects/DS_Projects/.venv/lib/python3.13/site-packages/sklearn/utils/validation.py:2739: UserWarning: X does not have valid feature names, but LGBMClassifier was fitted with feature names\n",
      "  warnings.warn(\n",
      "/Users/tsu76i/Documents/Programming/Personal Projects/DS_Projects/.venv/lib/python3.13/site-packages/sklearn/utils/validation.py:2739: UserWarning: X does not have valid feature names, but LGBMClassifier was fitted with feature names\n",
      "  warnings.warn(\n",
      "/Users/tsu76i/Documents/Programming/Personal Projects/DS_Projects/.venv/lib/python3.13/site-packages/sklearn/utils/validation.py:2739: UserWarning: X does not have valid feature names, but LGBMClassifier was fitted with feature names\n",
      "  warnings.warn(\n",
      "/Users/tsu76i/Documents/Programming/Personal Projects/DS_Projects/.venv/lib/python3.13/site-packages/sklearn/utils/validation.py:2739: UserWarning: X does not have valid feature names, but LGBMClassifier was fitted with feature names\n",
      "  warnings.warn(\n",
      "/Users/tsu76i/Documents/Programming/Personal Projects/DS_Projects/.venv/lib/python3.13/site-packages/sklearn/utils/validation.py:2739: UserWarning: X does not have valid feature names, but LGBMClassifier was fitted with feature names\n",
      "  warnings.warn(\n",
      "/Users/tsu76i/Documents/Programming/Personal Projects/DS_Projects/.venv/lib/python3.13/site-packages/sklearn/utils/validation.py:2739: UserWarning: X does not have valid feature names, but LGBMClassifier was fitted with feature names\n",
      "  warnings.warn(\n",
      "/Users/tsu76i/Documents/Programming/Personal Projects/DS_Projects/.venv/lib/python3.13/site-packages/sklearn/utils/validation.py:2739: UserWarning: X does not have valid feature names, but LGBMClassifier was fitted with feature names\n",
      "  warnings.warn(\n",
      "/Users/tsu76i/Documents/Programming/Personal Projects/DS_Projects/.venv/lib/python3.13/site-packages/sklearn/utils/validation.py:2739: UserWarning: X does not have valid feature names, but LGBMClassifier was fitted with feature names\n",
      "  warnings.warn(\n",
      "/Users/tsu76i/Documents/Programming/Personal Projects/DS_Projects/.venv/lib/python3.13/site-packages/sklearn/utils/validation.py:2739: UserWarning: X does not have valid feature names, but LGBMClassifier was fitted with feature names\n",
      "  warnings.warn(\n",
      "/Users/tsu76i/Documents/Programming/Personal Projects/DS_Projects/.venv/lib/python3.13/site-packages/sklearn/utils/validation.py:2739: UserWarning: X does not have valid feature names, but LGBMClassifier was fitted with feature names\n",
      "  warnings.warn(\n",
      "/Users/tsu76i/Documents/Programming/Personal Projects/DS_Projects/.venv/lib/python3.13/site-packages/sklearn/utils/validation.py:2739: UserWarning: X does not have valid feature names, but LGBMClassifier was fitted with feature names\n",
      "  warnings.warn(\n",
      "/Users/tsu76i/Documents/Programming/Personal Projects/DS_Projects/.venv/lib/python3.13/site-packages/sklearn/utils/validation.py:2739: UserWarning: X does not have valid feature names, but LGBMClassifier was fitted with feature names\n",
      "  warnings.warn(\n",
      "/Users/tsu76i/Documents/Programming/Personal Projects/DS_Projects/.venv/lib/python3.13/site-packages/sklearn/utils/validation.py:2739: UserWarning: X does not have valid feature names, but LGBMClassifier was fitted with feature names\n",
      "  warnings.warn(\n",
      "/Users/tsu76i/Documents/Programming/Personal Projects/DS_Projects/.venv/lib/python3.13/site-packages/sklearn/utils/validation.py:2739: UserWarning: X does not have valid feature names, but LGBMClassifier was fitted with feature names\n",
      "  warnings.warn(\n"
     ]
    },
    {
     "name": "stdout",
     "output_type": "stream",
     "text": [
      "Best hyperparameters for LightGBM: {'clf__learning_rate': 0.1, 'clf__n_estimators': 300}\n",
      "Best mean cross-validated F1-score: 0.8812\n",
      "\n",
      "===== XGBoost =====\n",
      "Best hyperparameters for XGBoost: {'clf__learning_rate': 0.2, 'clf__n_estimators': 300}\n",
      "Best mean cross-validated F1-score: 0.8954\n"
     ]
    }
   ],
   "source": [
    "best_estimators = find_best_estimators(\n",
    "    classifiers=classifiers, X_train=X_train, y_train=y_train\n",
    ")"
   ]
  },
  {
   "cell_type": "markdown",
   "id": "3d055593",
   "metadata": {},
   "source": [
    "### Evaluation on Test Data"
   ]
  },
  {
   "cell_type": "code",
   "execution_count": 26,
   "id": "86dd906c",
   "metadata": {},
   "outputs": [],
   "source": [
    "from sklearn.metrics import (\n",
    "    accuracy_score,\n",
    "    precision_score,\n",
    "    recall_score,\n",
    "    f1_score,\n",
    "    roc_auc_score,\n",
    "    confusion_matrix,\n",
    "    classification_report,\n",
    ")\n",
    "\n",
    "\n",
    "def evaluate_classifier(\n",
    "    model: Dict[str, Any], X_test: pd.DataFrame, y_test: pd.Series, model_name: str\n",
    ") -> Dict[str, Any]:\n",
    "    \"\"\"\n",
    "    Evaluate a trained classification model on a test dataset and visualise the confusion matrix.\n",
    "\n",
    "    This function computes several standard classification metrics—including accuracy, precision,\n",
    "    recall, F1-score, and ROC-AUC—based on the model's predictions. It also displays the confusion\n",
    "    matrix as a heatmap and prints a detailed classification report.\n",
    "\n",
    "    Args:\n",
    "        model: The trained classification model supporting the .predict() method (e.g., scikit-learn estimator).\n",
    "        X_test: Test feature data.\n",
    "        y_test: True labels for the test data.\n",
    "        model_name: Name of the model.\n",
    "\n",
    "    Returns:\n",
    "        A dictionary containing the following evaluation metrics (rounded to four decimal places):\n",
    "            - 'Accuracy': Overall accuracy of the classifier.\n",
    "            - 'Precision': Precision score, representing the ratio of true positives to all predicted positives.\n",
    "            - 'Recall': Recall score, representing the ratio of true positives to all actual positives.\n",
    "            - 'F1-Score': Harmonic mean of precision and recall.\n",
    "            - 'ROC-AUC': Area under the Receiver Operating Characteristic curve.\n",
    "    \"\"\"\n",
    "    y_pred = model.predict(X_test)\n",
    "    acc = round(accuracy_score(y_test, y_pred), 4)\n",
    "    pre = round(precision_score(y_test, y_pred), 4)\n",
    "    rec = round(recall_score(y_test, y_pred), 4)\n",
    "    f1 = round(f1_score(y_test, y_pred), 4)\n",
    "    roc_auc = round(roc_auc_score(y_test, y_pred), 4)\n",
    "\n",
    "    c_matrix = confusion_matrix(y_test, y_pred)\n",
    "    sns.heatmap(c_matrix, annot=True, fmt=\"d\", cmap=\"Reds\")\n",
    "    plt.title(\"Confusion Matrix\")\n",
    "    plt.xlabel(\"Predicted\")\n",
    "    plt.ylabel(\"Actual\")\n",
    "    plt.tight_layout()\n",
    "    plt.show()\n",
    "    print(\n",
    "        f\"Classification Report ({model_name}):\\n {classification_report(y_test, y_pred)}\"\n",
    "    )\n",
    "    return {\n",
    "        \"Accuracy\": acc,\n",
    "        \"Precision\": pre,\n",
    "        \"Recall\": rec,\n",
    "        \"F1-Score\": f1,\n",
    "        \"ROC-AUC\": roc_auc,\n",
    "    }"
   ]
  },
  {
   "cell_type": "code",
   "execution_count": 27,
   "id": "4c371966",
   "metadata": {},
   "outputs": [],
   "source": [
    "best_model_rf = best_estimators[\"Random Forest\"]\n",
    "best_model_lightgbm = best_estimators[\"LightGBM\"]\n",
    "best_model_xgb = best_estimators[\"XGBoost\"]"
   ]
  },
  {
   "cell_type": "code",
   "execution_count": 28,
   "id": "90fe0169",
   "metadata": {},
   "outputs": [
    {
     "data": {
      "image/png": "[encoded data removed]",
      "text/plain": [
       "<Figure size 640x480 with 2 Axes>"
      ]
     },
     "metadata": {},
     "output_type": "display_data"
    },
    {
     "name": "stdout",
     "output_type": "stream",
     "text": [
      "Classification Report (Random Forest):\n",
      "               precision    recall  f1-score   support\n",
      "\n",
      "           0       1.00      1.00      1.00    553574\n",
      "           1       0.80      0.66      0.72      2145\n",
      "\n",
      "    accuracy                           1.00    555719\n",
      "   macro avg       0.90      0.83      0.86    555719\n",
      "weighted avg       1.00      1.00      1.00    555719\n",
      "\n"
     ]
    },
    {
     "name": "stderr",
     "output_type": "stream",
     "text": [
      "/Users/tsu76i/Documents/Programming/Personal Projects/DS_Projects/.venv/lib/python3.13/site-packages/sklearn/utils/validation.py:2739: UserWarning: X does not have valid feature names, but LGBMClassifier was fitted with feature names\n",
      "  warnings.warn(\n"
     ]
    },
    {
     "data": {
      "image/png": "[encoded data removed]",
      "text/plain": [
       "<Figure size 640x480 with 2 Axes>"
      ]
     },
     "metadata": {},
     "output_type": "display_data"
    },
    {
     "name": "stdout",
     "output_type": "stream",
     "text": [
      "Classification Report (LightGBM):\n",
      "               precision    recall  f1-score   support\n",
      "\n",
      "           0       1.00      1.00      1.00    553574\n",
      "           1       0.86      0.76      0.81      2145\n",
      "\n",
      "    accuracy                           1.00    555719\n",
      "   macro avg       0.93      0.88      0.91    555719\n",
      "weighted avg       1.00      1.00      1.00    555719\n",
      "\n"
     ]
    },
    {
     "data": {
      "image/png": "[encoded data removed]",
      "text/plain": [
       "<Figure size 640x480 with 2 Axes>"
      ]
     },
     "metadata": {},
     "output_type": "display_data"
    },
    {
     "name": "stdout",
     "output_type": "stream",
     "text": [
      "Classification Report (XGBoost):\n",
      "               precision    recall  f1-score   support\n",
      "\n",
      "           0       1.00      1.00      1.00    553574\n",
      "           1       0.88      0.73      0.80      2145\n",
      "\n",
      "    accuracy                           1.00    555719\n",
      "   macro avg       0.94      0.87      0.90    555719\n",
      "weighted avg       1.00      1.00      1.00    555719\n",
      "\n"
     ]
    }
   ],
   "source": [
    "results_rf = evaluate_classifier(best_model_rf, X_test, y_test, \"Random Forest\")\n",
    "results_lightgbm = evaluate_classifier(best_model_lightgbm, X_test, y_test, \"LightGBM\")\n",
    "results_xgb = evaluate_classifier(best_model_xgb, X_test, y_test, \"XGBoost\")"
   ]
  },
  {
   "cell_type": "code",
   "execution_count": 29,
   "id": "3973c2f8",
   "metadata": {},
   "outputs": [
    {
     "name": "stdout",
     "output_type": "stream",
     "text": [
      "               Accuracy  Precision  Recall  F1-Score  ROC-AUC\n",
      "Random Forest    0.9981     0.7974  0.6643    0.7248   0.8318\n",
      "LightGBM         0.9986     0.8648  0.7636    0.8111   0.8816\n",
      "XGBoost          0.9986     0.8815  0.7315    0.7995   0.8655\n"
     ]
    }
   ],
   "source": [
    "results_df = pd.DataFrame(\n",
    "    [\n",
    "        results_rf,\n",
    "        results_lightgbm,\n",
    "        results_xgb,\n",
    "    ],\n",
    "    [\n",
    "        \"Random Forest\",\n",
    "        \"LightGBM\",\n",
    "        \"XGBoost\",\n",
    "    ],\n",
    ")\n",
    "print(results_df)"
   ]
  },
  {
   "cell_type": "markdown",
   "id": "597ccc79",
   "metadata": {},
   "source": [
    "## 6. Conclusion\n",
    "\n",
    "All models achieved extremely high overall accuracy. However, given the severe class imbalance of the target variable (fraudulent transactions are rare), accuracy alone is not a sufficient indicator of model effectiveness for fraud detection.\n",
    "\n",
    "For precision (proportion of predicted frauds that are actually fraud), **XGBoost** had a slightly better performance than **LightGBM**. **LightGBM**  provided the highest recall (proportion of actual frauds detected), F1-score (harmonic mean of precision and recall) and ROC-AUC for the minority class. This suggests that **LightGBM** is considered the most preferred model at identifying fraudulent transactions while maintaining a relatively low false positive rate."
   ]
  },
  {
   "cell_type": "markdown",
   "id": "14b049b8",
   "metadata": {},
   "source": [
    "## 7. References\n",
    "\n",
    "1. Ashutosh Yadav. (2023). *Distance Between Two Geo-Locations in Python*. <br>\n",
    "https://www.askpython.com/python/examples/find-distance-between-two-geo-locations\n",
    "\n",
    "1. Google for Developers. (2025). *Classification: Accuracy, recall, precision, and related metrics*. <br>\n",
    "https://developers.google.com/machine-learning/crash-course/classification/accuracy-precision-recall\n",
    "\n",
    "1. Le Borgne, Y.-A., Siblini, W., Lebichot, B., & Bontempi, G. (2022). *Reproducible Machine Learning for Credit Card Fraud Detection - Practical Handbook*. Université Libre de Bruxelles. <br>\n",
    "https://fraud-detection-handbook.github.io/fraud-detection-handbook/Foreword.html"
   ]
  }
 ],
 "metadata": {
  "kernelspec": {
   "display_name": "DS_Projects",
   "language": "python",
   "name": "python3"
  },
  "language_info": {
   "codemirror_mode": {
    "name": "ipython",
    "version": 3
   },
   "file_extension": ".py",
   "mimetype": "text/x-python",
   "name": "python",
   "nbconvert_exporter": "python",
   "pygments_lexer": "ipython3",
   "version": "3.13.3"
  }
 },
 "nbformat": 4,
 "nbformat_minor": 5
}
