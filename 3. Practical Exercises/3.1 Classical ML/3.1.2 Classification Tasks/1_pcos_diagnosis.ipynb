{
 "cells": [
  {
   "cell_type": "markdown",
   "id": "846bf037",
   "metadata": {},
   "source": [
    "# PCOS Diagnosis\n",
    "***\n",
    "## Table of Contents\n",
    "\n",
    "***\n"
   ]
  },
  {
   "cell_type": "code",
   "execution_count": null,
   "id": "e94af6f7",
   "metadata": {},
   "outputs": [],
   "source": [
    "import matplotlib.pyplot as plt\n",
    "import seaborn as sns\n",
    "import pandas as pd"
   ]
  },
  {
   "cell_type": "markdown",
   "id": "4bbdd560",
   "metadata": {},
   "source": [
    "## 1. Introduction\n",
    "\n",
    "\n",
    "## 2. Loading Data\n",
    "\n",
    "The dataset used in this project (retrieved from [Kaggle - Polycystic ovary syndrome (PCOS)](https://www.kaggle.com/datasets/prasoonkottarathil/polycystic-ovary-syndrome-pcos))\n"
   ]
  },
  {
   "cell_type": "code",
   "execution_count": 70,
   "id": "ca75ab3a",
   "metadata": {},
   "outputs": [
    {
     "data": {
      "application/vnd.microsoft.datawrangler.viewer.v0+json": {
       "columns": [
        {
         "name": "index",
         "rawType": "int64",
         "type": "integer"
        },
        {
         "name": "Sl. No",
         "rawType": "int64",
         "type": "integer"
        },
        {
         "name": "Patient File No.",
         "rawType": "int64",
         "type": "integer"
        },
        {
         "name": "PCOS (Y/N)",
         "rawType": "int64",
         "type": "integer"
        },
        {
         "name": " Age (yrs)",
         "rawType": "int64",
         "type": "integer"
        },
        {
         "name": "Weight (Kg)",
         "rawType": "float64",
         "type": "float"
        },
        {
         "name": "Height(Cm) ",
         "rawType": "float64",
         "type": "float"
        },
        {
         "name": "BMI",
         "rawType": "float64",
         "type": "float"
        },
        {
         "name": "Blood Group",
         "rawType": "int64",
         "type": "integer"
        },
        {
         "name": "Pulse rate(bpm) ",
         "rawType": "int64",
         "type": "integer"
        },
        {
         "name": "RR (breaths/min)",
         "rawType": "int64",
         "type": "integer"
        },
        {
         "name": "Hb(g/dl)",
         "rawType": "float64",
         "type": "float"
        },
        {
         "name": "Cycle(R/I)",
         "rawType": "int64",
         "type": "integer"
        },
        {
         "name": "Cycle length(days)",
         "rawType": "int64",
         "type": "integer"
        },
        {
         "name": "Marraige Status (Yrs)",
         "rawType": "float64",
         "type": "float"
        },
        {
         "name": "Pregnant(Y/N)",
         "rawType": "int64",
         "type": "integer"
        },
        {
         "name": "No. of aborptions",
         "rawType": "int64",
         "type": "integer"
        },
        {
         "name": "  I   beta-HCG(mIU/mL)",
         "rawType": "float64",
         "type": "float"
        },
        {
         "name": "II    beta-HCG(mIU/mL)",
         "rawType": "object",
         "type": "unknown"
        },
        {
         "name": "FSH(mIU/mL)",
         "rawType": "float64",
         "type": "float"
        },
        {
         "name": "LH(mIU/mL)",
         "rawType": "float64",
         "type": "float"
        },
        {
         "name": "FSH/LH",
         "rawType": "float64",
         "type": "float"
        },
        {
         "name": "Hip(inch)",
         "rawType": "int64",
         "type": "integer"
        },
        {
         "name": "Waist(inch)",
         "rawType": "int64",
         "type": "integer"
        },
        {
         "name": "Waist:Hip Ratio",
         "rawType": "float64",
         "type": "float"
        },
        {
         "name": "TSH (mIU/L)",
         "rawType": "float64",
         "type": "float"
        },
        {
         "name": "AMH(ng/mL)",
         "rawType": "object",
         "type": "unknown"
        },
        {
         "name": "PRL(ng/mL)",
         "rawType": "float64",
         "type": "float"
        },
        {
         "name": "Vit D3 (ng/mL)",
         "rawType": "float64",
         "type": "float"
        },
        {
         "name": "PRG(ng/mL)",
         "rawType": "float64",
         "type": "float"
        },
        {
         "name": "RBS(mg/dl)",
         "rawType": "float64",
         "type": "float"
        },
        {
         "name": "Weight gain(Y/N)",
         "rawType": "int64",
         "type": "integer"
        },
        {
         "name": "hair growth(Y/N)",
         "rawType": "int64",
         "type": "integer"
        },
        {
         "name": "Skin darkening (Y/N)",
         "rawType": "int64",
         "type": "integer"
        },
        {
         "name": "Hair loss(Y/N)",
         "rawType": "int64",
         "type": "integer"
        },
        {
         "name": "Pimples(Y/N)",
         "rawType": "int64",
         "type": "integer"
        },
        {
         "name": "Fast food (Y/N)",
         "rawType": "float64",
         "type": "float"
        },
        {
         "name": "Reg.Exercise(Y/N)",
         "rawType": "int64",
         "type": "integer"
        },
        {
         "name": "BP _Systolic (mmHg)",
         "rawType": "int64",
         "type": "integer"
        },
        {
         "name": "BP _Diastolic (mmHg)",
         "rawType": "int64",
         "type": "integer"
        },
        {
         "name": "Follicle No. (L)",
         "rawType": "int64",
         "type": "integer"
        },
        {
         "name": "Follicle No. (R)",
         "rawType": "int64",
         "type": "integer"
        },
        {
         "name": "Avg. F size (L) (mm)",
         "rawType": "float64",
         "type": "float"
        },
        {
         "name": "Avg. F size (R) (mm)",
         "rawType": "float64",
         "type": "float"
        },
        {
         "name": "Endometrium (mm)",
         "rawType": "float64",
         "type": "float"
        },
        {
         "name": "Unnamed: 44",
         "rawType": "object",
         "type": "unknown"
        }
       ],
       "ref": "94da1c1a-0d6c-45ab-ba37-258188f6d281",
       "rows": [
        [
         "0",
         "1",
         "1",
         "0",
         "28",
         "44.6",
         "152.0",
         "19.3",
         "15",
         "78",
         "22",
         "10.48",
         "2",
         "5",
         "7.0",
         "0",
         "0",
         "1.99",
         "1.99",
         "7.95",
         "3.68",
         "2.160326087",
         "36",
         "30",
         "0.8333333333",
         "0.68",
         "2.07",
         "45.16",
         "17.1",
         "0.57",
         "92.0",
         "0",
         "0",
         "0",
         "0",
         "0",
         "1.0",
         "0",
         "110",
         "80",
         "3",
         "3",
         "18.0",
         "18.0",
         "8.5",
         null
        ],
        [
         "1",
         "2",
         "2",
         "0",
         "36",
         "65.0",
         "161.5",
         "24.92116286",
         "15",
         "74",
         "20",
         "11.7",
         "2",
         "5",
         "11.0",
         "1",
         "0",
         "60.8",
         "1.99",
         "6.73",
         "1.09",
         "6.174311927",
         "38",
         "32",
         "0.8421052632",
         "3.16",
         "1.53",
         "20.09",
         "61.3",
         "0.97",
         "92.0",
         "0",
         "0",
         "0",
         "0",
         "0",
         "0.0",
         "0",
         "120",
         "70",
         "3",
         "5",
         "15.0",
         "14.0",
         "3.7",
         null
        ],
        [
         "2",
         "3",
         "3",
         "1",
         "33",
         "68.8",
         "165.0",
         "25.27089073",
         "11",
         "72",
         "18",
         "11.8",
         "2",
         "5",
         "10.0",
         "1",
         "0",
         "494.08",
         "494.08",
         "5.54",
         "0.88",
         "6.295454545",
         "40",
         "36",
         "0.9",
         "2.54",
         "6.63",
         "10.52",
         "49.7",
         "0.36",
         "84.0",
         "0",
         "0",
         "0",
         "1",
         "1",
         "1.0",
         "0",
         "120",
         "80",
         "13",
         "15",
         "18.0",
         "20.0",
         "10.0",
         null
        ],
        [
         "3",
         "4",
         "4",
         "0",
         "37",
         "65.0",
         "148.0",
         "29.67494522",
         "13",
         "72",
         "20",
         "12.0",
         "2",
         "5",
         "4.0",
         "0",
         "0",
         "1.99",
         "1.99",
         "8.06",
         "2.36",
         "3.415254237",
         "42",
         "36",
         "0.8571428571",
         "16.41",
         "1.22",
         "36.9",
         "33.4",
         "0.36",
         "76.0",
         "0",
         "0",
         "0",
         "0",
         "0",
         "0.0",
         "0",
         "120",
         "70",
         "2",
         "2",
         "15.0",
         "14.0",
         "7.5",
         null
        ],
        [
         "4",
         "5",
         "5",
         "0",
         "25",
         "52.0",
         "161.0",
         "20.06095444",
         "11",
         "72",
         "18",
         "10.0",
         "2",
         "5",
         "1.0",
         "1",
         "0",
         "801.45",
         "801.45",
         "3.98",
         "0.9",
         "4.422222222",
         "37",
         "30",
         "0.8108108108",
         "3.57",
         "2.26",
         "30.09",
         "43.8",
         "0.38",
         "84.0",
         "0",
         "0",
         "0",
         "1",
         "0",
         "0.0",
         "0",
         "120",
         "80",
         "3",
         "4",
         "16.0",
         "14.0",
         "7.0",
         null
        ]
       ],
       "shape": {
        "columns": 45,
        "rows": 5
       }
      },
      "text/html": [
       "<div>\n",
       "<style scoped>\n",
       "    .dataframe tbody tr th:only-of-type {\n",
       "        vertical-align: middle;\n",
       "    }\n",
       "\n",
       "    .dataframe tbody tr th {\n",
       "        vertical-align: top;\n",
       "    }\n",
       "\n",
       "    .dataframe thead th {\n",
       "        text-align: right;\n",
       "    }\n",
       "</style>\n",
       "<table border=\"1\" class=\"dataframe\">\n",
       "  <thead>\n",
       "    <tr style=\"text-align: right;\">\n",
       "      <th></th>\n",
       "      <th>Sl. No</th>\n",
       "      <th>Patient File No.</th>\n",
       "      <th>PCOS (Y/N)</th>\n",
       "      <th>Age (yrs)</th>\n",
       "      <th>Weight (Kg)</th>\n",
       "      <th>Height(Cm)</th>\n",
       "      <th>BMI</th>\n",
       "      <th>Blood Group</th>\n",
       "      <th>Pulse rate(bpm)</th>\n",
       "      <th>RR (breaths/min)</th>\n",
       "      <th>Hb(g/dl)</th>\n",
       "      <th>Cycle(R/I)</th>\n",
       "      <th>Cycle length(days)</th>\n",
       "      <th>Marraige Status (Yrs)</th>\n",
       "      <th>Pregnant(Y/N)</th>\n",
       "      <th>No. of aborptions</th>\n",
       "      <th>I   beta-HCG(mIU/mL)</th>\n",
       "      <th>II    beta-HCG(mIU/mL)</th>\n",
       "      <th>FSH(mIU/mL)</th>\n",
       "      <th>LH(mIU/mL)</th>\n",
       "      <th>FSH/LH</th>\n",
       "      <th>Hip(inch)</th>\n",
       "      <th>Waist(inch)</th>\n",
       "      <th>Waist:Hip Ratio</th>\n",
       "      <th>TSH (mIU/L)</th>\n",
       "      <th>AMH(ng/mL)</th>\n",
       "      <th>PRL(ng/mL)</th>\n",
       "      <th>Vit D3 (ng/mL)</th>\n",
       "      <th>PRG(ng/mL)</th>\n",
       "      <th>RBS(mg/dl)</th>\n",
       "      <th>Weight gain(Y/N)</th>\n",
       "      <th>hair growth(Y/N)</th>\n",
       "      <th>Skin darkening (Y/N)</th>\n",
       "      <th>Hair loss(Y/N)</th>\n",
       "      <th>Pimples(Y/N)</th>\n",
       "      <th>Fast food (Y/N)</th>\n",
       "      <th>Reg.Exercise(Y/N)</th>\n",
       "      <th>BP _Systolic (mmHg)</th>\n",
       "      <th>BP _Diastolic (mmHg)</th>\n",
       "      <th>Follicle No. (L)</th>\n",
       "      <th>Follicle No. (R)</th>\n",
       "      <th>Avg. F size (L) (mm)</th>\n",
       "      <th>Avg. F size (R) (mm)</th>\n",
       "      <th>Endometrium (mm)</th>\n",
       "      <th>Unnamed: 44</th>\n",
       "    </tr>\n",
       "  </thead>\n",
       "  <tbody>\n",
       "    <tr>\n",
       "      <th>0</th>\n",
       "      <td>1</td>\n",
       "      <td>1</td>\n",
       "      <td>0</td>\n",
       "      <td>28</td>\n",
       "      <td>44.6</td>\n",
       "      <td>152.0</td>\n",
       "      <td>19.300000</td>\n",
       "      <td>15</td>\n",
       "      <td>78</td>\n",
       "      <td>22</td>\n",
       "      <td>10.48</td>\n",
       "      <td>2</td>\n",
       "      <td>5</td>\n",
       "      <td>7.0</td>\n",
       "      <td>0</td>\n",
       "      <td>0</td>\n",
       "      <td>1.99</td>\n",
       "      <td>1.99</td>\n",
       "      <td>7.95</td>\n",
       "      <td>3.68</td>\n",
       "      <td>2.160326</td>\n",
       "      <td>36</td>\n",
       "      <td>30</td>\n",
       "      <td>0.833333</td>\n",
       "      <td>0.68</td>\n",
       "      <td>2.07</td>\n",
       "      <td>45.16</td>\n",
       "      <td>17.1</td>\n",
       "      <td>0.57</td>\n",
       "      <td>92.0</td>\n",
       "      <td>0</td>\n",
       "      <td>0</td>\n",
       "      <td>0</td>\n",
       "      <td>0</td>\n",
       "      <td>0</td>\n",
       "      <td>1.0</td>\n",
       "      <td>0</td>\n",
       "      <td>110</td>\n",
       "      <td>80</td>\n",
       "      <td>3</td>\n",
       "      <td>3</td>\n",
       "      <td>18.0</td>\n",
       "      <td>18.0</td>\n",
       "      <td>8.5</td>\n",
       "      <td>NaN</td>\n",
       "    </tr>\n",
       "    <tr>\n",
       "      <th>1</th>\n",
       "      <td>2</td>\n",
       "      <td>2</td>\n",
       "      <td>0</td>\n",
       "      <td>36</td>\n",
       "      <td>65.0</td>\n",
       "      <td>161.5</td>\n",
       "      <td>24.921163</td>\n",
       "      <td>15</td>\n",
       "      <td>74</td>\n",
       "      <td>20</td>\n",
       "      <td>11.70</td>\n",
       "      <td>2</td>\n",
       "      <td>5</td>\n",
       "      <td>11.0</td>\n",
       "      <td>1</td>\n",
       "      <td>0</td>\n",
       "      <td>60.80</td>\n",
       "      <td>1.99</td>\n",
       "      <td>6.73</td>\n",
       "      <td>1.09</td>\n",
       "      <td>6.174312</td>\n",
       "      <td>38</td>\n",
       "      <td>32</td>\n",
       "      <td>0.842105</td>\n",
       "      <td>3.16</td>\n",
       "      <td>1.53</td>\n",
       "      <td>20.09</td>\n",
       "      <td>61.3</td>\n",
       "      <td>0.97</td>\n",
       "      <td>92.0</td>\n",
       "      <td>0</td>\n",
       "      <td>0</td>\n",
       "      <td>0</td>\n",
       "      <td>0</td>\n",
       "      <td>0</td>\n",
       "      <td>0.0</td>\n",
       "      <td>0</td>\n",
       "      <td>120</td>\n",
       "      <td>70</td>\n",
       "      <td>3</td>\n",
       "      <td>5</td>\n",
       "      <td>15.0</td>\n",
       "      <td>14.0</td>\n",
       "      <td>3.7</td>\n",
       "      <td>NaN</td>\n",
       "    </tr>\n",
       "    <tr>\n",
       "      <th>2</th>\n",
       "      <td>3</td>\n",
       "      <td>3</td>\n",
       "      <td>1</td>\n",
       "      <td>33</td>\n",
       "      <td>68.8</td>\n",
       "      <td>165.0</td>\n",
       "      <td>25.270891</td>\n",
       "      <td>11</td>\n",
       "      <td>72</td>\n",
       "      <td>18</td>\n",
       "      <td>11.80</td>\n",
       "      <td>2</td>\n",
       "      <td>5</td>\n",
       "      <td>10.0</td>\n",
       "      <td>1</td>\n",
       "      <td>0</td>\n",
       "      <td>494.08</td>\n",
       "      <td>494.08</td>\n",
       "      <td>5.54</td>\n",
       "      <td>0.88</td>\n",
       "      <td>6.295455</td>\n",
       "      <td>40</td>\n",
       "      <td>36</td>\n",
       "      <td>0.900000</td>\n",
       "      <td>2.54</td>\n",
       "      <td>6.63</td>\n",
       "      <td>10.52</td>\n",
       "      <td>49.7</td>\n",
       "      <td>0.36</td>\n",
       "      <td>84.0</td>\n",
       "      <td>0</td>\n",
       "      <td>0</td>\n",
       "      <td>0</td>\n",
       "      <td>1</td>\n",
       "      <td>1</td>\n",
       "      <td>1.0</td>\n",
       "      <td>0</td>\n",
       "      <td>120</td>\n",
       "      <td>80</td>\n",
       "      <td>13</td>\n",
       "      <td>15</td>\n",
       "      <td>18.0</td>\n",
       "      <td>20.0</td>\n",
       "      <td>10.0</td>\n",
       "      <td>NaN</td>\n",
       "    </tr>\n",
       "    <tr>\n",
       "      <th>3</th>\n",
       "      <td>4</td>\n",
       "      <td>4</td>\n",
       "      <td>0</td>\n",
       "      <td>37</td>\n",
       "      <td>65.0</td>\n",
       "      <td>148.0</td>\n",
       "      <td>29.674945</td>\n",
       "      <td>13</td>\n",
       "      <td>72</td>\n",
       "      <td>20</td>\n",
       "      <td>12.00</td>\n",
       "      <td>2</td>\n",
       "      <td>5</td>\n",
       "      <td>4.0</td>\n",
       "      <td>0</td>\n",
       "      <td>0</td>\n",
       "      <td>1.99</td>\n",
       "      <td>1.99</td>\n",
       "      <td>8.06</td>\n",
       "      <td>2.36</td>\n",
       "      <td>3.415254</td>\n",
       "      <td>42</td>\n",
       "      <td>36</td>\n",
       "      <td>0.857143</td>\n",
       "      <td>16.41</td>\n",
       "      <td>1.22</td>\n",
       "      <td>36.90</td>\n",
       "      <td>33.4</td>\n",
       "      <td>0.36</td>\n",
       "      <td>76.0</td>\n",
       "      <td>0</td>\n",
       "      <td>0</td>\n",
       "      <td>0</td>\n",
       "      <td>0</td>\n",
       "      <td>0</td>\n",
       "      <td>0.0</td>\n",
       "      <td>0</td>\n",
       "      <td>120</td>\n",
       "      <td>70</td>\n",
       "      <td>2</td>\n",
       "      <td>2</td>\n",
       "      <td>15.0</td>\n",
       "      <td>14.0</td>\n",
       "      <td>7.5</td>\n",
       "      <td>NaN</td>\n",
       "    </tr>\n",
       "    <tr>\n",
       "      <th>4</th>\n",
       "      <td>5</td>\n",
       "      <td>5</td>\n",
       "      <td>0</td>\n",
       "      <td>25</td>\n",
       "      <td>52.0</td>\n",
       "      <td>161.0</td>\n",
       "      <td>20.060954</td>\n",
       "      <td>11</td>\n",
       "      <td>72</td>\n",
       "      <td>18</td>\n",
       "      <td>10.00</td>\n",
       "      <td>2</td>\n",
       "      <td>5</td>\n",
       "      <td>1.0</td>\n",
       "      <td>1</td>\n",
       "      <td>0</td>\n",
       "      <td>801.45</td>\n",
       "      <td>801.45</td>\n",
       "      <td>3.98</td>\n",
       "      <td>0.90</td>\n",
       "      <td>4.422222</td>\n",
       "      <td>37</td>\n",
       "      <td>30</td>\n",
       "      <td>0.810811</td>\n",
       "      <td>3.57</td>\n",
       "      <td>2.26</td>\n",
       "      <td>30.09</td>\n",
       "      <td>43.8</td>\n",
       "      <td>0.38</td>\n",
       "      <td>84.0</td>\n",
       "      <td>0</td>\n",
       "      <td>0</td>\n",
       "      <td>0</td>\n",
       "      <td>1</td>\n",
       "      <td>0</td>\n",
       "      <td>0.0</td>\n",
       "      <td>0</td>\n",
       "      <td>120</td>\n",
       "      <td>80</td>\n",
       "      <td>3</td>\n",
       "      <td>4</td>\n",
       "      <td>16.0</td>\n",
       "      <td>14.0</td>\n",
       "      <td>7.0</td>\n",
       "      <td>NaN</td>\n",
       "    </tr>\n",
       "  </tbody>\n",
       "</table>\n",
       "</div>"
      ],
      "text/plain": [
       "   Sl. No  Patient File No.  ...  Endometrium (mm)  Unnamed: 44\n",
       "0       1                 1  ...               8.5          NaN\n",
       "1       2                 2  ...               3.7          NaN\n",
       "2       3                 3  ...              10.0          NaN\n",
       "3       4                 4  ...               7.5          NaN\n",
       "4       5                 5  ...               7.0          NaN\n",
       "\n",
       "[5 rows x 45 columns]"
      ]
     },
     "execution_count": 70,
     "metadata": {},
     "output_type": "execute_result"
    }
   ],
   "source": [
    "df = pd.read_excel(\"_datasets/PCOS_data.xlsx\", sheet_name=\"Full_new\")\n",
    "df.head()"
   ]
  },
  {
   "cell_type": "code",
   "execution_count": 71,
   "id": "00fb5b7f",
   "metadata": {},
   "outputs": [
    {
     "data": {
      "text/plain": [
       "(541, 45)"
      ]
     },
     "execution_count": 71,
     "metadata": {},
     "output_type": "execute_result"
    }
   ],
   "source": [
    "df.shape"
   ]
  },
  {
   "cell_type": "code",
   "execution_count": 72,
   "id": "64e5821f",
   "metadata": {},
   "outputs": [
    {
     "name": "stdout",
     "output_type": "stream",
     "text": [
      "<class 'pandas.core.frame.DataFrame'>\n",
      "RangeIndex: 541 entries, 0 to 540\n",
      "Data columns (total 45 columns):\n",
      " #   Column                  Non-Null Count  Dtype  \n",
      "---  ------                  --------------  -----  \n",
      " 0   Sl. No                  541 non-null    int64  \n",
      " 1   Patient File No.        541 non-null    int64  \n",
      " 2   PCOS (Y/N)              541 non-null    int64  \n",
      " 3    Age (yrs)              541 non-null    int64  \n",
      " 4   Weight (Kg)             541 non-null    float64\n",
      " 5   Height(Cm)              541 non-null    float64\n",
      " 6   BMI                     541 non-null    float64\n",
      " 7   Blood Group             541 non-null    int64  \n",
      " 8   Pulse rate(bpm)         541 non-null    int64  \n",
      " 9   RR (breaths/min)        541 non-null    int64  \n",
      " 10  Hb(g/dl)                541 non-null    float64\n",
      " 11  Cycle(R/I)              541 non-null    int64  \n",
      " 12  Cycle length(days)      541 non-null    int64  \n",
      " 13  Marraige Status (Yrs)   540 non-null    float64\n",
      " 14  Pregnant(Y/N)           541 non-null    int64  \n",
      " 15  No. of aborptions       541 non-null    int64  \n",
      " 16    I   beta-HCG(mIU/mL)  541 non-null    float64\n",
      " 17  II    beta-HCG(mIU/mL)  541 non-null    object \n",
      " 18  FSH(mIU/mL)             541 non-null    float64\n",
      " 19  LH(mIU/mL)              541 non-null    float64\n",
      " 20  FSH/LH                  541 non-null    float64\n",
      " 21  Hip(inch)               541 non-null    int64  \n",
      " 22  Waist(inch)             541 non-null    int64  \n",
      " 23  Waist:Hip Ratio         541 non-null    float64\n",
      " 24  TSH (mIU/L)             541 non-null    float64\n",
      " 25  AMH(ng/mL)              541 non-null    object \n",
      " 26  PRL(ng/mL)              541 non-null    float64\n",
      " 27  Vit D3 (ng/mL)          541 non-null    float64\n",
      " 28  PRG(ng/mL)              541 non-null    float64\n",
      " 29  RBS(mg/dl)              541 non-null    float64\n",
      " 30  Weight gain(Y/N)        541 non-null    int64  \n",
      " 31  hair growth(Y/N)        541 non-null    int64  \n",
      " 32  Skin darkening (Y/N)    541 non-null    int64  \n",
      " 33  Hair loss(Y/N)          541 non-null    int64  \n",
      " 34  Pimples(Y/N)            541 non-null    int64  \n",
      " 35  Fast food (Y/N)         540 non-null    float64\n",
      " 36  Reg.Exercise(Y/N)       541 non-null    int64  \n",
      " 37  BP _Systolic (mmHg)     541 non-null    int64  \n",
      " 38  BP _Diastolic (mmHg)    541 non-null    int64  \n",
      " 39  Follicle No. (L)        541 non-null    int64  \n",
      " 40  Follicle No. (R)        541 non-null    int64  \n",
      " 41  Avg. F size (L) (mm)    541 non-null    float64\n",
      " 42  Avg. F size (R) (mm)    541 non-null    float64\n",
      " 43  Endometrium (mm)        541 non-null    float64\n",
      " 44  Unnamed: 44             2 non-null      object \n",
      "dtypes: float64(19), int64(23), object(3)\n",
      "memory usage: 190.3+ KB\n"
     ]
    }
   ],
   "source": [
    "df.info()"
   ]
  },
  {
   "cell_type": "code",
   "execution_count": 73,
   "id": "bac7dc61",
   "metadata": {},
   "outputs": [
    {
     "data": {
      "application/vnd.microsoft.datawrangler.viewer.v0+json": {
       "columns": [
        {
         "name": "index",
         "rawType": "object",
         "type": "string"
        },
        {
         "name": "Sl. No",
         "rawType": "float64",
         "type": "float"
        },
        {
         "name": "Patient File No.",
         "rawType": "float64",
         "type": "float"
        },
        {
         "name": "PCOS (Y/N)",
         "rawType": "float64",
         "type": "float"
        },
        {
         "name": " Age (yrs)",
         "rawType": "float64",
         "type": "float"
        },
        {
         "name": "Weight (Kg)",
         "rawType": "float64",
         "type": "float"
        },
        {
         "name": "Height(Cm) ",
         "rawType": "float64",
         "type": "float"
        },
        {
         "name": "BMI",
         "rawType": "float64",
         "type": "float"
        },
        {
         "name": "Blood Group",
         "rawType": "float64",
         "type": "float"
        },
        {
         "name": "Pulse rate(bpm) ",
         "rawType": "float64",
         "type": "float"
        },
        {
         "name": "RR (breaths/min)",
         "rawType": "float64",
         "type": "float"
        },
        {
         "name": "Hb(g/dl)",
         "rawType": "float64",
         "type": "float"
        },
        {
         "name": "Cycle(R/I)",
         "rawType": "float64",
         "type": "float"
        },
        {
         "name": "Cycle length(days)",
         "rawType": "float64",
         "type": "float"
        },
        {
         "name": "Marraige Status (Yrs)",
         "rawType": "float64",
         "type": "float"
        },
        {
         "name": "Pregnant(Y/N)",
         "rawType": "float64",
         "type": "float"
        },
        {
         "name": "No. of aborptions",
         "rawType": "float64",
         "type": "float"
        },
        {
         "name": "  I   beta-HCG(mIU/mL)",
         "rawType": "float64",
         "type": "float"
        },
        {
         "name": "FSH(mIU/mL)",
         "rawType": "float64",
         "type": "float"
        },
        {
         "name": "LH(mIU/mL)",
         "rawType": "float64",
         "type": "float"
        },
        {
         "name": "FSH/LH",
         "rawType": "float64",
         "type": "float"
        },
        {
         "name": "Hip(inch)",
         "rawType": "float64",
         "type": "float"
        },
        {
         "name": "Waist(inch)",
         "rawType": "float64",
         "type": "float"
        },
        {
         "name": "Waist:Hip Ratio",
         "rawType": "float64",
         "type": "float"
        },
        {
         "name": "TSH (mIU/L)",
         "rawType": "float64",
         "type": "float"
        },
        {
         "name": "PRL(ng/mL)",
         "rawType": "float64",
         "type": "float"
        },
        {
         "name": "Vit D3 (ng/mL)",
         "rawType": "float64",
         "type": "float"
        },
        {
         "name": "PRG(ng/mL)",
         "rawType": "float64",
         "type": "float"
        },
        {
         "name": "RBS(mg/dl)",
         "rawType": "float64",
         "type": "float"
        },
        {
         "name": "Weight gain(Y/N)",
         "rawType": "float64",
         "type": "float"
        },
        {
         "name": "hair growth(Y/N)",
         "rawType": "float64",
         "type": "float"
        },
        {
         "name": "Skin darkening (Y/N)",
         "rawType": "float64",
         "type": "float"
        },
        {
         "name": "Hair loss(Y/N)",
         "rawType": "float64",
         "type": "float"
        },
        {
         "name": "Pimples(Y/N)",
         "rawType": "float64",
         "type": "float"
        },
        {
         "name": "Fast food (Y/N)",
         "rawType": "float64",
         "type": "float"
        },
        {
         "name": "Reg.Exercise(Y/N)",
         "rawType": "float64",
         "type": "float"
        },
        {
         "name": "BP _Systolic (mmHg)",
         "rawType": "float64",
         "type": "float"
        },
        {
         "name": "BP _Diastolic (mmHg)",
         "rawType": "float64",
         "type": "float"
        },
        {
         "name": "Follicle No. (L)",
         "rawType": "float64",
         "type": "float"
        },
        {
         "name": "Follicle No. (R)",
         "rawType": "float64",
         "type": "float"
        },
        {
         "name": "Avg. F size (L) (mm)",
         "rawType": "float64",
         "type": "float"
        },
        {
         "name": "Avg. F size (R) (mm)",
         "rawType": "float64",
         "type": "float"
        },
        {
         "name": "Endometrium (mm)",
         "rawType": "float64",
         "type": "float"
        }
       ],
       "ref": "11df5ed0-c75c-45bd-8008-5ef3802c5bc5",
       "rows": [
        [
         "count",
         "541.0",
         "541.0",
         "541.0",
         "541.0",
         "541.0",
         "541.0",
         "541.0",
         "541.0",
         "541.0",
         "541.0",
         "541.0",
         "541.0",
         "541.0",
         "540.0",
         "541.0",
         "541.0",
         "541.0",
         "541.0",
         "541.0",
         "541.0",
         "541.0",
         "541.0",
         "541.0",
         "541.0",
         "541.0",
         "541.0",
         "541.0",
         "541.0",
         "541.0",
         "541.0",
         "541.0",
         "541.0",
         "541.0",
         "540.0",
         "541.0",
         "541.0",
         "541.0",
         "541.0",
         "541.0",
         "541.0",
         "541.0",
         "541.0"
        ],
        [
         "mean",
         "271.0",
         "271.0",
         "0.32717190388170053",
         "31.430683918669132",
         "59.63715341959335",
         "156.48483548983364",
         "24.31128466696858",
         "13.802218114602589",
         "73.24768946395564",
         "19.243992606284657",
         "11.16003696857671",
         "2.56007393715342",
         "4.9408502772643255",
         "7.6809259259259255",
         "0.3807763401109057",
         "0.28835489833641403",
         "664.5492347504621",
         "14.601831792975974",
         "6.469918669131238",
         "6.904830820488356",
         "37.99260628465804",
         "33.84103512014787",
         "0.8918945873369686",
         "2.9812809611829945",
         "24.321497227356748",
         "49.915874306839186",
         "0.6109445471349352",
         "99.8358595194085",
         "0.37707948243992606",
         "0.2735674676524954",
         "0.3068391866913124",
         "0.45286506469500926",
         "0.4898336414048059",
         "0.5148148148148148",
         "0.2476894639556377",
         "114.66173752310536",
         "76.9279112754159",
         "6.129390018484289",
         "6.641404805914973",
         "15.0181146025878",
         "15.45170055452865",
         "8.475914972273566"
        ],
        [
         "std",
         "156.31751874523428",
         "156.31751874523428",
         "0.46961484023836947",
         "5.4110056994552505",
         "11.028287132059972",
         "6.0335445399432395",
         "4.0563990861000665",
         "1.8408116860366328",
         "4.430285002919393",
         "1.6886291700723715",
         "0.8669044537687686",
         "0.9019501475121825",
         "1.4920202615497296",
         "4.803835344854867",
         "0.48602711770319645",
         "0.6925752210243216",
         "3348.92057648176",
         "217.02208070444033",
         "86.67325518841632",
         "60.69182231926178",
         "3.9679200692784438",
         "3.5968939842521737",
         "0.046325673951722816",
         "3.7555317656940206",
         "14.970390757118722",
         "346.20659854585614",
         "3.808853065030648",
         "18.559297576373325",
         "0.48510362692524567",
         "0.4462021107978168",
         "0.46160889130911853",
         "0.4982340279161597",
         "0.5003592876304106",
         "0.500243876482483",
         "0.43206997853559453",
         "7.384555701011989",
         "5.57411154517375",
         "4.2292943765514615",
         "4.436889244844173",
         "3.5668386450995033",
         "3.318848203677783",
         "2.165381273453607"
        ],
        [
         "min",
         "1.0",
         "1.0",
         "0.0",
         "20.0",
         "31.0",
         "137.0",
         "12.41788175",
         "11.0",
         "13.0",
         "16.0",
         "8.5",
         "2.0",
         "0.0",
         "0.0",
         "0.0",
         "0.0",
         "1.3",
         "0.21",
         "0.02",
         "0.002145688801",
         "26.0",
         "24.0",
         "0.7555555556",
         "0.04",
         "0.4",
         "0.0",
         "0.047",
         "60.0",
         "0.0",
         "0.0",
         "0.0",
         "0.0",
         "0.0",
         "0.0",
         "0.0",
         "12.0",
         "8.0",
         "0.0",
         "0.0",
         "0.0",
         "0.0",
         "0.0"
        ],
        [
         "25%",
         "136.0",
         "136.0",
         "0.0",
         "28.0",
         "52.0",
         "152.0",
         "21.64127424",
         "13.0",
         "72.0",
         "18.0",
         "10.5",
         "2.0",
         "4.0",
         "4.0",
         "0.0",
         "0.0",
         "1.99",
         "3.3",
         "1.02",
         "1.416243655",
         "36.0",
         "32.0",
         "0.8571428571",
         "1.48",
         "14.52",
         "20.8",
         "0.25",
         "92.0",
         "0.0",
         "0.0",
         "0.0",
         "0.0",
         "0.0",
         "0.0",
         "0.0",
         "110.0",
         "70.0",
         "3.0",
         "3.0",
         "13.0",
         "13.0",
         "7.0"
        ],
        [
         "50%",
         "271.0",
         "271.0",
         "0.0",
         "31.0",
         "59.0",
         "156.0",
         "24.23822715",
         "14.0",
         "72.0",
         "18.0",
         "11.0",
         "2.0",
         "5.0",
         "7.0",
         "0.0",
         "0.0",
         "20.0",
         "4.85",
         "2.3",
         "2.169230769",
         "38.0",
         "34.0",
         "0.8947368421",
         "2.26",
         "21.92",
         "25.9",
         "0.32",
         "100.0",
         "0.0",
         "0.0",
         "0.0",
         "0.0",
         "0.0",
         "1.0",
         "0.0",
         "110.0",
         "80.0",
         "5.0",
         "6.0",
         "15.0",
         "16.0",
         "8.5"
        ],
        [
         "75%",
         "406.0",
         "406.0",
         "1.0",
         "35.0",
         "65.0",
         "160.0",
         "26.63495838",
         "15.0",
         "74.0",
         "20.0",
         "11.7",
         "4.0",
         "5.0",
         "10.0",
         "1.0",
         "0.0",
         "297.21",
         "6.41",
         "3.68",
         "3.959183673",
         "40.0",
         "36.0",
         "0.9285714286",
         "3.57",
         "29.89",
         "34.5",
         "0.45",
         "107.0",
         "1.0",
         "1.0",
         "1.0",
         "1.0",
         "1.0",
         "1.0",
         "0.0",
         "120.0",
         "80.0",
         "9.0",
         "10.0",
         "18.0",
         "18.0",
         "9.8"
        ],
        [
         "max",
         "541.0",
         "541.0",
         "1.0",
         "48.0",
         "108.0",
         "180.0",
         "38.9",
         "18.0",
         "82.0",
         "28.0",
         "14.8",
         "5.0",
         "12.0",
         "30.0",
         "1.0",
         "5.0",
         "32460.97",
         "5052.0",
         "2018.0",
         "1372.826087",
         "48.0",
         "47.0",
         "0.9791666667",
         "65.0",
         "128.24",
         "6014.66",
         "85.0",
         "350.0",
         "1.0",
         "1.0",
         "1.0",
         "1.0",
         "1.0",
         "1.0",
         "1.0",
         "140.0",
         "100.0",
         "22.0",
         "20.0",
         "24.0",
         "24.0",
         "18.0"
        ]
       ],
       "shape": {
        "columns": 42,
        "rows": 8
       }
      },
      "text/html": [
       "<div>\n",
       "<style scoped>\n",
       "    .dataframe tbody tr th:only-of-type {\n",
       "        vertical-align: middle;\n",
       "    }\n",
       "\n",
       "    .dataframe tbody tr th {\n",
       "        vertical-align: top;\n",
       "    }\n",
       "\n",
       "    .dataframe thead th {\n",
       "        text-align: right;\n",
       "    }\n",
       "</style>\n",
       "<table border=\"1\" class=\"dataframe\">\n",
       "  <thead>\n",
       "    <tr style=\"text-align: right;\">\n",
       "      <th></th>\n",
       "      <th>Sl. No</th>\n",
       "      <th>Patient File No.</th>\n",
       "      <th>PCOS (Y/N)</th>\n",
       "      <th>Age (yrs)</th>\n",
       "      <th>Weight (Kg)</th>\n",
       "      <th>Height(Cm)</th>\n",
       "      <th>BMI</th>\n",
       "      <th>Blood Group</th>\n",
       "      <th>Pulse rate(bpm)</th>\n",
       "      <th>RR (breaths/min)</th>\n",
       "      <th>Hb(g/dl)</th>\n",
       "      <th>Cycle(R/I)</th>\n",
       "      <th>Cycle length(days)</th>\n",
       "      <th>Marraige Status (Yrs)</th>\n",
       "      <th>Pregnant(Y/N)</th>\n",
       "      <th>No. of aborptions</th>\n",
       "      <th>I   beta-HCG(mIU/mL)</th>\n",
       "      <th>FSH(mIU/mL)</th>\n",
       "      <th>LH(mIU/mL)</th>\n",
       "      <th>FSH/LH</th>\n",
       "      <th>Hip(inch)</th>\n",
       "      <th>Waist(inch)</th>\n",
       "      <th>Waist:Hip Ratio</th>\n",
       "      <th>TSH (mIU/L)</th>\n",
       "      <th>PRL(ng/mL)</th>\n",
       "      <th>Vit D3 (ng/mL)</th>\n",
       "      <th>PRG(ng/mL)</th>\n",
       "      <th>RBS(mg/dl)</th>\n",
       "      <th>Weight gain(Y/N)</th>\n",
       "      <th>hair growth(Y/N)</th>\n",
       "      <th>Skin darkening (Y/N)</th>\n",
       "      <th>Hair loss(Y/N)</th>\n",
       "      <th>Pimples(Y/N)</th>\n",
       "      <th>Fast food (Y/N)</th>\n",
       "      <th>Reg.Exercise(Y/N)</th>\n",
       "      <th>BP _Systolic (mmHg)</th>\n",
       "      <th>BP _Diastolic (mmHg)</th>\n",
       "      <th>Follicle No. (L)</th>\n",
       "      <th>Follicle No. (R)</th>\n",
       "      <th>Avg. F size (L) (mm)</th>\n",
       "      <th>Avg. F size (R) (mm)</th>\n",
       "      <th>Endometrium (mm)</th>\n",
       "    </tr>\n",
       "  </thead>\n",
       "  <tbody>\n",
       "    <tr>\n",
       "      <th>count</th>\n",
       "      <td>541.000000</td>\n",
       "      <td>541.000000</td>\n",
       "      <td>541.000000</td>\n",
       "      <td>541.000000</td>\n",
       "      <td>541.000000</td>\n",
       "      <td>541.000000</td>\n",
       "      <td>541.000000</td>\n",
       "      <td>541.000000</td>\n",
       "      <td>541.000000</td>\n",
       "      <td>541.000000</td>\n",
       "      <td>541.000000</td>\n",
       "      <td>541.000000</td>\n",
       "      <td>541.00000</td>\n",
       "      <td>540.000000</td>\n",
       "      <td>541.000000</td>\n",
       "      <td>541.000000</td>\n",
       "      <td>541.000000</td>\n",
       "      <td>541.000000</td>\n",
       "      <td>541.000000</td>\n",
       "      <td>541.000000</td>\n",
       "      <td>541.000000</td>\n",
       "      <td>541.000000</td>\n",
       "      <td>541.000000</td>\n",
       "      <td>541.000000</td>\n",
       "      <td>541.000000</td>\n",
       "      <td>541.000000</td>\n",
       "      <td>541.000000</td>\n",
       "      <td>541.000000</td>\n",
       "      <td>541.000000</td>\n",
       "      <td>541.000000</td>\n",
       "      <td>541.000000</td>\n",
       "      <td>541.000000</td>\n",
       "      <td>541.000000</td>\n",
       "      <td>540.000000</td>\n",
       "      <td>541.000000</td>\n",
       "      <td>541.000000</td>\n",
       "      <td>541.000000</td>\n",
       "      <td>541.000000</td>\n",
       "      <td>541.000000</td>\n",
       "      <td>541.000000</td>\n",
       "      <td>541.000000</td>\n",
       "      <td>541.000000</td>\n",
       "    </tr>\n",
       "    <tr>\n",
       "      <th>mean</th>\n",
       "      <td>271.000000</td>\n",
       "      <td>271.000000</td>\n",
       "      <td>0.327172</td>\n",
       "      <td>31.430684</td>\n",
       "      <td>59.637153</td>\n",
       "      <td>156.484835</td>\n",
       "      <td>24.311285</td>\n",
       "      <td>13.802218</td>\n",
       "      <td>73.247689</td>\n",
       "      <td>19.243993</td>\n",
       "      <td>11.160037</td>\n",
       "      <td>2.560074</td>\n",
       "      <td>4.94085</td>\n",
       "      <td>7.680926</td>\n",
       "      <td>0.380776</td>\n",
       "      <td>0.288355</td>\n",
       "      <td>664.549235</td>\n",
       "      <td>14.601832</td>\n",
       "      <td>6.469919</td>\n",
       "      <td>6.904831</td>\n",
       "      <td>37.992606</td>\n",
       "      <td>33.841035</td>\n",
       "      <td>0.891895</td>\n",
       "      <td>2.981281</td>\n",
       "      <td>24.321497</td>\n",
       "      <td>49.915874</td>\n",
       "      <td>0.610945</td>\n",
       "      <td>99.835860</td>\n",
       "      <td>0.377079</td>\n",
       "      <td>0.273567</td>\n",
       "      <td>0.306839</td>\n",
       "      <td>0.452865</td>\n",
       "      <td>0.489834</td>\n",
       "      <td>0.514815</td>\n",
       "      <td>0.247689</td>\n",
       "      <td>114.661738</td>\n",
       "      <td>76.927911</td>\n",
       "      <td>6.129390</td>\n",
       "      <td>6.641405</td>\n",
       "      <td>15.018115</td>\n",
       "      <td>15.451701</td>\n",
       "      <td>8.475915</td>\n",
       "    </tr>\n",
       "    <tr>\n",
       "      <th>std</th>\n",
       "      <td>156.317519</td>\n",
       "      <td>156.317519</td>\n",
       "      <td>0.469615</td>\n",
       "      <td>5.411006</td>\n",
       "      <td>11.028287</td>\n",
       "      <td>6.033545</td>\n",
       "      <td>4.056399</td>\n",
       "      <td>1.840812</td>\n",
       "      <td>4.430285</td>\n",
       "      <td>1.688629</td>\n",
       "      <td>0.866904</td>\n",
       "      <td>0.901950</td>\n",
       "      <td>1.49202</td>\n",
       "      <td>4.803835</td>\n",
       "      <td>0.486027</td>\n",
       "      <td>0.692575</td>\n",
       "      <td>3348.920576</td>\n",
       "      <td>217.022081</td>\n",
       "      <td>86.673255</td>\n",
       "      <td>60.691822</td>\n",
       "      <td>3.967920</td>\n",
       "      <td>3.596894</td>\n",
       "      <td>0.046326</td>\n",
       "      <td>3.755532</td>\n",
       "      <td>14.970391</td>\n",
       "      <td>346.206599</td>\n",
       "      <td>3.808853</td>\n",
       "      <td>18.559298</td>\n",
       "      <td>0.485104</td>\n",
       "      <td>0.446202</td>\n",
       "      <td>0.461609</td>\n",
       "      <td>0.498234</td>\n",
       "      <td>0.500359</td>\n",
       "      <td>0.500244</td>\n",
       "      <td>0.432070</td>\n",
       "      <td>7.384556</td>\n",
       "      <td>5.574112</td>\n",
       "      <td>4.229294</td>\n",
       "      <td>4.436889</td>\n",
       "      <td>3.566839</td>\n",
       "      <td>3.318848</td>\n",
       "      <td>2.165381</td>\n",
       "    </tr>\n",
       "    <tr>\n",
       "      <th>min</th>\n",
       "      <td>1.000000</td>\n",
       "      <td>1.000000</td>\n",
       "      <td>0.000000</td>\n",
       "      <td>20.000000</td>\n",
       "      <td>31.000000</td>\n",
       "      <td>137.000000</td>\n",
       "      <td>12.417882</td>\n",
       "      <td>11.000000</td>\n",
       "      <td>13.000000</td>\n",
       "      <td>16.000000</td>\n",
       "      <td>8.500000</td>\n",
       "      <td>2.000000</td>\n",
       "      <td>0.00000</td>\n",
       "      <td>0.000000</td>\n",
       "      <td>0.000000</td>\n",
       "      <td>0.000000</td>\n",
       "      <td>1.300000</td>\n",
       "      <td>0.210000</td>\n",
       "      <td>0.020000</td>\n",
       "      <td>0.002146</td>\n",
       "      <td>26.000000</td>\n",
       "      <td>24.000000</td>\n",
       "      <td>0.755556</td>\n",
       "      <td>0.040000</td>\n",
       "      <td>0.400000</td>\n",
       "      <td>0.000000</td>\n",
       "      <td>0.047000</td>\n",
       "      <td>60.000000</td>\n",
       "      <td>0.000000</td>\n",
       "      <td>0.000000</td>\n",
       "      <td>0.000000</td>\n",
       "      <td>0.000000</td>\n",
       "      <td>0.000000</td>\n",
       "      <td>0.000000</td>\n",
       "      <td>0.000000</td>\n",
       "      <td>12.000000</td>\n",
       "      <td>8.000000</td>\n",
       "      <td>0.000000</td>\n",
       "      <td>0.000000</td>\n",
       "      <td>0.000000</td>\n",
       "      <td>0.000000</td>\n",
       "      <td>0.000000</td>\n",
       "    </tr>\n",
       "    <tr>\n",
       "      <th>25%</th>\n",
       "      <td>136.000000</td>\n",
       "      <td>136.000000</td>\n",
       "      <td>0.000000</td>\n",
       "      <td>28.000000</td>\n",
       "      <td>52.000000</td>\n",
       "      <td>152.000000</td>\n",
       "      <td>21.641274</td>\n",
       "      <td>13.000000</td>\n",
       "      <td>72.000000</td>\n",
       "      <td>18.000000</td>\n",
       "      <td>10.500000</td>\n",
       "      <td>2.000000</td>\n",
       "      <td>4.00000</td>\n",
       "      <td>4.000000</td>\n",
       "      <td>0.000000</td>\n",
       "      <td>0.000000</td>\n",
       "      <td>1.990000</td>\n",
       "      <td>3.300000</td>\n",
       "      <td>1.020000</td>\n",
       "      <td>1.416244</td>\n",
       "      <td>36.000000</td>\n",
       "      <td>32.000000</td>\n",
       "      <td>0.857143</td>\n",
       "      <td>1.480000</td>\n",
       "      <td>14.520000</td>\n",
       "      <td>20.800000</td>\n",
       "      <td>0.250000</td>\n",
       "      <td>92.000000</td>\n",
       "      <td>0.000000</td>\n",
       "      <td>0.000000</td>\n",
       "      <td>0.000000</td>\n",
       "      <td>0.000000</td>\n",
       "      <td>0.000000</td>\n",
       "      <td>0.000000</td>\n",
       "      <td>0.000000</td>\n",
       "      <td>110.000000</td>\n",
       "      <td>70.000000</td>\n",
       "      <td>3.000000</td>\n",
       "      <td>3.000000</td>\n",
       "      <td>13.000000</td>\n",
       "      <td>13.000000</td>\n",
       "      <td>7.000000</td>\n",
       "    </tr>\n",
       "    <tr>\n",
       "      <th>50%</th>\n",
       "      <td>271.000000</td>\n",
       "      <td>271.000000</td>\n",
       "      <td>0.000000</td>\n",
       "      <td>31.000000</td>\n",
       "      <td>59.000000</td>\n",
       "      <td>156.000000</td>\n",
       "      <td>24.238227</td>\n",
       "      <td>14.000000</td>\n",
       "      <td>72.000000</td>\n",
       "      <td>18.000000</td>\n",
       "      <td>11.000000</td>\n",
       "      <td>2.000000</td>\n",
       "      <td>5.00000</td>\n",
       "      <td>7.000000</td>\n",
       "      <td>0.000000</td>\n",
       "      <td>0.000000</td>\n",
       "      <td>20.000000</td>\n",
       "      <td>4.850000</td>\n",
       "      <td>2.300000</td>\n",
       "      <td>2.169231</td>\n",
       "      <td>38.000000</td>\n",
       "      <td>34.000000</td>\n",
       "      <td>0.894737</td>\n",
       "      <td>2.260000</td>\n",
       "      <td>21.920000</td>\n",
       "      <td>25.900000</td>\n",
       "      <td>0.320000</td>\n",
       "      <td>100.000000</td>\n",
       "      <td>0.000000</td>\n",
       "      <td>0.000000</td>\n",
       "      <td>0.000000</td>\n",
       "      <td>0.000000</td>\n",
       "      <td>0.000000</td>\n",
       "      <td>1.000000</td>\n",
       "      <td>0.000000</td>\n",
       "      <td>110.000000</td>\n",
       "      <td>80.000000</td>\n",
       "      <td>5.000000</td>\n",
       "      <td>6.000000</td>\n",
       "      <td>15.000000</td>\n",
       "      <td>16.000000</td>\n",
       "      <td>8.500000</td>\n",
       "    </tr>\n",
       "    <tr>\n",
       "      <th>75%</th>\n",
       "      <td>406.000000</td>\n",
       "      <td>406.000000</td>\n",
       "      <td>1.000000</td>\n",
       "      <td>35.000000</td>\n",
       "      <td>65.000000</td>\n",
       "      <td>160.000000</td>\n",
       "      <td>26.634958</td>\n",
       "      <td>15.000000</td>\n",
       "      <td>74.000000</td>\n",
       "      <td>20.000000</td>\n",
       "      <td>11.700000</td>\n",
       "      <td>4.000000</td>\n",
       "      <td>5.00000</td>\n",
       "      <td>10.000000</td>\n",
       "      <td>1.000000</td>\n",
       "      <td>0.000000</td>\n",
       "      <td>297.210000</td>\n",
       "      <td>6.410000</td>\n",
       "      <td>3.680000</td>\n",
       "      <td>3.959184</td>\n",
       "      <td>40.000000</td>\n",
       "      <td>36.000000</td>\n",
       "      <td>0.928571</td>\n",
       "      <td>3.570000</td>\n",
       "      <td>29.890000</td>\n",
       "      <td>34.500000</td>\n",
       "      <td>0.450000</td>\n",
       "      <td>107.000000</td>\n",
       "      <td>1.000000</td>\n",
       "      <td>1.000000</td>\n",
       "      <td>1.000000</td>\n",
       "      <td>1.000000</td>\n",
       "      <td>1.000000</td>\n",
       "      <td>1.000000</td>\n",
       "      <td>0.000000</td>\n",
       "      <td>120.000000</td>\n",
       "      <td>80.000000</td>\n",
       "      <td>9.000000</td>\n",
       "      <td>10.000000</td>\n",
       "      <td>18.000000</td>\n",
       "      <td>18.000000</td>\n",
       "      <td>9.800000</td>\n",
       "    </tr>\n",
       "    <tr>\n",
       "      <th>max</th>\n",
       "      <td>541.000000</td>\n",
       "      <td>541.000000</td>\n",
       "      <td>1.000000</td>\n",
       "      <td>48.000000</td>\n",
       "      <td>108.000000</td>\n",
       "      <td>180.000000</td>\n",
       "      <td>38.900000</td>\n",
       "      <td>18.000000</td>\n",
       "      <td>82.000000</td>\n",
       "      <td>28.000000</td>\n",
       "      <td>14.800000</td>\n",
       "      <td>5.000000</td>\n",
       "      <td>12.00000</td>\n",
       "      <td>30.000000</td>\n",
       "      <td>1.000000</td>\n",
       "      <td>5.000000</td>\n",
       "      <td>32460.970000</td>\n",
       "      <td>5052.000000</td>\n",
       "      <td>2018.000000</td>\n",
       "      <td>1372.826087</td>\n",
       "      <td>48.000000</td>\n",
       "      <td>47.000000</td>\n",
       "      <td>0.979167</td>\n",
       "      <td>65.000000</td>\n",
       "      <td>128.240000</td>\n",
       "      <td>6014.660000</td>\n",
       "      <td>85.000000</td>\n",
       "      <td>350.000000</td>\n",
       "      <td>1.000000</td>\n",
       "      <td>1.000000</td>\n",
       "      <td>1.000000</td>\n",
       "      <td>1.000000</td>\n",
       "      <td>1.000000</td>\n",
       "      <td>1.000000</td>\n",
       "      <td>1.000000</td>\n",
       "      <td>140.000000</td>\n",
       "      <td>100.000000</td>\n",
       "      <td>22.000000</td>\n",
       "      <td>20.000000</td>\n",
       "      <td>24.000000</td>\n",
       "      <td>24.000000</td>\n",
       "      <td>18.000000</td>\n",
       "    </tr>\n",
       "  </tbody>\n",
       "</table>\n",
       "</div>"
      ],
      "text/plain": [
       "           Sl. No  Patient File No.  ...  Avg. F size (R) (mm)  Endometrium (mm)\n",
       "count  541.000000        541.000000  ...            541.000000        541.000000\n",
       "mean   271.000000        271.000000  ...             15.451701          8.475915\n",
       "std    156.317519        156.317519  ...              3.318848          2.165381\n",
       "min      1.000000          1.000000  ...              0.000000          0.000000\n",
       "25%    136.000000        136.000000  ...             13.000000          7.000000\n",
       "50%    271.000000        271.000000  ...             16.000000          8.500000\n",
       "75%    406.000000        406.000000  ...             18.000000          9.800000\n",
       "max    541.000000        541.000000  ...             24.000000         18.000000\n",
       "\n",
       "[8 rows x 42 columns]"
      ]
     },
     "execution_count": 73,
     "metadata": {},
     "output_type": "execute_result"
    }
   ],
   "source": [
    "df.describe()"
   ]
  },
  {
   "cell_type": "markdown",
   "id": "b8711053",
   "metadata": {},
   "source": [
    "## 3. Data Preprocessing\n",
    "- Drop unnecessary features.\n",
    "- Correct feature names.\n",
    "- Deal with missing values.\n",
    "- Modify wrong data types."
   ]
  },
  {
   "cell_type": "markdown",
   "id": "762527bc",
   "metadata": {},
   "source": [
    "### Correcting Feature Names"
   ]
  },
  {
   "cell_type": "code",
   "execution_count": 74,
   "id": "1949507f",
   "metadata": {},
   "outputs": [],
   "source": [
    "df[\"Marriage Status (Yrs)\"] = df[\"Marraige Status (Yrs)\"]"
   ]
  },
  {
   "cell_type": "markdown",
   "id": "8d3bb23d",
   "metadata": {},
   "source": [
    "### Dropping Unnecessary Features"
   ]
  },
  {
   "cell_type": "code",
   "execution_count": 75,
   "id": "23c0e121",
   "metadata": {},
   "outputs": [],
   "source": [
    "df = df.drop(\n",
    "    columns=[\"Unnamed: 44\", \"Sl. No\", \"Patient File No.\", \"Marraige Status (Yrs)\"]\n",
    ")"
   ]
  },
  {
   "cell_type": "markdown",
   "id": "23dc53e1",
   "metadata": {},
   "source": [
    "### Dealing with Missing Values"
   ]
  },
  {
   "cell_type": "code",
   "execution_count": 76,
   "id": "1d5d2b1f",
   "metadata": {},
   "outputs": [
    {
     "data": {
      "application/vnd.microsoft.datawrangler.viewer.v0+json": {
       "columns": [
        {
         "name": "index",
         "rawType": "object",
         "type": "string"
        },
        {
         "name": "0",
         "rawType": "int64",
         "type": "integer"
        }
       ],
       "ref": "bfd830c1-999d-4f11-b5ea-0374e28fa7be",
       "rows": [
        [
         "Fast food (Y/N)",
         "1"
        ],
        [
         "Marriage Status (Yrs)",
         "1"
        ]
       ],
       "shape": {
        "columns": 1,
        "rows": 2
       }
      },
      "text/plain": [
       "Fast food (Y/N)          1\n",
       "Marriage Status (Yrs)    1\n",
       "dtype: int64"
      ]
     },
     "execution_count": 76,
     "metadata": {},
     "output_type": "execute_result"
    }
   ],
   "source": [
    "null_columns = df.columns[df.isnull().any()]\n",
    "df[null_columns].isnull().sum()"
   ]
  },
  {
   "cell_type": "markdown",
   "id": "692213ed",
   "metadata": {},
   "source": [
    "According to the null check, the columns `Marriage Status (Yrs)` and `Fast food (Y/N)` each contain one missing value. The missing value in `Marriage Status (Yrs)` will be replaced with the median of the feature, while the one in `Fast food (Y/N)` will be replaced with the most frequent value (mode)."
   ]
  },
  {
   "cell_type": "code",
   "execution_count": 77,
   "id": "f9c548a0",
   "metadata": {},
   "outputs": [
    {
     "data": {
      "application/vnd.microsoft.datawrangler.viewer.v0+json": {
       "columns": [
        {
         "name": "index",
         "rawType": "object",
         "type": "string"
        },
        {
         "name": "0",
         "rawType": "float64",
         "type": "float"
        }
       ],
       "ref": "c76cdfd8-83c2-47a1-80c4-50f108cd1d34",
       "rows": [],
       "shape": {
        "columns": 1,
        "rows": 0
       }
      },
      "text/plain": [
       "Series([], dtype: float64)"
      ]
     },
     "execution_count": 77,
     "metadata": {},
     "output_type": "execute_result"
    }
   ],
   "source": [
    "df[\"Marriage Status (Yrs)\"] = df[\"Marriage Status (Yrs)\"].fillna(\n",
    "    df[\"Marriage Status (Yrs)\"].median()\n",
    ")\n",
    "df[\"Fast food (Y/N)\"] = df[\"Fast food (Y/N)\"].fillna(df[\"Fast food (Y/N)\"].mode()[0])\n",
    "\n",
    "null_columns = df.columns[df.isnull().any()]\n",
    "df[null_columns].isnull().sum()"
   ]
  },
  {
   "cell_type": "markdown",
   "id": "f030fb51",
   "metadata": {},
   "source": [
    "### Modifying Wrong Data Types\n",
    "The columns `II    beta-HCG(mIU/mL)` and `AMH(ng/mL)` include three different datatypes. Therefore, they will be converted to float."
   ]
  },
  {
   "cell_type": "code",
   "execution_count": 78,
   "id": "60752536",
   "metadata": {},
   "outputs": [
    {
     "name": "stdout",
     "output_type": "stream",
     "text": [
      "'II    beta-HCG(mIU/mL)' contains 3 datatypes: {<class 'int'>, <class 'str'>, <class 'float'>}\n",
      "'AMH(ng/mL)' contains 3 datatypes: {<class 'int'>, <class 'str'>, <class 'float'>}\n"
     ]
    }
   ],
   "source": [
    "n_datatypes_II = df[\"II    beta-HCG(mIU/mL)\"].apply(type).nunique()\n",
    "n_datatypes_AMH = df[\"AMH(ng/mL)\"].apply(type).nunique()\n",
    "\n",
    "types_in_col_II = set(type(x) for x in df[\"II    beta-HCG(mIU/mL)\"])\n",
    "types_in_col_AMH = set(type(x) for x in df[\"AMH(ng/mL)\"])\n",
    "\n",
    "print(\n",
    "    f\"'II    beta-HCG(mIU/mL)' contains {n_datatypes_II} datatypes: {types_in_col_II}\"\n",
    ")\n",
    "print(f\"'AMH(ng/mL)' contains {n_datatypes_AMH} datatypes: {types_in_col_AMH}\")"
   ]
  },
  {
   "cell_type": "markdown",
   "id": "28966f13",
   "metadata": {},
   "source": [
    "A couple of typographical errors have been identified, which must be addressed manually prior to converting data types:\n",
    "- '1.99.' -> '1.99' (`II    beta-HCG(mIU/mL)`)\n",
    "- 'a' -> median() (`AMH(ng/mL)`)"
   ]
  },
  {
   "cell_type": "code",
   "execution_count": 79,
   "id": "aae0aded",
   "metadata": {},
   "outputs": [],
   "source": [
    "df.loc[123, \"II    beta-HCG(mIU/mL)\"] = df.loc[123, \"II    beta-HCG(mIU/mL)\"][:-1]\n",
    "df[\"II    beta-HCG(mIU/mL)\"] = pd.to_numeric(df[\"II    beta-HCG(mIU/mL)\"])"
   ]
  },
  {
   "cell_type": "code",
   "execution_count": 80,
   "id": "1cce7681",
   "metadata": {},
   "outputs": [],
   "source": [
    "df[\"AMH(ng/mL)\"] = pd.to_numeric(df[\"AMH(ng/mL)\"], errors=\"coerce\")\n",
    "df[\"AMH(ng/mL)\"] = df[\"AMH(ng/mL)\"].fillna(df[\"AMH(ng/mL)\"].median())"
   ]
  },
  {
   "cell_type": "code",
   "execution_count": 81,
   "id": "f8ae4521",
   "metadata": {},
   "outputs": [
    {
     "name": "stdout",
     "output_type": "stream",
     "text": [
      "'II    beta-HCG(mIU/mL)' contains 1 datatypes: {<class 'float'>}\n",
      "'AMH(ng/mL)' contains 1 datatypes: {<class 'float'>}\n"
     ]
    }
   ],
   "source": [
    "n_datatypes_II = df[\"II    beta-HCG(mIU/mL)\"].apply(type).nunique()\n",
    "n_datatypes_AMH = df[\"AMH(ng/mL)\"].apply(type).nunique()\n",
    "\n",
    "types_in_col_II = set(type(x) for x in df[\"II    beta-HCG(mIU/mL)\"])\n",
    "types_in_col_AMH = set(type(x) for x in df[\"AMH(ng/mL)\"])\n",
    "\n",
    "print(\n",
    "    f\"'II    beta-HCG(mIU/mL)' contains {n_datatypes_II} datatypes: {types_in_col_II}\"\n",
    ")\n",
    "print(f\"'AMH(ng/mL)' contains {n_datatypes_AMH} datatypes: {types_in_col_AMH}\")"
   ]
  },
  {
   "cell_type": "markdown",
   "id": "609f85e3",
   "metadata": {},
   "source": [
    "## 4. Exploratory Data Analysis"
   ]
  },
  {
   "cell_type": "code",
   "execution_count": 82,
   "id": "b541f9e2",
   "metadata": {},
   "outputs": [],
   "source": [
    "def plot_correlation_matrix(df: pd.DataFrame, method: str = \"pearson\") -> pd.DataFrame:\n",
    "    num_columns = df.select_dtypes(include=\"number\")\n",
    "    plt.figure(figsize=(12, 8))\n",
    "    corr = num_columns.corr(method=method)\n",
    "    sns.heatmap(corr, square=True)\n",
    "    plt.title(f\"{method.title()} Correlation Matrix\")\n",
    "    plt.xticks(rotation=45, ha=\"right\")\n",
    "    plt.yticks()\n",
    "    plt.tight_layout()\n",
    "    plt.show()\n",
    "    return corr"
   ]
  },
  {
   "cell_type": "code",
   "execution_count": 83,
   "id": "f2c841f5",
   "metadata": {},
   "outputs": [
    {
     "data": {
      "image/png": "[encoded data removed]",
      "text/plain": [
       "<Figure size 1200x800 with 2 Axes>"
      ]
     },
     "metadata": {},
     "output_type": "display_data"
    }
   ],
   "source": [
    "corr_matrix = plot_correlation_matrix(df)"
   ]
  },
  {
   "cell_type": "markdown",
   "id": "c4a2a52d",
   "metadata": {},
   "source": [
    "Here are the top ten features correlated with the diagnosis of PCOS in descending order."
   ]
  },
  {
   "cell_type": "code",
   "execution_count": 84,
   "id": "4df2c0ca",
   "metadata": {},
   "outputs": [
    {
     "data": {
      "application/vnd.microsoft.datawrangler.viewer.v0+json": {
       "columns": [
        {
         "name": "index",
         "rawType": "object",
         "type": "string"
        },
        {
         "name": "PCOS (Y/N)",
         "rawType": "float64",
         "type": "float"
        }
       ],
       "ref": "fd5457d5-a4a5-4c24-93d6-f5de30c13459",
       "rows": [
        [
         "PCOS (Y/N)",
         "1.0"
        ],
        [
         "Follicle No. (R)",
         "0.6483269560999778"
        ],
        [
         "Follicle No. (L)",
         "0.6033461529569702"
        ],
        [
         "Skin darkening (Y/N)",
         "0.4757330238463864"
        ],
        [
         "hair growth(Y/N)",
         "0.4646666251220084"
        ],
        [
         "Weight gain(Y/N)",
         "0.441047267155595"
        ],
        [
         "Cycle(R/I)",
         "0.40164375375635875"
        ],
        [
         "Fast food (Y/N)",
         "0.37618275273534524"
        ],
        [
         "Pimples(Y/N)",
         "0.28607667713408585"
        ],
        [
         "AMH(ng/mL)",
         "0.2641408639773864"
        ]
       ],
       "shape": {
        "columns": 1,
        "rows": 10
       }
      },
      "text/plain": [
       "PCOS (Y/N)              1.000000\n",
       "Follicle No. (R)        0.648327\n",
       "Follicle No. (L)        0.603346\n",
       "Skin darkening (Y/N)    0.475733\n",
       "hair growth(Y/N)        0.464667\n",
       "Weight gain(Y/N)        0.441047\n",
       "Cycle(R/I)              0.401644\n",
       "Fast food (Y/N)         0.376183\n",
       "Pimples(Y/N)            0.286077\n",
       "AMH(ng/mL)              0.264141\n",
       "Name: PCOS (Y/N), dtype: float64"
      ]
     },
     "execution_count": 84,
     "metadata": {},
     "output_type": "execute_result"
    }
   ],
   "source": [
    "corr_matrix[\"PCOS (Y/N)\"].sort_values(ascending=False)[:10]"
   ]
  },
  {
   "cell_type": "code",
   "execution_count": 85,
   "id": "e7ef224b",
   "metadata": {},
   "outputs": [
    {
     "data": {
      "image/png": "[encoded data removed]",
      "text/plain": [
       "<Figure size 640x480 with 1 Axes>"
      ]
     },
     "metadata": {},
     "output_type": "display_data"
    }
   ],
   "source": [
    "ax = sns.countplot(df, x=\"PCOS (Y/N)\", hue=\"PCOS (Y/N)\", palette=\"Set2\")\n",
    "for container in ax.containers:\n",
    "    ax.bar_label(container, fontsize=12)\n",
    "plt.show()"
   ]
  },
  {
   "cell_type": "markdown",
   "id": "94ca66fe",
   "metadata": {},
   "source": [
    "The imbalance of the target value may result in poor predictive performance, especially for minority class. To address this issue, we can either **oversample the minority class** or **undersamble the majority class** during training process. "
   ]
  },
  {
   "cell_type": "markdown",
   "id": "3f9eb025",
   "metadata": {},
   "source": [
    "## 5. Predictive Modelling\n",
    "For this dataset, six classifiers will be compared for evaluation:\n",
    "- Logistic Regression\n",
    "- K-Nearest Neighbour Classifier\n",
    "- Support Vector Machine\n",
    "- Decision Tree Classifier\n",
    "- Random Forest Classifier\n",
    "- XGBoost Classifier"
   ]
  },
  {
   "cell_type": "code",
   "execution_count": 86,
   "id": "36161d46",
   "metadata": {},
   "outputs": [],
   "source": [
    "from sklearn.model_selection import train_test_split, StratifiedKFold\n",
    "from sklearn.preprocessing import StandardScaler\n",
    "from imblearn.over_sampling import SMOTE\n",
    "\n",
    "X = df.drop(columns=[\"PCOS (Y/N)\"])\n",
    "y = df[\"PCOS (Y/N)\"]\n",
    "\n",
    "X_train, X_test, y_train, y_test = train_test_split(\n",
    "    X, y, test_size=0.2, stratify=y, random_state=42\n",
    ")"
   ]
  },
  {
   "cell_type": "markdown",
   "id": "96507e99",
   "metadata": {},
   "source": [
    "### Standardisation\n",
    "Some machine learning models, such as KNN and SVM, compute distances or rely on dot products. Thus, they require scaled features to avoid biased results. Standardisation is generally preferred for most algorithms when features are normally distributed or when using regularised models. Normalisation would be useful if the data are not Gaussian or when we want all features strictly in the same range (e.g., for neural networks)"
   ]
  },
  {
   "cell_type": "code",
   "execution_count": 87,
   "id": "47886fe3",
   "metadata": {},
   "outputs": [],
   "source": [
    "scaler = StandardScaler()\n",
    "X_train_scaled = scaler.fit_transform(X_train)\n",
    "X_test_scaled = scaler.transform(X_test)"
   ]
  },
  {
   "cell_type": "markdown",
   "id": "65061395",
   "metadata": {},
   "source": [
    "### Hyperparameter Tuning\n",
    "Optimisation of hyperparameters is essential to obtain the best performance from machine learning models. **Grid Search** or **Random Search** is typically used to find the best hyperparameters with cross-validation.\n",
    "\n",
    "We use the stratified K-Fold cross-validator `StratifiedKFold()`. With this approach, each fold maintains approximately the same percentage of samples for each class as found in the original dataset. This technique is especially suitable for classification problems with imbalanced classes, preventing bias caused by random splitting and ensuring fair evaluation of all classes."
   ]
  },
  {
   "cell_type": "code",
   "execution_count": 88,
   "id": "fb27b1fb",
   "metadata": {},
   "outputs": [],
   "source": [
    "from sklearn.ensemble import RandomForestClassifier\n",
    "from sklearn.linear_model import LogisticRegression\n",
    "from sklearn.neighbors import KNeighborsClassifier\n",
    "from sklearn.svm import SVC\n",
    "from sklearn.tree import DecisionTreeClassifier\n",
    "from xgboost import XGBClassifier\n",
    "from sklearn.model_selection import GridSearchCV"
   ]
  },
  {
   "cell_type": "code",
   "execution_count": null,
   "id": "6c7d6c76",
   "metadata": {},
   "outputs": [
    {
     "name": "stdout",
     "output_type": "stream",
     "text": [
      "Best parameters for Logistic Regression: {'C': 0.1, 'penalty': 'l2', 'solver': 'liblinear'}\n",
      "Best mean cross-validated score: 0.8096\n"
     ]
    }
   ],
   "source": [
    "log_reg_param_grid = {\n",
    "    \"C\": [0.01, 0.1, 1.0, 10.0, 100.0],\n",
    "    \"solver\": [\"lbfgs\", \"liblinear\"],\n",
    "    \"penalty\": [\"l2\"],\n",
    "}\n",
    "\n",
    "log_reg = LogisticRegression(max_iter=1000, random_state=42)\n",
    "skf = StratifiedKFold(n_splits=5, shuffle=True, random_state=42)\n",
    "grid_log_reg = GridSearchCV(\n",
    "    estimator=log_reg, param_grid=log_reg_param_grid, scoring=\"f1\", cv=skf, n_jobs=-1\n",
    ")\n",
    "grid_log_reg.fit(X_train_scaled, y_train)\n",
    "print(f\"Best parameters for Logistic Regression: {grid_log_reg.best_params_}\")\n",
    "print(f\"Best mean cross-validated score: {grid_log_reg.best_score_:.4f}\")"
   ]
  },
  {
   "cell_type": "markdown",
   "id": "de54a3d6",
   "metadata": {},
   "source": [
    "Instead of manually repeating the hyperparameter tuning process for each model under evaluation, we can employ a `Pipeline` to automate the entire workflow. A pipeline establishes a structured sequence for data preprocessing, model building, and evaluation. This approach enables us to modularise the machine learning process, making it significantly more efficient and scalable. Firstly, let's define classifiers and parameter grids for all the models."
   ]
  },
  {
   "cell_type": "code",
   "execution_count": 90,
   "id": "f15099a6",
   "metadata": {},
   "outputs": [],
   "source": [
    "classifiers = {\n",
    "    \"Logistic Regression\": LogisticRegression(max_iter=1000, random_state=42),\n",
    "    \"KNN\": KNeighborsClassifier(),\n",
    "    \"SVM\": SVC(probability=True, random_state=42),\n",
    "    \"Decision Tree\": DecisionTreeClassifier(random_state=42),\n",
    "    \"Random Forest\": RandomForestClassifier(random_state=42),\n",
    "    \"XGBoost\": XGBClassifier(eval_metric=\"logloss\", random_state=42),\n",
    "}\n",
    "\n",
    "param_grids = {\n",
    "    \"Logistic Regression\": {\n",
    "        \"clf__C\": [0.01, 0.1, 1, 10, 100],\n",
    "        \"clf__solver\": [\"lbfgs\", \"liblinear\"],\n",
    "        \"clf__penalty\": [\"l2\"],\n",
    "    },\n",
    "    \"KNN\": {\n",
    "        \"clf__n_neighbors\": [3, 5, 7, 9],\n",
    "        \"clf__weights\": [\"uniform\", \"distance\"],\n",
    "        \"clf__metric\": [\"euclidean\", \"manhattan\"],\n",
    "    },\n",
    "    \"SVM\": {\n",
    "        \"clf__C\": [0.1, 1, 10, 100],\n",
    "        \"clf__kernel\": [\"rbf\", \"linear\"],\n",
    "        \"clf__gamma\": [\"scale\", \"auto\"],\n",
    "    },\n",
    "    \"Decision Tree\": {\n",
    "        \"clf__max_depth\": [None, 5, 10, 20],\n",
    "        \"clf__min_samples_split\": [2, 5, 10],\n",
    "        \"clf__criterion\": [\"gini\", \"entropy\"],\n",
    "    },\n",
    "    \"Random Forest\": {\n",
    "        \"clf__n_estimators\": [50, 100, 200],\n",
    "        \"clf__max_depth\": [None, 5, 10, 20],\n",
    "        \"clf__min_samples_split\": [2, 5, 10],\n",
    "        \"clf__max_features\": [None, \"sqrt\", \"log2\"],\n",
    "    },\n",
    "    \"XGBoost\": {\n",
    "        \"clf__n_estimators\": [50, 100, 200],\n",
    "        \"clf__max_depth\": [3, 5, 7],\n",
    "        \"clf__learning_rate\": [0.01, 0.1, 0.2],\n",
    "        \"clf__subsample\": [0.6, 0.8, 1.0],\n",
    "        \"clf__colsample_bytree\": [0.6, 0.8, 1.0],\n",
    "    },\n",
    "}\n"
   ]
  },
  {
   "cell_type": "markdown",
   "id": "61dfd9f2",
   "metadata": {},
   "source": [
    "As mentioned in [4. Exploratory Data Analysis](#4-exploratory-data-analysis), the target variable shows class imbalance, which may result in misleading performance metrics. To address this, we employ the **Synthetic Minority Oversampling Technique** (SMOTE), which generates synthetic samples for the minority class by interpolating between existing minority instances. This approach reduces overfitting compared to simple duplication.\n",
    "\n",
    "SMOTE is an oversampler from the imbalanced-learn library, and while it does implement the necessary methods, it is not compatible with `sklearn.pipeline.Pipeline`. Instead, `imblearn.pipeline.Pipeline` must be used to work with samplers in `imblearn`."
   ]
  },
  {
   "cell_type": "code",
   "execution_count": null,
   "id": "bd145dfa",
   "metadata": {},
   "outputs": [
    {
     "name": "stdout",
     "output_type": "stream",
     "text": [
      "\n",
      "===== Logistic Regression =====\n",
      "Best hyperparameters for Logistic Regression: {'clf__C': 0.1, 'clf__penalty': 'l2', 'clf__solver': 'lbfgs'}\n",
      "Best mean cross-validated F1-score: 0.8219\n",
      "\n",
      "===== KNN =====\n",
      "Best hyperparameters for KNN: {'clf__metric': 'manhattan', 'clf__n_neighbors': 7, 'clf__weights': 'uniform'}\n",
      "Best mean cross-validated F1-score: 0.8151\n",
      "\n",
      "===== SVM =====\n",
      "Best hyperparameters for SVM: {'clf__C': 0.1, 'clf__gamma': 'scale', 'clf__kernel': 'linear'}\n",
      "Best mean cross-validated F1-score: 0.8425\n",
      "\n",
      "===== Decision Tree =====\n",
      "Best hyperparameters for Decision Tree: {'clf__criterion': 'gini', 'clf__max_depth': 10, 'clf__min_samples_split': 10}\n",
      "Best mean cross-validated F1-score: 0.7252\n",
      "\n",
      "===== Random Forest =====\n",
      "Best hyperparameters for Random Forest: {'clf__max_depth': 5, 'clf__max_features': 'log2', 'clf__min_samples_split': 5, 'clf__n_estimators': 200}\n",
      "Best mean cross-validated F1-score: 0.8499\n",
      "\n",
      "===== XGBoost =====\n",
      "Best hyperparameters for XGBoost: {'clf__colsample_bytree': 0.8, 'clf__learning_rate': 0.2, 'clf__max_depth': 5, 'clf__n_estimators': 50, 'clf__subsample': 0.6}\n",
      "Best mean cross-validated F1-score: 0.8444\n"
     ]
    }
   ],
   "source": [
    "from imblearn.pipeline import Pipeline\n",
    "\n",
    "best_estimators = {}\n",
    "skf = StratifiedKFold(n_splits=5, shuffle=True, random_state=42)\n",
    "\n",
    "for name, clf in classifiers.items():\n",
    "    print(f\"\\n===== {name} =====\")\n",
    "    pipeline = Pipeline(\n",
    "        [(\"smote\", SMOTE(random_state=42)), (\"clf\", clf)]\n",
    "    )  # SMOTE + classifier\n",
    "    param_grid = param_grids[name]\n",
    "    grid = GridSearchCV(\n",
    "        estimator=pipeline, param_grid=param_grid, scoring=\"f1\", cv=skf, n_jobs=-1\n",
    "    )\n",
    "    grid.fit(X_train_scaled, y_train)\n",
    "    print(f\"Best hyperparameters for {name}: {grid.best_params_}\")\n",
    "    print(f\"Best mean cross-validated F1-score: {grid.best_score_:.4f}\")\n",
    "    best_estimators[name] = grid.best_estimator_"
   ]
  },
  {
   "cell_type": "markdown",
   "id": "5dbadcc4",
   "metadata": {},
   "source": [
    "### Evaluation on Test Data"
   ]
  },
  {
   "cell_type": "code",
   "execution_count": 92,
   "id": "f0ee9bbf",
   "metadata": {},
   "outputs": [],
   "source": [
    "from sklearn.metrics import (\n",
    "    accuracy_score,\n",
    "    precision_score,\n",
    "    recall_score,\n",
    "    f1_score,\n",
    "    roc_auc_score,\n",
    ")\n",
    "\n",
    "\n",
    "def evaluate_model_classification(model, X_test, y_test):\n",
    "    y_pred = model.predict(X_test)\n",
    "    acc = accuracy_score(y_test, y_pred)\n",
    "    pre = precision_score(y_test, y_pred)\n",
    "    rec = recall_score(y_test, y_pred)\n",
    "    f1 = f1_score(y_test, y_pred)\n",
    "    roc_auc = roc_auc_score(y_test, y_pred)\n",
    "    return {\n",
    "        \"Accuracy\": acc,\n",
    "        \"Precision\": pre,\n",
    "        \"Recall\": rec,\n",
    "        \"F1-Score\": f1,\n",
    "        \"ROC-AUC\": roc_auc,\n",
    "    }"
   ]
  },
  {
   "cell_type": "code",
   "execution_count": 93,
   "id": "0310301c",
   "metadata": {},
   "outputs": [],
   "source": [
    "best_model_log_reg = best_estimators[\"Logistic Regression\"]\n",
    "best_model_knn = best_estimators[\"KNN\"]\n",
    "best_model_svm = best_estimators[\"SVM\"]\n",
    "best_model_dt = best_estimators[\"Decision Tree\"]\n",
    "best_model_rf = best_estimators[\"Random Forest\"]\n",
    "best_model_xgb = best_estimators[\"XGBoost\"]"
   ]
  },
  {
   "cell_type": "code",
   "execution_count": 94,
   "id": "86f60419",
   "metadata": {},
   "outputs": [],
   "source": [
    "results_log_reg = evaluate_model_classification(\n",
    "    best_model_log_reg, X_test_scaled, y_test\n",
    ")\n",
    "results_knn = evaluate_model_classification(best_model_knn, X_test_scaled, y_test)\n",
    "results_svm = evaluate_model_classification(best_model_svm, X_test_scaled, y_test)\n",
    "results_dt = evaluate_model_classification(best_model_dt, X_test_scaled, y_test)\n",
    "results_rf = evaluate_model_classification(best_model_rf, X_test_scaled, y_test)\n",
    "results_xgb = evaluate_model_classification(best_model_xgb, X_test_scaled, y_test)"
   ]
  },
  {
   "cell_type": "code",
   "execution_count": 96,
   "id": "945f713f",
   "metadata": {},
   "outputs": [
    {
     "name": "stdout",
     "output_type": "stream",
     "text": [
      "                     Accuracy  Precision    Recall  F1-Score   ROC-AUC\n",
      "Logistic Regression  0.908257   0.842105  0.888889  0.864865  0.903349\n",
      "KNN                  0.871560   0.789474  0.833333  0.810811  0.861872\n",
      "SVM                  0.917431   0.864865  0.888889  0.876712  0.910198\n",
      "Decision Tree        0.889908   0.875000  0.777778  0.823529  0.861492\n",
      "Random Forest        0.899083   0.878788  0.805556  0.840580  0.875381\n",
      "XGBoost              0.917431   0.864865  0.888889  0.876712  0.910198\n"
     ]
    }
   ],
   "source": [
    "results_df = pd.DataFrame(\n",
    "    [results_log_reg, results_knn, results_svm, results_dt, results_rf, results_xgb],\n",
    "    index=[\n",
    "        \"Logistic Regression\",\n",
    "        \"KNN\",\n",
    "        \"SVM\",\n",
    "        \"Decision Tree\",\n",
    "        \"Random Forest\",\n",
    "        \"XGBoost\",\n",
    "    ],\n",
    ")\n",
    "print(results_df)"
   ]
  }
 ],
 "metadata": {
  "kernelspec": {
   "display_name": "DS_Projects",
   "language": "python",
   "name": "python3"
  },
  "language_info": {
   "codemirror_mode": {
    "name": "ipython",
    "version": 3
   },
   "file_extension": ".py",
   "mimetype": "text/x-python",
   "name": "python",
   "nbconvert_exporter": "python",
   "pygments_lexer": "ipython3",
   "version": "3.13.3"
  }
 },
 "nbformat": 4,
 "nbformat_minor": 5
}
