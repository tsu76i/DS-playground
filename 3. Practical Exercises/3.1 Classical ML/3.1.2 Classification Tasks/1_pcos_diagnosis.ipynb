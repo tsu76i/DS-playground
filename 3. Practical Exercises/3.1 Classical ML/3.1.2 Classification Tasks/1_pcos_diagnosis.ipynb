{
 "cells": [
  {
   "cell_type": "markdown",
   "id": "846bf037",
   "metadata": {},
   "source": [
    "# PCOS Diagnosis\n",
    "***\n",
    "## Table of Contents\n",
    "1. [Introduction](#1-introduction)\n",
    "1. [Loading Data](#2-loading-data)\n",
    "1. [Data Preprocessing](#3-data-preprocessing)\n",
    "    - [Correcting Feature Names](#correcting-feature-names)\n",
    "    - [Dropping Unnecessary Features](#dropping-unnecessary-features)\n",
    "    - [Dealing with Missing Values](#dealing-with-missing-values)\n",
    "    - [Modifying Wrong Data Types](#modifying-wrong-data-types)\n",
    "    - [Standardisation](#standardisation)\n",
    "1. [Exploratory Data Analysis](#4-exploratory-data-analysis)\n",
    "1. [Predictive Modelling](#5-predictive-modelling)\n",
    "    - [Hyperparameter Tuning](#hyperparameter-tuning)\n",
    "    - [Evaluation on Test Data](#evaluation-on-test-data)\n",
    "1. [Conclusion](#6-conclusion)\n",
    "1. [References](#7-references)\n",
    "***\n"
   ]
  },
  {
   "cell_type": "code",
   "execution_count": 1,
   "id": "e94af6f7",
   "metadata": {},
   "outputs": [],
   "source": [
    "import matplotlib.pyplot as plt\n",
    "import seaborn as sns\n",
    "import pandas as pd\n",
    "from typing import Dict, Any"
   ]
  },
  {
   "cell_type": "markdown",
   "id": "4bbdd560",
   "metadata": {},
   "source": [
    "## 1. Introduction\n",
    "Polycystic Ovary Syndrome (PCOS) is a common endocrine disorder among women of reproductive age, often leading to irregular menstrual cycles, infertility, and metabolic complications. Early and accurate diagnosis is crucial for effective treatment and long-term health management.\n",
    "\n",
    "The objective of this project is to develop and compare multiple predictive models to identify the most effective approach for PCOS diagnosis. By analysing key features and optimising model performance, this project seeks to support clinical decision-making and contribute to data-driven healthcare solutions for PCOS detection. \n",
    "\n",
    "## 2. Loading Data\n",
    "\n",
    "The dataset used in this project (retrieved from [Kaggle - Polycystic ovary syndrome (PCOS)](https://www.kaggle.com/datasets/prasoonkottarathil/polycystic-ovary-syndrome-pcos)) contains clinical, demographic, and biochemical measurements relevant for PCOS diagnosis. The data were collected from ten different hospital across Kerala, India.\n",
    "\n",
    "- **Sl. No**: Serial number of the record.\n",
    "- **Patient File No.**: Unique patient identifier.\n",
    "- **PCOS (Y/N)**: Whether the patient has been diagnosed with PCOS(1 = Yes, 0 = No). Target variable.\n",
    "- **Age (yrs)**: Patient's age in years.\n",
    "- **Weight (Kg)**: Body weight in kilograms.\n",
    "- **Height (Cm)**: Height in centimetres.\n",
    "- **BMI**: Body Mass Index, calculated as weight ($kg$) divided by height ($m^2$)\n",
    "- **Blood Group**: Encoded as integers (A+ = 11, A- = 12, B+ = 13, B- =14, O+ = 15, O- = 16, AB+ = 17, AB= = 18).\n",
    "- **Pulse rate (bpm)**: Heart rate in beats per minute.\n",
    "- **RR (breaths/min)**: Respiratory rate.\n",
    "- **Hb (g/dl)**: Haemoglobin level.\n",
    "- **Cycle (R/I)**: Menstrual cycle regularity (Regular/Irregular)\n",
    "- **Cycle length (days)**: Duration of menstrual cycle.\n",
    "- **Marriage Status (Yrs)**: Years since marriage.\n",
    "- **Pregnant (Y/N)**: Pregnancy status (1 = Yes, 0 = No).\n",
    "- **No. of abortions**: Number of miscarriages.\n",
    "- **I beta-HCG (mIU/mL)**: First beta-human chorionic gonadotropin value.\n",
    "- **II beta-HCG (mIU/mL)**: Second beta-human chorionic gonadotropin value.\n",
    "- **FSH (mIU/mL)**: Follicle-stimulating hormone.\n",
    "- **LH (mIU/mL)**: Luteinising hormone.\n",
    "- **FSH/LH**: Ratio of FSH to LH.\n",
    "- **Hip (inch)**: Hip circumference.\n",
    "- **Waist (inch)**: Waist circumference.\n",
    "- **Waist:Hip Ratio**: Ratio of waist to hip circumference.\n",
    "- **TSH (mIU/L)**: Thyroid-stimulating hormone.\n",
    "- **AMH (ng/mL)**: Anti-Müllerian hormone.\n",
    "- **PRL (ng/mL)**: Prolactin.\n",
    "- **Vit D3 (ng/mL)**: Vitamin D3.\n",
    "- **PRG (ng/mL)**: Progesterone.\n",
    "- **RBS (mg/dl)**: Random blood glucose.\n",
    "- **Weight gain (Y/N)**: History of weight gain (1 = Yes, 0 = No).\n",
    "- **Hair growth (Y/N)**: Presence of hirsutism (1 = Yes, 0 = No).\n",
    "- **Skin darkening (Y/N)**: Hyperpigmentation (1 = Yes, 0 = No).\n",
    "- **Hair loss (Y/N)**: Androgenic alopecia (1 = Yes, 0 = No).\n",
    "- **Pimples (Y/N)**: Acne (1 = Yes, 0 = No).\n",
    "- **Fast food (Y/N)**: Fast food consumption (1 = Yes, 0 = No).\n",
    "- **Reg. Exercise (Y/N)**: Regular exercise (1 = Yes, 0 = No).\n",
    "- **BP Systolic (mmHg)**: Systolic blood pressure.\n",
    "- **BP Diastolic (mmHg)**: Diastolic blood pressure.\n",
    "- **Follicle No. (L)**: Number of ovarian follicles (left ovary).\n",
    "- **Follicle No. (R)**: Number of ovarian follicles (right ovary).\n",
    "- **Avg. F size (L) (mm)**: Average follicle size (left ovary).\n",
    "- **Avg. F size (R) (mm)**: Average follicle size (right ovary).\n",
    "- **Endometrium (mm)**: Endometrial thickness."
   ]
  },
  {
   "cell_type": "code",
   "execution_count": 2,
   "id": "ca75ab3a",
   "metadata": {},
   "outputs": [
    {
     "data": {
      "application/vnd.microsoft.datawrangler.viewer.v0+json": {
       "columns": [
        {
         "name": "index",
         "rawType": "int64",
         "type": "integer"
        },
        {
         "name": "Sl. No",
         "rawType": "int64",
         "type": "integer"
        },
        {
         "name": "Patient File No.",
         "rawType": "int64",
         "type": "integer"
        },
        {
         "name": "PCOS (Y/N)",
         "rawType": "int64",
         "type": "integer"
        },
        {
         "name": " Age (yrs)",
         "rawType": "int64",
         "type": "integer"
        },
        {
         "name": "Weight (Kg)",
         "rawType": "float64",
         "type": "float"
        },
        {
         "name": "Height(Cm) ",
         "rawType": "float64",
         "type": "float"
        },
        {
         "name": "BMI",
         "rawType": "float64",
         "type": "float"
        },
        {
         "name": "Blood Group",
         "rawType": "int64",
         "type": "integer"
        },
        {
         "name": "Pulse rate(bpm) ",
         "rawType": "int64",
         "type": "integer"
        },
        {
         "name": "RR (breaths/min)",
         "rawType": "int64",
         "type": "integer"
        },
        {
         "name": "Hb(g/dl)",
         "rawType": "float64",
         "type": "float"
        },
        {
         "name": "Cycle(R/I)",
         "rawType": "int64",
         "type": "integer"
        },
        {
         "name": "Cycle length(days)",
         "rawType": "int64",
         "type": "integer"
        },
        {
         "name": "Marraige Status (Yrs)",
         "rawType": "float64",
         "type": "float"
        },
        {
         "name": "Pregnant(Y/N)",
         "rawType": "int64",
         "type": "integer"
        },
        {
         "name": "No. of aborptions",
         "rawType": "int64",
         "type": "integer"
        },
        {
         "name": "  I   beta-HCG(mIU/mL)",
         "rawType": "float64",
         "type": "float"
        },
        {
         "name": "II    beta-HCG(mIU/mL)",
         "rawType": "object",
         "type": "unknown"
        },
        {
         "name": "FSH(mIU/mL)",
         "rawType": "float64",
         "type": "float"
        },
        {
         "name": "LH(mIU/mL)",
         "rawType": "float64",
         "type": "float"
        },
        {
         "name": "FSH/LH",
         "rawType": "float64",
         "type": "float"
        },
        {
         "name": "Hip(inch)",
         "rawType": "int64",
         "type": "integer"
        },
        {
         "name": "Waist(inch)",
         "rawType": "int64",
         "type": "integer"
        },
        {
         "name": "Waist:Hip Ratio",
         "rawType": "float64",
         "type": "float"
        },
        {
         "name": "TSH (mIU/L)",
         "rawType": "float64",
         "type": "float"
        },
        {
         "name": "AMH(ng/mL)",
         "rawType": "object",
         "type": "unknown"
        },
        {
         "name": "PRL(ng/mL)",
         "rawType": "float64",
         "type": "float"
        },
        {
         "name": "Vit D3 (ng/mL)",
         "rawType": "float64",
         "type": "float"
        },
        {
         "name": "PRG(ng/mL)",
         "rawType": "float64",
         "type": "float"
        },
        {
         "name": "RBS(mg/dl)",
         "rawType": "float64",
         "type": "float"
        },
        {
         "name": "Weight gain(Y/N)",
         "rawType": "int64",
         "type": "integer"
        },
        {
         "name": "hair growth(Y/N)",
         "rawType": "int64",
         "type": "integer"
        },
        {
         "name": "Skin darkening (Y/N)",
         "rawType": "int64",
         "type": "integer"
        },
        {
         "name": "Hair loss(Y/N)",
         "rawType": "int64",
         "type": "integer"
        },
        {
         "name": "Pimples(Y/N)",
         "rawType": "int64",
         "type": "integer"
        },
        {
         "name": "Fast food (Y/N)",
         "rawType": "float64",
         "type": "float"
        },
        {
         "name": "Reg.Exercise(Y/N)",
         "rawType": "int64",
         "type": "integer"
        },
        {
         "name": "BP _Systolic (mmHg)",
         "rawType": "int64",
         "type": "integer"
        },
        {
         "name": "BP _Diastolic (mmHg)",
         "rawType": "int64",
         "type": "integer"
        },
        {
         "name": "Follicle No. (L)",
         "rawType": "int64",
         "type": "integer"
        },
        {
         "name": "Follicle No. (R)",
         "rawType": "int64",
         "type": "integer"
        },
        {
         "name": "Avg. F size (L) (mm)",
         "rawType": "float64",
         "type": "float"
        },
        {
         "name": "Avg. F size (R) (mm)",
         "rawType": "float64",
         "type": "float"
        },
        {
         "name": "Endometrium (mm)",
         "rawType": "float64",
         "type": "float"
        },
        {
         "name": "Unnamed: 44",
         "rawType": "object",
         "type": "unknown"
        }
       ],
       "ref": "5ca671f9-e79a-41aa-a81c-62df588dcdb2",
       "rows": [
        [
         "0",
         "1",
         "1",
         "0",
         "28",
         "44.6",
         "152.0",
         "19.3",
         "15",
         "78",
         "22",
         "10.48",
         "2",
         "5",
         "7.0",
         "0",
         "0",
         "1.99",
         "1.99",
         "7.95",
         "3.68",
         "2.160326087",
         "36",
         "30",
         "0.8333333333",
         "0.68",
         "2.07",
         "45.16",
         "17.1",
         "0.57",
         "92.0",
         "0",
         "0",
         "0",
         "0",
         "0",
         "1.0",
         "0",
         "110",
         "80",
         "3",
         "3",
         "18.0",
         "18.0",
         "8.5",
         null
        ],
        [
         "1",
         "2",
         "2",
         "0",
         "36",
         "65.0",
         "161.5",
         "24.92116286",
         "15",
         "74",
         "20",
         "11.7",
         "2",
         "5",
         "11.0",
         "1",
         "0",
         "60.8",
         "1.99",
         "6.73",
         "1.09",
         "6.174311927",
         "38",
         "32",
         "0.8421052632",
         "3.16",
         "1.53",
         "20.09",
         "61.3",
         "0.97",
         "92.0",
         "0",
         "0",
         "0",
         "0",
         "0",
         "0.0",
         "0",
         "120",
         "70",
         "3",
         "5",
         "15.0",
         "14.0",
         "3.7",
         null
        ],
        [
         "2",
         "3",
         "3",
         "1",
         "33",
         "68.8",
         "165.0",
         "25.27089073",
         "11",
         "72",
         "18",
         "11.8",
         "2",
         "5",
         "10.0",
         "1",
         "0",
         "494.08",
         "494.08",
         "5.54",
         "0.88",
         "6.295454545",
         "40",
         "36",
         "0.9",
         "2.54",
         "6.63",
         "10.52",
         "49.7",
         "0.36",
         "84.0",
         "0",
         "0",
         "0",
         "1",
         "1",
         "1.0",
         "0",
         "120",
         "80",
         "13",
         "15",
         "18.0",
         "20.0",
         "10.0",
         null
        ],
        [
         "3",
         "4",
         "4",
         "0",
         "37",
         "65.0",
         "148.0",
         "29.67494522",
         "13",
         "72",
         "20",
         "12.0",
         "2",
         "5",
         "4.0",
         "0",
         "0",
         "1.99",
         "1.99",
         "8.06",
         "2.36",
         "3.415254237",
         "42",
         "36",
         "0.8571428571",
         "16.41",
         "1.22",
         "36.9",
         "33.4",
         "0.36",
         "76.0",
         "0",
         "0",
         "0",
         "0",
         "0",
         "0.0",
         "0",
         "120",
         "70",
         "2",
         "2",
         "15.0",
         "14.0",
         "7.5",
         null
        ],
        [
         "4",
         "5",
         "5",
         "0",
         "25",
         "52.0",
         "161.0",
         "20.06095444",
         "11",
         "72",
         "18",
         "10.0",
         "2",
         "5",
         "1.0",
         "1",
         "0",
         "801.45",
         "801.45",
         "3.98",
         "0.9",
         "4.422222222",
         "37",
         "30",
         "0.8108108108",
         "3.57",
         "2.26",
         "30.09",
         "43.8",
         "0.38",
         "84.0",
         "0",
         "0",
         "0",
         "1",
         "0",
         "0.0",
         "0",
         "120",
         "80",
         "3",
         "4",
         "16.0",
         "14.0",
         "7.0",
         null
        ]
       ],
       "shape": {
        "columns": 45,
        "rows": 5
       }
      },
      "text/html": [
       "<div>\n",
       "<style scoped>\n",
       "    .dataframe tbody tr th:only-of-type {\n",
       "        vertical-align: middle;\n",
       "    }\n",
       "\n",
       "    .dataframe tbody tr th {\n",
       "        vertical-align: top;\n",
       "    }\n",
       "\n",
       "    .dataframe thead th {\n",
       "        text-align: right;\n",
       "    }\n",
       "</style>\n",
       "<table border=\"1\" class=\"dataframe\">\n",
       "  <thead>\n",
       "    <tr style=\"text-align: right;\">\n",
       "      <th></th>\n",
       "      <th>Sl. No</th>\n",
       "      <th>Patient File No.</th>\n",
       "      <th>PCOS (Y/N)</th>\n",
       "      <th>Age (yrs)</th>\n",
       "      <th>Weight (Kg)</th>\n",
       "      <th>Height(Cm)</th>\n",
       "      <th>BMI</th>\n",
       "      <th>Blood Group</th>\n",
       "      <th>Pulse rate(bpm)</th>\n",
       "      <th>RR (breaths/min)</th>\n",
       "      <th>...</th>\n",
       "      <th>Fast food (Y/N)</th>\n",
       "      <th>Reg.Exercise(Y/N)</th>\n",
       "      <th>BP _Systolic (mmHg)</th>\n",
       "      <th>BP _Diastolic (mmHg)</th>\n",
       "      <th>Follicle No. (L)</th>\n",
       "      <th>Follicle No. (R)</th>\n",
       "      <th>Avg. F size (L) (mm)</th>\n",
       "      <th>Avg. F size (R) (mm)</th>\n",
       "      <th>Endometrium (mm)</th>\n",
       "      <th>Unnamed: 44</th>\n",
       "    </tr>\n",
       "  </thead>\n",
       "  <tbody>\n",
       "    <tr>\n",
       "      <th>0</th>\n",
       "      <td>1</td>\n",
       "      <td>1</td>\n",
       "      <td>0</td>\n",
       "      <td>28</td>\n",
       "      <td>44.6</td>\n",
       "      <td>152.0</td>\n",
       "      <td>19.300000</td>\n",
       "      <td>15</td>\n",
       "      <td>78</td>\n",
       "      <td>22</td>\n",
       "      <td>...</td>\n",
       "      <td>1.0</td>\n",
       "      <td>0</td>\n",
       "      <td>110</td>\n",
       "      <td>80</td>\n",
       "      <td>3</td>\n",
       "      <td>3</td>\n",
       "      <td>18.0</td>\n",
       "      <td>18.0</td>\n",
       "      <td>8.5</td>\n",
       "      <td>NaN</td>\n",
       "    </tr>\n",
       "    <tr>\n",
       "      <th>1</th>\n",
       "      <td>2</td>\n",
       "      <td>2</td>\n",
       "      <td>0</td>\n",
       "      <td>36</td>\n",
       "      <td>65.0</td>\n",
       "      <td>161.5</td>\n",
       "      <td>24.921163</td>\n",
       "      <td>15</td>\n",
       "      <td>74</td>\n",
       "      <td>20</td>\n",
       "      <td>...</td>\n",
       "      <td>0.0</td>\n",
       "      <td>0</td>\n",
       "      <td>120</td>\n",
       "      <td>70</td>\n",
       "      <td>3</td>\n",
       "      <td>5</td>\n",
       "      <td>15.0</td>\n",
       "      <td>14.0</td>\n",
       "      <td>3.7</td>\n",
       "      <td>NaN</td>\n",
       "    </tr>\n",
       "    <tr>\n",
       "      <th>2</th>\n",
       "      <td>3</td>\n",
       "      <td>3</td>\n",
       "      <td>1</td>\n",
       "      <td>33</td>\n",
       "      <td>68.8</td>\n",
       "      <td>165.0</td>\n",
       "      <td>25.270891</td>\n",
       "      <td>11</td>\n",
       "      <td>72</td>\n",
       "      <td>18</td>\n",
       "      <td>...</td>\n",
       "      <td>1.0</td>\n",
       "      <td>0</td>\n",
       "      <td>120</td>\n",
       "      <td>80</td>\n",
       "      <td>13</td>\n",
       "      <td>15</td>\n",
       "      <td>18.0</td>\n",
       "      <td>20.0</td>\n",
       "      <td>10.0</td>\n",
       "      <td>NaN</td>\n",
       "    </tr>\n",
       "    <tr>\n",
       "      <th>3</th>\n",
       "      <td>4</td>\n",
       "      <td>4</td>\n",
       "      <td>0</td>\n",
       "      <td>37</td>\n",
       "      <td>65.0</td>\n",
       "      <td>148.0</td>\n",
       "      <td>29.674945</td>\n",
       "      <td>13</td>\n",
       "      <td>72</td>\n",
       "      <td>20</td>\n",
       "      <td>...</td>\n",
       "      <td>0.0</td>\n",
       "      <td>0</td>\n",
       "      <td>120</td>\n",
       "      <td>70</td>\n",
       "      <td>2</td>\n",
       "      <td>2</td>\n",
       "      <td>15.0</td>\n",
       "      <td>14.0</td>\n",
       "      <td>7.5</td>\n",
       "      <td>NaN</td>\n",
       "    </tr>\n",
       "    <tr>\n",
       "      <th>4</th>\n",
       "      <td>5</td>\n",
       "      <td>5</td>\n",
       "      <td>0</td>\n",
       "      <td>25</td>\n",
       "      <td>52.0</td>\n",
       "      <td>161.0</td>\n",
       "      <td>20.060954</td>\n",
       "      <td>11</td>\n",
       "      <td>72</td>\n",
       "      <td>18</td>\n",
       "      <td>...</td>\n",
       "      <td>0.0</td>\n",
       "      <td>0</td>\n",
       "      <td>120</td>\n",
       "      <td>80</td>\n",
       "      <td>3</td>\n",
       "      <td>4</td>\n",
       "      <td>16.0</td>\n",
       "      <td>14.0</td>\n",
       "      <td>7.0</td>\n",
       "      <td>NaN</td>\n",
       "    </tr>\n",
       "  </tbody>\n",
       "</table>\n",
       "<p>5 rows × 45 columns</p>\n",
       "</div>"
      ],
      "text/plain": [
       "   Sl. No  Patient File No.  PCOS (Y/N)   Age (yrs)  Weight (Kg)  Height(Cm)   \\\n",
       "0       1                 1           0          28         44.6        152.0   \n",
       "1       2                 2           0          36         65.0        161.5   \n",
       "2       3                 3           1          33         68.8        165.0   \n",
       "3       4                 4           0          37         65.0        148.0   \n",
       "4       5                 5           0          25         52.0        161.0   \n",
       "\n",
       "         BMI  Blood Group  Pulse rate(bpm)   RR (breaths/min)  ...  \\\n",
       "0  19.300000           15                78                22  ...   \n",
       "1  24.921163           15                74                20  ...   \n",
       "2  25.270891           11                72                18  ...   \n",
       "3  29.674945           13                72                20  ...   \n",
       "4  20.060954           11                72                18  ...   \n",
       "\n",
       "   Fast food (Y/N)  Reg.Exercise(Y/N)  BP _Systolic (mmHg)  \\\n",
       "0              1.0                  0                  110   \n",
       "1              0.0                  0                  120   \n",
       "2              1.0                  0                  120   \n",
       "3              0.0                  0                  120   \n",
       "4              0.0                  0                  120   \n",
       "\n",
       "   BP _Diastolic (mmHg)  Follicle No. (L)  Follicle No. (R)  \\\n",
       "0                    80                 3                 3   \n",
       "1                    70                 3                 5   \n",
       "2                    80                13                15   \n",
       "3                    70                 2                 2   \n",
       "4                    80                 3                 4   \n",
       "\n",
       "   Avg. F size (L) (mm) Avg. F size (R) (mm)  Endometrium (mm)  Unnamed: 44  \n",
       "0                  18.0                 18.0               8.5          NaN  \n",
       "1                  15.0                 14.0               3.7          NaN  \n",
       "2                  18.0                 20.0              10.0          NaN  \n",
       "3                  15.0                 14.0               7.5          NaN  \n",
       "4                  16.0                 14.0               7.0          NaN  \n",
       "\n",
       "[5 rows x 45 columns]"
      ]
     },
     "execution_count": 2,
     "metadata": {},
     "output_type": "execute_result"
    }
   ],
   "source": [
    "df = pd.read_excel(\"_datasets/PCOS_data.xlsx\", sheet_name=\"Full_new\")\n",
    "df.head()"
   ]
  },
  {
   "cell_type": "code",
   "execution_count": 3,
   "id": "00fb5b7f",
   "metadata": {},
   "outputs": [
    {
     "data": {
      "text/plain": [
       "(541, 45)"
      ]
     },
     "execution_count": 3,
     "metadata": {},
     "output_type": "execute_result"
    }
   ],
   "source": [
    "df.shape"
   ]
  },
  {
   "cell_type": "code",
   "execution_count": 4,
   "id": "64e5821f",
   "metadata": {},
   "outputs": [
    {
     "name": "stdout",
     "output_type": "stream",
     "text": [
      "<class 'pandas.core.frame.DataFrame'>\n",
      "RangeIndex: 541 entries, 0 to 540\n",
      "Data columns (total 45 columns):\n",
      " #   Column                  Non-Null Count  Dtype  \n",
      "---  ------                  --------------  -----  \n",
      " 0   Sl. No                  541 non-null    int64  \n",
      " 1   Patient File No.        541 non-null    int64  \n",
      " 2   PCOS (Y/N)              541 non-null    int64  \n",
      " 3    Age (yrs)              541 non-null    int64  \n",
      " 4   Weight (Kg)             541 non-null    float64\n",
      " 5   Height(Cm)              541 non-null    float64\n",
      " 6   BMI                     541 non-null    float64\n",
      " 7   Blood Group             541 non-null    int64  \n",
      " 8   Pulse rate(bpm)         541 non-null    int64  \n",
      " 9   RR (breaths/min)        541 non-null    int64  \n",
      " 10  Hb(g/dl)                541 non-null    float64\n",
      " 11  Cycle(R/I)              541 non-null    int64  \n",
      " 12  Cycle length(days)      541 non-null    int64  \n",
      " 13  Marraige Status (Yrs)   540 non-null    float64\n",
      " 14  Pregnant(Y/N)           541 non-null    int64  \n",
      " 15  No. of aborptions       541 non-null    int64  \n",
      " 16    I   beta-HCG(mIU/mL)  541 non-null    float64\n",
      " 17  II    beta-HCG(mIU/mL)  541 non-null    object \n",
      " 18  FSH(mIU/mL)             541 non-null    float64\n",
      " 19  LH(mIU/mL)              541 non-null    float64\n",
      " 20  FSH/LH                  541 non-null    float64\n",
      " 21  Hip(inch)               541 non-null    int64  \n",
      " 22  Waist(inch)             541 non-null    int64  \n",
      " 23  Waist:Hip Ratio         541 non-null    float64\n",
      " 24  TSH (mIU/L)             541 non-null    float64\n",
      " 25  AMH(ng/mL)              541 non-null    object \n",
      " 26  PRL(ng/mL)              541 non-null    float64\n",
      " 27  Vit D3 (ng/mL)          541 non-null    float64\n",
      " 28  PRG(ng/mL)              541 non-null    float64\n",
      " 29  RBS(mg/dl)              541 non-null    float64\n",
      " 30  Weight gain(Y/N)        541 non-null    int64  \n",
      " 31  hair growth(Y/N)        541 non-null    int64  \n",
      " 32  Skin darkening (Y/N)    541 non-null    int64  \n",
      " 33  Hair loss(Y/N)          541 non-null    int64  \n",
      " 34  Pimples(Y/N)            541 non-null    int64  \n",
      " 35  Fast food (Y/N)         540 non-null    float64\n",
      " 36  Reg.Exercise(Y/N)       541 non-null    int64  \n",
      " 37  BP _Systolic (mmHg)     541 non-null    int64  \n",
      " 38  BP _Diastolic (mmHg)    541 non-null    int64  \n",
      " 39  Follicle No. (L)        541 non-null    int64  \n",
      " 40  Follicle No. (R)        541 non-null    int64  \n",
      " 41  Avg. F size (L) (mm)    541 non-null    float64\n",
      " 42  Avg. F size (R) (mm)    541 non-null    float64\n",
      " 43  Endometrium (mm)        541 non-null    float64\n",
      " 44  Unnamed: 44             2 non-null      object \n",
      "dtypes: float64(19), int64(23), object(3)\n",
      "memory usage: 190.3+ KB\n"
     ]
    }
   ],
   "source": [
    "df.info()"
   ]
  },
  {
   "cell_type": "code",
   "execution_count": 5,
   "id": "bac7dc61",
   "metadata": {},
   "outputs": [
    {
     "data": {
      "application/vnd.microsoft.datawrangler.viewer.v0+json": {
       "columns": [
        {
         "name": "index",
         "rawType": "object",
         "type": "string"
        },
        {
         "name": "Sl. No",
         "rawType": "float64",
         "type": "float"
        },
        {
         "name": "Patient File No.",
         "rawType": "float64",
         "type": "float"
        },
        {
         "name": "PCOS (Y/N)",
         "rawType": "float64",
         "type": "float"
        },
        {
         "name": " Age (yrs)",
         "rawType": "float64",
         "type": "float"
        },
        {
         "name": "Weight (Kg)",
         "rawType": "float64",
         "type": "float"
        },
        {
         "name": "Height(Cm) ",
         "rawType": "float64",
         "type": "float"
        },
        {
         "name": "BMI",
         "rawType": "float64",
         "type": "float"
        },
        {
         "name": "Blood Group",
         "rawType": "float64",
         "type": "float"
        },
        {
         "name": "Pulse rate(bpm) ",
         "rawType": "float64",
         "type": "float"
        },
        {
         "name": "RR (breaths/min)",
         "rawType": "float64",
         "type": "float"
        },
        {
         "name": "Hb(g/dl)",
         "rawType": "float64",
         "type": "float"
        },
        {
         "name": "Cycle(R/I)",
         "rawType": "float64",
         "type": "float"
        },
        {
         "name": "Cycle length(days)",
         "rawType": "float64",
         "type": "float"
        },
        {
         "name": "Marraige Status (Yrs)",
         "rawType": "float64",
         "type": "float"
        },
        {
         "name": "Pregnant(Y/N)",
         "rawType": "float64",
         "type": "float"
        },
        {
         "name": "No. of aborptions",
         "rawType": "float64",
         "type": "float"
        },
        {
         "name": "  I   beta-HCG(mIU/mL)",
         "rawType": "float64",
         "type": "float"
        },
        {
         "name": "FSH(mIU/mL)",
         "rawType": "float64",
         "type": "float"
        },
        {
         "name": "LH(mIU/mL)",
         "rawType": "float64",
         "type": "float"
        },
        {
         "name": "FSH/LH",
         "rawType": "float64",
         "type": "float"
        },
        {
         "name": "Hip(inch)",
         "rawType": "float64",
         "type": "float"
        },
        {
         "name": "Waist(inch)",
         "rawType": "float64",
         "type": "float"
        },
        {
         "name": "Waist:Hip Ratio",
         "rawType": "float64",
         "type": "float"
        },
        {
         "name": "TSH (mIU/L)",
         "rawType": "float64",
         "type": "float"
        },
        {
         "name": "PRL(ng/mL)",
         "rawType": "float64",
         "type": "float"
        },
        {
         "name": "Vit D3 (ng/mL)",
         "rawType": "float64",
         "type": "float"
        },
        {
         "name": "PRG(ng/mL)",
         "rawType": "float64",
         "type": "float"
        },
        {
         "name": "RBS(mg/dl)",
         "rawType": "float64",
         "type": "float"
        },
        {
         "name": "Weight gain(Y/N)",
         "rawType": "float64",
         "type": "float"
        },
        {
         "name": "hair growth(Y/N)",
         "rawType": "float64",
         "type": "float"
        },
        {
         "name": "Skin darkening (Y/N)",
         "rawType": "float64",
         "type": "float"
        },
        {
         "name": "Hair loss(Y/N)",
         "rawType": "float64",
         "type": "float"
        },
        {
         "name": "Pimples(Y/N)",
         "rawType": "float64",
         "type": "float"
        },
        {
         "name": "Fast food (Y/N)",
         "rawType": "float64",
         "type": "float"
        },
        {
         "name": "Reg.Exercise(Y/N)",
         "rawType": "float64",
         "type": "float"
        },
        {
         "name": "BP _Systolic (mmHg)",
         "rawType": "float64",
         "type": "float"
        },
        {
         "name": "BP _Diastolic (mmHg)",
         "rawType": "float64",
         "type": "float"
        },
        {
         "name": "Follicle No. (L)",
         "rawType": "float64",
         "type": "float"
        },
        {
         "name": "Follicle No. (R)",
         "rawType": "float64",
         "type": "float"
        },
        {
         "name": "Avg. F size (L) (mm)",
         "rawType": "float64",
         "type": "float"
        },
        {
         "name": "Avg. F size (R) (mm)",
         "rawType": "float64",
         "type": "float"
        },
        {
         "name": "Endometrium (mm)",
         "rawType": "float64",
         "type": "float"
        }
       ],
       "ref": "201ac3c4-8666-4b7f-bfb4-51948e3a0414",
       "rows": [
        [
         "count",
         "541.0",
         "541.0",
         "541.0",
         "541.0",
         "541.0",
         "541.0",
         "541.0",
         "541.0",
         "541.0",
         "541.0",
         "541.0",
         "541.0",
         "541.0",
         "540.0",
         "541.0",
         "541.0",
         "541.0",
         "541.0",
         "541.0",
         "541.0",
         "541.0",
         "541.0",
         "541.0",
         "541.0",
         "541.0",
         "541.0",
         "541.0",
         "541.0",
         "541.0",
         "541.0",
         "541.0",
         "541.0",
         "541.0",
         "540.0",
         "541.0",
         "541.0",
         "541.0",
         "541.0",
         "541.0",
         "541.0",
         "541.0",
         "541.0"
        ],
        [
         "mean",
         "271.0",
         "271.0",
         "0.32717190388170053",
         "31.430683918669132",
         "59.63715341959335",
         "156.48483548983364",
         "24.31128466696858",
         "13.802218114602589",
         "73.24768946395564",
         "19.243992606284657",
         "11.16003696857671",
         "2.56007393715342",
         "4.9408502772643255",
         "7.6809259259259255",
         "0.3807763401109057",
         "0.28835489833641403",
         "664.5492347504621",
         "14.601831792975974",
         "6.469918669131238",
         "6.904830820488356",
         "37.99260628465804",
         "33.84103512014787",
         "0.8918945873369686",
         "2.9812809611829945",
         "24.321497227356748",
         "49.915874306839186",
         "0.6109445471349352",
         "99.8358595194085",
         "0.37707948243992606",
         "0.2735674676524954",
         "0.3068391866913124",
         "0.45286506469500926",
         "0.4898336414048059",
         "0.5148148148148148",
         "0.2476894639556377",
         "114.66173752310536",
         "76.9279112754159",
         "6.129390018484289",
         "6.641404805914973",
         "15.0181146025878",
         "15.45170055452865",
         "8.475914972273566"
        ],
        [
         "std",
         "156.31751874523428",
         "156.31751874523428",
         "0.46961484023836947",
         "5.4110056994552505",
         "11.028287132059972",
         "6.0335445399432395",
         "4.0563990861000665",
         "1.8408116860366328",
         "4.430285002919393",
         "1.6886291700723715",
         "0.8669044537687686",
         "0.9019501475121825",
         "1.4920202615497296",
         "4.803835344854867",
         "0.48602711770319645",
         "0.6925752210243216",
         "3348.92057648176",
         "217.02208070444033",
         "86.67325518841632",
         "60.69182231926178",
         "3.9679200692784438",
         "3.5968939842521737",
         "0.046325673951722816",
         "3.7555317656940206",
         "14.970390757118722",
         "346.20659854585614",
         "3.808853065030648",
         "18.559297576373325",
         "0.48510362692524567",
         "0.4462021107978168",
         "0.46160889130911853",
         "0.4982340279161597",
         "0.5003592876304106",
         "0.500243876482483",
         "0.43206997853559453",
         "7.384555701011989",
         "5.57411154517375",
         "4.2292943765514615",
         "4.436889244844173",
         "3.5668386450995033",
         "3.318848203677783",
         "2.165381273453607"
        ],
        [
         "min",
         "1.0",
         "1.0",
         "0.0",
         "20.0",
         "31.0",
         "137.0",
         "12.41788175",
         "11.0",
         "13.0",
         "16.0",
         "8.5",
         "2.0",
         "0.0",
         "0.0",
         "0.0",
         "0.0",
         "1.3",
         "0.21",
         "0.02",
         "0.002145688801",
         "26.0",
         "24.0",
         "0.7555555556",
         "0.04",
         "0.4",
         "0.0",
         "0.047",
         "60.0",
         "0.0",
         "0.0",
         "0.0",
         "0.0",
         "0.0",
         "0.0",
         "0.0",
         "12.0",
         "8.0",
         "0.0",
         "0.0",
         "0.0",
         "0.0",
         "0.0"
        ],
        [
         "25%",
         "136.0",
         "136.0",
         "0.0",
         "28.0",
         "52.0",
         "152.0",
         "21.64127424",
         "13.0",
         "72.0",
         "18.0",
         "10.5",
         "2.0",
         "4.0",
         "4.0",
         "0.0",
         "0.0",
         "1.99",
         "3.3",
         "1.02",
         "1.416243655",
         "36.0",
         "32.0",
         "0.8571428571",
         "1.48",
         "14.52",
         "20.8",
         "0.25",
         "92.0",
         "0.0",
         "0.0",
         "0.0",
         "0.0",
         "0.0",
         "0.0",
         "0.0",
         "110.0",
         "70.0",
         "3.0",
         "3.0",
         "13.0",
         "13.0",
         "7.0"
        ],
        [
         "50%",
         "271.0",
         "271.0",
         "0.0",
         "31.0",
         "59.0",
         "156.0",
         "24.23822715",
         "14.0",
         "72.0",
         "18.0",
         "11.0",
         "2.0",
         "5.0",
         "7.0",
         "0.0",
         "0.0",
         "20.0",
         "4.85",
         "2.3",
         "2.169230769",
         "38.0",
         "34.0",
         "0.8947368421",
         "2.26",
         "21.92",
         "25.9",
         "0.32",
         "100.0",
         "0.0",
         "0.0",
         "0.0",
         "0.0",
         "0.0",
         "1.0",
         "0.0",
         "110.0",
         "80.0",
         "5.0",
         "6.0",
         "15.0",
         "16.0",
         "8.5"
        ],
        [
         "75%",
         "406.0",
         "406.0",
         "1.0",
         "35.0",
         "65.0",
         "160.0",
         "26.63495838",
         "15.0",
         "74.0",
         "20.0",
         "11.7",
         "4.0",
         "5.0",
         "10.0",
         "1.0",
         "0.0",
         "297.21",
         "6.41",
         "3.68",
         "3.959183673",
         "40.0",
         "36.0",
         "0.9285714286",
         "3.57",
         "29.89",
         "34.5",
         "0.45",
         "107.0",
         "1.0",
         "1.0",
         "1.0",
         "1.0",
         "1.0",
         "1.0",
         "0.0",
         "120.0",
         "80.0",
         "9.0",
         "10.0",
         "18.0",
         "18.0",
         "9.8"
        ],
        [
         "max",
         "541.0",
         "541.0",
         "1.0",
         "48.0",
         "108.0",
         "180.0",
         "38.9",
         "18.0",
         "82.0",
         "28.0",
         "14.8",
         "5.0",
         "12.0",
         "30.0",
         "1.0",
         "5.0",
         "32460.97",
         "5052.0",
         "2018.0",
         "1372.826087",
         "48.0",
         "47.0",
         "0.9791666667",
         "65.0",
         "128.24",
         "6014.66",
         "85.0",
         "350.0",
         "1.0",
         "1.0",
         "1.0",
         "1.0",
         "1.0",
         "1.0",
         "1.0",
         "140.0",
         "100.0",
         "22.0",
         "20.0",
         "24.0",
         "24.0",
         "18.0"
        ]
       ],
       "shape": {
        "columns": 42,
        "rows": 8
       }
      },
      "text/html": [
       "<div>\n",
       "<style scoped>\n",
       "    .dataframe tbody tr th:only-of-type {\n",
       "        vertical-align: middle;\n",
       "    }\n",
       "\n",
       "    .dataframe tbody tr th {\n",
       "        vertical-align: top;\n",
       "    }\n",
       "\n",
       "    .dataframe thead th {\n",
       "        text-align: right;\n",
       "    }\n",
       "</style>\n",
       "<table border=\"1\" class=\"dataframe\">\n",
       "  <thead>\n",
       "    <tr style=\"text-align: right;\">\n",
       "      <th></th>\n",
       "      <th>Sl. No</th>\n",
       "      <th>Patient File No.</th>\n",
       "      <th>PCOS (Y/N)</th>\n",
       "      <th>Age (yrs)</th>\n",
       "      <th>Weight (Kg)</th>\n",
       "      <th>Height(Cm)</th>\n",
       "      <th>BMI</th>\n",
       "      <th>Blood Group</th>\n",
       "      <th>Pulse rate(bpm)</th>\n",
       "      <th>RR (breaths/min)</th>\n",
       "      <th>...</th>\n",
       "      <th>Pimples(Y/N)</th>\n",
       "      <th>Fast food (Y/N)</th>\n",
       "      <th>Reg.Exercise(Y/N)</th>\n",
       "      <th>BP _Systolic (mmHg)</th>\n",
       "      <th>BP _Diastolic (mmHg)</th>\n",
       "      <th>Follicle No. (L)</th>\n",
       "      <th>Follicle No. (R)</th>\n",
       "      <th>Avg. F size (L) (mm)</th>\n",
       "      <th>Avg. F size (R) (mm)</th>\n",
       "      <th>Endometrium (mm)</th>\n",
       "    </tr>\n",
       "  </thead>\n",
       "  <tbody>\n",
       "    <tr>\n",
       "      <th>count</th>\n",
       "      <td>541.000000</td>\n",
       "      <td>541.000000</td>\n",
       "      <td>541.000000</td>\n",
       "      <td>541.000000</td>\n",
       "      <td>541.000000</td>\n",
       "      <td>541.000000</td>\n",
       "      <td>541.000000</td>\n",
       "      <td>541.000000</td>\n",
       "      <td>541.000000</td>\n",
       "      <td>541.000000</td>\n",
       "      <td>...</td>\n",
       "      <td>541.000000</td>\n",
       "      <td>540.000000</td>\n",
       "      <td>541.000000</td>\n",
       "      <td>541.000000</td>\n",
       "      <td>541.000000</td>\n",
       "      <td>541.000000</td>\n",
       "      <td>541.000000</td>\n",
       "      <td>541.000000</td>\n",
       "      <td>541.000000</td>\n",
       "      <td>541.000000</td>\n",
       "    </tr>\n",
       "    <tr>\n",
       "      <th>mean</th>\n",
       "      <td>271.000000</td>\n",
       "      <td>271.000000</td>\n",
       "      <td>0.327172</td>\n",
       "      <td>31.430684</td>\n",
       "      <td>59.637153</td>\n",
       "      <td>156.484835</td>\n",
       "      <td>24.311285</td>\n",
       "      <td>13.802218</td>\n",
       "      <td>73.247689</td>\n",
       "      <td>19.243993</td>\n",
       "      <td>...</td>\n",
       "      <td>0.489834</td>\n",
       "      <td>0.514815</td>\n",
       "      <td>0.247689</td>\n",
       "      <td>114.661738</td>\n",
       "      <td>76.927911</td>\n",
       "      <td>6.129390</td>\n",
       "      <td>6.641405</td>\n",
       "      <td>15.018115</td>\n",
       "      <td>15.451701</td>\n",
       "      <td>8.475915</td>\n",
       "    </tr>\n",
       "    <tr>\n",
       "      <th>std</th>\n",
       "      <td>156.317519</td>\n",
       "      <td>156.317519</td>\n",
       "      <td>0.469615</td>\n",
       "      <td>5.411006</td>\n",
       "      <td>11.028287</td>\n",
       "      <td>6.033545</td>\n",
       "      <td>4.056399</td>\n",
       "      <td>1.840812</td>\n",
       "      <td>4.430285</td>\n",
       "      <td>1.688629</td>\n",
       "      <td>...</td>\n",
       "      <td>0.500359</td>\n",
       "      <td>0.500244</td>\n",
       "      <td>0.432070</td>\n",
       "      <td>7.384556</td>\n",
       "      <td>5.574112</td>\n",
       "      <td>4.229294</td>\n",
       "      <td>4.436889</td>\n",
       "      <td>3.566839</td>\n",
       "      <td>3.318848</td>\n",
       "      <td>2.165381</td>\n",
       "    </tr>\n",
       "    <tr>\n",
       "      <th>min</th>\n",
       "      <td>1.000000</td>\n",
       "      <td>1.000000</td>\n",
       "      <td>0.000000</td>\n",
       "      <td>20.000000</td>\n",
       "      <td>31.000000</td>\n",
       "      <td>137.000000</td>\n",
       "      <td>12.417882</td>\n",
       "      <td>11.000000</td>\n",
       "      <td>13.000000</td>\n",
       "      <td>16.000000</td>\n",
       "      <td>...</td>\n",
       "      <td>0.000000</td>\n",
       "      <td>0.000000</td>\n",
       "      <td>0.000000</td>\n",
       "      <td>12.000000</td>\n",
       "      <td>8.000000</td>\n",
       "      <td>0.000000</td>\n",
       "      <td>0.000000</td>\n",
       "      <td>0.000000</td>\n",
       "      <td>0.000000</td>\n",
       "      <td>0.000000</td>\n",
       "    </tr>\n",
       "    <tr>\n",
       "      <th>25%</th>\n",
       "      <td>136.000000</td>\n",
       "      <td>136.000000</td>\n",
       "      <td>0.000000</td>\n",
       "      <td>28.000000</td>\n",
       "      <td>52.000000</td>\n",
       "      <td>152.000000</td>\n",
       "      <td>21.641274</td>\n",
       "      <td>13.000000</td>\n",
       "      <td>72.000000</td>\n",
       "      <td>18.000000</td>\n",
       "      <td>...</td>\n",
       "      <td>0.000000</td>\n",
       "      <td>0.000000</td>\n",
       "      <td>0.000000</td>\n",
       "      <td>110.000000</td>\n",
       "      <td>70.000000</td>\n",
       "      <td>3.000000</td>\n",
       "      <td>3.000000</td>\n",
       "      <td>13.000000</td>\n",
       "      <td>13.000000</td>\n",
       "      <td>7.000000</td>\n",
       "    </tr>\n",
       "    <tr>\n",
       "      <th>50%</th>\n",
       "      <td>271.000000</td>\n",
       "      <td>271.000000</td>\n",
       "      <td>0.000000</td>\n",
       "      <td>31.000000</td>\n",
       "      <td>59.000000</td>\n",
       "      <td>156.000000</td>\n",
       "      <td>24.238227</td>\n",
       "      <td>14.000000</td>\n",
       "      <td>72.000000</td>\n",
       "      <td>18.000000</td>\n",
       "      <td>...</td>\n",
       "      <td>0.000000</td>\n",
       "      <td>1.000000</td>\n",
       "      <td>0.000000</td>\n",
       "      <td>110.000000</td>\n",
       "      <td>80.000000</td>\n",
       "      <td>5.000000</td>\n",
       "      <td>6.000000</td>\n",
       "      <td>15.000000</td>\n",
       "      <td>16.000000</td>\n",
       "      <td>8.500000</td>\n",
       "    </tr>\n",
       "    <tr>\n",
       "      <th>75%</th>\n",
       "      <td>406.000000</td>\n",
       "      <td>406.000000</td>\n",
       "      <td>1.000000</td>\n",
       "      <td>35.000000</td>\n",
       "      <td>65.000000</td>\n",
       "      <td>160.000000</td>\n",
       "      <td>26.634958</td>\n",
       "      <td>15.000000</td>\n",
       "      <td>74.000000</td>\n",
       "      <td>20.000000</td>\n",
       "      <td>...</td>\n",
       "      <td>1.000000</td>\n",
       "      <td>1.000000</td>\n",
       "      <td>0.000000</td>\n",
       "      <td>120.000000</td>\n",
       "      <td>80.000000</td>\n",
       "      <td>9.000000</td>\n",
       "      <td>10.000000</td>\n",
       "      <td>18.000000</td>\n",
       "      <td>18.000000</td>\n",
       "      <td>9.800000</td>\n",
       "    </tr>\n",
       "    <tr>\n",
       "      <th>max</th>\n",
       "      <td>541.000000</td>\n",
       "      <td>541.000000</td>\n",
       "      <td>1.000000</td>\n",
       "      <td>48.000000</td>\n",
       "      <td>108.000000</td>\n",
       "      <td>180.000000</td>\n",
       "      <td>38.900000</td>\n",
       "      <td>18.000000</td>\n",
       "      <td>82.000000</td>\n",
       "      <td>28.000000</td>\n",
       "      <td>...</td>\n",
       "      <td>1.000000</td>\n",
       "      <td>1.000000</td>\n",
       "      <td>1.000000</td>\n",
       "      <td>140.000000</td>\n",
       "      <td>100.000000</td>\n",
       "      <td>22.000000</td>\n",
       "      <td>20.000000</td>\n",
       "      <td>24.000000</td>\n",
       "      <td>24.000000</td>\n",
       "      <td>18.000000</td>\n",
       "    </tr>\n",
       "  </tbody>\n",
       "</table>\n",
       "<p>8 rows × 42 columns</p>\n",
       "</div>"
      ],
      "text/plain": [
       "           Sl. No  Patient File No.  PCOS (Y/N)   Age (yrs)  Weight (Kg)  \\\n",
       "count  541.000000        541.000000  541.000000  541.000000   541.000000   \n",
       "mean   271.000000        271.000000    0.327172   31.430684    59.637153   \n",
       "std    156.317519        156.317519    0.469615    5.411006    11.028287   \n",
       "min      1.000000          1.000000    0.000000   20.000000    31.000000   \n",
       "25%    136.000000        136.000000    0.000000   28.000000    52.000000   \n",
       "50%    271.000000        271.000000    0.000000   31.000000    59.000000   \n",
       "75%    406.000000        406.000000    1.000000   35.000000    65.000000   \n",
       "max    541.000000        541.000000    1.000000   48.000000   108.000000   \n",
       "\n",
       "       Height(Cm)          BMI  Blood Group  Pulse rate(bpm)   \\\n",
       "count   541.000000  541.000000   541.000000        541.000000   \n",
       "mean    156.484835   24.311285    13.802218         73.247689   \n",
       "std       6.033545    4.056399     1.840812          4.430285   \n",
       "min     137.000000   12.417882    11.000000         13.000000   \n",
       "25%     152.000000   21.641274    13.000000         72.000000   \n",
       "50%     156.000000   24.238227    14.000000         72.000000   \n",
       "75%     160.000000   26.634958    15.000000         74.000000   \n",
       "max     180.000000   38.900000    18.000000         82.000000   \n",
       "\n",
       "       RR (breaths/min)  ...  Pimples(Y/N)  Fast food (Y/N)  \\\n",
       "count        541.000000  ...    541.000000       540.000000   \n",
       "mean          19.243993  ...      0.489834         0.514815   \n",
       "std            1.688629  ...      0.500359         0.500244   \n",
       "min           16.000000  ...      0.000000         0.000000   \n",
       "25%           18.000000  ...      0.000000         0.000000   \n",
       "50%           18.000000  ...      0.000000         1.000000   \n",
       "75%           20.000000  ...      1.000000         1.000000   \n",
       "max           28.000000  ...      1.000000         1.000000   \n",
       "\n",
       "       Reg.Exercise(Y/N)  BP _Systolic (mmHg)  BP _Diastolic (mmHg)  \\\n",
       "count         541.000000           541.000000            541.000000   \n",
       "mean            0.247689           114.661738             76.927911   \n",
       "std             0.432070             7.384556              5.574112   \n",
       "min             0.000000            12.000000              8.000000   \n",
       "25%             0.000000           110.000000             70.000000   \n",
       "50%             0.000000           110.000000             80.000000   \n",
       "75%             0.000000           120.000000             80.000000   \n",
       "max             1.000000           140.000000            100.000000   \n",
       "\n",
       "       Follicle No. (L)  Follicle No. (R)  Avg. F size (L) (mm)  \\\n",
       "count        541.000000        541.000000            541.000000   \n",
       "mean           6.129390          6.641405             15.018115   \n",
       "std            4.229294          4.436889              3.566839   \n",
       "min            0.000000          0.000000              0.000000   \n",
       "25%            3.000000          3.000000             13.000000   \n",
       "50%            5.000000          6.000000             15.000000   \n",
       "75%            9.000000         10.000000             18.000000   \n",
       "max           22.000000         20.000000             24.000000   \n",
       "\n",
       "       Avg. F size (R) (mm)  Endometrium (mm)  \n",
       "count            541.000000        541.000000  \n",
       "mean              15.451701          8.475915  \n",
       "std                3.318848          2.165381  \n",
       "min                0.000000          0.000000  \n",
       "25%               13.000000          7.000000  \n",
       "50%               16.000000          8.500000  \n",
       "75%               18.000000          9.800000  \n",
       "max               24.000000         18.000000  \n",
       "\n",
       "[8 rows x 42 columns]"
      ]
     },
     "execution_count": 5,
     "metadata": {},
     "output_type": "execute_result"
    }
   ],
   "source": [
    "df.describe()"
   ]
  },
  {
   "cell_type": "markdown",
   "id": "b8711053",
   "metadata": {},
   "source": [
    "## 3. Data Preprocessing\n",
    "- Drop unnecessary features.\n",
    "- Correct feature names.\n",
    "- Deal with missing values.\n",
    "- Modify wrong data types.\n",
    "- Standardisation"
   ]
  },
  {
   "cell_type": "markdown",
   "id": "762527bc",
   "metadata": {},
   "source": [
    "### Correcting Feature Names"
   ]
  },
  {
   "cell_type": "code",
   "execution_count": 6,
   "id": "1949507f",
   "metadata": {},
   "outputs": [],
   "source": [
    "df[\"Marriage Status (Yrs)\"] = df[\"Marraige Status (Yrs)\"]"
   ]
  },
  {
   "cell_type": "markdown",
   "id": "8d3bb23d",
   "metadata": {},
   "source": [
    "### Dropping Unnecessary Features"
   ]
  },
  {
   "cell_type": "code",
   "execution_count": 7,
   "id": "23c0e121",
   "metadata": {},
   "outputs": [],
   "source": [
    "df = df.drop(\n",
    "    columns=[\"Unnamed: 44\", \"Sl. No\", \"Patient File No.\", \"Marraige Status (Yrs)\"]\n",
    ")"
   ]
  },
  {
   "cell_type": "markdown",
   "id": "23dc53e1",
   "metadata": {},
   "source": [
    "### Dealing with Missing Values"
   ]
  },
  {
   "cell_type": "code",
   "execution_count": 8,
   "id": "1d5d2b1f",
   "metadata": {},
   "outputs": [
    {
     "data": {
      "application/vnd.microsoft.datawrangler.viewer.v0+json": {
       "columns": [
        {
         "name": "index",
         "rawType": "object",
         "type": "string"
        },
        {
         "name": "0",
         "rawType": "int64",
         "type": "integer"
        }
       ],
       "ref": "70ed4f06-c3e3-431d-802e-a0ccfa82a704",
       "rows": [
        [
         "Fast food (Y/N)",
         "1"
        ],
        [
         "Marriage Status (Yrs)",
         "1"
        ]
       ],
       "shape": {
        "columns": 1,
        "rows": 2
       }
      },
      "text/plain": [
       "Fast food (Y/N)          1\n",
       "Marriage Status (Yrs)    1\n",
       "dtype: int64"
      ]
     },
     "execution_count": 8,
     "metadata": {},
     "output_type": "execute_result"
    }
   ],
   "source": [
    "null_columns = df.columns[df.isnull().any()]\n",
    "df[null_columns].isnull().sum()"
   ]
  },
  {
   "cell_type": "markdown",
   "id": "692213ed",
   "metadata": {},
   "source": [
    "According to the null check, the columns `Marriage Status (Yrs)` and `Fast food (Y/N)` each contain one missing value. The missing value in `Marriage Status (Yrs)` will be replaced with the median of the feature, while the one in `Fast food (Y/N)` will be replaced with the most frequent value (mode)."
   ]
  },
  {
   "cell_type": "code",
   "execution_count": 9,
   "id": "f9c548a0",
   "metadata": {},
   "outputs": [
    {
     "data": {
      "application/vnd.microsoft.datawrangler.viewer.v0+json": {
       "columns": [
        {
         "name": "index",
         "rawType": "object",
         "type": "string"
        },
        {
         "name": "0",
         "rawType": "float64",
         "type": "float"
        }
       ],
       "ref": "0a176c82-78fa-464b-9a47-586dd4389d5e",
       "rows": [],
       "shape": {
        "columns": 1,
        "rows": 0
       }
      },
      "text/plain": [
       "Series([], dtype: float64)"
      ]
     },
     "execution_count": 9,
     "metadata": {},
     "output_type": "execute_result"
    }
   ],
   "source": [
    "df[\"Marriage Status (Yrs)\"] = df[\"Marriage Status (Yrs)\"].fillna(\n",
    "    df[\"Marriage Status (Yrs)\"].median()\n",
    ")\n",
    "df[\"Fast food (Y/N)\"] = df[\"Fast food (Y/N)\"].fillna(df[\"Fast food (Y/N)\"].mode()[0])\n",
    "\n",
    "null_columns = df.columns[df.isnull().any()]\n",
    "df[null_columns].isnull().sum()"
   ]
  },
  {
   "cell_type": "markdown",
   "id": "f030fb51",
   "metadata": {},
   "source": [
    "### Modifying Wrong Data Types\n",
    "The columns `II    beta-HCG(mIU/mL)` and `AMH(ng/mL)` include three different datatypes. Therefore, they will be converted to float."
   ]
  },
  {
   "cell_type": "code",
   "execution_count": 10,
   "id": "60752536",
   "metadata": {},
   "outputs": [
    {
     "name": "stdout",
     "output_type": "stream",
     "text": [
      "'II    beta-HCG(mIU/mL)' contains 3 datatypes: {<class 'int'>, <class 'str'>, <class 'float'>}\n",
      "'AMH(ng/mL)' contains 3 datatypes: {<class 'int'>, <class 'str'>, <class 'float'>}\n"
     ]
    }
   ],
   "source": [
    "n_datatypes_II = df[\"II    beta-HCG(mIU/mL)\"].apply(type).nunique()\n",
    "n_datatypes_AMH = df[\"AMH(ng/mL)\"].apply(type).nunique()\n",
    "\n",
    "types_in_col_II = set(type(x) for x in df[\"II    beta-HCG(mIU/mL)\"])\n",
    "types_in_col_AMH = set(type(x) for x in df[\"AMH(ng/mL)\"])\n",
    "\n",
    "print(\n",
    "    f\"'II    beta-HCG(mIU/mL)' contains {n_datatypes_II} datatypes: {types_in_col_II}\"\n",
    ")\n",
    "print(f\"'AMH(ng/mL)' contains {n_datatypes_AMH} datatypes: {types_in_col_AMH}\")"
   ]
  },
  {
   "cell_type": "markdown",
   "id": "28966f13",
   "metadata": {},
   "source": [
    "A couple of typographical errors have been identified, which must be addressed manually prior to converting data types:\n",
    "- '1.99.' -> '1.99' (`II    beta-HCG(mIU/mL)`)\n",
    "- 'a' -> median() (`AMH(ng/mL)`)"
   ]
  },
  {
   "cell_type": "code",
   "execution_count": 11,
   "id": "aae0aded",
   "metadata": {},
   "outputs": [],
   "source": [
    "df.loc[123, \"II    beta-HCG(mIU/mL)\"] = df.loc[123, \"II    beta-HCG(mIU/mL)\"][:-1]\n",
    "df[\"II    beta-HCG(mIU/mL)\"] = pd.to_numeric(df[\"II    beta-HCG(mIU/mL)\"])"
   ]
  },
  {
   "cell_type": "code",
   "execution_count": 12,
   "id": "1cce7681",
   "metadata": {},
   "outputs": [],
   "source": [
    "df[\"AMH(ng/mL)\"] = pd.to_numeric(df[\"AMH(ng/mL)\"], errors=\"coerce\")\n",
    "df[\"AMH(ng/mL)\"] = df[\"AMH(ng/mL)\"].fillna(df[\"AMH(ng/mL)\"].median())"
   ]
  },
  {
   "cell_type": "code",
   "execution_count": 13,
   "id": "f8ae4521",
   "metadata": {},
   "outputs": [
    {
     "name": "stdout",
     "output_type": "stream",
     "text": [
      "'II    beta-HCG(mIU/mL)' contains 1 datatypes: {<class 'float'>}\n",
      "'AMH(ng/mL)' contains 1 datatypes: {<class 'float'>}\n"
     ]
    }
   ],
   "source": [
    "n_datatypes_II = df[\"II    beta-HCG(mIU/mL)\"].apply(type).nunique()\n",
    "n_datatypes_AMH = df[\"AMH(ng/mL)\"].apply(type).nunique()\n",
    "\n",
    "types_in_col_II = set(type(x) for x in df[\"II    beta-HCG(mIU/mL)\"])\n",
    "types_in_col_AMH = set(type(x) for x in df[\"AMH(ng/mL)\"])\n",
    "\n",
    "print(\n",
    "    f\"'II    beta-HCG(mIU/mL)' contains {n_datatypes_II} datatypes: {types_in_col_II}\"\n",
    ")\n",
    "print(f\"'AMH(ng/mL)' contains {n_datatypes_AMH} datatypes: {types_in_col_AMH}\")"
   ]
  },
  {
   "cell_type": "markdown",
   "id": "b6c38922",
   "metadata": {},
   "source": [
    "### Standardisation\n",
    "Some machine learning models, such as Linear Regression (especially with regularisation), K-Nearest Neighbours (KNN), and Support Vector Machines (SVM), are sensitive to the scale of input features because they compute distances or rely on dot products. Therefore, feature scaling is essential to ensure fair contribution of each feature and to avoid biased results.\n",
    "\n",
    "Standardisation is generally preferred for most algorithms when features are normally distributed or when using regularised models. Normalisation would be useful if the data are not Gaussian or when we want all features strictly in the same range (e.g., for neural networks)\n",
    "\n",
    "- Scale all numerical features (including boolean features).\n",
    "- Always fit the scaler **only on training features** (X_train) and use it to transform test features (X_test).\n",
    "- `.fit_transform(X_train)` and `.transform(X_test)`\n",
    "- Do not scale the target variable unless there is a specific reason.\n",
    "    - If the target variable needs to be scaled, invert the transformation before interpreting results.\n",
    "\n",
    "\n",
    "This process will be included in Pipeline."
   ]
  },
  {
   "cell_type": "markdown",
   "id": "609f85e3",
   "metadata": {},
   "source": [
    "## 4. Exploratory Data Analysis"
   ]
  },
  {
   "cell_type": "code",
   "execution_count": 14,
   "id": "b541f9e2",
   "metadata": {},
   "outputs": [],
   "source": [
    "def plot_correlation_matrix(df: pd.DataFrame, method: str = \"pearson\") -> pd.DataFrame:\n",
    "    \"\"\"\n",
    "    Plot a correlation matrix heatmap for all numerical columns in a DataFrame.\n",
    "\n",
    "    Args:\n",
    "        df: The input DataFrame containing the dataset.\n",
    "        method: The correlation method to use. Supported values are\n",
    "            'pearson', 'kendall', and 'spearman'. Defaults to 'pearson'.\n",
    "\n",
    "    Return:\n",
    "        A DataFrame containing correlations.\n",
    "    \"\"\"\n",
    "    num_columns = df.select_dtypes(include=\"number\")\n",
    "    plt.figure(figsize=(12, 8))\n",
    "    corr = num_columns.corr(method=method)\n",
    "    sns.heatmap(corr, square=True)\n",
    "    plt.title(f\"{method.title()} Correlation Matrix\")\n",
    "    plt.xticks(rotation=45, ha=\"right\")\n",
    "    plt.yticks()\n",
    "    plt.tight_layout()\n",
    "    plt.show()\n",
    "    return corr"
   ]
  },
  {
   "cell_type": "code",
   "execution_count": 15,
   "id": "f2c841f5",
   "metadata": {},
   "outputs": [
    {
     "data": {
      "image/png": "[encoded data removed]",
      "text/plain": [
       "<Figure size 1200x800 with 2 Axes>"
      ]
     },
     "metadata": {},
     "output_type": "display_data"
    }
   ],
   "source": [
    "corr_matrix = plot_correlation_matrix(df)"
   ]
  },
  {
   "cell_type": "markdown",
   "id": "c4a2a52d",
   "metadata": {},
   "source": [
    "Here are the top ten features correlated with the diagnosis of PCOS in descending order."
   ]
  },
  {
   "cell_type": "code",
   "execution_count": 16,
   "id": "4df2c0ca",
   "metadata": {},
   "outputs": [
    {
     "data": {
      "application/vnd.microsoft.datawrangler.viewer.v0+json": {
       "columns": [
        {
         "name": "index",
         "rawType": "object",
         "type": "string"
        },
        {
         "name": "PCOS (Y/N)",
         "rawType": "float64",
         "type": "float"
        }
       ],
       "ref": "88272e58-56ae-42c8-ba44-4dac48e90608",
       "rows": [
        [
         "PCOS (Y/N)",
         "1.0"
        ],
        [
         "Follicle No. (R)",
         "0.6483269560999778"
        ],
        [
         "Follicle No. (L)",
         "0.6033461529569702"
        ],
        [
         "Skin darkening (Y/N)",
         "0.4757330238463864"
        ],
        [
         "hair growth(Y/N)",
         "0.4646666251220084"
        ],
        [
         "Weight gain(Y/N)",
         "0.441047267155595"
        ],
        [
         "Cycle(R/I)",
         "0.40164375375635875"
        ],
        [
         "Fast food (Y/N)",
         "0.37618275273534524"
        ],
        [
         "Pimples(Y/N)",
         "0.28607667713408585"
        ],
        [
         "AMH(ng/mL)",
         "0.2641408639773864"
        ]
       ],
       "shape": {
        "columns": 1,
        "rows": 10
       }
      },
      "text/plain": [
       "PCOS (Y/N)              1.000000\n",
       "Follicle No. (R)        0.648327\n",
       "Follicle No. (L)        0.603346\n",
       "Skin darkening (Y/N)    0.475733\n",
       "hair growth(Y/N)        0.464667\n",
       "Weight gain(Y/N)        0.441047\n",
       "Cycle(R/I)              0.401644\n",
       "Fast food (Y/N)         0.376183\n",
       "Pimples(Y/N)            0.286077\n",
       "AMH(ng/mL)              0.264141\n",
       "Name: PCOS (Y/N), dtype: float64"
      ]
     },
     "execution_count": 16,
     "metadata": {},
     "output_type": "execute_result"
    }
   ],
   "source": [
    "corr_matrix[\"PCOS (Y/N)\"].sort_values(ascending=False)[:10]"
   ]
  },
  {
   "cell_type": "code",
   "execution_count": 17,
   "id": "e7ef224b",
   "metadata": {},
   "outputs": [
    {
     "data": {
      "image/png": "[encoded data removed]",
      "text/plain": [
       "<Figure size 640x480 with 1 Axes>"
      ]
     },
     "metadata": {},
     "output_type": "display_data"
    }
   ],
   "source": [
    "ax = sns.countplot(df, x=\"PCOS (Y/N)\", hue=\"PCOS (Y/N)\", palette=\"Set2\")\n",
    "for container in ax.containers:\n",
    "    ax.bar_label(container, fontsize=12)\n",
    "plt.show()"
   ]
  },
  {
   "cell_type": "markdown",
   "id": "94ca66fe",
   "metadata": {},
   "source": [
    "The imbalance of the target value may result in poor predictive performance, especially for minority class. To address this issue, we can either **oversample the minority class** or **undersamble the majority class** during training process. "
   ]
  },
  {
   "cell_type": "markdown",
   "id": "3f9eb025",
   "metadata": {},
   "source": [
    "## 5. Predictive Modelling\n",
    "For this dataset, the following six classifiers will be compared and evaluted:\n",
    "- Logistic Regression\n",
    "- K-Nearest Neighbour Classifier\n",
    "- Support Vector Machine\n",
    "- Decision Tree Classifier\n",
    "- Random Forest Classifier\n",
    "- XGBoost Classifier"
   ]
  },
  {
   "cell_type": "code",
   "execution_count": 18,
   "id": "36161d46",
   "metadata": {},
   "outputs": [],
   "source": [
    "from sklearn.model_selection import train_test_split, StratifiedKFold\n",
    "\n",
    "X = df.drop(columns=[\"PCOS (Y/N)\"])\n",
    "y = df[\"PCOS (Y/N)\"]\n",
    "\n",
    "X_train, X_test, y_train, y_test = train_test_split(\n",
    "    X, y, test_size=0.2, stratify=y, random_state=42\n",
    ")"
   ]
  },
  {
   "cell_type": "markdown",
   "id": "65061395",
   "metadata": {},
   "source": [
    "### Hyperparameter Tuning\n",
    "Optimisation of hyperparameters is essential to obtain the best performance from machine learning models. **Grid Search** or **Random Search** is typically used to find the best hyperparameters with cross-validation.\n",
    "\n",
    "We use the stratified K-Fold cross-validator `StratifiedKFold()`. With this approach, each fold maintains approximately the same percentage of samples for each class as found in the original dataset. This technique is especially suitable for classification problems with imbalanced classes, preventing bias caused by random splitting and ensuring fair evaluation of all classes.\n",
    "\n",
    "Instead of manually repeating the hyperparameter tuning process for each model under evaluation, we can employ a `Pipeline` to automate the entire workflow. A pipeline establishes a structured sequence for data preprocessing, model building, and evaluation. This approach enables us to modularise the machine learning process, making it significantly more efficient and scalable. Firstly, let's define classifiers and parameter grids for all the models."
   ]
  },
  {
   "cell_type": "code",
   "execution_count": 19,
   "id": "fb27b1fb",
   "metadata": {},
   "outputs": [],
   "source": [
    "from sklearn.ensemble import RandomForestClassifier\n",
    "from sklearn.linear_model import LogisticRegression\n",
    "from sklearn.neighbors import KNeighborsClassifier\n",
    "from sklearn.svm import SVC\n",
    "from sklearn.tree import DecisionTreeClassifier\n",
    "from xgboost import XGBClassifier\n",
    "from sklearn.model_selection import GridSearchCV\n",
    "from sklearn.preprocessing import StandardScaler"
   ]
  },
  {
   "cell_type": "code",
   "execution_count": 20,
   "id": "f15099a6",
   "metadata": {},
   "outputs": [],
   "source": [
    "classifiers = {\n",
    "    \"Logistic Regression\": LogisticRegression(max_iter=1000, random_state=42),\n",
    "    \"KNN\": KNeighborsClassifier(),\n",
    "    \"SVM\": SVC(probability=True, random_state=42),\n",
    "    \"Decision Tree\": DecisionTreeClassifier(random_state=42),\n",
    "    \"Random Forest\": RandomForestClassifier(random_state=42),\n",
    "    \"XGBoost\": XGBClassifier(eval_metric=\"logloss\", random_state=42),\n",
    "}\n",
    "\n",
    "param_grids = {\n",
    "    \"Logistic Regression\": {\n",
    "        \"clf__C\": [0.01, 0.1, 1, 10, 100],\n",
    "        \"clf__solver\": [\"lbfgs\", \"liblinear\"],\n",
    "        \"clf__penalty\": [\"l2\"],\n",
    "    },\n",
    "    \"KNN\": {\n",
    "        \"clf__n_neighbors\": [3, 5, 7, 9],\n",
    "        \"clf__weights\": [\"uniform\", \"distance\"],\n",
    "        \"clf__metric\": [\"euclidean\", \"manhattan\"],\n",
    "    },\n",
    "    \"SVM\": {\n",
    "        \"clf__C\": [0.1, 1, 10, 100],\n",
    "        \"clf__kernel\": [\"rbf\", \"linear\"],\n",
    "        \"clf__gamma\": [\"scale\", \"auto\"],\n",
    "    },\n",
    "    \"Decision Tree\": {\n",
    "        \"clf__max_depth\": [None, 5, 10, 20],\n",
    "        \"clf__min_samples_split\": [2, 5, 10],\n",
    "        \"clf__criterion\": [\"gini\", \"entropy\"],\n",
    "    },\n",
    "    \"Random Forest\": {\n",
    "        \"clf__n_estimators\": [50, 100, 200],\n",
    "        \"clf__max_depth\": [None, 5, 10, 20],\n",
    "        \"clf__min_samples_split\": [2, 5, 10],\n",
    "        \"clf__max_features\": [None, \"sqrt\", \"log2\"],\n",
    "    },\n",
    "    \"XGBoost\": {\n",
    "        \"clf__n_estimators\": [50, 100, 200],\n",
    "        \"clf__max_depth\": [3, 5, 7],\n",
    "        \"clf__learning_rate\": [0.01, 0.1, 0.2],\n",
    "        \"clf__subsample\": [0.6, 0.8, 1.0],\n",
    "        \"clf__colsample_bytree\": [0.6, 0.8, 1.0],\n",
    "    },\n",
    "}\n"
   ]
  },
  {
   "cell_type": "markdown",
   "id": "61dfd9f2",
   "metadata": {},
   "source": [
    "As mentioned in [4. Exploratory Data Analysis](#4-exploratory-data-analysis), the target variable shows class imbalance, which may result in misleading performance metrics. To address this, we employ the **Synthetic Minority Oversampling Technique** (SMOTE), which generates synthetic samples for the minority class by interpolating between existing minority instances. This approach reduces overfitting compared to simple duplication.\n",
    "\n",
    "SMOTE is an oversampler from the imbalanced-learn library, and while it does implement the necessary methods, it is not compatible with `sklearn.pipeline.Pipeline`. Instead, `imblearn.pipeline.Pipeline` must be used to work with samplers in `imblearn`."
   ]
  },
  {
   "cell_type": "code",
   "execution_count": 21,
   "id": "bd145dfa",
   "metadata": {},
   "outputs": [],
   "source": [
    "from imblearn.pipeline import Pipeline\n",
    "from imblearn.over_sampling import SMOTE\n",
    "\n",
    "\n",
    "def find_best_estimators(\n",
    "    classifiers: Dict[str, Any],\n",
    "    X_train: pd.DataFrame,\n",
    "    y_train: pd.Series,\n",
    "    n_splits: int = 5,\n",
    ") -> Dict[str, Any]:\n",
    "    \"\"\"\n",
    "    Perform hyperparameter tuning using GridSearchCV with SMOTE oversampling for multiple classifiers.\n",
    "\n",
    "    Args:\n",
    "        classifiers: A dictionary where keys are classifier names (str) and values are\n",
    "            classifier instances (e.g., scikit-learn estimators).\n",
    "        X_train: Training features.\n",
    "        y_train: Training target labels.\n",
    "        n_splits: Number of splits for StratifiedKFold cross-validation. Defaults to 5.\n",
    "\n",
    "    Returns:\n",
    "        A dictionary mapping classifier names to their best fitted pipeline (including preprocessing,\n",
    "            SMOTE, and the classifier with optimal hyperparameters).\n",
    "\n",
    "    \"\"\"\n",
    "    best_estimators = {}\n",
    "    skf = StratifiedKFold(n_splits=n_splits, shuffle=True, random_state=42)\n",
    "\n",
    "    for name, clf in classifiers.items():\n",
    "        print(f\"\\n===== {name} =====\")\n",
    "        pipeline = Pipeline(\n",
    "            [\n",
    "                (\"scaler\", StandardScaler()),\n",
    "                (\"smote\", SMOTE(random_state=42)),\n",
    "                (\"clf\", clf),\n",
    "            ]\n",
    "        )  # StandardScaler + SMOTE + classifier\n",
    "        param_grid = param_grids[name]\n",
    "        grid = GridSearchCV(\n",
    "            estimator=pipeline, param_grid=param_grid, scoring=\"f1\", cv=skf, n_jobs=-1\n",
    "        )\n",
    "        grid.fit(X_train, y_train)\n",
    "        print(f\"Best hyperparameters for {name}: {grid.best_params_}\")\n",
    "        print(f\"Best mean cross-validated F1-score: {grid.best_score_:.4f}\")\n",
    "        best_estimators[name] = grid.best_estimator_\n",
    "    return best_estimators"
   ]
  },
  {
   "cell_type": "code",
   "execution_count": 22,
   "id": "080c9661",
   "metadata": {},
   "outputs": [
    {
     "name": "stdout",
     "output_type": "stream",
     "text": [
      "\n",
      "===== Logistic Regression =====\n",
      "Best hyperparameters for Logistic Regression: {'clf__C': 1, 'clf__penalty': 'l2', 'clf__solver': 'lbfgs'}\n",
      "Best mean cross-validated F1-score: 0.8184\n",
      "\n",
      "===== KNN =====\n",
      "Best hyperparameters for KNN: {'clf__metric': 'manhattan', 'clf__n_neighbors': 7, 'clf__weights': 'uniform'}\n",
      "Best mean cross-validated F1-score: 0.8200\n",
      "\n",
      "===== SVM =====\n",
      "Best hyperparameters for SVM: {'clf__C': 0.1, 'clf__gamma': 'scale', 'clf__kernel': 'linear'}\n",
      "Best mean cross-validated F1-score: 0.8307\n",
      "\n",
      "===== Decision Tree =====\n",
      "Best hyperparameters for Decision Tree: {'clf__criterion': 'entropy', 'clf__max_depth': 5, 'clf__min_samples_split': 2}\n",
      "Best mean cross-validated F1-score: 0.7525\n",
      "\n",
      "===== Random Forest =====\n",
      "Best hyperparameters for Random Forest: {'clf__max_depth': None, 'clf__max_features': 'log2', 'clf__min_samples_split': 5, 'clf__n_estimators': 200}\n",
      "Best mean cross-validated F1-score: 0.8597\n",
      "\n",
      "===== XGBoost =====\n",
      "Best hyperparameters for XGBoost: {'clf__colsample_bytree': 0.6, 'clf__learning_rate': 0.2, 'clf__max_depth': 3, 'clf__n_estimators': 50, 'clf__subsample': 0.6}\n",
      "Best mean cross-validated F1-score: 0.8466\n"
     ]
    }
   ],
   "source": [
    "best_estimators = find_best_estimators(\n",
    "    classifiers=classifiers, X_train=X_train, y_train=y_train\n",
    ")"
   ]
  },
  {
   "cell_type": "markdown",
   "id": "5dbadcc4",
   "metadata": {},
   "source": [
    "### Evaluation on Test Data"
   ]
  },
  {
   "cell_type": "code",
   "execution_count": 23,
   "id": "f0ee9bbf",
   "metadata": {},
   "outputs": [],
   "source": [
    "from sklearn.metrics import (\n",
    "    accuracy_score,\n",
    "    precision_score,\n",
    "    recall_score,\n",
    "    f1_score,\n",
    "    roc_auc_score,\n",
    "    confusion_matrix,\n",
    "    classification_report,\n",
    ")\n",
    "\n",
    "\n",
    "def evaluate_classifier(\n",
    "    model: Dict[str, Any], X_test: pd.DataFrame, y_test: pd.Series, model_name: str\n",
    ") -> Dict[str, Any]:\n",
    "    \"\"\"\n",
    "    Evaluate a trained classification model on a test dataset and visualise the confusion matrix.\n",
    "\n",
    "    This function computes several standard classification metrics—including accuracy, precision,\n",
    "    recall, F1-score, and ROC-AUC—based on the model's predictions. It also displays the confusion\n",
    "    matrix as a heatmap and prints a detailed classification report.\n",
    "\n",
    "    Args:\n",
    "        model: The trained classification model supporting the .predict() method (e.g., scikit-learn estimator).\n",
    "        X_test: Test feature data.\n",
    "        y_test: True labels for the test data.\n",
    "        model_name: Name of the model.\n",
    "\n",
    "    Returns:\n",
    "        A dictionary containing the following evaluation metrics (rounded to four decimal places):\n",
    "            - 'Accuracy': Overall accuracy of the classifier.\n",
    "            - 'Precision': Precision score, representing the ratio of true positives to all predicted positives.\n",
    "            - 'Recall': Recall score, representing the ratio of true positives to all actual positives.\n",
    "            - 'F1-Score': Harmonic mean of precision and recall.\n",
    "            - 'ROC-AUC': Area under the Receiver Operating Characteristic curve.\n",
    "    \"\"\"\n",
    "    y_pred = model.predict(X_test)\n",
    "    acc = round(accuracy_score(y_test, y_pred), 4)\n",
    "    pre = round(precision_score(y_test, y_pred), 4)\n",
    "    rec = round(recall_score(y_test, y_pred), 4)\n",
    "    f1 = round(f1_score(y_test, y_pred), 4)\n",
    "    roc_auc = round(roc_auc_score(y_test, y_pred), 4)\n",
    "\n",
    "    c_matrix = confusion_matrix(y_test, y_pred)\n",
    "    sns.heatmap(c_matrix, annot=True, fmt=\"d\", cmap=\"Reds\")\n",
    "    plt.title(\"Confusion Matrix\")\n",
    "    plt.xlabel(\"Predicted\")\n",
    "    plt.ylabel(\"Actual\")\n",
    "    plt.tight_layout()\n",
    "    plt.show()\n",
    "    print(\n",
    "        f\"Classification Report ({model_name}):\\n {classification_report(y_test, y_pred)}\"\n",
    "    )\n",
    "    return {\n",
    "        \"Accuracy\": acc,\n",
    "        \"Precision\": pre,\n",
    "        \"Recall\": rec,\n",
    "        \"F1-Score\": f1,\n",
    "        \"ROC-AUC\": roc_auc,\n",
    "    }"
   ]
  },
  {
   "cell_type": "code",
   "execution_count": 24,
   "id": "0310301c",
   "metadata": {},
   "outputs": [],
   "source": [
    "best_model_log_reg = best_estimators[\"Logistic Regression\"]\n",
    "best_model_knn = best_estimators[\"KNN\"]\n",
    "best_model_svm = best_estimators[\"SVM\"]\n",
    "best_model_dt = best_estimators[\"Decision Tree\"]\n",
    "best_model_rf = best_estimators[\"Random Forest\"]\n",
    "best_model_xgb = best_estimators[\"XGBoost\"]"
   ]
  },
  {
   "cell_type": "code",
   "execution_count": 25,
   "id": "86f60419",
   "metadata": {},
   "outputs": [
    {
     "data": {
      "image/png": "[encoded data removed]",
      "text/plain": [
       "<Figure size 640x480 with 2 Axes>"
      ]
     },
     "metadata": {},
     "output_type": "display_data"
    },
    {
     "name": "stdout",
     "output_type": "stream",
     "text": [
      "Classification Report (Logistic Regression):\n",
      "               precision    recall  f1-score   support\n",
      "\n",
      "           0       0.94      0.92      0.93        73\n",
      "           1       0.84      0.89      0.86        36\n",
      "\n",
      "    accuracy                           0.91       109\n",
      "   macro avg       0.89      0.90      0.90       109\n",
      "weighted avg       0.91      0.91      0.91       109\n",
      "\n"
     ]
    },
    {
     "data": {
      "image/png": "[encoded data removed]",
      "text/plain": [
       "<Figure size 640x480 with 2 Axes>"
      ]
     },
     "metadata": {},
     "output_type": "display_data"
    },
    {
     "name": "stdout",
     "output_type": "stream",
     "text": [
      "Classification Report (KNN):\n",
      "               precision    recall  f1-score   support\n",
      "\n",
      "           0       0.92      0.89      0.90        73\n",
      "           1       0.79      0.83      0.81        36\n",
      "\n",
      "    accuracy                           0.87       109\n",
      "   macro avg       0.85      0.86      0.86       109\n",
      "weighted avg       0.87      0.87      0.87       109\n",
      "\n"
     ]
    },
    {
     "data": {
      "image/png": "[encoded data removed]",
      "text/plain": [
       "<Figure size 640x480 with 2 Axes>"
      ]
     },
     "metadata": {},
     "output_type": "display_data"
    },
    {
     "name": "stdout",
     "output_type": "stream",
     "text": [
      "Classification Report (SVM):\n",
      "               precision    recall  f1-score   support\n",
      "\n",
      "           0       0.94      0.93      0.94        73\n",
      "           1       0.86      0.89      0.88        36\n",
      "\n",
      "    accuracy                           0.92       109\n",
      "   macro avg       0.90      0.91      0.91       109\n",
      "weighted avg       0.92      0.92      0.92       109\n",
      "\n"
     ]
    },
    {
     "data": {
      "image/png": "[encoded data removed]",
      "text/plain": [
       "<Figure size 640x480 with 2 Axes>"
      ]
     },
     "metadata": {},
     "output_type": "display_data"
    },
    {
     "name": "stdout",
     "output_type": "stream",
     "text": [
      "Classification Report (Decision Tree):\n",
      "               precision    recall  f1-score   support\n",
      "\n",
      "           0       0.89      0.89      0.89        73\n",
      "           1       0.78      0.78      0.78        36\n",
      "\n",
      "    accuracy                           0.85       109\n",
      "   macro avg       0.83      0.83      0.83       109\n",
      "weighted avg       0.85      0.85      0.85       109\n",
      "\n"
     ]
    },
    {
     "data": {
      "image/png": "[encoded data removed]",
      "text/plain": [
       "<Figure size 640x480 with 2 Axes>"
      ]
     },
     "metadata": {},
     "output_type": "display_data"
    },
    {
     "name": "stdout",
     "output_type": "stream",
     "text": [
      "Classification Report (Random Forest):\n",
      "               precision    recall  f1-score   support\n",
      "\n",
      "           0       0.92      0.97      0.95        73\n",
      "           1       0.94      0.83      0.88        36\n",
      "\n",
      "    accuracy                           0.93       109\n",
      "   macro avg       0.93      0.90      0.91       109\n",
      "weighted avg       0.93      0.93      0.93       109\n",
      "\n"
     ]
    },
    {
     "data": {
      "image/png": "[encoded data removed]",
      "text/plain": [
       "<Figure size 640x480 with 2 Axes>"
      ]
     },
     "metadata": {},
     "output_type": "display_data"
    },
    {
     "name": "stdout",
     "output_type": "stream",
     "text": [
      "Classification Report (XGBoost):\n",
      "               precision    recall  f1-score   support\n",
      "\n",
      "           0       0.92      0.97      0.95        73\n",
      "           1       0.94      0.83      0.88        36\n",
      "\n",
      "    accuracy                           0.93       109\n",
      "   macro avg       0.93      0.90      0.91       109\n",
      "weighted avg       0.93      0.93      0.93       109\n",
      "\n"
     ]
    }
   ],
   "source": [
    "results_log_reg = evaluate_classifier(\n",
    "    best_model_log_reg, X_test, y_test, \"Logistic Regression\"\n",
    ")\n",
    "results_knn = evaluate_classifier(best_model_knn, X_test, y_test, \"KNN\")\n",
    "results_svm = evaluate_classifier(best_model_svm, X_test, y_test, \"SVM\")\n",
    "results_dt = evaluate_classifier(best_model_dt, X_test, y_test, \"Decision Tree\")\n",
    "results_rf = evaluate_classifier(best_model_rf, X_test, y_test, \"Random Forest\")\n",
    "results_xgb = evaluate_classifier(best_model_xgb, X_test, y_test, \"XGBoost\")"
   ]
  },
  {
   "cell_type": "code",
   "execution_count": 26,
   "id": "945f713f",
   "metadata": {},
   "outputs": [
    {
     "name": "stdout",
     "output_type": "stream",
     "text": [
      "                     Accuracy  Precision  Recall  F1-Score  ROC-AUC\n",
      "Logistic Regression    0.9083     0.8421  0.8889    0.8649   0.9033\n",
      "KNN                    0.8716     0.7895  0.8333    0.8108   0.8619\n",
      "SVM                    0.9174     0.8649  0.8889    0.8767   0.9102\n",
      "Decision Tree          0.8532     0.7778  0.7778    0.7778   0.8341\n",
      "Random Forest          0.9266     0.9375  0.8333    0.8824   0.9030\n",
      "XGBoost                0.9266     0.9375  0.8333    0.8824   0.9030\n"
     ]
    }
   ],
   "source": [
    "results_df = pd.DataFrame(\n",
    "    [results_log_reg, results_knn, results_svm, results_dt, results_rf, results_xgb],\n",
    "    index=[\n",
    "        \"Logistic Regression\",\n",
    "        \"KNN\",\n",
    "        \"SVM\",\n",
    "        \"Decision Tree\",\n",
    "        \"Random Forest\",\n",
    "        \"XGBoost\",\n",
    "    ],\n",
    ")\n",
    "print(results_df)"
   ]
  },
  {
   "cell_type": "markdown",
   "id": "2e7f1d25",
   "metadata": {},
   "source": [
    "## 6. Conclusion\n",
    "A comparative analysis of six different preditive models applied to the dataset of PCOS diagnosis yields the following key insights:\n",
    "\n",
    "**Overall Performance**:\n",
    "- Random Forest and XGBoost achieved the highest accuracy ($0.9266$), F1-score ($0.8824$), indicating excellent overall preditive performance and balance between precision and recall.\n",
    "- SVM also provided a great result with an accuracy of $0.9174$ and F1-score of $0.8767$, demonstrating the effectiveness of support vector machines for this classification task.\n",
    "- Logistic Regression performed strong results with an accuracy of $0.9083$ and F1-score of $0.8649$. This highlights that simpler linear models can be highly competitive when appropriately tuned and preprocessed.\n",
    "- KNN has the lowest scores across most metrics, reflecting its sensitibity to feature scaling, parameter choice, and potentially the curse of dimensionality.\n",
    "\n",
    "**Minority Class Focus (Recall, F1-Score)**:\n",
    "- Recall is crucial for PCOS detection, as false negatives (missed diagnoses) are especially undesirable in medical settings.\n",
    "- All top-performing models (SVM, XGBoost, Logistic Regression) achieved a recall of $0.8333 - 0.8889$, indicating a higher ability to correctly identify positive PCOS cases than the other two models (Random Forest and Decision Tree).\n",
    "\n",
    "**Discriminative Ability (ROC-AUC)**:\n",
    "- SVM achieved the highest ROC-AUC ($0.9102$), closely followed by Logistic Regression ($0.9033$), Random Forest ($0.9030$) and XGBoost ($0.9033$). These values indicate a strong ability to distinguish between positive and negative cases across all thresholds.\n",
    "\n",
    "**Precision**:\n",
    "- Random Forest and XGBoost achieved the highest precision ($0.9375$), indicating a lower rate of false positives. However, their recall is slightly lower than that of SVM and Logistic Regression, which may be less desirable in medical screening, where missing true cases is more problematic than over-identification.\n",
    "\n",
    "Considering these results, the best model choices for this PCOS prediction task are **Random Forest** and **XGBoost**. However, **SVM (with a linear kernel)** and **Logistic Regression** also provide strong performance thus remain strong alternatives, particularly when recall is of paramount importance. "
   ]
  },
  {
   "cell_type": "markdown",
   "id": "178e17b3",
   "metadata": {},
   "source": [
    "## 7. References\n",
    "\n",
    "1. Christ, J. P., & Cedars, M. I. (2023). *Current Guidelines for Diagnosing PCOS*. Diagnostics (Basel, Switzerland), 13(6), 1113.<br>\n",
    "https://doi.org/10.3390/diagnostics13061113\n",
    "\n",
    "1. GeeksforGeeks. (2024). *Handling Imbalanced Data for Classification*.<br>\n",
    "https://www.geeksforgeeks.org/machine-learning/handling-imbalanced-data-for-classification/\n",
    "\n",
    "1. Li, Y., Yang, Y., Song, P., Duan, L., & Ren, R. (2025). *An improved SMOTE algorithm for enhanced imbalanced data classification* by expanding sample generation space. Scientific reports, 15(1), 23521. <br>\n",
    "https://doi.org/10.1038/s41598-025-09506-w\n",
    "\n",
    "1. Prasoon Kottarathil. (2020). *Polycystic ovary syndrome (PCOS)*.<br>\n",
    "https://www.kaggle.com/datasets/prasoonkottarathil/polycystic-ovary-syndrome-pcos"
   ]
  }
 ],
 "metadata": {
  "kernelspec": {
   "display_name": "DS_Projects",
   "language": "python",
   "name": "python3"
  },
  "language_info": {
   "codemirror_mode": {
    "name": "ipython",
    "version": 3
   },
   "file_extension": ".py",
   "mimetype": "text/x-python",
   "name": "python",
   "nbconvert_exporter": "python",
   "pygments_lexer": "ipython3",
   "version": "3.13.3"
  }
 },
 "nbformat": 4,
 "nbformat_minor": 5
}
