{
 "cells": [
  {
   "cell_type": "markdown",
   "id": "0b3b32c9",
   "metadata": {},
   "source": [
    "# LangChain Fundamentals\n",
    "***\n",
    "## Table of Contents\n",
    "***"
   ]
  },
  {
   "cell_type": "markdown",
   "id": "fb08539d",
   "metadata": {},
   "source": []
  }
 ],
 "metadata": {
  "language_info": {
   "name": "python"
  }
 },
 "nbformat": 4,
 "nbformat_minor": 5
}
