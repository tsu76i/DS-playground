{
 "cells": [
  {
   "cell_type": "markdown",
   "id": "ea1b6610",
   "metadata": {},
   "source": [
    "# Decision Tree Classifier from Scratch\n",
    "***\n",
    "## Table of Contents\n",
    "1. Loading Data\n",
    "***"
   ]
  },
  {
   "cell_type": "markdown",
   "id": "e6ff1b92",
   "metadata": {},
   "source": []
  }
 ],
 "metadata": {
  "language_info": {
   "name": "python"
  }
 },
 "nbformat": 4,
 "nbformat_minor": 5
}
