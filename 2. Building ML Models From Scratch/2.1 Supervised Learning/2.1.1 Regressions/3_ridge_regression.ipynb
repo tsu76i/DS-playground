{
 "cells": [
  {
   "cell_type": "markdown",
   "id": "9e366fdf",
   "metadata": {},
   "source": [
    "# Ridge Regression From Scratch\n",
    "***\n",
    "## Table of Contents\n",
    "1. [Introduction](#1-introduction)\n",
    "    - [Advantages](#advantages)\n",
    "    - [Limitations](#limitations)\n",
    "1. [Loading Data](#2-loading-data)\n",
    "1. [Standardisation](#3-standardisation)\n",
    "1. [Linear Regression Model](#4-linear-regression-model)\n",
    "1. [Ridge Loss Function](#5-ridge-loss-function)\n",
    "1. [Gradient Descent](#6-gradient-descent)\n",
    "1. [Model Evaluation](#6-model-evaluation)\n",
    "    - [Mean Squared Error (MSE)](#mean-squared-error-mse)\n",
    "    - [Root Mean Squared Error (RMSE)](#root-mean-squared-error-rmse)\n",
    "    - [Mean Absolute Error (MAE)](#mean-absolute-error-mae)\n",
    "    - [R-Squared ($R^2$)](#r-squared)\n",
    "1. [Encapsulation](#8-encapsulation)\n",
    "1. [k-Fold Cross Validation](#9-k-fold-cross-validation)\n",
    "    - [Advantages](#advantages)\n",
    "    - [Steps](#steps)\n",
    "1. [Comparison with Scikit-Learn](#10-comparison-with-scikit-learn)\n",
    "1. [References](#11-references)\n",
    "***\n"
   ]
  },
  {
   "cell_type": "code",
   "execution_count": 1,
   "id": "985e778a",
   "metadata": {},
   "outputs": [],
   "source": [
    "import numpy as np\n",
    "import matplotlib.pyplot as plt\n",
    "import pandas as pd\n",
    "from typing import Tuple\n",
    "from numpy.typing import NDArray"
   ]
  },
  {
   "cell_type": "markdown",
   "id": "d3e152a8",
   "metadata": {},
   "source": [
    "## 1. Introduction\n",
    "\n",
    "This notebook is an extension of [Linear Regression from Scratch](https://github.com/tsu76i/DS-playground/blob/main/2.%20Building%20ML%20Models%20From%20Scratch/2.1%20Supervised%20Learning/2.1.1%20Regressions/linear_regression.ipynb).\n",
    "\n",
    "Ridge Regression is a regularised version of linear regression that addresses multicollinearity and overfitting by adding an **L2 penalty** (the squared magnitude of coefficients) to the loss function.\n",
    "\n",
    "### Advantages\n",
    "- The L2 penalty term penalises large regression coefficients, which helps to prevent the model from overfitting the training data.\n",
    "- Ridge regression is particularly effective when predictor variables are highly correlated (multicollinearity), a situation where ordinary least squares (OLS) estimates become unstable and innacurate.\n",
    "- Regularisation via the L2 penalty leads to improved generalisation and predictive performance on unseen data, especially when the number of predictors is large relative to the number of observations.\n",
    "- Ridge regression has a closed-form solution, making it computationally efficient and scalable to large datasets.\n",
    "\n",
    "### Limitations\n",
    "- Ridge regression does not perform feature selection; it simply shrinks coefficients, which can be a drawback for a sparse or interpretable model.\n",
    "- The regularisation strength $\\lambda$ must be chosen carefully, often via cross-validation. Poor choice of this parameter can lead to underfitting or insufficient regularisation.\n",
    "- Ridge regression is sensitive to the scale of the predictors. It is essential to standardise features before applying ridge regression to ensure fair penalisation.\n"
   ]
  },
  {
   "cell_type": "markdown",
   "id": "c5a30634",
   "metadata": {},
   "source": [
    "## 2. Loading Data"
   ]
  },
  {
   "cell_type": "code",
   "execution_count": 2,
   "id": "b4c722fc",
   "metadata": {},
   "outputs": [],
   "source": [
    "linear_data = pd.read_csv(\"../../_datasets/linear_data.txt\", header=None)\n",
    "X = np.array(linear_data.iloc[:, 0])\n",
    "y = np.array(linear_data.iloc[:, 1])"
   ]
  },
  {
   "cell_type": "code",
   "execution_count": 3,
   "id": "f0d45568",
   "metadata": {},
   "outputs": [
    {
     "data": {
      "image/png": "[encoded data removed]",
      "text/plain": [
       "<Figure size 640x480 with 1 Axes>"
      ]
     },
     "metadata": {},
     "output_type": "display_data"
    }
   ],
   "source": [
    "plt.scatter(X, y)\n",
    "plt.xlabel('X')\n",
    "plt.ylabel('y')\n",
    "plt.show()"
   ]
  },
  {
   "cell_type": "markdown",
   "id": "04bbb8cc",
   "metadata": {},
   "source": [
    "## 3. Standardisation\n",
    "Ridge regression penalises the sum of squared coefficients (L2 norm). If the input features are on different scales, the regularisation penalty is applied unevenly, causing features with larger scales to dominate the regularisation term and reducing overall model performance. To address this issue, it is essential to standardise all features before applying ridge regression, as this ensures that all features contribute equally to the penalty. This process not only makes the regularisation fair but also improves numerical stability. The mathematical definition of standardisation for each feature $x_j$ is as follows:\n",
    "\n",
    "\\begin{align*}\n",
    "    x_j^{\\text{standardised}} = \\dfrac{x_j - \\mu_j}{\\sigma_j}\n",
    "\\end{align*}\n",
    "\n",
    "where:\n",
    "- $\\mu_j$: The mean of feature $j$.\n",
    "- $\\sigma_j$: The standard deviation of feature $j$."
   ]
  },
  {
   "cell_type": "code",
   "execution_count": 4,
   "id": "20047338",
   "metadata": {},
   "outputs": [],
   "source": [
    "def standardise(X: NDArray[np.float64]) -> NDArray[np.float64]:\n",
    "    X_mean = np.mean(X)\n",
    "    X_std = np.std(X)\n",
    "    return (X - X_mean) / X_std"
   ]
  },
  {
   "cell_type": "code",
   "execution_count": 5,
   "id": "6fca67b9",
   "metadata": {},
   "outputs": [
    {
     "name": "stdout",
     "output_type": "stream",
     "text": [
      "Before standardisation: [6.1101 5.5277 8.5186 7.0032 5.8598]\n",
      "After standardisation: [-1.0449549  -1.15259751 -0.59980172 -0.87988689 -1.09121682]\n"
     ]
    }
   ],
   "source": [
    "print(f'Before standardisation: {X[:5]}')\n",
    "X = standardise(X)\n",
    "print(f'After standardisation: {X[:5]}')"
   ]
  },
  {
   "cell_type": "markdown",
   "id": "ce5043c0",
   "metadata": {},
   "source": [
    "## 4. Linear Regression Model\n",
    "\n",
    "A linear regression model provides numerical predictions as a straight line on a dataset, assuming a linear relationship between two numerical variables. The formula for a simple linear regression is:\n",
    "\n",
    "\\begin{align*}\n",
    "h = wx + b\n",
    "\\end{align*}\n",
    "\n",
    "Where:\n",
    "\n",
    "- $x$ is the independent variable.\n",
    "- $w$ is the slope (weight, coefficient of $x$).\n",
    "- $b$ is the intercept (bias, constant term)."
   ]
  },
  {
   "cell_type": "code",
   "execution_count": 6,
   "id": "3aa511bd",
   "metadata": {},
   "outputs": [],
   "source": [
    "# Linear function h\n",
    "def h(w: float, b: float, x: float) -> float:\n",
    "    return w * x + b"
   ]
  },
  {
   "cell_type": "markdown",
   "id": "912b5d61",
   "metadata": {},
   "source": [
    "## 5. Ridge Loss Function\n",
    "Ridge regression introduces a L2 penalty to the standard mean squared error (MSE) loss function. The regularised loss function becomes:\n",
    "\n",
    "\\begin{align*}\n",
    "    \\mathcal{L}_{\\text{Ridge}}(w, b) = \\dfrac{1}{n} \\sum^{n}_{i=1}(y_i - (wx_i + b))^2 + \\lambda w^2\n",
    "\\end{align*}\n",
    "\n",
    "where:\n",
    "- $y_i$: True target value  for the $i$-th sample $x_i$.\n",
    "- $wx_i + b = \\hat y_i$: Predicted target value for the $i$-th sample $x_i$.\n",
    "- $w$: Vector of regression coefficients.\n",
    "- $\\lambda \\geq 0$: Regularisation parameter."
   ]
  },
  {
   "cell_type": "code",
   "execution_count": 7,
   "id": "3e06d532",
   "metadata": {},
   "outputs": [],
   "source": [
    "# Compute Ridge Loss function (MSE + L2 penalty)\n",
    "def calculate_loss_ridge(w: float, b: float, X: NDArray[np.float64], y: NDArray[np.float64], lambda_: float) -> float:\n",
    "    total_err: float = 0.0\n",
    "    for i in range(len(X)):\n",
    "        y_hat = h(w, b, X[i])\n",
    "        total_err += (y[i] - y_hat) ** 2\n",
    "    mse = total_err / len(X)\n",
    "    l2_penalty = lambda_ * (w ** 2)\n",
    "    return mse + l2_penalty"
   ]
  },
  {
   "cell_type": "markdown",
   "id": "3a36cc3d",
   "metadata": {},
   "source": [
    "## 6. Gradient Descent\n",
    "The gradients of the loss function with respect to $w$ and $b$ becomes:\n",
    "\n",
    "\\begin{align*}\n",
    "    \\frac{\\partial \\mathcal{L}_{\\text{Ridge}}}{\\partial w} &= - \\frac{2}{n}\\sum^{n}_{i=1}(y_i - (wx_i+b))x_i + 2 \\lambda w \\\\\n",
    "    \\frac{\\partial \\mathcal{L}_{\\text{Ridge}}}{\\partial b} &= - \\frac{2}{n}\\sum^{n}_{i=1}(y_i - (wx_i+b))\n",
    "\\end{align*}\n",
    "\n",
    "Note that the intercept $b$ is typically **not regularised**."
   ]
  },
  {
   "cell_type": "code",
   "execution_count": 8,
   "id": "1d86281d",
   "metadata": {},
   "outputs": [],
   "source": [
    "def derivative_ridge(X: NDArray[np.float64], y: NDArray[np.float64], y_pred: NDArray[np.float64], n: int, w: float, lambda_: float) -> Tuple[float, float]:\n",
    "    dL_dw: float = -2 * np.sum((y - y_pred) * X) / n + 2 * lambda_ * w\n",
    "    dL_db: float = -2 * np.sum(y - y_pred) / n\n",
    "    return dL_dw, dL_db\n",
    "\n",
    "\n",
    "# Batch Gradient Descent for Ridge Regression\n",
    "def gradient_descent_ridge(w: float, b: float, X: NDArray[np.float64], y: NDArray[np.float64],\n",
    "                           alpha: float, epochs: int, n: int, lambda_: float) -> Tuple[float, float, NDArray[np.float64]]:\n",
    "    loss_list: list[float] = []\n",
    "    for _ in range(epochs):\n",
    "        y_pred: NDArray[np.float64] = h(w, b, X)\n",
    "        loss_list.append(calculate_loss_ridge(w, b, X, y, lambda_))\n",
    "        dL_dw, dL_db = derivative_ridge(X, y, y_pred, n, w, lambda_)\n",
    "        w -= alpha * dL_dw\n",
    "        b -= alpha * dL_db\n",
    "    return w, b, np.array(loss_list)"
   ]
  },
  {
   "cell_type": "code",
   "execution_count": 9,
   "id": "38722fdf",
   "metadata": {},
   "outputs": [
    {
     "name": "stdout",
     "output_type": "stream",
     "text": [
      "Coefficient (GD): 3.72364, Intercept (GD): 12.80548\n"
     ]
    }
   ],
   "source": [
    "# Example\n",
    "alpha = 0.001\n",
    "n = len(y)\n",
    "epochs = 10000\n",
    "lambda_ = 1.0  # Regularisation strength\n",
    "\n",
    "coeff_GD, intercept_GD, loss_array = gradient_descent_ridge(\n",
    "    0, 0, X, y, alpha, epochs, n, lambda_\n",
    ")\n",
    "print(f'Coefficient (GD): {coeff_GD:.5f}, Intercept (GD): {intercept_GD:.5f}')"
   ]
  },
  {
   "cell_type": "code",
   "execution_count": 10,
   "id": "e5e349d5",
   "metadata": {},
   "outputs": [
    {
     "data": {
      "image/png": "[encoded data removed]",
      "text/plain": [
       "<Figure size 800x500 with 1 Axes>"
      ]
     },
     "metadata": {},
     "output_type": "display_data"
    }
   ],
   "source": [
    "plt.figure(figsize=(8, 5))\n",
    "plt.plot(loss_array[:1500], color='b')\n",
    "plt.xlabel('Epochs')\n",
    "plt.ylabel('Loss')\n",
    "plt.title('Loss Over Epochs (Up to 1500)')\n",
    "plt.grid(True)\n",
    "plt.show()"
   ]
  },
  {
   "cell_type": "markdown",
   "id": "1d0d6e63",
   "metadata": {},
   "source": [
    "## 7. Model Evaluation\n",
    "\n",
    "\n",
    "### Mean Squared Error (MSE)\n",
    "Mean Squared Error measures the average squared difference between predicted ($\\hat y$) and actual ($y$) values. Large errors are penalised heavily. Smaller MSE indicates better predictions.\n",
    "\n",
    "\\begin{align*}\n",
    "MSE = \\dfrac{1}{n} \\sum_{i=1}^{n}(\\hat y_{i} = y_{i})^2\n",
    "\\end{align*}"
   ]
  },
  {
   "cell_type": "code",
   "execution_count": 11,
   "id": "39641816",
   "metadata": {},
   "outputs": [],
   "source": [
    "def calculate_MSE(y_true: NDArray[np.float64], y_pred: NDArray[np.float64]) -> float:\n",
    "    return np.mean((y_true - y_pred) ** 2)"
   ]
  },
  {
   "cell_type": "markdown",
   "id": "2ad1f756",
   "metadata": {},
   "source": [
    "### Root Mean Squared Error (RMSE)\n",
    "Square root of MSE. It provides error in the same unit as the target variable ($y$) and easier to interpret.\n",
    "\n",
    "\\begin{align*}\n",
    "RMSE = \\sqrt{(MSE)}\n",
    "\\end{align*}"
   ]
  },
  {
   "cell_type": "code",
   "execution_count": 12,
   "id": "c43527f9",
   "metadata": {},
   "outputs": [],
   "source": [
    "def calculate_RMSE(y_true: NDArray[np.float64], y_pred: NDArray[np.float64]) -> float:\n",
    "    return np.sqrt(np.mean((y_true - y_pred) ** 2))"
   ]
  },
  {
   "cell_type": "markdown",
   "id": "44132186",
   "metadata": {},
   "source": [
    "### Mean Absolute Error (MAE)\n",
    "Mean Absolute Error measures the average absolute difference between predicted ($\\hat y$) and actual ($y$) values. It is less sensitive to outliers than MSE. Smaller MAE indicates better predictions.\n",
    "\n",
    "\\begin{align*}\n",
    "MAE = \\dfrac{1}{n} \\sum_{i=1}^{n}|\\hat y_{i} = y_{i}|\n",
    "\\end{align*}"
   ]
  },
  {
   "cell_type": "code",
   "execution_count": 13,
   "id": "a01788d0",
   "metadata": {},
   "outputs": [],
   "source": [
    "def calculate_MAE(y_true: NDArray[np.float64], y_pred: NDArray[np.float64]) -> float:\n",
    "    return np.mean(np.abs(y_true - y_pred))"
   ]
  },
  {
   "cell_type": "markdown",
   "id": "bf946da1",
   "metadata": {},
   "source": [
    "<a id=\"r-squared\"></a>\n",
    "### R-Squared($R^2$)\n",
    "\n",
    "R-squared indicated the proportion of variance in the dependent variable that is predictable from the independent variables. Value ranges from 0 to 1. Closer to 1 indicates a better fit.\n",
    "\n",
    "\n",
    "\n",
    "Residual Sum of Squares ($SS_{residual}$): \n",
    "\\begin{align*}\n",
    "SS_{residual} = \\sum_{i=1}^{n} (y_{i} - \\hat y_{i})^{2}\n",
    "\\end{align*}\n",
    "\n",
    "Total Sum of Squares ($SS_{total}$): \n",
    "\\begin{align*}\n",
    "SS_{total} = \\sum_{i=1}^{n} (y_{i} - \\bar y_{i})^{2}\n",
    "\\end{align*}\n",
    "\n",
    "$R^2$ is computed as:\n",
    "\n",
    "\\begin{align*}\n",
    "\n",
    "R^2 = 1 - \\dfrac{SS_{residual}}{SS_{total}} = 1 - \\dfrac{\\sum_{i=1}^{n} (y_{i} - \\hat y_{i})^{2}}{\\sum_{i=1}^{n} (y_{i} - \\bar y_{i})^{2}}\n",
    "\n",
    "\\end{align*}\n",
    "\n",
    "where:\n",
    "\n",
    "$y$: Actual target values.\n",
    "\n",
    "$\\bar y$: Mean of the actual target values.\n",
    "\n",
    "$\\hat y$: Precicted target values."
   ]
  },
  {
   "cell_type": "code",
   "execution_count": 14,
   "id": "e968f8e3",
   "metadata": {},
   "outputs": [],
   "source": [
    "def calculate_r2(y_true: NDArray[np.float64], y_pred: NDArray[np.float64]) -> float:\n",
    "    ss_total = np.sum((y_true - np.mean(y_true)) ** 2)\n",
    "    ss_residual = np.sum((y_true - y_pred) ** 2)\n",
    "    r2 = 1 - (ss_residual / ss_total)\n",
    "    return r2"
   ]
  },
  {
   "cell_type": "code",
   "execution_count": 15,
   "id": "272ada88",
   "metadata": {},
   "outputs": [],
   "source": [
    "def evaluate(y_true: NDArray[np.float64], y_pred: NDArray[np.float64]) -> Tuple[float, float, float, float]:\n",
    "    \"\"\"\n",
    "    Calculate and return evaluation metrics for a regression model, including MSE, RMSE, MAE, and R-squared.\n",
    "\n",
    "    Args:\n",
    "        y_true : True target values.\n",
    "        y_pred: Predicted target values.\n",
    "\n",
    "    Returns:\n",
    "        - mse: Mean Squared Error (MSE), indicating the average of the squared differences between predicted and true values.\n",
    "        - rmse: Root Mean Squared Error (RMSE), indicating the standard deviation of the residuals.\n",
    "        - mae: Mean Absolute Error (MAE), representing the average absolute difference between predicted and true values.\n",
    "        - r2: R-squared (coefficient of determination), showing the proportion of variance in the dependent variable that is predictable from the independent variable(s).\n",
    "    \"\"\"\n",
    "    mse = calculate_MSE(y_true, y_pred)\n",
    "    rmse = calculate_RMSE(y_true, y_pred)\n",
    "    mae = calculate_MAE(y_true, y_pred)\n",
    "    r2 = calculate_r2(y_true, y_pred)\n",
    "    return mse, rmse, mae, r2"
   ]
  },
  {
   "cell_type": "markdown",
   "id": "a8795a08",
   "metadata": {},
   "source": [
    "## 8. Encapsulation"
   ]
  },
  {
   "cell_type": "code",
   "execution_count": 16,
   "id": "cf2daeb0",
   "metadata": {},
   "outputs": [],
   "source": [
    "class CustomRidgeRegression:\n",
    "    \"\"\"\n",
    "    A simple implementation of Ridge Regression using gradient descent.\n",
    "    \"\"\"\n",
    "\n",
    "    def __init__(self, w: float = 0.0, b: float = 0.0,\n",
    "                 alpha: float = 0.001, epochs: int = 20000, lambda_: float = 1.0) -> None:\n",
    "        \"\"\"\n",
    "        Initialise the CustomRidgeRegression instance with given hyperparameters.\n",
    "\n",
    "        Args:\n",
    "            w: Initial weight (default is 0.0).\n",
    "            b: Initial bias (default is 0.0).\n",
    "            alpha: Learning rate for gradient descent (default is 0.001).\n",
    "            epochs: Number of iterations for gradient descent (default is 20000).\n",
    "            lambda_: L2 Regularisation parameter (default is 1.0).\n",
    "        \"\"\"\n",
    "        self.w = w\n",
    "        self.b = b\n",
    "        self.alpha = alpha\n",
    "        self.epochs = epochs\n",
    "        self.lambda_ = lambda_\n",
    "        self.loss_history = []\n",
    "\n",
    "    def predict(self, X: float) -> float:\n",
    "        \"\"\"\n",
    "        Predict the output for a given input using the regression line.\n",
    "\n",
    "        Args:\n",
    "            X: Input feature value.\n",
    "\n",
    "        Returns:\n",
    "            Predicted value.\n",
    "        \"\"\"\n",
    "        return self.w * X + self.b\n",
    "\n",
    "    def calculate_loss_ridge(self, y: NDArray[np.float64], y_pred: NDArray[np.float64]) -> float:\n",
    "        \"\"\"\n",
    "        Calculate Ridge Loss function (MSE + L2 penalty).\n",
    "\n",
    "        Args:\n",
    "            y: True output values.\n",
    "            y_pred: Predicted output values.\n",
    "\n",
    "        Returns:\n",
    "            MSE + L2 penalty.\n",
    "        \"\"\"\n",
    "        mse = np.mean((y - y_pred) ** 2)\n",
    "        l2_penalty = self.lambda_ * (self.w ** 2)\n",
    "        return mse + l2_penalty\n",
    "\n",
    "    def gradient_descent(self, X: NDArray[np.float64], y: NDArray[np.float64]) -> None:\n",
    "        \"\"\"\n",
    "        Perform gradient descent to optimise the parameters w and b.\n",
    "\n",
    "        Args:\n",
    "            X: Input feature values.\n",
    "            y: True output values.\n",
    "        \"\"\"\n",
    "        n: int = len(y)\n",
    "        for _ in range(self.epochs):\n",
    "            y_pred = np.array([self.predict(x_i) for x_i in X])\n",
    "\n",
    "            loss = self.calculate_loss_ridge(y, y_pred)\n",
    "            self.loss_history.append(loss)\n",
    "\n",
    "            dL_dw = -(2 / n) * np.sum(X * (y - y_pred)) + \\\n",
    "                2 * self.lambda_ * self.w\n",
    "            dL_db = -(2 / n) * np.sum(y - y_pred)\n",
    "\n",
    "            self.w -= self.alpha * dL_dw\n",
    "            self.b -= self.alpha * dL_db\n",
    "\n",
    "    def train(self, X: NDArray[np.float64], y: NDArray[np.float64]) -> None:\n",
    "        \"\"\"\n",
    "        Train the model using gradient descent.\n",
    "\n",
    "        Args:\n",
    "            X: Input feature values.\n",
    "            y: True output values.\n",
    "        \"\"\"\n",
    "        self.gradient_descent(X, y)\n",
    "        print(\n",
    "            f\"Training completed. Coefficient: {self.w:.5f}, Intercept: {self.b:.5f}\")"
   ]
  },
  {
   "cell_type": "markdown",
   "id": "2e956a1b",
   "metadata": {},
   "source": [
    "## 9. k-Fold Cross Validation\n",
    "k-fold cross validation systematically splits the dataset into $k$ subsets (called *folds*) and evaluates the generalisation performance of machine learning models. It ensures that every data point is used for both training and validation exactly once. It provides a principled way to evaluate different regularisation parameter ($\\lambda$) values and select the one that minimises prediction error on data not used for training.\n",
    "\n",
    "### Advantages\n",
    "- **Reduces overfitting**: By validating on multiple subsets, it provides a more reliable estimate of model performance on unseen data.\n",
    "- **Efficient Data Utilisation**: Every observation is used for both training and validation, maximising the use of limited data.\n",
    "- **Stable Performance Estimate**: Averaging results over k folds reduces the variance and bias of the performance metric.\n",
    "\n",
    "### Steps\n",
    "1. Choose the number of folds (k)\n",
    "    - Typically $k = 5$ or $10$.\n",
    "2. Shuffle and split the data\n",
    "    - Randomly shuffle the dataset to ensure each fold is representative.\n",
    "    - Divide the data into k folds of (approximately) equal size.\n",
    "3. Iterative training and validation\n",
    "    - For each fold $i$ (where $i = 1,...,k$)\n",
    "        - Use the $i$-th fold as the validation (test) set.\n",
    "        - Use the remaining $k-1$ folds as the training set.\n",
    "        - Train the model on the training set.\n",
    "        - Evaluate the model on the validation set and record the performance.\n",
    "4. Arregate the results\n",
    "    - Calculate the mean of the recorded performance metrics as an overall estimate."
   ]
  },
  {
   "cell_type": "code",
   "execution_count": 17,
   "id": "25060d0b",
   "metadata": {},
   "outputs": [],
   "source": [
    "def cross_validate_ridge(X: np.ndarray, y: np.ndarray, lambdas: list, k: int = 5,\n",
    "                         alpha: float = 0.001, epochs: int = 20000, random_state: int = 42) -> dict:\n",
    "    \"\"\"\n",
    "    Perform k-fold cross-validation for CustomRidgeRegression over a grid of lambda values.\n",
    "\n",
    "    Args:\n",
    "        X: Feature array (1D or 2D).\n",
    "        y: Target array.\n",
    "        lambdas: List of lambda values to evaluate.\n",
    "        k: Number of folds (default 5).\n",
    "        alpha: Learning rate for gradient descent.\n",
    "        epochs: Number of training epochs.\n",
    "        random_state: Seed for reproducibility.\n",
    "\n",
    "    Returns:\n",
    "        Dictionary mapping lambda to average validation MSE.\n",
    "    \"\"\"\n",
    "    np.random.seed(random_state)\n",
    "    indices = np.arange(len(y))\n",
    "    np.random.shuffle(indices)\n",
    "    fold_sizes = np.full(k, len(y) // k, dtype=int)  # Split equally\n",
    "    fold_sizes[:len(y) % k] += 1  # Distibute remainder\n",
    "    current = 0\n",
    "    folds = []\n",
    "    for fold_size in fold_sizes:  # Split randomised indices into k folds\n",
    "        start, stop = current, current + fold_size\n",
    "        # folds contain k folds of randomised indices\n",
    "        folds.append(indices[start:stop])\n",
    "        current = stop\n",
    "\n",
    "    lambda_mse = {}\n",
    "    for lambda_ in lambdas:\n",
    "        mse_scores = []\n",
    "        for i in range(k):\n",
    "            val_idx = folds[i]  # i-th fold = validation\n",
    "            # All other folds = training\n",
    "            train_idx = np.hstack([folds[j] for j in range(k) if j != i])\n",
    "            X_train, y_train = X[train_idx], y[train_idx]\n",
    "            X_val, y_val = X[val_idx], y[val_idx]\n",
    "\n",
    "            model = CustomRidgeRegression(\n",
    "                w=0, b=0, alpha=alpha, epochs=epochs, lambda_=lambda_)\n",
    "            model.train(X_train, y_train)\n",
    "            y_pred = model.predict(X_val)\n",
    "            mse = np.mean((y_val - y_pred) ** 2)\n",
    "            mse_scores.append(mse)\n",
    "        lambda_mse[lambda_] = float(np.mean(mse_scores).round(4))\n",
    "    return lambda_mse"
   ]
  },
  {
   "cell_type": "code",
   "execution_count": 18,
   "id": "b774369d",
   "metadata": {},
   "outputs": [
    {
     "name": "stdout",
     "output_type": "stream",
     "text": [
      "Training completed. Coefficient: 7.54611, Intercept: 12.81410\n",
      "Training completed. Coefficient: 7.28226, Intercept: 12.91071\n",
      "Training completed. Coefficient: 7.39805, Intercept: 12.77515\n",
      "Training completed. Coefficient: 7.57774, Intercept: 12.65087\n",
      "Training completed. Coefficient: 7.38836, Intercept: 12.88254\n",
      "Training completed. Coefficient: 7.47926, Intercept: 12.81458\n",
      "Training completed. Coefficient: 7.21689, Intercept: 12.91400\n",
      "Training completed. Coefficient: 7.33363, Intercept: 12.77356\n",
      "Training completed. Coefficient: 7.51017, Intercept: 12.65048\n",
      "Training completed. Coefficient: 7.32083, Intercept: 12.88073\n",
      "Training completed. Coefficient: 6.87058, Intercept: 12.81895\n",
      "Training completed. Coefficient: 6.62235, Intercept: 12.94391\n",
      "Training completed. Coefficient: 6.74625, Intercept: 12.75906\n",
      "Training completed. Coefficient: 6.89534, Intercept: 12.64698\n",
      "Training completed. Coefficient: 6.70773, Intercept: 12.86427\n",
      "Training completed. Coefficient: 3.78792, Intercept: 12.84108\n",
      "Training completed. Coefficient: 3.63105, Intercept: 13.09441\n",
      "Training completed. Coefficient: 3.74596, Intercept: 12.68495\n",
      "Training completed. Coefficient: 3.79142, Intercept: 12.62926\n",
      "Training completed. Coefficient: 3.65050, Intercept: 12.78218\n",
      "Training completed. Coefficient: 0.69038, Intercept: 12.86333\n",
      "Training completed. Coefficient: 0.65816, Intercept: 13.24398\n",
      "Training completed. Coefficient: 0.68767, Intercept: 12.60942\n",
      "Training completed. Coefficient: 0.68916, Intercept: 12.61156\n",
      "Training completed. Coefficient: 0.65683, Intercept: 12.70181\n",
      "Training completed. Coefficient: 0.07523, Intercept: 12.86774\n",
      "Training completed. Coefficient: 0.07164, Intercept: 13.27348\n",
      "Training completed. Coefficient: 0.07504, Intercept: 12.59429\n",
      "Training completed. Coefficient: 0.07505, Intercept: 12.60806\n",
      "Training completed. Coefficient: 0.07139, Intercept: 12.68609\n",
      "----------\n",
      "Best lambda: 0.001\n",
      "Cross-validated MSEs: {0.001: 11.14, 0.01: 11.146, 0.1: 11.6089, 1: 25.1476, 10: 57.3218, 100: 65.8974}\n"
     ]
    }
   ],
   "source": [
    "# Example grid of lambda values\n",
    "lambdas = [0.001, 0.01, 0.1, 1, 10, 100]\n",
    "\n",
    "# Run cross-validation\n",
    "cv_results = cross_validate_ridge(\n",
    "    X, y, lambdas, k=5, alpha=0.001, epochs=10000, random_state=42)\n",
    "\n",
    "# Find the best lambda\n",
    "best_lambda = min(cv_results, key=cv_results.get)\n",
    "print('----------')\n",
    "print(f'Best lambda: {best_lambda}')\n",
    "print(f'Cross-validated MSEs: {cv_results}')"
   ]
  },
  {
   "cell_type": "markdown",
   "id": "1dc3f346",
   "metadata": {},
   "source": [
    "By applying k-fold cross-validation, we found that the optimal value for the L2 regularisation parameter ($\\lambda$) is $0.001$ among the candidates $[0.001, 0.01, 0.1, 1, 10, 100]$. As $\\lambda$ increases, the penalty term becomes more dominant, progressively shrinking the coefficients and leading to underfitting. This result indicates that the best predictive performance is achieved with only a slight penalty on the magnitude of the coefficients. In other words, the model does not require substantial regularisation to generalise well to unseen data."
   ]
  },
  {
   "cell_type": "code",
   "execution_count": 19,
   "id": "64ab868f",
   "metadata": {},
   "outputs": [
    {
     "name": "stdout",
     "output_type": "stream",
     "text": [
      "Training completed. Coefficient: 7.43984, Intercept: 12.80548\n",
      "MSE (Custom): 10.9521\n",
      "RMSE (Custom): 3.3094\n",
      "MAE (Custom): 2.7402\n",
      "R-Squared (Custom): 0.8351\n",
      "----------\n"
     ]
    }
   ],
   "source": [
    "model = CustomRidgeRegression(\n",
    "    w=0, b=0, alpha=0.001, epochs=epochs, lambda_=best_lambda)\n",
    "model.train(X, y)\n",
    "\n",
    "y_pred = model.predict(X)\n",
    "mse_custom, rmse_custom, mae_custom, r2_custom = evaluate(y, y_pred)\n",
    "print(f'MSE (Custom): {mse_custom:.4f}')\n",
    "print(f'RMSE (Custom): {rmse_custom:.4f}')\n",
    "print(f'MAE (Custom): {mae_custom:.4f}')\n",
    "print(f'R-Squared (Custom): {r2_custom:.4f}')\n",
    "print('----------')"
   ]
  },
  {
   "cell_type": "markdown",
   "id": "7181fb91",
   "metadata": {},
   "source": [
    "## 10. Comparison with Scikit-Learn"
   ]
  },
  {
   "cell_type": "code",
   "execution_count": 20,
   "id": "f6341d2f",
   "metadata": {},
   "outputs": [
    {
     "name": "stdout",
     "output_type": "stream",
     "text": [
      "Optimal lambda (alpha): 0.001\n",
      "MSE (sklearn): 10.9521\n",
      "MSE (Custom): 10.9521\n",
      "----------\n",
      "RMSE (sklearn): 3.3094\n",
      "RMSE (Custom): 3.3094\n",
      "----------\n",
      "MAE (sklearn): 2.7396\n",
      "MAE (Custom): 2.7402\n",
      "----------\n",
      "R-Squared (sklearn): 0.8351\n",
      "R-Squared (Custom): 0.8351\n"
     ]
    }
   ],
   "source": [
    "from sklearn.linear_model import RidgeCV\n",
    "from sklearn.metrics import mean_squared_error, mean_absolute_error, r2_score\n",
    "X_sk = X.reshape(-1, 1)  # X expected to be 2D array\n",
    "ridge_cv = RidgeCV(alphas=lambdas, cv=5,\n",
    "                   scoring='neg_mean_squared_error')\n",
    "ridge_cv.fit(X_sk, y)\n",
    "\n",
    "print(\"Optimal lambda (alpha):\", ridge_cv.alpha_)\n",
    "\n",
    "y_pred_sk = ridge_cv.predict(X_sk)\n",
    "mse_sk = mean_squared_error(y, y_pred_sk)\n",
    "rmse_sk = np.sqrt(mse_sk)\n",
    "mae_sk = mean_absolute_error(y, y_pred_sk)\n",
    "r2_sk = r2_score(y, y_pred_sk)\n",
    "\n",
    "print(f'MSE (sklearn): {mse_sk:.4f}')\n",
    "print(f'MSE (Custom): {mse_custom:.4f}')\n",
    "print('----------')\n",
    "print(f'RMSE (sklearn): {rmse_sk:.4f}')\n",
    "print(f'RMSE (Custom): {rmse_custom:.4f}')\n",
    "print('----------')\n",
    "print(f'MAE (sklearn): {mae_sk:.4f}')\n",
    "print(f'MAE (Custom): {mae_custom:.4f}')\n",
    "print('----------')\n",
    "print(f'R-Squared (sklearn): {r2_sk:.4f}')\n",
    "print(f'R-Squared (Custom): {r2_custom:.4f}')"
   ]
  },
  {
   "cell_type": "markdown",
   "id": "15edc32b",
   "metadata": {},
   "source": [
    "## 11. References\n",
    "\n",
    "1. Ash Lei. (2025). *Benefits of ridge regression: Enhancing statistical modeling precision*. <br>\n",
    "https://www.byteplus.com/en/topic/401078?title=benefits-of-ridge-regression-enhancing-statistical-modeling-precision\n",
    "\n",
    "1. CFI Team. (n.d.). *Ridge*. <br>\n",
    "https://corporatefinanceinstitute.com/resources/data-science/ridge/\n",
    "\n",
    "1. DataMListic. (2025). *L1 vs L2 Regularization* [YouTube Video]. <br>\n",
    "https://youtu.be/aBgMRXSqd04\n",
    "\n",
    "1. GeeksforGeeks. (2025). *K- Fold Cross Validation in Machine Learning*. <br>\n",
    "https://www.geeksforgeeks.org/machine-learning/k-fold-cross-validation-in-machine-learning/\n",
    "\n",
    "1. Jason Brownlee. (2023). *A Gentle Introduction to k-fold Cross-Validation*. <br>\n",
    "https://machinelearningmastery.com/k-fold-cross-validation/\n",
    "\n",
    "1. Nisha Arya. (2022). *Why Use k-fold Cross Validation?* <br>\n",
    "https://www.kdnuggets.com/2022/07/kfold-cross-validation.html\n",
    "\n",
    "1. Sarah Lee. (2025). *Data Analysis with Ridge Regression: Example Stats & Key Insights*. <br>\n",
    "https://www.numberanalytics.com/blog/data-analysis-ridge-regression-examples\n",
    "\n",
    "1. Sarah Lee. (2025). *7 Surprising Benefits of Ridge Regression in Modern Machine Learning*. <br>\n",
    "https://www.numberanalytics.com/blog/ridge-regression-benefits-machine-learning\n",
    "\n",
    "1. scikit-learn. (n.d.). *RidgeCV — scikit-learn API Reference.* <br>\n",
    "https://scikit-learn.org/stable/modules/generated/sklearn.linear_model.RidgeCV.html\n",
    "\n",
    "1. StatQuest with Josh Starmer. (2018). *Regularization Part 1: Ridge (L2) Regression* [YouTube Video]. <br>\n",
    "https://youtu.be/Q81RR3yKn30\n",
    "\n",
    "1. S. Jackson. (2024), *Chapter 5 Choosing λ* <br>\n",
    "https://bookdown.org/ssjackson300/Machine-Learning-Lecture-Notes/choosing-lambda.html"
   ]
  }
 ],
 "metadata": {
  "kernelspec": {
   "display_name": "DS_Projects",
   "language": "python",
   "name": "python3"
  },
  "language_info": {
   "codemirror_mode": {
    "name": "ipython",
    "version": 3
   },
   "file_extension": ".py",
   "mimetype": "text/x-python",
   "name": "python",
   "nbconvert_exporter": "python",
   "pygments_lexer": "ipython3",
   "version": "3.13.3"
  }
 },
 "nbformat": 4,
 "nbformat_minor": 5
}
