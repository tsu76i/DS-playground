{
 "cells": [
  {
   "cell_type": "markdown",
   "id": "7760cb9e",
   "metadata": {},
   "source": [
    "# Lasso Regression From Scratch\n",
    "***\n",
    "## Table of Contents\n",
    "1. [Introduction](#1-introduction)\n",
    "    - [Advantages](#advantages)\n",
    "    - [Limitations](#limitations)\n",
    "1. [Loading Data](#2-loading-data)\n",
    "1. [Standardisation](#3-standardisation)\n",
    "1. [Linear Regression Model](#4-linear-regression-model)\n",
    "1. [Lasso Loss Function](#5-lasso-loss-function)\n",
    "1. [Gradient Descent](#6-gradient-descent)\n",
    "1. [Model Evaluation](#6-model-evaluation)\n",
    "    - [Mean Squared Error (MSE)](#mean-squared-error-mse)\n",
    "    - [Root Mean Squared Error (RMSE)](#root-mean-squared-error-rmse)\n",
    "    - [Mean Absolute Error (MAE)](#mean-absolute-error-mae)\n",
    "    - [R-Squared ($R^2$)](#r-squared)\n",
    "1. [Encapsulation](#8-encapsulation)\n",
    "1. [k-Fold Cross Validation](#9-k-fold-cross-validation)\n",
    "    - [Advantages](#advantages)\n",
    "    - [Steps](#steps)\n",
    "1. [Comparison with Scikit-Learn](#10-comparison-with-scikit-learn)\n",
    "1. [References](#11-references)\n",
    "***\n"
   ]
  },
  {
   "cell_type": "code",
   "execution_count": 1,
   "id": "665bc7c6",
   "metadata": {},
   "outputs": [],
   "source": [
    "import numpy as np\n",
    "import matplotlib.pyplot as plt\n",
    "import pandas as pd\n",
    "from typing import Tuple\n",
    "from numpy.typing import NDArray"
   ]
  },
  {
   "cell_type": "markdown",
   "id": "53ad7f06",
   "metadata": {},
   "source": [
    "## 1. Introduction\n",
    "\n",
    "This notebook is an extension of [Linear Regression from Scratch](https://github.com/tsu76i/DS-playground/blob/main/2.%20Building%20ML%20Models%20From%20Scratch/2.1%20Supervised%20Learning/2.1.1%20Regressions/linear_regression.ipynb).\n",
    "\n",
    "Lasso Regression (Least Absolute Shrinkage and Selection Operator) is a linear regression technique that incorporates **L1 regularisation**. It modifies the standard least square loss function by adding a penalty proportional to the sum of the absolute values of the coefficients.\n",
    "\n",
    "### Advantages\n",
    "- Lasso regression performs both regularisation and feature selection by shrinking some coefficients exactly to zero. This results in a sparse model that includes only the most relevant predictors, simplifying interpretation and reducing model complexity.\n",
    "- Lasso can handle multicollinearity by selecting one variable from a group of highly correlated predictors and shrinking the rest to zero, thus reducing redundancy in the model.\n",
    "- By penalising large coefficients, Lasso helps prevent overfitting especially in high-dimensional datasets.\n",
    "\n",
    "\n",
    "### Limitations\n",
    "- The regularisation strength $\\lambda$ must be chosen carefully, often via cross-validation. Poor choice of this parameter can lead to underfitting or insufficient regularisation.\n",
    "- The L1 penalty introduces bias by shrinking coefficients towards zero. As a result, the estimated coefficients may not reflect the true magnitude of the relationships, especially when the regularisation parameter is large.\n",
    "- Lasso regression is sensitive to the scale of the predictors. It is essential to standardise features before applying lasso regression to ensure fair penalisation."
   ]
  },
  {
   "cell_type": "markdown",
   "id": "2df947f9",
   "metadata": {},
   "source": [
    "## 2. Loading Data"
   ]
  },
  {
   "cell_type": "code",
   "execution_count": 2,
   "id": "a980866f",
   "metadata": {},
   "outputs": [],
   "source": [
    "linear_data = pd.read_csv(\"../../_datasets/linear_data.txt\", header=None)\n",
    "X = np.array(linear_data.iloc[:, 0])\n",
    "y = np.array(linear_data.iloc[:, 1])"
   ]
  },
  {
   "cell_type": "code",
   "execution_count": 3,
   "id": "17009ea5",
   "metadata": {},
   "outputs": [
    {
     "data": {
      "image/png": "[encoded data removed]",
      "text/plain": [
       "<Figure size 640x480 with 1 Axes>"
      ]
     },
     "metadata": {},
     "output_type": "display_data"
    }
   ],
   "source": [
    "plt.scatter(X, y)\n",
    "plt.xlabel('X')\n",
    "plt.ylabel('y')\n",
    "plt.show()"
   ]
  },
  {
   "cell_type": "markdown",
   "id": "80bd49dc",
   "metadata": {},
   "source": [
    "## 3. Standardisation\n",
    "Lasso regression penalises the absolute value of the coefficients (L1 norm). If the input features are on different scales, the regularisation penalty is applied unevenly, causing features with larger scales to dominate the regularisation term and reducing overall model performance. To address this issue, it is essential to standardise all features before applying lasso regression, as this ensures that all features contribute equally to the penalty. This process not only makes the regularisation fair but also improves numerical stability. The mathematical definition of standardisation for each feature $x_j$ is as follows:\n",
    "\n",
    "\\begin{align*}\n",
    "    x_j^{\\text{standardised}} = \\dfrac{x_j - \\mu_j}{\\sigma_j}\n",
    "\\end{align*}\n",
    "\n",
    "where:\n",
    "- $\\mu_j$: The mean of feature $j$.\n",
    "- $\\sigma_j$: The standard deviation of feature $j$."
   ]
  },
  {
   "cell_type": "code",
   "execution_count": 4,
   "id": "0cd9894a",
   "metadata": {},
   "outputs": [],
   "source": [
    "def standardise(X: NDArray[np.float64]) -> NDArray[np.float64]:\n",
    "    X_mean = np.mean(X)\n",
    "    X_std = np.std(X)\n",
    "    return (X - X_mean) / X_std"
   ]
  },
  {
   "cell_type": "code",
   "execution_count": 5,
   "id": "1a547221",
   "metadata": {},
   "outputs": [
    {
     "name": "stdout",
     "output_type": "stream",
     "text": [
      "Before standardisation: [6.1101 5.5277 8.5186 7.0032 5.8598]\n",
      "After standardisation: [-1.0449549  -1.15259751 -0.59980172 -0.87988689 -1.09121682]\n"
     ]
    }
   ],
   "source": [
    "print(f'Before standardisation: {X[:5]}')\n",
    "X = standardise(X)\n",
    "print(f'After standardisation: {X[:5]}')"
   ]
  },
  {
   "cell_type": "markdown",
   "id": "b5f4537d",
   "metadata": {},
   "source": [
    "## 4. Linear Regression Model\n",
    "\n",
    "A linear regression model provides numerical predictions as a straight line on a dataset, assuming a linear relationship between two numerical variables. The formula for a simple linear regression is:\n",
    "\n",
    "\\begin{align*}\n",
    "h = wx + b\n",
    "\\end{align*}\n",
    "\n",
    "Where:\n",
    "\n",
    "- $x$ is the independent variable.\n",
    "- $w$ is the slope (weight, coefficient of $x$).\n",
    "- $b$ is the intercept (bias, constant term)."
   ]
  },
  {
   "cell_type": "code",
   "execution_count": 6,
   "id": "719bd7e5",
   "metadata": {},
   "outputs": [],
   "source": [
    "# Linear function h\n",
    "def h(w: float, b: float, x: float) -> float:\n",
    "    return w * x + b"
   ]
  },
  {
   "cell_type": "markdown",
   "id": "4d3cb4ee",
   "metadata": {},
   "source": [
    "## 5. Lasso Loss Function\n",
    "Lasso regression introduces a L1 penalty to the standard mean squared error (MSE) loss function. The regularised loss function becomes:\n",
    "\n",
    "\\begin{align*}\n",
    "    \\mathcal{L}_{\\text{Lasso}}(w, b) = \\dfrac{1}{n} \\sum^{n}_{i=1}(y_i - (wx_i + b))^2 + \\lambda |w|\n",
    "\\end{align*}\n",
    "\n",
    "where:\n",
    "- $y_i$: True target value  for the $i$-th sample $x_i$.\n",
    "- $wx_i + b = \\hat y_i$: Predicted target value for the $i$-th sample $x_i$.\n",
    "- $w$: Vector of regression coefficients.\n",
    "- $\\lambda \\geq 0$: Regularisation parameter."
   ]
  },
  {
   "cell_type": "code",
   "execution_count": 7,
   "id": "81e777c8",
   "metadata": {},
   "outputs": [],
   "source": [
    "# Compute Lasso Loss function (MSE + L1 penalty)\n",
    "def calculate_loss_lasso(w: float, b: float, X: NDArray[np.float64], y: NDArray[np.float64], lambda_: float) -> float:\n",
    "    total_err: float = 0.0\n",
    "    for i in range(len(X)):\n",
    "        y_hat = h(w, b, X[i])\n",
    "        total_err += (y[i] - y_hat) ** 2\n",
    "    mse = total_err / len(X)\n",
    "    l1_penalty = lambda_ * np.abs(w)\n",
    "    return mse + l1_penalty"
   ]
  },
  {
   "cell_type": "markdown",
   "id": "32e673c1",
   "metadata": {},
   "source": [
    "## 6. Gradient Descent\n",
    "The gradients of the loss function with respect to $w$ and $b$ becomes:\n",
    "\n",
    "\\begin{align*}\n",
    "    \\frac{\\partial \\mathcal{L}_{\\text{Lasso}}}{\\partial w} = - \\frac{2}{n}\\sum^{n}_{i=1}(y_i - (wx_i+b))x_i +  \\lambda \\cdot \\operatorname{sign}(w)\n",
    "    \n",
    "\\end{align*}\n",
    "\n",
    "where $\\operatorname{sign}(w) = \n",
    "\\begin{cases}\n",
    "    1  & \\text{if } w > 0 \\\\\n",
    "    -1 & \\text{if } w < 0 \\\\\n",
    "    0  & \\text{if } w = 0\n",
    "\\end{cases}$\n",
    "\n",
    "\n",
    "\\begin{align*}\n",
    "    \\frac{\\partial \\mathcal{L}_{\\text{Lasso}}}{\\partial b} = - \\frac{2}{n}\\sum^{n}_{i=1}(y_i - (wx_i+b))\n",
    "\\end{align*}\n",
    "\n",
    "Note that the intercept $b$ is typically **not regularised**."
   ]
  },
  {
   "cell_type": "code",
   "execution_count": 8,
   "id": "c7113b57",
   "metadata": {},
   "outputs": [],
   "source": [
    "def derivative_lasso(X: NDArray[np.float64], y: NDArray[np.float64], y_pred: NDArray[np.float64], n: int, w: float, lambda_: float) -> Tuple[float, float]:\n",
    "    dL_dw: float = -2 * np.sum((y - y_pred) * X) / n + lambda_ * np.sign(w)\n",
    "    dL_db: float = -2 * np.sum(y - y_pred) / n\n",
    "    return dL_dw, dL_db\n",
    "\n",
    "\n",
    "# Batch Gradient Descent for Lasso Regression\n",
    "def gradient_descent_lasso(w: float, b: float, X: NDArray[np.float64], y: NDArray[np.float64],\n",
    "                           alpha: float, epochs: int, n: int, lambda_: float) -> Tuple[float, float, NDArray[np.float64]]:\n",
    "    loss_list: list[float] = []\n",
    "    for _ in range(epochs):\n",
    "        y_pred: NDArray[np.float64] = h(w, b, X)\n",
    "        loss_list.append(calculate_loss_lasso(w, b, X, y, lambda_))\n",
    "        dL_dw, dL_db = derivative_lasso(X, y, y_pred, n, w, lambda_)\n",
    "        w -= alpha * dL_dw\n",
    "        b -= alpha * dL_db\n",
    "    return w, b, np.array(loss_list)"
   ]
  },
  {
   "cell_type": "code",
   "execution_count": 9,
   "id": "e6c48c22",
   "metadata": {},
   "outputs": [
    {
     "name": "stdout",
     "output_type": "stream",
     "text": [
      "Coefficient (GD): 6.94728, Intercept (GD): 12.80548\n"
     ]
    }
   ],
   "source": [
    "# Example\n",
    "alpha = 0.001\n",
    "n = len(y)\n",
    "epochs = 10000\n",
    "lambda_ = 1.0  # Regularisation strength\n",
    "\n",
    "coeff_GD, intercept_GD, loss_array = gradient_descent_lasso(\n",
    "    0, 0, X, y, alpha, epochs, n, lambda_\n",
    ")\n",
    "print(f'Coefficient (GD): {coeff_GD:.5f}, Intercept (GD): {intercept_GD:.5f}')"
   ]
  },
  {
   "cell_type": "code",
   "execution_count": 10,
   "id": "97d3c838",
   "metadata": {},
   "outputs": [
    {
     "data": {
      "image/png": "[encoded data removed]",
      "text/plain": [
       "<Figure size 800x500 with 1 Axes>"
      ]
     },
     "metadata": {},
     "output_type": "display_data"
    }
   ],
   "source": [
    "plt.figure(figsize=(8, 5))\n",
    "plt.plot(loss_array[:1500], color='b')\n",
    "plt.xlabel('Epochs')\n",
    "plt.ylabel('Loss')\n",
    "plt.title('Loss Over Epochs (Up to 1500)')\n",
    "plt.grid(True)\n",
    "plt.show()"
   ]
  },
  {
   "cell_type": "markdown",
   "id": "ea9f0297",
   "metadata": {},
   "source": [
    "## 7. Model Evaluation\n",
    "\n",
    "\n",
    "### Mean Squared Error (MSE)\n",
    "Mean Squared Error measures the average squared difference between predicted ($\\hat y$) and actual ($y$) values. Large errors are penalised heavily. Smaller MSE indicates better predictions.\n",
    "\n",
    "\\begin{align*}\n",
    "MSE = \\dfrac{1}{n} \\sum_{i=1}^{n}(\\hat y_{i} = y_{i})^2\n",
    "\\end{align*}"
   ]
  },
  {
   "cell_type": "code",
   "execution_count": 11,
   "id": "4bd5e947",
   "metadata": {},
   "outputs": [],
   "source": [
    "def calculate_MSE(y_true: NDArray[np.float64], y_pred: NDArray[np.float64]) -> float:\n",
    "    return np.mean((y_true - y_pred) ** 2)"
   ]
  },
  {
   "cell_type": "markdown",
   "id": "f0316a93",
   "metadata": {},
   "source": [
    "### Root Mean Squared Error (RMSE)\n",
    "Square root of MSE. It provides error in the same unit as the target variable ($y$) and easier to interpret.\n",
    "\n",
    "\\begin{align*}\n",
    "RMSE = \\sqrt{(MSE)}\n",
    "\\end{align*}"
   ]
  },
  {
   "cell_type": "code",
   "execution_count": 12,
   "id": "2e43e806",
   "metadata": {},
   "outputs": [],
   "source": [
    "def calculate_RMSE(y_true: NDArray[np.float64], y_pred: NDArray[np.float64]) -> float:\n",
    "    return np.sqrt(np.mean((y_true - y_pred) ** 2))"
   ]
  },
  {
   "cell_type": "markdown",
   "id": "1fc24a72",
   "metadata": {},
   "source": [
    "### Mean Absolute Error (MAE)\n",
    "Mean Absolute Error measures the average absolute difference between predicted ($\\hat y$) and actual ($y$) values. It is less sensitive to outliers than MSE. Smaller MAE indicates better predictions.\n",
    "\n",
    "\\begin{align*}\n",
    "MAE = \\dfrac{1}{n} \\sum_{i=1}^{n}|\\hat y_{i} = y_{i}|\n",
    "\\end{align*}"
   ]
  },
  {
   "cell_type": "code",
   "execution_count": 13,
   "id": "e572e4af",
   "metadata": {},
   "outputs": [],
   "source": [
    "def calculate_MAE(y_true: NDArray[np.float64], y_pred: NDArray[np.float64]) -> float:\n",
    "    return np.mean(np.abs(y_true - y_pred))"
   ]
  },
  {
   "cell_type": "markdown",
   "id": "de7a66de",
   "metadata": {},
   "source": [
    "<a id=\"r-squared\"></a>\n",
    "### R-Squared($R^2$)\n",
    "\n",
    "R-squared indicated the proportion of variance in the dependent variable that is predictable from the independent variables. Value ranges from 0 to 1. Closer to 1 indicates a better fit.\n",
    "\n",
    "\n",
    "\n",
    "Residual Sum of Squares ($SS_{residual}$): \n",
    "\\begin{align*}\n",
    "SS_{residual} = \\sum_{i=1}^{n} (y_{i} - \\hat y_{i})^{2}\n",
    "\\end{align*}\n",
    "\n",
    "Total Sum of Squares ($SS_{total}$): \n",
    "\\begin{align*}\n",
    "SS_{total} = \\sum_{i=1}^{n} (y_{i} - \\bar y_{i})^{2}\n",
    "\\end{align*}\n",
    "\n",
    "$R^2$ is computed as:\n",
    "\n",
    "\\begin{align*}\n",
    "\n",
    "R^2 = 1 - \\dfrac{SS_{residual}}{SS_{total}} = 1 - \\dfrac{\\sum_{i=1}^{n} (y_{i} - \\hat y_{i})^{2}}{\\sum_{i=1}^{n} (y_{i} - \\bar y_{i})^{2}}\n",
    "\n",
    "\\end{align*}\n",
    "\n",
    "where:\n",
    "\n",
    "$y$: Actual target values.\n",
    "\n",
    "$\\bar y$: Mean of the actual target values.\n",
    "\n",
    "$\\hat y$: Precicted target values."
   ]
  },
  {
   "cell_type": "code",
   "execution_count": 14,
   "id": "3a1fbbb3",
   "metadata": {},
   "outputs": [],
   "source": [
    "def calculate_r2(y_true: NDArray[np.float64], y_pred: NDArray[np.float64]) -> float:\n",
    "    ss_total = np.sum((y_true - np.mean(y_true)) ** 2)\n",
    "    ss_residual = np.sum((y_true - y_pred) ** 2)\n",
    "    r2 = 1 - (ss_residual / ss_total)\n",
    "    return r2"
   ]
  },
  {
   "cell_type": "code",
   "execution_count": 15,
   "id": "294b7e50",
   "metadata": {},
   "outputs": [],
   "source": [
    "def evaluate(y_true: NDArray[np.float64], y_pred: NDArray[np.float64]) -> Tuple[float, float, float, float]:\n",
    "    \"\"\"\n",
    "    Calculate and return evaluation metrics for a regression model, including MSE, RMSE, MAE, and R-squared.\n",
    "\n",
    "    Args:\n",
    "        y_true : True target values.\n",
    "        y_pred: Predicted target values.\n",
    "\n",
    "    Returns:\n",
    "        - mse: Mean Squared Error (MSE), indicating the average of the squared differences between predicted and true values.\n",
    "        - rmse: Root Mean Squared Error (RMSE), indicating the standard deviation of the residuals.\n",
    "        - mae: Mean Absolute Error (MAE), representing the average absolute difference between predicted and true values.\n",
    "        - r2: R-squared (coefficient of determination), showing the proportion of variance in the dependent variable that is predictable from the independent variable(s).\n",
    "    \"\"\"\n",
    "    mse = calculate_MSE(y_true, y_pred)\n",
    "    rmse = calculate_RMSE(y_true, y_pred)\n",
    "    mae = calculate_MAE(y_true, y_pred)\n",
    "    r2 = calculate_r2(y_true, y_pred)\n",
    "    return mse, rmse, mae, r2"
   ]
  },
  {
   "cell_type": "markdown",
   "id": "228e9f47",
   "metadata": {},
   "source": [
    "## 8. Encapsulation"
   ]
  },
  {
   "cell_type": "code",
   "execution_count": 16,
   "id": "134f2d05",
   "metadata": {},
   "outputs": [],
   "source": [
    "class CustomLassoRegression:\n",
    "    \"\"\"\n",
    "    A simple implementation of Lasso Regression using gradient descent.\n",
    "    \"\"\"\n",
    "\n",
    "    def __init__(self, w: float = 0.0, b: float = 0.0,\n",
    "                 alpha: float = 0.001, epochs: int = 20000, lambda_: float = 1.0) -> None:\n",
    "        \"\"\"\n",
    "        Initialise the CustomLassoRegression instance with given hyperparameters.\n",
    "\n",
    "        Args:\n",
    "            w: Initial weight (default is 0.0).\n",
    "            b: Initial bias (default is 0.0).\n",
    "            alpha: Learning rate for gradient descent (default is 0.001).\n",
    "            epochs: Number of iterations for gradient descent (default is 20000).\n",
    "            lambda_: L1 Regularisation parameter (default is 1.0).\n",
    "        \"\"\"\n",
    "        self.w = w\n",
    "        self.b = b\n",
    "        self.alpha = alpha\n",
    "        self.epochs = epochs\n",
    "        self.lambda_ = lambda_\n",
    "        self.loss_history = []\n",
    "\n",
    "    def predict(self, X: float) -> float:\n",
    "        \"\"\"\n",
    "        Predict the output for a given input using the regression line.\n",
    "\n",
    "        Args:\n",
    "            X: Input feature value.\n",
    "\n",
    "        Returns:\n",
    "            Predicted value.\n",
    "        \"\"\"\n",
    "        return self.w * X + self.b\n",
    "\n",
    "    def calculate_loss_lasso(self, y: NDArray[np.float64], y_pred: NDArray[np.float64]) -> float:\n",
    "        \"\"\"\n",
    "        Calculate Lasso Loss function (MSE + L1 penalty).\n",
    "\n",
    "        Args:\n",
    "            y: True output values.\n",
    "            y_pred: Predicted output values.\n",
    "\n",
    "        Returns:\n",
    "            MSE + L1 penalty.\n",
    "        \"\"\"\n",
    "        mse = np.mean((y - y_pred) ** 2)\n",
    "        l1_penalty = self.lambda_ * np.abs(self.w)\n",
    "        return mse + l1_penalty\n",
    "\n",
    "    def gradient_descent(self, X: NDArray[np.float64], y: NDArray[np.float64]) -> None:\n",
    "        \"\"\"\n",
    "        Perform gradient descent to optimise the parameters w and b.\n",
    "\n",
    "        Args:\n",
    "            X: Input feature values.\n",
    "            y: True output values.\n",
    "        \"\"\"\n",
    "        n: int = len(y)\n",
    "        for _ in range(self.epochs):\n",
    "            y_pred = np.array([self.predict(x_i) for x_i in X])\n",
    "\n",
    "            loss = self.calculate_loss_lasso(y, y_pred)\n",
    "            self.loss_history.append(loss)\n",
    "\n",
    "            dL_dw = -(2 / n) * np.sum(X * (y - y_pred)) + \\\n",
    "                self.lambda_ * np.sign(self.w)\n",
    "            dL_db = -(2 / n) * np.sum(y - y_pred)\n",
    "\n",
    "            self.w -= self.alpha * dL_dw\n",
    "            self.b -= self.alpha * dL_db\n",
    "\n",
    "    def train(self, X: NDArray[np.float64], y: NDArray[np.float64]) -> None:\n",
    "        \"\"\"\n",
    "        Train the model using gradient descent.\n",
    "\n",
    "        Args:\n",
    "            X: Input feature values.\n",
    "            y: True output values.\n",
    "        \"\"\"\n",
    "        self.gradient_descent(X, y)\n",
    "        print(\n",
    "            f\"Training completed. Coefficient: {self.w:.5f}, Intercept: {self.b:.5f}\")"
   ]
  },
  {
   "cell_type": "markdown",
   "id": "ad586a92",
   "metadata": {},
   "source": [
    "## 9. k-Fold Cross Validation\n",
    "k-fold cross validation systematically splits the dataset into $k$ subsets (called *folds*) and evaluates the generalisation performance of machine learning models. It ensures that every data point is used for both training and validation exactly once. It provides a principled way to evaluate different regularisation parameter ($\\lambda$) values and select the one that minimises prediction error on data not used for training.\n",
    "\n",
    "### Advantages\n",
    "- **Reduces overfitting**: By validating on multiple subsets, it provides a more reliable estimate of model performance on unseen data.\n",
    "- **Efficient Data Utilisation**: Every observation is used for both training and validation, maximising the use of limited data.\n",
    "- **Stable Performance Estimate**: Averaging results over k folds reduces the variance and bias of the performance metric.\n",
    "\n",
    "### Steps\n",
    "1. Choose the number of folds (k)\n",
    "    - Typically $k = 5$ or $10$.\n",
    "2. Shuffle and split the data\n",
    "    - Randomly shuffle the dataset to ensure each fold is representative.\n",
    "    - Divide the data into k folds of (approximately) equal size.\n",
    "3. Iterative training and validation\n",
    "    - For each fold $i$ (where $i = 1,...,k$)\n",
    "        - Use the $i$-th fold as the validation (test) set.\n",
    "        - Use the remaining $k-1$ folds as the training set.\n",
    "        - Train the model on the training set.\n",
    "        - Evaluate the model on the validation set and record the performance.\n",
    "4. Arregate the results\n",
    "    - Calculate the mean of the recorded performance metrics as an overall estimate."
   ]
  },
  {
   "cell_type": "code",
   "execution_count": 17,
   "id": "ff3199b8",
   "metadata": {},
   "outputs": [],
   "source": [
    "def cross_validate_lasso(X: np.ndarray, y: np.ndarray, lambdas: list, k: int = 5,\n",
    "                         alpha: float = 0.001, epochs: int = 20000, random_state: int = 42) -> dict:\n",
    "    \"\"\"\n",
    "    Perform k-fold cross-validation for CustomLassoRegression over a grid of lambda values.\n",
    "\n",
    "    Args:\n",
    "        X: Feature array (1D or 2D).\n",
    "        y: Target array.\n",
    "        lambdas: List of lambda values to evaluate.\n",
    "        k: Number of folds (default 5).\n",
    "        alpha: Learning rate for gradient descent.\n",
    "        epochs: Number of training epochs.\n",
    "        random_state: Seed for reproducibility.\n",
    "\n",
    "    Returns:\n",
    "        Dictionary mapping lambda to average validation MSE.\n",
    "    \"\"\"\n",
    "    np.random.seed(random_state)\n",
    "    indices = np.arange(len(y))\n",
    "    np.random.shuffle(indices)\n",
    "    fold_sizes = np.full(k, len(y) // k, dtype=int)  # Split equally\n",
    "    fold_sizes[:len(y) % k] += 1  # Distibute remainder\n",
    "    current = 0\n",
    "    folds = []\n",
    "    for fold_size in fold_sizes:  # Split randomised indices into k folds\n",
    "        start, stop = current, current + fold_size\n",
    "        # folds contain k folds of randomised indices\n",
    "        folds.append(indices[start:stop])\n",
    "        current = stop\n",
    "\n",
    "    lambda_mse = {}\n",
    "    for lambda_ in lambdas:\n",
    "        mse_scores = []\n",
    "        for i in range(k):\n",
    "            val_idx = folds[i]  # i-th fold = validation\n",
    "            # All other folds = training\n",
    "            train_idx = np.hstack([folds[j] for j in range(k) if j != i])\n",
    "            X_train, y_train = X[train_idx], y[train_idx]\n",
    "            X_val, y_val = X[val_idx], y[val_idx]\n",
    "\n",
    "            model = CustomLassoRegression(\n",
    "                w=0, b=0, alpha=alpha, epochs=epochs, lambda_=lambda_)\n",
    "            model.train(X_train, y_train)\n",
    "            y_pred = model.predict(X_val)\n",
    "            mse = np.mean((y_val - y_pred) ** 2)\n",
    "            mse_scores.append(mse)\n",
    "        lambda_mse[lambda_] = float(np.mean(mse_scores).round(4))\n",
    "    return lambda_mse"
   ]
  },
  {
   "cell_type": "code",
   "execution_count": 18,
   "id": "7de84063",
   "metadata": {},
   "outputs": [
    {
     "name": "stdout",
     "output_type": "stream",
     "text": [
      "Training completed. Coefficient: 7.55311, Intercept: 12.81405\n",
      "Training completed. Coefficient: 7.28910, Intercept: 12.91037\n",
      "Training completed. Coefficient: 7.40478, Intercept: 12.77532\n",
      "Training completed. Coefficient: 7.58482, Intercept: 12.65091\n",
      "Training completed. Coefficient: 7.39543, Intercept: 12.88273\n",
      "Training completed. Coefficient: 7.54864, Intercept: 12.81408\n",
      "Training completed. Coefficient: 7.28456, Intercept: 12.91060\n",
      "Training completed. Coefficient: 7.40039, Intercept: 12.77521\n",
      "Training completed. Coefficient: 7.58032, Intercept: 12.65088\n",
      "Training completed. Coefficient: 7.39081, Intercept: 12.88261\n",
      "Training completed. Coefficient: 7.50390, Intercept: 12.81440\n",
      "Training completed. Coefficient: 7.23922, Intercept: 12.91288\n",
      "Training completed. Coefficient: 7.35643, Intercept: 12.77413\n",
      "Training completed. Coefficient: 7.53529, Intercept: 12.65063\n",
      "Training completed. Coefficient: 7.34464, Intercept: 12.88137\n",
      "Training completed. Coefficient: 7.05654, Intercept: 12.81761\n",
      "Training completed. Coefficient: 6.78581, Intercept: 12.93569\n",
      "Training completed. Coefficient: 6.91684, Intercept: 12.76327\n",
      "Training completed. Coefficient: 7.08499, Intercept: 12.64806\n",
      "Training completed. Coefficient: 6.88294, Intercept: 12.86897\n",
      "Training completed. Coefficient: 2.58296, Intercept: 12.84974\n",
      "Training completed. Coefficient: 2.25172, Intercept: 13.16380\n",
      "Training completed. Coefficient: 2.52092, Intercept: 12.65470\n",
      "Training completed. Coefficient: 2.58205, Intercept: 12.62236\n",
      "Training completed. Coefficient: 2.26589, Intercept: 12.74501\n",
      "Training completed. Coefficient: 0.04173, Intercept: 12.86817\n",
      "Training completed. Coefficient: -0.04273, Intercept: 13.27632\n",
      "Training completed. Coefficient: 0.09330, Intercept: 12.59281\n",
      "Training completed. Coefficient: -0.06669, Intercept: 12.60771\n",
      "Training completed. Coefficient: 0.03469, Intercept: 12.68460\n",
      "----------\n",
      "Best lambda: 0.001\n",
      "Cross-validated MSEs: {0.001: 11.1399, 0.01: 11.14, 0.1: 11.1437, 1: 11.4055, 10: 36.5567, 100: 66.8349}\n"
     ]
    }
   ],
   "source": [
    "# Example grid of lambda values\n",
    "lambdas = [0.001, 0.01, 0.1, 1, 10, 100]\n",
    "\n",
    "# Run cross-validation\n",
    "cv_results = cross_validate_lasso(\n",
    "    X, y, lambdas, k=5, alpha=0.001, epochs=10000, random_state=42)\n",
    "\n",
    "# Find the best lambda\n",
    "best_lambda = min(cv_results, key=cv_results.get)\n",
    "print('----------')\n",
    "print(f'Best lambda: {best_lambda}')\n",
    "print(f'Cross-validated MSEs: {cv_results}')"
   ]
  },
  {
   "cell_type": "markdown",
   "id": "15ba2886",
   "metadata": {},
   "source": [
    "By applying k-fold cross-validation, we found that the optimal value for the L1 regularisation parameter ($\\lambda$) is $0.001$ among the candidates $[0.001, 0.01, 0.1, 1, 10, 100]$. As $\\lambda$ increases, the penalty term becomes more dominant, progressively shrinking the coefficients and leading to underfitting. This result indicates that the best predictive performance is achieved with only a slight penalty on the magnitude of the coefficients. In other words, the model does not require substantial regularisation to generalise well to unseen data."
   ]
  },
  {
   "cell_type": "code",
   "execution_count": 19,
   "id": "250881cb",
   "metadata": {},
   "outputs": [
    {
     "name": "stdout",
     "output_type": "stream",
     "text": [
      "Training completed. Coefficient: 7.44678, Intercept: 12.80548\n",
      "MSE (Custom): 10.9521\n",
      "RMSE (Custom): 3.3094\n",
      "MAE (Custom): 2.7396\n",
      "R-Squared (Custom): 0.8351\n",
      "----------\n"
     ]
    }
   ],
   "source": [
    "model = CustomLassoRegression(\n",
    "    w=0, b=0, alpha=0.001, epochs=epochs, lambda_=best_lambda)\n",
    "model.train(X, y)\n",
    "\n",
    "y_pred = model.predict(X)\n",
    "mse_custom, rmse_custom, mae_custom, r2_custom = evaluate(y, y_pred)\n",
    "print(f'MSE (Custom): {mse_custom:.4f}')\n",
    "print(f'RMSE (Custom): {rmse_custom:.4f}')\n",
    "print(f'MAE (Custom): {mae_custom:.4f}')\n",
    "print(f'R-Squared (Custom): {r2_custom:.4f}')\n",
    "print('----------')"
   ]
  },
  {
   "cell_type": "markdown",
   "id": "977c813b",
   "metadata": {},
   "source": [
    "## 10. Comparison with Scikit-Learn"
   ]
  },
  {
   "cell_type": "code",
   "execution_count": 20,
   "id": "f195d222",
   "metadata": {},
   "outputs": [
    {
     "name": "stdout",
     "output_type": "stream",
     "text": [
      "Optimal lambda (alpha): 0.001\n",
      "MSE (sklearn): 10.9521\n",
      "MSE (Custom): 10.9521\n",
      "----------\n",
      "RMSE (sklearn): 3.3094\n",
      "RMSE (Custom): 3.3094\n",
      "----------\n",
      "MAE (sklearn): 2.7397\n",
      "MAE (Custom): 2.7396\n",
      "----------\n",
      "R-Squared (sklearn): 0.8351\n",
      "R-Squared (Custom): 0.8351\n"
     ]
    }
   ],
   "source": [
    "from sklearn.linear_model import LassoCV\n",
    "from sklearn.metrics import mean_squared_error, mean_absolute_error, r2_score\n",
    "X_sk = X.reshape(-1, 1)  # X expected to be 2D array\n",
    "lasso_cv = LassoCV(alphas=lambdas, cv=5, random_state=42)\n",
    "lasso_cv.fit(X_sk, y)\n",
    "\n",
    "print(\"Optimal lambda (alpha):\", lasso_cv.alpha_)\n",
    "\n",
    "y_pred_sk = lasso_cv.predict(X_sk)\n",
    "mse_sk = mean_squared_error(y, y_pred_sk)\n",
    "rmse_sk = np.sqrt(mse_sk)\n",
    "mae_sk = mean_absolute_error(y, y_pred_sk)\n",
    "r2_sk = r2_score(y, y_pred_sk)\n",
    "\n",
    "print(f'MSE (sklearn): {mse_sk:.4f}')\n",
    "print(f'MSE (Custom): {mse_custom:.4f}')\n",
    "print('----------')\n",
    "print(f'RMSE (sklearn): {rmse_sk:.4f}')\n",
    "print(f'RMSE (Custom): {rmse_custom:.4f}')\n",
    "print('----------')\n",
    "print(f'MAE (sklearn): {mae_sk:.4f}')\n",
    "print(f'MAE (Custom): {mae_custom:.4f}')\n",
    "print('----------')\n",
    "print(f'R-Squared (sklearn): {r2_sk:.4f}')\n",
    "print(f'R-Squared (Custom): {r2_custom:.4f}')"
   ]
  },
  {
   "cell_type": "markdown",
   "id": "d0bc48f5",
   "metadata": {},
   "source": [
    "## 11. References\n",
    "\n",
    "1. DataMListic. (2025). *L1 vs L2 Regularization* [YouTube Video]. <br>\n",
    "https://youtu.be/aBgMRXSqd04\n",
    "\n",
    "1. GeeksforGeeks. (2025). *What is Lasso Regression?* <br>\n",
    "https://www.geeksforgeeks.org/machine-learning/what-is-lasso-regression/\n",
    "\n",
    "1. GeeksforGeeks. (2025). *K- Fold Cross Validation in Machine Learning*. <br>\n",
    "https://www.geeksforgeeks.org/machine-learning/k-fold-cross-validation-in-machine-learning/\n",
    "\n",
    "1. Jason Brownlee. (2023). *A Gentle Introduction to k-fold Cross-Validation*. <br>\n",
    "https://machinelearningmastery.com/k-fold-cross-validation/\n",
    "\n",
    "1. Lance Johnson. (2025). *Benefits of lasso regression: Transforming predictive modeling in data science*. <br>\n",
    "https://www.byteplus.com/en/topic/401095?title=benefits-of-lasso-regression-transforming-predictive-modeling-in-data-science\n",
    "\n",
    "1. Nisha Arya. (2022). *Why Use k-fold Cross Validation?* <br>\n",
    "https://www.kdnuggets.com/2022/07/kfold-cross-validation.html\n",
    "\n",
    "1. IBM. (2024). *What is lasso regression?* <br>\n",
    "https://www.ibm.com/think/topics/lasso-regression\n",
    "\n",
    "1. StatQuest with Josh Starmer. (2018). *Regularization Part 2: Lasso (L1) Regression* [YouTube Video]. <br>\n",
    "https://youtu.be/NGf0voTMlcs\n",
    "\n",
    "1. scikit-learn. (n.d.). *LassoCV — scikit-learn API Reference.* <br>\n",
    "https://scikit-learn.org/stable/modules/generated/sklearn.linear_model.LassoCV.html"
   ]
  }
 ],
 "metadata": {
  "kernelspec": {
   "display_name": "DS_Projects",
   "language": "python",
   "name": "python3"
  },
  "language_info": {
   "codemirror_mode": {
    "name": "ipython",
    "version": 3
   },
   "file_extension": ".py",
   "mimetype": "text/x-python",
   "name": "python",
   "nbconvert_exporter": "python",
   "pygments_lexer": "ipython3",
   "version": "3.13.3"
  }
 },
 "nbformat": 4,
 "nbformat_minor": 5
}
