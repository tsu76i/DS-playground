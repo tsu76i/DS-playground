{
 "cells": [
  {
   "cell_type": "markdown",
   "id": "dd4836be",
   "metadata": {},
   "source": [
    "# Vanilla Neural Network from Scratch\n",
    "***\n",
    "## Table of Contents\n",
    "1. [Introduction](#1-introduction)\n",
    "***"
   ]
  },
  {
   "cell_type": "code",
   "execution_count": null,
   "id": "b3a39a85",
   "metadata": {},
   "outputs": [],
   "source": [
    "import numpy as np\n",
    "import pandas as pd\n",
    "from typing import Tuple, List, Dict\n",
    "from numpy.typing import NDArray\n",
    "from matplotlib import pyplot as plt\n",
    "from math import cos, sin, atan"
   ]
  },
  {
   "cell_type": "markdown",
   "id": "1e85bda8",
   "metadata": {},
   "source": [
    "## 1. Introduction\n",
    "A Vanila Neural Network(VNN), also known as a feedforward neural network, is the most basic form of artificial neural network and serves as athe foundation for more advanced architectures. It is called *vanilla* because it lacks the additional features or complexities found in specialised neural networks, such as Convolutional Neural Networks (CNN) or Recurrent Neural Networks (RNN). \n",
    "\n",
    "\n",
    "### Layers\n",
    "A vanilla neural network is composed of one input layer, one or more hidden layer(s) and one output layer.\n",
    "\n",
    "- **Input Layer**: Receives the data input.\n",
    "- **Hidden Layer(s)**: Layer(s) where data is processed through weighted connections. These layers allow the network to learn complex patterns.\n",
    "- **Output Layer**: Procudes the final output (e.g., a class label or a predicted value).\n",
    "\n",
    "### Neurons\n",
    "Each layer consists of units called **neurons**. Each neuron receives input, processes it, and passes the output to the next layer.\n",
    "\n",
    "### Weights and Biases\n",
    "- Weights ($W$) determine the strength of connections between neurons\n",
    "- Biases ($b$) allow the model to shift the activation function\n",
    "\n",
    "### Activation Functions\n",
    "Activation functions are non-linear functions that allow models to learn complex patterns.\n",
    "\n",
    "## 2. Loading Data\n",
    "The XOR dataset is a simple dataset based on the exclusive OR (XOR) logical operation. It involves two binary inputs (either 0 or 1) and one binary output. The output is $1$ if exactly one of the inputs is $1$, and $0$ otherwise. "
   ]
  }
 ],
 "metadata": {
  "kernelspec": {
   "display_name": "DS_Projects",
   "language": "python",
   "name": "python3"
  },
  "language_info": {
   "codemirror_mode": {
    "name": "ipython",
    "version": 3
   },
   "file_extension": ".py",
   "mimetype": "text/x-python",
   "name": "python",
   "nbconvert_exporter": "python",
   "pygments_lexer": "ipython3",
   "version": "3.13.3"
  }
 },
 "nbformat": 4,
 "nbformat_minor": 5
}
