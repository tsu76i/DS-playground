{
 "cells": [
  {
   "cell_type": "markdown",
   "id": "51d57552",
   "metadata": {},
   "source": [
    "# K-Nearest Neighbours Regressor from Scratch\n",
    "***\n",
    "## Table of Contents\n",
    "1. Loading Data\n",
    "2. Data Preprocessing\n",
    "3. Euclidean Distance\n",
    "4. Train Test Split\n",
    "6. KNN Regressor\n",
    "7. Evaluate KNN Regressor\n",
    "***"
   ]
  },
  {
   "cell_type": "code",
   "execution_count": 38,
   "id": "4882ec06",
   "metadata": {},
   "outputs": [],
   "source": [
    "import numpy as np\n",
    "import pandas as pd\n",
    "import matplotlib.pyplot as plt\n",
    "import seaborn as sns"
   ]
  },
  {
   "cell_type": "markdown",
   "id": "e5fcfe35",
   "metadata": {},
   "source": [
    "## 1. Loading Data\n",
    "Retrieved from [Kaggle - Diamonds](https://www.kaggle.com/datasets/shivam2503/diamonds)\n",
    "\n",
    "**price**: Price in US dollars ($326 - $18,823)\n",
    "\n",
    "**carat**: Weight of the diamond (0.2 - 5.01)\n",
    "\n",
    "**cut**: Quality of the cut (Fair, Good, Very Good, Premium, Ideal)\n",
    "\n",
    "**color**: Diamond colour, from J (worst) to D (best)\n",
    "\n",
    "**clarity**: Measurement of how clear the diamond is (I1 (worst), SI2, SI1, VS2, VS1, VVS2, VVS1, IF (best))\n",
    "\n",
    "**x**: Length in mm (0 - 10.74)\n",
    "\n",
    "**y**: Width in mm (0 - 58.9)\n",
    "\n",
    "**z**: Depth in mm (0 - 31.8)\n",
    "\n",
    "**depth**: Total depth percentage = z / mean(x, y) = 2 * z / (x + y) (43-79)\n",
    "\n",
    "**table**: Width of top of diamond relative to widest point (43--95)"
   ]
  },
  {
   "cell_type": "code",
   "execution_count": 39,
   "id": "e1345677",
   "metadata": {},
   "outputs": [
    {
     "data": {
      "application/vnd.microsoft.datawrangler.viewer.v0+json": {
       "columns": [
        {
         "name": "index",
         "rawType": "int64",
         "type": "integer"
        },
        {
         "name": "carat",
         "rawType": "float64",
         "type": "float"
        },
        {
         "name": "cut",
         "rawType": "object",
         "type": "string"
        },
        {
         "name": "color",
         "rawType": "object",
         "type": "string"
        },
        {
         "name": "clarity",
         "rawType": "object",
         "type": "string"
        },
        {
         "name": "depth",
         "rawType": "float64",
         "type": "float"
        },
        {
         "name": "table",
         "rawType": "float64",
         "type": "float"
        },
        {
         "name": "price",
         "rawType": "int64",
         "type": "integer"
        },
        {
         "name": "x",
         "rawType": "float64",
         "type": "float"
        },
        {
         "name": "y",
         "rawType": "float64",
         "type": "float"
        },
        {
         "name": "z",
         "rawType": "float64",
         "type": "float"
        }
       ],
       "ref": "8601f981-37e7-494e-acad-4b0fa380066b",
       "rows": [
        [
         "0",
         "0.23",
         "Ideal",
         "E",
         "SI2",
         "61.5",
         "55.0",
         "326",
         "3.95",
         "3.98",
         "2.43"
        ],
        [
         "1",
         "0.21",
         "Premium",
         "E",
         "SI1",
         "59.8",
         "61.0",
         "326",
         "3.89",
         "3.84",
         "2.31"
        ],
        [
         "2",
         "0.23",
         "Good",
         "E",
         "VS1",
         "56.9",
         "65.0",
         "327",
         "4.05",
         "4.07",
         "2.31"
        ],
        [
         "3",
         "0.29",
         "Premium",
         "I",
         "VS2",
         "62.4",
         "58.0",
         "334",
         "4.2",
         "4.23",
         "2.63"
        ],
        [
         "4",
         "0.31",
         "Good",
         "J",
         "SI2",
         "63.3",
         "58.0",
         "335",
         "4.34",
         "4.35",
         "2.75"
        ]
       ],
       "shape": {
        "columns": 10,
        "rows": 5
       }
      },
      "text/html": [
       "<div>\n",
       "<style scoped>\n",
       "    .dataframe tbody tr th:only-of-type {\n",
       "        vertical-align: middle;\n",
       "    }\n",
       "\n",
       "    .dataframe tbody tr th {\n",
       "        vertical-align: top;\n",
       "    }\n",
       "\n",
       "    .dataframe thead th {\n",
       "        text-align: right;\n",
       "    }\n",
       "</style>\n",
       "<table border=\"1\" class=\"dataframe\">\n",
       "  <thead>\n",
       "    <tr style=\"text-align: right;\">\n",
       "      <th></th>\n",
       "      <th>carat</th>\n",
       "      <th>cut</th>\n",
       "      <th>color</th>\n",
       "      <th>clarity</th>\n",
       "      <th>depth</th>\n",
       "      <th>table</th>\n",
       "      <th>price</th>\n",
       "      <th>x</th>\n",
       "      <th>y</th>\n",
       "      <th>z</th>\n",
       "    </tr>\n",
       "  </thead>\n",
       "  <tbody>\n",
       "    <tr>\n",
       "      <th>0</th>\n",
       "      <td>0.23</td>\n",
       "      <td>Ideal</td>\n",
       "      <td>E</td>\n",
       "      <td>SI2</td>\n",
       "      <td>61.5</td>\n",
       "      <td>55.0</td>\n",
       "      <td>326</td>\n",
       "      <td>3.95</td>\n",
       "      <td>3.98</td>\n",
       "      <td>2.43</td>\n",
       "    </tr>\n",
       "    <tr>\n",
       "      <th>1</th>\n",
       "      <td>0.21</td>\n",
       "      <td>Premium</td>\n",
       "      <td>E</td>\n",
       "      <td>SI1</td>\n",
       "      <td>59.8</td>\n",
       "      <td>61.0</td>\n",
       "      <td>326</td>\n",
       "      <td>3.89</td>\n",
       "      <td>3.84</td>\n",
       "      <td>2.31</td>\n",
       "    </tr>\n",
       "    <tr>\n",
       "      <th>2</th>\n",
       "      <td>0.23</td>\n",
       "      <td>Good</td>\n",
       "      <td>E</td>\n",
       "      <td>VS1</td>\n",
       "      <td>56.9</td>\n",
       "      <td>65.0</td>\n",
       "      <td>327</td>\n",
       "      <td>4.05</td>\n",
       "      <td>4.07</td>\n",
       "      <td>2.31</td>\n",
       "    </tr>\n",
       "    <tr>\n",
       "      <th>3</th>\n",
       "      <td>0.29</td>\n",
       "      <td>Premium</td>\n",
       "      <td>I</td>\n",
       "      <td>VS2</td>\n",
       "      <td>62.4</td>\n",
       "      <td>58.0</td>\n",
       "      <td>334</td>\n",
       "      <td>4.20</td>\n",
       "      <td>4.23</td>\n",
       "      <td>2.63</td>\n",
       "    </tr>\n",
       "    <tr>\n",
       "      <th>4</th>\n",
       "      <td>0.31</td>\n",
       "      <td>Good</td>\n",
       "      <td>J</td>\n",
       "      <td>SI2</td>\n",
       "      <td>63.3</td>\n",
       "      <td>58.0</td>\n",
       "      <td>335</td>\n",
       "      <td>4.34</td>\n",
       "      <td>4.35</td>\n",
       "      <td>2.75</td>\n",
       "    </tr>\n",
       "  </tbody>\n",
       "</table>\n",
       "</div>"
      ],
      "text/plain": [
       "   carat      cut color clarity  depth  table  price     x     y     z\n",
       "0   0.23    Ideal     E     SI2   61.5   55.0    326  3.95  3.98  2.43\n",
       "1   0.21  Premium     E     SI1   59.8   61.0    326  3.89  3.84  2.31\n",
       "2   0.23     Good     E     VS1   56.9   65.0    327  4.05  4.07  2.31\n",
       "3   0.29  Premium     I     VS2   62.4   58.0    334  4.20  4.23  2.63\n",
       "4   0.31     Good     J     SI2   63.3   58.0    335  4.34  4.35  2.75"
      ]
     },
     "execution_count": 39,
     "metadata": {},
     "output_type": "execute_result"
    }
   ],
   "source": [
    "df = pd.read_csv('diamonds.csv')\n",
    "df = df.drop('Unnamed: 0', axis = 1)\n",
    "df.head()"
   ]
  },
  {
   "cell_type": "code",
   "execution_count": 40,
   "id": "6adf9e03",
   "metadata": {},
   "outputs": [
    {
     "data": {
      "application/vnd.microsoft.datawrangler.viewer.v0+json": {
       "columns": [
        {
         "name": "index",
         "rawType": "object",
         "type": "string"
        },
        {
         "name": "0",
         "rawType": "int64",
         "type": "integer"
        }
       ],
       "ref": "1c2f9093-9b67-442a-bc58-870515d2e2ff",
       "rows": [
        [
         "carat",
         "0"
        ],
        [
         "cut",
         "0"
        ],
        [
         "color",
         "0"
        ],
        [
         "clarity",
         "0"
        ],
        [
         "depth",
         "0"
        ],
        [
         "table",
         "0"
        ],
        [
         "price",
         "0"
        ],
        [
         "x",
         "0"
        ],
        [
         "y",
         "0"
        ],
        [
         "z",
         "0"
        ]
       ],
       "shape": {
        "columns": 1,
        "rows": 10
       }
      },
      "text/plain": [
       "carat      0\n",
       "cut        0\n",
       "color      0\n",
       "clarity    0\n",
       "depth      0\n",
       "table      0\n",
       "price      0\n",
       "x          0\n",
       "y          0\n",
       "z          0\n",
       "dtype: int64"
      ]
     },
     "execution_count": 40,
     "metadata": {},
     "output_type": "execute_result"
    }
   ],
   "source": [
    "df.isnull().sum()"
   ]
  },
  {
   "cell_type": "markdown",
   "id": "43e27569",
   "metadata": {},
   "source": [
    "## 2. Data Preprocessing\n",
    "\n",
    "### 1. Deal with outliers\n",
    "- Boxplot to identify numerical outliers.\n",
    "- Winsorisation or capping to handle extreme values, if necessary."
   ]
  },
  {
   "cell_type": "code",
   "execution_count": 41,
   "id": "a5b507c8",
   "metadata": {},
   "outputs": [
    {
     "data": {
      "image/png": "[encoded data removed]",
      "text/plain": [
       "<Figure size 1500x1500 with 9 Axes>"
      ]
     },
     "metadata": {},
     "output_type": "display_data"
    }
   ],
   "source": [
    "def plot_boxplots(df: pd.DataFrame) -> None:\n",
    "    \"\"\"\n",
    "    Generate boxplots for each numerical column in the dataset to visualize outliers.\n",
    "    \n",
    "    Parameters:\n",
    "        df (pd.DataFrame): The input dataframe.\n",
    "    \"\"\"\n",
    "    numerical_columns = df.select_dtypes(include=['float64', 'int64']).columns\n",
    "    num_columns = len(numerical_columns)\n",
    "\n",
    "    # Create subplots for boxplots\n",
    "    fig, axes = plt.subplots(nrows=(num_columns + 2) // 3, ncols=3, figsize=(15, 5 * ((num_columns + 2) // 3)))\n",
    "    axes = axes.flatten()\n",
    "\n",
    "    for i, column in enumerate(numerical_columns):\n",
    "        sns.boxplot(data=df, y=column, ax=axes[i], color='skyblue')\n",
    "        axes[i].set_title(f'Boxplot for {column}')\n",
    "        axes[i].set_ylabel(column)\n",
    "        axes[i].set_xlabel('')\n",
    "\n",
    "    # Remove unused subplots if any\n",
    "    for j in range(i + 1, len(axes)):\n",
    "        axes[j].set_visible(False)\n",
    "    \n",
    "    plt.tight_layout()\n",
    "    plt.show()\n",
    "\n",
    "plot_boxplots(df)"
   ]
  },
  {
   "cell_type": "markdown",
   "id": "c5d924d9",
   "metadata": {},
   "source": [
    "$Q1 =$ 25th percentile\n",
    "\n",
    "$Q3 =$ 75th percentile\n",
    "\n",
    "$IQR =$ Interquartile Range (50% at the middle) $= Q3 - Q1$\n",
    "\n",
    "Lower bound $= Q1 - 1.5 \\times IQR$\n",
    "\n",
    "Upper bound $= Q3 + 1.5 \\times IQR$"
   ]
  },
  {
   "cell_type": "code",
   "execution_count": 42,
   "id": "9fda7bc7",
   "metadata": {},
   "outputs": [],
   "source": [
    "def remove_outliers_iqr(df: pd.DataFrame) -> pd.DataFrame:\n",
    "    \"\"\"\n",
    "    Remove outliers from all numerical columns in the dataframe using the IQR method.\n",
    "\n",
    "    Parameters:\n",
    "        df (pd.DataFrame): The input dataframe.\n",
    "\n",
    "    Returns:\n",
    "        pd.DataFrame: DataFrame with outliers removed from all numerical columns.\n",
    "    \"\"\"\n",
    "    numerical_columns = df.select_dtypes(include=['float64', 'int64']).columns\n",
    "    for column in numerical_columns:\n",
    "        Q1 = df[column].quantile(0.25)  # First quartile (25th percentile)\n",
    "        Q3 = df[column].quantile(0.75)  # Third quartile (75th percentile)\n",
    "        IQR = Q3 - Q1  # Interquartile range\n",
    "\n",
    "        lower_bound = Q1 - 1.5 * IQR  # Lower bound for outliers\n",
    "        upper_bound = Q3 + 1.5 * IQR  # Upper bound for outliers\n",
    "\n",
    "        # Filter out rows with outliers\n",
    "        df = df[(df[column] >= lower_bound) & (df[column] <= upper_bound)]\n",
    "    \n",
    "    return df\n",
    "\n",
    "# Call the function to remove outliers\n",
    "df = remove_outliers_iqr(df)"
   ]
  },
  {
   "cell_type": "markdown",
   "id": "c8d20001",
   "metadata": {},
   "source": [
    "### 2. Handle Categorical Features\n",
    "Encoding Categorical Features:\n",
    "- **cut**: Ordinal encoding (Fair < Good < Very Good < Premium < Ideal).\n",
    "- **color**: Ordinal encoding (J < I < H < G < F < E < D).\n",
    "- **clarity**: Ordinal encoding (I1 < SI2 < SI1 < VS2 < VS1 < VVS2 < VVS1 < IF)."
   ]
  },
  {
   "cell_type": "code",
   "execution_count": 43,
   "id": "3d7cf09b",
   "metadata": {},
   "outputs": [],
   "source": [
    "def ordinal_encode(data: list[str], levels: list[str]) -> np.ndarray:\n",
    "    \"\"\"\n",
    "    Perform ordinal encoding for a categorical feature.\n",
    "\n",
    "    Parameters:\n",
    "        data (list[str]): List of categorical values.\n",
    "        levels (list[str]): Ordered list of unique levels in the desired order.\n",
    "\n",
    "    Returns:\n",
    "        np.ndarray: Ordinally encoded array.\n",
    "    \"\"\"\n",
    "    level_map = {level: i for i, level in enumerate(levels)}\n",
    "    return np.array([level_map[val] for val in data])"
   ]
  },
  {
   "cell_type": "code",
   "execution_count": 44,
   "id": "f833f590",
   "metadata": {},
   "outputs": [
    {
     "data": {
      "application/vnd.microsoft.datawrangler.viewer.v0+json": {
       "columns": [
        {
         "name": "index",
         "rawType": "int64",
         "type": "integer"
        },
        {
         "name": "cut",
         "rawType": "int64",
         "type": "integer"
        },
        {
         "name": "color",
         "rawType": "int64",
         "type": "integer"
        },
        {
         "name": "clarity",
         "rawType": "int64",
         "type": "integer"
        }
       ],
       "ref": "414e70b2-dec7-4ca0-b4e1-83bed2e69c2f",
       "rows": [
        [
         "0",
         "4",
         "5",
         "1"
        ],
        [
         "1",
         "3",
         "5",
         "2"
        ],
        [
         "3",
         "3",
         "1",
         "3"
        ],
        [
         "4",
         "1",
         "0",
         "1"
        ],
        [
         "5",
         "2",
         "0",
         "5"
        ],
        [
         "6",
         "2",
         "1",
         "6"
        ],
        [
         "7",
         "2",
         "2",
         "2"
        ],
        [
         "9",
         "2",
         "2",
         "4"
        ],
        [
         "10",
         "1",
         "0",
         "2"
        ],
        [
         "11",
         "4",
         "0",
         "4"
        ]
       ],
       "shape": {
        "columns": 3,
        "rows": 10
       }
      },
      "text/html": [
       "<div>\n",
       "<style scoped>\n",
       "    .dataframe tbody tr th:only-of-type {\n",
       "        vertical-align: middle;\n",
       "    }\n",
       "\n",
       "    .dataframe tbody tr th {\n",
       "        vertical-align: top;\n",
       "    }\n",
       "\n",
       "    .dataframe thead th {\n",
       "        text-align: right;\n",
       "    }\n",
       "</style>\n",
       "<table border=\"1\" class=\"dataframe\">\n",
       "  <thead>\n",
       "    <tr style=\"text-align: right;\">\n",
       "      <th></th>\n",
       "      <th>cut</th>\n",
       "      <th>color</th>\n",
       "      <th>clarity</th>\n",
       "    </tr>\n",
       "  </thead>\n",
       "  <tbody>\n",
       "    <tr>\n",
       "      <th>0</th>\n",
       "      <td>4</td>\n",
       "      <td>5</td>\n",
       "      <td>1</td>\n",
       "    </tr>\n",
       "    <tr>\n",
       "      <th>1</th>\n",
       "      <td>3</td>\n",
       "      <td>5</td>\n",
       "      <td>2</td>\n",
       "    </tr>\n",
       "    <tr>\n",
       "      <th>3</th>\n",
       "      <td>3</td>\n",
       "      <td>1</td>\n",
       "      <td>3</td>\n",
       "    </tr>\n",
       "    <tr>\n",
       "      <th>4</th>\n",
       "      <td>1</td>\n",
       "      <td>0</td>\n",
       "      <td>1</td>\n",
       "    </tr>\n",
       "    <tr>\n",
       "      <th>5</th>\n",
       "      <td>2</td>\n",
       "      <td>0</td>\n",
       "      <td>5</td>\n",
       "    </tr>\n",
       "    <tr>\n",
       "      <th>6</th>\n",
       "      <td>2</td>\n",
       "      <td>1</td>\n",
       "      <td>6</td>\n",
       "    </tr>\n",
       "    <tr>\n",
       "      <th>7</th>\n",
       "      <td>2</td>\n",
       "      <td>2</td>\n",
       "      <td>2</td>\n",
       "    </tr>\n",
       "    <tr>\n",
       "      <th>9</th>\n",
       "      <td>2</td>\n",
       "      <td>2</td>\n",
       "      <td>4</td>\n",
       "    </tr>\n",
       "    <tr>\n",
       "      <th>10</th>\n",
       "      <td>1</td>\n",
       "      <td>0</td>\n",
       "      <td>2</td>\n",
       "    </tr>\n",
       "    <tr>\n",
       "      <th>11</th>\n",
       "      <td>4</td>\n",
       "      <td>0</td>\n",
       "      <td>4</td>\n",
       "    </tr>\n",
       "  </tbody>\n",
       "</table>\n",
       "</div>"
      ],
      "text/plain": [
       "    cut  color  clarity\n",
       "0     4      5        1\n",
       "1     3      5        2\n",
       "3     3      1        3\n",
       "4     1      0        1\n",
       "5     2      0        5\n",
       "6     2      1        6\n",
       "7     2      2        2\n",
       "9     2      2        4\n",
       "10    1      0        2\n",
       "11    4      0        4"
      ]
     },
     "execution_count": 44,
     "metadata": {},
     "output_type": "execute_result"
    }
   ],
   "source": [
    "# Define categorical and continuous features\n",
    "categorical_features = {\n",
    "    'cut': ['Fair', 'Good', 'Very Good', 'Premium', 'Ideal'],\n",
    "    'color': ['J', 'I', 'H', 'G', 'F', 'E', 'D'],\n",
    "    'clarity': ['I1', 'SI2', 'SI1', 'VS2', 'VS1', 'VVS2', 'VVS1', 'IF']\n",
    "}\n",
    "\n",
    "# Process categorical features\n",
    "for feature, levels in categorical_features.items():\n",
    "    df[feature] = ordinal_encode(df[feature], levels)\n",
    "df[['cut', 'color', 'clarity']].head(10)"
   ]
  },
  {
   "cell_type": "markdown",
   "id": "17167822",
   "metadata": {},
   "source": [
    "### 3. Handle Continuous Features\n",
    "Continuous features have varying ranges, and distance-based algorithms like KNN are sensitive to these differences.\n",
    "- **price** (326 – 18,823): Standardise. Large range with potential outliers.\n",
    "- **carat** (0.2 – 5.01): Standardise to handle outliers and maintain Gaussian-like distribution.\n",
    "- **x, y, z** (0 – 10.74, 0 – 58.9, 0 – 31.8): Standardise. Widely different ranges and potential outliers.\n",
    "- **depth** (43 – 79): Standardise as it’s a percentage, and differences might be subtle.\n",
    "- **table** (43 – 95): Standardise for consistency across the dataset.\n",
    "\n",
    "Standardisation centers data around the mean with unit variance, reducing the impact of outliers and differences in scale. This is suitable for KNN regression as it ensures fair weight across features in distance calculations. Standardisation transforms the data to have:\n",
    "\n",
    "1. Mean = 0, which will become a centre value.\n",
    "2. Standard Deviation = 1, making sure the spread of data is scaled.\n",
    "\n",
    "The formula is:\n",
    "\\begin{align*}\n",
    "z = \\dfrac{x - \\mu}{\\sigma}\n",
    "\\end{align*}\n",
    "\n",
    "where:\n",
    "\n",
    "$x$: Original data value.\n",
    "\n",
    "$\\mu$: Mean of the feature.\n",
    "\n",
    "$\\sigma$: Standard deviation of the feature."
   ]
  },
  {
   "cell_type": "code",
   "execution_count": 45,
   "id": "10600600",
   "metadata": {},
   "outputs": [],
   "source": [
    "def standardise(data: np.ndarray) -> np.ndarray:\n",
    "    \"\"\"\n",
    "    Standardise the dataset.\n",
    "\n",
    "    Parameters:\n",
    "        data (np.ndarray): A 2D NumPy array where each column is a feature.\n",
    "\n",
    "    Returns:\n",
    "        np.ndarray: Standardised dataset with mean 0 and variance 1.\n",
    "    \"\"\"\n",
    "    data_mean = np.mean(data, axis=0)\n",
    "    data_std = np.std(data, axis=0)\n",
    "    return (data - data_mean) / data_std"
   ]
  },
  {
   "cell_type": "code",
   "execution_count": 46,
   "id": "bcd382bc",
   "metadata": {},
   "outputs": [],
   "source": [
    "continuous_features = ['carat', 'x', 'y', 'z', 'depth', 'table']\n",
    "df[continuous_features] = standardise(df[continuous_features].values)"
   ]
  },
  {
   "cell_type": "markdown",
   "id": "078fc1a6",
   "metadata": {},
   "source": [
    "### 4. Normalise After Encoding & Scaling Features\n",
    "If the final dataset contains a mix of scaled and encoded features, normalise the final feature matrix to make sure all features fall within a similar range for better distance calculation. The equation for min-max normalisation is:\n",
    "\n",
    "\\begin{align*}\n",
    "x_{normalised} = \\dfrac{x - min(X)}{max(X) - min(X)}\n",
    "\\end{align*}"
   ]
  },
  {
   "cell_type": "code",
   "execution_count": 47,
   "id": "fad12fc4",
   "metadata": {},
   "outputs": [
    {
     "data": {
      "application/vnd.microsoft.datawrangler.viewer.v0+json": {
       "columns": [
        {
         "name": "index",
         "rawType": "int64",
         "type": "integer"
        },
        {
         "name": "carat",
         "rawType": "float64",
         "type": "float"
        },
        {
         "name": "x",
         "rawType": "float64",
         "type": "float"
        },
        {
         "name": "y",
         "rawType": "float64",
         "type": "float"
        },
        {
         "name": "z",
         "rawType": "float64",
         "type": "float"
        },
        {
         "name": "depth",
         "rawType": "float64",
         "type": "float"
        },
        {
         "name": "table",
         "rawType": "float64",
         "type": "float"
        }
       ],
       "ref": "7b66fef3-0187-4780-af9b-cf077257d4a9",
       "rows": [
        [
         "0",
         "0.016666666666666653",
         "0.04845814977973576",
         "0.06535947712418295",
         "0.2779291553133516",
         "0.4464285714285719",
         "0.2608695652173913"
        ],
        [
         "1",
         "0.005555555555555521",
         "0.035242290748898744",
         "0.034858387799564204",
         "0.24523160762942786",
         "0.14285714285714252",
         "0.782608695652174"
        ],
        [
         "3",
         "0.05",
         "0.10352422907488994",
         "0.11982570806100226",
         "0.33242506811989103",
         "0.6071428571428575",
         "0.5217391304347826"
        ],
        [
         "4",
         "0.06111111111111109",
         "0.13436123348017623",
         "0.1459694989106753",
         "0.3651226158038148",
         "0.7678571428571432",
         "0.5217391304347826"
        ],
        [
         "5",
         "0.022222222222222216",
         "0.04625550660792951",
         "0.06100217864923746",
         "0.2915531335149864",
         "0.6785714285714288",
         "0.43478260869565216"
        ],
        [
         "6",
         "0.022222222222222216",
         "0.04845814977973576",
         "0.06535947712418295",
         "0.28882833787465956",
         "0.5892857142857144",
         "0.43478260869565216"
        ],
        [
         "7",
         "0.03333333333333335",
         "0.07488986784140979",
         "0.093681917211329",
         "0.30517711171662126",
         "0.5178571428571431",
         "0.2608695652173913"
        ],
        [
         "9",
         "0.016666666666666653",
         "0.059471365638766524",
         "0.08061002178649233",
         "0.2670299727520437",
         "0.07142857142857122",
         "0.782608695652174"
        ],
        [
         "10",
         "0.05555555555555552",
         "0.11453744493392075",
         "0.13071895424836605",
         "0.35967302452316086",
         "0.8928571428571438",
         "0.2608695652173913"
        ],
        [
         "11",
         "0.016666666666666653",
         "0.044052863436123406",
         "0.04793028322440083",
         "0.2861035422343325",
         "0.6785714285714288",
         "0.3478260869565218"
        ],
        [
         "12",
         "0.011111111111111086",
         "0.0330396475770925",
         "0.034858387799564204",
         "0.25068119891008184",
         "0.25000000000000006",
         "0.782608695652174"
        ],
        [
         "13",
         "0.06111111111111109",
         "0.13656387665198233",
         "0.1503267973856209",
         "0.35422343324250694",
         "0.5714285714285726",
         "0.1739130434782609"
        ],
        [
         "14",
         "0.0",
         "0.013215859030837017",
         "0.01525054466230933",
         "0.23433242506811996",
         "0.21428571428571502",
         "0.8695652173913043"
        ],
        [
         "15",
         "0.06666666666666665",
         "0.14317180616740088",
         "0.1612200435729847",
         "0.346049046321526",
         "0.3392857142857144",
         "0.5217391304347826"
        ],
        [
         "16",
         "0.05555555555555552",
         "0.12775330396475768",
         "0.14379084967320258",
         "0.346049046321526",
         "0.5357142857142863",
         "0.1739130434782609"
        ],
        [
         "17",
         "0.05555555555555552",
         "0.11013215859030849",
         "0.13289760348583873",
         "0.3514986376021799",
         "0.7857142857142863",
         "0.1739130434782609"
        ],
        [
         "18",
         "0.05555555555555552",
         "0.11013215859030849",
         "0.1263616557734204",
         "0.35422343324250694",
         "0.8571428571428575",
         "0.3478260869565218"
        ],
        [
         "19",
         "0.05555555555555552",
         "0.10572687224669604",
         "0.1285403050108931",
         "0.340599455040872",
         "0.6607142857142869",
         "0.608695652173913"
        ],
        [
         "20",
         "0.05555555555555552",
         "0.11674008810572685",
         "0.1350762527233115",
         "0.35422343324250694",
         "0.7678571428571432",
         "0.3478260869565218"
        ],
        [
         "21",
         "0.016666666666666653",
         "0.026431718061674034",
         "0.05228758169934637",
         "0.2915531335149864",
         "0.8571428571428575",
         "0.2608695652173913"
        ],
        [
         "22",
         "0.016666666666666653",
         "0.04625550660792951",
         "0.06100217864923746",
         "0.2724795640326977",
         "0.35714285714285754",
         "0.43478260869565216"
        ],
        [
         "23",
         "0.06111111111111109",
         "0.14537444933920698",
         "0.16339869281045746",
         "0.3297002724795641",
         "0.07142857142857122",
         "0.8695652173913043"
        ],
        [
         "25",
         "0.016666666666666653",
         "0.05286343612334807",
         "0.07189542483660125",
         "0.2724795640326977",
         "0.25000000000000006",
         "0.5217391304347826"
        ],
        [
         "26",
         "0.022222222222222216",
         "0.05286343612334807",
         "0.056644880174291916",
         "0.28882833787465956",
         "0.6250000000000007",
         "0.43478260869565216"
        ],
        [
         "27",
         "0.05555555555555552",
         "0.1211453744493393",
         "0.1350762527233115",
         "0.343324250681199",
         "0.5714285714285726",
         "0.43478260869565216"
        ],
        [
         "28",
         "0.016666666666666653",
         "0.05066079295154186",
         "0.06318082788671026",
         "0.2697547683923706",
         "0.2678571428571432",
         "0.782608695652174"
        ],
        [
         "29",
         "0.016666666666666653",
         "0.05066079295154186",
         "0.06753812636165579",
         "0.2752043596730246",
         "0.3392857142857144",
         "0.43478260869565216"
        ],
        [
         "30",
         "0.016666666666666653",
         "0.059471365638766524",
         "0.07625272331154688",
         "0.2724795640326977",
         "0.17857142857142877",
         "0.43478260869565216"
        ],
        [
         "31",
         "0.016666666666666653",
         "0.06828193832599123",
         "0.08278867102396503",
         "0.2752043596730246",
         "0.14285714285714252",
         "0.43478260869565216"
        ],
        [
         "32",
         "0.016666666666666653",
         "0.05286343612334807",
         "0.07189542483660125",
         "0.2752043596730246",
         "0.30357142857142944",
         "0.608695652173913"
        ],
        [
         "33",
         "0.016666666666666653",
         "0.06167400881057268",
         "0.08278867102396503",
         "0.2697547683923706",
         "0.08928571428571443",
         "0.5217391304347826"
        ],
        [
         "34",
         "0.016666666666666653",
         "0.0418502202643172",
         "0.06100217864923746",
         "0.2806539509536785",
         "0.5178571428571431",
         "0.5217391304347826"
        ],
        [
         "36",
         "0.016666666666666653",
         "0.022026431718061727",
         "0.03703703703703704",
         "0.2861035422343325",
         "0.9107142857142857",
         "0.608695652173913"
        ],
        [
         "37",
         "0.06111111111111109",
         "0.1233480176211454",
         "0.1372549019607842",
         "0.3651226158038148",
         "0.8928571428571438",
         "0.1739130434782609"
        ],
        [
         "38",
         "0.03333333333333335",
         "0.08810572687224671",
         "0.10457516339869284",
         "0.30245231607629436",
         "0.3214285714285713",
         "0.608695652173913"
        ],
        [
         "39",
         "0.07222222222222222",
         "0.1674008810572688",
         "0.18082788671023958",
         "0.3732970027247956",
         "0.5",
         "0.2608695652173913"
        ],
        [
         "40",
         "0.07222222222222222",
         "0.1674008810572688",
         "0.17864923747276687",
         "0.3651226158038148",
         "0.3928571428571438",
         "0.3478260869565218"
        ],
        [
         "41",
         "0.07222222222222222",
         "0.1674008810572688",
         "0.18954248366013066",
         "0.3678474114441417",
         "0.37500000000000067",
         "0.3478260869565218"
        ],
        [
         "44",
         "0.06666666666666665",
         "0.13436123348017623",
         "0.1503267973856209",
         "0.3651226158038148",
         "0.7321428571428582",
         "0.3478260869565218"
        ],
        [
         "45",
         "0.05",
         "0.11233480176211459",
         "0.1263616557734204",
         "0.33787465940054495",
         "0.6071428571428575",
         "0.5217391304347826"
        ],
        [
         "46",
         "0.06666666666666665",
         "0.13656387665198233",
         "0.1612200435729847",
         "0.35422343324250694",
         "0.5",
         "0.2608695652173913"
        ],
        [
         "47",
         "0.06666666666666665",
         "0.13876651982378868",
         "0.15250544662309368",
         "0.3760217983651226",
         "0.8571428571428575",
         "0.3478260869565218"
        ],
        [
         "48",
         "0.027777777777777783",
         "0.059471365638766524",
         "0.07625272331154688",
         "0.3079019073569483",
         "0.7678571428571432",
         "0.6956521739130435"
        ],
        [
         "49",
         "0.05",
         "0.13215859030837007",
         "0.1503267973856209",
         "0.33514986376021805",
         "0.30357142857142944",
         "0.6956521739130435"
        ],
        [
         "50",
         "0.022222222222222216",
         "0.06387665198237878",
         "0.07625272331154688",
         "0.2833787465940056",
         "0.3392857142857144",
         "0.782608695652174"
        ],
        [
         "51",
         "0.016666666666666653",
         "0.044052863436123406",
         "0.05882352941176471",
         "0.2806539509536785",
         "0.5178571428571431",
         "0.1739130434782609"
        ],
        [
         "52",
         "0.06666666666666665",
         "0.15859030837004415",
         "0.17429193899782142",
         "0.35694822888283395",
         "0.3392857142857144",
         "0.2608695652173913"
        ],
        [
         "53",
         "0.011111111111111086",
         "0.044052863436123406",
         "0.04575163398692808",
         "0.2724795640326977",
         "0.464285714285715",
         "0.5217391304347826"
        ],
        [
         "54",
         "0.011111111111111086",
         "0.03964757709251105",
         "0.043572984749455285",
         "0.24523160762942786",
         "0.0535714285714281",
         "0.8695652173913043"
        ],
        [
         "55",
         "0.05555555555555552",
         "0.12555066079295152",
         "0.14161220043572983",
         "0.33242506811989103",
         "0.35714285714285754",
         "0.608695652173913"
        ]
       ],
       "shape": {
        "columns": 6,
        "rows": 46532
       }
      },
      "text/html": [
       "<div>\n",
       "<style scoped>\n",
       "    .dataframe tbody tr th:only-of-type {\n",
       "        vertical-align: middle;\n",
       "    }\n",
       "\n",
       "    .dataframe tbody tr th {\n",
       "        vertical-align: top;\n",
       "    }\n",
       "\n",
       "    .dataframe thead th {\n",
       "        text-align: right;\n",
       "    }\n",
       "</style>\n",
       "<table border=\"1\" class=\"dataframe\">\n",
       "  <thead>\n",
       "    <tr style=\"text-align: right;\">\n",
       "      <th></th>\n",
       "      <th>carat</th>\n",
       "      <th>x</th>\n",
       "      <th>y</th>\n",
       "      <th>z</th>\n",
       "      <th>depth</th>\n",
       "      <th>table</th>\n",
       "    </tr>\n",
       "  </thead>\n",
       "  <tbody>\n",
       "    <tr>\n",
       "      <th>0</th>\n",
       "      <td>0.016667</td>\n",
       "      <td>0.048458</td>\n",
       "      <td>0.065359</td>\n",
       "      <td>0.277929</td>\n",
       "      <td>0.446429</td>\n",
       "      <td>0.260870</td>\n",
       "    </tr>\n",
       "    <tr>\n",
       "      <th>1</th>\n",
       "      <td>0.005556</td>\n",
       "      <td>0.035242</td>\n",
       "      <td>0.034858</td>\n",
       "      <td>0.245232</td>\n",
       "      <td>0.142857</td>\n",
       "      <td>0.782609</td>\n",
       "    </tr>\n",
       "    <tr>\n",
       "      <th>3</th>\n",
       "      <td>0.050000</td>\n",
       "      <td>0.103524</td>\n",
       "      <td>0.119826</td>\n",
       "      <td>0.332425</td>\n",
       "      <td>0.607143</td>\n",
       "      <td>0.521739</td>\n",
       "    </tr>\n",
       "    <tr>\n",
       "      <th>4</th>\n",
       "      <td>0.061111</td>\n",
       "      <td>0.134361</td>\n",
       "      <td>0.145969</td>\n",
       "      <td>0.365123</td>\n",
       "      <td>0.767857</td>\n",
       "      <td>0.521739</td>\n",
       "    </tr>\n",
       "    <tr>\n",
       "      <th>5</th>\n",
       "      <td>0.022222</td>\n",
       "      <td>0.046256</td>\n",
       "      <td>0.061002</td>\n",
       "      <td>0.291553</td>\n",
       "      <td>0.678571</td>\n",
       "      <td>0.434783</td>\n",
       "    </tr>\n",
       "    <tr>\n",
       "      <th>...</th>\n",
       "      <td>...</td>\n",
       "      <td>...</td>\n",
       "      <td>...</td>\n",
       "      <td>...</td>\n",
       "      <td>...</td>\n",
       "      <td>...</td>\n",
       "    </tr>\n",
       "    <tr>\n",
       "      <th>53935</th>\n",
       "      <td>0.288889</td>\n",
       "      <td>0.444934</td>\n",
       "      <td>0.453159</td>\n",
       "      <td>0.569482</td>\n",
       "      <td>0.321429</td>\n",
       "      <td>0.434783</td>\n",
       "    </tr>\n",
       "    <tr>\n",
       "      <th>53936</th>\n",
       "      <td>0.288889</td>\n",
       "      <td>0.431718</td>\n",
       "      <td>0.450980</td>\n",
       "      <td>0.599455</td>\n",
       "      <td>0.732143</td>\n",
       "      <td>0.260870</td>\n",
       "    </tr>\n",
       "    <tr>\n",
       "      <th>53937</th>\n",
       "      <td>0.277778</td>\n",
       "      <td>0.425110</td>\n",
       "      <td>0.435730</td>\n",
       "      <td>0.585831</td>\n",
       "      <td>0.678571</td>\n",
       "      <td>0.695652</td>\n",
       "    </tr>\n",
       "    <tr>\n",
       "      <th>53938</th>\n",
       "      <td>0.366667</td>\n",
       "      <td>0.533040</td>\n",
       "      <td>0.531590</td>\n",
       "      <td>0.634877</td>\n",
       "      <td>0.357143</td>\n",
       "      <td>0.521739</td>\n",
       "    </tr>\n",
       "    <tr>\n",
       "      <th>53939</th>\n",
       "      <td>0.305556</td>\n",
       "      <td>0.462555</td>\n",
       "      <td>0.477124</td>\n",
       "      <td>0.607629</td>\n",
       "      <td>0.571429</td>\n",
       "      <td>0.260870</td>\n",
       "    </tr>\n",
       "  </tbody>\n",
       "</table>\n",
       "<p>46532 rows × 6 columns</p>\n",
       "</div>"
      ],
      "text/plain": [
       "          carat         x         y         z     depth     table\n",
       "0      0.016667  0.048458  0.065359  0.277929  0.446429  0.260870\n",
       "1      0.005556  0.035242  0.034858  0.245232  0.142857  0.782609\n",
       "3      0.050000  0.103524  0.119826  0.332425  0.607143  0.521739\n",
       "4      0.061111  0.134361  0.145969  0.365123  0.767857  0.521739\n",
       "5      0.022222  0.046256  0.061002  0.291553  0.678571  0.434783\n",
       "...         ...       ...       ...       ...       ...       ...\n",
       "53935  0.288889  0.444934  0.453159  0.569482  0.321429  0.434783\n",
       "53936  0.288889  0.431718  0.450980  0.599455  0.732143  0.260870\n",
       "53937  0.277778  0.425110  0.435730  0.585831  0.678571  0.695652\n",
       "53938  0.366667  0.533040  0.531590  0.634877  0.357143  0.521739\n",
       "53939  0.305556  0.462555  0.477124  0.607629  0.571429  0.260870\n",
       "\n",
       "[46532 rows x 6 columns]"
      ]
     },
     "execution_count": 47,
     "metadata": {},
     "output_type": "execute_result"
    }
   ],
   "source": [
    "def normalise(data: np.ndarray) -> np.ndarray:\n",
    "    \"\"\"\n",
    "    Normalise the dataset to range [0, 1].\n",
    "\n",
    "    Parameters:\n",
    "        data (np.ndarray): A 2D NumPy array where each column is a feature.\n",
    "\n",
    "    Returns:\n",
    "        np.ndarray: Normalised dataset.\n",
    "    \"\"\"\n",
    "    min_val = np.min(data, axis=0)\n",
    "    max_val = np.max(data, axis=0)\n",
    "    return (data - min_val) / (max_val - min_val)\n",
    "df[continuous_features] = normalise(df[continuous_features].values)\n",
    "df[continuous_features]"
   ]
  },
  {
   "cell_type": "markdown",
   "id": "f3fc2312",
   "metadata": {},
   "source": [
    "## 3. Euclidean Distance\n",
    "Euclidean distance is the most widely used distance metric in KNN algorithms, which measures the shortest distance between two points as a straight line in multi-dimensional space.\n",
    "\n",
    "\\begin{align*}\n",
    "\\sqrt{\\sum_{i=1}^{n} (a_i - b_i)^2}\n",
    "\\end{align*}"
   ]
  },
  {
   "cell_type": "code",
   "execution_count": 48,
   "id": "e8f04c47",
   "metadata": {},
   "outputs": [],
   "source": [
    "# Calculate Eucliean Distance\n",
    "def calculate_euclidean(a: float, b: float) -> float:\n",
    "    return np.sqrt(np.sum((a - b) ** 2))"
   ]
  },
  {
   "cell_type": "markdown",
   "id": "6718b9ff",
   "metadata": {},
   "source": [
    "## 4. Train Test Split\n",
    "Train test split is a fundamental model validation technique in machine learning. It divides a dataset into two separate portions: a **training set** used to train a model, and a **testing set** used to evaluate how well the model can perform on unseen data. \n",
    "\n",
    "The typical split ratio is 80% for training and 20% for testing, though this can vary (70/30 or 90/10 are also common). The key principle is that the test set must remain completely separated during model training process, and should never be used to make decisions about the model or tune parameters. \n",
    "\n",
    "The split is usually done randomly to ensure both sets are representative of the overall dataset, and many libraries (such as scikit-learn) provide build-in functions that handle this process automatically while maintaining proper randomisation."
   ]
  },
  {
   "cell_type": "code",
   "execution_count": 49,
   "id": "3aff23c4",
   "metadata": {},
   "outputs": [],
   "source": [
    "def train_test_split(X: np.array, y: np.array, test_size: float = 0.2,\n",
    "                     random_state: int = None) -> tuple[np.ndarray, np.ndarray, np.ndarray, np.ndarray]:\n",
    "    \"\"\"\n",
    "    Split arrays or matrices into random train and test subsets.\n",
    "\n",
    "    Parameters:\n",
    "        X (np.array): Input features, a 2D array with rows (samples) and columns (features).\n",
    "        y (np.array): Target values/labels, a 1D array with rows (samples).\n",
    "        test_size (float): Proportion of the dataset to include in the test split. Must be between 0.0 and 1.0. default = 0.2\n",
    "        random_state (int): Seed for the random number generator to ensure reproducible results. default = None\n",
    "\n",
    "    Returns:\n",
    "        tuple[np.ndarray, np.ndarray, np.ndarray, np.ndarray]:\n",
    "        A tuple containing:\n",
    "            - X_train (np.ndarray): Training set features.\n",
    "            - X_test (np.ndarray): Testing set features.\n",
    "            - y_train (np.ndarray): Training set target values.\n",
    "            - y_test (np.ndarray): Testing set target values.\n",
    "    \"\"\"\n",
    "    # Set a random seed if it exists\n",
    "    if random_state:\n",
    "        np.random.seed(random_state)\n",
    "\n",
    "    # Create a list of numbers from 0 to len(X)\n",
    "    indices = np.arange(len(X))\n",
    "\n",
    "    # Shuffle the indices\n",
    "    np.random.shuffle(indices)\n",
    "\n",
    "    # Define the size of our test data from len(X)\n",
    "    test_size = int(test_size * len(X))\n",
    "\n",
    "    # Generate indices for test and train data\n",
    "    test_indices: list[int] = indices[:test_size]\n",
    "    train_indices: list[int] = indices[test_size:]\n",
    "\n",
    "    # Return: X_train, X_test, y_train, y_test\n",
    "    return X[train_indices], X[test_indices], y[train_indices], y[test_indices]"
   ]
  },
  {
   "cell_type": "markdown",
   "id": "cf00f176",
   "metadata": {},
   "source": [
    "## 5. KNN Regressor"
   ]
  },
  {
   "cell_type": "code",
   "execution_count": 50,
   "id": "bd46716e",
   "metadata": {},
   "outputs": [],
   "source": [
    "class KNN_Regressor:\n",
    "    \"\"\"\n",
    "    A simple K-Nearest Neighbours (KNN) regressor.\n",
    "    \"\"\"\n",
    "\n",
    "    def __init__(self, k=3) -> None:\n",
    "        \"\"\"\n",
    "        Initialise the model with k, the number of neighbours.\n",
    "\n",
    "        Parameters: \n",
    "            k (int): The number of nearest neighbours to consider for classification. default = 3.\n",
    "        \"\"\"\n",
    "        self.k = k\n",
    "\n",
    "    def fit(self, X_train: np.array, y_train: np.array) -> None:\n",
    "        \"\"\"\n",
    "        Fit the training data.\n",
    "\n",
    "        Parameters:\n",
    "            X_train (np.array): Training features, a 2D array with rows (samples) and columns (features).\n",
    "            y_train (np.array): Training labels, a 1D array of labels corresponding to X_train.\n",
    "        \"\"\"\n",
    "        self.X_train = X_train\n",
    "        self.y_train = y_train\n",
    "\n",
    "    def calculate_distance(self, x1: float, x2: float) -> float:\n",
    "        \"\"\"\n",
    "        Calculate the Euclidean distance between two points.\n",
    "\n",
    "        Parameters:\n",
    "            x1 (float): First point.\n",
    "            x2 (float): Second point.\n",
    "\n",
    "        Returns:\n",
    "            float: The Euclidean distance between x1 and x2.\n",
    "        \"\"\"\n",
    "        return np.sqrt(np.sum((x1 - x2) ** 2))\n",
    "\n",
    "    def predict(self, X_test: np.array) -> np.array:\n",
    "        \"\"\"\n",
    "        Predict the labels for X_test.\n",
    "\n",
    "        Parameters:\n",
    "            X_test (np.array): Test features, a 2D array with rows (samples) and columns (features).\n",
    "\n",
    "        Returns:\n",
    "            np.array: Predicted target values for each test sample.\n",
    "        \"\"\"\n",
    "        return np.array([self._predict(x_test)[0] for x_test in X_test])\n",
    "\n",
    "    def _predict(self, x_test: np.array) -> tuple[list[float], np.array]:\n",
    "        \"\"\"\n",
    "        Predict the label for a single test sample and provide additional detals.\n",
    "\n",
    "        Parameters:\n",
    "            x_test (np.array): A single test sample,\n",
    "\n",
    "        Returns:\n",
    "            tuple: A tuple containing:\n",
    "            - float: The mean target value of the k nearest neighbours.\n",
    "            - np.array: Indices of the k nearest neighbours.\n",
    "        \"\"\"\n",
    "        distance_list: list[float] = [calculate_euclidean(\n",
    "            x_test, x_train) for x_train in self.X_train]\n",
    "\n",
    "        k_neighbours: np.array = np.argsort(distance_list)[:self.k]\n",
    "        k_neighbours_values: list[float] = [\n",
    "            self.y_train[i] for i in k_neighbours]\n",
    "        mean_values = np.mean(k_neighbours_values)\n",
    "        return mean_values, k_neighbours"
   ]
  },
  {
   "cell_type": "markdown",
   "id": "e3de3633",
   "metadata": {},
   "source": [
    "## 6. Evaluate KNN Regressor Model\n",
    "\n",
    "\n",
    "### 1. Mean Squared Error (MSE)\n",
    "Mean Squared Error measures the average squared difference between predicted ($\\hat y$) and actual ($y$) values. Large errors are penalised heavily. Smaller MSE indicates better predictions.\n",
    "\n",
    "\\begin{align*}\n",
    "MSE = \\dfrac{1}{n} \\sum_{i=1}^{n}(\\hat y_{i} = y_{i})^2\n",
    "\\end{align*}\n"
   ]
  },
  {
   "cell_type": "code",
   "execution_count": 51,
   "id": "5ae35e60",
   "metadata": {},
   "outputs": [],
   "source": [
    "def calculate_MSE(y_true: np.array, y_pred: np.array) -> float:\n",
    "    return np.mean(y_true - y_pred) ** 2"
   ]
  },
  {
   "cell_type": "markdown",
   "id": "df8994af",
   "metadata": {},
   "source": [
    "### 2. Root Mean Squared Error (RMSE)\n",
    "Square root of MSE. It provides error in the same unit as the target variable ($y$) and easier to interpret.\n",
    "\n",
    "\\begin{align*}\n",
    "RMSE = \\sqrt{(MSE)}\n",
    "\\end{align*}"
   ]
  },
  {
   "cell_type": "code",
   "execution_count": 52,
   "id": "a84a84e5",
   "metadata": {},
   "outputs": [],
   "source": [
    "def calculate_RMSE(y_true: np.array, y_pred: np.array) -> float:\n",
    "    return np.sqrt(np.mean(y_true - y_pred) ** 2)"
   ]
  },
  {
   "cell_type": "markdown",
   "id": "04cadcf5",
   "metadata": {},
   "source": [
    "### 4. Mean Absolute Error (MAE)\n",
    "Mean Absolute Error measures the average absolute difference between predicted ($\\hat y$) and actual ($y$) values. It is less sensitive to outliers than MSE. Smaller MAE indicates better predictions.\n",
    "\n",
    "\\begin{align*}\n",
    "MAE = \\dfrac{1}{n} \\sum_{i=1}^{n}|\\hat y_{i} = y_{i}|\n",
    "\\end{align*}"
   ]
  },
  {
   "cell_type": "code",
   "execution_count": 53,
   "id": "1077cb7f",
   "metadata": {},
   "outputs": [],
   "source": [
    "def calculate_MAE(y_true: np.array, y_pred: np.array) -> float:\n",
    "    return np.mean(np.abs(y_true - y_pred))"
   ]
  },
  {
   "cell_type": "markdown",
   "id": "828b184e",
   "metadata": {},
   "source": [
    "### 5. R-squared($R^2$)\n",
    "\n",
    "R-squared indicated the proportion of variance in the dependent variable that is predictable from the independent variables. Value ranges from 0 to 1. Closer to 1 indicates a better fit.\n",
    "\n",
    "\n",
    "\n",
    "Residual Sum of Squares ($SS_{residual}$): \n",
    "\\begin{align*}\n",
    "SS_{residual} = \\sum_{i=1}^{n} (y_{i} - \\hat y_{i})^{2}\n",
    "\\end{align*}\n",
    "\n",
    "Total Sum of Squares ($SS_{total}$): \n",
    "\\begin{align*}\n",
    "SS_{total} = \\sum_{i=1}^{n} (y_{i} - \\bar y_{i})^{2}\n",
    "\\end{align*}\n",
    "\n",
    "$R^2$ is computed as:\n",
    "\n",
    "\\begin{align*}\n",
    "\n",
    "R^2 = 1 - \\dfrac{SS_{residual}}{SS_{total}} = 1 - \\dfrac{\\sum_{i=1}^{n} (y_{i} - \\hat y_{i})^{2}}{\\sum_{i=1}^{n} (y_{i} - \\bar y_{i})^{2}}\n",
    "\n",
    "\\end{align*}\n",
    "\n",
    "where:\n",
    "\n",
    "$y$: Actual target values.\n",
    "\n",
    "$\\bar y$: Mean of the actual target values.\n",
    "\n",
    "$\\hat y$: Precicted target values."
   ]
  },
  {
   "cell_type": "code",
   "execution_count": 54,
   "id": "0704c7d6",
   "metadata": {},
   "outputs": [],
   "source": [
    "def calculate_r2(y_true: np.array, y_pred: np.array) -> float:\n",
    "    ss_total = np.sum((y_true - np.mean(y_true)) ** 2)\n",
    "    ss_residual = np.sum((y_true - y_pred) ** 2)\n",
    "    r2 = 1 - (ss_residual / ss_total)\n",
    "    return r2"
   ]
  },
  {
   "cell_type": "markdown",
   "id": "e1e912ed",
   "metadata": {},
   "source": [
    "Let's make predictions using the KNN regressor and evaluate the model's performance with different `k` values ranging from 1 to 10. Since we are working with a large dataset containing 46532 rows, which would require excessive computational time for processing, we will randomly sample 10000 rows to ensure efficient execution. This subset will then be split into training and testing datasets using an appropriate train-test split ratio."
   ]
  },
  {
   "cell_type": "code",
   "execution_count": 55,
   "id": "c73f7cf5",
   "metadata": {},
   "outputs": [
    {
     "name": "stdout",
     "output_type": "stream",
     "text": [
      "For k = 1, MSE: 3971.3943609999997\n",
      "For k = 1, RMSE: 63.019\n",
      "For k = 1, MAE: 446.279\n",
      "For k = 1, R2: 0.891562871063176\n",
      "-----------\n",
      "For k = 2, MSE: 5208.58107025\n",
      "For k = 2, RMSE: 72.1705\n",
      "For k = 2, MAE: 415.768\n",
      "For k = 2, R2: 0.9053852615476697\n",
      "-----------\n",
      "For k = 3, MSE: 5423.340544444444\n",
      "For k = 3, RMSE: 73.64333333333333\n",
      "For k = 3, MAE: 415.204\n",
      "For k = 3, R2: 0.9029401597905339\n",
      "-----------\n",
      "For k = 4, MSE: 7072.536677640625\n",
      "For k = 4, RMSE: 84.098375\n",
      "For k = 4, MAE: 429.918375\n",
      "For k = 4, R2: 0.8964325715565225\n",
      "-----------\n",
      "For k = 5, MSE: 8663.66300944\n",
      "For k = 5, RMSE: 93.0788\n",
      "For k = 5, MAE: 440.8778\n",
      "For k = 5, R2: 0.8890338292701186\n",
      "-----------\n",
      "For k = 6, MSE: 9984.872392111109\n",
      "For k = 6, RMSE: 99.92433333333332\n",
      "For k = 6, MAE: 450.16433333333333\n",
      "For k = 6, R2: 0.8825875371510433\n",
      "-----------\n",
      "For k = 7, MSE: 10361.029603591838\n",
      "For k = 7, RMSE: 101.78914285714286\n",
      "For k = 7, MAE: 460.81\n",
      "For k = 7, R2: 0.8792568939562558\n",
      "-----------\n",
      "For k = 8, MSE: 10371.8438850625\n",
      "For k = 8, RMSE: 101.84225\n",
      "For k = 8, MAE: 474.0815\n",
      "For k = 8, R2: 0.8723051276341851\n",
      "-----------\n",
      "For k = 9, MSE: 10879.660509262347\n",
      "For k = 9, RMSE: 104.30561111111112\n",
      "For k = 9, MAE: 492.8265\n",
      "For k = 9, R2: 0.8628993109479275\n",
      "-----------\n",
      "For k = 10, MSE: 11385.6902640625\n",
      "For k = 10, RMSE: 106.70375\n",
      "For k = 10, MAE: 512.59315\n",
      "For k = 10, R2: 0.8530850865827524\n",
      "-----------\n"
     ]
    }
   ],
   "source": [
    "MSE_list, RMSE_list, MAE_list, R2_list = [], [], [], []\n",
    "df = df.sample(n=10000, random_state=42)\n",
    "X = df.drop(columns=['price']).values\n",
    "y = df['price'].values\n",
    "\n",
    "# Split data\n",
    "X_train, X_test, y_train, y_test = train_test_split(X, y, test_size=0.2, random_state=42)\n",
    "\n",
    "# Train KNN regressor, make predictions and evaluate the model for different k values.\n",
    "for k in range(1, 11):\n",
    "    knn_reg = KNN_Regressor(k=k)\n",
    "    knn_reg.fit(X_train, y_train)\n",
    "    y_pred = knn_reg.predict(X_test)\n",
    "\n",
    "    mse = calculate_MSE(y_test, y_pred)\n",
    "    rmse = calculate_RMSE(y_test, y_pred)\n",
    "    mae = calculate_MAE(y_test, y_pred)\n",
    "    r2 = calculate_r2(y_test, y_pred)\n",
    "    print(f\"For k = {k}, MSE: {mse}\")\n",
    "    print(f\"For k = {k}, RMSE: {rmse}\")\n",
    "    print(f\"For k = {k}, MAE: {mae}\")\n",
    "    print(f\"For k = {k}, R2: {r2}\")\n",
    "    print(\"-----------\")\n",
    "    MSE_list.append(mse)\n",
    "    RMSE_list.append(rmse)\n",
    "    MAE_list.append(mae)\n",
    "    R2_list.append(r2)"
   ]
  },
  {
   "cell_type": "code",
   "execution_count": 56,
   "id": "dfbf6b69",
   "metadata": {},
   "outputs": [
    {
     "data": {
      "image/png": "[encoded data removed]",
      "text/plain": [
       "<Figure size 1200x800 with 4 Axes>"
      ]
     },
     "metadata": {},
     "output_type": "display_data"
    }
   ],
   "source": [
    "fig, axes = plt.subplots(ncols=2, nrows=2, figsize=(12, 8))\n",
    "\n",
    "# MSE\n",
    "axes[0][0].plot(MSE_list)\n",
    "axes[0][0].set_title('Mean Squared Error vs k')\n",
    "axes[0][0].set_xlabel('k')\n",
    "axes[0][0].set_ylabel('MSE')\n",
    "\n",
    "# RMSE\n",
    "axes[0][1].plot(RMSE_list)\n",
    "axes[0][1].set_title('Root Mean Squared Error vs k')\n",
    "axes[0][1].set_xlabel('k')\n",
    "axes[0][1].set_ylabel('RMSE')\n",
    "\n",
    "# MAE\n",
    "axes[1][0].plot(MAE_list)\n",
    "axes[1][0].set_title('Mean Absolute Error vs k')\n",
    "axes[1][0].set_xlabel('k')\n",
    "axes[1][0].set_ylabel('MAE')\n",
    "\n",
    "# R2\n",
    "axes[1][1].plot(R2_list)\n",
    "axes[1][1].set_title('R-Squared vs k')\n",
    "axes[1][1].set_xlabel('k')\n",
    "axes[1][1].set_ylabel('R2')\n",
    "plt.tight_layout()\n",
    "plt.show()\n"
   ]
  },
  {
   "cell_type": "markdown",
   "id": "31ae243d",
   "metadata": {},
   "source": [
    "After conducting evaluations across all `k` values, our analysis reveals that `k = 2` produces the most favourable results across multiple performance metrics. Specifically, this configuration produces the lowest Mean Absolute Error (MAE), relatively low Mean Squared Error (MSE) and Root Mean Squared Error (RMSE), and achieves the highest R-squared value amongst all tested hyperparameters. These metrics collectively indicate superior predictive accuracy and model fit.\n",
    "\n",
    "Based on these empirical findings, we can conclude that `k = 2` represents the optimal hyperparameter configuration for this particular dataset. This result suggests that the underlying data structure benefits from considering only the two nearest neighbors for regression predictions, likely indicating well-defined local patterns in the feature space that don't require larger neighborhood considerations.\n",
    "\n",
    "***\n",
    "1. Low k:\n",
    "\n",
    "The model captures individual neighbours' values, resulting in predictions that closely match the actual values. This leads to very low errors (MSE and RMSE).\n",
    "However, such models are prone to overfitting as they may also capture noise in the data.\n",
    "\n",
    "2. High k:\n",
    "\n",
    "The model averages the target values of more neighbours. While this smoothens the predictions and reduces overfitting, it also leads to underfitting, especially when the data has local variations.\n",
    "\n",
    "As k increases further, the model loses its ability to adapt to smaller-scale patterns, resulting in larger prediction errors and increasing MSE and RMSE.\n",
    "\n",
    "3. Extreme Case (k = n):\n",
    "\n",
    "If k equals the total number of data points, the prediction will be the same for all test points (the average target value of the dataset). This causes maximum underfitting and leads to higher errors."
   ]
  }
 ],
 "metadata": {
  "kernelspec": {
   "display_name": "venv",
   "language": "python",
   "name": "python3"
  },
  "language_info": {
   "codemirror_mode": {
    "name": "ipython",
    "version": 3
   },
   "file_extension": ".py",
   "mimetype": "text/x-python",
   "name": "python",
   "nbconvert_exporter": "python",
   "pygments_lexer": "ipython3",
   "version": "3.11.0"
  }
 },
 "nbformat": 4,
 "nbformat_minor": 5
}
