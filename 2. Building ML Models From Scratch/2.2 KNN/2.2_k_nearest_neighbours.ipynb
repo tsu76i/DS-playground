{
 "cells": [
  {
   "cell_type": "markdown",
   "id": "1fe5b85f",
   "metadata": {},
   "source": [
    "# K-Nearest Neighbours from Scratch"
   ]
  },
  {
   "cell_type": "code",
   "execution_count": 288,
   "id": "2d28f4cd",
   "metadata": {},
   "outputs": [],
   "source": [
    "import numpy as np\n",
    "import pandas as pd\n",
    "import matplotlib.pyplot as plt"
   ]
  },
  {
   "cell_type": "markdown",
   "id": "e8e3c7e7",
   "metadata": {},
   "source": [
    "## 1. Loading Data\n",
    "Retrieved from [Kaggle - Iris Flower Dataset](https://www.kaggle.com/datasets/sims22/irisflowerdatasets)"
   ]
  },
  {
   "cell_type": "code",
   "execution_count": 289,
   "id": "8712d635",
   "metadata": {},
   "outputs": [
    {
     "data": {
      "text/html": [
       "<div>\n",
       "<style scoped>\n",
       "    .dataframe tbody tr th:only-of-type {\n",
       "        vertical-align: middle;\n",
       "    }\n",
       "\n",
       "    .dataframe tbody tr th {\n",
       "        vertical-align: top;\n",
       "    }\n",
       "\n",
       "    .dataframe thead th {\n",
       "        text-align: right;\n",
       "    }\n",
       "</style>\n",
       "<table border=\"1\" class=\"dataframe\">\n",
       "  <thead>\n",
       "    <tr style=\"text-align: right;\">\n",
       "      <th></th>\n",
       "      <th>sepal_length</th>\n",
       "      <th>sepal_width</th>\n",
       "      <th>petal_length</th>\n",
       "      <th>petal_width</th>\n",
       "      <th>species</th>\n",
       "    </tr>\n",
       "  </thead>\n",
       "  <tbody>\n",
       "    <tr>\n",
       "      <th>0</th>\n",
       "      <td>5.1</td>\n",
       "      <td>3.5</td>\n",
       "      <td>1.4</td>\n",
       "      <td>0.2</td>\n",
       "      <td>Iris-setosa</td>\n",
       "    </tr>\n",
       "    <tr>\n",
       "      <th>1</th>\n",
       "      <td>4.9</td>\n",
       "      <td>3.0</td>\n",
       "      <td>1.4</td>\n",
       "      <td>0.2</td>\n",
       "      <td>Iris-setosa</td>\n",
       "    </tr>\n",
       "    <tr>\n",
       "      <th>2</th>\n",
       "      <td>4.7</td>\n",
       "      <td>3.2</td>\n",
       "      <td>1.3</td>\n",
       "      <td>0.2</td>\n",
       "      <td>Iris-setosa</td>\n",
       "    </tr>\n",
       "    <tr>\n",
       "      <th>3</th>\n",
       "      <td>4.6</td>\n",
       "      <td>3.1</td>\n",
       "      <td>1.5</td>\n",
       "      <td>0.2</td>\n",
       "      <td>Iris-setosa</td>\n",
       "    </tr>\n",
       "    <tr>\n",
       "      <th>4</th>\n",
       "      <td>5.0</td>\n",
       "      <td>3.6</td>\n",
       "      <td>1.4</td>\n",
       "      <td>0.2</td>\n",
       "      <td>Iris-setosa</td>\n",
       "    </tr>\n",
       "    <tr>\n",
       "      <th>5</th>\n",
       "      <td>5.4</td>\n",
       "      <td>3.9</td>\n",
       "      <td>1.7</td>\n",
       "      <td>0.4</td>\n",
       "      <td>Iris-setosa</td>\n",
       "    </tr>\n",
       "    <tr>\n",
       "      <th>6</th>\n",
       "      <td>4.6</td>\n",
       "      <td>3.4</td>\n",
       "      <td>1.4</td>\n",
       "      <td>0.3</td>\n",
       "      <td>Iris-setosa</td>\n",
       "    </tr>\n",
       "    <tr>\n",
       "      <th>7</th>\n",
       "      <td>5.0</td>\n",
       "      <td>3.4</td>\n",
       "      <td>1.5</td>\n",
       "      <td>0.2</td>\n",
       "      <td>Iris-setosa</td>\n",
       "    </tr>\n",
       "    <tr>\n",
       "      <th>8</th>\n",
       "      <td>4.4</td>\n",
       "      <td>2.9</td>\n",
       "      <td>1.4</td>\n",
       "      <td>0.2</td>\n",
       "      <td>Iris-setosa</td>\n",
       "    </tr>\n",
       "    <tr>\n",
       "      <th>9</th>\n",
       "      <td>4.9</td>\n",
       "      <td>3.1</td>\n",
       "      <td>1.5</td>\n",
       "      <td>0.1</td>\n",
       "      <td>Iris-setosa</td>\n",
       "    </tr>\n",
       "  </tbody>\n",
       "</table>\n",
       "</div>"
      ],
      "text/plain": [
       "   sepal_length  sepal_width  petal_length  petal_width      species\n",
       "0           5.1          3.5           1.4          0.2  Iris-setosa\n",
       "1           4.9          3.0           1.4          0.2  Iris-setosa\n",
       "2           4.7          3.2           1.3          0.2  Iris-setosa\n",
       "3           4.6          3.1           1.5          0.2  Iris-setosa\n",
       "4           5.0          3.6           1.4          0.2  Iris-setosa\n",
       "5           5.4          3.9           1.7          0.4  Iris-setosa\n",
       "6           4.6          3.4           1.4          0.3  Iris-setosa\n",
       "7           5.0          3.4           1.5          0.2  Iris-setosa\n",
       "8           4.4          2.9           1.4          0.2  Iris-setosa\n",
       "9           4.9          3.1           1.5          0.1  Iris-setosa"
      ]
     },
     "execution_count": 289,
     "metadata": {},
     "output_type": "execute_result"
    }
   ],
   "source": [
    "df = pd.read_csv('iris.csv')\n",
    "df.head(10)"
   ]
  },
  {
   "cell_type": "markdown",
   "id": "2c11ff36",
   "metadata": {},
   "source": [
    "### Euclidean Distance\n",
    "\n",
    "\\begin{align*}\n",
    "\\sqrt{\\sum_{i=1}^{n} (q_i - p_i)^2}\n",
    "\\end{align*}\n",
    "\n",
    "\n",
    "### Manhattan Distance\n",
    "\n",
    "\\begin{align*}\n",
    "\\sum_{i=1}^{n} \\sqrt{|q_i - p_i|}\n",
    "\\end{align*}\n",
    "\n",
    "\n",
    "### Minkowski Distance\n",
    "\n",
    "\\begin{align*}\n",
    "(\\sum_{i=1}^{n} |q_i - p_i|^p)^{\\frac{1}{p}}\n",
    "\\end{align*}\n"
   ]
  },
  {
   "cell_type": "code",
   "execution_count": 290,
   "id": "b408de7c",
   "metadata": {},
   "outputs": [],
   "source": [
    "# Calculate Eucliean Distance\n",
    "def calculate_distance(x1, x2):\n",
    "        return np.sqrt(np.sum((x1 - x2) ** 2))"
   ]
  },
  {
   "cell_type": "code",
   "execution_count": 291,
   "id": "9cd463ea",
   "metadata": {},
   "outputs": [],
   "source": [
    "def train_test_split(X, y, test_size=0.2, random_seed=None):\n",
    "    # Set a random seed if it exists\n",
    "    if random_seed:\n",
    "        np.random.seed(random_seed)\n",
    "\n",
    "    # Create a list of numbers from 0 to len(X)\n",
    "    indices = np.arange(len(X))\n",
    "\n",
    "    # Shuffle the indices\n",
    "    np.random.shuffle(indices)\n",
    "\n",
    "    # Define the size of our test data from len(X)\n",
    "    test_size = int(test_size * len(X))\n",
    "\n",
    "    # Generate indices for test and train data\n",
    "    test_indices = indices[:test_size]\n",
    "    train_indices = indices[test_size:]\n",
    "\n",
    "    # Return: X_train, X_test, y_train, y_test\n",
    "    return X[train_indices], X[test_indices], y[train_indices], y[test_indices]"
   ]
  },
  {
   "cell_type": "code",
   "execution_count": 295,
   "id": "4939a1b2",
   "metadata": {},
   "outputs": [],
   "source": [
    "def calculate_accuracy(y_true, y_pred, n_samples):\n",
    "    correct_predictions = np.sum(y_true == y_pred)\n",
    "    return (correct_predictions / n_samples) * 100"
   ]
  },
  {
   "cell_type": "code",
   "execution_count": 296,
   "id": "7c6570de",
   "metadata": {},
   "outputs": [
    {
     "name": "stdout",
     "output_type": "stream",
     "text": [
      "Accuracy for k = 7: 96.67 %\n"
     ]
    }
   ],
   "source": [
    "def knn_classifier(X_train, y_train, X_test, k):\n",
    "    prediction_list = []\n",
    "\n",
    "    # For each point in X_test, calculate the distance to all the points in X_train.\n",
    "    for x_test in X_test:\n",
    "        distance_list = []\n",
    "        for x_train in X_train:\n",
    "            # Add the calculated distance to distance_list.\n",
    "            distance_list.append(calculate_distance(\n",
    "                x_test, x_train))\n",
    "\n",
    "        # Select k neighbours based on the distance in descending order.\n",
    "        k_neighbours = np.argsort(distance_list)[:k]\n",
    "\n",
    "        # Majority vote amongst k neighbours to determine a label of each point.\n",
    "        k_neighbour_labels = [y_train[i] for i in k_neighbours]\n",
    "        most_common = max(k_neighbour_labels, key=k_neighbour_labels.count)\n",
    "\n",
    "        # Add the most common label to prediction_list as a prediction.\n",
    "        prediction_list.append(most_common)\n",
    "    return prediction_list\n",
    "\n",
    "\n",
    "X = df.iloc[:, :-1].values  # Set our training data\n",
    "y = df.iloc[:, -1].values  # Set training labels\n",
    "k = 7\n",
    "X_train, X_test, y_train, y_test = train_test_split(\n",
    "    X, y, test_size=0.2, random_seed=42)\n",
    "n_samples_test = len(y_test)\n",
    "predictions = knn_classifier(\n",
    "    X_train, y_train, X_test, k)\n",
    "accuracy = calculate_accuracy(y_test, predictions, n_samples_test)\n",
    "print(f\"Accuracy for k = {k}: {accuracy:.2f} %\")"
   ]
  },
  {
   "cell_type": "code",
   "execution_count": 294,
   "id": "9e2e458a",
   "metadata": {},
   "outputs": [
    {
     "name": "stdout",
     "output_type": "stream",
     "text": [
      "Accuracy for k = 7: 96.67 %\n"
     ]
    }
   ],
   "source": [
    "class KNN_Classifier:\n",
    "    def __init__(self, k=3):\n",
    "        self.k = k\n",
    "\n",
    "    def fit(self, X_train, y_train):\n",
    "        self.X_train = X_train\n",
    "        self.y_train = y_train\n",
    "    \n",
    "    def calculate_distance(self, x1, x2):\n",
    "        return np.sqrt(np.sum((x1 - x2) ** 2))\n",
    "    \n",
    "    def predict(self, X_test):\n",
    "        return np.array([self.calculate_pred(x_test) for x_test in X_test])\n",
    "\n",
    "    def calculate_pred(self, x_test):\n",
    "        distance_list = [calculate_distance(x_test, x_train) for x_train in self.X_train]\n",
    "\n",
    "        k_neighbours = np.argsort(distance_list)[:self.k]\n",
    "        \n",
    "        k_neighbours_labels = [self.y_train[i] for i in k_neighbours]\n",
    "        most_common = max(k_neighbours_labels, key=k_neighbours_labels.count)\n",
    "        return most_common\n",
    "        \n",
    "    \n",
    "X = df.iloc[:, :-1].values  # Set our training data\n",
    "y = df.iloc[:, -1].values  # Set training labels\n",
    "k = 7\n",
    "X_train, X_test, y_train, y_test = train_test_split(\n",
    "    X, y, test_size=0.2, random_seed=42)\n",
    "n_samples_test = len(y_test)\n",
    "\n",
    "knn_classifier = KNN_Classifier(k=k)\n",
    "knn_classifier.fit(X_train, y_train)\n",
    "predictions = knn_classifier.predict(X_test)\n",
    "\n",
    "accuracy = calculate_accuracy(y_test, predictions, n_samples_test)\n",
    "print(f\"Accuracy for k = {k}: {accuracy:.2f} %\")"
   ]
  },
  {
   "cell_type": "code",
   "execution_count": null,
   "id": "5dedfb77",
   "metadata": {},
   "outputs": [],
   "source": []
  }
 ],
 "metadata": {
  "kernelspec": {
   "display_name": "venv",
   "language": "python",
   "name": "python3"
  },
  "language_info": {
   "codemirror_mode": {
    "name": "ipython",
    "version": 3
   },
   "file_extension": ".py",
   "mimetype": "text/x-python",
   "name": "python",
   "nbconvert_exporter": "python",
   "pygments_lexer": "ipython3",
   "version": "3.11.0"
  }
 },
 "nbformat": 4,
 "nbformat_minor": 5
}
