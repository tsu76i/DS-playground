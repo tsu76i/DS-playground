{
 "cells": [
  {
   "cell_type": "markdown",
   "id": "51d57552",
   "metadata": {},
   "source": [
    "# K-Nearest Neighbours Regressor from Scratch\n",
    "***\n",
    "## Table of Contents\n",
    "1. [Introduction](#1-introduction)\n",
    "2. [Loading Data](#2-loading-data)\n",
    "3. [Data Preprocessing](#3-data-preprocessing)\n",
    "    - [Dealing with Outliers](#dealing-with-outliers)\n",
    "    - [Handling Categorical Features](#handling-categorical-features)\n",
    "    - [Handling Continuous Features](#handling-continuous-features)\n",
    "    - [Normalising After Encoding & Scaling Features](#normalising-after-encoding--scaling-features)\n",
    "4. [Distance Calculation](#4-distance-calculation)\n",
    "    - [Euclidean Distance](#euclidean-distance)\n",
    "5. [Train Test Split](#5-train-test-split)\n",
    "6. [Model Encapsulation](#6-model-encapsulation)\n",
    "7. [Model Evaluation](#7-model-evaluation)\n",
    "    - [Mean Squared Error (MSE)](#mean-squared-error-mse)\n",
    "    - [Root Mean Squared Error (RMSE)](#root-mean-squared-error-rmse)\n",
    "    - [Mean Absolute Error (MAE)](#mean-absolute-error-mae)\n",
    "    - [R-Squared ($R^2$)](#r-squared)\n",
    "8. [Comparison with Scikit-Learn](#8-comparison-with-scikit-learn)\n",
    "***"
   ]
  },
  {
   "cell_type": "markdown",
   "id": "dc1ed1ec",
   "metadata": {},
   "source": [
    "## 1. Introduction\n",
    "K-Nearest Neighbours (KNN) algorithm is a non-parametric supervised machine learning technique used for classification and regression. KNN predicts the class or value of a data point by calculating and analysing the distance from the data point to the $k$ closest neighbouring points in the training data. The algorithm uses a distance metric such as Euclidean, Manhattan, Chebyshev or Minkowski to identify the $k$ nearest neighbours and determines the predicted label or value based on a **majority vote** (for classification) or **averaging** (for regression)."
   ]
  },
  {
   "cell_type": "code",
   "execution_count": 1,
   "id": "4882ec06",
   "metadata": {},
   "outputs": [],
   "source": [
    "import numpy as np\n",
    "import pandas as pd\n",
    "import matplotlib.pyplot as plt\n",
    "import seaborn as sns\n",
    "from typing import Tuple, List\n",
    "from numpy.typing import NDArray\n",
    "from tqdm import tqdm\n",
    "from scipy.spatial.distance import cdist"
   ]
  },
  {
   "cell_type": "markdown",
   "id": "e5fcfe35",
   "metadata": {},
   "source": [
    "## 2. Loading Data\n",
    "Retrieved from [Kaggle - Diamonds](https://www.kaggle.com/datasets/shivam2503/diamonds)\n",
    "\n",
    "**price**: Price in US dollars ($326 - $18,823)\n",
    "\n",
    "**carat**: Weight of the diamond (0.2 - 5.01)\n",
    "\n",
    "**cut**: Quality of the cut (Fair, Good, Very Good, Premium, Ideal)\n",
    "\n",
    "**color**: Diamond colour, from J (worst) to D (best)\n",
    "\n",
    "**clarity**: Measurement of how clear the diamond is (I1 (worst), SI2, SI1, VS2, VS1, VVS2, VVS1, IF (best))\n",
    "\n",
    "**x**: Length in mm (0 - 10.74)\n",
    "\n",
    "**y**: Width in mm (0 - 58.9)\n",
    "\n",
    "**z**: Depth in mm (0 - 31.8)\n",
    "\n",
    "**depth**: Total depth percentage = z / mean(x, y) = 2 * z / (x + y) (43-79)\n",
    "\n",
    "**table**: Width of top of diamond relative to widest point (43--95)"
   ]
  },
  {
   "cell_type": "code",
   "execution_count": 2,
   "id": "e1345677",
   "metadata": {},
   "outputs": [
    {
     "data": {
      "application/vnd.microsoft.datawrangler.viewer.v0+json": {
       "columns": [
        {
         "name": "index",
         "rawType": "int64",
         "type": "integer"
        },
        {
         "name": "carat",
         "rawType": "float64",
         "type": "float"
        },
        {
         "name": "cut",
         "rawType": "object",
         "type": "string"
        },
        {
         "name": "color",
         "rawType": "object",
         "type": "string"
        },
        {
         "name": "clarity",
         "rawType": "object",
         "type": "string"
        },
        {
         "name": "depth",
         "rawType": "float64",
         "type": "float"
        },
        {
         "name": "table",
         "rawType": "float64",
         "type": "float"
        },
        {
         "name": "price",
         "rawType": "int64",
         "type": "integer"
        },
        {
         "name": "x",
         "rawType": "float64",
         "type": "float"
        },
        {
         "name": "y",
         "rawType": "float64",
         "type": "float"
        },
        {
         "name": "z",
         "rawType": "float64",
         "type": "float"
        }
       ],
       "ref": "782d9e9c-e8c6-438f-ad84-001629e052fd",
       "rows": [
        [
         "0",
         "0.23",
         "Ideal",
         "E",
         "SI2",
         "61.5",
         "55.0",
         "326",
         "3.95",
         "3.98",
         "2.43"
        ],
        [
         "1",
         "0.21",
         "Premium",
         "E",
         "SI1",
         "59.8",
         "61.0",
         "326",
         "3.89",
         "3.84",
         "2.31"
        ],
        [
         "2",
         "0.23",
         "Good",
         "E",
         "VS1",
         "56.9",
         "65.0",
         "327",
         "4.05",
         "4.07",
         "2.31"
        ],
        [
         "3",
         "0.29",
         "Premium",
         "I",
         "VS2",
         "62.4",
         "58.0",
         "334",
         "4.2",
         "4.23",
         "2.63"
        ],
        [
         "4",
         "0.31",
         "Good",
         "J",
         "SI2",
         "63.3",
         "58.0",
         "335",
         "4.34",
         "4.35",
         "2.75"
        ]
       ],
       "shape": {
        "columns": 10,
        "rows": 5
       }
      },
      "text/html": [
       "<div>\n",
       "<style scoped>\n",
       "    .dataframe tbody tr th:only-of-type {\n",
       "        vertical-align: middle;\n",
       "    }\n",
       "\n",
       "    .dataframe tbody tr th {\n",
       "        vertical-align: top;\n",
       "    }\n",
       "\n",
       "    .dataframe thead th {\n",
       "        text-align: right;\n",
       "    }\n",
       "</style>\n",
       "<table border=\"1\" class=\"dataframe\">\n",
       "  <thead>\n",
       "    <tr style=\"text-align: right;\">\n",
       "      <th></th>\n",
       "      <th>carat</th>\n",
       "      <th>cut</th>\n",
       "      <th>color</th>\n",
       "      <th>clarity</th>\n",
       "      <th>depth</th>\n",
       "      <th>table</th>\n",
       "      <th>price</th>\n",
       "      <th>x</th>\n",
       "      <th>y</th>\n",
       "      <th>z</th>\n",
       "    </tr>\n",
       "  </thead>\n",
       "  <tbody>\n",
       "    <tr>\n",
       "      <th>0</th>\n",
       "      <td>0.23</td>\n",
       "      <td>Ideal</td>\n",
       "      <td>E</td>\n",
       "      <td>SI2</td>\n",
       "      <td>61.5</td>\n",
       "      <td>55.0</td>\n",
       "      <td>326</td>\n",
       "      <td>3.95</td>\n",
       "      <td>3.98</td>\n",
       "      <td>2.43</td>\n",
       "    </tr>\n",
       "    <tr>\n",
       "      <th>1</th>\n",
       "      <td>0.21</td>\n",
       "      <td>Premium</td>\n",
       "      <td>E</td>\n",
       "      <td>SI1</td>\n",
       "      <td>59.8</td>\n",
       "      <td>61.0</td>\n",
       "      <td>326</td>\n",
       "      <td>3.89</td>\n",
       "      <td>3.84</td>\n",
       "      <td>2.31</td>\n",
       "    </tr>\n",
       "    <tr>\n",
       "      <th>2</th>\n",
       "      <td>0.23</td>\n",
       "      <td>Good</td>\n",
       "      <td>E</td>\n",
       "      <td>VS1</td>\n",
       "      <td>56.9</td>\n",
       "      <td>65.0</td>\n",
       "      <td>327</td>\n",
       "      <td>4.05</td>\n",
       "      <td>4.07</td>\n",
       "      <td>2.31</td>\n",
       "    </tr>\n",
       "    <tr>\n",
       "      <th>3</th>\n",
       "      <td>0.29</td>\n",
       "      <td>Premium</td>\n",
       "      <td>I</td>\n",
       "      <td>VS2</td>\n",
       "      <td>62.4</td>\n",
       "      <td>58.0</td>\n",
       "      <td>334</td>\n",
       "      <td>4.20</td>\n",
       "      <td>4.23</td>\n",
       "      <td>2.63</td>\n",
       "    </tr>\n",
       "    <tr>\n",
       "      <th>4</th>\n",
       "      <td>0.31</td>\n",
       "      <td>Good</td>\n",
       "      <td>J</td>\n",
       "      <td>SI2</td>\n",
       "      <td>63.3</td>\n",
       "      <td>58.0</td>\n",
       "      <td>335</td>\n",
       "      <td>4.34</td>\n",
       "      <td>4.35</td>\n",
       "      <td>2.75</td>\n",
       "    </tr>\n",
       "  </tbody>\n",
       "</table>\n",
       "</div>"
      ],
      "text/plain": [
       "   carat      cut color clarity  depth  table  price     x     y     z\n",
       "0   0.23    Ideal     E     SI2   61.5   55.0    326  3.95  3.98  2.43\n",
       "1   0.21  Premium     E     SI1   59.8   61.0    326  3.89  3.84  2.31\n",
       "2   0.23     Good     E     VS1   56.9   65.0    327  4.05  4.07  2.31\n",
       "3   0.29  Premium     I     VS2   62.4   58.0    334  4.20  4.23  2.63\n",
       "4   0.31     Good     J     SI2   63.3   58.0    335  4.34  4.35  2.75"
      ]
     },
     "execution_count": 2,
     "metadata": {},
     "output_type": "execute_result"
    }
   ],
   "source": [
    "df = pd.read_csv('../_datasets/diamonds.csv')\n",
    "df = df.drop('Unnamed: 0', axis=1)\n",
    "df.head()"
   ]
  },
  {
   "cell_type": "code",
   "execution_count": 3,
   "id": "6adf9e03",
   "metadata": {},
   "outputs": [
    {
     "data": {
      "application/vnd.microsoft.datawrangler.viewer.v0+json": {
       "columns": [
        {
         "name": "index",
         "rawType": "object",
         "type": "string"
        },
        {
         "name": "0",
         "rawType": "int64",
         "type": "integer"
        }
       ],
       "ref": "68edbb29-585d-44f9-a557-70aa41ed5a21",
       "rows": [
        [
         "carat",
         "0"
        ],
        [
         "cut",
         "0"
        ],
        [
         "color",
         "0"
        ],
        [
         "clarity",
         "0"
        ],
        [
         "depth",
         "0"
        ],
        [
         "table",
         "0"
        ],
        [
         "price",
         "0"
        ],
        [
         "x",
         "0"
        ],
        [
         "y",
         "0"
        ],
        [
         "z",
         "0"
        ]
       ],
       "shape": {
        "columns": 1,
        "rows": 10
       }
      },
      "text/plain": [
       "carat      0\n",
       "cut        0\n",
       "color      0\n",
       "clarity    0\n",
       "depth      0\n",
       "table      0\n",
       "price      0\n",
       "x          0\n",
       "y          0\n",
       "z          0\n",
       "dtype: int64"
      ]
     },
     "execution_count": 3,
     "metadata": {},
     "output_type": "execute_result"
    }
   ],
   "source": [
    "df.isnull().sum()"
   ]
  },
  {
   "cell_type": "markdown",
   "id": "43e27569",
   "metadata": {},
   "source": [
    "## 3. Data Preprocessing\n",
    "\n",
    "### Dealing with Outliers\n",
    "- Boxplot to identify numerical outliers.\n",
    "- Winsorisation or capping to handle extreme values, if necessary."
   ]
  },
  {
   "cell_type": "code",
   "execution_count": null,
   "id": "a5b507c8",
   "metadata": {},
   "outputs": [
    {
     "data": {
      "image/png": "[encoded data removed]",
      "text/plain": [
       "<Figure size 1500x1500 with 9 Axes>"
      ]
     },
     "metadata": {},
     "output_type": "display_data"
    }
   ],
   "source": [
    "def plot_boxplots(df: pd.DataFrame) -> None:\n",
    "    \"\"\"\n",
    "    Generate boxplots for each numerical column in the dataset to visualise outliers.\n",
    "\n",
    "    Args:\n",
    "        df: The input dataframe.\n",
    "    \"\"\"\n",
    "    numerical_columns = df.select_dtypes(include=['float64', 'int64']).columns\n",
    "    num_columns = len(numerical_columns)\n",
    "\n",
    "    # Create subplots for boxplots\n",
    "    fig, axes = plt.subplots(nrows=(num_columns + 2) // 3,\n",
    "                             ncols=3, figsize=(15, 5 * ((num_columns + 2) // 3)))\n",
    "    axes = axes.flatten()\n",
    "\n",
    "    for i, column in enumerate(numerical_columns):\n",
    "        sns.boxplot(data=df, y=column, ax=axes[i], color='skyblue')\n",
    "        axes[i].set_title(f'Boxplot for {column}')\n",
    "        axes[i].set_ylabel(column)\n",
    "        axes[i].set_xlabel('')\n",
    "\n",
    "    # Remove unused subplots if any\n",
    "    for j in range(i + 1, len(axes)):\n",
    "        axes[j].set_visible(False)\n",
    "\n",
    "    plt.tight_layout()\n",
    "    plt.show()\n",
    "\n",
    "\n",
    "plot_boxplots(df)"
   ]
  },
  {
   "cell_type": "markdown",
   "id": "c5d924d9",
   "metadata": {},
   "source": [
    "$Q1 =$ 25th percentile\n",
    "\n",
    "$Q3 =$ 75th percentile\n",
    "\n",
    "$IQR =$ Interquartile Range (50% at the middle) $= Q3 - Q1$\n",
    "\n",
    "Lower bound $= Q1 - 1.5 \\times IQR$\n",
    "\n",
    "Upper bound $= Q3 + 1.5 \\times IQR$"
   ]
  },
  {
   "cell_type": "code",
   "execution_count": null,
   "id": "9fda7bc7",
   "metadata": {},
   "outputs": [],
   "source": [
    "def remove_outliers_iqr(df: pd.DataFrame) -> pd.DataFrame:\n",
    "    \"\"\"\n",
    "    Remove outliers from all numerical columns in the dataframe using the IQR method.\n",
    "\n",
    "    Args:\n",
    "        df: The input dataframe.\n",
    "\n",
    "    Returns:\n",
    "        DataFrame with outliers removed from all numerical columns.\n",
    "    \"\"\"\n",
    "    numerical_columns = df.select_dtypes(include=['float64', 'int64']).columns\n",
    "    for column in numerical_columns:\n",
    "        Q1 = df[column].quantile(0.25)  # First quartile (25th percentile)\n",
    "        Q3 = df[column].quantile(0.75)  # Third quartile (75th percentile)\n",
    "        IQR = Q3 - Q1  # Interquartile range\n",
    "\n",
    "        lower_bound = Q1 - 1.5 * IQR  # Lower bound for outliers\n",
    "        upper_bound = Q3 + 1.5 * IQR  # Upper bound for outliers\n",
    "\n",
    "        # Filter out rows with outliers\n",
    "        df = df[(df[column] >= lower_bound) & (df[column] <= upper_bound)]\n",
    "\n",
    "    return df\n",
    "\n",
    "\n",
    "# Call the function to remove outliers\n",
    "df = remove_outliers_iqr(df)"
   ]
  },
  {
   "cell_type": "markdown",
   "id": "c8d20001",
   "metadata": {},
   "source": [
    "### Handling Categorical Features\n",
    "Encoding Categorical Features:\n",
    "- **cut**: Ordinal encoding (Fair < Good < Very Good < Premium < Ideal).\n",
    "- **color**: Ordinal encoding (J < I < H < G < F < E < D).\n",
    "- **clarity**: Ordinal encoding (I1 < SI2 < SI1 < VS2 < VS1 < VVS2 < VVS1 < IF)."
   ]
  },
  {
   "cell_type": "code",
   "execution_count": null,
   "id": "3d7cf09b",
   "metadata": {},
   "outputs": [],
   "source": [
    "def ordinal_encode(data: NDArray[np.str_], levels: NDArray[np.str_]) -> NDArray[np.int64]:\n",
    "    \"\"\"\n",
    "    Perform ordinal encoding for a categorical feature.\n",
    "\n",
    "    Args:\n",
    "        data: List of categorical values.\n",
    "        levels: Ordered list of unique levels in the desired order.\n",
    "\n",
    "    Returns:\n",
    "        Ordinally encoded array.\n",
    "    \"\"\"\n",
    "    level_map = {level: i for i, level in enumerate(levels)}\n",
    "    return np.array([level_map[val] for val in data])"
   ]
  },
  {
   "cell_type": "code",
   "execution_count": 7,
   "id": "f833f590",
   "metadata": {},
   "outputs": [
    {
     "data": {
      "application/vnd.microsoft.datawrangler.viewer.v0+json": {
       "columns": [
        {
         "name": "index",
         "rawType": "int64",
         "type": "integer"
        },
        {
         "name": "cut",
         "rawType": "int64",
         "type": "integer"
        },
        {
         "name": "color",
         "rawType": "int64",
         "type": "integer"
        },
        {
         "name": "clarity",
         "rawType": "int64",
         "type": "integer"
        }
       ],
       "ref": "d8a66da3-371d-4490-a509-14e7dc861dd8",
       "rows": [
        [
         "0",
         "4",
         "5",
         "1"
        ],
        [
         "1",
         "3",
         "5",
         "2"
        ],
        [
         "3",
         "3",
         "1",
         "3"
        ],
        [
         "4",
         "1",
         "0",
         "1"
        ],
        [
         "5",
         "2",
         "0",
         "5"
        ],
        [
         "6",
         "2",
         "1",
         "6"
        ],
        [
         "7",
         "2",
         "2",
         "2"
        ],
        [
         "9",
         "2",
         "2",
         "4"
        ],
        [
         "10",
         "1",
         "0",
         "2"
        ],
        [
         "11",
         "4",
         "0",
         "4"
        ]
       ],
       "shape": {
        "columns": 3,
        "rows": 10
       }
      },
      "text/html": [
       "<div>\n",
       "<style scoped>\n",
       "    .dataframe tbody tr th:only-of-type {\n",
       "        vertical-align: middle;\n",
       "    }\n",
       "\n",
       "    .dataframe tbody tr th {\n",
       "        vertical-align: top;\n",
       "    }\n",
       "\n",
       "    .dataframe thead th {\n",
       "        text-align: right;\n",
       "    }\n",
       "</style>\n",
       "<table border=\"1\" class=\"dataframe\">\n",
       "  <thead>\n",
       "    <tr style=\"text-align: right;\">\n",
       "      <th></th>\n",
       "      <th>cut</th>\n",
       "      <th>color</th>\n",
       "      <th>clarity</th>\n",
       "    </tr>\n",
       "  </thead>\n",
       "  <tbody>\n",
       "    <tr>\n",
       "      <th>0</th>\n",
       "      <td>4</td>\n",
       "      <td>5</td>\n",
       "      <td>1</td>\n",
       "    </tr>\n",
       "    <tr>\n",
       "      <th>1</th>\n",
       "      <td>3</td>\n",
       "      <td>5</td>\n",
       "      <td>2</td>\n",
       "    </tr>\n",
       "    <tr>\n",
       "      <th>3</th>\n",
       "      <td>3</td>\n",
       "      <td>1</td>\n",
       "      <td>3</td>\n",
       "    </tr>\n",
       "    <tr>\n",
       "      <th>4</th>\n",
       "      <td>1</td>\n",
       "      <td>0</td>\n",
       "      <td>1</td>\n",
       "    </tr>\n",
       "    <tr>\n",
       "      <th>5</th>\n",
       "      <td>2</td>\n",
       "      <td>0</td>\n",
       "      <td>5</td>\n",
       "    </tr>\n",
       "    <tr>\n",
       "      <th>6</th>\n",
       "      <td>2</td>\n",
       "      <td>1</td>\n",
       "      <td>6</td>\n",
       "    </tr>\n",
       "    <tr>\n",
       "      <th>7</th>\n",
       "      <td>2</td>\n",
       "      <td>2</td>\n",
       "      <td>2</td>\n",
       "    </tr>\n",
       "    <tr>\n",
       "      <th>9</th>\n",
       "      <td>2</td>\n",
       "      <td>2</td>\n",
       "      <td>4</td>\n",
       "    </tr>\n",
       "    <tr>\n",
       "      <th>10</th>\n",
       "      <td>1</td>\n",
       "      <td>0</td>\n",
       "      <td>2</td>\n",
       "    </tr>\n",
       "    <tr>\n",
       "      <th>11</th>\n",
       "      <td>4</td>\n",
       "      <td>0</td>\n",
       "      <td>4</td>\n",
       "    </tr>\n",
       "  </tbody>\n",
       "</table>\n",
       "</div>"
      ],
      "text/plain": [
       "    cut  color  clarity\n",
       "0     4      5        1\n",
       "1     3      5        2\n",
       "3     3      1        3\n",
       "4     1      0        1\n",
       "5     2      0        5\n",
       "6     2      1        6\n",
       "7     2      2        2\n",
       "9     2      2        4\n",
       "10    1      0        2\n",
       "11    4      0        4"
      ]
     },
     "execution_count": 7,
     "metadata": {},
     "output_type": "execute_result"
    }
   ],
   "source": [
    "# Define categorical and continuous features\n",
    "categorical_features = {\n",
    "    'cut': ['Fair', 'Good', 'Very Good', 'Premium', 'Ideal'],\n",
    "    'color': ['J', 'I', 'H', 'G', 'F', 'E', 'D'],\n",
    "    'clarity': ['I1', 'SI2', 'SI1', 'VS2', 'VS1', 'VVS2', 'VVS1', 'IF']\n",
    "}\n",
    "\n",
    "# Process categorical features\n",
    "for feature, levels in categorical_features.items():\n",
    "    df[feature] = ordinal_encode(df[feature], levels)\n",
    "df[['cut', 'color', 'clarity']].head(10)"
   ]
  },
  {
   "cell_type": "markdown",
   "id": "17167822",
   "metadata": {},
   "source": [
    "### Handling Continuous Features\n",
    "Continuous features have varying ranges, and distance-based algorithms like KNN are sensitive to these differences.\n",
    "- **price** (326 – 18,823): Standardise. Large range with potential outliers.\n",
    "- **carat** (0.2 – 5.01): Standardise to handle outliers and maintain Gaussian-like distribution.\n",
    "- **x, y, z** (0 – 10.74, 0 – 58.9, 0 – 31.8): Standardise. Widely different ranges and potential outliers.\n",
    "- **depth** (43 – 79): Standardise as it’s a percentage, and differences might be subtle.\n",
    "- **table** (43 – 95): Standardise for consistency across the dataset.\n",
    "\n",
    "Standardisation centers data around the mean with unit variance, reducing the impact of outliers and differences in scale. This is suitable for KNN regression as it ensures fair weight across features in distance calculations. Standardisation transforms the data to have:\n",
    "\n",
    "1. Mean = 0, which will become a centre value.\n",
    "2. Standard Deviation = 1, making sure the spread of data is scaled.\n",
    "\n",
    "The formula is:\n",
    "\\begin{align*}\n",
    "z = \\dfrac{x - \\mu}{\\sigma}\n",
    "\\end{align*}\n",
    "\n",
    "where:\n",
    "\n",
    "$x$: Original data value.\n",
    "\n",
    "$\\mu$: Mean of the feature.\n",
    "\n",
    "$\\sigma$: Standard deviation of the feature."
   ]
  },
  {
   "cell_type": "code",
   "execution_count": null,
   "id": "10600600",
   "metadata": {},
   "outputs": [],
   "source": [
    "def standardise(data: NDArray[np.float64]) -> NDArray[np.float64]:\n",
    "    \"\"\"\n",
    "    Standardise the dataset.\n",
    "\n",
    "    Args:\n",
    "        data: A 2D NumPy array where each column is a feature.\n",
    "\n",
    "    Returns:\n",
    "        Standardised dataset with mean 0 and variance 1.\n",
    "    \"\"\"\n",
    "    data_mean = np.mean(data, axis=0)\n",
    "    data_std = np.std(data, axis=0)\n",
    "    return (data - data_mean) / data_std"
   ]
  },
  {
   "cell_type": "code",
   "execution_count": 9,
   "id": "bcd382bc",
   "metadata": {},
   "outputs": [],
   "source": [
    "continuous_features = ['carat', 'x', 'y', 'z',\n",
    "                       'depth', 'table', 'cut', 'color', 'clarity']\n",
    "df[continuous_features] = standardise(df[continuous_features].values)"
   ]
  },
  {
   "cell_type": "markdown",
   "id": "078fc1a6",
   "metadata": {},
   "source": [
    "### Normalising After Encoding & Scaling Features\n",
    "If the final dataset contains a mix of scaled and encoded features, normalise the final feature matrix to make sure all features fall within a similar range for better distance calculation. The equation for min-max normalisation is:\n",
    "\n",
    "\\begin{align*}\n",
    "x_{normalised} = \\dfrac{x - min(X)}{max(X) - min(X)}\n",
    "\\end{align*}"
   ]
  },
  {
   "cell_type": "code",
   "execution_count": null,
   "id": "fad12fc4",
   "metadata": {},
   "outputs": [
    {
     "data": {
      "application/vnd.microsoft.datawrangler.viewer.v0+json": {
       "columns": [
        {
         "name": "index",
         "rawType": "int64",
         "type": "integer"
        },
        {
         "name": "carat",
         "rawType": "float64",
         "type": "float"
        },
        {
         "name": "x",
         "rawType": "float64",
         "type": "float"
        },
        {
         "name": "y",
         "rawType": "float64",
         "type": "float"
        },
        {
         "name": "z",
         "rawType": "float64",
         "type": "float"
        },
        {
         "name": "depth",
         "rawType": "float64",
         "type": "float"
        },
        {
         "name": "table",
         "rawType": "float64",
         "type": "float"
        },
        {
         "name": "cut",
         "rawType": "float64",
         "type": "float"
        },
        {
         "name": "color",
         "rawType": "float64",
         "type": "float"
        },
        {
         "name": "clarity",
         "rawType": "float64",
         "type": "float"
        }
       ],
       "ref": "94714165-467a-4577-8199-cb2688329fa4",
       "rows": [
        [
         "0",
         "0.016666666666666653",
         "0.04845814977973576",
         "0.06535947712418295",
         "0.2779291553133516",
         "0.4464285714285719",
         "0.2608695652173913",
         "1.0",
         "0.8333333333333333",
         "0.14285714285714285"
        ],
        [
         "1",
         "0.005555555555555521",
         "0.035242290748898744",
         "0.034858387799564204",
         "0.24523160762942786",
         "0.14285714285714252",
         "0.782608695652174",
         "0.7499999999999999",
         "0.8333333333333333",
         "0.2857142857142857"
        ],
        [
         "3",
         "0.05",
         "0.10352422907488994",
         "0.11982570806100226",
         "0.33242506811989103",
         "0.6071428571428575",
         "0.5217391304347826",
         "0.7499999999999999",
         "0.16666666666666666",
         "0.4285714285714285"
        ],
        [
         "4",
         "0.06111111111111109",
         "0.13436123348017623",
         "0.1459694989106753",
         "0.3651226158038148",
         "0.7678571428571432",
         "0.5217391304347826",
         "0.24999999999999997",
         "0.0",
         "0.14285714285714285"
        ],
        [
         "5",
         "0.022222222222222216",
         "0.04625550660792951",
         "0.06100217864923741",
         "0.2915531335149864",
         "0.6785714285714288",
         "0.43478260869565216",
         "0.49999999999999994",
         "0.0",
         "0.7142857142857143"
        ],
        [
         "6",
         "0.022222222222222216",
         "0.04845814977973576",
         "0.06535947712418295",
         "0.28882833787465956",
         "0.5892857142857144",
         "0.43478260869565216",
         "0.49999999999999994",
         "0.16666666666666666",
         "0.857142857142857"
        ],
        [
         "7",
         "0.03333333333333335",
         "0.07488986784140979",
         "0.093681917211329",
         "0.30517711171662126",
         "0.5178571428571431",
         "0.2608695652173913",
         "0.49999999999999994",
         "0.3333333333333333",
         "0.2857142857142857"
        ],
        [
         "9",
         "0.016666666666666653",
         "0.059471365638766524",
         "0.08061002178649228",
         "0.2670299727520437",
         "0.07142857142857122",
         "0.782608695652174",
         "0.49999999999999994",
         "0.3333333333333333",
         "0.5714285714285714"
        ],
        [
         "10",
         "0.05555555555555552",
         "0.11453744493392075",
         "0.13071895424836605",
         "0.35967302452316086",
         "0.8928571428571438",
         "0.2608695652173913",
         "0.24999999999999997",
         "0.0",
         "0.2857142857142857"
        ],
        [
         "11",
         "0.016666666666666653",
         "0.044052863436123406",
         "0.04793028322440083",
         "0.2861035422343325",
         "0.6785714285714288",
         "0.3478260869565218",
         "1.0",
         "0.0",
         "0.5714285714285714"
        ],
        [
         "12",
         "0.011111111111111086",
         "0.0330396475770925",
         "0.034858387799564204",
         "0.25068119891008184",
         "0.25000000000000006",
         "0.782608695652174",
         "0.7499999999999999",
         "0.6666666666666667",
         "0.2857142857142857"
        ],
        [
         "13",
         "0.06111111111111109",
         "0.13656387665198233",
         "0.1503267973856209",
         "0.35422343324250694",
         "0.5714285714285726",
         "0.1739130434782609",
         "1.0",
         "0.0",
         "0.14285714285714285"
        ],
        [
         "14",
         "0.0",
         "0.013215859030837017",
         "0.01525054466230933",
         "0.23433242506811996",
         "0.21428571428571502",
         "0.8695652173913043",
         "0.7499999999999999",
         "0.8333333333333333",
         "0.14285714285714285"
        ],
        [
         "15",
         "0.06666666666666665",
         "0.14317180616740088",
         "0.1612200435729847",
         "0.346049046321526",
         "0.3392857142857144",
         "0.5217391304347826",
         "0.7499999999999999",
         "0.8333333333333333",
         "0.0"
        ],
        [
         "16",
         "0.05555555555555552",
         "0.12775330396475768",
         "0.14379084967320258",
         "0.346049046321526",
         "0.5357142857142863",
         "0.1739130434782609",
         "1.0",
         "0.16666666666666666",
         "0.14285714285714285"
        ],
        [
         "17",
         "0.05555555555555552",
         "0.11013215859030849",
         "0.13289760348583873",
         "0.3514986376021799",
         "0.7857142857142863",
         "0.1739130434782609",
         "0.24999999999999997",
         "0.0",
         "0.2857142857142857"
        ],
        [
         "18",
         "0.05555555555555552",
         "0.11013215859030849",
         "0.1263616557734204",
         "0.35422343324250694",
         "0.8571428571428575",
         "0.3478260869565218",
         "0.24999999999999997",
         "0.0",
         "0.2857142857142857"
        ],
        [
         "19",
         "0.05555555555555552",
         "0.10572687224669608",
         "0.1285403050108931",
         "0.340599455040872",
         "0.6607142857142869",
         "0.608695652173913",
         "0.49999999999999994",
         "0.0",
         "0.2857142857142857"
        ],
        [
         "20",
         "0.05555555555555552",
         "0.11674008810572685",
         "0.1350762527233115",
         "0.35422343324250694",
         "0.7678571428571432",
         "0.3478260869565218",
         "0.24999999999999997",
         "0.16666666666666666",
         "0.14285714285714285"
        ],
        [
         "21",
         "0.016666666666666653",
         "0.026431718061674034",
         "0.05228758169934637",
         "0.2915531335149864",
         "0.8571428571428575",
         "0.2608695652173913",
         "0.49999999999999994",
         "0.8333333333333333",
         "0.4285714285714285"
        ],
        [
         "22",
         "0.016666666666666653",
         "0.04625550660792951",
         "0.06100217864923741",
         "0.2724795640326977",
         "0.35714285714285754",
         "0.43478260869565216",
         "0.49999999999999994",
         "0.3333333333333333",
         "0.5714285714285714"
        ],
        [
         "23",
         "0.06111111111111109",
         "0.14537444933920704",
         "0.16339869281045746",
         "0.3297002724795641",
         "0.07142857142857122",
         "0.8695652173913043",
         "0.49999999999999994",
         "0.0",
         "0.2857142857142857"
        ],
        [
         "25",
         "0.016666666666666653",
         "0.05286343612334807",
         "0.07189542483660125",
         "0.2724795640326977",
         "0.25000000000000006",
         "0.5217391304347826",
         "0.49999999999999994",
         "0.5",
         "0.7142857142857143"
        ],
        [
         "26",
         "0.022222222222222216",
         "0.05286343612334807",
         "0.05664488017429187",
         "0.28882833787465956",
         "0.6250000000000007",
         "0.43478260869565216",
         "0.7499999999999999",
         "0.16666666666666666",
         "0.5714285714285714"
        ],
        [
         "27",
         "0.05555555555555552",
         "0.1211453744493393",
         "0.1350762527233115",
         "0.343324250681199",
         "0.5714285714285726",
         "0.43478260869565216",
         "0.49999999999999994",
         "0.0",
         "0.4285714285714285"
        ],
        [
         "28",
         "0.016666666666666653",
         "0.05066079295154186",
         "0.06318082788671026",
         "0.2697547683923706",
         "0.2678571428571432",
         "0.782608695652174",
         "0.49999999999999994",
         "1.0",
         "0.4285714285714285"
        ],
        [
         "29",
         "0.016666666666666653",
         "0.05066079295154186",
         "0.06753812636165579",
         "0.2752043596730246",
         "0.3392857142857144",
         "0.43478260869565216",
         "0.49999999999999994",
         "0.6666666666666667",
         "0.5714285714285714"
        ],
        [
         "30",
         "0.016666666666666653",
         "0.059471365638766524",
         "0.07625272331154688",
         "0.2724795640326977",
         "0.17857142857142877",
         "0.43478260869565216",
         "0.49999999999999994",
         "0.6666666666666667",
         "0.5714285714285714"
        ],
        [
         "31",
         "0.016666666666666653",
         "0.06828193832599123",
         "0.08278867102396503",
         "0.2752043596730246",
         "0.14285714285714252",
         "0.43478260869565216",
         "0.49999999999999994",
         "0.6666666666666667",
         "0.5714285714285714"
        ],
        [
         "32",
         "0.016666666666666653",
         "0.05286343612334807",
         "0.07189542483660125",
         "0.2752043596730246",
         "0.30357142857142944",
         "0.608695652173913",
         "0.49999999999999994",
         "0.8333333333333333",
         "0.5714285714285714"
        ],
        [
         "33",
         "0.016666666666666653",
         "0.06167400881057268",
         "0.08278867102396503",
         "0.2697547683923706",
         "0.08928571428571443",
         "0.5217391304347826",
         "0.49999999999999994",
         "0.8333333333333333",
         "0.5714285714285714"
        ],
        [
         "34",
         "0.016666666666666653",
         "0.0418502202643172",
         "0.06100217864923741",
         "0.2806539509536785",
         "0.5178571428571431",
         "0.5217391304347826",
         "0.49999999999999994",
         "1.0",
         "0.5714285714285714"
        ],
        [
         "36",
         "0.016666666666666653",
         "0.022026431718061727",
         "0.03703703703703699",
         "0.2861035422343325",
         "0.9107142857142857",
         "0.608695652173913",
         "0.24999999999999997",
         "0.8333333333333333",
         "0.5714285714285714"
        ],
        [
         "37",
         "0.06111111111111109",
         "0.1233480176211454",
         "0.1372549019607842",
         "0.3651226158038148",
         "0.8928571428571438",
         "0.1739130434782609",
         "0.24999999999999997",
         "0.3333333333333333",
         "0.2857142857142857"
        ],
        [
         "38",
         "0.03333333333333335",
         "0.08810572687224671",
         "0.10457516339869279",
         "0.30245231607629436",
         "0.3214285714285713",
         "0.608695652173913",
         "0.49999999999999994",
         "1.0",
         "0.4285714285714285"
        ],
        [
         "39",
         "0.07222222222222222",
         "0.1674008810572688",
         "0.18082788671023958",
         "0.3732970027247956",
         "0.5",
         "0.2608695652173913",
         "1.0",
         "0.16666666666666666",
         "0.14285714285714285"
        ],
        [
         "40",
         "0.07222222222222222",
         "0.1674008810572688",
         "0.17864923747276687",
         "0.3651226158038148",
         "0.3928571428571438",
         "0.3478260869565218",
         "1.0",
         "0.16666666666666666",
         "0.14285714285714285"
        ],
        [
         "41",
         "0.07222222222222222",
         "0.1674008810572688",
         "0.18954248366013066",
         "0.3678474114441417",
         "0.37500000000000067",
         "0.3478260869565218",
         "1.0",
         "0.0",
         "0.2857142857142857"
        ],
        [
         "44",
         "0.06666666666666665",
         "0.13436123348017623",
         "0.1503267973856209",
         "0.3651226158038148",
         "0.7321428571428582",
         "0.3478260869565218",
         "0.24999999999999997",
         "0.3333333333333333",
         "0.14285714285714285"
        ],
        [
         "45",
         "0.05",
         "0.11233480176211463",
         "0.1263616557734204",
         "0.33787465940054495",
         "0.6071428571428575",
         "0.5217391304347826",
         "0.7499999999999999",
         "0.6666666666666667",
         "0.2857142857142857"
        ],
        [
         "46",
         "0.06666666666666665",
         "0.13656387665198233",
         "0.1612200435729847",
         "0.35422343324250694",
         "0.5",
         "0.2608695652173913",
         "0.49999999999999994",
         "0.3333333333333333",
         "0.14285714285714285"
        ],
        [
         "47",
         "0.06666666666666665",
         "0.13876651982378868",
         "0.15250544662309362",
         "0.3760217983651226",
         "0.8571428571428575",
         "0.3478260869565218",
         "0.24999999999999997",
         "0.3333333333333333",
         "0.14285714285714285"
        ],
        [
         "48",
         "0.027777777777777783",
         "0.059471365638766524",
         "0.07625272331154688",
         "0.3079019073569483",
         "0.7678571428571432",
         "0.6956521739130435",
         "0.49999999999999994",
         "0.8333333333333333",
         "0.4285714285714285"
        ],
        [
         "49",
         "0.05",
         "0.13215859030837013",
         "0.1503267973856209",
         "0.33514986376021805",
         "0.30357142857142944",
         "0.6956521739130435",
         "0.49999999999999994",
         "0.3333333333333333",
         "0.14285714285714285"
        ],
        [
         "50",
         "0.022222222222222216",
         "0.06387665198237878",
         "0.07625272331154688",
         "0.2833787465940056",
         "0.3392857142857144",
         "0.782608695652174",
         "0.49999999999999994",
         "0.6666666666666667",
         "0.2857142857142857"
        ],
        [
         "51",
         "0.016666666666666653",
         "0.044052863436123406",
         "0.05882352941176471",
         "0.2806539509536785",
         "0.5178571428571431",
         "0.1739130434782609",
         "1.0",
         "0.5",
         "0.5714285714285714"
        ],
        [
         "52",
         "0.06666666666666665",
         "0.15859030837004415",
         "0.17429193899782142",
         "0.35694822888283395",
         "0.3392857142857144",
         "0.2608695652173913",
         "1.0",
         "0.16666666666666666",
         "0.2857142857142857"
        ],
        [
         "53",
         "0.011111111111111086",
         "0.044052863436123406",
         "0.04575163398692808",
         "0.2724795640326977",
         "0.464285714285715",
         "0.5217391304347826",
         "0.7499999999999999",
         "0.8333333333333333",
         "0.4285714285714285"
        ],
        [
         "54",
         "0.011111111111111086",
         "0.03964757709251105",
         "0.043572984749455285",
         "0.24523160762942786",
         "0.0535714285714281",
         "0.8695652173913043",
         "0.7499999999999999",
         "1.0",
         "0.4285714285714285"
        ],
        [
         "55",
         "0.05555555555555552",
         "0.12555066079295157",
         "0.14161220043572983",
         "0.33242506811989103",
         "0.35714285714285754",
         "0.608695652173913",
         "1.0",
         "0.16666666666666666",
         "0.14285714285714285"
        ]
       ],
       "shape": {
        "columns": 9,
        "rows": 46532
       }
      },
      "text/html": [
       "<div>\n",
       "<style scoped>\n",
       "    .dataframe tbody tr th:only-of-type {\n",
       "        vertical-align: middle;\n",
       "    }\n",
       "\n",
       "    .dataframe tbody tr th {\n",
       "        vertical-align: top;\n",
       "    }\n",
       "\n",
       "    .dataframe thead th {\n",
       "        text-align: right;\n",
       "    }\n",
       "</style>\n",
       "<table border=\"1\" class=\"dataframe\">\n",
       "  <thead>\n",
       "    <tr style=\"text-align: right;\">\n",
       "      <th></th>\n",
       "      <th>carat</th>\n",
       "      <th>x</th>\n",
       "      <th>y</th>\n",
       "      <th>z</th>\n",
       "      <th>depth</th>\n",
       "      <th>table</th>\n",
       "      <th>cut</th>\n",
       "      <th>color</th>\n",
       "      <th>clarity</th>\n",
       "    </tr>\n",
       "  </thead>\n",
       "  <tbody>\n",
       "    <tr>\n",
       "      <th>0</th>\n",
       "      <td>0.016667</td>\n",
       "      <td>0.048458</td>\n",
       "      <td>0.065359</td>\n",
       "      <td>0.277929</td>\n",
       "      <td>0.446429</td>\n",
       "      <td>0.260870</td>\n",
       "      <td>1.00</td>\n",
       "      <td>0.833333</td>\n",
       "      <td>0.142857</td>\n",
       "    </tr>\n",
       "    <tr>\n",
       "      <th>1</th>\n",
       "      <td>0.005556</td>\n",
       "      <td>0.035242</td>\n",
       "      <td>0.034858</td>\n",
       "      <td>0.245232</td>\n",
       "      <td>0.142857</td>\n",
       "      <td>0.782609</td>\n",
       "      <td>0.75</td>\n",
       "      <td>0.833333</td>\n",
       "      <td>0.285714</td>\n",
       "    </tr>\n",
       "    <tr>\n",
       "      <th>3</th>\n",
       "      <td>0.050000</td>\n",
       "      <td>0.103524</td>\n",
       "      <td>0.119826</td>\n",
       "      <td>0.332425</td>\n",
       "      <td>0.607143</td>\n",
       "      <td>0.521739</td>\n",
       "      <td>0.75</td>\n",
       "      <td>0.166667</td>\n",
       "      <td>0.428571</td>\n",
       "    </tr>\n",
       "    <tr>\n",
       "      <th>4</th>\n",
       "      <td>0.061111</td>\n",
       "      <td>0.134361</td>\n",
       "      <td>0.145969</td>\n",
       "      <td>0.365123</td>\n",
       "      <td>0.767857</td>\n",
       "      <td>0.521739</td>\n",
       "      <td>0.25</td>\n",
       "      <td>0.000000</td>\n",
       "      <td>0.142857</td>\n",
       "    </tr>\n",
       "    <tr>\n",
       "      <th>5</th>\n",
       "      <td>0.022222</td>\n",
       "      <td>0.046256</td>\n",
       "      <td>0.061002</td>\n",
       "      <td>0.291553</td>\n",
       "      <td>0.678571</td>\n",
       "      <td>0.434783</td>\n",
       "      <td>0.50</td>\n",
       "      <td>0.000000</td>\n",
       "      <td>0.714286</td>\n",
       "    </tr>\n",
       "    <tr>\n",
       "      <th>...</th>\n",
       "      <td>...</td>\n",
       "      <td>...</td>\n",
       "      <td>...</td>\n",
       "      <td>...</td>\n",
       "      <td>...</td>\n",
       "      <td>...</td>\n",
       "      <td>...</td>\n",
       "      <td>...</td>\n",
       "      <td>...</td>\n",
       "    </tr>\n",
       "    <tr>\n",
       "      <th>53935</th>\n",
       "      <td>0.288889</td>\n",
       "      <td>0.444934</td>\n",
       "      <td>0.453159</td>\n",
       "      <td>0.569482</td>\n",
       "      <td>0.321429</td>\n",
       "      <td>0.434783</td>\n",
       "      <td>1.00</td>\n",
       "      <td>1.000000</td>\n",
       "      <td>0.285714</td>\n",
       "    </tr>\n",
       "    <tr>\n",
       "      <th>53936</th>\n",
       "      <td>0.288889</td>\n",
       "      <td>0.431718</td>\n",
       "      <td>0.450980</td>\n",
       "      <td>0.599455</td>\n",
       "      <td>0.732143</td>\n",
       "      <td>0.260870</td>\n",
       "      <td>0.25</td>\n",
       "      <td>1.000000</td>\n",
       "      <td>0.285714</td>\n",
       "    </tr>\n",
       "    <tr>\n",
       "      <th>53937</th>\n",
       "      <td>0.277778</td>\n",
       "      <td>0.425110</td>\n",
       "      <td>0.435730</td>\n",
       "      <td>0.585831</td>\n",
       "      <td>0.678571</td>\n",
       "      <td>0.695652</td>\n",
       "      <td>0.50</td>\n",
       "      <td>1.000000</td>\n",
       "      <td>0.285714</td>\n",
       "    </tr>\n",
       "    <tr>\n",
       "      <th>53938</th>\n",
       "      <td>0.366667</td>\n",
       "      <td>0.533040</td>\n",
       "      <td>0.531590</td>\n",
       "      <td>0.634877</td>\n",
       "      <td>0.357143</td>\n",
       "      <td>0.521739</td>\n",
       "      <td>0.75</td>\n",
       "      <td>0.333333</td>\n",
       "      <td>0.142857</td>\n",
       "    </tr>\n",
       "    <tr>\n",
       "      <th>53939</th>\n",
       "      <td>0.305556</td>\n",
       "      <td>0.462555</td>\n",
       "      <td>0.477124</td>\n",
       "      <td>0.607629</td>\n",
       "      <td>0.571429</td>\n",
       "      <td>0.260870</td>\n",
       "      <td>1.00</td>\n",
       "      <td>1.000000</td>\n",
       "      <td>0.142857</td>\n",
       "    </tr>\n",
       "  </tbody>\n",
       "</table>\n",
       "<p>46532 rows × 9 columns</p>\n",
       "</div>"
      ],
      "text/plain": [
       "          carat         x         y         z     depth     table   cut  \\\n",
       "0      0.016667  0.048458  0.065359  0.277929  0.446429  0.260870  1.00   \n",
       "1      0.005556  0.035242  0.034858  0.245232  0.142857  0.782609  0.75   \n",
       "3      0.050000  0.103524  0.119826  0.332425  0.607143  0.521739  0.75   \n",
       "4      0.061111  0.134361  0.145969  0.365123  0.767857  0.521739  0.25   \n",
       "5      0.022222  0.046256  0.061002  0.291553  0.678571  0.434783  0.50   \n",
       "...         ...       ...       ...       ...       ...       ...   ...   \n",
       "53935  0.288889  0.444934  0.453159  0.569482  0.321429  0.434783  1.00   \n",
       "53936  0.288889  0.431718  0.450980  0.599455  0.732143  0.260870  0.25   \n",
       "53937  0.277778  0.425110  0.435730  0.585831  0.678571  0.695652  0.50   \n",
       "53938  0.366667  0.533040  0.531590  0.634877  0.357143  0.521739  0.75   \n",
       "53939  0.305556  0.462555  0.477124  0.607629  0.571429  0.260870  1.00   \n",
       "\n",
       "          color   clarity  \n",
       "0      0.833333  0.142857  \n",
       "1      0.833333  0.285714  \n",
       "3      0.166667  0.428571  \n",
       "4      0.000000  0.142857  \n",
       "5      0.000000  0.714286  \n",
       "...         ...       ...  \n",
       "53935  1.000000  0.285714  \n",
       "53936  1.000000  0.285714  \n",
       "53937  1.000000  0.285714  \n",
       "53938  0.333333  0.142857  \n",
       "53939  1.000000  0.142857  \n",
       "\n",
       "[46532 rows x 9 columns]"
      ]
     },
     "execution_count": 10,
     "metadata": {},
     "output_type": "execute_result"
    }
   ],
   "source": [
    "def normalise(data: NDArray[np.float64]) -> NDArray[np.float64]:\n",
    "    \"\"\"\n",
    "    Normalise the dataset to range [0, 1].\n",
    "\n",
    "    Args:\n",
    "        data: A 2D NumPy array where each column is a feature.\n",
    "\n",
    "    Returns:\n",
    "        Normalised dataset.\n",
    "    \"\"\"\n",
    "    min_val = np.min(data, axis=0)\n",
    "    max_val = np.max(data, axis=0)\n",
    "    return (data - min_val) / (max_val - min_val)\n",
    "\n",
    "\n",
    "df[continuous_features] = normalise(df[continuous_features].values)\n",
    "df[continuous_features]"
   ]
  },
  {
   "cell_type": "markdown",
   "id": "f3fc2312",
   "metadata": {},
   "source": [
    "## 4. Distance Calculation\n",
    "### Euclidean Distance\n",
    "Euclidean distance is the most widely used distance metric in KNN algorithms, which measures the shortest distance between two points as a straight line in multi-dimensional space.\n",
    "\n",
    "\\begin{align*}\n",
    "\\sqrt{\\sum_{i=1}^{n} (a_i - b_i)^2}\n",
    "\\end{align*}"
   ]
  },
  {
   "cell_type": "code",
   "execution_count": 11,
   "id": "e8f04c47",
   "metadata": {},
   "outputs": [],
   "source": [
    "# Calculate Eucliean Distance\n",
    "def calculate_euclidean(a: float, b: float) -> float:\n",
    "    return np.sqrt(np.sum((a - b) ** 2))"
   ]
  },
  {
   "cell_type": "markdown",
   "id": "6718b9ff",
   "metadata": {},
   "source": [
    "## 5. Train Test Split\n",
    "Train test split is a fundamental model validation technique in machine learning. It divides a dataset into two separate portions: a **training set** used to train a model, and a **testing set** used to evaluate how well the model can perform on unseen data. \n",
    "\n",
    "The typical split ratio is 80% for training and 20% for testing, though this can vary (70/30 or 90/10 are also common). The key principle is that the test set must remain completely separated during model training process, and should never be used to make decisions about the model or tune parameters. \n",
    "\n",
    "The split is usually done randomly to ensure both sets are representative of the overall dataset, and many libraries (such as scikit-learn) provide build-in functions that handle this process automatically while maintaining proper randomisation."
   ]
  },
  {
   "cell_type": "code",
   "execution_count": null,
   "id": "3aff23c4",
   "metadata": {},
   "outputs": [],
   "source": [
    "def train_test_split(X: pd.DataFrame, y: pd.Series, test_size: float = 0.2,\n",
    "                     random_state: int = None) -> Tuple[pd.DataFrame, pd.DataFrame, pd.Series, pd.Series]:\n",
    "    \"\"\"\n",
    "    Split arrays or matrices into random train and test subsets.\n",
    "\n",
    "    Args:\n",
    "        X: Input features, a 2D array with rows (samples) and columns (features).\n",
    "        y: Target values/labels, a 1D array with rows (samples).\n",
    "        test_size: Proportion of the dataset to include in the test split. Must be between 0.0 and 1.0. default = 0.2\n",
    "        random_state: Seed for the random number generator to ensure reproducible results. default = None\n",
    "\n",
    "    Returns:\n",
    "        A tuple containing:\n",
    "            - X_train: Training set features.\n",
    "            - X_test: Testing set features.\n",
    "            - y_train: Training set target values.\n",
    "            - y_test: Testing set target values.\n",
    "    \"\"\"\n",
    "    # Set a random seed if it exists\n",
    "    if random_state:\n",
    "        np.random.seed(random_state)\n",
    "\n",
    "    # Create a list of numbers from 0 to len(X)\n",
    "    indices = np.arange(len(X))\n",
    "\n",
    "    # Shuffle the indices\n",
    "    np.random.shuffle(indices)\n",
    "\n",
    "    # Define the size of our test data from len(X)\n",
    "    test_size = int(test_size * len(X))\n",
    "\n",
    "    # Generate indices for test and train data\n",
    "    test_indices: NDArray[np.int64] = indices[:test_size]\n",
    "    train_indices: NDArray[np.int64] = indices[test_size:]\n",
    "\n",
    "    # Return: X_train, X_test, y_train, y_test\n",
    "    return X.iloc[train_indices], X.iloc[test_indices], y.iloc[train_indices], y.iloc[test_indices]"
   ]
  },
  {
   "cell_type": "markdown",
   "id": "cf00f176",
   "metadata": {},
   "source": [
    "## 6. Model Encapsulation"
   ]
  },
  {
   "cell_type": "code",
   "execution_count": null,
   "id": "bd46716e",
   "metadata": {},
   "outputs": [],
   "source": [
    "class CustomKNNRegressor:\n",
    "    \"\"\"\n",
    "    A simple K-Nearest Neighbours (KNN) regressor.\n",
    "    \"\"\"\n",
    "\n",
    "    def __init__(self, k: int = 3) -> None:\n",
    "        \"\"\"\n",
    "        Initialise the model with k, the number of neighbours.\n",
    "\n",
    "        Args: \n",
    "            k: The number of nearest neighbours to consider for classification. default = 3.\n",
    "        \"\"\"\n",
    "        self.k = k\n",
    "\n",
    "    def fit(self, X_train: pd.DataFrame, y_train: pd.Series) -> None:\n",
    "        \"\"\"\n",
    "        Fit the training data.\n",
    "\n",
    "        Args:\n",
    "            X_train: Training features, pd.DataFrame with rows (samples) and columns (features).\n",
    "            y_train: Training labels, pd.Series of labels corresponding to X_train.\n",
    "        \"\"\"\n",
    "        self.X_train = X_train.values\n",
    "        self.y_train = y_train.values\n",
    "\n",
    "    def predict(self, X_test: pd.DataFrame) -> NDArray[np.float64]:\n",
    "        \"\"\"\n",
    "        Predict the labels for X_test.\n",
    "\n",
    "        Args:\n",
    "            X_test: Test features, a 2D array with rows (samples) and columns (features).\n",
    "\n",
    "        Returns:\n",
    "            Predicted target values for each test sample.\n",
    "        \"\"\"\n",
    "\n",
    "        # Ensure input is 2D\n",
    "        if X_test.ndim == 1:\n",
    "            X_test = X_test.reshape(1, -1)\n",
    "\n",
    "        # Compute distances\n",
    "        # ! Use scipy library for faster computation of Euclidean distance\n",
    "        distances = cdist(X_test, self.X_train, metric='euclidean')\n",
    "\n",
    "        # Find indices of k nearest neighbours for each test sample\n",
    "        idx = np.argpartition(distances, kth=self.k-1, axis=1)[:, :self.k]\n",
    "\n",
    "        # Gather the corresponding y_train values and compute their mean\n",
    "        predictions = np.mean(self.y_train[idx], axis=1)\n",
    "        return predictions"
   ]
  },
  {
   "cell_type": "markdown",
   "id": "e3de3633",
   "metadata": {},
   "source": [
    "## 7. Model Evaluation\n",
    "\n",
    "\n",
    "### Mean Squared Error (MSE)\n",
    "Mean Squared Error measures the average squared difference between predicted ($\\hat y$) and actual ($y$) values. Large errors are penalised heavily. Smaller MSE indicates better predictions.\n",
    "\n",
    "\\begin{align*}\n",
    "MSE = \\dfrac{1}{n} \\sum_{i=1}^{n}(\\hat y_{i} = y_{i})^2\n",
    "\\end{align*}\n"
   ]
  },
  {
   "cell_type": "code",
   "execution_count": 14,
   "id": "5ae35e60",
   "metadata": {},
   "outputs": [],
   "source": [
    "def calculate_MSE(y_true: pd.Series, y_pred: NDArray[np.float64]) -> float:\n",
    "    return np.mean((y_true - y_pred) ** 2)"
   ]
  },
  {
   "cell_type": "markdown",
   "id": "df8994af",
   "metadata": {},
   "source": [
    "### Root Mean Squared Error (RMSE)\n",
    "Square root of MSE. It provides error in the same unit as the target variable ($y$) and easier to interpret.\n",
    "\n",
    "\\begin{align*}\n",
    "RMSE = \\sqrt{(MSE)}\n",
    "\\end{align*}"
   ]
  },
  {
   "cell_type": "code",
   "execution_count": 15,
   "id": "a84a84e5",
   "metadata": {},
   "outputs": [],
   "source": [
    "def calculate_RMSE(y_true: pd.Series, y_pred: NDArray[np.float64]) -> float:\n",
    "    return np.sqrt(np.mean((y_true - y_pred) ** 2))"
   ]
  },
  {
   "cell_type": "markdown",
   "id": "04cadcf5",
   "metadata": {},
   "source": [
    "### Mean Absolute Error (MAE)\n",
    "Mean Absolute Error measures the average absolute difference between predicted ($\\hat y$) and actual ($y$) values. It is less sensitive to outliers than MSE. Smaller MAE indicates better predictions.\n",
    "\n",
    "\\begin{align*}\n",
    "MAE = \\dfrac{1}{n} \\sum_{i=1}^{n}|\\hat y_{i} = y_{i}|\n",
    "\\end{align*}"
   ]
  },
  {
   "cell_type": "code",
   "execution_count": 16,
   "id": "1077cb7f",
   "metadata": {},
   "outputs": [],
   "source": [
    "def calculate_MAE(y_true: pd.Series, y_pred: NDArray[np.float64]) -> float:\n",
    "    return np.mean(np.abs(y_true - y_pred))"
   ]
  },
  {
   "cell_type": "markdown",
   "id": "828b184e",
   "metadata": {},
   "source": [
    "<a id=\"r-squared\"></a>\n",
    "### R-Squared($R^2$)\n",
    "\n",
    "R-squared indicated the proportion of variance in the dependent variable that is predictable from the independent variables. Value ranges from 0 to 1. Closer to 1 indicates a better fit.\n",
    "\n",
    "\n",
    "\n",
    "Residual Sum of Squares ($SS_{residual}$): \n",
    "\\begin{align*}\n",
    "SS_{residual} = \\sum_{i=1}^{n} (y_{i} - \\hat y_{i})^{2}\n",
    "\\end{align*}\n",
    "\n",
    "Total Sum of Squares ($SS_{total}$): \n",
    "\\begin{align*}\n",
    "SS_{total} = \\sum_{i=1}^{n} (y_{i} - \\bar y_{i})^{2}\n",
    "\\end{align*}\n",
    "\n",
    "$R^2$ is computed as:\n",
    "\n",
    "\\begin{align*}\n",
    "\n",
    "R^2 = 1 - \\dfrac{SS_{residual}}{SS_{total}} = 1 - \\dfrac{\\sum_{i=1}^{n} (y_{i} - \\hat y_{i})^{2}}{\\sum_{i=1}^{n} (y_{i} - \\bar y_{i})^{2}}\n",
    "\n",
    "\\end{align*}\n",
    "\n",
    "where:\n",
    "\n",
    "$y$: Actual target values.\n",
    "\n",
    "$\\bar y$: Mean of the actual target values.\n",
    "\n",
    "$\\hat y$: Precicted target values."
   ]
  },
  {
   "cell_type": "code",
   "execution_count": 17,
   "id": "0704c7d6",
   "metadata": {},
   "outputs": [],
   "source": [
    "def calculate_r2(y_true: pd.Series, y_pred: NDArray[np.float64]) -> float:\n",
    "    ss_total = np.sum((y_true - np.mean(y_true)) ** 2)\n",
    "    ss_residual = np.sum((y_true - y_pred) ** 2)\n",
    "    r2 = 1 - (ss_residual / ss_total)\n",
    "    return r2"
   ]
  },
  {
   "cell_type": "code",
   "execution_count": null,
   "id": "1c98655a",
   "metadata": {},
   "outputs": [],
   "source": [
    "def evaluate(y_true: pd.Series, y_pred: NDArray[np.float64]) -> Tuple[float, float, float, float]:\n",
    "    \"\"\"\n",
    "    Calculate and return evaluation metrics for a regression model, including MSE, RMSE, MAE, and R-squared.\n",
    "\n",
    "    Args:\n",
    "        y_true : True target values.\n",
    "        y_pred: Predicted target values.\n",
    "\n",
    "    Returns:\n",
    "        - mse: Mean Squared Error (MSE), indicating the average of the squared differences between predicted and true values.\n",
    "        - rmse: Root Mean Squared Error (RMSE), indicating the standard deviation of the residuals.\n",
    "        - mae: Mean Absolute Error (MAE), representing the average absolute difference between predicted and true values.\n",
    "        - r2: R-squared (coefficient of determination), showing the proportion of variance in the dependent variable that is predictable from the independent variable(s).\n",
    "    \"\"\"\n",
    "    mse = calculate_MSE(y_true, y_pred)\n",
    "    rmse = calculate_RMSE(y_true, y_pred)\n",
    "    mae = calculate_MAE(y_true, y_pred)\n",
    "    r2 = calculate_r2(y_true, y_pred)\n",
    "    return mse, rmse, mae, r2"
   ]
  },
  {
   "cell_type": "markdown",
   "id": "e1e912ed",
   "metadata": {},
   "source": [
    "Let's make predictions using the KNN regressor and evaluate the model's performance with different `k` values ranging from 1 to 20. "
   ]
  },
  {
   "cell_type": "code",
   "execution_count": 19,
   "id": "c73f7cf5",
   "metadata": {},
   "outputs": [
    {
     "name": "stderr",
     "output_type": "stream",
     "text": [
      "  5%|▌         | 1/20 [00:03<01:13,  3.85s/it]"
     ]
    },
    {
     "name": "stdout",
     "output_type": "stream",
     "text": [
      "For k = 1, MSE: 298714.20105308405\n",
      "For k = 1, RMSE: 546.5475286313937\n",
      "For k = 1, MAE: 309.49075865033313\n",
      "For k = 1, R2: 0.9556486536624663\n",
      "-----------\n"
     ]
    },
    {
     "name": "stderr",
     "output_type": "stream",
     "text": [
      " 10%|█         | 2/20 [00:07<01:04,  3.59s/it]"
     ]
    },
    {
     "name": "stdout",
     "output_type": "stream",
     "text": [
      "For k = 2, MSE: 240137.25169245648\n",
      "For k = 2, RMSE: 490.0380104567976\n",
      "For k = 2, MAE: 284.746776273372\n",
      "For k = 2, R2: 0.9643458182409514\n",
      "-----------\n"
     ]
    },
    {
     "name": "stderr",
     "output_type": "stream",
     "text": [
      " 15%|█▌        | 3/20 [00:10<01:01,  3.61s/it]"
     ]
    },
    {
     "name": "stdout",
     "output_type": "stream",
     "text": [
      "For k = 3, MSE: 219599.7442629606\n",
      "For k = 3, RMSE: 468.6147076895481\n",
      "For k = 3, MAE: 274.04437996991186\n",
      "For k = 3, R2: 0.9673951078351658\n",
      "-----------\n"
     ]
    },
    {
     "name": "stderr",
     "output_type": "stream",
     "text": [
      " 20%|██        | 4/20 [00:17<01:19,  4.96s/it]"
     ]
    },
    {
     "name": "stdout",
     "output_type": "stream",
     "text": [
      "For k = 4, MSE: 209304.76005399742\n",
      "For k = 4, RMSE: 457.49837164081515\n",
      "For k = 4, MAE: 268.63923812594027\n",
      "For k = 4, R2: 0.9689236471834174\n",
      "-----------\n"
     ]
    },
    {
     "name": "stderr",
     "output_type": "stream",
     "text": [
      " 25%|██▌       | 5/20 [00:24<01:25,  5.68s/it]"
     ]
    },
    {
     "name": "stdout",
     "output_type": "stream",
     "text": [
      "For k = 5, MSE: 205813.82195142918\n",
      "For k = 5, RMSE: 453.6670827285458\n",
      "For k = 5, MAE: 266.8022995916613\n",
      "For k = 5, R2: 0.9694419613589205\n",
      "-----------\n"
     ]
    },
    {
     "name": "stderr",
     "output_type": "stream",
     "text": [
      " 30%|███       | 6/20 [00:31<01:25,  6.13s/it]"
     ]
    },
    {
     "name": "stdout",
     "output_type": "stream",
     "text": [
      "For k = 6, MSE: 205029.19210724265\n",
      "For k = 6, RMSE: 452.8014930488223\n",
      "For k = 6, MAE: 266.66818898201876\n",
      "For k = 6, R2: 0.9695584586323799\n",
      "-----------\n"
     ]
    },
    {
     "name": "stderr",
     "output_type": "stream",
     "text": [
      " 35%|███▌      | 7/20 [00:38<01:23,  6.41s/it]"
     ]
    },
    {
     "name": "stdout",
     "output_type": "stream",
     "text": [
      "For k = 7, MSE: 204023.47837471546\n",
      "For k = 7, RMSE: 451.68958187533553\n",
      "For k = 7, MAE: 265.1321727917473\n",
      "For k = 7, R2: 0.9697077811550804\n",
      "-----------\n"
     ]
    },
    {
     "name": "stderr",
     "output_type": "stream",
     "text": [
      " 40%|████      | 8/20 [00:45<01:19,  6.64s/it]"
     ]
    },
    {
     "name": "stdout",
     "output_type": "stream",
     "text": [
      "For k = 8, MSE: 203625.01292512895\n",
      "For k = 8, RMSE: 451.24828301626695\n",
      "For k = 8, MAE: 264.3628841607565\n",
      "For k = 8, R2: 0.969766942986342\n",
      "-----------\n"
     ]
    },
    {
     "name": "stderr",
     "output_type": "stream",
     "text": [
      " 45%|████▌     | 9/20 [00:52<01:14,  6.74s/it]"
     ]
    },
    {
     "name": "stdout",
     "output_type": "stream",
     "text": [
      "For k = 9, MSE: 203553.31451897486\n",
      "For k = 9, RMSE: 451.16883150210504\n",
      "For k = 9, MAE: 264.7386154691119\n",
      "For k = 9, R2: 0.9697775883484707\n",
      "-----------\n"
     ]
    },
    {
     "name": "stderr",
     "output_type": "stream",
     "text": [
      " 50%|█████     | 10/20 [00:59<01:08,  6.80s/it]"
     ]
    },
    {
     "name": "stdout",
     "output_type": "stream",
     "text": [
      "For k = 10, MSE: 204608.8792488717\n",
      "For k = 10, RMSE: 452.3371300798462\n",
      "For k = 10, MAE: 265.7672576832151\n",
      "For k = 10, R2: 0.9696208642397665\n",
      "-----------\n"
     ]
    },
    {
     "name": "stderr",
     "output_type": "stream",
     "text": [
      " 55%|█████▌    | 11/20 [01:06<01:01,  6.86s/it]"
     ]
    },
    {
     "name": "stdout",
     "output_type": "stream",
     "text": [
      "For k = 11, MSE: 203100.07906211758\n",
      "For k = 11, RMSE: 450.66626128668383\n",
      "For k = 11, MAE: 265.38968016724306\n",
      "For k = 11, R2: 0.9698448821117022\n",
      "-----------\n"
     ]
    },
    {
     "name": "stderr",
     "output_type": "stream",
     "text": [
      " 60%|██████    | 12/20 [01:13<00:55,  6.91s/it]"
     ]
    },
    {
     "name": "stdout",
     "output_type": "stream",
     "text": [
      "For k = 12, MSE: 204767.6315049132\n",
      "For k = 12, RMSE: 452.51257607376306\n",
      "For k = 12, MAE: 266.47959201948566\n",
      "For k = 12, R2: 0.9695972936285778\n",
      "-----------\n"
     ]
    },
    {
     "name": "stderr",
     "output_type": "stream",
     "text": [
      " 65%|██████▌   | 13/20 [01:20<00:48,  6.92s/it]"
     ]
    },
    {
     "name": "stdout",
     "output_type": "stream",
     "text": [
      "For k = 13, MSE: 203051.8692031736\n",
      "For k = 13, RMSE: 450.61277079458546\n",
      "For k = 13, MAE: 265.59703417150223\n",
      "For k = 13, R2: 0.9698520400310222\n",
      "-----------\n"
     ]
    },
    {
     "name": "stderr",
     "output_type": "stream",
     "text": [
      " 70%|███████   | 14/20 [01:27<00:41,  6.95s/it]"
     ]
    },
    {
     "name": "stdout",
     "output_type": "stream",
     "text": [
      "For k = 14, MSE: 203437.60873388685\n",
      "For k = 14, RMSE: 451.0405843534336\n",
      "For k = 14, MAE: 266.4262687666943\n",
      "For k = 14, R2: 0.969794767670142\n",
      "-----------\n"
     ]
    },
    {
     "name": "stderr",
     "output_type": "stream",
     "text": [
      " 75%|███████▌  | 15/20 [01:35<00:35,  7.01s/it]"
     ]
    },
    {
     "name": "stdout",
     "output_type": "stream",
     "text": [
      "For k = 15, MSE: 204410.95535449055\n",
      "For k = 15, RMSE: 452.1182979646926\n",
      "For k = 15, MAE: 266.88835160111756\n",
      "For k = 15, R2: 0.9696502508278739\n",
      "-----------\n"
     ]
    },
    {
     "name": "stderr",
     "output_type": "stream",
     "text": [
      " 80%|████████  | 16/20 [01:42<00:28,  7.01s/it]"
     ]
    },
    {
     "name": "stdout",
     "output_type": "stream",
     "text": [
      "For k = 16, MSE: 205121.05385596323\n",
      "For k = 16, RMSE: 452.90291879823786\n",
      "For k = 16, MAE: 266.95323581560285\n",
      "For k = 16, R2: 0.9695448195344786\n",
      "-----------\n"
     ]
    },
    {
     "name": "stderr",
     "output_type": "stream",
     "text": [
      " 85%|████████▌ | 17/20 [01:48<00:20,  7.00s/it]"
     ]
    },
    {
     "name": "stdout",
     "output_type": "stream",
     "text": [
      "For k = 17, MSE: 205933.20177442543\n",
      "For k = 17, RMSE: 453.7986357123889\n",
      "For k = 17, MAE: 267.6257253384913\n",
      "For k = 17, R2: 0.96942423653748\n",
      "-----------\n"
     ]
    },
    {
     "name": "stderr",
     "output_type": "stream",
     "text": [
      " 90%|█████████ | 18/20 [01:56<00:14,  7.01s/it]"
     ]
    },
    {
     "name": "stdout",
     "output_type": "stream",
     "text": [
      "For k = 18, MSE: 206886.5043231766\n",
      "For k = 18, RMSE: 454.84778148648434\n",
      "For k = 18, MAE: 268.17918547173866\n",
      "For k = 18, R2: 0.9692826957223628\n",
      "-----------\n"
     ]
    },
    {
     "name": "stderr",
     "output_type": "stream",
     "text": [
      " 95%|█████████▌| 19/20 [02:03<00:07,  7.02s/it]"
     ]
    },
    {
     "name": "stdout",
     "output_type": "stream",
     "text": [
      "For k = 19, MSE: 208580.9374439271\n",
      "For k = 19, RMSE: 456.70662075771037\n",
      "For k = 19, MAE: 269.11484950286746\n",
      "For k = 19, R2: 0.969031116152596\n",
      "-----------\n"
     ]
    },
    {
     "name": "stderr",
     "output_type": "stream",
     "text": [
      "100%|██████████| 20/20 [02:10<00:00,  6.51s/it]"
     ]
    },
    {
     "name": "stdout",
     "output_type": "stream",
     "text": [
      "For k = 20, MSE: 209286.28611352888\n",
      "For k = 20, RMSE: 457.4781810245478\n",
      "For k = 20, MAE: 269.8188749194069\n",
      "For k = 20, R2: 0.9689263900865973\n",
      "-----------\n"
     ]
    },
    {
     "name": "stderr",
     "output_type": "stream",
     "text": [
      "\n"
     ]
    }
   ],
   "source": [
    "MSE_list_custom, RMSE_list_custom, MAE_list_custom, R2_list_custom = [], [], [], []\n",
    "X = df.drop(columns=['price'])\n",
    "y = df['price']\n",
    "k_range = range(1, 21)  # Generate k-values from 1 to 20\n",
    "\n",
    "# Split data\n",
    "X_train, X_test, y_train, y_test = train_test_split(\n",
    "    X, y, test_size=0.2, random_state=42)\n",
    "\n",
    "# Train KNN regressor, make predictions and evaluate the model for different k values.\n",
    "for k in tqdm(k_range):\n",
    "    knn_reg = CustomKNNRegressor(k=k)\n",
    "    knn_reg.fit(X_train, y_train)\n",
    "    y_pred = knn_reg.predict(X_test)\n",
    "\n",
    "    mse_custom, rmse_custom, mae_custom, r2_custom = evaluate(y_test, y_pred)\n",
    "    print(f\"For k = {k}, MSE: {mse_custom}\")\n",
    "    print(f\"For k = {k}, RMSE: {rmse_custom}\")\n",
    "    print(f\"For k = {k}, MAE: {mae_custom}\")\n",
    "    print(f\"For k = {k}, R2: {r2_custom}\")\n",
    "    print(\"-----------\")\n",
    "    MSE_list_custom.append(mse_custom)\n",
    "    RMSE_list_custom.append(rmse_custom)\n",
    "    MAE_list_custom.append(mae_custom)\n",
    "    R2_list_custom.append(r2_custom)"
   ]
  },
  {
   "cell_type": "code",
   "execution_count": 20,
   "id": "00e4c461",
   "metadata": {},
   "outputs": [
    {
     "name": "stdout",
     "output_type": "stream",
     "text": [
      "Predicted value: 3447.7\n"
     ]
    }
   ],
   "source": [
    "x_single_2d = X_test.iloc[0]\n",
    "\n",
    "y_pred = knn_reg.predict(x_single_2d.values)\n",
    "y_pred_scalar = y_pred[0]\n",
    "print(\"Predicted value:\", y_pred_scalar)"
   ]
  },
  {
   "cell_type": "code",
   "execution_count": 21,
   "id": "dfbf6b69",
   "metadata": {},
   "outputs": [
    {
     "data": {
      "image/png": "[encoded data removed]",
      "text/plain": [
       "<Figure size 1200x800 with 4 Axes>"
      ]
     },
     "metadata": {},
     "output_type": "display_data"
    }
   ],
   "source": [
    "fig, axes = plt.subplots(ncols=2, nrows=2, figsize=(12, 8))\n",
    "\n",
    "# MSE\n",
    "axes[0][0].plot(k_range, MSE_list_custom, marker='o')\n",
    "axes[0][0].set_title('Mean Squared Error vs k')\n",
    "axes[0][0].set_xticks(k_range)\n",
    "axes[0][0].set_xlabel('k')\n",
    "axes[0][0].set_ylabel('MSE')\n",
    "axes[0][0].grid(True)\n",
    "\n",
    "# RMSE\n",
    "axes[0][1].plot(k_range, RMSE_list_custom, marker='o')\n",
    "axes[0][1].set_title('Root Mean Squared Error vs k')\n",
    "axes[0][1].set_xticks(k_range)\n",
    "axes[0][1].set_xlabel('k')\n",
    "axes[0][1].set_ylabel('RMSE')\n",
    "axes[0][1].grid(True)\n",
    "\n",
    "# MAE\n",
    "axes[1][0].plot(k_range, MAE_list_custom, marker='o')\n",
    "axes[1][0].set_title('Mean Absolute Error vs k')\n",
    "axes[1][0].set_xticks(k_range)\n",
    "axes[1][0].set_xlabel('k')\n",
    "axes[1][0].set_ylabel('MAE')\n",
    "axes[1][0].grid(True)\n",
    "\n",
    "# R2\n",
    "axes[1][1].plot(k_range, R2_list_custom, marker='o')\n",
    "axes[1][1].set_title('R-Squared vs k')\n",
    "axes[1][1].set_xticks(k_range)\n",
    "axes[1][1].set_xlabel('k')\n",
    "axes[1][1].set_ylabel('R2')\n",
    "axes[1][1].grid(True)\n",
    "plt.tight_layout()\n",
    "plt.show()"
   ]
  },
  {
   "cell_type": "markdown",
   "id": "31ae243d",
   "metadata": {},
   "source": [
    "After conducting evaluations across all `k` values from 1 to 20, our analysis reveals that `k = 11` produces the most favourable results overall. This configuration achieves an MSE of 203106.14, RMSE of 450.67, MAE of 265.39, and an R-squared value of 0.9698 among the tested hyperparameters.\n",
    "\n",
    "While `k = 13` shows marginally better MSE and RMSE values, `k = 11` offers superior generalisation with excellent predictive accuracy and represents the optimal balance between model complexity and performance. The minimal performance difference between `k = 11` and `k = 13` (less than 0.03% in MSE) suggests that `k = 11` provides the best trade-off between bias and variance while avoiding potential overfitting concerns.\n",
    "\n",
    "***\n",
    "1. Low k:\n",
    "\n",
    "The model captures individual neighbours' values, resulting in predictions that closely match the actual values. This leads to very low errors (MSE and RMSE).\n",
    "However, such models are prone to overfitting as they may also capture noise in the data.\n",
    "\n",
    "2. High k:\n",
    "\n",
    "The model averages the target values of more neighbours. While this smoothens the predictions and reduces overfitting, it also leads to underfitting, especially when the data has local variations.\n",
    "\n",
    "As k increases further, the model loses its ability to adapt to smaller-scale patterns, resulting in larger prediction errors and increasing MSE and RMSE.\n",
    "\n",
    "3. Extreme Case (k = n):\n",
    "\n",
    "If k equals the total number of data points, the prediction will be the same for all test points (the average target value of the dataset). This causes maximum underfitting and leads to higher errors."
   ]
  },
  {
   "cell_type": "markdown",
   "id": "015ce2cc",
   "metadata": {},
   "source": [
    "## 8. Comparison with Scikit-Learn"
   ]
  },
  {
   "cell_type": "code",
   "execution_count": 22,
   "id": "28dfbf60",
   "metadata": {},
   "outputs": [
    {
     "name": "stdout",
     "output_type": "stream",
     "text": [
      "For k = 1, MSE: 298619.962389856\n",
      "For k = 1, RMSE: 546.4613091426107\n",
      "For k = 1, MAE: 309.46679561573177\n",
      "For k = 1, R2: 0.9556626456708023\n",
      "-----------\n",
      "For k = 2, MSE: 240113.19632495166\n",
      "For k = 2, RMSE: 490.013465452687\n",
      "For k = 2, MAE: 284.67988394584137\n",
      "For k = 2, R2: 0.964349389841939\n",
      "-----------\n",
      "For k = 3, MSE: 219590.38677555698\n",
      "For k = 3, RMSE: 468.60472338161185\n",
      "For k = 3, MAE: 274.0311626907372\n",
      "For k = 3, R2: 0.9673964971804437\n",
      "-----------\n",
      "For k = 4, MSE: 209318.32693960884\n",
      "For k = 4, RMSE: 457.51319865071525\n",
      "For k = 4, MAE: 268.6651622609069\n",
      "For k = 4, R2: 0.9689216328511883\n",
      "-----------\n",
      "For k = 5, MSE: 205814.10169782938\n",
      "For k = 5, RMSE: 453.66739104527824\n",
      "For k = 5, MAE: 266.80073071136894\n",
      "For k = 5, R2: 0.9694419198238029\n",
      "-----------\n",
      "For k = 6, MSE: 205033.1376710366\n",
      "For k = 6, RMSE: 452.8058498639749\n",
      "For k = 6, MAE: 266.670427681066\n",
      "For k = 6, R2: 0.9695578728180272\n",
      "-----------\n",
      "For k = 7, MSE: 204026.67064478918\n",
      "For k = 7, RMSE: 451.693115560542\n",
      "For k = 7, MAE: 265.12078229099507\n",
      "For k = 7, R2: 0.9697073071853959\n",
      "-----------\n",
      "For k = 8, MSE: 203627.55362803568\n",
      "For k = 8, RMSE: 451.25109820147327\n",
      "For k = 8, MAE: 264.36334085536214\n",
      "For k = 8, R2: 0.9697665657575589\n",
      "-----------\n",
      "For k = 9, MSE: 203559.1458517404\n",
      "For k = 9, RMSE: 451.17529392880147\n",
      "For k = 9, MAE: 264.74294959046733\n",
      "For k = 9, R2: 0.9697767225461146\n",
      "-----------\n",
      "For k = 10, MSE: 204611.43352460777\n",
      "For k = 10, RMSE: 452.33995349140645\n",
      "For k = 10, MAE: 265.76185256823555\n",
      "For k = 10, R2: 0.9696204849957687\n",
      "-----------\n",
      "For k = 11, MSE: 203098.50913566828\n",
      "For k = 11, RMSE: 450.6645194994479\n",
      "For k = 11, MAE: 265.39339233729953\n",
      "For k = 11, R2: 0.9698451152052459\n",
      "-----------\n",
      "For k = 12, MSE: 204769.98276201732\n",
      "For k = 12, RMSE: 452.5151740682486\n",
      "For k = 12, MAE: 266.4847947560713\n",
      "For k = 12, R2: 0.9695969445276051\n",
      "-----------\n",
      "For k = 13, MSE: 203062.40736205055\n",
      "For k = 13, RMSE: 450.62446378559\n",
      "For k = 13, MAE: 265.6035973482782\n",
      "For k = 13, R2: 0.9698504753865144\n",
      "-----------\n",
      "For k = 14, MSE: 203439.9503770883\n",
      "For k = 14, RMSE: 451.0431801691367\n",
      "For k = 14, MAE: 266.42942341346594\n",
      "For k = 14, R2: 0.9697944199965857\n",
      "-----------\n",
      "For k = 15, MSE: 204412.52305131697\n",
      "For k = 15, RMSE: 452.1200316855215\n",
      "For k = 15, MAE: 266.88965541944265\n",
      "For k = 15, R2: 0.9696500180653717\n",
      "-----------\n",
      "For k = 16, MSE: 205121.78949107096\n",
      "For k = 16, RMSE: 452.9037309308359\n",
      "For k = 16, MAE: 266.9518120030088\n",
      "For k = 16, R2: 0.9695447103116585\n",
      "-----------\n",
      "For k = 17, MSE: 205942.65932683233\n",
      "For k = 17, RMSE: 453.80905602117764\n",
      "For k = 17, MAE: 267.6335570978875\n",
      "For k = 17, R2: 0.9694228323351326\n",
      "-----------\n",
      "For k = 18, MSE: 206886.91099629074\n",
      "For k = 18, RMSE: 454.8482285293532\n",
      "For k = 18, MAE: 268.18023616782483\n",
      "For k = 18, R2: 0.9692826353419053\n",
      "-----------\n",
      "For k = 19, MSE: 208584.06974114338\n",
      "For k = 19, RMSE: 456.7100499673106\n",
      "For k = 19, MAE: 269.11764339927834\n",
      "For k = 19, R2: 0.9690306510873323\n",
      "-----------\n",
      "For k = 20, MSE: 209290.17645363204\n",
      "For k = 20, RMSE: 457.48243294538867\n",
      "For k = 20, MAE: 269.8265581345368\n",
      "For k = 20, R2: 0.9689258124715369\n",
      "-----------\n"
     ]
    },
    {
     "data": {
      "image/png": "[encoded data removed]",
      "text/plain": [
       "<Figure size 1200x800 with 4 Axes>"
      ]
     },
     "metadata": {},
     "output_type": "display_data"
    }
   ],
   "source": [
    "from sklearn.neighbors import KNeighborsRegressor\n",
    "from sklearn.metrics import mean_squared_error, mean_absolute_error\n",
    "\n",
    "MSE_list_sk, RMSE_list_sk, MAE_list_sk, R2_list_sk = [], [], [], []\n",
    "for k in k_range:\n",
    "    # 'metric' is set to \"minkowski\", so p=1 for Manhattan and p=2 for Euclidean\n",
    "    clf = KNeighborsRegressor(n_neighbors=k, p=2)\n",
    "    clf.fit(X_train, y_train)\n",
    "    y_pred = clf.predict(X_test)\n",
    "\n",
    "    # Calculate metrics\n",
    "    mse = mean_squared_error(y_test, y_pred)\n",
    "    rmse = np.sqrt(mse)\n",
    "    mae = mean_absolute_error(y_test, y_pred)\n",
    "    r2 = clf.score(X_test, y_test)\n",
    "\n",
    "    print(f\"For k = {k}, MSE: {mse}\")\n",
    "    print(f\"For k = {k}, RMSE: {rmse}\")\n",
    "    print(f\"For k = {k}, MAE: {mae}\")\n",
    "    print(f\"For k = {k}, R2: {r2}\")\n",
    "    print(\"-----------\")\n",
    "\n",
    "    # Append to lists\n",
    "    MSE_list_sk.append(mse)\n",
    "    RMSE_list_sk.append(rmse)\n",
    "    MAE_list_sk.append(mae)\n",
    "    R2_list_sk.append(r2)\n",
    "\n",
    "# Plot metrics\n",
    "fig, axes = plt.subplots(nrows=2, ncols=2, figsize=(12, 8))\n",
    "\n",
    "# MSE\n",
    "axes[0][0].plot(k_range, MSE_list_custom, marker='o',\n",
    "                color='blue', label='Custom KNN')\n",
    "axes[0][0].plot(k_range, MSE_list_sk, marker='s',\n",
    "                color='red', label='Scikit-learn KNN')\n",
    "axes[0][0].set_title('Mean Squared Error vs k')\n",
    "axes[0][0].set_xlabel('k')\n",
    "axes[0][0].set_ylabel('MSE')\n",
    "axes[0][0].grid(True)\n",
    "axes[0][0].legend()\n",
    "axes[0][0].set_xticks(k_range)\n",
    "\n",
    "# RMSE\n",
    "axes[0][1].plot(k_range, RMSE_list_custom, marker='o',\n",
    "                color='blue', label='Custom KNN')\n",
    "axes[0][1].plot(k_range, RMSE_list_sk, marker='s',\n",
    "                color='red', label='Scikit-learn KNN')\n",
    "axes[0][1].set_title('Root Mean Squared Error vs k')\n",
    "axes[0][1].set_xlabel('k')\n",
    "axes[0][1].set_ylabel('RMSE')\n",
    "axes[0][1].grid(True)\n",
    "axes[0][1].legend()\n",
    "axes[0][1].set_xticks(k_range)\n",
    "\n",
    "# MAE\n",
    "axes[1][0].plot(k_range, MAE_list_custom, marker='o',\n",
    "                color='blue', label='Custom KNN')\n",
    "axes[1][0].plot(k_range, MAE_list_sk, marker='s',\n",
    "                color='red', label='Scikit-learn KNN')\n",
    "axes[1][0].set_title('Mean Absolute Error vs k')\n",
    "axes[1][0].set_xlabel('k')\n",
    "axes[1][0].set_ylabel('MAE')\n",
    "axes[1][0].grid(True)\n",
    "axes[1][0].legend()\n",
    "axes[1][0].set_xticks(k_range)\n",
    "\n",
    "# R^2\n",
    "axes[1][1].plot(k_range, R2_list_custom, marker='o',\n",
    "                color='blue', label='Custom KNN')\n",
    "axes[1][1].plot(k_range, R2_list_sk, marker='s',\n",
    "                color='red', label='Scikit-learn KNN')\n",
    "axes[1][1].set_title('R-Squared vs k')\n",
    "axes[1][1].set_xlabel('k')\n",
    "axes[1][1].set_ylabel('R2')\n",
    "axes[1][1].grid(True)\n",
    "axes[1][1].legend()\n",
    "axes[1][1].set_xticks(k_range)\n",
    "\n",
    "plt.tight_layout()\n",
    "plt.show()"
   ]
  },
  {
   "cell_type": "markdown",
   "id": "21a89104",
   "metadata": {},
   "source": [
    "The scikit-learn implementation is working correctly and shows nearly identical performance to my custom model. The red lines representing the scikit-learn KNN results overlap the blue lines so closely that they are barely visible, demonstrating the similarity in performance between the two implementations."
   ]
  },
  {
   "cell_type": "code",
   "execution_count": 23,
   "id": "72d7220d",
   "metadata": {},
   "outputs": [
    {
     "name": "stdout",
     "output_type": "stream",
     "text": [
      "The mean absolute difference of MSE between Custom KNN and Scikit-learn is: 9.78\n",
      "The mean percentage difference is: 0.0046%\n",
      "----------\n",
      "The mean absolute difference of RMSE between Custom KNN and Scikit-learn is: 0.01\n",
      "The mean percentage difference is: 0.0021%\n",
      "----------\n",
      "The mean absolute difference of MAE between Custom KNN and Scikit-learn is: 0.01\n",
      "The mean percentage difference is: 0.0036%\n",
      "----------\n",
      "The mean absolute difference of R-Squared between Custom KNN and Scikit-learn is: 0.00\n",
      "The mean percentage difference is: 0.0001%\n"
     ]
    }
   ],
   "source": [
    "MSE_diff = np.mean(np.abs(np.array(MSE_list_custom) - np.array(MSE_list_sk)))\n",
    "MSE_percentage_diff = (MSE_diff / np.mean(MSE_list_sk)) * 100\n",
    "\n",
    "RMSE_diff = np.mean(\n",
    "    np.abs(np.array(RMSE_list_custom) - np.array(RMSE_list_sk)))\n",
    "RMSE_percentage_diff = (RMSE_diff / np.mean(RMSE_list_sk)) * 100\n",
    "\n",
    "MAE_diff = np.mean(np.abs(np.array(MAE_list_custom) - np.array(MAE_list_sk)))\n",
    "MAE_percentage_diff = (MAE_diff / np.mean(MAE_list_sk)) * 100\n",
    "\n",
    "R2_diff = np.mean(np.abs(np.array(R2_list_custom) - np.array(R2_list_sk)))\n",
    "R2_percentage_diff = (R2_diff / np.mean(R2_list_sk)) * 100\n",
    "\n",
    "print(\n",
    "    f\"The mean absolute difference of MSE between Custom KNN and Scikit-learn is: {MSE_diff:.2f}\")\n",
    "print(f\"The mean percentage difference is: {MSE_percentage_diff:.4f}%\")\n",
    "print('----------')\n",
    "print(\n",
    "    f\"The mean absolute difference of RMSE between Custom KNN and Scikit-learn is: {RMSE_diff:.2f}\")\n",
    "print(f\"The mean percentage difference is: {RMSE_percentage_diff:.4f}%\")\n",
    "print('----------')\n",
    "print(\n",
    "    f\"The mean absolute difference of MAE between Custom KNN and Scikit-learn is: {MAE_diff:.2f}\")\n",
    "print(f\"The mean percentage difference is: {MAE_percentage_diff:.4f}%\")\n",
    "print('----------')\n",
    "print(\n",
    "    f\"The mean absolute difference of R-Squared between Custom KNN and Scikit-learn is: {R2_diff:.2f}\")\n",
    "print(f\"The mean percentage difference is: {R2_percentage_diff:.4f}%\")"
   ]
  }
 ],
 "metadata": {
  "kernelspec": {
   "display_name": ".venv",
   "language": "python",
   "name": "python3"
  },
  "language_info": {
   "codemirror_mode": {
    "name": "ipython",
    "version": 3
   },
   "file_extension": ".py",
   "mimetype": "text/x-python",
   "name": "python",
   "nbconvert_exporter": "python",
   "pygments_lexer": "ipython3",
   "version": "3.13.3"
  }
 },
 "nbformat": 4,
 "nbformat_minor": 5
}
