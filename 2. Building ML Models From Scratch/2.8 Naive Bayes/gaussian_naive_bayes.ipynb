{
 "cells": [
  {
   "cell_type": "markdown",
   "id": "6d9fbd05",
   "metadata": {},
   "source": [
    "# Multinomial Naive Bayes Classifier from Scratch\n",
    "***\n",
    "## Table of Contents\n",
    "***"
   ]
  },
  {
   "cell_type": "markdown",
   "id": "5e2f882e",
   "metadata": {},
   "source": []
  }
 ],
 "metadata": {
  "language_info": {
   "name": "python"
  }
 },
 "nbformat": 4,
 "nbformat_minor": 5
}
