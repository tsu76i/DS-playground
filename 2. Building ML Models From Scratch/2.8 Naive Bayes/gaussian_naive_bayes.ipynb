{
 "cells": [
  {
   "cell_type": "markdown",
   "id": "6d9fbd05",
   "metadata": {},
   "source": [
    "# Multinomial Naive Bayes Classifier from Scratch\n",
    "***\n",
    "## Table of Contents\n",
    "1. [Introduction](#1-introduction)\n",
    "    - [Bayes' Theorem](#bayes-theorem)\n",
    "***"
   ]
  },
  {
   "cell_type": "markdown",
   "id": "5e2f882e",
   "metadata": {},
   "source": []
  }
 ],
 "metadata": {
  "language_info": {
   "name": "python"
  }
 },
 "nbformat": 4,
 "nbformat_minor": 5
}
