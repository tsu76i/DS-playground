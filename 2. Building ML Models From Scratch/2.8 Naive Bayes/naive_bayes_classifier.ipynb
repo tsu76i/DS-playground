{
 "cells": [
  {
   "cell_type": "markdown",
   "id": "12858d89",
   "metadata": {},
   "source": [
    "# Naive Bayes Classifier from Scratch\n",
    "***\n",
    "## Table of Contents\n",
    "1. [Loading Data](#1.-loading-data)\n",
    "***"
   ]
  },
  {
   "cell_type": "markdown",
   "id": "c76f4164",
   "metadata": {},
   "source": []
  }
 ],
 "metadata": {
  "language_info": {
   "name": "python"
  }
 },
 "nbformat": 4,
 "nbformat_minor": 5
}
