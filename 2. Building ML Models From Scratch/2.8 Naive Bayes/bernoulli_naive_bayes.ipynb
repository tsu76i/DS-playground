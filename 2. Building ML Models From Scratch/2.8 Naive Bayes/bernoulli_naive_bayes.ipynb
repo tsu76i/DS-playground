{
 "cells": [
  {
   "cell_type": "markdown",
   "id": "961620d0",
   "metadata": {},
   "source": [
    "# Bernoulli Naive Bayes Classifier from Scratch\n",
    "***\n",
    "## Table of Contents\n",
    "1. [Introduction](#1-introduction)\n",
    "    - [Bayes' Theorem](#bayes-theorem)\n",
    "2. [Loading Data](#2-loading-data)\n",
    "3. [Prior Probability](#3-prior-probability)\n",
    "***"
   ]
  },
  {
   "cell_type": "code",
   "execution_count": 366,
   "id": "5163acac",
   "metadata": {},
   "outputs": [],
   "source": [
    "import numpy as np\n",
    "import pandas as pd\n",
    "from typing import Tuple, List, Dict\n",
    "from numpy.typing import NDArray\n",
    "from sklearn.preprocessing import LabelEncoder"
   ]
  },
  {
   "cell_type": "markdown",
   "id": "de76c55c",
   "metadata": {},
   "source": [
    "## 1. Introduction\n",
    "Naive Bayes classifiers are probabilistic classification models based on Bayes' Theorem, assuming conditional independence between features given the class labels or values. Naive Bayes is a general framework; the specific variant should be chosen based on the nature of your data:\n",
    "\n",
    "- **Categorical Naive Bayes**\n",
    "\n",
    "    - **Features**: Categorical labels (e.g., colours, countries, product types).\n",
    "\n",
    "    - **Use Case**: Classification with discrete, categorically distributed features.\n",
    "\n",
    "- **Multinomial Naive Bayes**\n",
    "\n",
    "    - **Features**: Counts or frequencies (e.g., word occurrences, event counts).\n",
    "\n",
    "    - **Use** **Case**: Text classification, document classification, or any scenario where features are discrete counts.\n",
    "\n",
    "- **Gaussian Naive Bayes**\n",
    "\n",
    "    - **Features**: Continuous data (e.g., measurements, sensor readings).\n",
    "\n",
    "    - **Use Case**: Classification with numerical features assumed to follow a Gaussian distribution.\n",
    "\n",
    "- **Bernoulli Naive Bayes**\n",
    "\n",
    "    - **Features**: Binary features (e.g., True/False, 0/1).\n",
    "\n",
    "    - **Use Case**: Text classification (presence/absence of words), binary feature spaces.\n",
    "\n",
    "\n",
    "\n",
    "### Bayes' Theorem\n",
    "Bayes' theorem describes the probability of a class $C_{i}$ given a set of features $X = (x_{1}, x_{2},\\ldots,x_{N})$:\n",
    "\n",
    "\\begin{align*}\n",
    "P(C_{i}|X) = \\dfrac{P(X|C_{i}) \\cdot P(C_{i})}{P(X)}\n",
    "\\end{align*}\n",
    "\n",
    "where:\n",
    "- $P(C_{i}|X)$: Posterior probability of class $C_{i}$ given features $X$.\n",
    "- $P(X|C_{i})$: Likelihood of features $X$ given class $C_{i}$.\n",
    "- $P(C_{i})$: Prior probability of class $C_{i}$.\n",
    "- $P(X)$: Probability of features $X$ (acts as a normalising constant).\n",
    "\n",
    "Bernoulli Naive Bayes assumes features $X = (x_{1}, x_{2},\\ldots,x_{N})$ are conditionally independent given the class $C_{i}$, thus the likelihood is expressed as:\n",
    "\n",
    "\\begin{align*}\n",
    "P(X|C_{i}) = P(x_{1}, x_{2}, \\dots, x_{N}|C_{i}) = \\prod_{j=1}^{N}P(x_{j}|C_{i})\n",
    "\\end{align*}\n",
    "\n",
    "Replacing $P(X|C_{i})$ in Bayes' theorem, the equation becomes:\n",
    "\n",
    "\\begin{align*}\n",
    "P(C_{i}|X) = \\dfrac{P(C_{i}) \\cdot \\prod_{j=1}^{N} P(x_{j}|C_{i})}{P(X)}\n",
    "\\end{align*}\n",
    "\n",
    "Since $P(X)$ is constant for all classes,\n",
    "\n",
    "\\begin{align*}\n",
    "P(C_{i}|X) \\propto P(C_{i}) \\cdot \\prod_{j=1}^{N} P(x_{j}|C_{i})\n",
    "\\end{align*}\n",
    "\n",
    "The symbol $\\propto$ denotes proportionality, meaning we ignore the denominator $P(X)$ when comparing probabilities across classes."
   ]
  },
  {
   "cell_type": "markdown",
   "id": "ea83bc3e",
   "metadata": {},
   "source": [
    "## 2. Loading Data\n",
    "Retrieved from [Kaggle - Simple Weather Forecast](https://www.kaggle.com/datasets/dheemanthbhat/simple-weather-forecast?select=weather_forecast.csv)"
   ]
  },
  {
   "cell_type": "code",
   "execution_count": 367,
   "id": "d9507301",
   "metadata": {},
   "outputs": [
    {
     "data": {
      "application/vnd.microsoft.datawrangler.viewer.v0+json": {
       "columns": [
        {
         "name": "index",
         "rawType": "int64",
         "type": "integer"
        },
        {
         "name": "Outlook",
         "rawType": "object",
         "type": "string"
        },
        {
         "name": "Temperature",
         "rawType": "object",
         "type": "string"
        },
        {
         "name": "Humidity",
         "rawType": "object",
         "type": "string"
        },
        {
         "name": "Windy",
         "rawType": "object",
         "type": "string"
        },
        {
         "name": "Play",
         "rawType": "object",
         "type": "string"
        }
       ],
       "ref": "0f6d254d-92de-4a8c-886d-a86a0c8652c0",
       "rows": [
        [
         "0",
         "Sunny",
         "Hot",
         "High",
         "Weak",
         "No"
        ],
        [
         "1",
         "Sunny",
         "Hot",
         "High",
         "Strong",
         "No"
        ],
        [
         "2",
         "Overcast",
         "Hot",
         "High",
         "Weak",
         "Yes"
        ],
        [
         "3",
         "Rain",
         "Mild",
         "High",
         "Weak",
         "Yes"
        ],
        [
         "4",
         "Rain",
         "Cool",
         "Normal",
         "Weak",
         "Yes"
        ]
       ],
       "shape": {
        "columns": 5,
        "rows": 5
       }
      },
      "text/html": [
       "<div>\n",
       "<style scoped>\n",
       "    .dataframe tbody tr th:only-of-type {\n",
       "        vertical-align: middle;\n",
       "    }\n",
       "\n",
       "    .dataframe tbody tr th {\n",
       "        vertical-align: top;\n",
       "    }\n",
       "\n",
       "    .dataframe thead th {\n",
       "        text-align: right;\n",
       "    }\n",
       "</style>\n",
       "<table border=\"1\" class=\"dataframe\">\n",
       "  <thead>\n",
       "    <tr style=\"text-align: right;\">\n",
       "      <th></th>\n",
       "      <th>Outlook</th>\n",
       "      <th>Temperature</th>\n",
       "      <th>Humidity</th>\n",
       "      <th>Windy</th>\n",
       "      <th>Play</th>\n",
       "    </tr>\n",
       "  </thead>\n",
       "  <tbody>\n",
       "    <tr>\n",
       "      <th>0</th>\n",
       "      <td>Sunny</td>\n",
       "      <td>Hot</td>\n",
       "      <td>High</td>\n",
       "      <td>Weak</td>\n",
       "      <td>No</td>\n",
       "    </tr>\n",
       "    <tr>\n",
       "      <th>1</th>\n",
       "      <td>Sunny</td>\n",
       "      <td>Hot</td>\n",
       "      <td>High</td>\n",
       "      <td>Strong</td>\n",
       "      <td>No</td>\n",
       "    </tr>\n",
       "    <tr>\n",
       "      <th>2</th>\n",
       "      <td>Overcast</td>\n",
       "      <td>Hot</td>\n",
       "      <td>High</td>\n",
       "      <td>Weak</td>\n",
       "      <td>Yes</td>\n",
       "    </tr>\n",
       "    <tr>\n",
       "      <th>3</th>\n",
       "      <td>Rain</td>\n",
       "      <td>Mild</td>\n",
       "      <td>High</td>\n",
       "      <td>Weak</td>\n",
       "      <td>Yes</td>\n",
       "    </tr>\n",
       "    <tr>\n",
       "      <th>4</th>\n",
       "      <td>Rain</td>\n",
       "      <td>Cool</td>\n",
       "      <td>Normal</td>\n",
       "      <td>Weak</td>\n",
       "      <td>Yes</td>\n",
       "    </tr>\n",
       "  </tbody>\n",
       "</table>\n",
       "</div>"
      ],
      "text/plain": [
       "    Outlook Temperature Humidity   Windy Play\n",
       "0     Sunny         Hot     High    Weak   No\n",
       "1     Sunny         Hot     High  Strong   No\n",
       "2  Overcast         Hot     High    Weak  Yes\n",
       "3      Rain        Mild     High    Weak  Yes\n",
       "4      Rain        Cool   Normal    Weak  Yes"
      ]
     },
     "execution_count": 367,
     "metadata": {},
     "output_type": "execute_result"
    }
   ],
   "source": [
    "df = pd.read_csv('../_datasets/weather_forecast.csv')\n",
    "df.head()"
   ]
  },
  {
   "cell_type": "code",
   "execution_count": 368,
   "id": "68d9ea7b",
   "metadata": {},
   "outputs": [],
   "source": [
    "X = df.drop('Play', axis=1)\n",
    "y = df['Play']"
   ]
  },
  {
   "cell_type": "markdown",
   "id": "f8cab8b2",
   "metadata": {},
   "source": [
    "Bernoulli Naive Bayes requires features to have binary values, so we need to one-hot encode all categorical features."
   ]
  },
  {
   "cell_type": "code",
   "execution_count": 369,
   "id": "76aeda7f",
   "metadata": {},
   "outputs": [
    {
     "data": {
      "application/vnd.microsoft.datawrangler.viewer.v0+json": {
       "columns": [
        {
         "name": "index",
         "rawType": "int64",
         "type": "integer"
        },
        {
         "name": "Outlook_Overcast",
         "rawType": "bool",
         "type": "boolean"
        },
        {
         "name": "Outlook_Rain",
         "rawType": "bool",
         "type": "boolean"
        },
        {
         "name": "Outlook_Sunny",
         "rawType": "bool",
         "type": "boolean"
        },
        {
         "name": "Temperature_Cool",
         "rawType": "bool",
         "type": "boolean"
        },
        {
         "name": "Temperature_Hot",
         "rawType": "bool",
         "type": "boolean"
        },
        {
         "name": "Temperature_Mild",
         "rawType": "bool",
         "type": "boolean"
        },
        {
         "name": "Humidity_High",
         "rawType": "bool",
         "type": "boolean"
        },
        {
         "name": "Humidity_Normal",
         "rawType": "bool",
         "type": "boolean"
        },
        {
         "name": "Windy_Strong",
         "rawType": "bool",
         "type": "boolean"
        },
        {
         "name": "Windy_Weak",
         "rawType": "bool",
         "type": "boolean"
        }
       ],
       "ref": "80c91b7c-bd18-4879-90aa-77431c9a27f3",
       "rows": [
        [
         "0",
         "False",
         "False",
         "True",
         "False",
         "True",
         "False",
         "True",
         "False",
         "False",
         "True"
        ],
        [
         "1",
         "False",
         "False",
         "True",
         "False",
         "True",
         "False",
         "True",
         "False",
         "True",
         "False"
        ],
        [
         "2",
         "True",
         "False",
         "False",
         "False",
         "True",
         "False",
         "True",
         "False",
         "False",
         "True"
        ],
        [
         "3",
         "False",
         "True",
         "False",
         "False",
         "False",
         "True",
         "True",
         "False",
         "False",
         "True"
        ],
        [
         "4",
         "False",
         "True",
         "False",
         "True",
         "False",
         "False",
         "False",
         "True",
         "False",
         "True"
        ]
       ],
       "shape": {
        "columns": 10,
        "rows": 5
       }
      },
      "text/html": [
       "<div>\n",
       "<style scoped>\n",
       "    .dataframe tbody tr th:only-of-type {\n",
       "        vertical-align: middle;\n",
       "    }\n",
       "\n",
       "    .dataframe tbody tr th {\n",
       "        vertical-align: top;\n",
       "    }\n",
       "\n",
       "    .dataframe thead th {\n",
       "        text-align: right;\n",
       "    }\n",
       "</style>\n",
       "<table border=\"1\" class=\"dataframe\">\n",
       "  <thead>\n",
       "    <tr style=\"text-align: right;\">\n",
       "      <th></th>\n",
       "      <th>Outlook_Overcast</th>\n",
       "      <th>Outlook_Rain</th>\n",
       "      <th>Outlook_Sunny</th>\n",
       "      <th>Temperature_Cool</th>\n",
       "      <th>Temperature_Hot</th>\n",
       "      <th>Temperature_Mild</th>\n",
       "      <th>Humidity_High</th>\n",
       "      <th>Humidity_Normal</th>\n",
       "      <th>Windy_Strong</th>\n",
       "      <th>Windy_Weak</th>\n",
       "    </tr>\n",
       "  </thead>\n",
       "  <tbody>\n",
       "    <tr>\n",
       "      <th>0</th>\n",
       "      <td>False</td>\n",
       "      <td>False</td>\n",
       "      <td>True</td>\n",
       "      <td>False</td>\n",
       "      <td>True</td>\n",
       "      <td>False</td>\n",
       "      <td>True</td>\n",
       "      <td>False</td>\n",
       "      <td>False</td>\n",
       "      <td>True</td>\n",
       "    </tr>\n",
       "    <tr>\n",
       "      <th>1</th>\n",
       "      <td>False</td>\n",
       "      <td>False</td>\n",
       "      <td>True</td>\n",
       "      <td>False</td>\n",
       "      <td>True</td>\n",
       "      <td>False</td>\n",
       "      <td>True</td>\n",
       "      <td>False</td>\n",
       "      <td>True</td>\n",
       "      <td>False</td>\n",
       "    </tr>\n",
       "    <tr>\n",
       "      <th>2</th>\n",
       "      <td>True</td>\n",
       "      <td>False</td>\n",
       "      <td>False</td>\n",
       "      <td>False</td>\n",
       "      <td>True</td>\n",
       "      <td>False</td>\n",
       "      <td>True</td>\n",
       "      <td>False</td>\n",
       "      <td>False</td>\n",
       "      <td>True</td>\n",
       "    </tr>\n",
       "    <tr>\n",
       "      <th>3</th>\n",
       "      <td>False</td>\n",
       "      <td>True</td>\n",
       "      <td>False</td>\n",
       "      <td>False</td>\n",
       "      <td>False</td>\n",
       "      <td>True</td>\n",
       "      <td>True</td>\n",
       "      <td>False</td>\n",
       "      <td>False</td>\n",
       "      <td>True</td>\n",
       "    </tr>\n",
       "    <tr>\n",
       "      <th>4</th>\n",
       "      <td>False</td>\n",
       "      <td>True</td>\n",
       "      <td>False</td>\n",
       "      <td>True</td>\n",
       "      <td>False</td>\n",
       "      <td>False</td>\n",
       "      <td>False</td>\n",
       "      <td>True</td>\n",
       "      <td>False</td>\n",
       "      <td>True</td>\n",
       "    </tr>\n",
       "  </tbody>\n",
       "</table>\n",
       "</div>"
      ],
      "text/plain": [
       "   Outlook_Overcast  Outlook_Rain  Outlook_Sunny  Temperature_Cool  \\\n",
       "0             False         False           True             False   \n",
       "1             False         False           True             False   \n",
       "2              True         False          False             False   \n",
       "3             False          True          False             False   \n",
       "4             False          True          False              True   \n",
       "\n",
       "   Temperature_Hot  Temperature_Mild  Humidity_High  Humidity_Normal  \\\n",
       "0             True             False           True            False   \n",
       "1             True             False           True            False   \n",
       "2             True             False           True            False   \n",
       "3            False              True           True            False   \n",
       "4            False             False          False             True   \n",
       "\n",
       "   Windy_Strong  Windy_Weak  \n",
       "0         False        True  \n",
       "1          True       False  \n",
       "2         False        True  \n",
       "3         False        True  \n",
       "4         False        True  "
      ]
     },
     "execution_count": 369,
     "metadata": {},
     "output_type": "execute_result"
    }
   ],
   "source": [
    "X_binary = pd.get_dummies(X, drop_first=False)\n",
    "X_binary.head()"
   ]
  },
  {
   "cell_type": "markdown",
   "id": "35e7b0e6",
   "metadata": {},
   "source": [
    "We will also convert `y` into a binary format."
   ]
  },
  {
   "cell_type": "code",
   "execution_count": 370,
   "id": "2d3a6b82",
   "metadata": {},
   "outputs": [
    {
     "data": {
      "application/vnd.microsoft.datawrangler.viewer.v0+json": {
       "columns": [
        {
         "name": "index",
         "rawType": "int64",
         "type": "integer"
        },
        {
         "name": "Play",
         "rawType": "int64",
         "type": "integer"
        }
       ],
       "ref": "76827d5e-bf60-4d8d-8e25-7e4b4c07aa14",
       "rows": [
        [
         "0",
         "0"
        ],
        [
         "1",
         "0"
        ],
        [
         "2",
         "1"
        ],
        [
         "3",
         "1"
        ],
        [
         "4",
         "1"
        ],
        [
         "5",
         "0"
        ],
        [
         "6",
         "1"
        ],
        [
         "7",
         "0"
        ],
        [
         "8",
         "1"
        ],
        [
         "9",
         "1"
        ],
        [
         "10",
         "1"
        ],
        [
         "11",
         "1"
        ],
        [
         "12",
         "1"
        ],
        [
         "13",
         "0"
        ]
       ],
       "shape": {
        "columns": 1,
        "rows": 14
       }
      },
      "text/plain": [
       "0     0\n",
       "1     0\n",
       "2     1\n",
       "3     1\n",
       "4     1\n",
       "5     0\n",
       "6     1\n",
       "7     0\n",
       "8     1\n",
       "9     1\n",
       "10    1\n",
       "11    1\n",
       "12    1\n",
       "13    0\n",
       "Name: Play, dtype: int64"
      ]
     },
     "execution_count": 370,
     "metadata": {},
     "output_type": "execute_result"
    }
   ],
   "source": [
    "y_binary = pd.Series(np.where(y == 'Yes', 1, 0), name='Play')\n",
    "y_binary"
   ]
  },
  {
   "cell_type": "markdown",
   "id": "0814b485",
   "metadata": {},
   "source": [
    "## 3. Prior Probability\n",
    "Class $C_{i}$ (`y_binary`) has two boolean variables: `1`, and `0` (`1` = 'Yes', `0` = 'No' in `y`):\n",
    "\n",
    "\\begin{align*}\n",
    "P(C_{i}=1) = \\dfrac{\\text{Count(1)}}{\\text{Total Count}}\n",
    "\\end{align*}\n",
    "\n",
    "\\begin{align*}\n",
    "P(C_{i}=\\text{0}) = \\dfrac{\\text{Count(0)}}{\\text{Total Count}}\n",
    "\\end{align*}"
   ]
  },
  {
   "cell_type": "code",
   "execution_count": 371,
   "id": "fe471909",
   "metadata": {},
   "outputs": [
    {
     "name": "stdout",
     "output_type": "stream",
     "text": [
      "Total count: 14\n",
      "Counts: {1: 9, 0: 5}\n"
     ]
    }
   ],
   "source": [
    "print(f'Total count: {len(df)}')\n",
    "print(f'Counts: {y_binary.value_counts().to_dict()}')"
   ]
  },
  {
   "cell_type": "markdown",
   "id": "98dd22a8",
   "metadata": {},
   "source": [
    "\\begin{align*}\n",
    "P(1) = \\dfrac{9}{14} = 0.6429\n",
    "\\end{align*}\n",
    "\n",
    "\\begin{align*}\n",
    "P(0) = \\dfrac{5}{14} = 0.3571\n",
    "\\end{align*}"
   ]
  },
  {
   "cell_type": "code",
   "execution_count": 372,
   "id": "a5ced868",
   "metadata": {},
   "outputs": [],
   "source": [
    "def calculate_priors(y: pd.Series) -> Dict[int, float]:\n",
    "    \"\"\"\n",
    "    Calculate prior probabilities for each class in the target variable.\n",
    "\n",
    "    Args:\n",
    "        y: Target variable containing class labels (strings).\n",
    "\n",
    "    Returns:\n",
    "        Prior probabilities for each class.\n",
    "    \"\"\"\n",
    "    return y.value_counts(normalize=True).to_dict()"
   ]
  },
  {
   "cell_type": "code",
   "execution_count": 373,
   "id": "41ba668c",
   "metadata": {},
   "outputs": [
    {
     "data": {
      "text/plain": [
       "{1: 0.6428571428571429, 0: 0.35714285714285715}"
      ]
     },
     "execution_count": 373,
     "metadata": {},
     "output_type": "execute_result"
    }
   ],
   "source": [
    "calculate_priors(y_binary)"
   ]
  },
  {
   "cell_type": "markdown",
   "id": "8b8e3dbf",
   "metadata": {},
   "source": [
    "## 4. Likelihood for Bernoulli NB\n",
    "For a feature vector $X = (x_{1}, x_{2},\\ldots,x_{N})$ and class $C_{i}$, the likelihood is expressed as:\n",
    "\n",
    "\\begin{align*}\n",
    "P(X|C_{i}) = P(x_{1}, x_{2}, \\dots, x_{N}|C_{i}) = \\prod_{j=1}^{N}P(x_{j}|C_{i})\n",
    "\\end{align*}\n",
    "\n",
    "where each $P(x_{j}|C_{i})$ follows a **Bernoulli distribution**:\n",
    "\n",
    "\\begin{align*}\n",
    "\n",
    "P(x_{j}|C_{i}) = \n",
    "  \\begin{cases}\n",
    "    p_{ij}     & \\text{if $x_{j} = 1$} \\\\\n",
    "    1 - p_{ij} & \\text{if $x_{j} = 0$}\n",
    "  \\end{cases}\n",
    "\\end{align*}\n",
    "\n",
    "Here, $p_{ij}$ is the probability that feature $j$ is $1$ in class $C_{i}$:\n",
    "\n",
    "\\begin{align*}\n",
    "p_{ij} = \\dfrac{\\text{Count(${x_{j}}$ = 1|${C_{i}}$)} + \\alpha}{\\text{Count(${C_{i}}$)} + 2 \\alpha}\n",
    "\\end{align*}\n",
    "\n",
    "where $\\alpha$ is the Laplace smoothing parameter to avoid zero probabilities (default $\\alpha$ = 1)."
   ]
  },
  {
   "cell_type": "code",
   "execution_count": 374,
   "id": "500f018e",
   "metadata": {},
   "outputs": [],
   "source": [
    "def calculate_likelihoods(X: pd.DataFrame, y: pd.Series,\n",
    "                          alpha: float = 1.0) -> Dict[int, Dict[int, Dict[int, float]]]:\n",
    "    \"\"\"\n",
    "    Calculate conditional probabilities for Bernoulli Naive Bayes.\n",
    "\n",
    "    Args:\n",
    "        X: Binary feature matrix (DataFrame with 0/1 values)\n",
    "        y: Target variable (Series of class labels)\n",
    "        alpha: Smoothing parameter for Laplace smoothing (default=1.0)\n",
    "\n",
    "    Returns:\n",
    "        Nested dictionary with structure:\n",
    "        {feature_name: {class_label: {feature_value: probability}}}\n",
    "    \"\"\"\n",
    "    likelihoods = {}\n",
    "\n",
    "    for feature in X.columns:\n",
    "        likelihoods[feature] = {}\n",
    "\n",
    "        for class_label in y.unique():\n",
    "            c = int(class_label)\n",
    "            class_mask = (y == c)\n",
    "            class_subset = X.loc[class_mask, feature]\n",
    "            total_in_class = class_mask.sum()  # Number of samples in class\n",
    "\n",
    "            # Count occurrences of 1s (0s will be total - count_1)\n",
    "            count_1 = class_subset.sum()\n",
    "            count_0 = total_in_class - count_1\n",
    "\n",
    "            # Apply Laplace smoothing for binary features\n",
    "            # Denominator: total_in_class + 2 * alpha (for two possible values)\n",
    "            prob_1 = (count_1 + alpha) / (total_in_class + 2 * alpha)\n",
    "            prob_0 = (count_0 + alpha) / (total_in_class + 2 * alpha)\n",
    "\n",
    "            # Store probabilities for both values\n",
    "            likelihoods[feature][c] = {\n",
    "                0: round(float(prob_0), 4),\n",
    "                1: round(float(prob_1), 4)\n",
    "            }\n",
    "\n",
    "    return likelihoods"
   ]
  },
  {
   "cell_type": "code",
   "execution_count": 375,
   "id": "1e5a262b",
   "metadata": {},
   "outputs": [
    {
     "data": {
      "text/plain": [
       "{'Outlook_Overcast': {0: {0: 0.8571, 1: 0.1429}, 1: {0: 0.5455, 1: 0.4545}},\n",
       " 'Outlook_Rain': {0: {0: 0.5714, 1: 0.4286}, 1: {0: 0.6364, 1: 0.3636}},\n",
       " 'Outlook_Sunny': {0: {0: 0.4286, 1: 0.5714}, 1: {0: 0.7273, 1: 0.2727}},\n",
       " 'Temperature_Cool': {0: {0: 0.7143, 1: 0.2857}, 1: {0: 0.6364, 1: 0.3636}},\n",
       " 'Temperature_Hot': {0: {0: 0.5714, 1: 0.4286}, 1: {0: 0.7273, 1: 0.2727}},\n",
       " 'Temperature_Mild': {0: {0: 0.5714, 1: 0.4286}, 1: {0: 0.5455, 1: 0.4545}},\n",
       " 'Humidity_High': {0: {0: 0.2857, 1: 0.7143}, 1: {0: 0.6364, 1: 0.3636}},\n",
       " 'Humidity_Normal': {0: {0: 0.7143, 1: 0.2857}, 1: {0: 0.3636, 1: 0.6364}},\n",
       " 'Windy_Strong': {0: {0: 0.4286, 1: 0.5714}, 1: {0: 0.6364, 1: 0.3636}},\n",
       " 'Windy_Weak': {0: {0: 0.5714, 1: 0.4286}, 1: {0: 0.3636, 1: 0.6364}}}"
      ]
     },
     "execution_count": 375,
     "metadata": {},
     "output_type": "execute_result"
    }
   ],
   "source": [
    "calculate_likelihoods(X_binary, y_binary)"
   ]
  },
  {
   "cell_type": "markdown",
   "id": "1cd0be33",
   "metadata": {},
   "source": [
    "## 5. Posterior Probability for Bernoulli NB\n",
    "As we discussed [above](#1-introduction), the formula of posterior probability is:\n",
    "\n",
    "\n",
    "\\begin{align*}\n",
    "P(C_{i}|X) \\propto P(C_{i}) \\prod_{j=1}^{N} P(x_{j}|C_{i})\n",
    "\\end{align*}\n",
    "\n",
    "To prevent underflow, we use log probabilities:\n",
    "\n",
    "\\begin{align*}\n",
    "\\text{log } P(C_{i}|X) = \\text{log } P(C_{i}) + \\sum_{j=1}^{N} \\text{log } P(x_{j}|C_{i})\n",
    "\\end{align*}\n",
    "\n",
    "In the following code, `.get(category, 1e-9)` tries to retrieve the probability for the specific value category from this dictionary. If the category was not seen in the training data for this class (i.e., it's missing from the dictionary), it returns a very small default value (1e-9) instead of raising an error."
   ]
  },
  {
   "cell_type": "code",
   "execution_count": 376,
   "id": "517a734f",
   "metadata": {},
   "outputs": [],
   "source": [
    "def calculate_posterior(x: Dict[str, str], priors: Dict[str, float], likelihoods: Dict[int, Dict[int, Dict[int, float]]],\n",
    "                        X_columns: List[str], classes: List[int]) -> Dict[str, float]:\n",
    "    \"\"\"\n",
    "    Calculate log-posterior probabilities for all classes given a sample.\n",
    "\n",
    "    Args:\n",
    "        x: Input sample as dictionary {feature: value}.\n",
    "        priors: Prior probabilities from calculate_priors().\n",
    "        likelihoods: Conditional probabilities from calculate_likelihoods().\n",
    "        X_columns: List of feature names.\n",
    "        classes: List of possible class labels.\n",
    "\n",
    "    Returns:\n",
    "        Dictionary mapping each class to its log-posterior probability.\n",
    "    \"\"\"\n",
    "\n",
    "    log_posteriors = {}\n",
    "    for c in classes:\n",
    "        log_proba = np.log(priors[c])  # Log of prior\n",
    "        for feature in X_columns:  # Sum of the likelihood for each x given c\n",
    "            y_value = x[feature]\n",
    "            # Avoid log(0) if the feature does not exist\n",
    "            proba = likelihoods[feature][c].get(y_value, 1e-9)\n",
    "            log_proba += np.log(proba)\n",
    "        log_posteriors[int(c)] = round(float(log_proba), 4)\n",
    "    return log_posteriors  # log-posterior probabilities for all classes"
   ]
  },
  {
   "cell_type": "code",
   "execution_count": 377,
   "id": "27ee59e8",
   "metadata": {},
   "outputs": [
    {
     "data": {
      "text/plain": [
       "{0: -6.4139, 1: -8.0838}"
      ]
     },
     "execution_count": 377,
     "metadata": {},
     "output_type": "execute_result"
    }
   ],
   "source": [
    "calculate_posterior(X_binary.iloc[0], calculate_priors(\n",
    "    y_binary), calculate_likelihoods(X_binary, y_binary), X_binary.columns, y_binary.unique())"
   ]
  },
  {
   "cell_type": "markdown",
   "id": "81e86177",
   "metadata": {},
   "source": [
    "## 6. Prediction\n"
   ]
  },
  {
   "cell_type": "code",
   "execution_count": 378,
   "id": "65abd8cb",
   "metadata": {},
   "outputs": [],
   "source": [
    "def predict(X: pd.DataFrame, y: pd.Series) -> List[int]:\n",
    "    \"\"\"\n",
    "    Predict class labels using Bernoulli Naive Bayes.\n",
    "\n",
    "    Args:\n",
    "        X: Feature matrix.\n",
    "        y: Target variable.\n",
    "\n",
    "    Returns:\n",
    "        Predicted class labels.\n",
    "    \"\"\"\n",
    "    priors = calculate_priors(y)\n",
    "    likelihoods = calculate_likelihoods(X, y)\n",
    "    classes = y.unique()\n",
    "    X_columns = X.columns\n",
    "\n",
    "    predictions = []\n",
    "    for row in X.itertuples(index=False):\n",
    "        posterior = calculate_posterior(\n",
    "            row._asdict(), priors, likelihoods, X_columns, classes)\n",
    "        predictions.append(max(posterior, key=posterior.get))\n",
    "    return predictions"
   ]
  },
  {
   "cell_type": "code",
   "execution_count": 379,
   "id": "21b6b0a0",
   "metadata": {},
   "outputs": [
    {
     "data": {
      "text/plain": [
       "[0, 0, 1, 1, 1, 1, 1, 0, 1, 1]"
      ]
     },
     "execution_count": 379,
     "metadata": {},
     "output_type": "execute_result"
    }
   ],
   "source": [
    "predict(X_binary, y_binary)[:10]"
   ]
  }
 ],
 "metadata": {
  "kernelspec": {
   "display_name": ".venv",
   "language": "python",
   "name": "python3"
  },
  "language_info": {
   "codemirror_mode": {
    "name": "ipython",
    "version": 3
   },
   "file_extension": ".py",
   "mimetype": "text/x-python",
   "name": "python",
   "nbconvert_exporter": "python",
   "pygments_lexer": "ipython3",
   "version": "3.13.3"
  }
 },
 "nbformat": 4,
 "nbformat_minor": 5
}
