{
 "cells": [
  {
   "cell_type": "markdown",
   "id": "961620d0",
   "metadata": {},
   "source": [
    "# Bernoulli Naive Bayes Classifier from Scratch\n",
    "***\n",
    "## Table of Contents\n",
    "1. [Introduction](#1-introduction)\n",
    "    - [Bayes' Theorem](#bayes-theorem)\n",
    "2. [Loading Data](#2-loading-data)\n",
    "3. [Prior Probability](#3-prior-probability)\n",
    "***"
   ]
  },
  {
   "cell_type": "code",
   "execution_count": null,
   "id": "5163acac",
   "metadata": {},
   "outputs": [],
   "source": [
    "import numpy as np\n",
    "import pandas as pd\n",
    "from typing import Tuple, List, Dict\n",
    "from numpy.typing import NDArray"
   ]
  }
 ],
 "metadata": {
  "language_info": {
   "name": "python"
  }
 },
 "nbformat": 4,
 "nbformat_minor": 5
}
