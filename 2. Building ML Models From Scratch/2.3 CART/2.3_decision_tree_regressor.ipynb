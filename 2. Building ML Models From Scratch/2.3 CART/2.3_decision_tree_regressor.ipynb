{
 "cells": [
  {
   "cell_type": "markdown",
   "id": "714c8447",
   "metadata": {},
   "source": [
    "# Decision Tree Regressor from Scratch"
   ]
  },
  {
   "cell_type": "markdown",
   "id": "e1e152ad",
   "metadata": {},
   "source": []
  }
 ],
 "metadata": {
  "language_info": {
   "name": "python"
  }
 },
 "nbformat": 4,
 "nbformat_minor": 5
}
