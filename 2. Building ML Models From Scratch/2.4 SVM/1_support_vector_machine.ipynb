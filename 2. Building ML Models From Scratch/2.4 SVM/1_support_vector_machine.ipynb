{
 "cells": [
  {
   "cell_type": "markdown",
   "id": "329455ea",
   "metadata": {},
   "source": [
    "# Support Vector Machine from Scratch\n",
    "***\n",
    "## Table of Contents\n",
    "1. Load Data\n",
    "***"
   ]
  },
  {
   "cell_type": "markdown",
   "id": "64f4c194",
   "metadata": {},
   "source": []
  }
 ],
 "metadata": {
  "language_info": {
   "name": "python"
  }
 },
 "nbformat": 4,
 "nbformat_minor": 5
}
