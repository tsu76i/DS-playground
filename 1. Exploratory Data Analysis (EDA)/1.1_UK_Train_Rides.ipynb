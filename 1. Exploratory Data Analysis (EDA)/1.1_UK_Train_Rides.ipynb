{
 "cells": [
  {
   "cell_type": "markdown",
   "id": "a3647116",
   "metadata": {},
   "source": [
    "# Exploratory Data Analysis (EDA)\n",
    "***\n",
    "## Table of Contents\n",
    "1. [Importing Data](#importing_data)\n",
    "2. [Data Cleaning](#data_cleaning)\n",
    "3. [Data Transformation](#data_transformation)\n",
    "4. [Univariate Analysis](#univariate_analysis)\n",
    "***"
   ]
  },
  {
   "cell_type": "markdown",
   "id": "e44e7a70",
   "metadata": {},
   "source": [
    "\n",
    "\n",
    "### UK Train Rides\n",
    "Mock train ticket data for National Rail in the UK, from Jan to Apr 2024, including details on the type of ticket, the date & time for each journey, the departure & arrival stations, the ticket price, and more.\n",
    "Raw data(railway.csv) extracted from [Maven Analytics - Playground](https://mavenanalytics.io/data-playground)\n",
    "\n",
    "**Transaction ID**\n",
    "\n",
    "- Unique identifier for an individual train ticket purchase\n",
    "\n",
    "**Date of Purchase**\n",
    "\n",
    "- Date the ticket was purchased\n",
    "\n",
    "**Time of Purchase**\n",
    "\n",
    "- Time the ticket was purchased\n",
    "\n",
    "\n",
    "**Purchase Type**\n",
    "\n",
    "- Whether the ticket was purchased online or directly at a train station\n",
    "\n",
    "**Payment Method**\n",
    "\n",
    "- Payment method used to purchase the ticket (Contactles Credit Card or Debit Card)\n",
    "\n",
    "**Railcard**\n",
    "\n",
    "- Whether the passenger is a National Railcard holder (Adult Senior or Disabled) or not (None). Railcard holders get 1/3 off their ticket purchases.\n",
    "\n",
    "**Ticket Class**\n",
    "\n",
    "- Seat class for the ticket (Standard or First)\n",
    "\n",
    "**Ticket Type**\n",
    "\n",
    "- When you bought or can use the ticket. Advance tickets are 1/2 off and must be purchased at least a day prior to departure. Off-Peak tickets are 1/4 off and must be used outside of peak hours (weekdays between 6-8am and 4-6pm). Anytime tickets are full price and can be bought and used at any time during the day.\n",
    "\n",
    "**Price**\n",
    "\n",
    "- Final cost of the ticket\n",
    "\n",
    "**Departure Station**\n",
    "\n",
    "- Station to board the train\n",
    "\n",
    "***\n"
   ]
  },
  {
   "cell_type": "code",
   "execution_count": 1752,
   "id": "086316a2",
   "metadata": {},
   "outputs": [],
   "source": [
    "import numpy as np\n",
    "import pandas as pd\n",
    "import seaborn as sns\n",
    "import matplotlib.pyplot as plt"
   ]
  },
  {
   "cell_type": "markdown",
   "id": "9db4a3a3",
   "metadata": {},
   "source": [
    "## 1. Importing Data <a class=\"anchor\" id=\"importing_data\"></a>"
   ]
  },
  {
   "cell_type": "code",
   "execution_count": 1753,
   "id": "088ba83e",
   "metadata": {},
   "outputs": [
    {
     "data": {
      "text/html": [
       "<div>\n",
       "<style scoped>\n",
       "    .dataframe tbody tr th:only-of-type {\n",
       "        vertical-align: middle;\n",
       "    }\n",
       "\n",
       "    .dataframe tbody tr th {\n",
       "        vertical-align: top;\n",
       "    }\n",
       "\n",
       "    .dataframe thead th {\n",
       "        text-align: right;\n",
       "    }\n",
       "</style>\n",
       "<table border=\"1\" class=\"dataframe\">\n",
       "  <thead>\n",
       "    <tr style=\"text-align: right;\">\n",
       "      <th></th>\n",
       "      <th>Transaction ID</th>\n",
       "      <th>Date of Purchase</th>\n",
       "      <th>Time of Purchase</th>\n",
       "      <th>Purchase Type</th>\n",
       "      <th>Payment Method</th>\n",
       "      <th>Railcard</th>\n",
       "      <th>Ticket Class</th>\n",
       "      <th>Ticket Type</th>\n",
       "      <th>Price</th>\n",
       "      <th>Departure Station</th>\n",
       "      <th>Arrival Destination</th>\n",
       "      <th>Date of Journey</th>\n",
       "      <th>Departure Time</th>\n",
       "      <th>Arrival Time</th>\n",
       "      <th>Actual Arrival Time</th>\n",
       "      <th>Journey Status</th>\n",
       "      <th>Reason for Delay</th>\n",
       "      <th>Refund Request</th>\n",
       "    </tr>\n",
       "  </thead>\n",
       "  <tbody>\n",
       "    <tr>\n",
       "      <th>0</th>\n",
       "      <td>da8a6ba8-b3dc-4677-b176</td>\n",
       "      <td>2023-12-08</td>\n",
       "      <td>12:41:11</td>\n",
       "      <td>Online</td>\n",
       "      <td>Contactless</td>\n",
       "      <td>Adult</td>\n",
       "      <td>Standard</td>\n",
       "      <td>Advance</td>\n",
       "      <td>43</td>\n",
       "      <td>London Paddington</td>\n",
       "      <td>Liverpool Lime Street</td>\n",
       "      <td>2024-01-01</td>\n",
       "      <td>11:00:00</td>\n",
       "      <td>13:30:00</td>\n",
       "      <td>13:30:00</td>\n",
       "      <td>On Time</td>\n",
       "      <td>NaN</td>\n",
       "      <td>No</td>\n",
       "    </tr>\n",
       "    <tr>\n",
       "      <th>1</th>\n",
       "      <td>b0cdd1b0-f214-4197-be53</td>\n",
       "      <td>2023-12-16</td>\n",
       "      <td>11:23:01</td>\n",
       "      <td>Station</td>\n",
       "      <td>Credit Card</td>\n",
       "      <td>Adult</td>\n",
       "      <td>Standard</td>\n",
       "      <td>Advance</td>\n",
       "      <td>23</td>\n",
       "      <td>London Kings Cross</td>\n",
       "      <td>York</td>\n",
       "      <td>2024-01-01</td>\n",
       "      <td>09:45:00</td>\n",
       "      <td>11:35:00</td>\n",
       "      <td>11:40:00</td>\n",
       "      <td>Delayed</td>\n",
       "      <td>Signal Failure</td>\n",
       "      <td>No</td>\n",
       "    </tr>\n",
       "    <tr>\n",
       "      <th>2</th>\n",
       "      <td>f3ba7a96-f713-40d9-9629</td>\n",
       "      <td>2023-12-19</td>\n",
       "      <td>19:51:27</td>\n",
       "      <td>Online</td>\n",
       "      <td>Credit Card</td>\n",
       "      <td>NaN</td>\n",
       "      <td>Standard</td>\n",
       "      <td>Advance</td>\n",
       "      <td>3</td>\n",
       "      <td>Liverpool Lime Street</td>\n",
       "      <td>Manchester Piccadilly</td>\n",
       "      <td>2024-01-02</td>\n",
       "      <td>18:15:00</td>\n",
       "      <td>18:45:00</td>\n",
       "      <td>18:45:00</td>\n",
       "      <td>On Time</td>\n",
       "      <td>NaN</td>\n",
       "      <td>No</td>\n",
       "    </tr>\n",
       "    <tr>\n",
       "      <th>3</th>\n",
       "      <td>b2471f11-4fe7-4c87-8ab4</td>\n",
       "      <td>2023-12-20</td>\n",
       "      <td>23:00:36</td>\n",
       "      <td>Station</td>\n",
       "      <td>Credit Card</td>\n",
       "      <td>NaN</td>\n",
       "      <td>Standard</td>\n",
       "      <td>Advance</td>\n",
       "      <td>13</td>\n",
       "      <td>London Paddington</td>\n",
       "      <td>Reading</td>\n",
       "      <td>2024-01-01</td>\n",
       "      <td>21:30:00</td>\n",
       "      <td>22:30:00</td>\n",
       "      <td>22:30:00</td>\n",
       "      <td>On Time</td>\n",
       "      <td>NaN</td>\n",
       "      <td>No</td>\n",
       "    </tr>\n",
       "    <tr>\n",
       "      <th>4</th>\n",
       "      <td>2be00b45-0762-485e-a7a3</td>\n",
       "      <td>2023-12-27</td>\n",
       "      <td>18:22:56</td>\n",
       "      <td>Online</td>\n",
       "      <td>Contactless</td>\n",
       "      <td>NaN</td>\n",
       "      <td>Standard</td>\n",
       "      <td>Advance</td>\n",
       "      <td>76</td>\n",
       "      <td>Liverpool Lime Street</td>\n",
       "      <td>London Euston</td>\n",
       "      <td>2024-01-01</td>\n",
       "      <td>16:45:00</td>\n",
       "      <td>19:00:00</td>\n",
       "      <td>19:00:00</td>\n",
       "      <td>On Time</td>\n",
       "      <td>NaN</td>\n",
       "      <td>No</td>\n",
       "    </tr>\n",
       "  </tbody>\n",
       "</table>\n",
       "</div>"
      ],
      "text/plain": [
       "            Transaction ID Date of Purchase Time of Purchase Purchase Type  \\\n",
       "0  da8a6ba8-b3dc-4677-b176       2023-12-08         12:41:11        Online   \n",
       "1  b0cdd1b0-f214-4197-be53       2023-12-16         11:23:01       Station   \n",
       "2  f3ba7a96-f713-40d9-9629       2023-12-19         19:51:27        Online   \n",
       "3  b2471f11-4fe7-4c87-8ab4       2023-12-20         23:00:36       Station   \n",
       "4  2be00b45-0762-485e-a7a3       2023-12-27         18:22:56        Online   \n",
       "\n",
       "  Payment Method Railcard Ticket Class Ticket Type  Price  \\\n",
       "0    Contactless    Adult     Standard     Advance     43   \n",
       "1    Credit Card    Adult     Standard     Advance     23   \n",
       "2    Credit Card      NaN     Standard     Advance      3   \n",
       "3    Credit Card      NaN     Standard     Advance     13   \n",
       "4    Contactless      NaN     Standard     Advance     76   \n",
       "\n",
       "       Departure Station    Arrival Destination Date of Journey  \\\n",
       "0      London Paddington  Liverpool Lime Street      2024-01-01   \n",
       "1     London Kings Cross                   York      2024-01-01   \n",
       "2  Liverpool Lime Street  Manchester Piccadilly      2024-01-02   \n",
       "3      London Paddington                Reading      2024-01-01   \n",
       "4  Liverpool Lime Street          London Euston      2024-01-01   \n",
       "\n",
       "  Departure Time Arrival Time Actual Arrival Time Journey Status  \\\n",
       "0       11:00:00     13:30:00            13:30:00        On Time   \n",
       "1       09:45:00     11:35:00            11:40:00        Delayed   \n",
       "2       18:15:00     18:45:00            18:45:00        On Time   \n",
       "3       21:30:00     22:30:00            22:30:00        On Time   \n",
       "4       16:45:00     19:00:00            19:00:00        On Time   \n",
       "\n",
       "  Reason for Delay Refund Request  \n",
       "0              NaN             No  \n",
       "1   Signal Failure             No  \n",
       "2              NaN             No  \n",
       "3              NaN             No  \n",
       "4              NaN             No  "
      ]
     },
     "execution_count": 1753,
     "metadata": {},
     "output_type": "execute_result"
    }
   ],
   "source": [
    "df = pd.read_csv('railway.csv')\n",
    "df.head()"
   ]
  },
  {
   "cell_type": "markdown",
   "id": "64536c5c",
   "metadata": {},
   "source": [
    "***\n",
    "\n",
    "## 2. Data Cleaning <a class=\"anchor\" id=\"data_cleaning\"></a>\n",
    "- Verify data types and formats.\n",
    "- Handle missing values and duplicates.\n",
    "- Drop unnecessary columns if required for further analysis / modelling."
   ]
  },
  {
   "cell_type": "code",
   "execution_count": 1754,
   "id": "b5509b58",
   "metadata": {},
   "outputs": [
    {
     "data": {
      "text/plain": [
       "Transaction ID         object\n",
       "Date of Purchase       object\n",
       "Time of Purchase       object\n",
       "Purchase Type          object\n",
       "Payment Method         object\n",
       "Railcard               object\n",
       "Ticket Class           object\n",
       "Ticket Type            object\n",
       "Price                   int64\n",
       "Departure Station      object\n",
       "Arrival Destination    object\n",
       "Date of Journey        object\n",
       "Departure Time         object\n",
       "Arrival Time           object\n",
       "Actual Arrival Time    object\n",
       "Journey Status         object\n",
       "Reason for Delay       object\n",
       "Refund Request         object\n",
       "dtype: object"
      ]
     },
     "execution_count": 1754,
     "metadata": {},
     "output_type": "execute_result"
    }
   ],
   "source": [
    "df.dtypes"
   ]
  },
  {
   "cell_type": "code",
   "execution_count": 1755,
   "id": "d3089594",
   "metadata": {},
   "outputs": [
    {
     "data": {
      "text/plain": [
       "Purchase Type\n",
       "Online     18521\n",
       "Station    13132\n",
       "Name: count, dtype: int64"
      ]
     },
     "execution_count": 1755,
     "metadata": {},
     "output_type": "execute_result"
    }
   ],
   "source": [
    "df['Purchase Type'].value_counts()"
   ]
  },
  {
   "cell_type": "code",
   "execution_count": 1756,
   "id": "c609ec5e",
   "metadata": {},
   "outputs": [
    {
     "data": {
      "text/plain": [
       "Payment Method\n",
       "Credit Card    19136\n",
       "Contactless    10834\n",
       "Debit Card      1683\n",
       "Name: count, dtype: int64"
      ]
     },
     "execution_count": 1756,
     "metadata": {},
     "output_type": "execute_result"
    }
   ],
   "source": [
    "df['Payment Method'].value_counts()"
   ]
  },
  {
   "cell_type": "code",
   "execution_count": 1757,
   "id": "45fe2831",
   "metadata": {},
   "outputs": [
    {
     "data": {
      "text/plain": [
       "Railcard\n",
       "Adult       4846\n",
       "Disabled    3089\n",
       "Senior      2800\n",
       "Name: count, dtype: int64"
      ]
     },
     "execution_count": 1757,
     "metadata": {},
     "output_type": "execute_result"
    }
   ],
   "source": [
    "df['Railcard'].value_counts()"
   ]
  },
  {
   "cell_type": "code",
   "execution_count": 1758,
   "id": "6b088691",
   "metadata": {},
   "outputs": [
    {
     "data": {
      "text/plain": [
       "Ticket Class\n",
       "Standard       28595\n",
       "First Class     3058\n",
       "Name: count, dtype: int64"
      ]
     },
     "execution_count": 1758,
     "metadata": {},
     "output_type": "execute_result"
    }
   ],
   "source": [
    "df['Ticket Class'].value_counts()"
   ]
  },
  {
   "cell_type": "code",
   "execution_count": 1759,
   "id": "96a15cad",
   "metadata": {},
   "outputs": [
    {
     "data": {
      "text/plain": [
       "Ticket Type\n",
       "Advance     17561\n",
       "Off-Peak     8752\n",
       "Anytime      5340\n",
       "Name: count, dtype: int64"
      ]
     },
     "execution_count": 1759,
     "metadata": {},
     "output_type": "execute_result"
    }
   ],
   "source": [
    "df['Ticket Type'].value_counts()"
   ]
  },
  {
   "cell_type": "code",
   "execution_count": 1760,
   "id": "a0acffff",
   "metadata": {},
   "outputs": [
    {
     "data": {
      "text/plain": [
       "Journey Status\n",
       "On Time      27481\n",
       "Delayed       2292\n",
       "Cancelled     1880\n",
       "Name: count, dtype: int64"
      ]
     },
     "execution_count": 1760,
     "metadata": {},
     "output_type": "execute_result"
    }
   ],
   "source": [
    "df['Journey Status'].value_counts()"
   ]
  },
  {
   "cell_type": "code",
   "execution_count": 1761,
   "id": "6bd77891",
   "metadata": {},
   "outputs": [
    {
     "data": {
      "text/plain": [
       "Reason for Delay\n",
       "Weather               995\n",
       "Technical Issue       707\n",
       "Signal Failure        523\n",
       "Signal failure        447\n",
       "Staffing              410\n",
       "Staff Shortage        399\n",
       "Weather Conditions    377\n",
       "Traffic               314\n",
       "Name: count, dtype: int64"
      ]
     },
     "execution_count": 1761,
     "metadata": {},
     "output_type": "execute_result"
    }
   ],
   "source": [
    "df['Reason for Delay'].value_counts()"
   ]
  },
  {
   "cell_type": "code",
   "execution_count": 1762,
   "id": "5014b5d5",
   "metadata": {},
   "outputs": [
    {
     "data": {
      "text/plain": [
       "Refund Request\n",
       "No     30535\n",
       "Yes     1118\n",
       "Name: count, dtype: int64"
      ]
     },
     "execution_count": 1762,
     "metadata": {},
     "output_type": "execute_result"
    }
   ],
   "source": [
    "df['Refund Request'].value_counts()"
   ]
  },
  {
   "cell_type": "markdown",
   "id": "55bdd9a1",
   "metadata": {},
   "source": [
    "`df.dtypes` shows that most of the features are stored as the `object` datatype. Let's convert them into their appropriate datatypes. **Time of Purchase**, **Departure Time**, **Arrival Time** and **Actual Arrival Time** will be left as `object` for now.\n",
    "- **Transaction ID** -> String\n",
    "- **Date of Purchase** -> Datetime (only YYYY-MM-DD)\n",
    "- **Purchase Type** -> Categorical (nominal)\n",
    "- **Payment Method** -> Categorical (nominal)\n",
    "- **Railcard** -> Categorical (nominal)\n",
    "- **Ticket Class** -> Categorical (nominal)\n",
    "- **Ticket Type** -> Categorical (nominal)\n",
    "- **Departure Station** -> String\n",
    "- **Arrival Destination** -> String\n",
    "- **Date of Journey** -> Datetime (only YYYY-MM-DD)\n",
    "- **Departure Time** -> Datetime\n",
    "- **Arrival Time** -> Datetime\n",
    "- **Actual Arrival Time** -> Datetime\n",
    "- **Journey Status** -> Categorical (nominal)\n",
    "- **Reason for Delay** -> Categorical (nominal)\n",
    "- **Refund Request** -> Boolean (True: Yes, False: No)"
   ]
  },
  {
   "cell_type": "code",
   "execution_count": 1763,
   "id": "b09d571a",
   "metadata": {},
   "outputs": [],
   "source": [
    "df['Transaction ID'] = df['Transaction ID'].astype('string')\n",
    "df['Date of Purchase'] = pd.to_datetime(df['Date of Purchase'])\n",
    "df['Purchase Type'] = df['Purchase Type'].astype('category')\n",
    "df['Payment Method'] = df['Payment Method'].astype('category')\n",
    "df['Railcard'] = df['Railcard'].astype('category')\n",
    "df['Ticket Class'] = df['Ticket Class'].astype('category')\n",
    "df['Ticket Type'] = df['Ticket Type'].astype('category')\n",
    "df['Departure Station'] = df['Departure Station'].astype('string')\n",
    "df['Arrival Destination'] = df['Arrival Destination'].astype('string')\n",
    "df['Departure Time'] = pd.to_datetime(\n",
    "    df['Date of Journey'] + ' ' + df['Departure Time'])\n",
    "df['Arrival Time'] = pd.to_datetime(\n",
    "    df['Date of Journey'] + ' ' + df['Arrival Time'])\n",
    "df['Actual Arrival Time'] = pd.to_datetime(\n",
    "    df['Date of Journey'] + ' ' + df['Actual Arrival Time'])\n",
    "df['Date of Journey'] = pd.to_datetime(df['Date of Journey'])\n",
    "df['Journey Status'] = df['Journey Status'].astype('category')\n",
    "df['Reason for Delay'] = df['Reason for Delay'].astype('category')\n",
    "df['Refund Request'] = df['Refund Request'].map({'Yes': True, 'No': False})"
   ]
  },
  {
   "cell_type": "code",
   "execution_count": 1764,
   "id": "aa54b64d",
   "metadata": {},
   "outputs": [],
   "source": [
    "# +1 day to `Arrival Time` if `Arrival Time` < `Departure Time`\n",
    "df['Arrival Time'] = np.where(df['Arrival Time'] < df['Departure Time'], df['Arrival Time'] + pd.Timedelta(days=1), df['Arrival Time'])"
   ]
  },
  {
   "cell_type": "code",
   "execution_count": 1765,
   "id": "39459eaf",
   "metadata": {},
   "outputs": [],
   "source": [
    "# +1 day to `Actual Arrival Time` if `Actual Arrival Time` < `Departure Time`\n",
    "df['Actual Arrival Time'] = np.where(\n",
    "    ~df['Actual Arrival Time'].isnull() & (df['Actual Arrival Time'] < df['Departure Time']),\n",
    "    df['Actual Arrival Time'] + pd.Timedelta(days=1),\n",
    "    df['Actual Arrival Time']\n",
    ")"
   ]
  },
  {
   "cell_type": "code",
   "execution_count": 1766,
   "id": "b9cb43ee",
   "metadata": {},
   "outputs": [
    {
     "data": {
      "text/plain": [
       "Transaction ID         string[python]\n",
       "Date of Purchase       datetime64[ns]\n",
       "Time of Purchase               object\n",
       "Purchase Type                category\n",
       "Payment Method               category\n",
       "Railcard                     category\n",
       "Ticket Class                 category\n",
       "Ticket Type                  category\n",
       "Price                           int64\n",
       "Departure Station      string[python]\n",
       "Arrival Destination    string[python]\n",
       "Date of Journey        datetime64[ns]\n",
       "Departure Time         datetime64[ns]\n",
       "Arrival Time           datetime64[ns]\n",
       "Actual Arrival Time    datetime64[ns]\n",
       "Journey Status               category\n",
       "Reason for Delay             category\n",
       "Refund Request                   bool\n",
       "dtype: object"
      ]
     },
     "execution_count": 1766,
     "metadata": {},
     "output_type": "execute_result"
    }
   ],
   "source": [
    "df.dtypes"
   ]
  },
  {
   "cell_type": "code",
   "execution_count": 1767,
   "id": "2aaa0ff1",
   "metadata": {},
   "outputs": [
    {
     "data": {
      "text/plain": [
       "Transaction ID             0\n",
       "Date of Purchase           0\n",
       "Time of Purchase           0\n",
       "Purchase Type              0\n",
       "Payment Method             0\n",
       "Railcard               20918\n",
       "Ticket Class               0\n",
       "Ticket Type                0\n",
       "Price                      0\n",
       "Departure Station          0\n",
       "Arrival Destination        0\n",
       "Date of Journey            0\n",
       "Departure Time             0\n",
       "Arrival Time               0\n",
       "Actual Arrival Time     1880\n",
       "Journey Status             0\n",
       "Reason for Delay       27481\n",
       "Refund Request             0\n",
       "dtype: int64"
      ]
     },
     "execution_count": 1767,
     "metadata": {},
     "output_type": "execute_result"
    }
   ],
   "source": [
    "df.isnull().sum()"
   ]
  },
  {
   "cell_type": "markdown",
   "id": "4a6f3e4d",
   "metadata": {},
   "source": [
    "20918 , 1880, 27481 null values were detected in the `Railcard`, `Actual Arrival Time`, `Reason for Delay` columns respectively."
   ]
  },
  {
   "cell_type": "code",
   "execution_count": 1768,
   "id": "7fc2ad03",
   "metadata": {},
   "outputs": [
    {
     "data": {
      "text/plain": [
       "Journey Status\n",
       "Cancelled    1880\n",
       "Delayed         0\n",
       "On Time         0\n",
       "Name: count, dtype: int64"
      ]
     },
     "execution_count": 1768,
     "metadata": {},
     "output_type": "execute_result"
    }
   ],
   "source": [
    "df[df['Actual Arrival Time'].isnull()]['Journey Status'].value_counts()"
   ]
  },
  {
   "cell_type": "code",
   "execution_count": 1769,
   "id": "853a9896",
   "metadata": {},
   "outputs": [
    {
     "data": {
      "text/plain": [
       "Journey Status\n",
       "On Time      27481\n",
       "Cancelled        0\n",
       "Delayed          0\n",
       "Name: count, dtype: int64"
      ]
     },
     "execution_count": 1769,
     "metadata": {},
     "output_type": "execute_result"
    }
   ],
   "source": [
    "df[df['Reason for Delay'].isnull()]['Journey Status'].value_counts()"
   ]
  },
  {
   "cell_type": "markdown",
   "id": "0a034004",
   "metadata": {},
   "source": [
    "For the `Railcard` column, let's assume there are 4 types of card - Youth, Adult, Disabled and Senior. Null values will be replaced with `Youth`."
   ]
  },
  {
   "cell_type": "code",
   "execution_count": 1770,
   "id": "360a15a8",
   "metadata": {},
   "outputs": [
    {
     "data": {
      "text/plain": [
       "Railcard\n",
       "Youth       20918\n",
       "Adult        4846\n",
       "Disabled     3089\n",
       "Senior       2800\n",
       "Name: count, dtype: int64"
      ]
     },
     "execution_count": 1770,
     "metadata": {},
     "output_type": "execute_result"
    }
   ],
   "source": [
    "df['Railcard'] = df['Railcard'].cat.add_categories('Youth')\n",
    "df['Railcard'] = df['Railcard'].fillna('Youth')\n",
    "df['Railcard'].value_counts()"
   ]
  },
  {
   "cell_type": "markdown",
   "id": "f379705f",
   "metadata": {},
   "source": [
    "All null values in the `Actual Arrival Time` column are due to cancellations. These null values will be replaced with `Departure Time`."
   ]
  },
  {
   "cell_type": "code",
   "execution_count": 1771,
   "id": "4c07b780",
   "metadata": {},
   "outputs": [
    {
     "data": {
      "text/plain": [
       "np.int64(0)"
      ]
     },
     "execution_count": 1771,
     "metadata": {},
     "output_type": "execute_result"
    }
   ],
   "source": [
    "df['Actual Arrival Time'] = df['Actual Arrival Time'].fillna(df['Departure Time'])\n",
    "df['Actual Arrival Time'].isnull().sum()"
   ]
  },
  {
   "cell_type": "markdown",
   "id": "404db8a9",
   "metadata": {},
   "source": [
    " Similarly, null values in the `Reason for Delay` column occur only when the `Journey Status` is `On Time`. These will be replaced with `Not Delayed`."
   ]
  },
  {
   "cell_type": "code",
   "execution_count": 1772,
   "id": "9b9329c0",
   "metadata": {},
   "outputs": [
    {
     "data": {
      "text/plain": [
       "np.int64(0)"
      ]
     },
     "execution_count": 1772,
     "metadata": {},
     "output_type": "execute_result"
    }
   ],
   "source": [
    "df['Reason for Delay'] = df['Reason for Delay'].cat.add_categories(\n",
    "    'Not Delayed')\n",
    "df['Reason for Delay'] = df['Reason for Delay'].fillna('Not Delayed')\n",
    "df['Reason for Delay'].isnull().sum()"
   ]
  },
  {
   "cell_type": "code",
   "execution_count": 1773,
   "id": "e86a89b8",
   "metadata": {},
   "outputs": [
    {
     "data": {
      "text/plain": [
       "Transaction ID         0\n",
       "Date of Purchase       0\n",
       "Time of Purchase       0\n",
       "Purchase Type          0\n",
       "Payment Method         0\n",
       "Railcard               0\n",
       "Ticket Class           0\n",
       "Ticket Type            0\n",
       "Price                  0\n",
       "Departure Station      0\n",
       "Arrival Destination    0\n",
       "Date of Journey        0\n",
       "Departure Time         0\n",
       "Arrival Time           0\n",
       "Actual Arrival Time    0\n",
       "Journey Status         0\n",
       "Reason for Delay       0\n",
       "Refund Request         0\n",
       "dtype: int64"
      ]
     },
     "execution_count": 1773,
     "metadata": {},
     "output_type": "execute_result"
    }
   ],
   "source": [
    "df.isnull().sum()"
   ]
  },
  {
   "cell_type": "markdown",
   "id": "06fdc9dd",
   "metadata": {},
   "source": [
    "## 3. Feature Engineering <a class=\"anchor\" id=\"feature_engineering\"></a>\n",
    "- Normalise or standardise numerical variables if necessary for further analysis / modelling.\n",
    "- Encode categorical variables if necessary.\n",
    "- Create new features from existing ones.\n",
    "\n",
    "In this analysis, there is no need of normalising, standarsing numerical variables or encoding categorical variables as creating machine learning models is not a part of this project. Instead, a couple of new features will be created: `Days Before Depature`, `Travel Time`, and `Delayed Time`.\n",
    "\n",
    "\n",
    "**Days Before Departure**\n",
    "- Number of days in advance passengers purchased their tickets before departure, calculated as the difference between `Date of Purchase` and `Date of Journey`.\n",
    "\n",
    "**Travel Time**\n",
    "- Total travel time in minutes, calculated as the difference between `Departure Time` and `Actual Arrival Time`.\n",
    "\n",
    "**Delayed Time**\n",
    "\n",
    "- Delay duration in minutes for delayed trains, calculated as the difference between `Arrival Time` and `Actual Arrival Time`."
   ]
  },
  {
   "cell_type": "code",
   "execution_count": 1785,
   "id": "2eacd86f",
   "metadata": {},
   "outputs": [],
   "source": [
    "# Create `Days Before Departure`\n",
    "df['Days Before Departure'] = (\n",
    "    df['Date of Journey'] - df['Date of Purchase']).dt.days\n",
    "\n",
    "# Create `Travel Time`\n",
    "# Convert to datetime format -> Calculate in minutes -> Handle null values and convert to int\n",
    "df['Travel Time'] = (df['Actual Arrival Time'] - df['Departure Time']).dt.total_seconds()/60\n",
    "df['Travel Time'] = df['Travel Time'].fillna(0).astype(int)\n",
    "\n",
    "# Create `Delayed Time` in minutes\n",
    "df['Delayed Time'] = np.where(df['Journey Status'] == 'Delayed', (df['Actual Arrival Time'] - df['Arrival Time']).dt.seconds/60, 0)\n",
    "df['Delayed Time'] = df['Delayed Time'].astype(int)"
   ]
  },
  {
   "cell_type": "code",
   "execution_count": 1783,
   "id": "d44f0eab",
   "metadata": {},
   "outputs": [
    {
     "data": {
      "text/html": [
       "<div>\n",
       "<style scoped>\n",
       "    .dataframe tbody tr th:only-of-type {\n",
       "        vertical-align: middle;\n",
       "    }\n",
       "\n",
       "    .dataframe tbody tr th {\n",
       "        vertical-align: top;\n",
       "    }\n",
       "\n",
       "    .dataframe thead th {\n",
       "        text-align: right;\n",
       "    }\n",
       "</style>\n",
       "<table border=\"1\" class=\"dataframe\">\n",
       "  <thead>\n",
       "    <tr style=\"text-align: right;\">\n",
       "      <th></th>\n",
       "      <th>Transaction ID</th>\n",
       "      <th>Date of Purchase</th>\n",
       "      <th>Time of Purchase</th>\n",
       "      <th>Purchase Type</th>\n",
       "      <th>Payment Method</th>\n",
       "      <th>Railcard</th>\n",
       "      <th>Ticket Class</th>\n",
       "      <th>Ticket Type</th>\n",
       "      <th>Price</th>\n",
       "      <th>Departure Station</th>\n",
       "      <th>...</th>\n",
       "      <th>Date of Journey</th>\n",
       "      <th>Departure Time</th>\n",
       "      <th>Arrival Time</th>\n",
       "      <th>Actual Arrival Time</th>\n",
       "      <th>Journey Status</th>\n",
       "      <th>Reason for Delay</th>\n",
       "      <th>Refund Request</th>\n",
       "      <th>Days Before Departure</th>\n",
       "      <th>Travel Time</th>\n",
       "      <th>Delayed Time</th>\n",
       "    </tr>\n",
       "  </thead>\n",
       "  <tbody>\n",
       "    <tr>\n",
       "      <th>0</th>\n",
       "      <td>da8a6ba8-b3dc-4677-b176</td>\n",
       "      <td>2023-12-08</td>\n",
       "      <td>12:41:11</td>\n",
       "      <td>Online</td>\n",
       "      <td>Contactless</td>\n",
       "      <td>Adult</td>\n",
       "      <td>Standard</td>\n",
       "      <td>Advance</td>\n",
       "      <td>43</td>\n",
       "      <td>London Paddington</td>\n",
       "      <td>...</td>\n",
       "      <td>2024-01-01</td>\n",
       "      <td>2024-01-01 11:00:00</td>\n",
       "      <td>2024-01-01 13:30:00</td>\n",
       "      <td>2024-01-01 13:30:00</td>\n",
       "      <td>On Time</td>\n",
       "      <td>Not Delayed</td>\n",
       "      <td>False</td>\n",
       "      <td>24</td>\n",
       "      <td>150</td>\n",
       "      <td>0</td>\n",
       "    </tr>\n",
       "    <tr>\n",
       "      <th>1</th>\n",
       "      <td>b0cdd1b0-f214-4197-be53</td>\n",
       "      <td>2023-12-16</td>\n",
       "      <td>11:23:01</td>\n",
       "      <td>Station</td>\n",
       "      <td>Credit Card</td>\n",
       "      <td>Adult</td>\n",
       "      <td>Standard</td>\n",
       "      <td>Advance</td>\n",
       "      <td>23</td>\n",
       "      <td>London Kings Cross</td>\n",
       "      <td>...</td>\n",
       "      <td>2024-01-01</td>\n",
       "      <td>2024-01-01 09:45:00</td>\n",
       "      <td>2024-01-01 11:35:00</td>\n",
       "      <td>2024-01-01 11:40:00</td>\n",
       "      <td>Delayed</td>\n",
       "      <td>Signal Failure</td>\n",
       "      <td>False</td>\n",
       "      <td>16</td>\n",
       "      <td>115</td>\n",
       "      <td>5</td>\n",
       "    </tr>\n",
       "    <tr>\n",
       "      <th>2</th>\n",
       "      <td>f3ba7a96-f713-40d9-9629</td>\n",
       "      <td>2023-12-19</td>\n",
       "      <td>19:51:27</td>\n",
       "      <td>Online</td>\n",
       "      <td>Credit Card</td>\n",
       "      <td>Youth</td>\n",
       "      <td>Standard</td>\n",
       "      <td>Advance</td>\n",
       "      <td>3</td>\n",
       "      <td>Liverpool Lime Street</td>\n",
       "      <td>...</td>\n",
       "      <td>2024-01-02</td>\n",
       "      <td>2024-01-02 18:15:00</td>\n",
       "      <td>2024-01-02 18:45:00</td>\n",
       "      <td>2024-01-02 18:45:00</td>\n",
       "      <td>On Time</td>\n",
       "      <td>Not Delayed</td>\n",
       "      <td>False</td>\n",
       "      <td>14</td>\n",
       "      <td>30</td>\n",
       "      <td>0</td>\n",
       "    </tr>\n",
       "    <tr>\n",
       "      <th>3</th>\n",
       "      <td>b2471f11-4fe7-4c87-8ab4</td>\n",
       "      <td>2023-12-20</td>\n",
       "      <td>23:00:36</td>\n",
       "      <td>Station</td>\n",
       "      <td>Credit Card</td>\n",
       "      <td>Youth</td>\n",
       "      <td>Standard</td>\n",
       "      <td>Advance</td>\n",
       "      <td>13</td>\n",
       "      <td>London Paddington</td>\n",
       "      <td>...</td>\n",
       "      <td>2024-01-01</td>\n",
       "      <td>2024-01-01 21:30:00</td>\n",
       "      <td>2024-01-01 22:30:00</td>\n",
       "      <td>2024-01-01 22:30:00</td>\n",
       "      <td>On Time</td>\n",
       "      <td>Not Delayed</td>\n",
       "      <td>False</td>\n",
       "      <td>12</td>\n",
       "      <td>60</td>\n",
       "      <td>0</td>\n",
       "    </tr>\n",
       "    <tr>\n",
       "      <th>4</th>\n",
       "      <td>2be00b45-0762-485e-a7a3</td>\n",
       "      <td>2023-12-27</td>\n",
       "      <td>18:22:56</td>\n",
       "      <td>Online</td>\n",
       "      <td>Contactless</td>\n",
       "      <td>Youth</td>\n",
       "      <td>Standard</td>\n",
       "      <td>Advance</td>\n",
       "      <td>76</td>\n",
       "      <td>Liverpool Lime Street</td>\n",
       "      <td>...</td>\n",
       "      <td>2024-01-01</td>\n",
       "      <td>2024-01-01 16:45:00</td>\n",
       "      <td>2024-01-01 19:00:00</td>\n",
       "      <td>2024-01-01 19:00:00</td>\n",
       "      <td>On Time</td>\n",
       "      <td>Not Delayed</td>\n",
       "      <td>False</td>\n",
       "      <td>5</td>\n",
       "      <td>135</td>\n",
       "      <td>0</td>\n",
       "    </tr>\n",
       "  </tbody>\n",
       "</table>\n",
       "<p>5 rows × 21 columns</p>\n",
       "</div>"
      ],
      "text/plain": [
       "            Transaction ID Date of Purchase Time of Purchase Purchase Type  \\\n",
       "0  da8a6ba8-b3dc-4677-b176       2023-12-08         12:41:11        Online   \n",
       "1  b0cdd1b0-f214-4197-be53       2023-12-16         11:23:01       Station   \n",
       "2  f3ba7a96-f713-40d9-9629       2023-12-19         19:51:27        Online   \n",
       "3  b2471f11-4fe7-4c87-8ab4       2023-12-20         23:00:36       Station   \n",
       "4  2be00b45-0762-485e-a7a3       2023-12-27         18:22:56        Online   \n",
       "\n",
       "  Payment Method Railcard Ticket Class Ticket Type  Price  \\\n",
       "0    Contactless    Adult     Standard     Advance     43   \n",
       "1    Credit Card    Adult     Standard     Advance     23   \n",
       "2    Credit Card    Youth     Standard     Advance      3   \n",
       "3    Credit Card    Youth     Standard     Advance     13   \n",
       "4    Contactless    Youth     Standard     Advance     76   \n",
       "\n",
       "       Departure Station  ... Date of Journey      Departure Time  \\\n",
       "0      London Paddington  ...      2024-01-01 2024-01-01 11:00:00   \n",
       "1     London Kings Cross  ...      2024-01-01 2024-01-01 09:45:00   \n",
       "2  Liverpool Lime Street  ...      2024-01-02 2024-01-02 18:15:00   \n",
       "3      London Paddington  ...      2024-01-01 2024-01-01 21:30:00   \n",
       "4  Liverpool Lime Street  ...      2024-01-01 2024-01-01 16:45:00   \n",
       "\n",
       "         Arrival Time Actual Arrival Time Journey Status Reason for Delay  \\\n",
       "0 2024-01-01 13:30:00 2024-01-01 13:30:00        On Time      Not Delayed   \n",
       "1 2024-01-01 11:35:00 2024-01-01 11:40:00        Delayed   Signal Failure   \n",
       "2 2024-01-02 18:45:00 2024-01-02 18:45:00        On Time      Not Delayed   \n",
       "3 2024-01-01 22:30:00 2024-01-01 22:30:00        On Time      Not Delayed   \n",
       "4 2024-01-01 19:00:00 2024-01-01 19:00:00        On Time      Not Delayed   \n",
       "\n",
       "  Refund Request  Days Before Departure  Travel Time  Delayed Time  \n",
       "0          False                     24          150             0  \n",
       "1          False                     16          115             5  \n",
       "2          False                     14           30             0  \n",
       "3          False                     12           60             0  \n",
       "4          False                      5          135             0  \n",
       "\n",
       "[5 rows x 21 columns]"
      ]
     },
     "execution_count": 1783,
     "metadata": {},
     "output_type": "execute_result"
    }
   ],
   "source": [
    "df.head()"
   ]
  },
  {
   "cell_type": "markdown",
   "id": "20178083",
   "metadata": {},
   "source": [
    "## 4. Univariate Analysis <a class=\"anchor\" id=\"univariate_analysis\"></a>\n",
    "- Analyse each variable separately in the dataset.\n",
    "- Use descriptive statistics.\n",
    "- Calculate range, mean, median, mode, quartiles, etc.\n",
    "- Visualise with matplotlib and seaborn.\n",
    "\n"
   ]
  },
  {
   "cell_type": "code",
   "execution_count": 1788,
   "id": "e90a4b0a",
   "metadata": {},
   "outputs": [
    {
     "data": {
      "text/html": [
       "<div>\n",
       "<style scoped>\n",
       "    .dataframe tbody tr th:only-of-type {\n",
       "        vertical-align: middle;\n",
       "    }\n",
       "\n",
       "    .dataframe tbody tr th {\n",
       "        vertical-align: top;\n",
       "    }\n",
       "\n",
       "    .dataframe thead th {\n",
       "        text-align: right;\n",
       "    }\n",
       "</style>\n",
       "<table border=\"1\" class=\"dataframe\">\n",
       "  <thead>\n",
       "    <tr style=\"text-align: right;\">\n",
       "      <th></th>\n",
       "      <th>Date of Purchase</th>\n",
       "      <th>Price</th>\n",
       "      <th>Date of Journey</th>\n",
       "      <th>Departure Time</th>\n",
       "      <th>Arrival Time</th>\n",
       "      <th>Actual Arrival Time</th>\n",
       "      <th>Days Before Departure</th>\n",
       "      <th>Travel Time</th>\n",
       "      <th>Delayed Time</th>\n",
       "    </tr>\n",
       "  </thead>\n",
       "  <tbody>\n",
       "    <tr>\n",
       "      <th>count</th>\n",
       "      <td>31653</td>\n",
       "      <td>31653.000000</td>\n",
       "      <td>31653</td>\n",
       "      <td>31653</td>\n",
       "      <td>31653</td>\n",
       "      <td>31653</td>\n",
       "      <td>31653.000000</td>\n",
       "      <td>31653.000000</td>\n",
       "      <td>31653.000000</td>\n",
       "    </tr>\n",
       "    <tr>\n",
       "      <th>mean</th>\n",
       "      <td>2024-02-28 16:16:36.303667968</td>\n",
       "      <td>23.439200</td>\n",
       "      <td>2024-03-01 08:01:10.969576192</td>\n",
       "      <td>2024-03-01 20:03:02.826272256</td>\n",
       "      <td>2024-03-01 21:14:12.080371456</td>\n",
       "      <td>2024-03-01 21:13:00.851104256</td>\n",
       "      <td>1.655957</td>\n",
       "      <td>69.967081</td>\n",
       "      <td>3.056677</td>\n",
       "    </tr>\n",
       "    <tr>\n",
       "      <th>min</th>\n",
       "      <td>2023-12-08 00:00:00</td>\n",
       "      <td>1.000000</td>\n",
       "      <td>2024-01-01 00:00:00</td>\n",
       "      <td>2024-01-01 00:00:00</td>\n",
       "      <td>2024-01-01 00:30:00</td>\n",
       "      <td>2024-01-01 00:30:00</td>\n",
       "      <td>0.000000</td>\n",
       "      <td>0.000000</td>\n",
       "      <td>0.000000</td>\n",
       "    </tr>\n",
       "    <tr>\n",
       "      <th>25%</th>\n",
       "      <td>2024-01-30 00:00:00</td>\n",
       "      <td>5.000000</td>\n",
       "      <td>2024-01-31 00:00:00</td>\n",
       "      <td>2024-01-31 08:00:00</td>\n",
       "      <td>2024-01-31 09:20:00</td>\n",
       "      <td>2024-01-31 09:20:00</td>\n",
       "      <td>0.000000</td>\n",
       "      <td>30.000000</td>\n",
       "      <td>0.000000</td>\n",
       "    </tr>\n",
       "    <tr>\n",
       "      <th>50%</th>\n",
       "      <td>2024-03-01 00:00:00</td>\n",
       "      <td>11.000000</td>\n",
       "      <td>2024-03-01 00:00:00</td>\n",
       "      <td>2024-03-01 22:15:00</td>\n",
       "      <td>2024-03-02 00:05:00</td>\n",
       "      <td>2024-03-02 00:05:00</td>\n",
       "      <td>1.000000</td>\n",
       "      <td>80.000000</td>\n",
       "      <td>0.000000</td>\n",
       "    </tr>\n",
       "    <tr>\n",
       "      <th>75%</th>\n",
       "      <td>2024-03-31 00:00:00</td>\n",
       "      <td>35.000000</td>\n",
       "      <td>2024-03-31 00:00:00</td>\n",
       "      <td>2024-03-31 13:15:00</td>\n",
       "      <td>2024-03-31 14:20:00</td>\n",
       "      <td>2024-03-31 14:20:00</td>\n",
       "      <td>1.000000</td>\n",
       "      <td>90.000000</td>\n",
       "      <td>0.000000</td>\n",
       "    </tr>\n",
       "    <tr>\n",
       "      <th>max</th>\n",
       "      <td>2024-04-30 00:00:00</td>\n",
       "      <td>267.000000</td>\n",
       "      <td>2024-04-30 00:00:00</td>\n",
       "      <td>2024-04-30 23:45:00</td>\n",
       "      <td>2024-05-01 01:45:00</td>\n",
       "      <td>2024-05-01 01:45:00</td>\n",
       "      <td>28.000000</td>\n",
       "      <td>288.000000</td>\n",
       "      <td>180.000000</td>\n",
       "    </tr>\n",
       "    <tr>\n",
       "      <th>std</th>\n",
       "      <td>NaN</td>\n",
       "      <td>29.997628</td>\n",
       "      <td>NaN</td>\n",
       "      <td>NaN</td>\n",
       "      <td>NaN</td>\n",
       "      <td>NaN</td>\n",
       "      <td>3.853255</td>\n",
       "      <td>42.789410</td>\n",
       "      <td>14.345747</td>\n",
       "    </tr>\n",
       "  </tbody>\n",
       "</table>\n",
       "</div>"
      ],
      "text/plain": [
       "                    Date of Purchase         Price  \\\n",
       "count                          31653  31653.000000   \n",
       "mean   2024-02-28 16:16:36.303667968     23.439200   \n",
       "min              2023-12-08 00:00:00      1.000000   \n",
       "25%              2024-01-30 00:00:00      5.000000   \n",
       "50%              2024-03-01 00:00:00     11.000000   \n",
       "75%              2024-03-31 00:00:00     35.000000   \n",
       "max              2024-04-30 00:00:00    267.000000   \n",
       "std                              NaN     29.997628   \n",
       "\n",
       "                     Date of Journey                 Departure Time  \\\n",
       "count                          31653                          31653   \n",
       "mean   2024-03-01 08:01:10.969576192  2024-03-01 20:03:02.826272256   \n",
       "min              2024-01-01 00:00:00            2024-01-01 00:00:00   \n",
       "25%              2024-01-31 00:00:00            2024-01-31 08:00:00   \n",
       "50%              2024-03-01 00:00:00            2024-03-01 22:15:00   \n",
       "75%              2024-03-31 00:00:00            2024-03-31 13:15:00   \n",
       "max              2024-04-30 00:00:00            2024-04-30 23:45:00   \n",
       "std                              NaN                            NaN   \n",
       "\n",
       "                        Arrival Time            Actual Arrival Time  \\\n",
       "count                          31653                          31653   \n",
       "mean   2024-03-01 21:14:12.080371456  2024-03-01 21:13:00.851104256   \n",
       "min              2024-01-01 00:30:00            2024-01-01 00:30:00   \n",
       "25%              2024-01-31 09:20:00            2024-01-31 09:20:00   \n",
       "50%              2024-03-02 00:05:00            2024-03-02 00:05:00   \n",
       "75%              2024-03-31 14:20:00            2024-03-31 14:20:00   \n",
       "max              2024-05-01 01:45:00            2024-05-01 01:45:00   \n",
       "std                              NaN                            NaN   \n",
       "\n",
       "       Days Before Departure   Travel Time  Delayed Time  \n",
       "count           31653.000000  31653.000000  31653.000000  \n",
       "mean                1.655957     69.967081      3.056677  \n",
       "min                 0.000000      0.000000      0.000000  \n",
       "25%                 0.000000     30.000000      0.000000  \n",
       "50%                 1.000000     80.000000      0.000000  \n",
       "75%                 1.000000     90.000000      0.000000  \n",
       "max                28.000000    288.000000    180.000000  \n",
       "std                 3.853255     42.789410     14.345747  "
      ]
     },
     "execution_count": 1788,
     "metadata": {},
     "output_type": "execute_result"
    }
   ],
   "source": [
    "df.describe()"
   ]
  },
  {
   "cell_type": "code",
   "execution_count": null,
   "id": "ad85c11c",
   "metadata": {},
   "outputs": [],
   "source": []
  }
 ],
 "metadata": {
  "kernelspec": {
   "display_name": "venv",
   "language": "python",
   "name": "python3"
  },
  "language_info": {
   "codemirror_mode": {
    "name": "ipython",
    "version": 3
   },
   "file_extension": ".py",
   "mimetype": "text/x-python",
   "name": "python",
   "nbconvert_exporter": "python",
   "pygments_lexer": "ipython3",
   "version": "3.11.0"
  }
 },
 "nbformat": 4,
 "nbformat_minor": 5
}
