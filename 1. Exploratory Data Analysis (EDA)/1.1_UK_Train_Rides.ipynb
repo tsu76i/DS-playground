{
 "cells": [
  {
   "cell_type": "markdown",
   "id": "a3647116",
   "metadata": {},
   "source": [
    "# Exploratory Data Analysis (EDA)\n",
    "***"
   ]
  },
  {
   "cell_type": "markdown",
   "id": "e44e7a70",
   "metadata": {},
   "source": [
    "Raw data(railway.csv) extracted from [Maven Analytics - Playground](https://mavenanalytics.io/data-playground)\n",
    "\n",
    "## UK Train Rides\n",
    "Mock train ticket data for National Rail in the UK, from Jan to Apr 2024, including details on the type of ticket, the date & time for each journey, the departure & arrival stations, the ticket price, and more.\n",
    "\n",
    "**Transaction ID**\n",
    "\n",
    "- Unique identifier for an individual train ticket purchase\n",
    "\n",
    "**Date of Purchase**\n",
    "\n",
    "- Date the ticket was purchased\n",
    "\n",
    "**Time of Purchase**\n",
    "\n",
    "- Time the ticket was purchased\n",
    "\n",
    "\n",
    "**Purchase Type**\n",
    "\n",
    "- Whether the ticket was purchased online or directly at a train station\n",
    "\n",
    "**Payment Method**\n",
    "\n",
    "- Payment method used to purchase the ticket (Contactles Credit Card or Debit Card)\n",
    "\n",
    "**Railcard**\n",
    "\n",
    "- Whether the passenger is a National Railcard holder (Adult Senior or Disabled) or not (None). Railcard holders get 1/3 off their ticket purchases.\n",
    "\n",
    "**Ticket Class**\n",
    "\n",
    "- Seat class for the ticket (Standard or First)\n",
    "\n",
    "**Ticket Type**\n",
    "\n",
    "- When you bought or can use the ticket. Advance tickets are 1/2 off and must be purchased at least a day prior to departure. Off-Peak tickets are 1/4 off and must be used outside of peak hours (weekdays between 6-8am and 4-6pm). Anytime tickets are full price and can be bought and used at any time during the day.\n",
    "\n",
    "**Price**\n",
    "\n",
    "- Final cost of the ticket\n",
    "\n",
    "**Departure Station**\n",
    "\n",
    "- Station to board the train\n",
    "\n",
    "***\n"
   ]
  },
  {
   "cell_type": "code",
   "execution_count": 1,
   "id": "086316a2",
   "metadata": {},
   "outputs": [],
   "source": [
    "import numpy as np\n",
    "import pandas as pd\n",
    "import seaborn as sns\n",
    "import matplotlib.pyplot as plt"
   ]
  },
  {
   "cell_type": "code",
   "execution_count": null,
   "id": "9db4a3a3",
   "metadata": {},
   "outputs": [],
   "source": []
  }
 ],
 "metadata": {
  "kernelspec": {
   "display_name": "venv",
   "language": "python",
   "name": "python3"
  },
  "language_info": {
   "name": "python",
   "version": "3.11.0"
  }
 },
 "nbformat": 4,
 "nbformat_minor": 5
}
